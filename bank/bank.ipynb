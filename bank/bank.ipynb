{
 "cells": [
  {
   "cell_type": "markdown",
   "metadata": {},
   "source": [
    "# Исследование надёжности заёмщиков — анализ банковских данных\n",
    "\n",
    "Заказчик — кредитный отдел банка. Нужно разобраться, влияет ли семейное положение и количество детей клиента на факт погашения кредита в срок. Входные данные от банка — статистика о платёжеспособности клиентов.\n",
    "\n",
    "Результаты исследования будут учтены при построении модели **кредитного скоринга** — специальной системы, которая оценивает способность потенциального заёмщика вернуть кредит банку.\n",
    "\n",
    "**Цель проекта:** исследовать влияние семейного положения и количества детей клиента на факт погашения кредита в срок.\n",
    "\n",
    "**Исходные данные** предоставлены в виде файла *data.csv*, содержащего статистику о платёжеспособности клиентов.\n",
    "\n",
    "**Краткий план работы:** исследовать исходные данные; провести предобработку данных; решить задачи исследования; сделать выводы."
   ]
  },
  {
   "cell_type": "markdown",
   "metadata": {},
   "source": [
    "1. [Шаг 1. Откройте файл с данными и изучите общую информацию](#start)\n",
    "    * [Чтение файла и общая информация](#read)\n",
    "    * [Оценка качества данных](#quality)\n",
    "2. [Шаг 2. Предобработка данных](#preprocessing)\n",
    "    * [Обработка пропусков](#space)\n",
    "    * [Замена типов данных](#type)\n",
    "    * [Обработка дубликатов](#duplicates)\n",
    "        * [Дубликаты в столбце education](#education)\n",
    "        * [Дубликаты в исходной таблице](#maindf)\n",
    "    * [Лемматизация](#lemmas)\n",
    "    * [Категоризация данных](#categories)\n",
    "        * [Категоризация целей запрашиваемых кредитов](#purposes)\n",
    "        * [Категоризация дохода](#income)\n",
    "3. [Шаг 3. Ответьте на вопросы](#answers)\n",
    "4. [Шаг 4. Общий вывод](#conclusion)\n",
    "5. [Чек-лист готовности проекта](#checklist)"
   ]
  },
  {
   "cell_type": "markdown",
   "metadata": {},
   "source": [
    "<a id=\"start\"></a>\n",
    "## Шаг 1. Откройте файл с данными и изучите общую информацию"
   ]
  },
  {
   "cell_type": "markdown",
   "metadata": {},
   "source": [
    "<a id='read'></a>\n",
    "### Чтение файла и общая информация"
   ]
  },
  {
   "cell_type": "markdown",
   "metadata": {},
   "source": [
    "Импортируем библиотеку для работы с таблицами, библиотеку для работы с математическими функциями, функцию для последующей работы с лемматизацией и функцию для подсчета словарных форм."
   ]
  },
  {
   "cell_type": "code",
   "execution_count": 1,
   "metadata": {},
   "outputs": [],
   "source": [
    "import pandas as pd"
   ]
  },
  {
   "cell_type": "code",
   "execution_count": 2,
   "metadata": {},
   "outputs": [],
   "source": [
    "import numpy as np"
   ]
  },
  {
   "cell_type": "code",
   "execution_count": 3,
   "metadata": {},
   "outputs": [],
   "source": [
    "from pymystem3 import Mystem\n",
    "m = Mystem()"
   ]
  },
  {
   "cell_type": "code",
   "execution_count": 4,
   "metadata": {},
   "outputs": [],
   "source": [
    "from collections import Counter"
   ]
  },
  {
   "cell_type": "markdown",
   "metadata": {},
   "source": [
    "Открываем файл."
   ]
  },
  {
   "cell_type": "code",
   "execution_count": 5,
   "metadata": {},
   "outputs": [],
   "source": [
    "data = pd.read_csv('/datasets/data.csv')"
   ]
  },
  {
   "cell_type": "markdown",
   "metadata": {},
   "source": [
    "Изучим общую информацию о данных в датафрейме. Выведем первые 5 строк таблицы, чтобы увидеть ее содержание."
   ]
  },
  {
   "cell_type": "code",
   "execution_count": 6,
   "metadata": {
    "scrolled": true
   },
   "outputs": [
    {
     "data": {
      "text/html": [
       "<div>\n",
       "<style scoped>\n",
       "    .dataframe tbody tr th:only-of-type {\n",
       "        vertical-align: middle;\n",
       "    }\n",
       "\n",
       "    .dataframe tbody tr th {\n",
       "        vertical-align: top;\n",
       "    }\n",
       "\n",
       "    .dataframe thead th {\n",
       "        text-align: right;\n",
       "    }\n",
       "</style>\n",
       "<table border=\"1\" class=\"dataframe\">\n",
       "  <thead>\n",
       "    <tr style=\"text-align: right;\">\n",
       "      <th></th>\n",
       "      <th>children</th>\n",
       "      <th>days_employed</th>\n",
       "      <th>dob_years</th>\n",
       "      <th>education</th>\n",
       "      <th>education_id</th>\n",
       "      <th>family_status</th>\n",
       "      <th>family_status_id</th>\n",
       "      <th>gender</th>\n",
       "      <th>income_type</th>\n",
       "      <th>debt</th>\n",
       "      <th>total_income</th>\n",
       "      <th>purpose</th>\n",
       "    </tr>\n",
       "  </thead>\n",
       "  <tbody>\n",
       "    <tr>\n",
       "      <td>0</td>\n",
       "      <td>1</td>\n",
       "      <td>-8437.673028</td>\n",
       "      <td>42</td>\n",
       "      <td>высшее</td>\n",
       "      <td>0</td>\n",
       "      <td>женат / замужем</td>\n",
       "      <td>0</td>\n",
       "      <td>F</td>\n",
       "      <td>сотрудник</td>\n",
       "      <td>0</td>\n",
       "      <td>253875.639453</td>\n",
       "      <td>покупка жилья</td>\n",
       "    </tr>\n",
       "    <tr>\n",
       "      <td>1</td>\n",
       "      <td>1</td>\n",
       "      <td>-4024.803754</td>\n",
       "      <td>36</td>\n",
       "      <td>среднее</td>\n",
       "      <td>1</td>\n",
       "      <td>женат / замужем</td>\n",
       "      <td>0</td>\n",
       "      <td>F</td>\n",
       "      <td>сотрудник</td>\n",
       "      <td>0</td>\n",
       "      <td>112080.014102</td>\n",
       "      <td>приобретение автомобиля</td>\n",
       "    </tr>\n",
       "    <tr>\n",
       "      <td>2</td>\n",
       "      <td>0</td>\n",
       "      <td>-5623.422610</td>\n",
       "      <td>33</td>\n",
       "      <td>Среднее</td>\n",
       "      <td>1</td>\n",
       "      <td>женат / замужем</td>\n",
       "      <td>0</td>\n",
       "      <td>M</td>\n",
       "      <td>сотрудник</td>\n",
       "      <td>0</td>\n",
       "      <td>145885.952297</td>\n",
       "      <td>покупка жилья</td>\n",
       "    </tr>\n",
       "    <tr>\n",
       "      <td>3</td>\n",
       "      <td>3</td>\n",
       "      <td>-4124.747207</td>\n",
       "      <td>32</td>\n",
       "      <td>среднее</td>\n",
       "      <td>1</td>\n",
       "      <td>женат / замужем</td>\n",
       "      <td>0</td>\n",
       "      <td>M</td>\n",
       "      <td>сотрудник</td>\n",
       "      <td>0</td>\n",
       "      <td>267628.550329</td>\n",
       "      <td>дополнительное образование</td>\n",
       "    </tr>\n",
       "    <tr>\n",
       "      <td>4</td>\n",
       "      <td>0</td>\n",
       "      <td>340266.072047</td>\n",
       "      <td>53</td>\n",
       "      <td>среднее</td>\n",
       "      <td>1</td>\n",
       "      <td>гражданский брак</td>\n",
       "      <td>1</td>\n",
       "      <td>F</td>\n",
       "      <td>пенсионер</td>\n",
       "      <td>0</td>\n",
       "      <td>158616.077870</td>\n",
       "      <td>сыграть свадьбу</td>\n",
       "    </tr>\n",
       "  </tbody>\n",
       "</table>\n",
       "</div>"
      ],
      "text/plain": [
       "   children  days_employed  dob_years education  education_id  \\\n",
       "0         1   -8437.673028         42    высшее             0   \n",
       "1         1   -4024.803754         36   среднее             1   \n",
       "2         0   -5623.422610         33   Среднее             1   \n",
       "3         3   -4124.747207         32   среднее             1   \n",
       "4         0  340266.072047         53   среднее             1   \n",
       "\n",
       "      family_status  family_status_id gender income_type  debt   total_income  \\\n",
       "0   женат / замужем                 0      F   сотрудник     0  253875.639453   \n",
       "1   женат / замужем                 0      F   сотрудник     0  112080.014102   \n",
       "2   женат / замужем                 0      M   сотрудник     0  145885.952297   \n",
       "3   женат / замужем                 0      M   сотрудник     0  267628.550329   \n",
       "4  гражданский брак                 1      F   пенсионер     0  158616.077870   \n",
       "\n",
       "                      purpose  \n",
       "0               покупка жилья  \n",
       "1     приобретение автомобиля  \n",
       "2               покупка жилья  \n",
       "3  дополнительное образование  \n",
       "4             сыграть свадьбу  "
      ]
     },
     "execution_count": 6,
     "metadata": {},
     "output_type": "execute_result"
    }
   ],
   "source": [
    "data.head(5)"
   ]
  },
  {
   "cell_type": "markdown",
   "metadata": {},
   "source": [
    "Применим также метод `sample()`, который генерируют выборку случайной строки из фрейма данных. Применим параметр *n=5*."
   ]
  },
  {
   "cell_type": "code",
   "execution_count": 7,
   "metadata": {
    "scrolled": true
   },
   "outputs": [
    {
     "data": {
      "text/html": [
       "<div>\n",
       "<style scoped>\n",
       "    .dataframe tbody tr th:only-of-type {\n",
       "        vertical-align: middle;\n",
       "    }\n",
       "\n",
       "    .dataframe tbody tr th {\n",
       "        vertical-align: top;\n",
       "    }\n",
       "\n",
       "    .dataframe thead th {\n",
       "        text-align: right;\n",
       "    }\n",
       "</style>\n",
       "<table border=\"1\" class=\"dataframe\">\n",
       "  <thead>\n",
       "    <tr style=\"text-align: right;\">\n",
       "      <th></th>\n",
       "      <th>children</th>\n",
       "      <th>days_employed</th>\n",
       "      <th>dob_years</th>\n",
       "      <th>education</th>\n",
       "      <th>education_id</th>\n",
       "      <th>family_status</th>\n",
       "      <th>family_status_id</th>\n",
       "      <th>gender</th>\n",
       "      <th>income_type</th>\n",
       "      <th>debt</th>\n",
       "      <th>total_income</th>\n",
       "      <th>purpose</th>\n",
       "    </tr>\n",
       "  </thead>\n",
       "  <tbody>\n",
       "    <tr>\n",
       "      <td>8749</td>\n",
       "      <td>1</td>\n",
       "      <td>-756.281915</td>\n",
       "      <td>38</td>\n",
       "      <td>среднее</td>\n",
       "      <td>1</td>\n",
       "      <td>женат / замужем</td>\n",
       "      <td>0</td>\n",
       "      <td>M</td>\n",
       "      <td>сотрудник</td>\n",
       "      <td>0</td>\n",
       "      <td>245258.782392</td>\n",
       "      <td>покупка недвижимости</td>\n",
       "    </tr>\n",
       "    <tr>\n",
       "      <td>1664</td>\n",
       "      <td>1</td>\n",
       "      <td>-3137.267886</td>\n",
       "      <td>46</td>\n",
       "      <td>среднее</td>\n",
       "      <td>1</td>\n",
       "      <td>женат / замужем</td>\n",
       "      <td>0</td>\n",
       "      <td>F</td>\n",
       "      <td>сотрудник</td>\n",
       "      <td>0</td>\n",
       "      <td>106806.896417</td>\n",
       "      <td>приобретение автомобиля</td>\n",
       "    </tr>\n",
       "    <tr>\n",
       "      <td>12069</td>\n",
       "      <td>2</td>\n",
       "      <td>-3486.130665</td>\n",
       "      <td>35</td>\n",
       "      <td>среднее</td>\n",
       "      <td>1</td>\n",
       "      <td>женат / замужем</td>\n",
       "      <td>0</td>\n",
       "      <td>M</td>\n",
       "      <td>сотрудник</td>\n",
       "      <td>0</td>\n",
       "      <td>146573.281878</td>\n",
       "      <td>образование</td>\n",
       "    </tr>\n",
       "    <tr>\n",
       "      <td>17956</td>\n",
       "      <td>0</td>\n",
       "      <td>-1442.909730</td>\n",
       "      <td>43</td>\n",
       "      <td>среднее</td>\n",
       "      <td>1</td>\n",
       "      <td>гражданский брак</td>\n",
       "      <td>1</td>\n",
       "      <td>F</td>\n",
       "      <td>сотрудник</td>\n",
       "      <td>0</td>\n",
       "      <td>95296.235004</td>\n",
       "      <td>сыграть свадьбу</td>\n",
       "    </tr>\n",
       "    <tr>\n",
       "      <td>20953</td>\n",
       "      <td>1</td>\n",
       "      <td>-6320.653030</td>\n",
       "      <td>35</td>\n",
       "      <td>среднее</td>\n",
       "      <td>1</td>\n",
       "      <td>женат / замужем</td>\n",
       "      <td>0</td>\n",
       "      <td>M</td>\n",
       "      <td>сотрудник</td>\n",
       "      <td>0</td>\n",
       "      <td>187064.528816</td>\n",
       "      <td>операции с жильем</td>\n",
       "    </tr>\n",
       "  </tbody>\n",
       "</table>\n",
       "</div>"
      ],
      "text/plain": [
       "       children  days_employed  dob_years education  education_id  \\\n",
       "8749          1    -756.281915         38   среднее             1   \n",
       "1664          1   -3137.267886         46   среднее             1   \n",
       "12069         2   -3486.130665         35   среднее             1   \n",
       "17956         0   -1442.909730         43   среднее             1   \n",
       "20953         1   -6320.653030         35   среднее             1   \n",
       "\n",
       "          family_status  family_status_id gender income_type  debt  \\\n",
       "8749    женат / замужем                 0      M   сотрудник     0   \n",
       "1664    женат / замужем                 0      F   сотрудник     0   \n",
       "12069   женат / замужем                 0      M   сотрудник     0   \n",
       "17956  гражданский брак                 1      F   сотрудник     0   \n",
       "20953   женат / замужем                 0      M   сотрудник     0   \n",
       "\n",
       "        total_income                  purpose  \n",
       "8749   245258.782392     покупка недвижимости  \n",
       "1664   106806.896417  приобретение автомобиля  \n",
       "12069  146573.281878              образование  \n",
       "17956   95296.235004          сыграть свадьбу  \n",
       "20953  187064.528816        операции с жильем  "
      ]
     },
     "execution_count": 7,
     "metadata": {},
     "output_type": "execute_result"
    }
   ],
   "source": [
    "data.sample(n=5)"
   ]
  },
  {
   "cell_type": "markdown",
   "metadata": {},
   "source": [
    "Применим метод `describe()` для получения описательной статистики исходного датафрейма."
   ]
  },
  {
   "cell_type": "markdown",
   "metadata": {},
   "source": [
    "<a id='describe'></a>"
   ]
  },
  {
   "cell_type": "code",
   "execution_count": 8,
   "metadata": {
    "scrolled": true
   },
   "outputs": [
    {
     "data": {
      "text/html": [
       "<div>\n",
       "<style scoped>\n",
       "    .dataframe tbody tr th:only-of-type {\n",
       "        vertical-align: middle;\n",
       "    }\n",
       "\n",
       "    .dataframe tbody tr th {\n",
       "        vertical-align: top;\n",
       "    }\n",
       "\n",
       "    .dataframe thead th {\n",
       "        text-align: right;\n",
       "    }\n",
       "</style>\n",
       "<table border=\"1\" class=\"dataframe\">\n",
       "  <thead>\n",
       "    <tr style=\"text-align: right;\">\n",
       "      <th></th>\n",
       "      <th>children</th>\n",
       "      <th>days_employed</th>\n",
       "      <th>dob_years</th>\n",
       "      <th>education_id</th>\n",
       "      <th>family_status_id</th>\n",
       "      <th>debt</th>\n",
       "      <th>total_income</th>\n",
       "    </tr>\n",
       "  </thead>\n",
       "  <tbody>\n",
       "    <tr>\n",
       "      <td>count</td>\n",
       "      <td>21525.000000</td>\n",
       "      <td>19351.000000</td>\n",
       "      <td>21525.000000</td>\n",
       "      <td>21525.000000</td>\n",
       "      <td>21525.000000</td>\n",
       "      <td>21525.000000</td>\n",
       "      <td>1.935100e+04</td>\n",
       "    </tr>\n",
       "    <tr>\n",
       "      <td>mean</td>\n",
       "      <td>0.538908</td>\n",
       "      <td>63046.497661</td>\n",
       "      <td>43.293380</td>\n",
       "      <td>0.817236</td>\n",
       "      <td>0.972544</td>\n",
       "      <td>0.080883</td>\n",
       "      <td>1.674223e+05</td>\n",
       "    </tr>\n",
       "    <tr>\n",
       "      <td>std</td>\n",
       "      <td>1.381587</td>\n",
       "      <td>140827.311974</td>\n",
       "      <td>12.574584</td>\n",
       "      <td>0.548138</td>\n",
       "      <td>1.420324</td>\n",
       "      <td>0.272661</td>\n",
       "      <td>1.029716e+05</td>\n",
       "    </tr>\n",
       "    <tr>\n",
       "      <td>min</td>\n",
       "      <td>-1.000000</td>\n",
       "      <td>-18388.949901</td>\n",
       "      <td>0.000000</td>\n",
       "      <td>0.000000</td>\n",
       "      <td>0.000000</td>\n",
       "      <td>0.000000</td>\n",
       "      <td>2.066726e+04</td>\n",
       "    </tr>\n",
       "    <tr>\n",
       "      <td>25%</td>\n",
       "      <td>0.000000</td>\n",
       "      <td>-2747.423625</td>\n",
       "      <td>33.000000</td>\n",
       "      <td>1.000000</td>\n",
       "      <td>0.000000</td>\n",
       "      <td>0.000000</td>\n",
       "      <td>1.030532e+05</td>\n",
       "    </tr>\n",
       "    <tr>\n",
       "      <td>50%</td>\n",
       "      <td>0.000000</td>\n",
       "      <td>-1203.369529</td>\n",
       "      <td>42.000000</td>\n",
       "      <td>1.000000</td>\n",
       "      <td>0.000000</td>\n",
       "      <td>0.000000</td>\n",
       "      <td>1.450179e+05</td>\n",
       "    </tr>\n",
       "    <tr>\n",
       "      <td>75%</td>\n",
       "      <td>1.000000</td>\n",
       "      <td>-291.095954</td>\n",
       "      <td>53.000000</td>\n",
       "      <td>1.000000</td>\n",
       "      <td>1.000000</td>\n",
       "      <td>0.000000</td>\n",
       "      <td>2.034351e+05</td>\n",
       "    </tr>\n",
       "    <tr>\n",
       "      <td>max</td>\n",
       "      <td>20.000000</td>\n",
       "      <td>401755.400475</td>\n",
       "      <td>75.000000</td>\n",
       "      <td>4.000000</td>\n",
       "      <td>4.000000</td>\n",
       "      <td>1.000000</td>\n",
       "      <td>2.265604e+06</td>\n",
       "    </tr>\n",
       "  </tbody>\n",
       "</table>\n",
       "</div>"
      ],
      "text/plain": [
       "           children  days_employed     dob_years  education_id  \\\n",
       "count  21525.000000   19351.000000  21525.000000  21525.000000   \n",
       "mean       0.538908   63046.497661     43.293380      0.817236   \n",
       "std        1.381587  140827.311974     12.574584      0.548138   \n",
       "min       -1.000000  -18388.949901      0.000000      0.000000   \n",
       "25%        0.000000   -2747.423625     33.000000      1.000000   \n",
       "50%        0.000000   -1203.369529     42.000000      1.000000   \n",
       "75%        1.000000    -291.095954     53.000000      1.000000   \n",
       "max       20.000000  401755.400475     75.000000      4.000000   \n",
       "\n",
       "       family_status_id          debt  total_income  \n",
       "count      21525.000000  21525.000000  1.935100e+04  \n",
       "mean           0.972544      0.080883  1.674223e+05  \n",
       "std            1.420324      0.272661  1.029716e+05  \n",
       "min            0.000000      0.000000  2.066726e+04  \n",
       "25%            0.000000      0.000000  1.030532e+05  \n",
       "50%            0.000000      0.000000  1.450179e+05  \n",
       "75%            1.000000      0.000000  2.034351e+05  \n",
       "max            4.000000      1.000000  2.265604e+06  "
      ]
     },
     "execution_count": 8,
     "metadata": {},
     "output_type": "execute_result"
    }
   ],
   "source": [
    "data.describe()"
   ]
  },
  {
   "cell_type": "markdown",
   "metadata": {},
   "source": [
    "Выведем общую информацию о таблице с более точной информацией об объеме затрачиваемой памяти."
   ]
  },
  {
   "cell_type": "markdown",
   "metadata": {},
   "source": [
    "<a id='info_type'></a>"
   ]
  },
  {
   "cell_type": "code",
   "execution_count": 9,
   "metadata": {},
   "outputs": [
    {
     "name": "stdout",
     "output_type": "stream",
     "text": [
      "<class 'pandas.core.frame.DataFrame'>\n",
      "RangeIndex: 21525 entries, 0 to 21524\n",
      "Data columns (total 12 columns):\n",
      "children            21525 non-null int64\n",
      "days_employed       19351 non-null float64\n",
      "dob_years           21525 non-null int64\n",
      "education           21525 non-null object\n",
      "education_id        21525 non-null int64\n",
      "family_status       21525 non-null object\n",
      "family_status_id    21525 non-null int64\n",
      "gender              21525 non-null object\n",
      "income_type         21525 non-null object\n",
      "debt                21525 non-null int64\n",
      "total_income        19351 non-null float64\n",
      "purpose             21525 non-null object\n",
      "dtypes: float64(2), int64(5), object(5)\n",
      "memory usage: 11.3 MB\n"
     ]
    }
   ],
   "source": [
    "data.info(memory_usage='deep')"
   ]
  },
  {
   "cell_type": "markdown",
   "metadata": {},
   "source": [
    "В таблице 12 столбцов и 21 525 строк.\n",
    "\n",
    "Столбцы названы верно: без пробелов, кириллицы, в змеином регистре, буквы только строчные. Их не придется переименовывать."
   ]
  },
  {
   "cell_type": "markdown",
   "metadata": {},
   "source": [
    "* `children` — количество детей в семье\n",
    "* `days_employed` — общий трудовой стаж в днях\n",
    "* `dob_years` — возраст клиента в годах\n",
    "* `education` — уровень образования клиента\n",
    "* `education_id` — идентификатор уровня образования\n",
    "* `family_status` — семейное положение\n",
    "* `family_status_id` — идентификатор семейного положения\n",
    "* `gender` — пол клиента\n",
    "* `income_type` — тип занятости\n",
    "* `debt` — имел ли задолженность по возврату кредитов\n",
    "* `total_income` — ежемесячный доход\n",
    "* `purpose` — цель получения кредита"
   ]
  },
  {
   "cell_type": "markdown",
   "metadata": {},
   "source": [
    "Типы данных видны, в двух столбцах есть пропуски.\n",
    "\n",
    "Качество данных вызывает вопросы, поэтому рассмотрим столбцы подробнее."
   ]
  },
  {
   "cell_type": "markdown",
   "metadata": {},
   "source": [
    "<a id='quality'></a>\n",
    "### Оценка качества данных"
   ]
  },
  {
   "cell_type": "markdown",
   "metadata": {},
   "source": [
    "<a id='child'></a>"
   ]
  },
  {
   "cell_type": "markdown",
   "metadata": {},
   "source": [
    "Выведем количество данных (строк) по каждой категории."
   ]
  },
  {
   "cell_type": "code",
   "execution_count": 10,
   "metadata": {},
   "outputs": [
    {
     "name": "stdout",
     "output_type": "stream",
     "text": [
      " 0     14149\n",
      " 1      4818\n",
      " 2      2055\n",
      " 3       330\n",
      " 20       76\n",
      "-1        47\n",
      " 4        41\n",
      " 5         9\n",
      "Name: children, dtype: int64\n"
     ]
    }
   ],
   "source": [
    "print(data['children'].value_counts())"
   ]
  },
  {
   "cell_type": "markdown",
   "metadata": {},
   "source": [
    "В данных встречаются отрицательные значения. Этот столбец для цели исследования важен.\n",
    "**Потребуются исправления.**"
   ]
  },
  {
   "cell_type": "markdown",
   "metadata": {},
   "source": [
    "Выведем 10 случайных строк столбца стажа, чтобы лучше рассмотреть данные."
   ]
  },
  {
   "cell_type": "code",
   "execution_count": 11,
   "metadata": {
    "scrolled": false
   },
   "outputs": [
    {
     "name": "stdout",
     "output_type": "stream",
     "text": [
      "10308   -1115.883521\n",
      "2013    -2108.414759\n",
      "9805    -1991.395531\n",
      "17471     -90.293016\n",
      "5748             NaN\n",
      "5084    -1773.236413\n",
      "8414    -2495.464642\n",
      "9958             NaN\n",
      "7448    -1076.893971\n",
      "18966   -1023.520929\n",
      "Name: days_employed, dtype: float64\n"
     ]
    }
   ],
   "source": [
    "print(data['days_employed'].sample(n=10))"
   ]
  },
  {
   "cell_type": "markdown",
   "metadata": {},
   "source": [
    "В данных столбца `days_employed` встречаются как отрицательные значения, так и положительные значения. Кроме того, значения явно аномальные. Хорошо бы уточнить их у того, кто данные предоставлял. Впрочем, этот столбец не слишком важен для цели исследования. Поэтому исправим несколько формально."
   ]
  },
  {
   "cell_type": "markdown",
   "metadata": {},
   "source": [
    "<a id='step1'></a>"
   ]
  },
  {
   "cell_type": "code",
   "execution_count": 12,
   "metadata": {
    "scrolled": true
   },
   "outputs": [
    {
     "name": "stdout",
     "output_type": "stream",
     "text": [
      "среднее                13750\n",
      "высшее                  4718\n",
      "СРЕДНЕЕ                  772\n",
      "Среднее                  711\n",
      "неоконченное высшее      668\n",
      "ВЫСШЕЕ                   274\n",
      "Высшее                   268\n",
      "начальное                250\n",
      "Неоконченное высшее       47\n",
      "НЕОКОНЧЕННОЕ ВЫСШЕЕ       29\n",
      "НАЧАЛЬНОЕ                 17\n",
      "Начальное                 15\n",
      "ученая степень             4\n",
      "Ученая степень             1\n",
      "УЧЕНАЯ СТЕПЕНЬ             1\n",
      "Name: education, dtype: int64\n"
     ]
    }
   ],
   "source": [
    "print(data['education'].value_counts())"
   ]
  },
  {
   "cell_type": "markdown",
   "metadata": {},
   "source": [
    "Много повторов из-за разных регистров. Этот столбец не слишком важен для цели исследования. **Потребуются исправления.**"
   ]
  },
  {
   "cell_type": "code",
   "execution_count": 13,
   "metadata": {},
   "outputs": [
    {
     "name": "stdout",
     "output_type": "stream",
     "text": [
      "1    15233\n",
      "0     5260\n",
      "2      744\n",
      "3      282\n",
      "4        6\n",
      "Name: education_id, dtype: int64\n"
     ]
    }
   ],
   "source": [
    "print(data['education_id'].value_counts())"
   ]
  },
  {
   "cell_type": "markdown",
   "metadata": {},
   "source": [
    "Соотнеся данные из двух столбцов по образованию, идентификаторы легко определяются."
   ]
  },
  {
   "cell_type": "code",
   "execution_count": 14,
   "metadata": {},
   "outputs": [
    {
     "name": "stdout",
     "output_type": "stream",
     "text": [
      "женат / замужем          12380\n",
      "гражданский брак          4177\n",
      "Не женат / не замужем     2813\n",
      "в разводе                 1195\n",
      "вдовец / вдова             960\n",
      "Name: family_status, dtype: int64\n"
     ]
    }
   ],
   "source": [
    "print(data['family_status'].value_counts())"
   ]
  },
  {
   "cell_type": "markdown",
   "metadata": {},
   "source": [
    "Здесь всё в порядке."
   ]
  },
  {
   "cell_type": "code",
   "execution_count": 15,
   "metadata": {
    "scrolled": true
   },
   "outputs": [
    {
     "name": "stdout",
     "output_type": "stream",
     "text": [
      "0    12380\n",
      "1     4177\n",
      "4     2813\n",
      "3     1195\n",
      "2      960\n",
      "Name: family_status_id, dtype: int64\n"
     ]
    }
   ],
   "source": [
    "print(data['family_status_id'].value_counts())"
   ]
  },
  {
   "cell_type": "markdown",
   "metadata": {},
   "source": [
    "Здесь тоже всё хорошо."
   ]
  },
  {
   "cell_type": "code",
   "execution_count": 16,
   "metadata": {},
   "outputs": [
    {
     "name": "stdout",
     "output_type": "stream",
     "text": [
      "F      14236\n",
      "M       7288\n",
      "XNA        1\n",
      "Name: gender, dtype: int64\n"
     ]
    }
   ],
   "source": [
    "print(data['gender'].value_counts())"
   ]
  },
  {
   "cell_type": "markdown",
   "metadata": {},
   "source": [
    "Здесь есть одно непонятное значение. Его можно будет смело удалить, но в другой раз, так как для целей исследования сейчас некритично."
   ]
  },
  {
   "cell_type": "code",
   "execution_count": 17,
   "metadata": {},
   "outputs": [
    {
     "name": "stdout",
     "output_type": "stream",
     "text": [
      "сотрудник          11119\n",
      "компаньон           5085\n",
      "пенсионер           3856\n",
      "госслужащий         1459\n",
      "предприниматель        2\n",
      "безработный            2\n",
      "в декрете              1\n",
      "студент                1\n",
      "Name: income_type, dtype: int64\n"
     ]
    }
   ],
   "source": [
    "print(data['income_type'].value_counts())"
   ]
  },
  {
   "cell_type": "markdown",
   "metadata": {},
   "source": [
    "Здесь всё нормально, хотя эти данные нам не слишком важны для цели исследования."
   ]
  },
  {
   "cell_type": "code",
   "execution_count": 18,
   "metadata": {},
   "outputs": [
    {
     "name": "stdout",
     "output_type": "stream",
     "text": [
      "0    19784\n",
      "1     1741\n",
      "Name: debt, dtype: int64\n"
     ]
    }
   ],
   "source": [
    "print(data['debt'].value_counts())"
   ]
  },
  {
   "cell_type": "markdown",
   "metadata": {},
   "source": [
    "Здесь всё верно. В наличии два значения идентификатора по задолженности: 1 - есть / была задолженность, 0 - нет."
   ]
  },
  {
   "cell_type": "markdown",
   "metadata": {},
   "source": [
    "<a id='type_purpose'></a>"
   ]
  },
  {
   "cell_type": "code",
   "execution_count": 19,
   "metadata": {},
   "outputs": [
    {
     "name": "stdout",
     "output_type": "stream",
     "text": [
      "свадьба                                   797\n",
      "на проведение свадьбы                     777\n",
      "сыграть свадьбу                           774\n",
      "операции с недвижимостью                  676\n",
      "покупка коммерческой недвижимости         664\n",
      "операции с жильем                         653\n",
      "покупка жилья для сдачи                   653\n",
      "операции с коммерческой недвижимостью     651\n",
      "покупка жилья                             647\n",
      "жилье                                     647\n",
      "покупка жилья для семьи                   641\n",
      "строительство собственной недвижимости    635\n",
      "недвижимость                              634\n",
      "операции со своей недвижимостью           630\n",
      "строительство жилой недвижимости          626\n",
      "покупка недвижимости                      624\n",
      "покупка своего жилья                      620\n",
      "строительство недвижимости                620\n",
      "ремонт жилью                              612\n",
      "покупка жилой недвижимости                607\n",
      "на покупку своего автомобиля              505\n",
      "заняться высшим образованием              496\n",
      "автомобиль                                495\n",
      "сделка с подержанным автомобилем          489\n",
      "свой автомобиль                           480\n",
      "на покупку подержанного автомобиля        479\n",
      "автомобили                                478\n",
      "на покупку автомобиля                     472\n",
      "дополнительное образование                462\n",
      "приобретение автомобиля                   462\n",
      "сделка с автомобилем                      455\n",
      "высшее образование                        453\n",
      "получение дополнительного образования     447\n",
      "образование                               447\n",
      "получение образования                     443\n",
      "профильное образование                    436\n",
      "получение высшего образования             426\n",
      "заняться образованием                     412\n",
      "Name: purpose, dtype: int64\n"
     ]
    }
   ],
   "source": [
    "print(data['purpose'].value_counts())"
   ]
  },
  {
   "cell_type": "markdown",
   "metadata": {},
   "source": [
    "Данные выглядят слишком разнообразными, можно будет их сгруппировать. **Потребуются изменения.**"
   ]
  },
  {
   "cell_type": "markdown",
   "metadata": {},
   "source": [
    "<a id='duplicates-2'></a>\n",
    "Проверим данные на явные дубликаты."
   ]
  },
  {
   "cell_type": "code",
   "execution_count": 20,
   "metadata": {},
   "outputs": [
    {
     "name": "stdout",
     "output_type": "stream",
     "text": [
      "Дубликатов в таблице: 54\n"
     ]
    }
   ],
   "source": [
    "print('Дубликатов в таблице:', data.duplicated().sum())"
   ]
  },
  {
   "cell_type": "markdown",
   "metadata": {},
   "source": [
    "В таблице присутствуют явные дубликаты. **Потребуются изменения.**"
   ]
  },
  {
   "cell_type": "markdown",
   "metadata": {},
   "source": [
    "**Вывод**"
   ]
  },
  {
   "cell_type": "markdown",
   "metadata": {},
   "source": [
    "С данными в таблице есть проблемы: присутствуют пропуски и дубликаты. Возможная причина пропусков - при подаче заявки на кредит потенциальные заемщики просто не указали свой доход и стаж.\n",
    "\n",
    "Кроме того, часть данных без необходимости представлена в вещественном виде или с отрицательными значениями.\n",
    "\n",
    "Таким образом, данных достаточно для анализа. Но требуется устранить проблемы в них."
   ]
  },
  {
   "cell_type": "markdown",
   "metadata": {},
   "source": [
    "<a id='preprocessing'></a>\n",
    "## Шаг 2. Предобработка данных"
   ]
  },
  {
   "cell_type": "markdown",
   "metadata": {},
   "source": [
    "<a id='space'></a>\n",
    "### Обработка пропусков"
   ]
  },
  {
   "cell_type": "markdown",
   "metadata": {},
   "source": [
    "Проверим количество пропусков в таблице."
   ]
  },
  {
   "cell_type": "code",
   "execution_count": 21,
   "metadata": {},
   "outputs": [
    {
     "name": "stdout",
     "output_type": "stream",
     "text": [
      "children               0\n",
      "days_employed       2174\n",
      "dob_years              0\n",
      "education              0\n",
      "education_id           0\n",
      "family_status          0\n",
      "family_status_id       0\n",
      "gender                 0\n",
      "income_type            0\n",
      "debt                   0\n",
      "total_income        2174\n",
      "purpose                0\n",
      "dtype: int64\n"
     ]
    }
   ],
   "source": [
    "print(data.isna().sum())"
   ]
  },
  {
   "cell_type": "markdown",
   "metadata": {},
   "source": [
    "Заполним пропущенные данные для дохода и стажа. Будем брать медианные значения, так как они более точно характеризуют данную выборку по \"средней\" величине."
   ]
  },
  {
   "cell_type": "markdown",
   "metadata": {},
   "source": [
    "Определим медианное значение дохода."
   ]
  },
  {
   "cell_type": "code",
   "execution_count": 22,
   "metadata": {},
   "outputs": [
    {
     "name": "stdout",
     "output_type": "stream",
     "text": [
      "145017.93753253992\n"
     ]
    }
   ],
   "source": [
    "median_total_income = data['total_income'].median()\n",
    "print(median_total_income)"
   ]
  },
  {
   "cell_type": "markdown",
   "metadata": {},
   "source": [
    "Заменим пропущенные данные в столбце по доходу на медиану."
   ]
  },
  {
   "cell_type": "code",
   "execution_count": 23,
   "metadata": {},
   "outputs": [],
   "source": [
    "data['total_income'] = data['total_income'].fillna(value = median_total_income)"
   ]
  },
  {
   "cell_type": "markdown",
   "metadata": {},
   "source": [
    "Определим медианное значение по стажу. Но предварительно приведем все значения в столбце к положительным числам."
   ]
  },
  {
   "cell_type": "code",
   "execution_count": 24,
   "metadata": {},
   "outputs": [],
   "source": [
    "data['days_employed'] = data['days_employed'].apply(abs)"
   ]
  },
  {
   "cell_type": "code",
   "execution_count": 25,
   "metadata": {},
   "outputs": [
    {
     "name": "stdout",
     "output_type": "stream",
     "text": [
      "2194.220566878695\n"
     ]
    }
   ],
   "source": [
    "median_days_employed = data['days_employed'].median()\n",
    "print(median_days_employed)"
   ]
  },
  {
   "cell_type": "markdown",
   "metadata": {},
   "source": [
    "Заменим пропущенные данные в столбце по стажу на медиану."
   ]
  },
  {
   "cell_type": "code",
   "execution_count": 26,
   "metadata": {},
   "outputs": [],
   "source": [
    "data['days_employed'] = data['days_employed'].fillna(value = median_days_employed)"
   ]
  },
  {
   "cell_type": "markdown",
   "metadata": {},
   "source": [
    "Проверим, что пропусков в таблице нет."
   ]
  },
  {
   "cell_type": "code",
   "execution_count": 27,
   "metadata": {
    "scrolled": false
   },
   "outputs": [
    {
     "name": "stdout",
     "output_type": "stream",
     "text": [
      "children            0\n",
      "days_employed       0\n",
      "dob_years           0\n",
      "education           0\n",
      "education_id        0\n",
      "family_status       0\n",
      "family_status_id    0\n",
      "gender              0\n",
      "income_type         0\n",
      "debt                0\n",
      "total_income        0\n",
      "purpose             0\n",
      "dtype: int64\n"
     ]
    }
   ],
   "source": [
    "print(data.isna().sum())"
   ]
  },
  {
   "cell_type": "markdown",
   "metadata": {},
   "source": [
    "**Вывод**"
   ]
  },
  {
   "cell_type": "markdown",
   "metadata": {},
   "source": [
    "В таблице были пропуски количественных данных в столбцах по стажу и доходу. Методом `fillna` пропуски заполнены медианными значениями в обоих столбцах. Стоит отметить, что данные по стажу требуют уточнения и не важны для данного исследования, однако сделать их обработку не сложно, поэтому оставила."
   ]
  },
  {
   "cell_type": "markdown",
   "metadata": {},
   "source": [
    "<a id='type'></a>\n",
    "### Замена типов данных"
   ]
  },
  {
   "cell_type": "markdown",
   "metadata": {},
   "source": [
    "По [информации](#info_type) об исходной таблице, полученной методом `info()`, видны типы содержащихся в каждом столбце данных. Исправим их с учетом полученных [значений](#describe) для уменьшения объема памяти, затрачиваемой на хранение, а следовательно, и обработку датафрейма."
   ]
  },
  {
   "cell_type": "markdown",
   "metadata": {},
   "source": [
    "В столбце `children` содержатся значения от -1 до 20. Приведем значения к положительному виду и заменим тип данных на `uint8`."
   ]
  },
  {
   "cell_type": "code",
   "execution_count": 28,
   "metadata": {},
   "outputs": [],
   "source": [
    "data['children'] = data['children'].apply(abs).astype(np.uint8)"
   ]
  },
  {
   "cell_type": "markdown",
   "metadata": {},
   "source": [
    "В столбце `days_employed`заменим тип данных на `uint32`."
   ]
  },
  {
   "cell_type": "code",
   "execution_count": 29,
   "metadata": {},
   "outputs": [],
   "source": [
    "data['days_employed'] = data['days_employed'].astype(np.uint32)"
   ]
  },
  {
   "cell_type": "markdown",
   "metadata": {},
   "source": [
    "В столбце `dob_years` заменим тип данных на `uint8`."
   ]
  },
  {
   "cell_type": "code",
   "execution_count": 30,
   "metadata": {},
   "outputs": [],
   "source": [
    "data['dob_years'] = data['dob_years'].astype(np.uint8)"
   ]
  },
  {
   "cell_type": "markdown",
   "metadata": {},
   "source": [
    "В столбцах `education_id` и `family_status_id` заменим тип данных на `uint8`."
   ]
  },
  {
   "cell_type": "code",
   "execution_count": 31,
   "metadata": {},
   "outputs": [],
   "source": [
    "data['education_id'] = data['education_id'].astype(np.uint8)\n",
    "data['family_status_id'] = data['family_status_id'].astype(np.uint8)"
   ]
  },
  {
   "cell_type": "markdown",
   "metadata": {},
   "source": [
    "В столбце `debt` заменим тип данных на `uint8`."
   ]
  },
  {
   "cell_type": "code",
   "execution_count": 32,
   "metadata": {},
   "outputs": [],
   "source": [
    "data['debt'] = data['debt'].astype(np.uint8)"
   ]
  },
  {
   "cell_type": "markdown",
   "metadata": {},
   "source": [
    "В столбце `total_income` заменим тип данных на `uint32`."
   ]
  },
  {
   "cell_type": "code",
   "execution_count": 33,
   "metadata": {},
   "outputs": [],
   "source": [
    "data['total_income'] = data['total_income'].astype(np.uint32)"
   ]
  },
  {
   "cell_type": "markdown",
   "metadata": {},
   "source": [
    "Для столбцов `total_income` и `days_employed` заменили данные на целочисленные, поскольку для анализа нам не важны копейки / центы / ... и часы / минуты."
   ]
  },
  {
   "cell_type": "code",
   "execution_count": 34,
   "metadata": {},
   "outputs": [
    {
     "data": {
      "text/html": [
       "<div>\n",
       "<style scoped>\n",
       "    .dataframe tbody tr th:only-of-type {\n",
       "        vertical-align: middle;\n",
       "    }\n",
       "\n",
       "    .dataframe tbody tr th {\n",
       "        vertical-align: top;\n",
       "    }\n",
       "\n",
       "    .dataframe thead th {\n",
       "        text-align: right;\n",
       "    }\n",
       "</style>\n",
       "<table border=\"1\" class=\"dataframe\">\n",
       "  <thead>\n",
       "    <tr style=\"text-align: right;\">\n",
       "      <th></th>\n",
       "      <th>children</th>\n",
       "      <th>days_employed</th>\n",
       "      <th>dob_years</th>\n",
       "      <th>education</th>\n",
       "      <th>education_id</th>\n",
       "      <th>family_status</th>\n",
       "      <th>family_status_id</th>\n",
       "      <th>gender</th>\n",
       "      <th>income_type</th>\n",
       "      <th>debt</th>\n",
       "      <th>total_income</th>\n",
       "      <th>purpose</th>\n",
       "    </tr>\n",
       "  </thead>\n",
       "  <tbody>\n",
       "    <tr>\n",
       "      <td>0</td>\n",
       "      <td>1</td>\n",
       "      <td>8437</td>\n",
       "      <td>42</td>\n",
       "      <td>высшее</td>\n",
       "      <td>0</td>\n",
       "      <td>женат / замужем</td>\n",
       "      <td>0</td>\n",
       "      <td>F</td>\n",
       "      <td>сотрудник</td>\n",
       "      <td>0</td>\n",
       "      <td>253875</td>\n",
       "      <td>покупка жилья</td>\n",
       "    </tr>\n",
       "    <tr>\n",
       "      <td>1</td>\n",
       "      <td>1</td>\n",
       "      <td>4024</td>\n",
       "      <td>36</td>\n",
       "      <td>среднее</td>\n",
       "      <td>1</td>\n",
       "      <td>женат / замужем</td>\n",
       "      <td>0</td>\n",
       "      <td>F</td>\n",
       "      <td>сотрудник</td>\n",
       "      <td>0</td>\n",
       "      <td>112080</td>\n",
       "      <td>приобретение автомобиля</td>\n",
       "    </tr>\n",
       "    <tr>\n",
       "      <td>2</td>\n",
       "      <td>0</td>\n",
       "      <td>5623</td>\n",
       "      <td>33</td>\n",
       "      <td>Среднее</td>\n",
       "      <td>1</td>\n",
       "      <td>женат / замужем</td>\n",
       "      <td>0</td>\n",
       "      <td>M</td>\n",
       "      <td>сотрудник</td>\n",
       "      <td>0</td>\n",
       "      <td>145885</td>\n",
       "      <td>покупка жилья</td>\n",
       "    </tr>\n",
       "    <tr>\n",
       "      <td>3</td>\n",
       "      <td>3</td>\n",
       "      <td>4124</td>\n",
       "      <td>32</td>\n",
       "      <td>среднее</td>\n",
       "      <td>1</td>\n",
       "      <td>женат / замужем</td>\n",
       "      <td>0</td>\n",
       "      <td>M</td>\n",
       "      <td>сотрудник</td>\n",
       "      <td>0</td>\n",
       "      <td>267628</td>\n",
       "      <td>дополнительное образование</td>\n",
       "    </tr>\n",
       "    <tr>\n",
       "      <td>4</td>\n",
       "      <td>0</td>\n",
       "      <td>340266</td>\n",
       "      <td>53</td>\n",
       "      <td>среднее</td>\n",
       "      <td>1</td>\n",
       "      <td>гражданский брак</td>\n",
       "      <td>1</td>\n",
       "      <td>F</td>\n",
       "      <td>пенсионер</td>\n",
       "      <td>0</td>\n",
       "      <td>158616</td>\n",
       "      <td>сыграть свадьбу</td>\n",
       "    </tr>\n",
       "    <tr>\n",
       "      <td>5</td>\n",
       "      <td>0</td>\n",
       "      <td>926</td>\n",
       "      <td>27</td>\n",
       "      <td>высшее</td>\n",
       "      <td>0</td>\n",
       "      <td>гражданский брак</td>\n",
       "      <td>1</td>\n",
       "      <td>M</td>\n",
       "      <td>компаньон</td>\n",
       "      <td>0</td>\n",
       "      <td>255763</td>\n",
       "      <td>покупка жилья</td>\n",
       "    </tr>\n",
       "    <tr>\n",
       "      <td>6</td>\n",
       "      <td>0</td>\n",
       "      <td>2879</td>\n",
       "      <td>43</td>\n",
       "      <td>высшее</td>\n",
       "      <td>0</td>\n",
       "      <td>женат / замужем</td>\n",
       "      <td>0</td>\n",
       "      <td>F</td>\n",
       "      <td>компаньон</td>\n",
       "      <td>0</td>\n",
       "      <td>240525</td>\n",
       "      <td>операции с жильем</td>\n",
       "    </tr>\n",
       "    <tr>\n",
       "      <td>7</td>\n",
       "      <td>0</td>\n",
       "      <td>152</td>\n",
       "      <td>50</td>\n",
       "      <td>СРЕДНЕЕ</td>\n",
       "      <td>1</td>\n",
       "      <td>женат / замужем</td>\n",
       "      <td>0</td>\n",
       "      <td>M</td>\n",
       "      <td>сотрудник</td>\n",
       "      <td>0</td>\n",
       "      <td>135823</td>\n",
       "      <td>образование</td>\n",
       "    </tr>\n",
       "    <tr>\n",
       "      <td>8</td>\n",
       "      <td>2</td>\n",
       "      <td>6929</td>\n",
       "      <td>35</td>\n",
       "      <td>ВЫСШЕЕ</td>\n",
       "      <td>0</td>\n",
       "      <td>гражданский брак</td>\n",
       "      <td>1</td>\n",
       "      <td>F</td>\n",
       "      <td>сотрудник</td>\n",
       "      <td>0</td>\n",
       "      <td>95856</td>\n",
       "      <td>на проведение свадьбы</td>\n",
       "    </tr>\n",
       "    <tr>\n",
       "      <td>9</td>\n",
       "      <td>0</td>\n",
       "      <td>2188</td>\n",
       "      <td>41</td>\n",
       "      <td>среднее</td>\n",
       "      <td>1</td>\n",
       "      <td>женат / замужем</td>\n",
       "      <td>0</td>\n",
       "      <td>M</td>\n",
       "      <td>сотрудник</td>\n",
       "      <td>0</td>\n",
       "      <td>144425</td>\n",
       "      <td>покупка жилья для семьи</td>\n",
       "    </tr>\n",
       "  </tbody>\n",
       "</table>\n",
       "</div>"
      ],
      "text/plain": [
       "   children  days_employed  dob_years education  education_id  \\\n",
       "0         1           8437         42    высшее             0   \n",
       "1         1           4024         36   среднее             1   \n",
       "2         0           5623         33   Среднее             1   \n",
       "3         3           4124         32   среднее             1   \n",
       "4         0         340266         53   среднее             1   \n",
       "5         0            926         27    высшее             0   \n",
       "6         0           2879         43    высшее             0   \n",
       "7         0            152         50   СРЕДНЕЕ             1   \n",
       "8         2           6929         35    ВЫСШЕЕ             0   \n",
       "9         0           2188         41   среднее             1   \n",
       "\n",
       "      family_status  family_status_id gender income_type  debt  total_income  \\\n",
       "0   женат / замужем                 0      F   сотрудник     0        253875   \n",
       "1   женат / замужем                 0      F   сотрудник     0        112080   \n",
       "2   женат / замужем                 0      M   сотрудник     0        145885   \n",
       "3   женат / замужем                 0      M   сотрудник     0        267628   \n",
       "4  гражданский брак                 1      F   пенсионер     0        158616   \n",
       "5  гражданский брак                 1      M   компаньон     0        255763   \n",
       "6   женат / замужем                 0      F   компаньон     0        240525   \n",
       "7   женат / замужем                 0      M   сотрудник     0        135823   \n",
       "8  гражданский брак                 1      F   сотрудник     0         95856   \n",
       "9   женат / замужем                 0      M   сотрудник     0        144425   \n",
       "\n",
       "                      purpose  \n",
       "0               покупка жилья  \n",
       "1     приобретение автомобиля  \n",
       "2               покупка жилья  \n",
       "3  дополнительное образование  \n",
       "4             сыграть свадьбу  \n",
       "5               покупка жилья  \n",
       "6           операции с жильем  \n",
       "7                 образование  \n",
       "8       на проведение свадьбы  \n",
       "9     покупка жилья для семьи  "
      ]
     },
     "execution_count": 34,
     "metadata": {},
     "output_type": "execute_result"
    }
   ],
   "source": [
    "data.head(10)"
   ]
  },
  {
   "cell_type": "code",
   "execution_count": 35,
   "metadata": {},
   "outputs": [
    {
     "name": "stdout",
     "output_type": "stream",
     "text": [
      "<class 'pandas.core.frame.DataFrame'>\n",
      "RangeIndex: 21525 entries, 0 to 21524\n",
      "Data columns (total 12 columns):\n",
      "children            21525 non-null uint8\n",
      "days_employed       21525 non-null uint32\n",
      "dob_years           21525 non-null uint8\n",
      "education           21525 non-null object\n",
      "education_id        21525 non-null uint8\n",
      "family_status       21525 non-null object\n",
      "family_status_id    21525 non-null uint8\n",
      "gender              21525 non-null object\n",
      "income_type         21525 non-null object\n",
      "debt                21525 non-null uint8\n",
      "total_income        21525 non-null uint32\n",
      "purpose             21525 non-null object\n",
      "dtypes: object(5), uint32(2), uint8(5)\n",
      "memory usage: 12.6 MB\n"
     ]
    }
   ],
   "source": [
    "data.info(memory_usage='deep')"
   ]
  },
  {
   "cell_type": "markdown",
   "metadata": {},
   "source": [
    "**Вывод**"
   ]
  },
  {
   "cell_type": "markdown",
   "metadata": {},
   "source": [
    "Числовые типы данных исходного датафрейма приведены к другими типам методом `astype()` в соответствии со значениями, хранящимися в каждом столбце."
   ]
  },
  {
   "cell_type": "markdown",
   "metadata": {},
   "source": [
    "<a id='duplicates'></a>\n",
    "### Обработка дубликатов"
   ]
  },
  {
   "cell_type": "markdown",
   "metadata": {},
   "source": [
    "<a id='education'></a>\n",
    "#### Дубликаты в столбце *education*"
   ]
  },
  {
   "cell_type": "markdown",
   "metadata": {},
   "source": [
    "При первичном анализе данных на [Шаге 1](#step1) было показано, что в столбце с уровнем образования есть повторяющиеся значения из-за различного регистра. Их появление, очевидно, вызвано человеческим фактором."
   ]
  },
  {
   "cell_type": "markdown",
   "metadata": {},
   "source": [
    "Обработаем их, создав новый столбец в исходном датафрейме, в котором будут содержаться приведенные к нижнему регистру данные."
   ]
  },
  {
   "cell_type": "code",
   "execution_count": 36,
   "metadata": {},
   "outputs": [],
   "source": [
    "data['education'] = data['education'].str.lower()"
   ]
  },
  {
   "cell_type": "markdown",
   "metadata": {},
   "source": [
    " Проверим то, что сделали на предыдущем шаге."
   ]
  },
  {
   "cell_type": "code",
   "execution_count": 37,
   "metadata": {
    "scrolled": true
   },
   "outputs": [
    {
     "name": "stdout",
     "output_type": "stream",
     "text": [
      "среднее                15233\n",
      "высшее                  5260\n",
      "неоконченное высшее      744\n",
      "начальное                282\n",
      "ученая степень             6\n",
      "Name: education, dtype: int64\n"
     ]
    }
   ],
   "source": [
    "print(data['education'].value_counts())"
   ]
  },
  {
   "cell_type": "code",
   "execution_count": 38,
   "metadata": {},
   "outputs": [
    {
     "data": {
      "text/html": [
       "<div>\n",
       "<style scoped>\n",
       "    .dataframe tbody tr th:only-of-type {\n",
       "        vertical-align: middle;\n",
       "    }\n",
       "\n",
       "    .dataframe tbody tr th {\n",
       "        vertical-align: top;\n",
       "    }\n",
       "\n",
       "    .dataframe thead th {\n",
       "        text-align: right;\n",
       "    }\n",
       "</style>\n",
       "<table border=\"1\" class=\"dataframe\">\n",
       "  <thead>\n",
       "    <tr style=\"text-align: right;\">\n",
       "      <th></th>\n",
       "      <th>children</th>\n",
       "      <th>days_employed</th>\n",
       "      <th>dob_years</th>\n",
       "      <th>education</th>\n",
       "      <th>education_id</th>\n",
       "      <th>family_status</th>\n",
       "      <th>family_status_id</th>\n",
       "      <th>gender</th>\n",
       "      <th>income_type</th>\n",
       "      <th>debt</th>\n",
       "      <th>total_income</th>\n",
       "      <th>purpose</th>\n",
       "    </tr>\n",
       "  </thead>\n",
       "  <tbody>\n",
       "    <tr>\n",
       "      <td>0</td>\n",
       "      <td>1</td>\n",
       "      <td>8437</td>\n",
       "      <td>42</td>\n",
       "      <td>высшее</td>\n",
       "      <td>0</td>\n",
       "      <td>женат / замужем</td>\n",
       "      <td>0</td>\n",
       "      <td>F</td>\n",
       "      <td>сотрудник</td>\n",
       "      <td>0</td>\n",
       "      <td>253875</td>\n",
       "      <td>покупка жилья</td>\n",
       "    </tr>\n",
       "    <tr>\n",
       "      <td>1</td>\n",
       "      <td>1</td>\n",
       "      <td>4024</td>\n",
       "      <td>36</td>\n",
       "      <td>среднее</td>\n",
       "      <td>1</td>\n",
       "      <td>женат / замужем</td>\n",
       "      <td>0</td>\n",
       "      <td>F</td>\n",
       "      <td>сотрудник</td>\n",
       "      <td>0</td>\n",
       "      <td>112080</td>\n",
       "      <td>приобретение автомобиля</td>\n",
       "    </tr>\n",
       "    <tr>\n",
       "      <td>2</td>\n",
       "      <td>0</td>\n",
       "      <td>5623</td>\n",
       "      <td>33</td>\n",
       "      <td>среднее</td>\n",
       "      <td>1</td>\n",
       "      <td>женат / замужем</td>\n",
       "      <td>0</td>\n",
       "      <td>M</td>\n",
       "      <td>сотрудник</td>\n",
       "      <td>0</td>\n",
       "      <td>145885</td>\n",
       "      <td>покупка жилья</td>\n",
       "    </tr>\n",
       "    <tr>\n",
       "      <td>3</td>\n",
       "      <td>3</td>\n",
       "      <td>4124</td>\n",
       "      <td>32</td>\n",
       "      <td>среднее</td>\n",
       "      <td>1</td>\n",
       "      <td>женат / замужем</td>\n",
       "      <td>0</td>\n",
       "      <td>M</td>\n",
       "      <td>сотрудник</td>\n",
       "      <td>0</td>\n",
       "      <td>267628</td>\n",
       "      <td>дополнительное образование</td>\n",
       "    </tr>\n",
       "    <tr>\n",
       "      <td>4</td>\n",
       "      <td>0</td>\n",
       "      <td>340266</td>\n",
       "      <td>53</td>\n",
       "      <td>среднее</td>\n",
       "      <td>1</td>\n",
       "      <td>гражданский брак</td>\n",
       "      <td>1</td>\n",
       "      <td>F</td>\n",
       "      <td>пенсионер</td>\n",
       "      <td>0</td>\n",
       "      <td>158616</td>\n",
       "      <td>сыграть свадьбу</td>\n",
       "    </tr>\n",
       "    <tr>\n",
       "      <td>5</td>\n",
       "      <td>0</td>\n",
       "      <td>926</td>\n",
       "      <td>27</td>\n",
       "      <td>высшее</td>\n",
       "      <td>0</td>\n",
       "      <td>гражданский брак</td>\n",
       "      <td>1</td>\n",
       "      <td>M</td>\n",
       "      <td>компаньон</td>\n",
       "      <td>0</td>\n",
       "      <td>255763</td>\n",
       "      <td>покупка жилья</td>\n",
       "    </tr>\n",
       "    <tr>\n",
       "      <td>6</td>\n",
       "      <td>0</td>\n",
       "      <td>2879</td>\n",
       "      <td>43</td>\n",
       "      <td>высшее</td>\n",
       "      <td>0</td>\n",
       "      <td>женат / замужем</td>\n",
       "      <td>0</td>\n",
       "      <td>F</td>\n",
       "      <td>компаньон</td>\n",
       "      <td>0</td>\n",
       "      <td>240525</td>\n",
       "      <td>операции с жильем</td>\n",
       "    </tr>\n",
       "    <tr>\n",
       "      <td>7</td>\n",
       "      <td>0</td>\n",
       "      <td>152</td>\n",
       "      <td>50</td>\n",
       "      <td>среднее</td>\n",
       "      <td>1</td>\n",
       "      <td>женат / замужем</td>\n",
       "      <td>0</td>\n",
       "      <td>M</td>\n",
       "      <td>сотрудник</td>\n",
       "      <td>0</td>\n",
       "      <td>135823</td>\n",
       "      <td>образование</td>\n",
       "    </tr>\n",
       "    <tr>\n",
       "      <td>8</td>\n",
       "      <td>2</td>\n",
       "      <td>6929</td>\n",
       "      <td>35</td>\n",
       "      <td>высшее</td>\n",
       "      <td>0</td>\n",
       "      <td>гражданский брак</td>\n",
       "      <td>1</td>\n",
       "      <td>F</td>\n",
       "      <td>сотрудник</td>\n",
       "      <td>0</td>\n",
       "      <td>95856</td>\n",
       "      <td>на проведение свадьбы</td>\n",
       "    </tr>\n",
       "    <tr>\n",
       "      <td>9</td>\n",
       "      <td>0</td>\n",
       "      <td>2188</td>\n",
       "      <td>41</td>\n",
       "      <td>среднее</td>\n",
       "      <td>1</td>\n",
       "      <td>женат / замужем</td>\n",
       "      <td>0</td>\n",
       "      <td>M</td>\n",
       "      <td>сотрудник</td>\n",
       "      <td>0</td>\n",
       "      <td>144425</td>\n",
       "      <td>покупка жилья для семьи</td>\n",
       "    </tr>\n",
       "  </tbody>\n",
       "</table>\n",
       "</div>"
      ],
      "text/plain": [
       "   children  days_employed  dob_years education  education_id  \\\n",
       "0         1           8437         42    высшее             0   \n",
       "1         1           4024         36   среднее             1   \n",
       "2         0           5623         33   среднее             1   \n",
       "3         3           4124         32   среднее             1   \n",
       "4         0         340266         53   среднее             1   \n",
       "5         0            926         27    высшее             0   \n",
       "6         0           2879         43    высшее             0   \n",
       "7         0            152         50   среднее             1   \n",
       "8         2           6929         35    высшее             0   \n",
       "9         0           2188         41   среднее             1   \n",
       "\n",
       "      family_status  family_status_id gender income_type  debt  total_income  \\\n",
       "0   женат / замужем                 0      F   сотрудник     0        253875   \n",
       "1   женат / замужем                 0      F   сотрудник     0        112080   \n",
       "2   женат / замужем                 0      M   сотрудник     0        145885   \n",
       "3   женат / замужем                 0      M   сотрудник     0        267628   \n",
       "4  гражданский брак                 1      F   пенсионер     0        158616   \n",
       "5  гражданский брак                 1      M   компаньон     0        255763   \n",
       "6   женат / замужем                 0      F   компаньон     0        240525   \n",
       "7   женат / замужем                 0      M   сотрудник     0        135823   \n",
       "8  гражданский брак                 1      F   сотрудник     0         95856   \n",
       "9   женат / замужем                 0      M   сотрудник     0        144425   \n",
       "\n",
       "                      purpose  \n",
       "0               покупка жилья  \n",
       "1     приобретение автомобиля  \n",
       "2               покупка жилья  \n",
       "3  дополнительное образование  \n",
       "4             сыграть свадьбу  \n",
       "5               покупка жилья  \n",
       "6           операции с жильем  \n",
       "7                 образование  \n",
       "8       на проведение свадьбы  \n",
       "9     покупка жилья для семьи  "
      ]
     },
     "execution_count": 38,
     "metadata": {},
     "output_type": "execute_result"
    }
   ],
   "source": [
    "data.head(10)"
   ]
  },
  {
   "cell_type": "markdown",
   "metadata": {},
   "source": [
    "<a id='maindf'></a>\n",
    "#### Дубликаты в исходной таблице"
   ]
  },
  {
   "cell_type": "markdown",
   "metadata": {},
   "source": [
    "При изучении данных на [Шаге 1](#duplicates-2) были выявлены явные дубликаты. Исправим это, применив метод `drop_duplicates()`."
   ]
  },
  {
   "cell_type": "markdown",
   "metadata": {},
   "source": [
    "Удалим дубликаты и перезапишем индексы для каждой строки таблицы."
   ]
  },
  {
   "cell_type": "code",
   "execution_count": 39,
   "metadata": {},
   "outputs": [],
   "source": [
    "data = data.drop_duplicates().reset_index(drop=True)"
   ]
  },
  {
   "cell_type": "markdown",
   "metadata": {},
   "source": [
    "Проверим количество дубликатов после удаления."
   ]
  },
  {
   "cell_type": "code",
   "execution_count": 40,
   "metadata": {},
   "outputs": [
    {
     "name": "stdout",
     "output_type": "stream",
     "text": [
      "0\n"
     ]
    }
   ],
   "source": [
    "print(data.duplicated().sum())"
   ]
  },
  {
   "cell_type": "markdown",
   "metadata": {},
   "source": [
    "Выведем информацию о таблице."
   ]
  },
  {
   "cell_type": "code",
   "execution_count": 41,
   "metadata": {},
   "outputs": [
    {
     "name": "stdout",
     "output_type": "stream",
     "text": [
      "<class 'pandas.core.frame.DataFrame'>\n",
      "RangeIndex: 21454 entries, 0 to 21453\n",
      "Data columns (total 12 columns):\n",
      "children            21454 non-null uint8\n",
      "days_employed       21454 non-null uint32\n",
      "dob_years           21454 non-null uint8\n",
      "education           21454 non-null object\n",
      "education_id        21454 non-null uint8\n",
      "family_status       21454 non-null object\n",
      "family_status_id    21454 non-null uint8\n",
      "gender              21454 non-null object\n",
      "income_type         21454 non-null object\n",
      "debt                21454 non-null uint8\n",
      "total_income        21454 non-null uint32\n",
      "purpose             21454 non-null object\n",
      "dtypes: object(5), uint32(2), uint8(5)\n",
      "memory usage: 12.6 MB\n"
     ]
    }
   ],
   "source": [
    "data.info(memory_usage=\"deep\")"
   ]
  },
  {
   "cell_type": "markdown",
   "metadata": {},
   "source": [
    "**Вывод**"
   ]
  },
  {
   "cell_type": "markdown",
   "metadata": {},
   "source": [
    "На шаге 2 устранены дубликаты в таблице. Явные дубликаты удалены из таблицы, а индексы строк перезаписаны. Дубликаты, связанные с регистром написания, исправлены выведением их в отдельный столбец."
   ]
  },
  {
   "cell_type": "markdown",
   "metadata": {},
   "source": [
    "<a id='lemmas'></a>\n",
    "### Лемматизация"
   ]
  },
  {
   "cell_type": "markdown",
   "metadata": {},
   "source": [
    "На [Шаге 1](#type_purpose) было показано, что в столбце целей запрашиваемых кредитов много разных значений.\n",
    "\n",
    "Найдем словарные формы слов в целях запрашиваемых кредитов с помощью лемматизации. Это поможет нам в дальнейшем выделить категории целей кредитов и уменьшить их количество."
   ]
  },
  {
   "cell_type": "markdown",
   "metadata": {},
   "source": [
    "Отфильтруем столбец `purpose`, удалив все дубликаты в нем, и приведем его к списку."
   ]
  },
  {
   "cell_type": "code",
   "execution_count": 42,
   "metadata": {},
   "outputs": [],
   "source": [
    "purpose_list = data['purpose'].drop_duplicates().to_list()"
   ]
  },
  {
   "cell_type": "markdown",
   "metadata": {},
   "source": [
    "Сделаем из списка строку, поскольку функция лемматизации работает со строкой."
   ]
  },
  {
   "cell_type": "code",
   "execution_count": 43,
   "metadata": {},
   "outputs": [
    {
     "name": "stdout",
     "output_type": "stream",
     "text": [
      "покупка жилья приобретение автомобиля дополнительное образование сыграть свадьбу операции с жильем образование на проведение свадьбы покупка жилья для семьи покупка недвижимости покупка коммерческой недвижимости покупка жилой недвижимости строительство собственной недвижимости недвижимость строительство недвижимости на покупку подержанного автомобиля на покупку своего автомобиля операции с коммерческой недвижимостью строительство жилой недвижимости жилье операции со своей недвижимостью автомобили заняться образованием сделка с подержанным автомобилем получение образования автомобиль свадьба получение дополнительного образования покупка своего жилья операции с недвижимостью получение высшего образования свой автомобиль сделка с автомобилем профильное образование высшее образование покупка жилья для сдачи на покупку автомобиля ремонт жилью заняться высшим образованием\n"
     ]
    }
   ],
   "source": [
    "purpose_string = ' '.join(purpose_list)\n",
    "print(purpose_string)"
   ]
  },
  {
   "cell_type": "markdown",
   "metadata": {},
   "source": [
    "Получим словарные формы слов из целей кредитов."
   ]
  },
  {
   "cell_type": "code",
   "execution_count": 44,
   "metadata": {},
   "outputs": [
    {
     "name": "stdout",
     "output_type": "stream",
     "text": [
      "['покупка', ' ', 'жилье', ' ', 'приобретение', ' ', 'автомобиль', ' ', 'дополнительный', ' ', 'образование', ' ', 'сыграть', ' ', 'свадьба', ' ', 'операция', ' ', 'с', ' ', 'жилье', ' ', 'образование', ' ', 'на', ' ', 'проведение', ' ', 'свадьба', ' ', 'покупка', ' ', 'жилье', ' ', 'для', ' ', 'семья', ' ', 'покупка', ' ', 'недвижимость', ' ', 'покупка', ' ', 'коммерческий', ' ', 'недвижимость', ' ', 'покупка', ' ', 'жилой', ' ', 'недвижимость', ' ', 'строительство', ' ', 'собственный', ' ', 'недвижимость', ' ', 'недвижимость', ' ', 'строительство', ' ', 'недвижимость', ' ', 'на', ' ', 'покупка', ' ', 'подержать', ' ', 'автомобиль', ' ', 'на', ' ', 'покупка', ' ', 'свой', ' ', 'автомобиль', ' ', 'операция', ' ', 'с', ' ', 'коммерческий', ' ', 'недвижимость', ' ', 'строительство', ' ', 'жилой', ' ', 'недвижимость', ' ', 'жилье', ' ', 'операция', ' ', 'со', ' ', 'свой', ' ', 'недвижимость', ' ', 'автомобиль', ' ', 'заниматься', ' ', 'образование', ' ', 'сделка', ' ', 'с', ' ', 'подержать', ' ', 'автомобиль', ' ', 'получение', ' ', 'образование', ' ', 'автомобиль', ' ', 'свадьба', ' ', 'получение', ' ', 'дополнительный', ' ', 'образование', ' ', 'покупка', ' ', 'свой', ' ', 'жилье', ' ', 'операция', ' ', 'с', ' ', 'недвижимость', ' ', 'получение', ' ', 'высокий', ' ', 'образование', ' ', 'свой', ' ', 'автомобиль', ' ', 'сделка', ' ', 'с', ' ', 'автомобиль', ' ', 'профильный', ' ', 'образование', ' ', 'высокий', ' ', 'образование', ' ', 'покупка', ' ', 'жилье', ' ', 'для', ' ', 'сдача', ' ', 'на', ' ', 'покупка', ' ', 'автомобиль', ' ', 'ремонт', ' ', 'жилье', ' ', 'заниматься', ' ', 'высокий', ' ', 'образование', '\\n']\n"
     ]
    }
   ],
   "source": [
    "lemmas = m.lemmatize(purpose_string)\n",
    "print(lemmas)"
   ]
  },
  {
   "cell_type": "markdown",
   "metadata": {},
   "source": [
    "Для последующего создания категорий оценим частоту словарных форм в получившимся списке."
   ]
  },
  {
   "cell_type": "code",
   "execution_count": 45,
   "metadata": {},
   "outputs": [
    {
     "name": "stdout",
     "output_type": "stream",
     "text": [
      "Counter({' ': 96, 'покупка': 10, 'недвижимость': 10, 'автомобиль': 9, 'образование': 9, 'жилье': 7, 'с': 5, 'операция': 4, 'на': 4, 'свой': 4, 'свадьба': 3, 'строительство': 3, 'получение': 3, 'высокий': 3, 'дополнительный': 2, 'для': 2, 'коммерческий': 2, 'жилой': 2, 'подержать': 2, 'заниматься': 2, 'сделка': 2, 'приобретение': 1, 'сыграть': 1, 'проведение': 1, 'семья': 1, 'собственный': 1, 'со': 1, 'профильный': 1, 'сдача': 1, 'ремонт': 1, '\\n': 1})\n"
     ]
    }
   ],
   "source": [
    "print(Counter(lemmas))"
   ]
  },
  {
   "cell_type": "markdown",
   "metadata": {},
   "source": [
    "**Вывод**"
   ]
  },
  {
   "cell_type": "markdown",
   "metadata": {},
   "source": [
    "Путем лемматизации получили словарные формы слов, упоминаемых в целях запрашиваемых кредитов. Чтобы оценить возможные категории данных, подсчитали количество упоминаний лемм.\n",
    "\n",
    "Анализ показывает, что в дальнейшем данные по столбцу `purpose` можно разделить на категории по входящим в них словам (1) недвижимость или жилье, (2) автомобиль, (3) образование, (4) свадьба."
   ]
  },
  {
   "cell_type": "markdown",
   "metadata": {},
   "source": [
    "<a id='categories'></a>\n",
    "### Категоризация данных"
   ]
  },
  {
   "cell_type": "markdown",
   "metadata": {},
   "source": [
    "<a id='purposes'></a>\n",
    "#### Категоризация целей запрашиваемых кредитов"
   ]
  },
  {
   "cell_type": "markdown",
   "metadata": {},
   "source": [
    "Создадим функцию, которая будет распределять цели кредитов по категориям."
   ]
  },
  {
   "cell_type": "code",
   "execution_count": 46,
   "metadata": {},
   "outputs": [],
   "source": [
    "def purpose_group(purpose):\n",
    "    if ('недвижим' in purpose) or ('жиль' in purpose):\n",
    "        return 'недвижимость'\n",
    "    if 'автомобил' in purpose:\n",
    "        return 'автомобиль'\n",
    "    if 'образован' in purpose:\n",
    "        return 'образование'\n",
    "    return 'прочее'"
   ]
  },
  {
   "cell_type": "markdown",
   "metadata": {},
   "source": [
    "Применим созданную функцию к столбцу `purpose` с помощью метода `apply(func)` и создадим новый столбец с категориями."
   ]
  },
  {
   "cell_type": "code",
   "execution_count": 47,
   "metadata": {},
   "outputs": [
    {
     "data": {
      "text/html": [
       "<div>\n",
       "<style scoped>\n",
       "    .dataframe tbody tr th:only-of-type {\n",
       "        vertical-align: middle;\n",
       "    }\n",
       "\n",
       "    .dataframe tbody tr th {\n",
       "        vertical-align: top;\n",
       "    }\n",
       "\n",
       "    .dataframe thead th {\n",
       "        text-align: right;\n",
       "    }\n",
       "</style>\n",
       "<table border=\"1\" class=\"dataframe\">\n",
       "  <thead>\n",
       "    <tr style=\"text-align: right;\">\n",
       "      <th></th>\n",
       "      <th>children</th>\n",
       "      <th>days_employed</th>\n",
       "      <th>dob_years</th>\n",
       "      <th>education</th>\n",
       "      <th>education_id</th>\n",
       "      <th>family_status</th>\n",
       "      <th>family_status_id</th>\n",
       "      <th>gender</th>\n",
       "      <th>income_type</th>\n",
       "      <th>debt</th>\n",
       "      <th>total_income</th>\n",
       "      <th>purpose</th>\n",
       "      <th>purpose_group</th>\n",
       "    </tr>\n",
       "  </thead>\n",
       "  <tbody>\n",
       "    <tr>\n",
       "      <td>0</td>\n",
       "      <td>1</td>\n",
       "      <td>8437</td>\n",
       "      <td>42</td>\n",
       "      <td>высшее</td>\n",
       "      <td>0</td>\n",
       "      <td>женат / замужем</td>\n",
       "      <td>0</td>\n",
       "      <td>F</td>\n",
       "      <td>сотрудник</td>\n",
       "      <td>0</td>\n",
       "      <td>253875</td>\n",
       "      <td>покупка жилья</td>\n",
       "      <td>недвижимость</td>\n",
       "    </tr>\n",
       "    <tr>\n",
       "      <td>1</td>\n",
       "      <td>1</td>\n",
       "      <td>4024</td>\n",
       "      <td>36</td>\n",
       "      <td>среднее</td>\n",
       "      <td>1</td>\n",
       "      <td>женат / замужем</td>\n",
       "      <td>0</td>\n",
       "      <td>F</td>\n",
       "      <td>сотрудник</td>\n",
       "      <td>0</td>\n",
       "      <td>112080</td>\n",
       "      <td>приобретение автомобиля</td>\n",
       "      <td>автомобиль</td>\n",
       "    </tr>\n",
       "    <tr>\n",
       "      <td>2</td>\n",
       "      <td>0</td>\n",
       "      <td>5623</td>\n",
       "      <td>33</td>\n",
       "      <td>среднее</td>\n",
       "      <td>1</td>\n",
       "      <td>женат / замужем</td>\n",
       "      <td>0</td>\n",
       "      <td>M</td>\n",
       "      <td>сотрудник</td>\n",
       "      <td>0</td>\n",
       "      <td>145885</td>\n",
       "      <td>покупка жилья</td>\n",
       "      <td>недвижимость</td>\n",
       "    </tr>\n",
       "    <tr>\n",
       "      <td>3</td>\n",
       "      <td>3</td>\n",
       "      <td>4124</td>\n",
       "      <td>32</td>\n",
       "      <td>среднее</td>\n",
       "      <td>1</td>\n",
       "      <td>женат / замужем</td>\n",
       "      <td>0</td>\n",
       "      <td>M</td>\n",
       "      <td>сотрудник</td>\n",
       "      <td>0</td>\n",
       "      <td>267628</td>\n",
       "      <td>дополнительное образование</td>\n",
       "      <td>образование</td>\n",
       "    </tr>\n",
       "    <tr>\n",
       "      <td>4</td>\n",
       "      <td>0</td>\n",
       "      <td>340266</td>\n",
       "      <td>53</td>\n",
       "      <td>среднее</td>\n",
       "      <td>1</td>\n",
       "      <td>гражданский брак</td>\n",
       "      <td>1</td>\n",
       "      <td>F</td>\n",
       "      <td>пенсионер</td>\n",
       "      <td>0</td>\n",
       "      <td>158616</td>\n",
       "      <td>сыграть свадьбу</td>\n",
       "      <td>прочее</td>\n",
       "    </tr>\n",
       "    <tr>\n",
       "      <td>5</td>\n",
       "      <td>0</td>\n",
       "      <td>926</td>\n",
       "      <td>27</td>\n",
       "      <td>высшее</td>\n",
       "      <td>0</td>\n",
       "      <td>гражданский брак</td>\n",
       "      <td>1</td>\n",
       "      <td>M</td>\n",
       "      <td>компаньон</td>\n",
       "      <td>0</td>\n",
       "      <td>255763</td>\n",
       "      <td>покупка жилья</td>\n",
       "      <td>недвижимость</td>\n",
       "    </tr>\n",
       "    <tr>\n",
       "      <td>6</td>\n",
       "      <td>0</td>\n",
       "      <td>2879</td>\n",
       "      <td>43</td>\n",
       "      <td>высшее</td>\n",
       "      <td>0</td>\n",
       "      <td>женат / замужем</td>\n",
       "      <td>0</td>\n",
       "      <td>F</td>\n",
       "      <td>компаньон</td>\n",
       "      <td>0</td>\n",
       "      <td>240525</td>\n",
       "      <td>операции с жильем</td>\n",
       "      <td>недвижимость</td>\n",
       "    </tr>\n",
       "    <tr>\n",
       "      <td>7</td>\n",
       "      <td>0</td>\n",
       "      <td>152</td>\n",
       "      <td>50</td>\n",
       "      <td>среднее</td>\n",
       "      <td>1</td>\n",
       "      <td>женат / замужем</td>\n",
       "      <td>0</td>\n",
       "      <td>M</td>\n",
       "      <td>сотрудник</td>\n",
       "      <td>0</td>\n",
       "      <td>135823</td>\n",
       "      <td>образование</td>\n",
       "      <td>образование</td>\n",
       "    </tr>\n",
       "    <tr>\n",
       "      <td>8</td>\n",
       "      <td>2</td>\n",
       "      <td>6929</td>\n",
       "      <td>35</td>\n",
       "      <td>высшее</td>\n",
       "      <td>0</td>\n",
       "      <td>гражданский брак</td>\n",
       "      <td>1</td>\n",
       "      <td>F</td>\n",
       "      <td>сотрудник</td>\n",
       "      <td>0</td>\n",
       "      <td>95856</td>\n",
       "      <td>на проведение свадьбы</td>\n",
       "      <td>прочее</td>\n",
       "    </tr>\n",
       "    <tr>\n",
       "      <td>9</td>\n",
       "      <td>0</td>\n",
       "      <td>2188</td>\n",
       "      <td>41</td>\n",
       "      <td>среднее</td>\n",
       "      <td>1</td>\n",
       "      <td>женат / замужем</td>\n",
       "      <td>0</td>\n",
       "      <td>M</td>\n",
       "      <td>сотрудник</td>\n",
       "      <td>0</td>\n",
       "      <td>144425</td>\n",
       "      <td>покупка жилья для семьи</td>\n",
       "      <td>недвижимость</td>\n",
       "    </tr>\n",
       "  </tbody>\n",
       "</table>\n",
       "</div>"
      ],
      "text/plain": [
       "   children  days_employed  dob_years education  education_id  \\\n",
       "0         1           8437         42    высшее             0   \n",
       "1         1           4024         36   среднее             1   \n",
       "2         0           5623         33   среднее             1   \n",
       "3         3           4124         32   среднее             1   \n",
       "4         0         340266         53   среднее             1   \n",
       "5         0            926         27    высшее             0   \n",
       "6         0           2879         43    высшее             0   \n",
       "7         0            152         50   среднее             1   \n",
       "8         2           6929         35    высшее             0   \n",
       "9         0           2188         41   среднее             1   \n",
       "\n",
       "      family_status  family_status_id gender income_type  debt  total_income  \\\n",
       "0   женат / замужем                 0      F   сотрудник     0        253875   \n",
       "1   женат / замужем                 0      F   сотрудник     0        112080   \n",
       "2   женат / замужем                 0      M   сотрудник     0        145885   \n",
       "3   женат / замужем                 0      M   сотрудник     0        267628   \n",
       "4  гражданский брак                 1      F   пенсионер     0        158616   \n",
       "5  гражданский брак                 1      M   компаньон     0        255763   \n",
       "6   женат / замужем                 0      F   компаньон     0        240525   \n",
       "7   женат / замужем                 0      M   сотрудник     0        135823   \n",
       "8  гражданский брак                 1      F   сотрудник     0         95856   \n",
       "9   женат / замужем                 0      M   сотрудник     0        144425   \n",
       "\n",
       "                      purpose purpose_group  \n",
       "0               покупка жилья  недвижимость  \n",
       "1     приобретение автомобиля    автомобиль  \n",
       "2               покупка жилья  недвижимость  \n",
       "3  дополнительное образование   образование  \n",
       "4             сыграть свадьбу        прочее  \n",
       "5               покупка жилья  недвижимость  \n",
       "6           операции с жильем  недвижимость  \n",
       "7                 образование   образование  \n",
       "8       на проведение свадьбы        прочее  \n",
       "9     покупка жилья для семьи  недвижимость  "
      ]
     },
     "execution_count": 47,
     "metadata": {},
     "output_type": "execute_result"
    }
   ],
   "source": [
    "data['purpose_group'] = data['purpose'].apply(purpose_group)\n",
    "data.head(10)"
   ]
  },
  {
   "cell_type": "markdown",
   "metadata": {},
   "source": [
    "<a id='income'></a>\n",
    "#### Категоризация дохода"
   ]
  },
  {
   "cell_type": "markdown",
   "metadata": {},
   "source": [
    "По версии Организации экономического сотрудничества и развития средний класс обладает доходом в 75-200% от медианного значения национального дохода. Будем считать нашу выборку репрезентативной.\n",
    "\n",
    "Тогда примем, что:\n",
    "<li> низкий доход - до 75% от медианного значения;</li>\n",
    "<li> средний доход - 75-200% от медианного дохода;</li>\n",
    "<li> высокий доход - свыше 200% от медианного дохода.</li>"
   ]
  },
  {
   "cell_type": "markdown",
   "metadata": {},
   "source": [
    "Создадим функцию, которая будет распределять доход по трем категориям."
   ]
  },
  {
   "cell_type": "code",
   "execution_count": 48,
   "metadata": {},
   "outputs": [],
   "source": [
    "def income_group(income):\n",
    "    if income <= 0.75 * median_total_income:\n",
    "        return 'низкий доход'\n",
    "    if 0.75 * median_total_income < income <= 2 * median_total_income:\n",
    "        return 'средний доход'\n",
    "    if income > 2 * median_total_income:\n",
    "        return 'высокий доход'"
   ]
  },
  {
   "cell_type": "markdown",
   "metadata": {},
   "source": [
    "Применим созданную функцию к столбцу `total_income` с помощью метода `apply(func)` и создадим новый столбец с категориями."
   ]
  },
  {
   "cell_type": "code",
   "execution_count": 49,
   "metadata": {},
   "outputs": [
    {
     "data": {
      "text/html": [
       "<div>\n",
       "<style scoped>\n",
       "    .dataframe tbody tr th:only-of-type {\n",
       "        vertical-align: middle;\n",
       "    }\n",
       "\n",
       "    .dataframe tbody tr th {\n",
       "        vertical-align: top;\n",
       "    }\n",
       "\n",
       "    .dataframe thead th {\n",
       "        text-align: right;\n",
       "    }\n",
       "</style>\n",
       "<table border=\"1\" class=\"dataframe\">\n",
       "  <thead>\n",
       "    <tr style=\"text-align: right;\">\n",
       "      <th></th>\n",
       "      <th>children</th>\n",
       "      <th>days_employed</th>\n",
       "      <th>dob_years</th>\n",
       "      <th>education</th>\n",
       "      <th>education_id</th>\n",
       "      <th>family_status</th>\n",
       "      <th>family_status_id</th>\n",
       "      <th>gender</th>\n",
       "      <th>income_type</th>\n",
       "      <th>debt</th>\n",
       "      <th>total_income</th>\n",
       "      <th>purpose</th>\n",
       "      <th>purpose_group</th>\n",
       "      <th>income_group</th>\n",
       "    </tr>\n",
       "  </thead>\n",
       "  <tbody>\n",
       "    <tr>\n",
       "      <td>0</td>\n",
       "      <td>1</td>\n",
       "      <td>8437</td>\n",
       "      <td>42</td>\n",
       "      <td>высшее</td>\n",
       "      <td>0</td>\n",
       "      <td>женат / замужем</td>\n",
       "      <td>0</td>\n",
       "      <td>F</td>\n",
       "      <td>сотрудник</td>\n",
       "      <td>0</td>\n",
       "      <td>253875</td>\n",
       "      <td>покупка жилья</td>\n",
       "      <td>недвижимость</td>\n",
       "      <td>средний доход</td>\n",
       "    </tr>\n",
       "    <tr>\n",
       "      <td>1</td>\n",
       "      <td>1</td>\n",
       "      <td>4024</td>\n",
       "      <td>36</td>\n",
       "      <td>среднее</td>\n",
       "      <td>1</td>\n",
       "      <td>женат / замужем</td>\n",
       "      <td>0</td>\n",
       "      <td>F</td>\n",
       "      <td>сотрудник</td>\n",
       "      <td>0</td>\n",
       "      <td>112080</td>\n",
       "      <td>приобретение автомобиля</td>\n",
       "      <td>автомобиль</td>\n",
       "      <td>средний доход</td>\n",
       "    </tr>\n",
       "    <tr>\n",
       "      <td>2</td>\n",
       "      <td>0</td>\n",
       "      <td>5623</td>\n",
       "      <td>33</td>\n",
       "      <td>среднее</td>\n",
       "      <td>1</td>\n",
       "      <td>женат / замужем</td>\n",
       "      <td>0</td>\n",
       "      <td>M</td>\n",
       "      <td>сотрудник</td>\n",
       "      <td>0</td>\n",
       "      <td>145885</td>\n",
       "      <td>покупка жилья</td>\n",
       "      <td>недвижимость</td>\n",
       "      <td>средний доход</td>\n",
       "    </tr>\n",
       "    <tr>\n",
       "      <td>3</td>\n",
       "      <td>3</td>\n",
       "      <td>4124</td>\n",
       "      <td>32</td>\n",
       "      <td>среднее</td>\n",
       "      <td>1</td>\n",
       "      <td>женат / замужем</td>\n",
       "      <td>0</td>\n",
       "      <td>M</td>\n",
       "      <td>сотрудник</td>\n",
       "      <td>0</td>\n",
       "      <td>267628</td>\n",
       "      <td>дополнительное образование</td>\n",
       "      <td>образование</td>\n",
       "      <td>средний доход</td>\n",
       "    </tr>\n",
       "    <tr>\n",
       "      <td>4</td>\n",
       "      <td>0</td>\n",
       "      <td>340266</td>\n",
       "      <td>53</td>\n",
       "      <td>среднее</td>\n",
       "      <td>1</td>\n",
       "      <td>гражданский брак</td>\n",
       "      <td>1</td>\n",
       "      <td>F</td>\n",
       "      <td>пенсионер</td>\n",
       "      <td>0</td>\n",
       "      <td>158616</td>\n",
       "      <td>сыграть свадьбу</td>\n",
       "      <td>прочее</td>\n",
       "      <td>средний доход</td>\n",
       "    </tr>\n",
       "    <tr>\n",
       "      <td>5</td>\n",
       "      <td>0</td>\n",
       "      <td>926</td>\n",
       "      <td>27</td>\n",
       "      <td>высшее</td>\n",
       "      <td>0</td>\n",
       "      <td>гражданский брак</td>\n",
       "      <td>1</td>\n",
       "      <td>M</td>\n",
       "      <td>компаньон</td>\n",
       "      <td>0</td>\n",
       "      <td>255763</td>\n",
       "      <td>покупка жилья</td>\n",
       "      <td>недвижимость</td>\n",
       "      <td>средний доход</td>\n",
       "    </tr>\n",
       "    <tr>\n",
       "      <td>6</td>\n",
       "      <td>0</td>\n",
       "      <td>2879</td>\n",
       "      <td>43</td>\n",
       "      <td>высшее</td>\n",
       "      <td>0</td>\n",
       "      <td>женат / замужем</td>\n",
       "      <td>0</td>\n",
       "      <td>F</td>\n",
       "      <td>компаньон</td>\n",
       "      <td>0</td>\n",
       "      <td>240525</td>\n",
       "      <td>операции с жильем</td>\n",
       "      <td>недвижимость</td>\n",
       "      <td>средний доход</td>\n",
       "    </tr>\n",
       "    <tr>\n",
       "      <td>7</td>\n",
       "      <td>0</td>\n",
       "      <td>152</td>\n",
       "      <td>50</td>\n",
       "      <td>среднее</td>\n",
       "      <td>1</td>\n",
       "      <td>женат / замужем</td>\n",
       "      <td>0</td>\n",
       "      <td>M</td>\n",
       "      <td>сотрудник</td>\n",
       "      <td>0</td>\n",
       "      <td>135823</td>\n",
       "      <td>образование</td>\n",
       "      <td>образование</td>\n",
       "      <td>средний доход</td>\n",
       "    </tr>\n",
       "    <tr>\n",
       "      <td>8</td>\n",
       "      <td>2</td>\n",
       "      <td>6929</td>\n",
       "      <td>35</td>\n",
       "      <td>высшее</td>\n",
       "      <td>0</td>\n",
       "      <td>гражданский брак</td>\n",
       "      <td>1</td>\n",
       "      <td>F</td>\n",
       "      <td>сотрудник</td>\n",
       "      <td>0</td>\n",
       "      <td>95856</td>\n",
       "      <td>на проведение свадьбы</td>\n",
       "      <td>прочее</td>\n",
       "      <td>низкий доход</td>\n",
       "    </tr>\n",
       "    <tr>\n",
       "      <td>9</td>\n",
       "      <td>0</td>\n",
       "      <td>2188</td>\n",
       "      <td>41</td>\n",
       "      <td>среднее</td>\n",
       "      <td>1</td>\n",
       "      <td>женат / замужем</td>\n",
       "      <td>0</td>\n",
       "      <td>M</td>\n",
       "      <td>сотрудник</td>\n",
       "      <td>0</td>\n",
       "      <td>144425</td>\n",
       "      <td>покупка жилья для семьи</td>\n",
       "      <td>недвижимость</td>\n",
       "      <td>средний доход</td>\n",
       "    </tr>\n",
       "  </tbody>\n",
       "</table>\n",
       "</div>"
      ],
      "text/plain": [
       "   children  days_employed  dob_years education  education_id  \\\n",
       "0         1           8437         42    высшее             0   \n",
       "1         1           4024         36   среднее             1   \n",
       "2         0           5623         33   среднее             1   \n",
       "3         3           4124         32   среднее             1   \n",
       "4         0         340266         53   среднее             1   \n",
       "5         0            926         27    высшее             0   \n",
       "6         0           2879         43    высшее             0   \n",
       "7         0            152         50   среднее             1   \n",
       "8         2           6929         35    высшее             0   \n",
       "9         0           2188         41   среднее             1   \n",
       "\n",
       "      family_status  family_status_id gender income_type  debt  total_income  \\\n",
       "0   женат / замужем                 0      F   сотрудник     0        253875   \n",
       "1   женат / замужем                 0      F   сотрудник     0        112080   \n",
       "2   женат / замужем                 0      M   сотрудник     0        145885   \n",
       "3   женат / замужем                 0      M   сотрудник     0        267628   \n",
       "4  гражданский брак                 1      F   пенсионер     0        158616   \n",
       "5  гражданский брак                 1      M   компаньон     0        255763   \n",
       "6   женат / замужем                 0      F   компаньон     0        240525   \n",
       "7   женат / замужем                 0      M   сотрудник     0        135823   \n",
       "8  гражданский брак                 1      F   сотрудник     0         95856   \n",
       "9   женат / замужем                 0      M   сотрудник     0        144425   \n",
       "\n",
       "                      purpose purpose_group   income_group  \n",
       "0               покупка жилья  недвижимость  средний доход  \n",
       "1     приобретение автомобиля    автомобиль  средний доход  \n",
       "2               покупка жилья  недвижимость  средний доход  \n",
       "3  дополнительное образование   образование  средний доход  \n",
       "4             сыграть свадьбу        прочее  средний доход  \n",
       "5               покупка жилья  недвижимость  средний доход  \n",
       "6           операции с жильем  недвижимость  средний доход  \n",
       "7                 образование   образование  средний доход  \n",
       "8       на проведение свадьбы        прочее   низкий доход  \n",
       "9     покупка жилья для семьи  недвижимость  средний доход  "
      ]
     },
     "execution_count": 49,
     "metadata": {},
     "output_type": "execute_result"
    }
   ],
   "source": [
    "data['income_group'] = data['total_income'].apply(income_group)\n",
    "data.head(10)"
   ]
  },
  {
   "cell_type": "markdown",
   "metadata": {},
   "source": [
    "**Вывод**"
   ]
  },
  {
   "cell_type": "markdown",
   "metadata": {},
   "source": [
    "Все цели запрашиваемых кредитов выделены в четыре категории: \"недвижимость\", \"автомобиль\", \"образование\" и \"прочее\". В \"прочее\" входят свадьбы и иные мероприятия, связанные с большими тратами.\n",
    "\n",
    "Доходы потенциальных заемщиков разделены на три категории: \"высокий доход\", \"средний доход\", \"низкий доход\".\n",
    "\n",
    "В обоих случаях применялись одинаковые методы и были написаны пользовательские функции."
   ]
  },
  {
   "cell_type": "code",
   "execution_count": null,
   "metadata": {},
   "outputs": [],
   "source": []
  },
  {
   "cell_type": "markdown",
   "metadata": {},
   "source": [
    "<a id='answers'></a>\n",
    "## Шаг 3. Ответьте на вопросы"
   ]
  },
  {
   "cell_type": "markdown",
   "metadata": {},
   "source": [
    "- Есть ли зависимость между наличием детей и возвратом кредита в срок?"
   ]
  },
  {
   "cell_type": "markdown",
   "metadata": {},
   "source": [
    "Сгруппируем данные по количеству детей и найдем сумму и количество невозвратов для каждой группы. Посчитаем долю невозвратов в зависимости от количества детей, т.е. долю от каждой группы."
   ]
  },
  {
   "cell_type": "code",
   "execution_count": 50,
   "metadata": {
    "scrolled": true
   },
   "outputs": [
    {
     "name": "stdout",
     "output_type": "stream",
     "text": [
      "            debt             frac\n",
      "             sum  count          \n",
      "children                         \n",
      "0         1063.0  14091  0.075438\n",
      "1          445.0   4855  0.091658\n",
      "2          194.0   2052  0.094542\n",
      "3           27.0    330  0.081818\n",
      "4            4.0     41  0.097561\n",
      "5            0.0      9  0.000000\n",
      "20           8.0     76  0.105263\n"
     ]
    }
   ],
   "source": [
    "children_grouped = data.groupby('children').agg({'debt': ['sum', 'count']})\n",
    "children_grouped['frac'] = children_grouped['debt']['sum'] / children_grouped['debt']['count']\n",
    "print(children_grouped)"
   ]
  },
  {
   "cell_type": "markdown",
   "metadata": {},
   "source": [
    "**Вывод**"
   ]
  },
  {
   "cell_type": "markdown",
   "metadata": {},
   "source": [
    "Анализ данных показывает, что бездетные заемщики более дисциплинированные: 7% бездетных заемщиков не возвращают кредиты в срок, в то время как среди клиентов с детьми таких около 9-10%."
   ]
  },
  {
   "cell_type": "markdown",
   "metadata": {},
   "source": [
    "- Есть ли зависимость между семейным положением и возвратом кредита в срок?"
   ]
  },
  {
   "cell_type": "markdown",
   "metadata": {},
   "source": [
    "Сгруппируем данные по семейному положению и найдем сумму, количество и долю невозвратов для каждой группы."
   ]
  },
  {
   "cell_type": "code",
   "execution_count": 51,
   "metadata": {},
   "outputs": [
    {
     "name": "stdout",
     "output_type": "stream",
     "text": [
      "                        debt             frac\n",
      "                         sum  count          \n",
      "family_status                                \n",
      "Не женат / не замужем  274.0   2810  0.097509\n",
      "в разводе               85.0   1195  0.071130\n",
      "вдовец / вдова          63.0    959  0.065693\n",
      "гражданский брак       388.0   4151  0.093471\n",
      "женат / замужем        931.0  12339  0.075452\n"
     ]
    }
   ],
   "source": [
    "family_status_grouped = data.groupby('family_status').agg({'debt': ['sum', 'count']})\n",
    "family_status_grouped['frac'] = family_status_grouped['debt']['sum'] / family_status_grouped['debt']['count']\n",
    "print(family_status_grouped)"
   ]
  },
  {
   "cell_type": "markdown",
   "metadata": {},
   "source": [
    "**Вывод**"
   ]
  },
  {
   "cell_type": "markdown",
   "metadata": {},
   "source": [
    "Зависимость между семейным положением и возвратом кредита в срок проявляется в том, что:\n",
    "\n",
    "- официально не состоящие в браке заемщики имеют б*о*льший процент невозвратов кредитов в срок в своей группе - около 9%;\n",
    "\n",
    "- официально семейные и разведенные заемщики становятся должниками в 7% случаях;\n",
    "\n",
    "- меньше всего просрочек по кредиту у одиноких людей (вдовых) - порядка 6%."
   ]
  },
  {
   "cell_type": "markdown",
   "metadata": {},
   "source": [
    "- Есть ли зависимость между уровнем дохода и возвратом кредита в срок?"
   ]
  },
  {
   "cell_type": "markdown",
   "metadata": {},
   "source": [
    "Сгруппируем данные по доходу и найдем сумму, количество и долю невозвратов для каждой группы."
   ]
  },
  {
   "cell_type": "code",
   "execution_count": 52,
   "metadata": {},
   "outputs": [
    {
     "name": "stdout",
     "output_type": "stream",
     "text": [
      "                 debt             frac\n",
      "                  sum  count          \n",
      "income_group                          \n",
      "высокий доход   120.0   1655  0.072508\n",
      "низкий доход    438.0   5501  0.079622\n",
      "средний доход  1183.0  14298  0.082739\n"
     ]
    }
   ],
   "source": [
    "income_grouped = data.groupby('income_group').agg({'debt': ['sum', 'count']})\n",
    "income_grouped['frac'] = income_grouped['debt']['sum'] / income_grouped['debt']['count']\n",
    "print(income_grouped)"
   ]
  },
  {
   "cell_type": "markdown",
   "metadata": {},
   "source": [
    "**Вывод**"
   ]
  },
  {
   "cell_type": "markdown",
   "metadata": {},
   "source": [
    "Заемщики со средним и низким доходом чаще всего имеют задолженности по кредиту. Что довольно предсказуемо."
   ]
  },
  {
   "cell_type": "markdown",
   "metadata": {},
   "source": [
    "- Как разные цели кредита влияют на его возврат в срок?"
   ]
  },
  {
   "cell_type": "markdown",
   "metadata": {},
   "source": [
    "Сгруппируем данные по категориям целей и  найдем сумму, количество и долю невозвратов для каждой группы."
   ]
  },
  {
   "cell_type": "code",
   "execution_count": 53,
   "metadata": {},
   "outputs": [
    {
     "name": "stdout",
     "output_type": "stream",
     "text": [
      "                debt             frac\n",
      "                 sum  count          \n",
      "purpose_group                        \n",
      "автомобиль     403.0   4306  0.093590\n",
      "недвижимость   782.0  10811  0.072334\n",
      "образование    370.0   4013  0.092200\n",
      "прочее         186.0   2324  0.080034\n"
     ]
    }
   ],
   "source": [
    "purpose_grouped = data.groupby('purpose_group').agg({'debt': ['sum', 'count']})\n",
    "purpose_grouped['frac'] = purpose_grouped['debt']['sum'] / purpose_grouped['debt']['count']\n",
    "print(purpose_grouped)"
   ]
  },
  {
   "cell_type": "markdown",
   "metadata": {},
   "source": [
    "**Вывод**"
   ]
  },
  {
   "cell_type": "markdown",
   "metadata": {},
   "source": [
    "Меньше всего задолженностей по кредитам возникает при операциях с недвижимостью."
   ]
  },
  {
   "cell_type": "markdown",
   "metadata": {},
   "source": [
    "<a id='conclusion'></a>\n",
    "## Шаг 4. Общий вывод"
   ]
  },
  {
   "cell_type": "markdown",
   "metadata": {},
   "source": [
    "Целью исследования было узнать, влияет ли семейное положение и количество детей клиента на факт погашения кредита в срок и каким образом.\n",
    "\n",
    "Были проверены четыре гипотезы. Оценивалась **доля должников в каждой категории заемщиков**, поскольку исходные данные не равномерные и находить доли от общего количества клиентов в датасете неверно.\n",
    "\n",
    "Анализ данных показал следующее:\n",
    "\n",
    "1. Заемщики без детей более дисциплинированные: 7% бездетных заемщиков не возвращают кредиты в срок, в то время как среди клиентов с детьми таких около 9-10%.\n",
    "\n",
    "\n",
    "2. Зависимость между семейным положением и возвратом кредита в срок проявляется в том, что:\n",
    "\n",
    "- официально не состоящие в браке заемщики имеют б*о*льший процент невозвратов кредитов в срок в своей группе - около 9%;\n",
    "\n",
    "- официально семейные и разведенные заемщики становятся должниками в 7% случаях;\n",
    "\n",
    "- меньше всего просрочек по кредиту у одиноких людей (вдовых) - порядка 6%.\n",
    "\n",
    "3. Величина дохода влияет на факт погашения кредита в срок: люди со средним и низким доходом чаще не возвращают кредиты в срок - таких около 8% в каждой группе.\n",
    "\n",
    "\n",
    "4. Меньше всего задолженностей по кредитам возникает при операциях с недвижимостью (7% в своей группе), в то время как по кредитам на автомобили и образование не справляются 9% заемщиков.\n"
   ]
  }
 ],
 "metadata": {
  "ExecuteTimeLog": [
   {
    "duration": 649,
    "start_time": "2021-11-03T10:45:41.905Z"
   },
   {
    "duration": 65,
    "start_time": "2021-11-03T10:45:57.587Z"
   },
   {
    "duration": 3,
    "start_time": "2021-11-03T10:47:34.367Z"
   },
   {
    "duration": 3,
    "start_time": "2021-11-03T10:47:53.422Z"
   },
   {
    "duration": 51,
    "start_time": "2021-11-03T10:48:15.183Z"
   },
   {
    "duration": 14,
    "start_time": "2021-11-03T10:48:19.678Z"
   },
   {
    "duration": 12,
    "start_time": "2021-11-03T10:48:31.150Z"
   },
   {
    "duration": 7,
    "start_time": "2021-11-03T11:07:25.026Z"
   },
   {
    "duration": 8,
    "start_time": "2021-11-03T11:10:19.969Z"
   },
   {
    "duration": 15,
    "start_time": "2021-11-03T11:11:47.105Z"
   },
   {
    "duration": 10,
    "start_time": "2021-11-03T11:11:57.345Z"
   },
   {
    "duration": 4,
    "start_time": "2021-11-03T11:20:10.004Z"
   },
   {
    "duration": 5,
    "start_time": "2021-11-03T11:21:12.371Z"
   },
   {
    "duration": 5,
    "start_time": "2021-11-03T11:21:20.468Z"
   },
   {
    "duration": 5,
    "start_time": "2021-11-03T11:21:31.811Z"
   },
   {
    "duration": 5,
    "start_time": "2021-11-03T11:22:57.283Z"
   },
   {
    "duration": 7,
    "start_time": "2021-11-03T11:23:09.013Z"
   },
   {
    "duration": 7,
    "start_time": "2021-11-03T11:23:44.228Z"
   },
   {
    "duration": 16,
    "start_time": "2021-11-03T11:24:03.748Z"
   },
   {
    "duration": 5,
    "start_time": "2021-11-03T11:25:14.132Z"
   },
   {
    "duration": 420,
    "start_time": "2021-11-03T11:25:31.060Z"
   },
   {
    "duration": 5,
    "start_time": "2021-11-03T11:26:52.452Z"
   },
   {
    "duration": 13,
    "start_time": "2021-11-03T11:27:34.677Z"
   },
   {
    "duration": 10,
    "start_time": "2021-11-03T11:27:35.621Z"
   },
   {
    "duration": 6,
    "start_time": "2021-11-03T11:27:52.836Z"
   },
   {
    "duration": 8,
    "start_time": "2021-11-03T11:28:06.164Z"
   },
   {
    "duration": 6,
    "start_time": "2021-11-03T11:28:46.164Z"
   },
   {
    "duration": 6,
    "start_time": "2021-11-03T11:28:57.333Z"
   },
   {
    "duration": 6,
    "start_time": "2021-11-03T11:29:39.540Z"
   },
   {
    "duration": 7,
    "start_time": "2021-11-03T11:29:45.796Z"
   },
   {
    "duration": 6,
    "start_time": "2021-11-03T11:33:39.525Z"
   },
   {
    "duration": 7,
    "start_time": "2021-11-03T11:34:00.550Z"
   },
   {
    "duration": 6,
    "start_time": "2021-11-03T11:34:03.157Z"
   },
   {
    "duration": 7,
    "start_time": "2021-11-03T11:35:24.918Z"
   },
   {
    "duration": 7,
    "start_time": "2021-11-03T11:35:31.669Z"
   },
   {
    "duration": 6,
    "start_time": "2021-11-03T11:35:42.230Z"
   },
   {
    "duration": 7,
    "start_time": "2021-11-03T11:36:09.750Z"
   },
   {
    "duration": 8,
    "start_time": "2021-11-03T11:39:25.526Z"
   },
   {
    "duration": 6,
    "start_time": "2021-11-03T11:40:37.590Z"
   },
   {
    "duration": 6,
    "start_time": "2021-11-03T11:47:52.282Z"
   },
   {
    "duration": 8,
    "start_time": "2021-11-03T11:47:55.128Z"
   },
   {
    "duration": 6,
    "start_time": "2021-11-03T11:47:57.095Z"
   },
   {
    "duration": 6,
    "start_time": "2021-11-03T11:47:59.929Z"
   },
   {
    "duration": 5,
    "start_time": "2021-11-03T11:48:07.074Z"
   },
   {
    "duration": 7,
    "start_time": "2021-11-03T11:48:42.953Z"
   },
   {
    "duration": 6,
    "start_time": "2021-11-03T11:51:16.296Z"
   },
   {
    "duration": 7,
    "start_time": "2021-11-03T11:51:38.521Z"
   },
   {
    "duration": 7,
    "start_time": "2021-11-03T12:15:40.155Z"
   },
   {
    "duration": 8579,
    "start_time": "2021-11-03T12:16:43.771Z"
   },
   {
    "duration": 3,
    "start_time": "2021-11-03T12:16:59.815Z"
   },
   {
    "duration": 57,
    "start_time": "2021-11-03T12:16:59.819Z"
   },
   {
    "duration": 12,
    "start_time": "2021-11-03T12:16:59.879Z"
   },
   {
    "duration": 13,
    "start_time": "2021-11-03T12:16:59.893Z"
   },
   {
    "duration": 5,
    "start_time": "2021-11-03T12:16:59.908Z"
   },
   {
    "duration": 8,
    "start_time": "2021-11-03T12:16:59.915Z"
   },
   {
    "duration": 9,
    "start_time": "2021-11-03T12:16:59.924Z"
   },
   {
    "duration": 30,
    "start_time": "2021-11-03T12:16:59.934Z"
   },
   {
    "duration": 5,
    "start_time": "2021-11-03T12:16:59.967Z"
   },
   {
    "duration": 14,
    "start_time": "2021-11-03T12:16:59.974Z"
   },
   {
    "duration": 9,
    "start_time": "2021-11-03T12:16:59.989Z"
   },
   {
    "duration": 11,
    "start_time": "2021-11-03T12:17:00.000Z"
   },
   {
    "duration": 14,
    "start_time": "2021-11-03T12:17:00.013Z"
   },
   {
    "duration": 14,
    "start_time": "2021-11-03T12:17:00.029Z"
   },
   {
    "duration": 5964,
    "start_time": "2021-11-03T12:17:04.716Z"
   },
   {
    "duration": 5,
    "start_time": "2021-11-03T12:17:16.475Z"
   },
   {
    "duration": 4,
    "start_time": "2021-11-03T12:17:19.356Z"
   },
   {
    "duration": 5,
    "start_time": "2021-11-03T12:17:32.075Z"
   },
   {
    "duration": 5,
    "start_time": "2021-11-03T12:23:24.285Z"
   },
   {
    "duration": 7,
    "start_time": "2021-11-03T12:24:14.780Z"
   },
   {
    "duration": 19,
    "start_time": "2021-11-03T12:24:32.429Z"
   },
   {
    "duration": 5,
    "start_time": "2021-11-03T12:25:32.957Z"
   },
   {
    "duration": 17,
    "start_time": "2021-11-03T12:25:33.556Z"
   },
   {
    "duration": 19,
    "start_time": "2021-11-03T12:26:16.782Z"
   },
   {
    "duration": 18,
    "start_time": "2021-11-03T12:27:37.677Z"
   },
   {
    "duration": 18,
    "start_time": "2021-11-03T12:27:52.333Z"
   },
   {
    "duration": 17,
    "start_time": "2021-11-03T12:27:57.629Z"
   },
   {
    "duration": 18,
    "start_time": "2021-11-03T12:28:31.486Z"
   },
   {
    "duration": 24,
    "start_time": "2021-11-03T12:28:36.926Z"
   },
   {
    "duration": 16,
    "start_time": "2021-11-03T12:28:45.327Z"
   },
   {
    "duration": 16,
    "start_time": "2021-11-03T12:28:56.190Z"
   },
   {
    "duration": 17,
    "start_time": "2021-11-03T12:28:58.830Z"
   },
   {
    "duration": 2,
    "start_time": "2021-11-03T12:29:07.953Z"
   },
   {
    "duration": 51,
    "start_time": "2021-11-03T12:29:07.958Z"
   },
   {
    "duration": 13,
    "start_time": "2021-11-03T12:29:08.012Z"
   },
   {
    "duration": 16,
    "start_time": "2021-11-03T12:29:08.027Z"
   },
   {
    "duration": 5,
    "start_time": "2021-11-03T12:29:08.045Z"
   },
   {
    "duration": 10,
    "start_time": "2021-11-03T12:29:08.063Z"
   },
   {
    "duration": 7,
    "start_time": "2021-11-03T12:29:08.075Z"
   },
   {
    "duration": 8,
    "start_time": "2021-11-03T12:29:08.084Z"
   },
   {
    "duration": 5,
    "start_time": "2021-11-03T12:29:08.094Z"
   },
   {
    "duration": 9,
    "start_time": "2021-11-03T12:29:08.101Z"
   },
   {
    "duration": 13,
    "start_time": "2021-11-03T12:29:08.112Z"
   },
   {
    "duration": 16,
    "start_time": "2021-11-03T12:29:08.127Z"
   },
   {
    "duration": 24,
    "start_time": "2021-11-03T12:29:08.145Z"
   },
   {
    "duration": 13,
    "start_time": "2021-11-03T12:29:08.171Z"
   },
   {
    "duration": 8,
    "start_time": "2021-11-03T12:29:08.185Z"
   },
   {
    "duration": 19,
    "start_time": "2021-11-03T12:29:08.195Z"
   },
   {
    "duration": 18,
    "start_time": "2021-11-03T12:29:25.070Z"
   },
   {
    "duration": 6,
    "start_time": "2021-11-03T12:31:39.965Z"
   },
   {
    "duration": 7,
    "start_time": "2021-11-03T12:31:50.462Z"
   },
   {
    "duration": 11,
    "start_time": "2021-11-03T12:32:02.190Z"
   },
   {
    "duration": 5,
    "start_time": "2021-11-03T12:32:36.239Z"
   },
   {
    "duration": 5,
    "start_time": "2021-11-03T12:32:40.926Z"
   },
   {
    "duration": 8,
    "start_time": "2021-11-03T12:32:50.782Z"
   },
   {
    "duration": 16,
    "start_time": "2021-11-03T12:33:30.591Z"
   },
   {
    "duration": 11,
    "start_time": "2021-11-03T12:33:43.710Z"
   },
   {
    "duration": 11,
    "start_time": "2021-11-03T12:34:20.365Z"
   },
   {
    "duration": 6,
    "start_time": "2021-11-03T12:36:26.159Z"
   },
   {
    "duration": 10,
    "start_time": "2021-11-03T12:36:41.823Z"
   },
   {
    "duration": 7,
    "start_time": "2021-11-03T12:37:21.967Z"
   },
   {
    "duration": 6,
    "start_time": "2021-11-03T12:37:37.648Z"
   },
   {
    "duration": 7,
    "start_time": "2021-11-03T12:37:40.014Z"
   },
   {
    "duration": 5,
    "start_time": "2021-11-03T12:37:41.551Z"
   },
   {
    "duration": 7,
    "start_time": "2021-11-03T12:37:44.366Z"
   },
   {
    "duration": 6,
    "start_time": "2021-11-03T12:37:51.902Z"
   },
   {
    "duration": 7,
    "start_time": "2021-11-03T12:39:40.784Z"
   },
   {
    "duration": 7,
    "start_time": "2021-11-03T12:39:56.136Z"
   },
   {
    "duration": 7,
    "start_time": "2021-11-03T12:40:55.553Z"
   },
   {
    "duration": 9,
    "start_time": "2021-11-03T12:41:45.952Z"
   },
   {
    "duration": 3,
    "start_time": "2021-11-03T12:43:35.939Z"
   },
   {
    "duration": 3,
    "start_time": "2021-11-03T12:44:00.000Z"
   },
   {
    "duration": 2,
    "start_time": "2021-11-03T12:45:15.156Z"
   },
   {
    "duration": 9,
    "start_time": "2021-11-03T12:45:41.776Z"
   },
   {
    "duration": 9,
    "start_time": "2021-11-03T12:46:16.511Z"
   },
   {
    "duration": 11,
    "start_time": "2021-11-03T12:49:38.096Z"
   },
   {
    "duration": 9,
    "start_time": "2021-11-03T12:50:02.096Z"
   },
   {
    "duration": 9,
    "start_time": "2021-11-03T12:50:28.625Z"
   },
   {
    "duration": 16,
    "start_time": "2021-11-03T12:51:16.304Z"
   },
   {
    "duration": 15,
    "start_time": "2021-11-03T12:51:29.056Z"
   },
   {
    "duration": 10,
    "start_time": "2021-11-03T12:52:02.239Z"
   },
   {
    "duration": 14,
    "start_time": "2021-11-03T12:56:47.648Z"
   },
   {
    "duration": 11,
    "start_time": "2021-11-03T12:57:21.472Z"
   },
   {
    "duration": 10,
    "start_time": "2021-11-03T12:58:59.019Z"
   },
   {
    "duration": 5,
    "start_time": "2021-11-03T12:58:59.031Z"
   },
   {
    "duration": 4,
    "start_time": "2021-11-03T13:01:13.857Z"
   },
   {
    "duration": 10,
    "start_time": "2021-11-03T13:01:25.408Z"
   },
   {
    "duration": 6,
    "start_time": "2021-11-03T13:02:04.417Z"
   },
   {
    "duration": 6,
    "start_time": "2021-11-03T13:02:24.161Z"
   },
   {
    "duration": 5,
    "start_time": "2021-11-03T13:02:57.641Z"
   },
   {
    "duration": 5,
    "start_time": "2021-11-03T13:02:58.177Z"
   },
   {
    "duration": 10,
    "start_time": "2021-11-03T13:02:58.705Z"
   },
   {
    "duration": 7,
    "start_time": "2021-11-03T13:07:56.577Z"
   },
   {
    "duration": 5,
    "start_time": "2021-11-03T13:09:02.599Z"
   },
   {
    "duration": 5,
    "start_time": "2021-11-03T13:09:13.794Z"
   },
   {
    "duration": 4,
    "start_time": "2021-11-03T13:09:14.322Z"
   },
   {
    "duration": 10,
    "start_time": "2021-11-03T13:09:24.706Z"
   },
   {
    "duration": 3,
    "start_time": "2021-11-03T13:09:33.181Z"
   },
   {
    "duration": 62,
    "start_time": "2021-11-03T13:09:33.187Z"
   },
   {
    "duration": 13,
    "start_time": "2021-11-03T13:09:33.251Z"
   },
   {
    "duration": 14,
    "start_time": "2021-11-03T13:09:33.266Z"
   },
   {
    "duration": 5,
    "start_time": "2021-11-03T13:09:33.282Z"
   },
   {
    "duration": 13,
    "start_time": "2021-11-03T13:09:33.289Z"
   },
   {
    "duration": 7,
    "start_time": "2021-11-03T13:09:33.304Z"
   },
   {
    "duration": 10,
    "start_time": "2021-11-03T13:09:33.313Z"
   },
   {
    "duration": 8,
    "start_time": "2021-11-03T13:09:33.326Z"
   },
   {
    "duration": 9,
    "start_time": "2021-11-03T13:09:33.364Z"
   },
   {
    "duration": 19,
    "start_time": "2021-11-03T13:09:33.375Z"
   },
   {
    "duration": 15,
    "start_time": "2021-11-03T13:09:33.396Z"
   },
   {
    "duration": 15,
    "start_time": "2021-11-03T13:09:33.413Z"
   },
   {
    "duration": 14,
    "start_time": "2021-11-03T13:09:33.430Z"
   },
   {
    "duration": 23,
    "start_time": "2021-11-03T13:09:33.446Z"
   },
   {
    "duration": 13,
    "start_time": "2021-11-03T13:09:33.472Z"
   },
   {
    "duration": 15,
    "start_time": "2021-11-03T13:09:33.487Z"
   },
   {
    "duration": 23,
    "start_time": "2021-11-03T13:09:33.504Z"
   },
   {
    "duration": 4,
    "start_time": "2021-11-03T13:19:45.014Z"
   },
   {
    "duration": 4,
    "start_time": "2021-11-03T13:19:49.764Z"
   },
   {
    "duration": 12,
    "start_time": "2021-11-03T13:19:58.324Z"
   },
   {
    "duration": 269,
    "start_time": "2021-11-03T13:20:52.901Z"
   },
   {
    "duration": 7,
    "start_time": "2021-11-03T13:20:59.333Z"
   },
   {
    "duration": 6,
    "start_time": "2021-11-03T13:21:00.763Z"
   },
   {
    "duration": 3125,
    "start_time": "2021-11-03T13:21:09.909Z"
   },
   {
    "duration": 695,
    "start_time": "2021-11-03T13:21:12.341Z"
   },
   {
    "duration": 693,
    "start_time": "2021-11-03T13:21:12.344Z"
   },
   {
    "duration": 3,
    "start_time": "2021-11-03T13:21:19.816Z"
   },
   {
    "duration": 70,
    "start_time": "2021-11-03T13:21:19.821Z"
   },
   {
    "duration": 14,
    "start_time": "2021-11-03T13:21:19.893Z"
   },
   {
    "duration": 28,
    "start_time": "2021-11-03T13:21:19.909Z"
   },
   {
    "duration": 12,
    "start_time": "2021-11-03T13:21:19.939Z"
   },
   {
    "duration": 18,
    "start_time": "2021-11-03T13:21:19.953Z"
   },
   {
    "duration": 23,
    "start_time": "2021-11-03T13:21:19.973Z"
   },
   {
    "duration": 24,
    "start_time": "2021-11-03T13:21:19.998Z"
   },
   {
    "duration": 30,
    "start_time": "2021-11-03T13:21:20.025Z"
   },
   {
    "duration": 22,
    "start_time": "2021-11-03T13:21:20.057Z"
   },
   {
    "duration": 14,
    "start_time": "2021-11-03T13:21:20.081Z"
   },
   {
    "duration": 24,
    "start_time": "2021-11-03T13:21:20.097Z"
   },
   {
    "duration": 10,
    "start_time": "2021-11-03T13:21:20.123Z"
   },
   {
    "duration": 14,
    "start_time": "2021-11-03T13:21:20.135Z"
   },
   {
    "duration": 12,
    "start_time": "2021-11-03T13:21:20.151Z"
   },
   {
    "duration": 15,
    "start_time": "2021-11-03T13:21:20.165Z"
   },
   {
    "duration": 16,
    "start_time": "2021-11-03T13:21:20.182Z"
   },
   {
    "duration": 15,
    "start_time": "2021-11-03T13:21:20.200Z"
   },
   {
    "duration": 10,
    "start_time": "2021-11-03T13:21:20.217Z"
   },
   {
    "duration": 15,
    "start_time": "2021-11-03T13:21:20.230Z"
   },
   {
    "duration": 30,
    "start_time": "2021-11-03T13:21:20.248Z"
   },
   {
    "duration": 5,
    "start_time": "2021-11-03T13:21:38.101Z"
   },
   {
    "duration": 260,
    "start_time": "2021-11-03T13:22:14.741Z"
   },
   {
    "duration": 14,
    "start_time": "2021-11-03T13:22:15.189Z"
   },
   {
    "duration": 248,
    "start_time": "2021-11-03T13:22:46.008Z"
   },
   {
    "duration": 5,
    "start_time": "2021-11-03T13:24:02.390Z"
   },
   {
    "duration": 6095,
    "start_time": "2021-11-03T13:24:02.757Z"
   },
   {
    "duration": 720,
    "start_time": "2021-11-03T13:24:08.134Z"
   },
   {
    "duration": 4,
    "start_time": "2021-11-03T13:24:16.245Z"
   },
   {
    "duration": 10,
    "start_time": "2021-11-03T13:24:17.076Z"
   },
   {
    "duration": 4,
    "start_time": "2021-11-03T13:25:14.660Z"
   },
   {
    "duration": 8,
    "start_time": "2021-11-03T13:25:15.957Z"
   },
   {
    "duration": 13,
    "start_time": "2021-11-03T13:25:19.382Z"
   },
   {
    "duration": 7,
    "start_time": "2021-11-03T13:27:53.717Z"
   },
   {
    "duration": 5,
    "start_time": "2021-11-03T13:28:30.949Z"
   },
   {
    "duration": 8,
    "start_time": "2021-11-03T13:29:09.765Z"
   },
   {
    "duration": 241,
    "start_time": "2021-11-03T13:30:05.623Z"
   },
   {
    "duration": 14,
    "start_time": "2021-11-03T13:31:04.918Z"
   },
   {
    "duration": 7,
    "start_time": "2021-11-03T13:31:20.551Z"
   },
   {
    "duration": 9,
    "start_time": "2021-11-03T13:31:26.567Z"
   },
   {
    "duration": 18,
    "start_time": "2021-11-03T13:31:57.911Z"
   },
   {
    "duration": 13,
    "start_time": "2021-11-03T13:47:22.830Z"
   },
   {
    "duration": 8,
    "start_time": "2021-11-03T13:47:52.026Z"
   },
   {
    "duration": 13,
    "start_time": "2021-11-03T13:47:56.611Z"
   },
   {
    "duration": 21,
    "start_time": "2021-11-03T13:50:42.940Z"
   },
   {
    "duration": 24,
    "start_time": "2021-11-03T13:52:07.210Z"
   },
   {
    "duration": 17,
    "start_time": "2021-11-03T13:52:17.148Z"
   },
   {
    "duration": 11,
    "start_time": "2021-11-03T13:52:24.122Z"
   },
   {
    "duration": 18,
    "start_time": "2021-11-03T13:52:48.986Z"
   },
   {
    "duration": 17,
    "start_time": "2021-11-03T14:00:58.363Z"
   },
   {
    "duration": 3,
    "start_time": "2021-11-03T14:01:03.535Z"
   },
   {
    "duration": 76,
    "start_time": "2021-11-03T14:01:03.540Z"
   },
   {
    "duration": 14,
    "start_time": "2021-11-03T14:01:03.618Z"
   },
   {
    "duration": 24,
    "start_time": "2021-11-03T14:01:03.634Z"
   },
   {
    "duration": 5,
    "start_time": "2021-11-03T14:01:03.660Z"
   },
   {
    "duration": 14,
    "start_time": "2021-11-03T14:01:03.667Z"
   },
   {
    "duration": 11,
    "start_time": "2021-11-03T14:01:03.683Z"
   },
   {
    "duration": 10,
    "start_time": "2021-11-03T14:01:03.696Z"
   },
   {
    "duration": 18,
    "start_time": "2021-11-03T14:01:03.709Z"
   },
   {
    "duration": 16,
    "start_time": "2021-11-03T14:01:03.729Z"
   },
   {
    "duration": 22,
    "start_time": "2021-11-03T14:01:03.747Z"
   },
   {
    "duration": 13,
    "start_time": "2021-11-03T14:01:03.771Z"
   },
   {
    "duration": 13,
    "start_time": "2021-11-03T14:01:03.786Z"
   },
   {
    "duration": 13,
    "start_time": "2021-11-03T14:01:03.801Z"
   },
   {
    "duration": 24,
    "start_time": "2021-11-03T14:01:03.816Z"
   },
   {
    "duration": 3,
    "start_time": "2021-11-03T14:04:00.456Z"
   },
   {
    "duration": 67,
    "start_time": "2021-11-03T14:04:00.462Z"
   },
   {
    "duration": 13,
    "start_time": "2021-11-03T14:04:00.531Z"
   },
   {
    "duration": 22,
    "start_time": "2021-11-03T14:04:00.547Z"
   },
   {
    "duration": 27,
    "start_time": "2021-11-03T14:04:00.571Z"
   },
   {
    "duration": 22,
    "start_time": "2021-11-03T14:04:00.601Z"
   },
   {
    "duration": 23,
    "start_time": "2021-11-03T14:04:00.625Z"
   },
   {
    "duration": 11,
    "start_time": "2021-11-03T14:04:00.651Z"
   },
   {
    "duration": 16,
    "start_time": "2021-11-03T14:04:00.665Z"
   },
   {
    "duration": 19,
    "start_time": "2021-11-03T14:04:00.683Z"
   },
   {
    "duration": 21,
    "start_time": "2021-11-03T14:04:00.704Z"
   },
   {
    "duration": 16,
    "start_time": "2021-11-03T14:04:00.727Z"
   },
   {
    "duration": 14,
    "start_time": "2021-11-03T14:04:00.745Z"
   },
   {
    "duration": 23,
    "start_time": "2021-11-03T14:04:00.761Z"
   },
   {
    "duration": 31,
    "start_time": "2021-11-03T14:04:00.786Z"
   },
   {
    "duration": 22,
    "start_time": "2021-11-03T14:04:00.819Z"
   },
   {
    "duration": 14,
    "start_time": "2021-11-03T14:04:00.843Z"
   },
   {
    "duration": 20,
    "start_time": "2021-11-03T14:04:00.859Z"
   },
   {
    "duration": 18,
    "start_time": "2021-11-03T14:04:00.881Z"
   },
   {
    "duration": 24,
    "start_time": "2021-11-03T14:04:00.901Z"
   },
   {
    "duration": 40,
    "start_time": "2021-11-03T14:04:00.927Z"
   },
   {
    "duration": 30,
    "start_time": "2021-11-03T14:04:00.969Z"
   },
   {
    "duration": 39,
    "start_time": "2021-11-03T14:04:01.002Z"
   },
   {
    "duration": 28,
    "start_time": "2021-11-03T14:04:01.044Z"
   },
   {
    "duration": 22,
    "start_time": "2021-11-03T14:04:01.075Z"
   },
   {
    "duration": 55,
    "start_time": "2021-11-03T14:04:01.099Z"
   },
   {
    "duration": 80,
    "start_time": "2021-11-03T14:04:01.155Z"
   },
   {
    "duration": 27,
    "start_time": "2021-11-03T14:04:03.306Z"
   },
   {
    "duration": 19,
    "start_time": "2021-11-03T14:04:04.074Z"
   },
   {
    "duration": 13,
    "start_time": "2021-11-03T14:04:04.954Z"
   },
   {
    "duration": 9,
    "start_time": "2021-11-03T14:05:50.860Z"
   },
   {
    "duration": 277,
    "start_time": "2021-11-03T14:06:43.035Z"
   },
   {
    "duration": 88,
    "start_time": "2021-11-03T14:08:25.084Z"
   },
   {
    "duration": 77,
    "start_time": "2021-11-03T14:08:28.524Z"
   },
   {
    "duration": 7,
    "start_time": "2021-11-03T14:08:45.500Z"
   },
   {
    "duration": 7,
    "start_time": "2021-11-03T14:15:07.791Z"
   },
   {
    "duration": 6,
    "start_time": "2021-11-03T14:15:26.077Z"
   },
   {
    "duration": 3,
    "start_time": "2021-11-03T14:15:29.117Z"
   },
   {
    "duration": 6662,
    "start_time": "2021-11-03T14:15:40.120Z"
   },
   {
    "duration": 6,
    "start_time": "2021-11-03T14:16:22.221Z"
   },
   {
    "duration": 5,
    "start_time": "2021-11-03T14:17:51.005Z"
   },
   {
    "duration": 7,
    "start_time": "2021-11-03T14:18:05.838Z"
   },
   {
    "duration": 6,
    "start_time": "2021-11-03T14:18:18.014Z"
   },
   {
    "duration": 6,
    "start_time": "2021-11-03T14:18:36.733Z"
   },
   {
    "duration": 7,
    "start_time": "2021-11-03T14:18:58.194Z"
   },
   {
    "duration": 3,
    "start_time": "2021-11-03T14:19:01.085Z"
   },
   {
    "duration": 649,
    "start_time": "2021-11-03T14:19:06.414Z"
   },
   {
    "duration": 4,
    "start_time": "2021-11-03T14:19:32.239Z"
   },
   {
    "duration": 22,
    "start_time": "2021-11-03T14:20:15.120Z"
   },
   {
    "duration": 25,
    "start_time": "2021-11-03T14:21:00.221Z"
   },
   {
    "duration": 3,
    "start_time": "2021-11-03T14:21:05.262Z"
   },
   {
    "duration": 709,
    "start_time": "2021-11-03T14:21:18.110Z"
   },
   {
    "duration": 4,
    "start_time": "2021-11-03T14:22:49.472Z"
   },
   {
    "duration": 7,
    "start_time": "2021-11-03T14:23:03.742Z"
   },
   {
    "duration": 262,
    "start_time": "2021-11-03T14:23:28.239Z"
   },
   {
    "duration": 5,
    "start_time": "2021-11-03T14:23:35.614Z"
   },
   {
    "duration": 2,
    "start_time": "2021-11-03T14:23:36.222Z"
   },
   {
    "duration": 228,
    "start_time": "2021-11-03T14:23:36.719Z"
   },
   {
    "duration": 645,
    "start_time": "2021-11-03T14:23:43.903Z"
   },
   {
    "duration": 8,
    "start_time": "2021-11-03T14:25:14.047Z"
   },
   {
    "duration": 5,
    "start_time": "2021-11-03T14:25:19.695Z"
   },
   {
    "duration": 6,
    "start_time": "2021-11-03T14:25:36.830Z"
   },
   {
    "duration": 3,
    "start_time": "2021-11-03T14:25:39.343Z"
   },
   {
    "duration": 251,
    "start_time": "2021-11-03T14:25:42.590Z"
   },
   {
    "duration": 628,
    "start_time": "2021-11-03T14:26:02.686Z"
   },
   {
    "duration": 39,
    "start_time": "2021-11-03T14:26:13.263Z"
   },
   {
    "duration": 3,
    "start_time": "2021-11-03T14:26:38.798Z"
   },
   {
    "duration": 644,
    "start_time": "2021-11-03T14:31:23.074Z"
   },
   {
    "duration": 56,
    "start_time": "2021-11-03T14:31:23.719Z"
   },
   {
    "duration": 20,
    "start_time": "2021-11-03T14:31:23.777Z"
   },
   {
    "duration": 21,
    "start_time": "2021-11-03T14:31:23.799Z"
   },
   {
    "duration": 8,
    "start_time": "2021-11-03T14:31:23.822Z"
   },
   {
    "duration": 10,
    "start_time": "2021-11-03T14:31:23.832Z"
   },
   {
    "duration": 23,
    "start_time": "2021-11-03T14:31:23.843Z"
   },
   {
    "duration": 9,
    "start_time": "2021-11-03T14:31:23.869Z"
   },
   {
    "duration": 10,
    "start_time": "2021-11-03T14:31:23.880Z"
   },
   {
    "duration": 6,
    "start_time": "2021-11-03T14:31:23.892Z"
   },
   {
    "duration": 8,
    "start_time": "2021-11-03T14:31:23.900Z"
   },
   {
    "duration": 13,
    "start_time": "2021-11-03T14:31:23.910Z"
   },
   {
    "duration": 16,
    "start_time": "2021-11-03T14:31:23.925Z"
   },
   {
    "duration": 27,
    "start_time": "2021-11-03T14:31:23.943Z"
   },
   {
    "duration": 25,
    "start_time": "2021-11-03T14:31:23.971Z"
   },
   {
    "duration": 9,
    "start_time": "2021-11-03T14:31:23.997Z"
   },
   {
    "duration": 7,
    "start_time": "2021-11-03T14:31:24.008Z"
   },
   {
    "duration": 8,
    "start_time": "2021-11-03T14:31:24.017Z"
   },
   {
    "duration": 9,
    "start_time": "2021-11-03T14:31:24.027Z"
   },
   {
    "duration": 28,
    "start_time": "2021-11-03T14:31:24.038Z"
   },
   {
    "duration": 22,
    "start_time": "2021-11-03T14:31:24.068Z"
   },
   {
    "duration": 5,
    "start_time": "2021-11-03T14:31:24.092Z"
   },
   {
    "duration": 12,
    "start_time": "2021-11-03T14:31:24.100Z"
   },
   {
    "duration": 21,
    "start_time": "2021-11-03T14:31:24.113Z"
   },
   {
    "duration": 16,
    "start_time": "2021-11-03T14:31:24.136Z"
   },
   {
    "duration": 15,
    "start_time": "2021-11-03T14:31:24.154Z"
   },
   {
    "duration": 18,
    "start_time": "2021-11-03T14:31:24.171Z"
   },
   {
    "duration": 33,
    "start_time": "2021-11-03T14:31:24.191Z"
   },
   {
    "duration": 18,
    "start_time": "2021-11-03T14:31:24.226Z"
   },
   {
    "duration": 33,
    "start_time": "2021-11-03T14:31:24.246Z"
   },
   {
    "duration": 6,
    "start_time": "2021-11-03T14:31:24.281Z"
   },
   {
    "duration": 12,
    "start_time": "2021-11-03T14:31:24.288Z"
   },
   {
    "duration": 694,
    "start_time": "2021-11-03T14:31:24.302Z"
   },
   {
    "duration": 3,
    "start_time": "2021-11-03T14:31:24.998Z"
   },
   {
    "duration": 1192,
    "start_time": "2021-11-03T14:36:47.811Z"
   },
   {
    "duration": 6,
    "start_time": "2021-11-03T14:40:18.083Z"
   },
   {
    "duration": 6,
    "start_time": "2021-11-03T14:40:34.499Z"
   },
   {
    "duration": 3,
    "start_time": "2021-11-03T14:41:17.252Z"
   },
   {
    "duration": 21,
    "start_time": "2021-11-03T14:42:10.549Z"
   },
   {
    "duration": 642,
    "start_time": "2021-11-03T14:42:37.284Z"
   },
   {
    "duration": 5,
    "start_time": "2021-11-03T14:57:39.927Z"
   },
   {
    "duration": 4,
    "start_time": "2021-11-03T14:57:44.662Z"
   },
   {
    "duration": 32,
    "start_time": "2021-11-03T14:57:46.438Z"
   },
   {
    "duration": 646,
    "start_time": "2021-11-03T14:57:48.743Z"
   },
   {
    "duration": 4,
    "start_time": "2021-11-03T14:57:50.423Z"
   },
   {
    "duration": 4,
    "start_time": "2021-11-03T15:00:19.463Z"
   },
   {
    "duration": 3,
    "start_time": "2021-11-03T15:00:24.343Z"
   },
   {
    "duration": 36,
    "start_time": "2021-11-03T15:01:48.423Z"
   },
   {
    "duration": 4,
    "start_time": "2021-11-03T15:02:33.912Z"
   },
   {
    "duration": 20,
    "start_time": "2021-11-03T15:02:34.414Z"
   },
   {
    "duration": 26,
    "start_time": "2021-11-03T15:02:43.127Z"
   },
   {
    "duration": 3,
    "start_time": "2021-11-03T15:03:36.695Z"
   },
   {
    "duration": 20,
    "start_time": "2021-11-03T15:03:37.159Z"
   },
   {
    "duration": 65,
    "start_time": "2021-11-03T15:10:25.219Z"
   },
   {
    "duration": 25,
    "start_time": "2021-11-03T15:10:40.480Z"
   },
   {
    "duration": 2,
    "start_time": "2021-11-03T15:10:56.413Z"
   },
   {
    "duration": 61,
    "start_time": "2021-11-03T15:10:56.417Z"
   },
   {
    "duration": 12,
    "start_time": "2021-11-03T15:10:56.480Z"
   },
   {
    "duration": 21,
    "start_time": "2021-11-03T15:10:56.494Z"
   },
   {
    "duration": 11,
    "start_time": "2021-11-03T15:10:56.517Z"
   },
   {
    "duration": 10,
    "start_time": "2021-11-03T15:10:56.530Z"
   },
   {
    "duration": 23,
    "start_time": "2021-11-03T15:10:56.542Z"
   },
   {
    "duration": 26,
    "start_time": "2021-11-03T15:10:56.567Z"
   },
   {
    "duration": 16,
    "start_time": "2021-11-03T15:10:56.595Z"
   },
   {
    "duration": 19,
    "start_time": "2021-11-03T15:10:56.613Z"
   },
   {
    "duration": 17,
    "start_time": "2021-11-03T15:10:56.633Z"
   },
   {
    "duration": 16,
    "start_time": "2021-11-03T15:10:56.652Z"
   },
   {
    "duration": 10,
    "start_time": "2021-11-03T15:10:56.670Z"
   },
   {
    "duration": 15,
    "start_time": "2021-11-03T15:10:56.681Z"
   },
   {
    "duration": 24,
    "start_time": "2021-11-03T15:10:56.698Z"
   },
   {
    "duration": 10,
    "start_time": "2021-11-03T15:10:56.724Z"
   },
   {
    "duration": 14,
    "start_time": "2021-11-03T15:10:56.736Z"
   },
   {
    "duration": 13,
    "start_time": "2021-11-03T15:10:56.753Z"
   },
   {
    "duration": 12,
    "start_time": "2021-11-03T15:10:56.768Z"
   },
   {
    "duration": 17,
    "start_time": "2021-11-03T15:10:56.782Z"
   },
   {
    "duration": 22,
    "start_time": "2021-11-03T15:10:56.801Z"
   },
   {
    "duration": 7,
    "start_time": "2021-11-03T15:10:56.825Z"
   },
   {
    "duration": 10,
    "start_time": "2021-11-03T15:10:56.836Z"
   },
   {
    "duration": 17,
    "start_time": "2021-11-03T15:10:56.848Z"
   },
   {
    "duration": 24,
    "start_time": "2021-11-03T15:10:56.867Z"
   },
   {
    "duration": 13,
    "start_time": "2021-11-03T15:10:56.893Z"
   },
   {
    "duration": 19,
    "start_time": "2021-11-03T15:10:56.908Z"
   },
   {
    "duration": 35,
    "start_time": "2021-11-03T15:10:56.929Z"
   },
   {
    "duration": 18,
    "start_time": "2021-11-03T15:10:56.966Z"
   },
   {
    "duration": 12,
    "start_time": "2021-11-03T15:10:56.986Z"
   },
   {
    "duration": 11,
    "start_time": "2021-11-03T15:10:57.000Z"
   },
   {
    "duration": 11,
    "start_time": "2021-11-03T15:10:57.012Z"
   },
   {
    "duration": 47,
    "start_time": "2021-11-03T15:10:57.024Z"
   },
   {
    "duration": 698,
    "start_time": "2021-11-03T15:10:57.073Z"
   },
   {
    "duration": 3,
    "start_time": "2021-11-03T15:10:57.773Z"
   },
   {
    "duration": 24,
    "start_time": "2021-11-03T15:10:57.777Z"
   },
   {
    "duration": 42,
    "start_time": "2021-11-03T15:10:57.803Z"
   },
   {
    "duration": 32,
    "start_time": "2021-11-03T15:10:57.847Z"
   },
   {
    "duration": 6,
    "start_time": "2021-11-03T15:15:27.529Z"
   },
   {
    "duration": 6,
    "start_time": "2021-11-03T15:17:46.745Z"
   },
   {
    "duration": 11,
    "start_time": "2021-11-03T15:24:31.882Z"
   },
   {
    "duration": 11,
    "start_time": "2021-11-03T15:27:33.802Z"
   },
   {
    "duration": 20,
    "start_time": "2021-11-03T15:33:26.220Z"
   },
   {
    "duration": 24,
    "start_time": "2021-11-03T15:34:08.682Z"
   },
   {
    "duration": 23,
    "start_time": "2021-11-03T15:34:31.964Z"
   },
   {
    "duration": 3,
    "start_time": "2021-11-03T15:35:54.120Z"
   },
   {
    "duration": 56,
    "start_time": "2021-11-03T15:35:54.125Z"
   },
   {
    "duration": 14,
    "start_time": "2021-11-03T15:35:54.183Z"
   },
   {
    "duration": 15,
    "start_time": "2021-11-03T15:35:54.199Z"
   },
   {
    "duration": 5,
    "start_time": "2021-11-03T15:35:54.216Z"
   },
   {
    "duration": 12,
    "start_time": "2021-11-03T15:35:54.223Z"
   },
   {
    "duration": 30,
    "start_time": "2021-11-03T15:35:54.237Z"
   },
   {
    "duration": 8,
    "start_time": "2021-11-03T15:35:54.270Z"
   },
   {
    "duration": 12,
    "start_time": "2021-11-03T15:35:54.280Z"
   },
   {
    "duration": 11,
    "start_time": "2021-11-03T15:35:54.294Z"
   },
   {
    "duration": 16,
    "start_time": "2021-11-03T15:35:54.307Z"
   },
   {
    "duration": 10,
    "start_time": "2021-11-03T15:35:54.325Z"
   },
   {
    "duration": 10,
    "start_time": "2021-11-03T15:35:54.337Z"
   },
   {
    "duration": 7,
    "start_time": "2021-11-03T15:35:54.364Z"
   },
   {
    "duration": 18,
    "start_time": "2021-11-03T15:35:54.373Z"
   },
   {
    "duration": 9,
    "start_time": "2021-11-03T15:35:54.393Z"
   },
   {
    "duration": 23,
    "start_time": "2021-11-03T15:35:54.404Z"
   },
   {
    "duration": 51,
    "start_time": "2021-11-03T15:35:54.428Z"
   },
   {
    "duration": 574,
    "start_time": "2021-11-03T15:36:19.911Z"
   },
   {
    "duration": 55,
    "start_time": "2021-11-03T15:36:20.487Z"
   },
   {
    "duration": 22,
    "start_time": "2021-11-03T15:36:20.544Z"
   },
   {
    "duration": 17,
    "start_time": "2021-11-03T15:36:20.569Z"
   },
   {
    "duration": 5,
    "start_time": "2021-11-03T15:36:20.588Z"
   },
   {
    "duration": 18,
    "start_time": "2021-11-03T15:36:20.595Z"
   },
   {
    "duration": 6,
    "start_time": "2021-11-03T15:36:20.615Z"
   },
   {
    "duration": 12,
    "start_time": "2021-11-03T15:36:20.623Z"
   },
   {
    "duration": 28,
    "start_time": "2021-11-03T15:36:20.638Z"
   },
   {
    "duration": 8,
    "start_time": "2021-11-03T15:36:20.668Z"
   },
   {
    "duration": 17,
    "start_time": "2021-11-03T15:36:20.677Z"
   },
   {
    "duration": 11,
    "start_time": "2021-11-03T15:36:20.696Z"
   },
   {
    "duration": 9,
    "start_time": "2021-11-03T15:36:20.709Z"
   },
   {
    "duration": 11,
    "start_time": "2021-11-03T15:36:20.720Z"
   },
   {
    "duration": 36,
    "start_time": "2021-11-03T15:36:20.733Z"
   },
   {
    "duration": 9,
    "start_time": "2021-11-03T15:36:20.771Z"
   },
   {
    "duration": 22,
    "start_time": "2021-11-03T15:36:20.782Z"
   },
   {
    "duration": 21,
    "start_time": "2021-11-03T15:36:20.806Z"
   },
   {
    "duration": 34,
    "start_time": "2021-11-03T15:36:20.829Z"
   },
   {
    "duration": 4,
    "start_time": "2021-11-03T15:36:20.865Z"
   },
   {
    "duration": 7,
    "start_time": "2021-11-03T15:36:20.871Z"
   },
   {
    "duration": 7,
    "start_time": "2021-11-03T15:36:20.879Z"
   },
   {
    "duration": 18,
    "start_time": "2021-11-03T15:36:20.888Z"
   },
   {
    "duration": 7,
    "start_time": "2021-11-03T15:36:20.908Z"
   },
   {
    "duration": 13,
    "start_time": "2021-11-03T15:36:20.917Z"
   },
   {
    "duration": 17,
    "start_time": "2021-11-03T15:36:20.931Z"
   },
   {
    "duration": 13,
    "start_time": "2021-11-03T15:36:20.965Z"
   },
   {
    "duration": 17,
    "start_time": "2021-11-03T15:36:20.980Z"
   },
   {
    "duration": 18,
    "start_time": "2021-11-03T15:36:20.999Z"
   },
   {
    "duration": 44,
    "start_time": "2021-11-03T15:36:21.019Z"
   },
   {
    "duration": 18,
    "start_time": "2021-11-03T15:36:21.065Z"
   },
   {
    "duration": 10,
    "start_time": "2021-11-03T15:36:21.085Z"
   },
   {
    "duration": 9,
    "start_time": "2021-11-03T15:36:21.097Z"
   },
   {
    "duration": 6,
    "start_time": "2021-11-03T15:36:21.108Z"
   },
   {
    "duration": 9,
    "start_time": "2021-11-03T15:36:21.116Z"
   },
   {
    "duration": 16,
    "start_time": "2021-11-03T15:36:21.127Z"
   },
   {
    "duration": 696,
    "start_time": "2021-11-03T15:36:21.145Z"
   },
   {
    "duration": 4,
    "start_time": "2021-11-03T15:36:21.843Z"
   },
   {
    "duration": 17,
    "start_time": "2021-11-03T15:36:21.849Z"
   },
   {
    "duration": 24,
    "start_time": "2021-11-03T15:36:21.868Z"
   },
   {
    "duration": 16,
    "start_time": "2021-11-03T15:43:40.855Z"
   },
   {
    "duration": 6,
    "start_time": "2021-11-03T15:44:02.791Z"
   },
   {
    "duration": 6,
    "start_time": "2021-11-03T15:44:26.215Z"
   },
   {
    "duration": 6,
    "start_time": "2021-11-03T15:51:31.368Z"
   },
   {
    "duration": 25,
    "start_time": "2021-11-03T15:51:54.080Z"
   },
   {
    "duration": 25,
    "start_time": "2021-11-03T15:51:59.991Z"
   },
   {
    "duration": 25,
    "start_time": "2021-11-03T15:52:00.887Z"
   },
   {
    "duration": 305,
    "start_time": "2021-11-03T15:52:23.432Z"
   },
   {
    "duration": 7,
    "start_time": "2021-11-03T15:52:29.306Z"
   },
   {
    "duration": 269,
    "start_time": "2021-11-03T15:57:02.344Z"
   },
   {
    "duration": 246,
    "start_time": "2021-11-03T15:57:21.131Z"
   },
   {
    "duration": 10,
    "start_time": "2021-11-03T15:58:42.185Z"
   },
   {
    "duration": 7,
    "start_time": "2021-11-03T15:59:33.036Z"
   },
   {
    "duration": 8,
    "start_time": "2021-11-03T16:04:25.225Z"
   },
   {
    "duration": 7,
    "start_time": "2021-11-03T16:04:44.216Z"
   },
   {
    "duration": 8,
    "start_time": "2021-11-03T16:05:04.314Z"
   },
   {
    "duration": 3,
    "start_time": "2021-11-03T16:07:07.274Z"
   },
   {
    "duration": 4,
    "start_time": "2021-11-03T16:07:19.513Z"
   },
   {
    "duration": 4,
    "start_time": "2021-11-03T16:07:28.538Z"
   },
   {
    "duration": 4,
    "start_time": "2021-11-03T16:07:31.177Z"
   },
   {
    "duration": 5,
    "start_time": "2021-11-03T16:07:47.753Z"
   },
   {
    "duration": 5,
    "start_time": "2021-11-03T16:07:59.945Z"
   },
   {
    "duration": 3,
    "start_time": "2021-11-03T16:12:37.691Z"
   },
   {
    "duration": 3,
    "start_time": "2021-11-03T16:12:45.675Z"
   },
   {
    "duration": 3,
    "start_time": "2021-11-03T16:13:09.147Z"
   },
   {
    "duration": 4,
    "start_time": "2021-11-03T16:17:00.603Z"
   },
   {
    "duration": 43,
    "start_time": "2021-11-03T16:17:01.131Z"
   },
   {
    "duration": 3,
    "start_time": "2021-11-03T16:20:35.788Z"
   },
   {
    "duration": 4,
    "start_time": "2021-11-03T16:21:24.923Z"
   },
   {
    "duration": 47,
    "start_time": "2021-11-03T16:21:24.929Z"
   },
   {
    "duration": 14,
    "start_time": "2021-11-03T16:21:51.772Z"
   },
   {
    "duration": 3,
    "start_time": "2021-11-03T16:22:29.228Z"
   },
   {
    "duration": 7,
    "start_time": "2021-11-03T16:24:19.581Z"
   },
   {
    "duration": 7,
    "start_time": "2021-11-03T16:31:00.062Z"
   },
   {
    "duration": 7,
    "start_time": "2021-11-03T16:31:43.695Z"
   },
   {
    "duration": 23,
    "start_time": "2021-11-03T16:37:45.566Z"
   },
   {
    "duration": 10,
    "start_time": "2021-11-03T16:39:37.470Z"
   },
   {
    "duration": 4,
    "start_time": "2021-11-03T16:39:42.894Z"
   },
   {
    "duration": 11,
    "start_time": "2021-11-03T16:39:43.965Z"
   },
   {
    "duration": 2,
    "start_time": "2021-11-03T16:39:53.540Z"
   },
   {
    "duration": 68,
    "start_time": "2021-11-03T16:39:53.544Z"
   },
   {
    "duration": 11,
    "start_time": "2021-11-03T16:39:53.615Z"
   },
   {
    "duration": 35,
    "start_time": "2021-11-03T16:39:53.628Z"
   },
   {
    "duration": 12,
    "start_time": "2021-11-03T16:39:53.664Z"
   },
   {
    "duration": 36,
    "start_time": "2021-11-03T16:39:53.677Z"
   },
   {
    "duration": 20,
    "start_time": "2021-11-03T16:39:53.715Z"
   },
   {
    "duration": 33,
    "start_time": "2021-11-03T16:39:53.736Z"
   },
   {
    "duration": 25,
    "start_time": "2021-11-03T16:39:53.772Z"
   },
   {
    "duration": 39,
    "start_time": "2021-11-03T16:39:53.799Z"
   },
   {
    "duration": 8,
    "start_time": "2021-11-03T16:39:53.840Z"
   },
   {
    "duration": 37,
    "start_time": "2021-11-03T16:39:53.849Z"
   },
   {
    "duration": 13,
    "start_time": "2021-11-03T16:39:53.887Z"
   },
   {
    "duration": 16,
    "start_time": "2021-11-03T16:39:53.901Z"
   },
   {
    "duration": 19,
    "start_time": "2021-11-03T16:39:53.918Z"
   },
   {
    "duration": 8,
    "start_time": "2021-11-03T16:39:53.939Z"
   },
   {
    "duration": 9,
    "start_time": "2021-11-03T16:39:53.949Z"
   },
   {
    "duration": 6,
    "start_time": "2021-11-03T16:39:53.960Z"
   },
   {
    "duration": 13,
    "start_time": "2021-11-03T16:39:53.968Z"
   },
   {
    "duration": 8,
    "start_time": "2021-11-03T16:39:53.983Z"
   },
   {
    "duration": 15,
    "start_time": "2021-11-03T16:39:53.992Z"
   },
   {
    "duration": 5,
    "start_time": "2021-11-03T16:46:33.535Z"
   },
   {
    "duration": 4,
    "start_time": "2021-11-03T16:46:34.463Z"
   },
   {
    "duration": 6238,
    "start_time": "2021-11-03T16:49:47.855Z"
   },
   {
    "duration": 766,
    "start_time": "2021-11-03T16:49:53.329Z"
   },
   {
    "duration": 3,
    "start_time": "2021-11-03T16:49:58.158Z"
   },
   {
    "duration": 53,
    "start_time": "2021-11-03T16:49:58.163Z"
   },
   {
    "duration": 12,
    "start_time": "2021-11-03T16:49:58.219Z"
   },
   {
    "duration": 30,
    "start_time": "2021-11-03T16:49:58.233Z"
   },
   {
    "duration": 15,
    "start_time": "2021-11-03T16:49:58.265Z"
   },
   {
    "duration": 17,
    "start_time": "2021-11-03T16:49:58.282Z"
   },
   {
    "duration": 9,
    "start_time": "2021-11-03T16:49:58.301Z"
   },
   {
    "duration": 9,
    "start_time": "2021-11-03T16:49:58.312Z"
   },
   {
    "duration": 7,
    "start_time": "2021-11-03T16:49:58.325Z"
   },
   {
    "duration": 29,
    "start_time": "2021-11-03T16:49:58.334Z"
   },
   {
    "duration": 7,
    "start_time": "2021-11-03T16:49:58.365Z"
   },
   {
    "duration": 8,
    "start_time": "2021-11-03T16:49:58.374Z"
   },
   {
    "duration": 8,
    "start_time": "2021-11-03T16:49:58.383Z"
   },
   {
    "duration": 11,
    "start_time": "2021-11-03T16:49:58.393Z"
   },
   {
    "duration": 26,
    "start_time": "2021-11-03T16:49:58.406Z"
   },
   {
    "duration": 33,
    "start_time": "2021-11-03T16:49:58.434Z"
   },
   {
    "duration": 5,
    "start_time": "2021-11-03T16:49:58.469Z"
   },
   {
    "duration": 13,
    "start_time": "2021-11-03T16:49:58.475Z"
   },
   {
    "duration": 18,
    "start_time": "2021-11-03T16:49:58.490Z"
   },
   {
    "duration": 12,
    "start_time": "2021-11-03T16:49:58.510Z"
   },
   {
    "duration": 11,
    "start_time": "2021-11-03T16:49:58.524Z"
   },
   {
    "duration": 26,
    "start_time": "2021-11-03T16:49:58.537Z"
   },
   {
    "duration": 5,
    "start_time": "2021-11-03T16:49:58.565Z"
   },
   {
    "duration": 23,
    "start_time": "2021-11-03T16:49:58.572Z"
   },
   {
    "duration": 15,
    "start_time": "2021-11-03T16:49:58.597Z"
   },
   {
    "duration": 14,
    "start_time": "2021-11-03T16:50:01.807Z"
   },
   {
    "duration": 8,
    "start_time": "2021-11-03T16:50:02.321Z"
   },
   {
    "duration": 13,
    "start_time": "2021-11-03T16:50:06.976Z"
   },
   {
    "duration": 26,
    "start_time": "2021-11-03T16:51:21.681Z"
   },
   {
    "duration": 17,
    "start_time": "2021-11-03T16:51:22.144Z"
   },
   {
    "duration": 12,
    "start_time": "2021-11-03T16:51:25.232Z"
   },
   {
    "duration": 5,
    "start_time": "2021-11-03T16:53:04.096Z"
   },
   {
    "duration": 4,
    "start_time": "2021-11-03T16:53:08.560Z"
   },
   {
    "duration": 27,
    "start_time": "2021-11-03T16:53:10.482Z"
   },
   {
    "duration": 681,
    "start_time": "2021-11-03T16:53:13.584Z"
   },
   {
    "duration": 21,
    "start_time": "2021-11-03T16:54:22.223Z"
   },
   {
    "duration": 4,
    "start_time": "2021-11-03T16:55:32.048Z"
   },
   {
    "duration": 12,
    "start_time": "2021-11-03T16:58:25.186Z"
   },
   {
    "duration": 253,
    "start_time": "2021-11-03T16:58:56.051Z"
   },
   {
    "duration": 246,
    "start_time": "2021-11-03T16:59:01.689Z"
   },
   {
    "duration": 3,
    "start_time": "2021-11-03T16:59:06.937Z"
   },
   {
    "duration": 67,
    "start_time": "2021-11-03T16:59:06.942Z"
   },
   {
    "duration": 14,
    "start_time": "2021-11-03T16:59:07.011Z"
   },
   {
    "duration": 40,
    "start_time": "2021-11-03T16:59:07.028Z"
   },
   {
    "duration": 22,
    "start_time": "2021-11-03T16:59:07.070Z"
   },
   {
    "duration": 16,
    "start_time": "2021-11-03T16:59:07.094Z"
   },
   {
    "duration": 7,
    "start_time": "2021-11-03T16:59:07.112Z"
   },
   {
    "duration": 13,
    "start_time": "2021-11-03T16:59:07.121Z"
   },
   {
    "duration": 19,
    "start_time": "2021-11-03T16:59:07.141Z"
   },
   {
    "duration": 23,
    "start_time": "2021-11-03T16:59:07.162Z"
   },
   {
    "duration": 12,
    "start_time": "2021-11-03T16:59:07.187Z"
   },
   {
    "duration": 15,
    "start_time": "2021-11-03T16:59:07.200Z"
   },
   {
    "duration": 16,
    "start_time": "2021-11-03T16:59:07.217Z"
   },
   {
    "duration": 17,
    "start_time": "2021-11-03T16:59:07.235Z"
   },
   {
    "duration": 28,
    "start_time": "2021-11-03T16:59:07.253Z"
   },
   {
    "duration": 9,
    "start_time": "2021-11-03T16:59:07.283Z"
   },
   {
    "duration": 13,
    "start_time": "2021-11-03T16:59:07.294Z"
   },
   {
    "duration": 15,
    "start_time": "2021-11-03T16:59:07.308Z"
   },
   {
    "duration": 33,
    "start_time": "2021-11-03T16:59:07.325Z"
   },
   {
    "duration": 25,
    "start_time": "2021-11-03T16:59:07.360Z"
   },
   {
    "duration": 22,
    "start_time": "2021-11-03T16:59:07.386Z"
   },
   {
    "duration": 20,
    "start_time": "2021-11-03T16:59:07.410Z"
   },
   {
    "duration": 18,
    "start_time": "2021-11-03T16:59:07.431Z"
   },
   {
    "duration": 17,
    "start_time": "2021-11-03T16:59:07.451Z"
   },
   {
    "duration": 31,
    "start_time": "2021-11-03T16:59:07.470Z"
   },
   {
    "duration": 17,
    "start_time": "2021-11-03T16:59:07.503Z"
   },
   {
    "duration": 30,
    "start_time": "2021-11-03T16:59:07.524Z"
   },
   {
    "duration": 37,
    "start_time": "2021-11-03T16:59:07.556Z"
   },
   {
    "duration": 18,
    "start_time": "2021-11-03T16:59:07.595Z"
   },
   {
    "duration": 11,
    "start_time": "2021-11-03T16:59:07.615Z"
   },
   {
    "duration": 22,
    "start_time": "2021-11-03T16:59:07.628Z"
   },
   {
    "duration": 14,
    "start_time": "2021-11-03T16:59:07.652Z"
   },
   {
    "duration": 23,
    "start_time": "2021-11-03T16:59:07.668Z"
   },
   {
    "duration": 43,
    "start_time": "2021-11-03T16:59:07.693Z"
   },
   {
    "duration": 691,
    "start_time": "2021-11-03T16:59:07.738Z"
   },
   {
    "duration": 3,
    "start_time": "2021-11-03T16:59:08.432Z"
   },
   {
    "duration": 17,
    "start_time": "2021-11-03T16:59:08.438Z"
   },
   {
    "duration": 41,
    "start_time": "2021-11-03T16:59:08.457Z"
   },
   {
    "duration": 3,
    "start_time": "2021-11-03T16:59:08.500Z"
   },
   {
    "duration": 61,
    "start_time": "2021-11-03T16:59:08.505Z"
   },
   {
    "duration": 11,
    "start_time": "2021-11-03T16:59:08.569Z"
   },
   {
    "duration": 26,
    "start_time": "2021-11-03T16:59:08.582Z"
   },
   {
    "duration": 8,
    "start_time": "2021-11-03T16:59:08.610Z"
   },
   {
    "duration": 7,
    "start_time": "2021-11-03T16:59:11.281Z"
   },
   {
    "duration": 8,
    "start_time": "2021-11-03T16:59:24.977Z"
   },
   {
    "duration": 8,
    "start_time": "2021-11-03T16:59:35.026Z"
   },
   {
    "duration": 7,
    "start_time": "2021-11-03T16:59:39.505Z"
   },
   {
    "duration": 580,
    "start_time": "2021-11-03T17:00:20.420Z"
   },
   {
    "duration": 53,
    "start_time": "2021-11-03T17:00:21.001Z"
   },
   {
    "duration": 18,
    "start_time": "2021-11-03T17:00:21.056Z"
   },
   {
    "duration": 17,
    "start_time": "2021-11-03T17:00:21.076Z"
   },
   {
    "duration": 6,
    "start_time": "2021-11-03T17:00:21.094Z"
   },
   {
    "duration": 27,
    "start_time": "2021-11-03T17:00:21.101Z"
   },
   {
    "duration": 17,
    "start_time": "2021-11-03T17:00:21.130Z"
   },
   {
    "duration": 12,
    "start_time": "2021-11-03T17:00:21.149Z"
   },
   {
    "duration": 16,
    "start_time": "2021-11-03T17:00:21.163Z"
   },
   {
    "duration": 17,
    "start_time": "2021-11-03T17:00:21.182Z"
   },
   {
    "duration": 12,
    "start_time": "2021-11-03T17:00:21.201Z"
   },
   {
    "duration": 10,
    "start_time": "2021-11-03T17:00:21.215Z"
   },
   {
    "duration": 15,
    "start_time": "2021-11-03T17:00:21.226Z"
   },
   {
    "duration": 19,
    "start_time": "2021-11-03T17:00:21.242Z"
   },
   {
    "duration": 28,
    "start_time": "2021-11-03T17:00:21.263Z"
   },
   {
    "duration": 9,
    "start_time": "2021-11-03T17:00:21.293Z"
   },
   {
    "duration": 19,
    "start_time": "2021-11-03T17:00:21.304Z"
   },
   {
    "duration": 13,
    "start_time": "2021-11-03T17:00:21.325Z"
   },
   {
    "duration": 19,
    "start_time": "2021-11-03T17:00:21.340Z"
   },
   {
    "duration": 6,
    "start_time": "2021-11-03T17:00:21.361Z"
   },
   {
    "duration": 15,
    "start_time": "2021-11-03T17:00:21.369Z"
   },
   {
    "duration": 10,
    "start_time": "2021-11-03T17:00:21.385Z"
   },
   {
    "duration": 13,
    "start_time": "2021-11-03T17:00:21.397Z"
   },
   {
    "duration": 19,
    "start_time": "2021-11-03T17:00:21.412Z"
   },
   {
    "duration": 21,
    "start_time": "2021-11-03T17:00:21.433Z"
   },
   {
    "duration": 16,
    "start_time": "2021-11-03T17:00:21.455Z"
   },
   {
    "duration": 16,
    "start_time": "2021-11-03T17:00:21.475Z"
   },
   {
    "duration": 31,
    "start_time": "2021-11-03T17:00:21.493Z"
   },
   {
    "duration": 16,
    "start_time": "2021-11-03T17:00:21.526Z"
   },
   {
    "duration": 19,
    "start_time": "2021-11-03T17:00:21.544Z"
   },
   {
    "duration": 11,
    "start_time": "2021-11-03T17:00:21.565Z"
   },
   {
    "duration": 9,
    "start_time": "2021-11-03T17:00:21.578Z"
   },
   {
    "duration": 17,
    "start_time": "2021-11-03T17:00:21.588Z"
   },
   {
    "duration": 12,
    "start_time": "2021-11-03T17:00:21.608Z"
   },
   {
    "duration": 678,
    "start_time": "2021-11-03T17:00:21.622Z"
   },
   {
    "duration": 4,
    "start_time": "2021-11-03T17:00:22.302Z"
   },
   {
    "duration": 8,
    "start_time": "2021-11-03T17:00:22.308Z"
   },
   {
    "duration": 26,
    "start_time": "2021-11-03T17:00:22.318Z"
   },
   {
    "duration": 3,
    "start_time": "2021-11-03T17:00:22.363Z"
   },
   {
    "duration": 47,
    "start_time": "2021-11-03T17:00:22.369Z"
   },
   {
    "duration": 12,
    "start_time": "2021-11-03T17:00:22.418Z"
   },
   {
    "duration": 7,
    "start_time": "2021-11-03T17:00:22.432Z"
   },
   {
    "duration": 28,
    "start_time": "2021-11-03T17:00:22.441Z"
   },
   {
    "duration": 7,
    "start_time": "2021-11-03T17:00:22.471Z"
   },
   {
    "duration": 361,
    "start_time": "2021-11-06T16:12:42.338Z"
   },
   {
    "duration": 809,
    "start_time": "2021-11-06T16:12:47.451Z"
   },
   {
    "duration": 63,
    "start_time": "2021-11-06T16:12:48.262Z"
   },
   {
    "duration": 44,
    "start_time": "2021-11-06T16:12:48.328Z"
   },
   {
    "duration": 22,
    "start_time": "2021-11-06T16:12:50.709Z"
   },
   {
    "duration": 18,
    "start_time": "2021-11-06T16:12:51.469Z"
   },
   {
    "duration": 24,
    "start_time": "2021-11-06T16:14:39.349Z"
   },
   {
    "duration": 38,
    "start_time": "2021-11-06T16:14:57.447Z"
   },
   {
    "duration": 31,
    "start_time": "2021-11-06T16:15:11.913Z"
   },
   {
    "duration": 33,
    "start_time": "2021-11-06T16:15:46.151Z"
   },
   {
    "duration": 19,
    "start_time": "2021-11-06T16:15:52.375Z"
   },
   {
    "duration": 31,
    "start_time": "2021-11-06T16:15:55.446Z"
   },
   {
    "duration": 23,
    "start_time": "2021-11-06T16:17:29.304Z"
   },
   {
    "duration": 34,
    "start_time": "2021-11-06T16:17:32.918Z"
   },
   {
    "duration": 34,
    "start_time": "2021-11-06T16:17:35.641Z"
   },
   {
    "duration": 26,
    "start_time": "2021-11-06T16:19:10.151Z"
   },
   {
    "duration": 50,
    "start_time": "2021-11-06T16:23:11.464Z"
   },
   {
    "duration": 47,
    "start_time": "2021-11-06T16:24:12.856Z"
   },
   {
    "duration": 3,
    "start_time": "2021-11-06T16:31:44.474Z"
   },
   {
    "duration": 787,
    "start_time": "2021-11-06T16:31:56.686Z"
   },
   {
    "duration": 72,
    "start_time": "2021-11-06T16:31:57.475Z"
   },
   {
    "duration": 31,
    "start_time": "2021-11-06T16:31:57.552Z"
   },
   {
    "duration": 19,
    "start_time": "2021-11-06T16:31:57.587Z"
   },
   {
    "duration": 74,
    "start_time": "2021-11-06T16:31:57.609Z"
   },
   {
    "duration": 15,
    "start_time": "2021-11-06T16:31:57.685Z"
   },
   {
    "duration": 27,
    "start_time": "2021-11-06T16:31:57.702Z"
   },
   {
    "duration": 20,
    "start_time": "2021-11-06T16:31:57.739Z"
   },
   {
    "duration": 9,
    "start_time": "2021-11-06T16:31:57.762Z"
   },
   {
    "duration": 9,
    "start_time": "2021-11-06T16:31:57.773Z"
   },
   {
    "duration": 51,
    "start_time": "2021-11-06T16:31:57.784Z"
   },
   {
    "duration": 13,
    "start_time": "2021-11-06T16:31:57.839Z"
   },
   {
    "duration": 11,
    "start_time": "2021-11-06T16:31:57.856Z"
   },
   {
    "duration": 11,
    "start_time": "2021-11-06T16:31:57.869Z"
   },
   {
    "duration": 10,
    "start_time": "2021-11-06T16:31:57.882Z"
   },
   {
    "duration": 14,
    "start_time": "2021-11-06T16:31:57.940Z"
   },
   {
    "duration": 23,
    "start_time": "2021-11-06T16:31:57.959Z"
   },
   {
    "duration": 11,
    "start_time": "2021-11-06T16:31:57.984Z"
   },
   {
    "duration": 37,
    "start_time": "2021-11-06T16:31:57.998Z"
   },
   {
    "duration": 8,
    "start_time": "2021-11-06T16:31:58.039Z"
   },
   {
    "duration": 15,
    "start_time": "2021-11-06T16:31:58.051Z"
   },
   {
    "duration": 6,
    "start_time": "2021-11-06T16:31:58.068Z"
   },
   {
    "duration": 11,
    "start_time": "2021-11-06T16:31:58.079Z"
   },
   {
    "duration": 9,
    "start_time": "2021-11-06T16:31:58.130Z"
   },
   {
    "duration": 16,
    "start_time": "2021-11-06T16:31:58.142Z"
   },
   {
    "duration": 18,
    "start_time": "2021-11-06T16:31:58.162Z"
   },
   {
    "duration": 51,
    "start_time": "2021-11-06T16:31:58.183Z"
   },
   {
    "duration": 16,
    "start_time": "2021-11-06T16:31:58.238Z"
   },
   {
    "duration": 21,
    "start_time": "2021-11-06T16:31:58.258Z"
   },
   {
    "duration": 83,
    "start_time": "2021-11-06T16:31:58.281Z"
   },
   {
    "duration": 24,
    "start_time": "2021-11-06T16:31:58.366Z"
   },
   {
    "duration": 15,
    "start_time": "2021-11-06T16:31:58.392Z"
   },
   {
    "duration": 26,
    "start_time": "2021-11-06T16:31:58.430Z"
   },
   {
    "duration": 5,
    "start_time": "2021-11-06T16:31:58.460Z"
   },
   {
    "duration": 6,
    "start_time": "2021-11-06T16:31:58.468Z"
   },
   {
    "duration": 7,
    "start_time": "2021-11-06T16:31:58.476Z"
   },
   {
    "duration": 1051,
    "start_time": "2021-11-06T16:31:58.485Z"
   },
   {
    "duration": 13,
    "start_time": "2021-11-06T16:31:59.540Z"
   },
   {
    "duration": 7,
    "start_time": "2021-11-06T16:31:59.557Z"
   },
   {
    "duration": 40,
    "start_time": "2021-11-06T16:31:59.566Z"
   },
   {
    "duration": 23,
    "start_time": "2021-11-06T16:31:59.609Z"
   },
   {
    "duration": 100,
    "start_time": "2021-11-06T16:31:59.636Z"
   },
   {
    "duration": 21,
    "start_time": "2021-11-06T16:31:59.740Z"
   },
   {
    "duration": 11,
    "start_time": "2021-11-06T16:31:59.764Z"
   },
   {
    "duration": 9,
    "start_time": "2021-11-06T16:31:59.778Z"
   },
   {
    "duration": 48,
    "start_time": "2021-11-06T16:31:59.789Z"
   },
   {
    "duration": 149,
    "start_time": "2021-11-06T16:32:38.743Z"
   },
   {
    "duration": 140,
    "start_time": "2021-11-06T16:33:13.974Z"
   },
   {
    "duration": 361,
    "start_time": "2021-11-06T16:38:19.271Z"
   },
   {
    "duration": 23,
    "start_time": "2021-11-06T16:38:23.945Z"
   },
   {
    "duration": 79,
    "start_time": "2021-11-06T16:38:23.971Z"
   },
   {
    "duration": 18,
    "start_time": "2021-11-06T16:38:24.053Z"
   },
   {
    "duration": 113,
    "start_time": "2021-11-06T16:38:24.074Z"
   },
   {
    "duration": 19,
    "start_time": "2021-11-06T16:38:24.189Z"
   },
   {
    "duration": 65,
    "start_time": "2021-11-06T16:38:24.210Z"
   },
   {
    "duration": 12,
    "start_time": "2021-11-06T16:38:24.277Z"
   },
   {
    "duration": 6,
    "start_time": "2021-11-06T16:38:24.293Z"
   },
   {
    "duration": 18,
    "start_time": "2021-11-06T16:38:24.330Z"
   },
   {
    "duration": 9,
    "start_time": "2021-11-06T16:38:24.350Z"
   },
   {
    "duration": 13,
    "start_time": "2021-11-06T16:38:24.361Z"
   },
   {
    "duration": 8,
    "start_time": "2021-11-06T16:38:24.378Z"
   },
   {
    "duration": 54,
    "start_time": "2021-11-06T16:38:24.389Z"
   },
   {
    "duration": 9,
    "start_time": "2021-11-06T16:38:24.447Z"
   },
   {
    "duration": 9,
    "start_time": "2021-11-06T16:38:24.458Z"
   },
   {
    "duration": 10,
    "start_time": "2021-11-06T16:38:24.470Z"
   },
   {
    "duration": 9,
    "start_time": "2021-11-06T16:38:24.482Z"
   },
   {
    "duration": 62,
    "start_time": "2021-11-06T16:38:24.494Z"
   },
   {
    "duration": 11,
    "start_time": "2021-11-06T16:38:24.558Z"
   },
   {
    "duration": 6,
    "start_time": "2021-11-06T16:38:24.572Z"
   },
   {
    "duration": 5,
    "start_time": "2021-11-06T16:38:24.580Z"
   },
   {
    "duration": 13,
    "start_time": "2021-11-06T16:38:24.631Z"
   },
   {
    "duration": 7,
    "start_time": "2021-11-06T16:38:24.650Z"
   },
   {
    "duration": 16,
    "start_time": "2021-11-06T16:38:24.661Z"
   },
   {
    "duration": 270,
    "start_time": "2021-11-06T16:38:24.680Z"
   },
   {
    "duration": 1548,
    "start_time": "2021-11-06T16:38:23.404Z"
   },
   {
    "duration": 1545,
    "start_time": "2021-11-06T16:38:23.408Z"
   },
   {
    "duration": 1544,
    "start_time": "2021-11-06T16:38:23.411Z"
   },
   {
    "duration": 246,
    "start_time": "2021-11-06T16:38:28.006Z"
   },
   {
    "duration": 101,
    "start_time": "2021-11-06T16:40:05.494Z"
   },
   {
    "duration": 5,
    "start_time": "2021-11-06T16:42:08.598Z"
   },
   {
    "duration": 7,
    "start_time": "2021-11-06T16:42:21.415Z"
   },
   {
    "duration": 5,
    "start_time": "2021-11-06T16:42:25.242Z"
   },
   {
    "duration": 69,
    "start_time": "2021-11-06T16:42:25.249Z"
   },
   {
    "duration": 29,
    "start_time": "2021-11-06T16:42:25.321Z"
   },
   {
    "duration": 107,
    "start_time": "2021-11-06T16:42:25.353Z"
   },
   {
    "duration": 19,
    "start_time": "2021-11-06T16:42:25.462Z"
   },
   {
    "duration": 63,
    "start_time": "2021-11-06T16:42:25.483Z"
   },
   {
    "duration": 120,
    "start_time": "2021-11-06T16:42:25.548Z"
   },
   {
    "duration": 7,
    "start_time": "2021-11-06T16:42:25.671Z"
   },
   {
    "duration": 13,
    "start_time": "2021-11-06T16:42:25.681Z"
   },
   {
    "duration": 36,
    "start_time": "2021-11-06T16:42:25.697Z"
   },
   {
    "duration": 12,
    "start_time": "2021-11-06T16:42:25.736Z"
   },
   {
    "duration": 8,
    "start_time": "2021-11-06T16:42:25.750Z"
   },
   {
    "duration": 7,
    "start_time": "2021-11-06T16:42:25.760Z"
   },
   {
    "duration": 8,
    "start_time": "2021-11-06T16:42:25.769Z"
   },
   {
    "duration": 56,
    "start_time": "2021-11-06T16:42:25.779Z"
   },
   {
    "duration": 8,
    "start_time": "2021-11-06T16:42:25.838Z"
   },
   {
    "duration": 10,
    "start_time": "2021-11-06T16:42:25.849Z"
   },
   {
    "duration": 26,
    "start_time": "2021-11-06T16:42:25.861Z"
   },
   {
    "duration": 48,
    "start_time": "2021-11-06T16:42:25.889Z"
   },
   {
    "duration": 8,
    "start_time": "2021-11-06T16:42:25.940Z"
   },
   {
    "duration": 5,
    "start_time": "2021-11-06T16:42:25.950Z"
   },
   {
    "duration": 19,
    "start_time": "2021-11-06T16:42:25.957Z"
   },
   {
    "duration": 16,
    "start_time": "2021-11-06T16:42:25.979Z"
   },
   {
    "duration": 40,
    "start_time": "2021-11-06T16:42:25.998Z"
   },
   {
    "duration": 12,
    "start_time": "2021-11-06T16:42:26.042Z"
   },
   {
    "duration": 4,
    "start_time": "2021-11-06T16:42:28.279Z"
   },
   {
    "duration": 5,
    "start_time": "2021-11-06T16:42:32.678Z"
   },
   {
    "duration": 4,
    "start_time": "2021-11-06T16:42:36.743Z"
   },
   {
    "duration": 306,
    "start_time": "2021-11-06T16:42:40.167Z"
   },
   {
    "duration": 5,
    "start_time": "2021-11-06T16:42:53.415Z"
   },
   {
    "duration": 20,
    "start_time": "2021-11-06T16:42:55.799Z"
   },
   {
    "duration": 92,
    "start_time": "2021-11-06T16:43:03.175Z"
   },
   {
    "duration": 369,
    "start_time": "2021-11-06T16:43:58.696Z"
   },
   {
    "duration": 254,
    "start_time": "2021-11-06T16:44:10.871Z"
   },
   {
    "duration": 4,
    "start_time": "2021-11-06T16:44:16.416Z"
   },
   {
    "duration": 72,
    "start_time": "2021-11-06T16:44:16.423Z"
   },
   {
    "duration": 46,
    "start_time": "2021-11-06T16:44:16.498Z"
   },
   {
    "duration": 126,
    "start_time": "2021-11-06T16:44:16.549Z"
   },
   {
    "duration": 20,
    "start_time": "2021-11-06T16:44:16.678Z"
   },
   {
    "duration": 80,
    "start_time": "2021-11-06T16:44:16.701Z"
   },
   {
    "duration": 118,
    "start_time": "2021-11-06T16:44:16.784Z"
   },
   {
    "duration": 7,
    "start_time": "2021-11-06T16:44:16.905Z"
   },
   {
    "duration": 38,
    "start_time": "2021-11-06T16:44:16.914Z"
   },
   {
    "duration": 10,
    "start_time": "2021-11-06T16:44:16.955Z"
   },
   {
    "duration": 12,
    "start_time": "2021-11-06T16:44:16.968Z"
   },
   {
    "duration": 8,
    "start_time": "2021-11-06T16:44:16.982Z"
   },
   {
    "duration": 44,
    "start_time": "2021-11-06T16:44:16.992Z"
   },
   {
    "duration": 14,
    "start_time": "2021-11-06T16:44:17.041Z"
   },
   {
    "duration": 9,
    "start_time": "2021-11-06T16:44:17.059Z"
   },
   {
    "duration": 14,
    "start_time": "2021-11-06T16:44:17.071Z"
   },
   {
    "duration": 46,
    "start_time": "2021-11-06T16:44:17.087Z"
   },
   {
    "duration": 34,
    "start_time": "2021-11-06T16:44:17.137Z"
   },
   {
    "duration": 11,
    "start_time": "2021-11-06T16:44:17.175Z"
   },
   {
    "duration": 9,
    "start_time": "2021-11-06T16:44:17.189Z"
   },
   {
    "duration": 5,
    "start_time": "2021-11-06T16:44:17.237Z"
   },
   {
    "duration": 42,
    "start_time": "2021-11-06T16:44:17.246Z"
   },
   {
    "duration": 23,
    "start_time": "2021-11-06T16:44:17.290Z"
   },
   {
    "duration": 32,
    "start_time": "2021-11-06T16:44:17.315Z"
   },
   {
    "duration": 10,
    "start_time": "2021-11-06T16:44:17.352Z"
   },
   {
    "duration": 29,
    "start_time": "2021-11-06T16:44:17.364Z"
   },
   {
    "duration": 16,
    "start_time": "2021-11-06T16:44:17.395Z"
   },
   {
    "duration": 12,
    "start_time": "2021-11-06T16:44:17.413Z"
   },
   {
    "duration": 43,
    "start_time": "2021-11-06T16:44:17.428Z"
   },
   {
    "duration": 108,
    "start_time": "2021-11-06T16:44:17.474Z"
   },
   {
    "duration": 104,
    "start_time": "2021-11-06T16:44:55.688Z"
   },
   {
    "duration": 101,
    "start_time": "2021-11-06T16:45:20.089Z"
   },
   {
    "duration": 808,
    "start_time": "2021-11-06T16:45:53.360Z"
   },
   {
    "duration": 79,
    "start_time": "2021-11-06T16:45:54.171Z"
   },
   {
    "duration": 34,
    "start_time": "2021-11-06T16:45:54.255Z"
   },
   {
    "duration": 115,
    "start_time": "2021-11-06T16:45:54.292Z"
   },
   {
    "duration": 35,
    "start_time": "2021-11-06T16:45:54.410Z"
   },
   {
    "duration": 68,
    "start_time": "2021-11-06T16:45:54.448Z"
   },
   {
    "duration": 126,
    "start_time": "2021-11-06T16:45:54.518Z"
   },
   {
    "duration": 15,
    "start_time": "2021-11-06T16:45:54.654Z"
   },
   {
    "duration": 22,
    "start_time": "2021-11-06T16:45:54.676Z"
   },
   {
    "duration": 8,
    "start_time": "2021-11-06T16:45:54.701Z"
   },
   {
    "duration": 15,
    "start_time": "2021-11-06T16:45:54.734Z"
   },
   {
    "duration": 10,
    "start_time": "2021-11-06T16:45:54.757Z"
   },
   {
    "duration": 17,
    "start_time": "2021-11-06T16:45:54.770Z"
   },
   {
    "duration": 29,
    "start_time": "2021-11-06T16:45:54.789Z"
   },
   {
    "duration": 37,
    "start_time": "2021-11-06T16:45:54.821Z"
   },
   {
    "duration": 27,
    "start_time": "2021-11-06T16:45:54.862Z"
   },
   {
    "duration": 13,
    "start_time": "2021-11-06T16:45:54.892Z"
   },
   {
    "duration": 51,
    "start_time": "2021-11-06T16:45:54.908Z"
   },
   {
    "duration": 12,
    "start_time": "2021-11-06T16:45:54.962Z"
   },
   {
    "duration": 26,
    "start_time": "2021-11-06T16:45:54.977Z"
   },
   {
    "duration": 19,
    "start_time": "2021-11-06T16:45:55.005Z"
   },
   {
    "duration": 35,
    "start_time": "2021-11-06T16:45:55.026Z"
   },
   {
    "duration": 21,
    "start_time": "2021-11-06T16:45:55.063Z"
   },
   {
    "duration": 54,
    "start_time": "2021-11-06T16:45:55.086Z"
   },
   {
    "duration": 26,
    "start_time": "2021-11-06T16:45:55.143Z"
   },
   {
    "duration": 17,
    "start_time": "2021-11-06T16:45:55.171Z"
   },
   {
    "duration": 14,
    "start_time": "2021-11-06T16:45:55.193Z"
   },
   {
    "duration": 10,
    "start_time": "2021-11-06T16:45:55.210Z"
   },
   {
    "duration": 36,
    "start_time": "2021-11-06T16:45:55.222Z"
   },
   {
    "duration": 102,
    "start_time": "2021-11-06T16:45:55.261Z"
   },
   {
    "duration": 119,
    "start_time": "2021-11-06T16:45:55.368Z"
   },
   {
    "duration": 17,
    "start_time": "2021-11-06T16:45:55.489Z"
   },
   {
    "duration": 35,
    "start_time": "2021-11-06T16:45:55.509Z"
   },
   {
    "duration": 31,
    "start_time": "2021-11-06T16:45:55.547Z"
   },
   {
    "duration": 37,
    "start_time": "2021-11-06T16:45:55.581Z"
   },
   {
    "duration": 44,
    "start_time": "2021-11-06T16:45:55.621Z"
   },
   {
    "duration": 57,
    "start_time": "2021-11-06T16:45:55.669Z"
   },
   {
    "duration": 25,
    "start_time": "2021-11-06T16:45:55.728Z"
   },
   {
    "duration": 20,
    "start_time": "2021-11-06T16:45:55.756Z"
   },
   {
    "duration": 29,
    "start_time": "2021-11-06T16:45:55.779Z"
   },
   {
    "duration": 27,
    "start_time": "2021-11-06T16:45:55.810Z"
   },
   {
    "duration": 1021,
    "start_time": "2021-11-06T16:45:55.840Z"
   },
   {
    "duration": 5,
    "start_time": "2021-11-06T16:45:56.864Z"
   },
   {
    "duration": 6,
    "start_time": "2021-11-06T16:45:56.872Z"
   },
   {
    "duration": 82,
    "start_time": "2021-11-06T16:45:56.881Z"
   },
   {
    "duration": 6,
    "start_time": "2021-11-06T16:45:56.966Z"
   },
   {
    "duration": 91,
    "start_time": "2021-11-06T16:45:56.976Z"
   },
   {
    "duration": 16,
    "start_time": "2021-11-06T16:45:57.070Z"
   },
   {
    "duration": 8,
    "start_time": "2021-11-06T16:45:57.089Z"
   },
   {
    "duration": 37,
    "start_time": "2021-11-06T16:45:57.100Z"
   },
   {
    "duration": 29,
    "start_time": "2021-11-06T16:45:57.139Z"
   },
   {
    "duration": 16,
    "start_time": "2021-11-06T16:47:07.705Z"
   },
   {
    "duration": 22,
    "start_time": "2021-11-06T16:47:08.522Z"
   },
   {
    "duration": 37,
    "start_time": "2021-11-06T16:47:10.218Z"
   },
   {
    "duration": 370,
    "start_time": "2021-11-06T16:48:10.810Z"
   },
   {
    "duration": 191,
    "start_time": "2021-11-06T16:48:15.833Z"
   },
   {
    "duration": 26,
    "start_time": "2021-11-06T16:53:24.545Z"
   },
   {
    "duration": 10,
    "start_time": "2021-11-06T16:54:39.547Z"
   },
   {
    "duration": 4,
    "start_time": "2021-11-06T16:54:51.099Z"
   },
   {
    "duration": 12,
    "start_time": "2021-11-06T16:55:02.827Z"
   },
   {
    "duration": 24,
    "start_time": "2021-11-06T16:55:10.892Z"
   },
   {
    "duration": 4,
    "start_time": "2021-11-06T16:55:13.676Z"
   },
   {
    "duration": 13,
    "start_time": "2021-11-06T16:56:32.555Z"
   },
   {
    "duration": 96,
    "start_time": "2021-11-06T17:02:16.797Z"
   },
   {
    "duration": 20,
    "start_time": "2021-11-06T17:02:46.524Z"
   },
   {
    "duration": 12,
    "start_time": "2021-11-06T17:03:47.564Z"
   },
   {
    "duration": 13,
    "start_time": "2021-11-06T17:05:48.302Z"
   },
   {
    "duration": 6,
    "start_time": "2021-11-06T17:05:48.925Z"
   },
   {
    "duration": 12,
    "start_time": "2021-11-06T17:06:21.949Z"
   },
   {
    "duration": 6,
    "start_time": "2021-11-06T17:06:22.652Z"
   },
   {
    "duration": 5,
    "start_time": "2021-11-06T17:06:24.204Z"
   },
   {
    "duration": 19,
    "start_time": "2021-11-06T17:06:24.716Z"
   },
   {
    "duration": 12,
    "start_time": "2021-11-06T17:06:44.924Z"
   },
   {
    "duration": 6,
    "start_time": "2021-11-06T17:07:54.686Z"
   },
   {
    "duration": 5,
    "start_time": "2021-11-06T17:10:19.711Z"
   },
   {
    "duration": 6,
    "start_time": "2021-11-06T17:11:25.374Z"
   },
   {
    "duration": 936,
    "start_time": "2021-11-06T17:13:49.113Z"
   },
   {
    "duration": 4,
    "start_time": "2021-11-06T17:13:50.051Z"
   },
   {
    "duration": 27,
    "start_time": "2021-11-06T17:13:50.057Z"
   },
   {
    "duration": 33,
    "start_time": "2021-11-06T17:13:50.086Z"
   },
   {
    "duration": 73,
    "start_time": "2021-11-06T17:13:50.121Z"
   },
   {
    "duration": 31,
    "start_time": "2021-11-06T17:13:50.197Z"
   },
   {
    "duration": 34,
    "start_time": "2021-11-06T17:13:50.231Z"
   },
   {
    "duration": 62,
    "start_time": "2021-11-06T17:13:50.269Z"
   },
   {
    "duration": 116,
    "start_time": "2021-11-06T17:13:50.334Z"
   },
   {
    "duration": 6,
    "start_time": "2021-11-06T17:13:50.452Z"
   },
   {
    "duration": 22,
    "start_time": "2021-11-06T17:13:50.460Z"
   },
   {
    "duration": 13,
    "start_time": "2021-11-06T17:13:50.485Z"
   },
   {
    "duration": 19,
    "start_time": "2021-11-06T17:13:50.531Z"
   },
   {
    "duration": 15,
    "start_time": "2021-11-06T17:13:50.553Z"
   },
   {
    "duration": 24,
    "start_time": "2021-11-06T17:13:50.570Z"
   },
   {
    "duration": 50,
    "start_time": "2021-11-06T17:13:50.597Z"
   },
   {
    "duration": 20,
    "start_time": "2021-11-06T17:13:50.650Z"
   },
   {
    "duration": 29,
    "start_time": "2021-11-06T17:13:50.673Z"
   },
   {
    "duration": 45,
    "start_time": "2021-11-06T17:13:50.705Z"
   },
   {
    "duration": 33,
    "start_time": "2021-11-06T17:13:50.753Z"
   },
   {
    "duration": 12,
    "start_time": "2021-11-06T17:13:50.788Z"
   },
   {
    "duration": 38,
    "start_time": "2021-11-06T17:13:50.802Z"
   },
   {
    "duration": 20,
    "start_time": "2021-11-06T17:13:50.846Z"
   },
   {
    "duration": 29,
    "start_time": "2021-11-06T17:13:50.870Z"
   },
   {
    "duration": 30,
    "start_time": "2021-11-06T17:13:50.901Z"
   },
   {
    "duration": 15,
    "start_time": "2021-11-06T17:13:50.934Z"
   },
   {
    "duration": 21,
    "start_time": "2021-11-06T17:13:50.952Z"
   },
   {
    "duration": 16,
    "start_time": "2021-11-06T17:13:50.975Z"
   },
   {
    "duration": 13,
    "start_time": "2021-11-06T17:13:50.993Z"
   },
   {
    "duration": 18,
    "start_time": "2021-11-06T17:13:51.009Z"
   },
   {
    "duration": 24,
    "start_time": "2021-11-06T17:13:51.031Z"
   },
   {
    "duration": 19,
    "start_time": "2021-11-06T17:13:51.058Z"
   },
   {
    "duration": 63,
    "start_time": "2021-11-06T17:13:51.079Z"
   },
   {
    "duration": 145,
    "start_time": "2021-11-06T17:13:51.145Z"
   },
   {
    "duration": 5,
    "start_time": "2021-11-06T17:15:12.053Z"
   },
   {
    "duration": 5,
    "start_time": "2021-11-06T17:15:27.196Z"
   },
   {
    "duration": 25,
    "start_time": "2021-11-06T17:15:29.627Z"
   },
   {
    "duration": 105,
    "start_time": "2021-11-06T17:15:33.166Z"
   },
   {
    "duration": 5,
    "start_time": "2021-11-06T17:17:05.916Z"
   },
   {
    "duration": 5,
    "start_time": "2021-11-06T17:17:10.666Z"
   },
   {
    "duration": 19,
    "start_time": "2021-11-06T17:17:12.251Z"
   },
   {
    "duration": 98,
    "start_time": "2021-11-06T17:17:14.862Z"
   },
   {
    "duration": 5,
    "start_time": "2021-11-06T17:17:31.788Z"
   },
   {
    "duration": 4,
    "start_time": "2021-11-06T17:19:25.984Z"
   },
   {
    "duration": 10,
    "start_time": "2021-11-06T17:19:25.990Z"
   },
   {
    "duration": 13,
    "start_time": "2021-11-06T17:19:26.003Z"
   },
   {
    "duration": 6,
    "start_time": "2021-11-06T17:19:26.019Z"
   },
   {
    "duration": 66,
    "start_time": "2021-11-06T17:19:26.028Z"
   },
   {
    "duration": 48,
    "start_time": "2021-11-06T17:19:26.097Z"
   },
   {
    "duration": 19,
    "start_time": "2021-11-06T17:19:26.149Z"
   },
   {
    "duration": 89,
    "start_time": "2021-11-06T17:19:26.171Z"
   },
   {
    "duration": 114,
    "start_time": "2021-11-06T17:19:26.263Z"
   },
   {
    "duration": 6,
    "start_time": "2021-11-06T17:19:26.380Z"
   },
   {
    "duration": 16,
    "start_time": "2021-11-06T17:19:26.389Z"
   },
   {
    "duration": 31,
    "start_time": "2021-11-06T17:19:26.407Z"
   },
   {
    "duration": 17,
    "start_time": "2021-11-06T17:19:26.441Z"
   },
   {
    "duration": 12,
    "start_time": "2021-11-06T17:19:26.461Z"
   },
   {
    "duration": 10,
    "start_time": "2021-11-06T17:19:26.476Z"
   },
   {
    "duration": 46,
    "start_time": "2021-11-06T17:19:26.488Z"
   },
   {
    "duration": 14,
    "start_time": "2021-11-06T17:19:26.537Z"
   },
   {
    "duration": 8,
    "start_time": "2021-11-06T17:19:26.560Z"
   },
   {
    "duration": 14,
    "start_time": "2021-11-06T17:19:26.571Z"
   },
   {
    "duration": 40,
    "start_time": "2021-11-06T17:19:26.628Z"
   },
   {
    "duration": 12,
    "start_time": "2021-11-06T17:19:26.671Z"
   },
   {
    "duration": 11,
    "start_time": "2021-11-06T17:19:26.685Z"
   },
   {
    "duration": 39,
    "start_time": "2021-11-06T17:19:26.698Z"
   },
   {
    "duration": 13,
    "start_time": "2021-11-06T17:19:26.741Z"
   },
   {
    "duration": 13,
    "start_time": "2021-11-06T17:19:26.757Z"
   },
   {
    "duration": 5,
    "start_time": "2021-11-06T17:19:26.772Z"
   },
   {
    "duration": 50,
    "start_time": "2021-11-06T17:19:26.780Z"
   },
   {
    "duration": 20,
    "start_time": "2021-11-06T17:19:26.833Z"
   },
   {
    "duration": 6,
    "start_time": "2021-11-06T17:19:26.857Z"
   },
   {
    "duration": 7,
    "start_time": "2021-11-06T17:19:26.866Z"
   },
   {
    "duration": 8,
    "start_time": "2021-11-06T17:19:26.875Z"
   },
   {
    "duration": 6,
    "start_time": "2021-11-06T17:19:26.933Z"
   },
   {
    "duration": 14,
    "start_time": "2021-11-06T17:19:26.943Z"
   },
   {
    "duration": 35,
    "start_time": "2021-11-06T17:19:26.960Z"
   },
   {
    "duration": 126,
    "start_time": "2021-11-06T17:19:26.998Z"
   },
   {
    "duration": 24,
    "start_time": "2021-11-06T17:19:27.126Z"
   },
   {
    "duration": 12,
    "start_time": "2021-11-06T17:19:27.153Z"
   },
   {
    "duration": 20,
    "start_time": "2021-11-06T17:19:27.168Z"
   },
   {
    "duration": 155,
    "start_time": "2021-11-06T17:19:46.429Z"
   },
   {
    "duration": 4,
    "start_time": "2021-11-06T17:19:53.848Z"
   },
   {
    "duration": 8,
    "start_time": "2021-11-06T17:19:53.855Z"
   },
   {
    "duration": 7,
    "start_time": "2021-11-06T17:19:53.865Z"
   },
   {
    "duration": 6,
    "start_time": "2021-11-06T17:19:53.874Z"
   },
   {
    "duration": 84,
    "start_time": "2021-11-06T17:19:53.883Z"
   },
   {
    "duration": 19,
    "start_time": "2021-11-06T17:19:53.970Z"
   },
   {
    "duration": 48,
    "start_time": "2021-11-06T17:19:53.992Z"
   },
   {
    "duration": 52,
    "start_time": "2021-11-06T17:19:54.045Z"
   },
   {
    "duration": 180,
    "start_time": "2021-11-06T17:19:54.101Z"
   },
   {
    "duration": 8,
    "start_time": "2021-11-06T17:19:54.285Z"
   },
   {
    "duration": 36,
    "start_time": "2021-11-06T17:19:54.295Z"
   },
   {
    "duration": 13,
    "start_time": "2021-11-06T17:19:54.336Z"
   },
   {
    "duration": 8,
    "start_time": "2021-11-06T17:19:54.351Z"
   },
   {
    "duration": 8,
    "start_time": "2021-11-06T17:19:54.362Z"
   },
   {
    "duration": 15,
    "start_time": "2021-11-06T17:19:54.372Z"
   },
   {
    "duration": 14,
    "start_time": "2021-11-06T17:19:54.430Z"
   },
   {
    "duration": 9,
    "start_time": "2021-11-06T17:19:54.447Z"
   },
   {
    "duration": 13,
    "start_time": "2021-11-06T17:19:54.458Z"
   },
   {
    "duration": 10,
    "start_time": "2021-11-06T17:19:54.474Z"
   },
   {
    "duration": 77,
    "start_time": "2021-11-06T17:19:54.486Z"
   },
   {
    "duration": 13,
    "start_time": "2021-11-06T17:19:54.566Z"
   },
   {
    "duration": 7,
    "start_time": "2021-11-06T17:19:54.582Z"
   },
   {
    "duration": 37,
    "start_time": "2021-11-06T17:19:54.597Z"
   },
   {
    "duration": 13,
    "start_time": "2021-11-06T17:19:54.638Z"
   },
   {
    "duration": 6,
    "start_time": "2021-11-06T17:19:54.654Z"
   },
   {
    "duration": 8,
    "start_time": "2021-11-06T17:19:54.662Z"
   },
   {
    "duration": 17,
    "start_time": "2021-11-06T17:19:54.672Z"
   },
   {
    "duration": 53,
    "start_time": "2021-11-06T17:19:54.692Z"
   },
   {
    "duration": 6,
    "start_time": "2021-11-06T17:19:54.748Z"
   },
   {
    "duration": 7,
    "start_time": "2021-11-06T17:19:54.757Z"
   },
   {
    "duration": 9,
    "start_time": "2021-11-06T17:19:54.767Z"
   },
   {
    "duration": 11,
    "start_time": "2021-11-06T17:19:54.779Z"
   },
   {
    "duration": 49,
    "start_time": "2021-11-06T17:19:54.793Z"
   },
   {
    "duration": 20,
    "start_time": "2021-11-06T17:19:54.845Z"
   },
   {
    "duration": 130,
    "start_time": "2021-11-06T17:19:54.868Z"
   },
   {
    "duration": 17,
    "start_time": "2021-11-06T17:19:55.000Z"
   },
   {
    "duration": 25,
    "start_time": "2021-11-06T17:19:55.019Z"
   },
   {
    "duration": 28,
    "start_time": "2021-11-06T17:19:55.050Z"
   },
   {
    "duration": 75,
    "start_time": "2021-11-06T17:19:55.082Z"
   },
   {
    "duration": 24,
    "start_time": "2021-11-06T17:19:55.160Z"
   },
   {
    "duration": 124,
    "start_time": "2021-11-06T17:19:55.187Z"
   },
   {
    "duration": 20,
    "start_time": "2021-11-06T17:26:26.782Z"
   },
   {
    "duration": 17,
    "start_time": "2021-11-06T17:26:35.101Z"
   },
   {
    "duration": 18,
    "start_time": "2021-11-06T17:26:48.669Z"
   },
   {
    "duration": 7,
    "start_time": "2021-11-06T17:27:54.862Z"
   },
   {
    "duration": 7,
    "start_time": "2021-11-06T17:27:58.813Z"
   },
   {
    "duration": 4,
    "start_time": "2021-11-06T17:28:07.898Z"
   },
   {
    "duration": 23,
    "start_time": "2021-11-06T17:28:07.905Z"
   },
   {
    "duration": 17,
    "start_time": "2021-11-06T17:28:07.932Z"
   },
   {
    "duration": 15,
    "start_time": "2021-11-06T17:28:07.952Z"
   },
   {
    "duration": 89,
    "start_time": "2021-11-06T17:28:07.969Z"
   },
   {
    "duration": 17,
    "start_time": "2021-11-06T17:28:08.060Z"
   },
   {
    "duration": 32,
    "start_time": "2021-11-06T17:28:08.079Z"
   },
   {
    "duration": 69,
    "start_time": "2021-11-06T17:28:08.114Z"
   },
   {
    "duration": 105,
    "start_time": "2021-11-06T17:28:08.186Z"
   },
   {
    "duration": 7,
    "start_time": "2021-11-06T17:28:08.293Z"
   },
   {
    "duration": 30,
    "start_time": "2021-11-06T17:28:08.302Z"
   },
   {
    "duration": 7,
    "start_time": "2021-11-06T17:28:31.021Z"
   },
   {
    "duration": 24,
    "start_time": "2021-11-06T17:29:03.437Z"
   },
   {
    "duration": 825,
    "start_time": "2021-11-06T17:35:15.811Z"
   },
   {
    "duration": 5,
    "start_time": "2021-11-06T17:35:16.639Z"
   },
   {
    "duration": 8,
    "start_time": "2021-11-06T17:35:16.650Z"
   },
   {
    "duration": 4,
    "start_time": "2021-11-06T17:35:16.662Z"
   },
   {
    "duration": 95,
    "start_time": "2021-11-06T17:35:16.669Z"
   },
   {
    "duration": 29,
    "start_time": "2021-11-06T17:35:16.767Z"
   },
   {
    "duration": 51,
    "start_time": "2021-11-06T17:35:16.800Z"
   },
   {
    "duration": 96,
    "start_time": "2021-11-06T17:35:16.854Z"
   },
   {
    "duration": 122,
    "start_time": "2021-11-06T17:35:16.955Z"
   },
   {
    "duration": 7,
    "start_time": "2021-11-06T17:35:17.080Z"
   },
   {
    "duration": 7,
    "start_time": "2021-11-06T17:35:17.089Z"
   },
   {
    "duration": 38,
    "start_time": "2021-11-06T17:35:17.098Z"
   },
   {
    "duration": 11,
    "start_time": "2021-11-06T17:35:17.139Z"
   },
   {
    "duration": 8,
    "start_time": "2021-11-06T17:35:17.152Z"
   },
   {
    "duration": 9,
    "start_time": "2021-11-06T17:35:17.163Z"
   },
   {
    "duration": 60,
    "start_time": "2021-11-06T17:35:17.175Z"
   },
   {
    "duration": 12,
    "start_time": "2021-11-06T17:35:17.240Z"
   },
   {
    "duration": 9,
    "start_time": "2021-11-06T17:35:17.255Z"
   },
   {
    "duration": 10,
    "start_time": "2021-11-06T17:35:17.267Z"
   },
   {
    "duration": 72,
    "start_time": "2021-11-06T17:35:17.279Z"
   },
   {
    "duration": 13,
    "start_time": "2021-11-06T17:35:17.354Z"
   },
   {
    "duration": 7,
    "start_time": "2021-11-06T17:35:17.370Z"
   },
   {
    "duration": 6,
    "start_time": "2021-11-06T17:35:17.380Z"
   },
   {
    "duration": 54,
    "start_time": "2021-11-06T17:35:17.389Z"
   },
   {
    "duration": 45,
    "start_time": "2021-11-06T17:35:17.446Z"
   },
   {
    "duration": 14,
    "start_time": "2021-11-06T17:35:17.494Z"
   },
   {
    "duration": 29,
    "start_time": "2021-11-06T17:35:17.515Z"
   },
   {
    "duration": 14,
    "start_time": "2021-11-06T17:35:17.549Z"
   },
   {
    "duration": 19,
    "start_time": "2021-11-06T17:35:17.566Z"
   },
   {
    "duration": 10,
    "start_time": "2021-11-06T17:35:17.588Z"
   },
   {
    "duration": 14,
    "start_time": "2021-11-06T17:35:17.601Z"
   },
   {
    "duration": 10,
    "start_time": "2021-11-06T17:35:17.631Z"
   },
   {
    "duration": 8,
    "start_time": "2021-11-06T17:35:17.646Z"
   },
   {
    "duration": 22,
    "start_time": "2021-11-06T17:35:17.656Z"
   },
   {
    "duration": 131,
    "start_time": "2021-11-06T17:35:17.681Z"
   },
   {
    "duration": 25,
    "start_time": "2021-11-06T17:35:17.814Z"
   },
   {
    "duration": 16,
    "start_time": "2021-11-06T17:35:17.842Z"
   },
   {
    "duration": 32,
    "start_time": "2021-11-06T17:35:17.860Z"
   },
   {
    "duration": 66,
    "start_time": "2021-11-06T17:35:17.895Z"
   },
   {
    "duration": 22,
    "start_time": "2021-11-06T17:35:17.963Z"
   },
   {
    "duration": 115,
    "start_time": "2021-11-06T17:35:17.987Z"
   },
   {
    "duration": 5,
    "start_time": "2021-11-06T17:35:18.105Z"
   },
   {
    "duration": 22,
    "start_time": "2021-11-06T17:35:18.113Z"
   },
   {
    "duration": 969,
    "start_time": "2021-11-06T17:35:18.138Z"
   },
   {
    "duration": 4,
    "start_time": "2021-11-06T17:35:19.110Z"
   },
   {
    "duration": 19,
    "start_time": "2021-11-06T17:35:19.116Z"
   },
   {
    "duration": 32,
    "start_time": "2021-11-06T17:35:19.138Z"
   },
   {
    "duration": 4,
    "start_time": "2021-11-06T17:35:19.173Z"
   },
   {
    "duration": 101,
    "start_time": "2021-11-06T17:35:19.180Z"
   },
   {
    "duration": 13,
    "start_time": "2021-11-06T17:35:19.284Z"
   },
   {
    "duration": 9,
    "start_time": "2021-11-06T17:35:19.299Z"
   },
   {
    "duration": 24,
    "start_time": "2021-11-06T17:35:19.329Z"
   },
   {
    "duration": 9,
    "start_time": "2021-11-06T17:35:19.355Z"
   },
   {
    "duration": 16,
    "start_time": "2021-11-06T17:43:58.341Z"
   },
   {
    "duration": 123,
    "start_time": "2021-11-06T17:45:06.628Z"
   },
   {
    "duration": 20,
    "start_time": "2021-11-06T17:45:14.244Z"
   },
   {
    "duration": 22,
    "start_time": "2021-11-06T17:45:22.227Z"
   },
   {
    "duration": 23,
    "start_time": "2021-11-06T17:47:45.635Z"
   },
   {
    "duration": 24,
    "start_time": "2021-11-06T17:50:00.710Z"
   },
   {
    "duration": 22,
    "start_time": "2021-11-06T17:50:18.276Z"
   },
   {
    "duration": 21,
    "start_time": "2021-11-06T17:52:17.156Z"
   },
   {
    "duration": 20,
    "start_time": "2021-11-06T17:55:24.309Z"
   },
   {
    "duration": 27,
    "start_time": "2021-11-06T17:56:08.502Z"
   },
   {
    "duration": 20,
    "start_time": "2021-11-06T17:56:48.902Z"
   },
   {
    "duration": 19,
    "start_time": "2021-11-06T17:57:01.253Z"
   },
   {
    "duration": 732,
    "start_time": "2021-11-06T18:07:20.275Z"
   },
   {
    "duration": 4,
    "start_time": "2021-11-06T18:07:21.010Z"
   },
   {
    "duration": 18,
    "start_time": "2021-11-06T18:07:21.019Z"
   },
   {
    "duration": 4,
    "start_time": "2021-11-06T18:07:21.041Z"
   },
   {
    "duration": 68,
    "start_time": "2021-11-06T18:07:21.049Z"
   },
   {
    "duration": 28,
    "start_time": "2021-11-06T18:07:21.130Z"
   },
   {
    "duration": 24,
    "start_time": "2021-11-06T18:07:21.161Z"
   },
   {
    "duration": 78,
    "start_time": "2021-11-06T18:07:21.189Z"
   },
   {
    "duration": 109,
    "start_time": "2021-11-06T18:07:21.270Z"
   },
   {
    "duration": 8,
    "start_time": "2021-11-06T18:07:21.382Z"
   },
   {
    "duration": 11,
    "start_time": "2021-11-06T18:07:21.393Z"
   },
   {
    "duration": 9,
    "start_time": "2021-11-06T18:07:21.431Z"
   },
   {
    "duration": 8,
    "start_time": "2021-11-06T18:07:21.443Z"
   },
   {
    "duration": 9,
    "start_time": "2021-11-06T18:07:21.454Z"
   },
   {
    "duration": 14,
    "start_time": "2021-11-06T18:07:21.466Z"
   },
   {
    "duration": 71,
    "start_time": "2021-11-06T18:07:21.483Z"
   },
   {
    "duration": 12,
    "start_time": "2021-11-06T18:07:21.558Z"
   },
   {
    "duration": 9,
    "start_time": "2021-11-06T18:07:21.574Z"
   },
   {
    "duration": 11,
    "start_time": "2021-11-06T18:07:21.586Z"
   },
   {
    "duration": 47,
    "start_time": "2021-11-06T18:07:21.600Z"
   },
   {
    "duration": 12,
    "start_time": "2021-11-06T18:07:21.650Z"
   },
   {
    "duration": 7,
    "start_time": "2021-11-06T18:07:21.665Z"
   },
   {
    "duration": 9,
    "start_time": "2021-11-06T18:07:21.678Z"
   },
   {
    "duration": 11,
    "start_time": "2021-11-06T18:07:21.730Z"
   },
   {
    "duration": 9,
    "start_time": "2021-11-06T18:07:21.744Z"
   },
   {
    "duration": 5,
    "start_time": "2021-11-06T18:07:21.756Z"
   },
   {
    "duration": 14,
    "start_time": "2021-11-06T18:07:21.764Z"
   },
   {
    "duration": 57,
    "start_time": "2021-11-06T18:07:21.780Z"
   },
   {
    "duration": 6,
    "start_time": "2021-11-06T18:07:21.839Z"
   },
   {
    "duration": 7,
    "start_time": "2021-11-06T18:07:21.849Z"
   },
   {
    "duration": 14,
    "start_time": "2021-11-06T18:07:21.859Z"
   },
   {
    "duration": 8,
    "start_time": "2021-11-06T18:07:21.876Z"
   },
   {
    "duration": 9,
    "start_time": "2021-11-06T18:07:21.886Z"
   },
   {
    "duration": 20,
    "start_time": "2021-11-06T18:07:21.929Z"
   },
   {
    "duration": 112,
    "start_time": "2021-11-06T18:07:21.951Z"
   },
   {
    "duration": 16,
    "start_time": "2021-11-06T18:07:22.066Z"
   },
   {
    "duration": 15,
    "start_time": "2021-11-06T18:07:22.085Z"
   },
   {
    "duration": 39,
    "start_time": "2021-11-06T18:07:22.103Z"
   },
   {
    "duration": 45,
    "start_time": "2021-11-06T18:07:22.145Z"
   },
   {
    "duration": 50,
    "start_time": "2021-11-06T18:07:22.194Z"
   },
   {
    "duration": 156,
    "start_time": "2021-11-06T18:07:22.247Z"
   },
   {
    "duration": 7,
    "start_time": "2021-11-06T18:07:22.407Z"
   },
   {
    "duration": 15,
    "start_time": "2021-11-06T18:07:22.417Z"
   },
   {
    "duration": 1380,
    "start_time": "2021-11-06T18:07:22.435Z"
   },
   {
    "duration": 13,
    "start_time": "2021-11-06T18:07:23.819Z"
   },
   {
    "duration": 13,
    "start_time": "2021-11-06T18:07:23.835Z"
   },
   {
    "duration": 43,
    "start_time": "2021-11-06T18:07:23.851Z"
   },
   {
    "duration": 5,
    "start_time": "2021-11-06T18:07:23.897Z"
   },
   {
    "duration": 81,
    "start_time": "2021-11-06T18:07:23.905Z"
   },
   {
    "duration": 55,
    "start_time": "2021-11-06T18:07:23.989Z"
   },
   {
    "duration": 21,
    "start_time": "2021-11-06T18:07:24.046Z"
   },
   {
    "duration": 31,
    "start_time": "2021-11-06T18:07:24.070Z"
   },
   {
    "duration": 31,
    "start_time": "2021-11-06T18:07:24.130Z"
   }
  ],
  "kernelspec": {
   "display_name": "Python 3",
   "language": "python",
   "name": "python3"
  },
  "language_info": {
   "codemirror_mode": {
    "name": "ipython",
    "version": 3
   },
   "file_extension": ".py",
   "mimetype": "text/x-python",
   "name": "python",
   "nbconvert_exporter": "python",
   "pygments_lexer": "ipython3",
   "version": "3.8.3"
  },
  "latex_envs": {
   "LaTeX_envs_menu_present": true,
   "autoclose": false,
   "autocomplete": true,
   "bibliofile": "biblio.bib",
   "cite_by": "apalike",
   "current_citInitial": 1,
   "eqLabelWithNumbers": true,
   "eqNumInitial": 1,
   "hotkeys": {
    "equation": "Ctrl-E",
    "itemize": "Ctrl-I"
   },
   "labels_anchors": false,
   "latex_user_defs": false,
   "report_style_numbering": false,
   "user_envs_cfg": false
  },
  "toc": {
   "base_numbering": 1,
   "nav_menu": {
    "height": "277.997px",
    "width": "465.994px"
   },
   "number_sections": true,
   "sideBar": true,
   "skip_h1_title": true,
   "title_cell": "Table of Contents",
   "title_sidebar": "Contents",
   "toc_cell": false,
   "toc_position": {
    "height": "calc(100% - 180px)",
    "left": "10px",
    "top": "150px",
    "width": "331.449px"
   },
   "toc_section_display": true,
   "toc_window_display": true
  }
 },
 "nbformat": 4,
 "nbformat_minor": 2
}
