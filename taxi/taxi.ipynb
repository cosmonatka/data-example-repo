{
 "cells": [
  {
   "cell_type": "markdown",
   "metadata": {},
   "source": [
    "#  Прогнозирование количества заказов такси на следующий час"
   ]
  },
  {
   "cell_type": "markdown",
   "metadata": {},
   "source": [
    "**Цель проекта** — построить модель предсказания количества заказов такси на следующий час, при этом значение метрики *RMSE* на тестовой выборке должно быть не больше 48.\n",
    "\n",
    "**Исходные данные**: файл `taxi.csv`; количество заказов находится в столбце `num_orders` (от англ. *number of orders*, «число заказов»).\n",
    "\n",
    "**Порядок выполнения проекта:**\n",
    "1. Загрузить данные и выполнить их ресемплирование по одному часу.\n",
    "2. Проанализировать данные.\n",
    "3. Обучить разные модели с различными гиперпараметрами. Сделать тестовую выборку размером 10% от исходных данных.\n",
    "4. Проверить данные на тестовой выборке и сделать выводы."
   ]
  },
  {
   "cell_type": "markdown",
   "metadata": {},
   "source": [
    "**Введение**\n",
    "\n",
    "Задача прогнозирования временного ряда состоит в построении модели, которая по историческим данным предскажет будущие значения временного ряда.\n",
    "\n",
    "Промежуток времени в будущем, на который строится прогноз, называется горизонтом прогнозирования: в проекте горизонт прогнозирования — 1 час.\n",
    "\n",
    "Значения временного ряда *x(t)* представляют собой количество заказов, т. е. выражены числами, поэтому настоящая задача является задачей регрессии для временных рядов."
   ]
  },
  {
   "cell_type": "markdown",
   "metadata": {},
   "source": [
    "## Подготовка"
   ]
  },
  {
   "cell_type": "markdown",
   "metadata": {},
   "source": [
    "Импортируем необходимые для работы библиотеки и загрузим файл."
   ]
  },
  {
   "cell_type": "code",
   "execution_count": 1,
   "metadata": {},
   "outputs": [],
   "source": [
    "import pandas as pd\n",
    "import numpy as np\n",
    "import matplotlib.pyplot as plt\n",
    "\n",
    "from statsmodels.tsa.seasonal import seasonal_decompose\n",
    "from statsmodels.tsa.stattools import adfuller\n",
    "\n",
    "from sklearn.model_selection import train_test_split, TimeSeriesSplit, RandomizedSearchCV\n",
    "\n",
    "from sklearn.metrics import mean_squared_error\n",
    "\n",
    "from sklearn.linear_model import LinearRegression\n",
    "from sklearn.ensemble import RandomForestRegressor\n",
    "from catboost import CatBoostRegressor"
   ]
  },
  {
   "cell_type": "code",
   "execution_count": 2,
   "metadata": {
    "scrolled": false
   },
   "outputs": [
    {
     "data": {
      "text/html": [
       "<div>\n",
       "<style scoped>\n",
       "    .dataframe tbody tr th:only-of-type {\n",
       "        vertical-align: middle;\n",
       "    }\n",
       "\n",
       "    .dataframe tbody tr th {\n",
       "        vertical-align: top;\n",
       "    }\n",
       "\n",
       "    .dataframe thead th {\n",
       "        text-align: right;\n",
       "    }\n",
       "</style>\n",
       "<table border=\"1\" class=\"dataframe\">\n",
       "  <thead>\n",
       "    <tr style=\"text-align: right;\">\n",
       "      <th></th>\n",
       "      <th>num_orders</th>\n",
       "    </tr>\n",
       "    <tr>\n",
       "      <th>datetime</th>\n",
       "      <th></th>\n",
       "    </tr>\n",
       "  </thead>\n",
       "  <tbody>\n",
       "    <tr>\n",
       "      <th>2018-03-01 00:00:00</th>\n",
       "      <td>9</td>\n",
       "    </tr>\n",
       "    <tr>\n",
       "      <th>2018-03-01 00:10:00</th>\n",
       "      <td>14</td>\n",
       "    </tr>\n",
       "    <tr>\n",
       "      <th>2018-03-01 00:20:00</th>\n",
       "      <td>28</td>\n",
       "    </tr>\n",
       "    <tr>\n",
       "      <th>2018-03-01 00:30:00</th>\n",
       "      <td>20</td>\n",
       "    </tr>\n",
       "    <tr>\n",
       "      <th>2018-03-01 00:40:00</th>\n",
       "      <td>32</td>\n",
       "    </tr>\n",
       "    <tr>\n",
       "      <th>...</th>\n",
       "      <td>...</td>\n",
       "    </tr>\n",
       "    <tr>\n",
       "      <th>2018-08-31 23:10:00</th>\n",
       "      <td>32</td>\n",
       "    </tr>\n",
       "    <tr>\n",
       "      <th>2018-08-31 23:20:00</th>\n",
       "      <td>24</td>\n",
       "    </tr>\n",
       "    <tr>\n",
       "      <th>2018-08-31 23:30:00</th>\n",
       "      <td>27</td>\n",
       "    </tr>\n",
       "    <tr>\n",
       "      <th>2018-08-31 23:40:00</th>\n",
       "      <td>39</td>\n",
       "    </tr>\n",
       "    <tr>\n",
       "      <th>2018-08-31 23:50:00</th>\n",
       "      <td>53</td>\n",
       "    </tr>\n",
       "  </tbody>\n",
       "</table>\n",
       "<p>26496 rows × 1 columns</p>\n",
       "</div>"
      ],
      "text/plain": [
       "                     num_orders\n",
       "datetime                       \n",
       "2018-03-01 00:00:00           9\n",
       "2018-03-01 00:10:00          14\n",
       "2018-03-01 00:20:00          28\n",
       "2018-03-01 00:30:00          20\n",
       "2018-03-01 00:40:00          32\n",
       "...                         ...\n",
       "2018-08-31 23:10:00          32\n",
       "2018-08-31 23:20:00          24\n",
       "2018-08-31 23:30:00          27\n",
       "2018-08-31 23:40:00          39\n",
       "2018-08-31 23:50:00          53\n",
       "\n",
       "[26496 rows x 1 columns]"
      ]
     },
     "execution_count": 2,
     "metadata": {},
     "output_type": "execute_result"
    }
   ],
   "source": [
    "df = pd.read_csv('/datasets/taxi.csv', parse_dates=[0], index_col='datetime')\n",
    "df"
   ]
  },
  {
   "cell_type": "markdown",
   "metadata": {},
   "source": [
    "Параметр `parse_dates` задает имена столбцов, которые будут преобразованы в тип `DateTime` вместо `object`. Кроме того, столбец с датой-временем сразу задаем в виде индекса датасета."
   ]
  },
  {
   "cell_type": "code",
   "execution_count": 3,
   "metadata": {},
   "outputs": [
    {
     "name": "stdout",
     "output_type": "stream",
     "text": [
      "<class 'pandas.core.frame.DataFrame'>\n",
      "DatetimeIndex: 26496 entries, 2018-03-01 00:00:00 to 2018-08-31 23:50:00\n",
      "Data columns (total 1 columns):\n",
      " #   Column      Non-Null Count  Dtype\n",
      "---  ------      --------------  -----\n",
      " 0   num_orders  26496 non-null  int64\n",
      "dtypes: int64(1)\n",
      "memory usage: 414.0 KB\n"
     ]
    }
   ],
   "source": [
    "df.info()"
   ]
  },
  {
   "cell_type": "markdown",
   "metadata": {},
   "source": [
    "Рассмотрим датасет:\n",
    "1) он состоит из двух столбцов:\n",
    "* `datetime` — значение даты и времени на временной оси. Переменная называется так же, как и тип данных datetime. В этой таблице интервал равен 10 минутам, как видно выше.\n",
    "* `num_orders` — количество заказов за единицу времени (10 минут).\n",
    "\n",
    "2) Пропущенных значений нет.\n",
    "\n",
    "3) Размерность данных — 26 496 временн*ы*х значений."
   ]
  },
  {
   "cell_type": "markdown",
   "metadata": {},
   "source": [
    "Чтобы проверить, в хронологическом ли порядке расположены даты и время, посмотрим атрибут индекса таблицы `is_monotonic`: если порядок соблюден, атрибут вернет *True*, если нет — *False*."
   ]
  },
  {
   "cell_type": "code",
   "execution_count": 4,
   "metadata": {},
   "outputs": [
    {
     "name": "stdout",
     "output_type": "stream",
     "text": [
      "True\n"
     ]
    }
   ],
   "source": [
    "df.sort_index(inplace=True)\n",
    "print(df.index.is_monotonic)"
   ]
  },
  {
   "cell_type": "markdown",
   "metadata": {},
   "source": [
    "Построим график временного ряда."
   ]
  },
  {
   "cell_type": "code",
   "execution_count": 5,
   "metadata": {},
   "outputs": [
    {
     "data": {
      "text/plain": [
       "<AxesSubplot:xlabel='datetime'>"
      ]
     },
     "execution_count": 5,
     "metadata": {},
     "output_type": "execute_result"
    },
    {
     "data": {
      "image/png": "[encoded data removed]",
      "text/plain": [
       "<Figure size 864x288 with 1 Axes>"
      ]
     },
     "metadata": {
      "needs_background": "light"
     },
     "output_type": "display_data"
    }
   ],
   "source": [
    "df.plot(figsize=(12,4))"
   ]
  },
  {
   "cell_type": "markdown",
   "metadata": {},
   "source": [
    "График очень \"насыщенный\", поскольку очень много значений дат и времени. Также заметны несколько выраженных выбросов."
   ]
  },
  {
   "cell_type": "markdown",
   "metadata": {},
   "source": [
    "Проведем ресемплирование — это изменение интервала со значениями ряда. От 10-минутного интервала перейдем к часовому интервалу, усреднив значения по каждому часу. Выбор такого интервала обусловлен постановкой задачи — прогнозом заказов на следующий час."
   ]
  },
  {
   "cell_type": "code",
   "execution_count": 6,
   "metadata": {
    "scrolled": true
   },
   "outputs": [
    {
     "data": {
      "text/html": [
       "<div>\n",
       "<style scoped>\n",
       "    .dataframe tbody tr th:only-of-type {\n",
       "        vertical-align: middle;\n",
       "    }\n",
       "\n",
       "    .dataframe tbody tr th {\n",
       "        vertical-align: top;\n",
       "    }\n",
       "\n",
       "    .dataframe thead th {\n",
       "        text-align: right;\n",
       "    }\n",
       "</style>\n",
       "<table border=\"1\" class=\"dataframe\">\n",
       "  <thead>\n",
       "    <tr style=\"text-align: right;\">\n",
       "      <th></th>\n",
       "      <th>num_orders</th>\n",
       "    </tr>\n",
       "    <tr>\n",
       "      <th>datetime</th>\n",
       "      <th></th>\n",
       "    </tr>\n",
       "  </thead>\n",
       "  <tbody>\n",
       "    <tr>\n",
       "      <th>2018-03-01 00:00:00</th>\n",
       "      <td>124</td>\n",
       "    </tr>\n",
       "    <tr>\n",
       "      <th>2018-03-01 01:00:00</th>\n",
       "      <td>85</td>\n",
       "    </tr>\n",
       "    <tr>\n",
       "      <th>2018-03-01 02:00:00</th>\n",
       "      <td>71</td>\n",
       "    </tr>\n",
       "    <tr>\n",
       "      <th>2018-03-01 03:00:00</th>\n",
       "      <td>66</td>\n",
       "    </tr>\n",
       "    <tr>\n",
       "      <th>2018-03-01 04:00:00</th>\n",
       "      <td>43</td>\n",
       "    </tr>\n",
       "    <tr>\n",
       "      <th>...</th>\n",
       "      <td>...</td>\n",
       "    </tr>\n",
       "    <tr>\n",
       "      <th>2018-08-31 19:00:00</th>\n",
       "      <td>136</td>\n",
       "    </tr>\n",
       "    <tr>\n",
       "      <th>2018-08-31 20:00:00</th>\n",
       "      <td>154</td>\n",
       "    </tr>\n",
       "    <tr>\n",
       "      <th>2018-08-31 21:00:00</th>\n",
       "      <td>159</td>\n",
       "    </tr>\n",
       "    <tr>\n",
       "      <th>2018-08-31 22:00:00</th>\n",
       "      <td>223</td>\n",
       "    </tr>\n",
       "    <tr>\n",
       "      <th>2018-08-31 23:00:00</th>\n",
       "      <td>205</td>\n",
       "    </tr>\n",
       "  </tbody>\n",
       "</table>\n",
       "<p>4416 rows × 1 columns</p>\n",
       "</div>"
      ],
      "text/plain": [
       "                     num_orders\n",
       "datetime                       \n",
       "2018-03-01 00:00:00         124\n",
       "2018-03-01 01:00:00          85\n",
       "2018-03-01 02:00:00          71\n",
       "2018-03-01 03:00:00          66\n",
       "2018-03-01 04:00:00          43\n",
       "...                         ...\n",
       "2018-08-31 19:00:00         136\n",
       "2018-08-31 20:00:00         154\n",
       "2018-08-31 21:00:00         159\n",
       "2018-08-31 22:00:00         223\n",
       "2018-08-31 23:00:00         205\n",
       "\n",
       "[4416 rows x 1 columns]"
      ]
     },
     "execution_count": 6,
     "metadata": {},
     "output_type": "execute_result"
    }
   ],
   "source": [
    "data = df.resample('1H').sum()\n",
    "data"
   ]
  },
  {
   "cell_type": "markdown",
   "metadata": {},
   "source": [
    "Размерность данных уменьшилась до 4 416 объектов."
   ]
  },
  {
   "cell_type": "markdown",
   "metadata": {},
   "source": [
    "## Анализ"
   ]
  },
  {
   "cell_type": "markdown",
   "metadata": {},
   "source": [
    "Проанализируем полученные после ресемплирования данные. Построим график получившегося датасета."
   ]
  },
  {
   "cell_type": "code",
   "execution_count": 7,
   "metadata": {},
   "outputs": [
    {
     "data": {
      "text/plain": [
       "<AxesSubplot:xlabel='datetime'>"
      ]
     },
     "execution_count": 7,
     "metadata": {},
     "output_type": "execute_result"
    },
    {
     "data": {
      "image/png": "[encoded data removed]",
      "text/plain": [
       "<Figure size 864x288 with 1 Axes>"
      ]
     },
     "metadata": {
      "needs_background": "light"
     },
     "output_type": "display_data"
    }
   ],
   "source": [
    "data.plot(figsize=(12,4))"
   ]
  },
  {
   "cell_type": "markdown",
   "metadata": {},
   "source": [
    "Данные довольно сложно проанализировать из-за большого числа колебаний. Чтобы их снизить, применим скользящее среднее к временному ряду и сразу же найдем СКО по скользящему окну. Размер окна соответствует суточному интервалу (24 часам)."
   ]
  },
  {
   "cell_type": "code",
   "execution_count": 8,
   "metadata": {},
   "outputs": [
    {
     "data": {
      "text/plain": [
       "<AxesSubplot:xlabel='datetime'>"
      ]
     },
     "execution_count": 8,
     "metadata": {},
     "output_type": "execute_result"
    },
    {
     "data": {
      "image/png": "[encoded data removed]",
      "text/plain": [
       "<Figure size 864x288 with 1 Axes>"
      ]
     },
     "metadata": {
      "needs_background": "light"
     },
     "output_type": "display_data"
    }
   ],
   "source": [
    "data['mean'] = data['num_orders'].rolling(24).mean()\n",
    "data['std'] = data['num_orders'].rolling(24).std()\n",
    "\n",
    "data.plot(figsize=(12,4))"
   ]
  },
  {
   "cell_type": "markdown",
   "metadata": {},
   "source": [
    "Рассмотрим один месяц из нашего ряда, например, апрель."
   ]
  },
  {
   "cell_type": "code",
   "execution_count": 9,
   "metadata": {},
   "outputs": [
    {
     "data": {
      "text/plain": [
       "<AxesSubplot:xlabel='datetime'>"
      ]
     },
     "execution_count": 9,
     "metadata": {},
     "output_type": "execute_result"
    },
    {
     "data": {
      "image/png": "[encoded data removed]",
      "text/plain": [
       "<Figure size 864x288 with 1 Axes>"
      ]
     },
     "metadata": {
      "needs_background": "light"
     },
     "output_type": "display_data"
    }
   ],
   "source": [
    "data['2018-04-01' : '2018-04-30'].plot(figsize=(12,4))"
   ]
  },
  {
   "cell_type": "markdown",
   "metadata": {},
   "source": [
    "На графике выше заметен рост и спад заказов в течение суток. Кроме этого, видны пики, связанные, скорее всего, с днями недели. Так, по ночам заказов меньше, чем днем, а вечером пятницы заказов становится резко больше.\n",
    "\n",
    "Исследуем сезонность — циклично повторяющиеся закономерности во временном ряду."
   ]
  },
  {
   "cell_type": "code",
   "execution_count": 10,
   "metadata": {},
   "outputs": [],
   "source": [
    "decomposed = seasonal_decompose(data['num_orders'])"
   ]
  },
  {
   "cell_type": "markdown",
   "metadata": {},
   "source": [
    "Функция `seasonal_decompose` раскладывает временной ряд на три составляющие: тренд, сезонность и остаток (шумы)."
   ]
  },
  {
   "cell_type": "code",
   "execution_count": 11,
   "metadata": {},
   "outputs": [
    {
     "data": {
      "image/png": "[encoded data removed]",
      "text/plain": [
       "<Figure size 864x576 with 3 Axes>"
      ]
     },
     "metadata": {
      "needs_background": "light"
     },
     "output_type": "display_data"
    }
   ],
   "source": [
    "plt.figure(figsize=(12, 8))\n",
    "plt.subplot(311)\n",
    "decomposed.trend['2018-04-01' : '2018-04-30'].plot(ax=plt.gca())\n",
    "plt.title('Trend in April')\n",
    "plt.subplot(312)\n",
    "decomposed.seasonal['2018-04-01' : '2018-04-30'].plot(ax=plt.gca())\n",
    "plt.title('Seasonality in April')\n",
    "plt.subplot(313)\n",
    "decomposed.resid['2018-04-01' : '2018-04-30'].plot(ax=plt.gca())\n",
    "plt.title('Residuals in April')\n",
    "plt.tight_layout()"
   ]
  },
  {
   "cell_type": "markdown",
   "metadata": {},
   "source": [
    "На первых двух графиках можно увидеть тренд (возрастание значений к концу временного ряда) и цикличность.\n",
    "Однако временной ряд требует численной проверки на стационарность, помимо визуальной оценки. Для этого проведем обобщенный тест Дикки-Фуллера* на наличие единичных корней с помощью функции adfuller().\n",
    "\n",
    "[* Ссылка на источник](https://habr.com/ru/post/207160/)."
   ]
  },
  {
   "cell_type": "code",
   "execution_count": 12,
   "metadata": {},
   "outputs": [
    {
     "name": "stdout",
     "output_type": "stream",
     "text": [
      "adf:  -3.0689242890279558\n",
      "p-value:  0.028940051402612906\n",
      "Critical values:  {'1%': -3.431842162413052, '5%': -2.8621993540813637, '10%': -2.567120978470452}\n",
      "Единичных корней нет, ряд стационарен.\n"
     ]
    }
   ],
   "source": [
    "test = adfuller(data['num_orders'])\n",
    "print('adf: ', test[0])\n",
    "print('p-value: ', test[1])\n",
    "print('Critical values: ', test[4])\n",
    "if test[0] > test[4]['5%']: \n",
    "    print('Есть единичные корни, ряд не стационарен.')\n",
    "else:\n",
    "    print('Единичных корней нет, ряд стационарен.')"
   ]
  },
  {
   "cell_type": "markdown",
   "metadata": {},
   "source": [
    "Ряд стационарен, поэтому больше никаких преобразований с ним выполнять не будем."
   ]
  },
  {
   "cell_type": "markdown",
   "metadata": {},
   "source": [
    "## Обучение"
   ]
  },
  {
   "cell_type": "markdown",
   "metadata": {},
   "source": [
    "### Признаки и выборки"
   ]
  },
  {
   "cell_type": "markdown",
   "metadata": {},
   "source": [
    "Перейдем к обучению, но для этого вернем датасет в исходный ресэмплированный вид."
   ]
  },
  {
   "cell_type": "code",
   "execution_count": 13,
   "metadata": {},
   "outputs": [
    {
     "data": {
      "text/html": [
       "<div>\n",
       "<style scoped>\n",
       "    .dataframe tbody tr th:only-of-type {\n",
       "        vertical-align: middle;\n",
       "    }\n",
       "\n",
       "    .dataframe tbody tr th {\n",
       "        vertical-align: top;\n",
       "    }\n",
       "\n",
       "    .dataframe thead th {\n",
       "        text-align: right;\n",
       "    }\n",
       "</style>\n",
       "<table border=\"1\" class=\"dataframe\">\n",
       "  <thead>\n",
       "    <tr style=\"text-align: right;\">\n",
       "      <th></th>\n",
       "      <th>num_orders</th>\n",
       "    </tr>\n",
       "    <tr>\n",
       "      <th>datetime</th>\n",
       "      <th></th>\n",
       "    </tr>\n",
       "  </thead>\n",
       "  <tbody>\n",
       "    <tr>\n",
       "      <th>2018-03-01 00:00:00</th>\n",
       "      <td>124</td>\n",
       "    </tr>\n",
       "    <tr>\n",
       "      <th>2018-03-01 01:00:00</th>\n",
       "      <td>85</td>\n",
       "    </tr>\n",
       "    <tr>\n",
       "      <th>2018-03-01 02:00:00</th>\n",
       "      <td>71</td>\n",
       "    </tr>\n",
       "    <tr>\n",
       "      <th>2018-03-01 03:00:00</th>\n",
       "      <td>66</td>\n",
       "    </tr>\n",
       "    <tr>\n",
       "      <th>2018-03-01 04:00:00</th>\n",
       "      <td>43</td>\n",
       "    </tr>\n",
       "  </tbody>\n",
       "</table>\n",
       "</div>"
      ],
      "text/plain": [
       "                     num_orders\n",
       "datetime                       \n",
       "2018-03-01 00:00:00         124\n",
       "2018-03-01 01:00:00          85\n",
       "2018-03-01 02:00:00          71\n",
       "2018-03-01 03:00:00          66\n",
       "2018-03-01 04:00:00          43"
      ]
     },
     "execution_count": 13,
     "metadata": {},
     "output_type": "execute_result"
    }
   ],
   "source": [
    "data = data.drop(['mean', 'std'], axis=1)\n",
    "data.head()"
   ]
  },
  {
   "cell_type": "markdown",
   "metadata": {},
   "source": [
    "Напишем функцию, которая извлекает признаки из столбца индексов."
   ]
  },
  {
   "cell_type": "code",
   "execution_count": 14,
   "metadata": {
    "scrolled": true
   },
   "outputs": [
    {
     "data": {
      "text/html": [
       "<div>\n",
       "<style scoped>\n",
       "    .dataframe tbody tr th:only-of-type {\n",
       "        vertical-align: middle;\n",
       "    }\n",
       "\n",
       "    .dataframe tbody tr th {\n",
       "        vertical-align: top;\n",
       "    }\n",
       "\n",
       "    .dataframe thead th {\n",
       "        text-align: right;\n",
       "    }\n",
       "</style>\n",
       "<table border=\"1\" class=\"dataframe\">\n",
       "  <thead>\n",
       "    <tr style=\"text-align: right;\">\n",
       "      <th></th>\n",
       "      <th>num_orders</th>\n",
       "      <th>year</th>\n",
       "      <th>month</th>\n",
       "      <th>day</th>\n",
       "      <th>dayofweek</th>\n",
       "      <th>lag_1</th>\n",
       "      <th>lag_2</th>\n",
       "      <th>lag_3</th>\n",
       "      <th>lag_4</th>\n",
       "      <th>lag_5</th>\n",
       "      <th>...</th>\n",
       "      <th>lag_16</th>\n",
       "      <th>lag_17</th>\n",
       "      <th>lag_18</th>\n",
       "      <th>lag_19</th>\n",
       "      <th>lag_20</th>\n",
       "      <th>lag_21</th>\n",
       "      <th>lag_22</th>\n",
       "      <th>lag_23</th>\n",
       "      <th>lag_24</th>\n",
       "      <th>rolling_mean</th>\n",
       "    </tr>\n",
       "    <tr>\n",
       "      <th>datetime</th>\n",
       "      <th></th>\n",
       "      <th></th>\n",
       "      <th></th>\n",
       "      <th></th>\n",
       "      <th></th>\n",
       "      <th></th>\n",
       "      <th></th>\n",
       "      <th></th>\n",
       "      <th></th>\n",
       "      <th></th>\n",
       "      <th></th>\n",
       "      <th></th>\n",
       "      <th></th>\n",
       "      <th></th>\n",
       "      <th></th>\n",
       "      <th></th>\n",
       "      <th></th>\n",
       "      <th></th>\n",
       "      <th></th>\n",
       "      <th></th>\n",
       "      <th></th>\n",
       "    </tr>\n",
       "  </thead>\n",
       "  <tbody>\n",
       "    <tr>\n",
       "      <th>2018-03-01 00:00:00</th>\n",
       "      <td>124</td>\n",
       "      <td>2018</td>\n",
       "      <td>3</td>\n",
       "      <td>1</td>\n",
       "      <td>3</td>\n",
       "      <td>NaN</td>\n",
       "      <td>NaN</td>\n",
       "      <td>NaN</td>\n",
       "      <td>NaN</td>\n",
       "      <td>NaN</td>\n",
       "      <td>...</td>\n",
       "      <td>NaN</td>\n",
       "      <td>NaN</td>\n",
       "      <td>NaN</td>\n",
       "      <td>NaN</td>\n",
       "      <td>NaN</td>\n",
       "      <td>NaN</td>\n",
       "      <td>NaN</td>\n",
       "      <td>NaN</td>\n",
       "      <td>NaN</td>\n",
       "      <td>NaN</td>\n",
       "    </tr>\n",
       "    <tr>\n",
       "      <th>2018-03-01 01:00:00</th>\n",
       "      <td>85</td>\n",
       "      <td>2018</td>\n",
       "      <td>3</td>\n",
       "      <td>1</td>\n",
       "      <td>3</td>\n",
       "      <td>124.0</td>\n",
       "      <td>NaN</td>\n",
       "      <td>NaN</td>\n",
       "      <td>NaN</td>\n",
       "      <td>NaN</td>\n",
       "      <td>...</td>\n",
       "      <td>NaN</td>\n",
       "      <td>NaN</td>\n",
       "      <td>NaN</td>\n",
       "      <td>NaN</td>\n",
       "      <td>NaN</td>\n",
       "      <td>NaN</td>\n",
       "      <td>NaN</td>\n",
       "      <td>NaN</td>\n",
       "      <td>NaN</td>\n",
       "      <td>NaN</td>\n",
       "    </tr>\n",
       "    <tr>\n",
       "      <th>2018-03-01 02:00:00</th>\n",
       "      <td>71</td>\n",
       "      <td>2018</td>\n",
       "      <td>3</td>\n",
       "      <td>1</td>\n",
       "      <td>3</td>\n",
       "      <td>85.0</td>\n",
       "      <td>124.0</td>\n",
       "      <td>NaN</td>\n",
       "      <td>NaN</td>\n",
       "      <td>NaN</td>\n",
       "      <td>...</td>\n",
       "      <td>NaN</td>\n",
       "      <td>NaN</td>\n",
       "      <td>NaN</td>\n",
       "      <td>NaN</td>\n",
       "      <td>NaN</td>\n",
       "      <td>NaN</td>\n",
       "      <td>NaN</td>\n",
       "      <td>NaN</td>\n",
       "      <td>NaN</td>\n",
       "      <td>NaN</td>\n",
       "    </tr>\n",
       "    <tr>\n",
       "      <th>2018-03-01 03:00:00</th>\n",
       "      <td>66</td>\n",
       "      <td>2018</td>\n",
       "      <td>3</td>\n",
       "      <td>1</td>\n",
       "      <td>3</td>\n",
       "      <td>71.0</td>\n",
       "      <td>85.0</td>\n",
       "      <td>124.0</td>\n",
       "      <td>NaN</td>\n",
       "      <td>NaN</td>\n",
       "      <td>...</td>\n",
       "      <td>NaN</td>\n",
       "      <td>NaN</td>\n",
       "      <td>NaN</td>\n",
       "      <td>NaN</td>\n",
       "      <td>NaN</td>\n",
       "      <td>NaN</td>\n",
       "      <td>NaN</td>\n",
       "      <td>NaN</td>\n",
       "      <td>NaN</td>\n",
       "      <td>NaN</td>\n",
       "    </tr>\n",
       "    <tr>\n",
       "      <th>2018-03-01 04:00:00</th>\n",
       "      <td>43</td>\n",
       "      <td>2018</td>\n",
       "      <td>3</td>\n",
       "      <td>1</td>\n",
       "      <td>3</td>\n",
       "      <td>66.0</td>\n",
       "      <td>71.0</td>\n",
       "      <td>85.0</td>\n",
       "      <td>124.0</td>\n",
       "      <td>NaN</td>\n",
       "      <td>...</td>\n",
       "      <td>NaN</td>\n",
       "      <td>NaN</td>\n",
       "      <td>NaN</td>\n",
       "      <td>NaN</td>\n",
       "      <td>NaN</td>\n",
       "      <td>NaN</td>\n",
       "      <td>NaN</td>\n",
       "      <td>NaN</td>\n",
       "      <td>NaN</td>\n",
       "      <td>NaN</td>\n",
       "    </tr>\n",
       "  </tbody>\n",
       "</table>\n",
       "<p>5 rows × 30 columns</p>\n",
       "</div>"
      ],
      "text/plain": [
       "                     num_orders  year  month  day  dayofweek  lag_1  lag_2  \\\n",
       "datetime                                                                     \n",
       "2018-03-01 00:00:00         124  2018      3    1          3    NaN    NaN   \n",
       "2018-03-01 01:00:00          85  2018      3    1          3  124.0    NaN   \n",
       "2018-03-01 02:00:00          71  2018      3    1          3   85.0  124.0   \n",
       "2018-03-01 03:00:00          66  2018      3    1          3   71.0   85.0   \n",
       "2018-03-01 04:00:00          43  2018      3    1          3   66.0   71.0   \n",
       "\n",
       "                     lag_3  lag_4  lag_5  ...  lag_16  lag_17  lag_18  lag_19  \\\n",
       "datetime                                  ...                                   \n",
       "2018-03-01 00:00:00    NaN    NaN    NaN  ...     NaN     NaN     NaN     NaN   \n",
       "2018-03-01 01:00:00    NaN    NaN    NaN  ...     NaN     NaN     NaN     NaN   \n",
       "2018-03-01 02:00:00    NaN    NaN    NaN  ...     NaN     NaN     NaN     NaN   \n",
       "2018-03-01 03:00:00  124.0    NaN    NaN  ...     NaN     NaN     NaN     NaN   \n",
       "2018-03-01 04:00:00   85.0  124.0    NaN  ...     NaN     NaN     NaN     NaN   \n",
       "\n",
       "                     lag_20  lag_21  lag_22  lag_23  lag_24  rolling_mean  \n",
       "datetime                                                                   \n",
       "2018-03-01 00:00:00     NaN     NaN     NaN     NaN     NaN           NaN  \n",
       "2018-03-01 01:00:00     NaN     NaN     NaN     NaN     NaN           NaN  \n",
       "2018-03-01 02:00:00     NaN     NaN     NaN     NaN     NaN           NaN  \n",
       "2018-03-01 03:00:00     NaN     NaN     NaN     NaN     NaN           NaN  \n",
       "2018-03-01 04:00:00     NaN     NaN     NaN     NaN     NaN           NaN  \n",
       "\n",
       "[5 rows x 30 columns]"
      ]
     },
     "metadata": {},
     "output_type": "display_data"
    }
   ],
   "source": [
    "def make_features(data, max_lag, rolling_mean_size):\n",
    "    data_mf = data.copy()\n",
    "    data_mf['year'] = data_mf.index.year\n",
    "    data_mf['month'] = data_mf.index.month\n",
    "    data_mf['day'] = data_mf.index.day\n",
    "    data_mf['dayofweek'] = data_mf.index.dayofweek\n",
    "    \n",
    "    for lag in range(1, max_lag + 1):\n",
    "        data_mf['lag_{}'.format(lag)] = data_mf['num_orders'].shift(lag)\n",
    "\n",
    "    data_mf['rolling_mean'] = data_mf['num_orders'].shift().rolling(rolling_mean_size).mean()\n",
    "    return data_mf\n",
    "    \n",
    "data_mf = make_features(data, 24, 168)\n",
    "display(data_mf.head())"
   ]
  },
  {
   "cell_type": "code",
   "execution_count": 15,
   "metadata": {},
   "outputs": [
    {
     "data": {
      "text/html": [
       "<div>\n",
       "<style scoped>\n",
       "    .dataframe tbody tr th:only-of-type {\n",
       "        vertical-align: middle;\n",
       "    }\n",
       "\n",
       "    .dataframe tbody tr th {\n",
       "        vertical-align: top;\n",
       "    }\n",
       "\n",
       "    .dataframe thead th {\n",
       "        text-align: right;\n",
       "    }\n",
       "</style>\n",
       "<table border=\"1\" class=\"dataframe\">\n",
       "  <thead>\n",
       "    <tr style=\"text-align: right;\">\n",
       "      <th></th>\n",
       "      <th>num_orders</th>\n",
       "    </tr>\n",
       "    <tr>\n",
       "      <th>datetime</th>\n",
       "      <th></th>\n",
       "    </tr>\n",
       "  </thead>\n",
       "  <tbody>\n",
       "    <tr>\n",
       "      <th>2018-03-01 00:00:00</th>\n",
       "      <td>124</td>\n",
       "    </tr>\n",
       "    <tr>\n",
       "      <th>2018-03-01 01:00:00</th>\n",
       "      <td>85</td>\n",
       "    </tr>\n",
       "    <tr>\n",
       "      <th>2018-03-01 02:00:00</th>\n",
       "      <td>71</td>\n",
       "    </tr>\n",
       "    <tr>\n",
       "      <th>2018-03-01 03:00:00</th>\n",
       "      <td>66</td>\n",
       "    </tr>\n",
       "    <tr>\n",
       "      <th>2018-03-01 04:00:00</th>\n",
       "      <td>43</td>\n",
       "    </tr>\n",
       "  </tbody>\n",
       "</table>\n",
       "</div>"
      ],
      "text/plain": [
       "                     num_orders\n",
       "datetime                       \n",
       "2018-03-01 00:00:00         124\n",
       "2018-03-01 01:00:00          85\n",
       "2018-03-01 02:00:00          71\n",
       "2018-03-01 03:00:00          66\n",
       "2018-03-01 04:00:00          43"
      ]
     },
     "metadata": {},
     "output_type": "display_data"
    }
   ],
   "source": [
    "display(data.head())"
   ]
  },
  {
   "cell_type": "markdown",
   "metadata": {},
   "source": [
    "Значение отставания (24 часа) возникло из-за суточной сезонности, а величина скользящего среднего, равная 24х7=168, обусловлена недельной сезонностью."
   ]
  },
  {
   "cell_type": "markdown",
   "metadata": {},
   "source": [
    "Из полученного датасета с извлеченными признаками создадим обучающую и тестовую выборки. Размерность тестовой выборки будет составлять 10% от всего набора. Перемешивать выборки в задаче прогнозирования временного ряда нельзя, поэтому параметр `shuffle` равен `False`."
   ]
  },
  {
   "cell_type": "code",
   "execution_count": 16,
   "metadata": {},
   "outputs": [],
   "source": [
    "train, test = train_test_split(data_mf, shuffle=False, test_size=0.1)"
   ]
  },
  {
   "cell_type": "markdown",
   "metadata": {},
   "source": [
    "Проверим, что порядок индексов не нарушился."
   ]
  },
  {
   "cell_type": "code",
   "execution_count": 17,
   "metadata": {},
   "outputs": [
    {
     "name": "stdout",
     "output_type": "stream",
     "text": [
      "Индексы обучающей выборки: 2018-03-01 00:00:00 2018-08-13 13:00:00\n",
      "Индексы тестовой выборки: 2018-08-13 14:00:00 2018-08-31 23:00:00\n"
     ]
    }
   ],
   "source": [
    "print('Индексы обучающей выборки:', train.index.min(), train.index.max())\n",
    "print('Индексы тестовой выборки:', test.index.min(), test.index.max())"
   ]
  },
  {
   "cell_type": "markdown",
   "metadata": {},
   "source": [
    "Удалим из обучающей выборки возникшие в результате извлечения признаков пустые значения:"
   ]
  },
  {
   "cell_type": "code",
   "execution_count": 18,
   "metadata": {},
   "outputs": [],
   "source": [
    "train = train.dropna()"
   ]
  },
  {
   "cell_type": "markdown",
   "metadata": {},
   "source": [
    "Разделим обе выборки на содержащие признаки и целевой признак и оценим их размерность."
   ]
  },
  {
   "cell_type": "code",
   "execution_count": 19,
   "metadata": {},
   "outputs": [],
   "source": [
    "train_features = train.drop('num_orders', axis=1)\n",
    "train_target = train['num_orders']\n",
    "test_features = test.drop('num_orders', axis=1)\n",
    "test_target = test['num_orders']"
   ]
  },
  {
   "cell_type": "code",
   "execution_count": 20,
   "metadata": {},
   "outputs": [
    {
     "name": "stdout",
     "output_type": "stream",
     "text": [
      "3806\n",
      "442\n"
     ]
    }
   ],
   "source": [
    "print(len(train_features))\n",
    "print(len(test_features))"
   ]
  },
  {
   "cell_type": "markdown",
   "metadata": {},
   "source": [
    "### LinearRegression"
   ]
  },
  {
   "cell_type": "markdown",
   "metadata": {},
   "source": [
    "Создадим модель линейной регрессии и обучим ее на обучающей выборке."
   ]
  },
  {
   "cell_type": "code",
   "execution_count": 21,
   "metadata": {
    "scrolled": true
   },
   "outputs": [],
   "source": [
    "model = LinearRegression()"
   ]
  },
  {
   "cell_type": "code",
   "execution_count": 22,
   "metadata": {},
   "outputs": [
    {
     "name": "stdout",
     "output_type": "stream",
     "text": [
      "CPU times: user 14.1 ms, sys: 2.12 ms, total: 16.2 ms\n",
      "Wall time: 6.9 ms\n"
     ]
    },
    {
     "data": {
      "text/plain": [
       "LinearRegression()"
      ]
     },
     "execution_count": 22,
     "metadata": {},
     "output_type": "execute_result"
    }
   ],
   "source": [
    "%%time\n",
    "model.fit(train_features, train_target)"
   ]
  },
  {
   "cell_type": "markdown",
   "metadata": {},
   "source": [
    "Предскажем значения временного ряда на обучающей же выборке и оценим метрику *RMSE*."
   ]
  },
  {
   "cell_type": "code",
   "execution_count": 23,
   "metadata": {},
   "outputs": [
    {
     "name": "stdout",
     "output_type": "stream",
     "text": [
      "CPU times: user 8.47 ms, sys: 17.1 ms, total: 25.5 ms\n",
      "Wall time: 16.4 ms\n"
     ]
    }
   ],
   "source": [
    "%%time\n",
    "pred_train = model.predict(train_features)\n",
    "pred_train_df = pd.Series(pred_train, index=train_features.index)"
   ]
  },
  {
   "cell_type": "code",
   "execution_count": 24,
   "metadata": {
    "scrolled": true
   },
   "outputs": [
    {
     "name": "stdout",
     "output_type": "stream",
     "text": [
      "RMSE модели на обучающей выборке: 25.91.\n"
     ]
    }
   ],
   "source": [
    "result = mean_squared_error(train_target, pred_train)**0.5\n",
    "print('RMSE модели на обучающей выборке: {:.2f}.'.format(result))"
   ]
  },
  {
   "cell_type": "markdown",
   "metadata": {},
   "source": [
    "Модель быстро обучает и предсказывает, значение метрики малое. Однако это не означает, что модель будет выдавать хорошие (точные) результаты на тестовой выборке. Исходных данных у нас не очень много, тестовая выборка тоже одна — зачастую этого недостаточно для проверки качества модели."
   ]
  },
  {
   "cell_type": "markdown",
   "metadata": {},
   "source": [
    "### RandomForestRegressor"
   ]
  },
  {
   "cell_type": "markdown",
   "metadata": {},
   "source": [
    "Применим к обучающей выборке кросс-валидацию. Но для временных рядов необходимо применить метод `TimeSeriesSplit`, чтобы сохранить хронологическую последовательность значений временного ряда в создаваемых в процессе кросс-валидации обучающих и тестовых фолдах."
   ]
  },
  {
   "cell_type": "code",
   "execution_count": 25,
   "metadata": {},
   "outputs": [],
   "source": [
    "tscv = TimeSeriesSplit()"
   ]
  },
  {
   "cell_type": "markdown",
   "metadata": {},
   "source": [
    "Создадим модель случайного леса и подберем для нее гиперпараметры с учетом параметра кросс-валидации."
   ]
  },
  {
   "cell_type": "code",
   "execution_count": 26,
   "metadata": {},
   "outputs": [],
   "source": [
    "rfr_model = RandomForestRegressor()"
   ]
  },
  {
   "cell_type": "code",
   "execution_count": 27,
   "metadata": {},
   "outputs": [],
   "source": [
    "n_estimators = [int(x) for x in np.linspace(start=10, stop=50, num=10)]\n",
    "max_features = ['sqrt']\n",
    "max_depth = [int(x) for x in np.linspace(start=4, stop=10, num=2)]\n",
    "parameters_set = {\n",
    "    'n_estimators': n_estimators,\n",
    "    'max_features': max_features,\n",
    "    'max_depth': max_depth}"
   ]
  },
  {
   "cell_type": "code",
   "execution_count": 28,
   "metadata": {},
   "outputs": [],
   "source": [
    "best_forest = RandomizedSearchCV(\n",
    "    rfr_model,\n",
    "    parameters_set,\n",
    "    n_iter = 10,\n",
    "    n_jobs = -1,\n",
    "    cv = tscv,\n",
    "    verbose = 1, \n",
    "    random_state=12345)"
   ]
  },
  {
   "cell_type": "code",
   "execution_count": 29,
   "metadata": {},
   "outputs": [
    {
     "name": "stdout",
     "output_type": "stream",
     "text": [
      "Fitting 5 folds for each of 10 candidates, totalling 50 fits\n",
      "CPU times: user 4.83 s, sys: 0 ns, total: 4.83 s\n",
      "Wall time: 4.86 s\n"
     ]
    },
    {
     "data": {
      "text/plain": [
       "{'n_estimators': 23, 'max_features': 'sqrt', 'max_depth': 10}"
      ]
     },
     "execution_count": 29,
     "metadata": {},
     "output_type": "execute_result"
    }
   ],
   "source": [
    "%%time\n",
    "best_forest.fit(train_features, train_target)\n",
    "best_forest.best_params_"
   ]
  },
  {
   "cell_type": "markdown",
   "metadata": {},
   "source": [
    "Предскажем значения на обучающей выборке и оценим метрику."
   ]
  },
  {
   "cell_type": "code",
   "execution_count": 30,
   "metadata": {},
   "outputs": [
    {
     "name": "stdout",
     "output_type": "stream",
     "text": [
      "CPU times: user 15.2 ms, sys: 0 ns, total: 15.2 ms\n",
      "Wall time: 13.7 ms\n"
     ]
    }
   ],
   "source": [
    "%%time\n",
    "rfr_pred_train = best_forest.predict(train_features)\n",
    "rfr_pred_train_df = pd.Series(rfr_pred_train, index=train_features.index)"
   ]
  },
  {
   "cell_type": "code",
   "execution_count": 31,
   "metadata": {},
   "outputs": [
    {
     "name": "stdout",
     "output_type": "stream",
     "text": [
      "RMSE модели на обучающей выборке: 16.12.\n"
     ]
    }
   ],
   "source": [
    "rfr_result = mean_squared_error(train_target, rfr_pred_train)**.5\n",
    "print('RMSE модели на обучающей выборке: {:.2f}.'.format(rfr_result))"
   ]
  },
  {
   "cell_type": "markdown",
   "metadata": {},
   "source": [
    "У модели случайного леса метрика *RMSE* на обучающей выборке с учетом кросс-валидации меньше, чем у линейной регрессии, а время обучения на три порядка больше, что довольно предсказуемо."
   ]
  },
  {
   "cell_type": "markdown",
   "metadata": {},
   "source": [
    "### CatBoostRegressor"
   ]
  },
  {
   "cell_type": "markdown",
   "metadata": {},
   "source": [
    "Построим модель градиентного бустинга и также подберем для нее некоторые гиперпараметры."
   ]
  },
  {
   "cell_type": "code",
   "execution_count": 32,
   "metadata": {},
   "outputs": [],
   "source": [
    "cbr_model = CatBoostRegressor(learning_rate = 0.2)"
   ]
  },
  {
   "cell_type": "code",
   "execution_count": 33,
   "metadata": {},
   "outputs": [],
   "source": [
    "n_estimators_cbr = [int(x) for x in np.linspace(start=10, stop=50, num=10)]\n",
    "max_depth_cbr = [int(x) for x in np.linspace(start=4, stop=10, num=2)]\n",
    "cbr_parameters_set = {\n",
    "    'n_estimators': n_estimators_cbr,\n",
    "    'max_depth': max_depth_cbr}"
   ]
  },
  {
   "cell_type": "code",
   "execution_count": 34,
   "metadata": {},
   "outputs": [],
   "source": [
    "best_cbr = RandomizedSearchCV(\n",
    "    cbr_model,\n",
    "    cbr_parameters_set,\n",
    "    n_iter = 10,\n",
    "    n_jobs = -1,\n",
    "    cv = tscv,\n",
    "    verbose = 1, \n",
    "    random_state=12345)"
   ]
  },
  {
   "cell_type": "code",
   "execution_count": 35,
   "metadata": {},
   "outputs": [
    {
     "name": "stdout",
     "output_type": "stream",
     "text": [
      "Fitting 5 folds for each of 10 candidates, totalling 50 fits\n",
      "CPU times: user 30.9 s, sys: 0 ns, total: 30.9 s\n",
      "Wall time: 1min 6s\n"
     ]
    },
    {
     "data": {
      "text/plain": [
       "RandomizedSearchCV(cv=TimeSeriesSplit(gap=0, max_train_size=None, n_splits=5, test_size=None),\n",
       "                   estimator=<catboost.core.CatBoostRegressor object at 0x7f35102c6ac0>,\n",
       "                   n_jobs=-1,\n",
       "                   param_distributions={'max_depth': [4, 10],\n",
       "                                        'n_estimators': [10, 14, 18, 23, 27, 32,\n",
       "                                                         36, 41, 45, 50]},\n",
       "                   random_state=12345, verbose=1)"
      ]
     },
     "execution_count": 35,
     "metadata": {},
     "output_type": "execute_result"
    }
   ],
   "source": [
    "%%time\n",
    "best_cbr.fit(train_features, train_target, verbose=False)"
   ]
  },
  {
   "cell_type": "code",
   "execution_count": 36,
   "metadata": {},
   "outputs": [
    {
     "name": "stdout",
     "output_type": "stream",
     "text": [
      "CPU times: user 4.51 ms, sys: 0 ns, total: 4.51 ms\n",
      "Wall time: 4.88 ms\n"
     ]
    }
   ],
   "source": [
    "%%time\n",
    "cbr_pred_train = best_cbr.predict(train_features)\n",
    "cbr_pred_train_df = pd.Series(cbr_pred_train, index=train_features.index)"
   ]
  },
  {
   "cell_type": "code",
   "execution_count": 37,
   "metadata": {},
   "outputs": [
    {
     "name": "stdout",
     "output_type": "stream",
     "text": [
      "RMSE модели на обучающей выборке: 22.97.\n"
     ]
    }
   ],
   "source": [
    "cbr_result = mean_squared_error(train_target, cbr_pred_train)**.5\n",
    "print('RMSE модели на обучающей выборке: {:.2f}.'.format(cbr_result))"
   ]
  },
  {
   "cell_type": "markdown",
   "metadata": {},
   "source": [
    "У модели бустинга метрика RMSE на обучающей выборке с учетом кросс-валидации — средняя по сравнению с двумя более простыми моделями, а время обучения выше - практически целая минута!"
   ]
  },
  {
   "cell_type": "markdown",
   "metadata": {},
   "source": [
    "## Тестирование"
   ]
  },
  {
   "cell_type": "markdown",
   "metadata": {},
   "source": [
    "Сделаем прогноз значений временного ряда и оценим метрику *RMSE* для трех моделей на тестовой выборке."
   ]
  },
  {
   "cell_type": "markdown",
   "metadata": {},
   "source": [
    "**Для модели линейной регрессии:**"
   ]
  },
  {
   "cell_type": "code",
   "execution_count": 38,
   "metadata": {},
   "outputs": [
    {
     "name": "stdout",
     "output_type": "stream",
     "text": [
      "RMSE модели на тестовой выборке: 45.23.\n"
     ]
    }
   ],
   "source": [
    "pred_test = model.predict(test_features)\n",
    "pred_test_df = pd.Series(pred_test, index=test_features.index)\n",
    "\n",
    "result_test = mean_squared_error(test_target, pred_test)**.5\n",
    "print('RMSE модели на тестовой выборке: {:.2f}.'.format(result_test))"
   ]
  },
  {
   "cell_type": "markdown",
   "metadata": {},
   "source": [
    "Построим график предсказаний на обучающей и тестовой выборках для последней недели временного ряда."
   ]
  },
  {
   "cell_type": "code",
   "execution_count": 39,
   "metadata": {},
   "outputs": [
    {
     "data": {
      "image/png": "[encoded data removed]",
      "text/plain": [
       "<Figure size 1152x288 with 1 Axes>"
      ]
     },
     "metadata": {
      "needs_background": "light"
     },
     "output_type": "display_data"
    }
   ],
   "source": [
    "pred_test_df['2018-08-25' : '2018-08-31'].plot(label='predictions', figsize=(16,4))\n",
    "pd.Series(test_target, index=test_features.index)['2018-08-25' : '2018-08-31'].plot(label='test')\n",
    "plt.xlabel('Date time')\n",
    "plt.ylabel('Orders')\n",
    "plt.title('Forecasts')\n",
    "plt.legend()\n",
    "plt.show()"
   ]
  },
  {
   "cell_type": "markdown",
   "metadata": {},
   "source": [
    "**Для модели случайного леса:**"
   ]
  },
  {
   "cell_type": "code",
   "execution_count": 40,
   "metadata": {},
   "outputs": [
    {
     "name": "stdout",
     "output_type": "stream",
     "text": [
      "RMSE модели на тестовой выборке: 45.23.\n"
     ]
    }
   ],
   "source": [
    "rfr_pred_test = best_forest.predict(test_features)\n",
    "rfr_pred_test_df = pd.Series(rfr_pred_test, index=test_features.index)\n",
    "\n",
    "rfr_result_test = mean_squared_error(test_target, rfr_pred_test)**.5\n",
    "print('RMSE модели на тестовой выборке: {:.2f}.'.format(rfr_result_test))"
   ]
  },
  {
   "cell_type": "code",
   "execution_count": 41,
   "metadata": {},
   "outputs": [
    {
     "data": {
      "image/png": "[encoded data removed]",
      "text/plain": [
       "<Figure size 1152x288 with 1 Axes>"
      ]
     },
     "metadata": {
      "needs_background": "light"
     },
     "output_type": "display_data"
    }
   ],
   "source": [
    "rfr_pred_test_df['2018-08-25' : '2018-08-31'].plot(label='predictions', figsize=(16,4))\n",
    "pd.Series(test_target, index=test_features.index)['2018-08-25' : '2018-08-31'].plot(label='test')\n",
    "plt.xlabel('Date time')\n",
    "plt.ylabel('Orders')\n",
    "plt.title('Forecasts')\n",
    "plt.legend()\n",
    "plt.show()"
   ]
  },
  {
   "cell_type": "markdown",
   "metadata": {},
   "source": [
    "**Для модели бустинга:**"
   ]
  },
  {
   "cell_type": "code",
   "execution_count": 42,
   "metadata": {},
   "outputs": [
    {
     "name": "stdout",
     "output_type": "stream",
     "text": [
      "RMSE модели на обучающей выборке: 44.80.\n"
     ]
    }
   ],
   "source": [
    "cbr_pred_test = best_cbr.predict(test_features)\n",
    "cbr_pred_test_df = pd.Series(cbr_pred_test, index=test_features.index)\n",
    "\n",
    "cbr_result_test = mean_squared_error(test_target, cbr_pred_test)**.5\n",
    "print('RMSE модели на обучающей выборке: {:.2f}.'.format(cbr_result_test))"
   ]
  },
  {
   "cell_type": "code",
   "execution_count": 43,
   "metadata": {},
   "outputs": [
    {
     "data": {
      "image/png": "[encoded data removed]",
      "text/plain": [
       "<Figure size 1152x288 with 1 Axes>"
      ]
     },
     "metadata": {
      "needs_background": "light"
     },
     "output_type": "display_data"
    }
   ],
   "source": [
    "cbr_pred_test_df['2018-08-25' : '2018-08-31'].plot(label='predictions', figsize=(16,4))\n",
    "pd.Series(test_target, index=test_features.index)['2018-08-25' : '2018-08-31'].plot(label='test')\n",
    "plt.xlabel('Date time')\n",
    "plt.ylabel('Orders')\n",
    "plt.title('Forecasts')\n",
    "plt.legend()\n",
    "plt.show()"
   ]
  },
  {
   "cell_type": "markdown",
   "metadata": {},
   "source": [
    "**Выводы**\n",
    "\n",
    "* Разработаны 3 модели машинного обучения для прогноза значений временного ряда:\n",
    "    * линейной регрессии;\n",
    "    * случайного леса;\n",
    "    * градиентного бустинга (библиотека *CatBoost*).\n",
    "* Модели сопоставимы по качеству, но простые модели обучают быстрее, чем модель бустинга.\n",
    "* Значения метрики *RMSE* на тестовой выборке у всех трех моделей < 46."
   ]
  }
 ],
 "metadata": {
  "ExecuteTimeLog": [
   {
    "duration": 434,
    "start_time": "2022-04-22T11:27:42.201Z"
   },
   {
    "duration": 38,
    "start_time": "2022-04-22T11:27:43.174Z"
   },
   {
    "duration": 14,
    "start_time": "2022-04-22T11:27:55.111Z"
   },
   {
    "duration": 9,
    "start_time": "2022-04-22T11:34:14.372Z"
   },
   {
    "duration": 20,
    "start_time": "2022-04-22T11:34:26.599Z"
   },
   {
    "duration": 31,
    "start_time": "2022-04-22T11:35:30.308Z"
   },
   {
    "duration": 9,
    "start_time": "2022-04-22T11:35:31.843Z"
   },
   {
    "duration": 1620,
    "start_time": "2022-04-22T11:35:34.532Z"
   },
   {
    "duration": 9,
    "start_time": "2022-04-22T11:36:08.564Z"
   },
   {
    "duration": 1041,
    "start_time": "2022-04-22T11:37:36.611Z"
   },
   {
    "duration": 15,
    "start_time": "2022-04-22T11:38:05.123Z"
   },
   {
    "duration": 14,
    "start_time": "2022-04-22T11:41:56.249Z"
   },
   {
    "duration": 47,
    "start_time": "2022-04-22T11:42:13.634Z"
   },
   {
    "duration": 38,
    "start_time": "2022-04-22T11:42:16.274Z"
   },
   {
    "duration": 584,
    "start_time": "2022-04-22T11:44:18.433Z"
   },
   {
    "duration": 92,
    "start_time": "2022-04-22T11:44:34.737Z"
   },
   {
    "duration": 8,
    "start_time": "2022-04-22T11:44:39.233Z"
   },
   {
    "duration": 7,
    "start_time": "2022-04-22T11:44:42.721Z"
   },
   {
    "duration": 13,
    "start_time": "2022-04-22T11:44:47.057Z"
   },
   {
    "duration": 225,
    "start_time": "2022-04-22T11:44:49.440Z"
   },
   {
    "duration": 679,
    "start_time": "2022-04-22T11:50:03.295Z"
   },
   {
    "duration": 1066,
    "start_time": "2022-04-22T11:53:29.838Z"
   },
   {
    "duration": 44,
    "start_time": "2022-04-22T11:53:34.813Z"
   },
   {
    "duration": 10,
    "start_time": "2022-04-22T11:53:37.517Z"
   },
   {
    "duration": 10,
    "start_time": "2022-04-22T11:53:44.574Z"
   },
   {
    "duration": 854,
    "start_time": "2022-04-22T11:54:36.158Z"
   },
   {
    "duration": 644,
    "start_time": "2022-04-22T11:54:41.037Z"
   },
   {
    "duration": 14,
    "start_time": "2022-04-22T11:55:00.797Z"
   },
   {
    "duration": 243,
    "start_time": "2022-04-22T11:55:09.277Z"
   },
   {
    "duration": 12,
    "start_time": "2022-04-22T11:56:42.172Z"
   },
   {
    "duration": 221,
    "start_time": "2022-04-22T11:56:51.421Z"
   },
   {
    "duration": 212,
    "start_time": "2022-04-22T11:56:55.548Z"
   },
   {
    "duration": 250,
    "start_time": "2022-04-22T11:56:59.933Z"
   },
   {
    "duration": 307,
    "start_time": "2022-04-22T11:57:11.613Z"
   },
   {
    "duration": 258,
    "start_time": "2022-04-22T11:57:14.749Z"
   },
   {
    "duration": 218,
    "start_time": "2022-04-22T11:57:35.677Z"
   },
   {
    "duration": 226,
    "start_time": "2022-04-22T11:57:38.908Z"
   },
   {
    "duration": 220,
    "start_time": "2022-04-22T11:57:42.254Z"
   },
   {
    "duration": 210,
    "start_time": "2022-04-22T11:57:46.924Z"
   },
   {
    "duration": 224,
    "start_time": "2022-04-22T11:57:58.332Z"
   },
   {
    "duration": 307,
    "start_time": "2022-04-22T11:58:41.053Z"
   },
   {
    "duration": 158,
    "start_time": "2022-04-22T11:59:21.100Z"
   },
   {
    "duration": 208,
    "start_time": "2022-04-22T11:59:26.060Z"
   },
   {
    "duration": 4,
    "start_time": "2022-04-22T11:59:56.619Z"
   },
   {
    "duration": 224,
    "start_time": "2022-04-22T12:00:03.595Z"
   },
   {
    "duration": 289,
    "start_time": "2022-04-22T12:01:35.691Z"
   },
   {
    "duration": 27,
    "start_time": "2022-04-22T12:02:49.804Z"
   },
   {
    "duration": 106,
    "start_time": "2022-04-22T12:03:24.043Z"
   },
   {
    "duration": 3,
    "start_time": "2022-04-22T12:03:27.837Z"
   },
   {
    "duration": 10,
    "start_time": "2022-04-22T12:03:35.114Z"
   },
   {
    "duration": 4,
    "start_time": "2022-04-22T12:04:01.467Z"
   },
   {
    "duration": 287,
    "start_time": "2022-04-22T12:04:02.955Z"
   },
   {
    "duration": 10,
    "start_time": "2022-04-22T12:04:05.466Z"
   },
   {
    "duration": 1157,
    "start_time": "2022-04-22T12:05:01.396Z"
   },
   {
    "duration": 44,
    "start_time": "2022-04-22T12:05:02.555Z"
   },
   {
    "duration": 11,
    "start_time": "2022-04-22T12:05:02.601Z"
   },
   {
    "duration": 11,
    "start_time": "2022-04-22T12:05:02.613Z"
   },
   {
    "duration": 908,
    "start_time": "2022-04-22T12:05:02.627Z"
   },
   {
    "duration": 14,
    "start_time": "2022-04-22T12:05:03.537Z"
   },
   {
    "duration": 332,
    "start_time": "2022-04-22T12:05:03.553Z"
   },
   {
    "duration": 4,
    "start_time": "2022-04-22T12:05:03.886Z"
   },
   {
    "duration": 300,
    "start_time": "2022-04-22T12:05:03.892Z"
   },
   {
    "duration": 107,
    "start_time": "2022-04-22T12:05:27.367Z"
   },
   {
    "duration": 4,
    "start_time": "2022-04-22T12:05:37.559Z"
   },
   {
    "duration": 308,
    "start_time": "2022-04-22T12:05:38.567Z"
   },
   {
    "duration": 11,
    "start_time": "2022-04-22T12:05:40.663Z"
   },
   {
    "duration": 6,
    "start_time": "2022-04-22T12:07:04.774Z"
   },
   {
    "duration": 288,
    "start_time": "2022-04-22T12:07:08.135Z"
   },
   {
    "duration": 10,
    "start_time": "2022-04-22T12:07:10.518Z"
   },
   {
    "duration": 21,
    "start_time": "2022-04-22T12:09:04.534Z"
   },
   {
    "duration": 14,
    "start_time": "2022-04-22T12:09:36.829Z"
   },
   {
    "duration": 204,
    "start_time": "2022-04-22T12:09:40.342Z"
   },
   {
    "duration": 13,
    "start_time": "2022-04-22T12:09:52.822Z"
   },
   {
    "duration": 10,
    "start_time": "2022-04-22T12:10:10.966Z"
   },
   {
    "duration": 12,
    "start_time": "2022-04-22T12:11:54.997Z"
   },
   {
    "duration": 10,
    "start_time": "2022-04-22T12:12:01.509Z"
   },
   {
    "duration": 4,
    "start_time": "2022-04-22T12:15:02.326Z"
   },
   {
    "duration": 5,
    "start_time": "2022-04-22T12:15:24.067Z"
   },
   {
    "duration": 5,
    "start_time": "2022-04-22T12:15:38.468Z"
   },
   {
    "duration": 16,
    "start_time": "2022-04-22T12:17:02.803Z"
   },
   {
    "duration": 14,
    "start_time": "2022-04-22T12:17:18.854Z"
   },
   {
    "duration": 9,
    "start_time": "2022-04-22T12:17:28.435Z"
   },
   {
    "duration": 4,
    "start_time": "2022-04-22T12:18:23.167Z"
   },
   {
    "duration": 9,
    "start_time": "2022-04-22T12:18:34.259Z"
   },
   {
    "duration": 1065,
    "start_time": "2022-04-22T12:18:50.643Z"
   },
   {
    "duration": 44,
    "start_time": "2022-04-22T12:18:51.710Z"
   },
   {
    "duration": 9,
    "start_time": "2022-04-22T12:18:51.756Z"
   },
   {
    "duration": 8,
    "start_time": "2022-04-22T12:18:51.767Z"
   },
   {
    "duration": 869,
    "start_time": "2022-04-22T12:18:51.778Z"
   },
   {
    "duration": 15,
    "start_time": "2022-04-22T12:18:55.685Z"
   },
   {
    "duration": 11,
    "start_time": "2022-04-22T12:18:57.798Z"
   },
   {
    "duration": 307,
    "start_time": "2022-04-22T12:19:14.423Z"
   },
   {
    "duration": 110,
    "start_time": "2022-04-22T12:19:16.615Z"
   },
   {
    "duration": 1123,
    "start_time": "2022-04-22T12:20:12.371Z"
   },
   {
    "duration": 44,
    "start_time": "2022-04-22T12:20:13.496Z"
   },
   {
    "duration": 10,
    "start_time": "2022-04-22T12:20:13.542Z"
   },
   {
    "duration": 10,
    "start_time": "2022-04-22T12:20:13.553Z"
   },
   {
    "duration": 934,
    "start_time": "2022-04-22T12:20:13.566Z"
   },
   {
    "duration": 20,
    "start_time": "2022-04-22T12:20:14.502Z"
   },
   {
    "duration": 10,
    "start_time": "2022-04-22T12:20:14.524Z"
   },
   {
    "duration": 334,
    "start_time": "2022-04-22T12:20:14.536Z"
   },
   {
    "duration": 113,
    "start_time": "2022-04-22T12:20:17.724Z"
   },
   {
    "duration": 1065,
    "start_time": "2022-04-22T12:21:49.234Z"
   },
   {
    "duration": 41,
    "start_time": "2022-04-22T12:21:50.300Z"
   },
   {
    "duration": 10,
    "start_time": "2022-04-22T12:21:51.506Z"
   },
   {
    "duration": 10,
    "start_time": "2022-04-22T12:21:52.993Z"
   },
   {
    "duration": 866,
    "start_time": "2022-04-22T12:21:54.241Z"
   },
   {
    "duration": 15,
    "start_time": "2022-04-22T12:21:57.073Z"
   },
   {
    "duration": 10,
    "start_time": "2022-04-22T12:21:58.465Z"
   },
   {
    "duration": 292,
    "start_time": "2022-04-22T12:22:08.017Z"
   },
   {
    "duration": 5,
    "start_time": "2022-04-22T12:22:14.161Z"
   },
   {
    "duration": 5,
    "start_time": "2022-04-22T12:22:57.393Z"
   },
   {
    "duration": 5,
    "start_time": "2022-04-22T12:23:01.632Z"
   },
   {
    "duration": 10,
    "start_time": "2022-04-22T12:23:05.248Z"
   },
   {
    "duration": 211,
    "start_time": "2022-04-22T12:23:39.393Z"
   },
   {
    "duration": 7,
    "start_time": "2022-04-22T12:23:49.136Z"
   },
   {
    "duration": 3,
    "start_time": "2022-04-22T12:24:06.192Z"
   },
   {
    "duration": 632,
    "start_time": "2022-04-22T12:24:28.784Z"
   },
   {
    "duration": 752,
    "start_time": "2022-04-22T12:24:58.176Z"
   },
   {
    "duration": 2051,
    "start_time": "2022-04-22T12:27:00.880Z"
   },
   {
    "duration": 6,
    "start_time": "2022-04-22T12:27:29.461Z"
   },
   {
    "duration": 357,
    "start_time": "2022-04-22T12:27:43.839Z"
   },
   {
    "duration": 1331,
    "start_time": "2022-04-22T12:28:07.089Z"
   },
   {
    "duration": 41,
    "start_time": "2022-04-22T12:28:08.422Z"
   },
   {
    "duration": 10,
    "start_time": "2022-04-22T12:28:08.465Z"
   },
   {
    "duration": 9,
    "start_time": "2022-04-22T12:28:08.477Z"
   },
   {
    "duration": 636,
    "start_time": "2022-04-22T12:28:08.488Z"
   },
   {
    "duration": 15,
    "start_time": "2022-04-22T12:28:09.126Z"
   },
   {
    "duration": 9,
    "start_time": "2022-04-22T12:28:09.142Z"
   },
   {
    "duration": 307,
    "start_time": "2022-04-22T12:28:09.153Z"
   },
   {
    "duration": 9,
    "start_time": "2022-04-22T12:28:13.586Z"
   },
   {
    "duration": 282,
    "start_time": "2022-04-22T12:28:39.554Z"
   },
   {
    "duration": 5,
    "start_time": "2022-04-22T12:28:49.122Z"
   },
   {
    "duration": 6,
    "start_time": "2022-04-22T12:28:54.337Z"
   },
   {
    "duration": 11,
    "start_time": "2022-04-22T12:28:55.266Z"
   },
   {
    "duration": 253,
    "start_time": "2022-04-22T12:29:01.665Z"
   },
   {
    "duration": 117,
    "start_time": "2022-04-22T12:29:23.937Z"
   },
   {
    "duration": 49,
    "start_time": "2022-04-22T12:30:10.582Z"
   },
   {
    "duration": 1440,
    "start_time": "2022-04-22T12:30:18.112Z"
   },
   {
    "duration": 42,
    "start_time": "2022-04-22T12:30:19.554Z"
   },
   {
    "duration": 11,
    "start_time": "2022-04-22T12:30:19.598Z"
   },
   {
    "duration": 10,
    "start_time": "2022-04-22T12:30:19.610Z"
   },
   {
    "duration": 679,
    "start_time": "2022-04-22T12:30:19.622Z"
   },
   {
    "duration": 15,
    "start_time": "2022-04-22T12:30:20.307Z"
   },
   {
    "duration": 10,
    "start_time": "2022-04-22T12:30:20.323Z"
   },
   {
    "duration": 305,
    "start_time": "2022-04-22T12:30:20.334Z"
   },
   {
    "duration": 6,
    "start_time": "2022-04-22T12:30:23.072Z"
   },
   {
    "duration": 7,
    "start_time": "2022-04-22T12:31:08.469Z"
   },
   {
    "duration": 307,
    "start_time": "2022-04-22T12:31:12.037Z"
   },
   {
    "duration": 1320,
    "start_time": "2022-04-22T12:31:19.604Z"
   },
   {
    "duration": 41,
    "start_time": "2022-04-22T12:31:20.926Z"
   },
   {
    "duration": 10,
    "start_time": "2022-04-22T12:31:20.968Z"
   },
   {
    "duration": 10,
    "start_time": "2022-04-22T12:31:20.979Z"
   },
   {
    "duration": 651,
    "start_time": "2022-04-22T12:31:20.991Z"
   },
   {
    "duration": 15,
    "start_time": "2022-04-22T12:31:21.644Z"
   },
   {
    "duration": 9,
    "start_time": "2022-04-22T12:31:21.661Z"
   },
   {
    "duration": 308,
    "start_time": "2022-04-22T12:31:21.672Z"
   },
   {
    "duration": 8,
    "start_time": "2022-04-22T12:31:21.982Z"
   },
   {
    "duration": 313,
    "start_time": "2022-04-22T12:31:21.991Z"
   },
   {
    "duration": 5,
    "start_time": "2022-04-22T12:31:26.437Z"
   },
   {
    "duration": 5,
    "start_time": "2022-04-22T12:31:27.605Z"
   },
   {
    "duration": 10,
    "start_time": "2022-04-22T12:31:28.164Z"
   },
   {
    "duration": 253,
    "start_time": "2022-04-22T12:31:31.237Z"
   },
   {
    "duration": 6,
    "start_time": "2022-04-22T12:31:42.949Z"
   },
   {
    "duration": 687,
    "start_time": "2022-04-22T12:31:48.133Z"
   },
   {
    "duration": 1265,
    "start_time": "2022-04-22T12:36:42.356Z"
   },
   {
    "duration": 44,
    "start_time": "2022-04-22T12:36:43.623Z"
   },
   {
    "duration": 10,
    "start_time": "2022-04-22T12:36:43.669Z"
   },
   {
    "duration": 10,
    "start_time": "2022-04-22T12:36:43.681Z"
   },
   {
    "duration": 626,
    "start_time": "2022-04-22T12:36:43.694Z"
   },
   {
    "duration": 15,
    "start_time": "2022-04-22T12:36:44.322Z"
   },
   {
    "duration": 11,
    "start_time": "2022-04-22T12:36:44.339Z"
   },
   {
    "duration": 297,
    "start_time": "2022-04-22T12:36:44.351Z"
   },
   {
    "duration": 9,
    "start_time": "2022-04-22T12:36:44.650Z"
   },
   {
    "duration": 299,
    "start_time": "2022-04-22T12:36:44.660Z"
   },
   {
    "duration": 98,
    "start_time": "2022-04-22T12:37:18.400Z"
   },
   {
    "duration": 117,
    "start_time": "2022-04-22T12:37:25.902Z"
   },
   {
    "duration": 8,
    "start_time": "2022-04-22T12:37:29.791Z"
   },
   {
    "duration": 7,
    "start_time": "2022-04-22T12:37:39.022Z"
   },
   {
    "duration": 4,
    "start_time": "2022-04-22T12:37:54.447Z"
   },
   {
    "duration": 6,
    "start_time": "2022-04-22T12:38:09.582Z"
   },
   {
    "duration": 5,
    "start_time": "2022-04-22T12:38:23.258Z"
   },
   {
    "duration": 1251,
    "start_time": "2022-04-22T12:38:34.662Z"
   },
   {
    "duration": 40,
    "start_time": "2022-04-22T12:38:35.915Z"
   },
   {
    "duration": 10,
    "start_time": "2022-04-22T12:38:35.956Z"
   },
   {
    "duration": 13,
    "start_time": "2022-04-22T12:38:35.967Z"
   },
   {
    "duration": 616,
    "start_time": "2022-04-22T12:38:35.982Z"
   },
   {
    "duration": 20,
    "start_time": "2022-04-22T12:38:36.600Z"
   },
   {
    "duration": 9,
    "start_time": "2022-04-22T12:38:36.622Z"
   },
   {
    "duration": 292,
    "start_time": "2022-04-22T12:38:36.632Z"
   },
   {
    "duration": 7,
    "start_time": "2022-04-22T12:38:36.926Z"
   },
   {
    "duration": 293,
    "start_time": "2022-04-22T12:38:36.934Z"
   },
   {
    "duration": 5,
    "start_time": "2022-04-22T12:38:39.422Z"
   },
   {
    "duration": 5,
    "start_time": "2022-04-22T12:39:15.167Z"
   },
   {
    "duration": 4,
    "start_time": "2022-04-22T12:39:28.190Z"
   },
   {
    "duration": 5,
    "start_time": "2022-04-22T12:39:35.646Z"
   },
   {
    "duration": 10,
    "start_time": "2022-04-22T12:39:36.174Z"
   },
   {
    "duration": 248,
    "start_time": "2022-04-22T12:39:50.190Z"
   },
   {
    "duration": 6,
    "start_time": "2022-04-22T12:39:53.231Z"
   },
   {
    "duration": 722,
    "start_time": "2022-04-22T12:39:56.814Z"
   },
   {
    "duration": 1482,
    "start_time": "2022-04-22T12:41:17.693Z"
   },
   {
    "duration": 49,
    "start_time": "2022-04-22T12:41:19.177Z"
   },
   {
    "duration": 11,
    "start_time": "2022-04-22T12:41:19.228Z"
   },
   {
    "duration": 10,
    "start_time": "2022-04-22T12:41:24.445Z"
   },
   {
    "duration": 605,
    "start_time": "2022-04-22T12:41:26.924Z"
   },
   {
    "duration": 14,
    "start_time": "2022-04-22T12:41:46.941Z"
   },
   {
    "duration": 11,
    "start_time": "2022-04-22T12:41:49.948Z"
   },
   {
    "duration": 293,
    "start_time": "2022-04-22T12:41:55.611Z"
   },
   {
    "duration": 7,
    "start_time": "2022-04-22T12:46:21.422Z"
   },
   {
    "duration": 321,
    "start_time": "2022-04-22T12:46:22.426Z"
   },
   {
    "duration": 4,
    "start_time": "2022-04-22T12:46:29.879Z"
   },
   {
    "duration": 223,
    "start_time": "2022-04-22T12:46:40.139Z"
   },
   {
    "duration": 6,
    "start_time": "2022-04-22T12:46:44.890Z"
   },
   {
    "duration": 756,
    "start_time": "2022-04-22T12:46:46.394Z"
   },
   {
    "duration": 103,
    "start_time": "2022-04-22T12:50:47.225Z"
   },
   {
    "duration": 110,
    "start_time": "2022-04-22T12:51:31.609Z"
   },
   {
    "duration": 10,
    "start_time": "2022-04-22T12:52:09.561Z"
   },
   {
    "duration": 9,
    "start_time": "2022-04-22T12:54:36.456Z"
   },
   {
    "duration": 24,
    "start_time": "2022-04-22T12:54:40.536Z"
   },
   {
    "duration": 22,
    "start_time": "2022-04-22T12:54:44.839Z"
   },
   {
    "duration": 1360,
    "start_time": "2022-04-22T12:54:59.979Z"
   },
   {
    "duration": 45,
    "start_time": "2022-04-22T12:55:01.341Z"
   },
   {
    "duration": 10,
    "start_time": "2022-04-22T12:55:01.388Z"
   },
   {
    "duration": 10,
    "start_time": "2022-04-22T12:55:01.400Z"
   },
   {
    "duration": 630,
    "start_time": "2022-04-22T12:55:01.412Z"
   },
   {
    "duration": 15,
    "start_time": "2022-04-22T12:55:02.043Z"
   },
   {
    "duration": 90,
    "start_time": "2022-04-22T12:55:02.059Z"
   },
   {
    "duration": 244,
    "start_time": "2022-04-22T12:55:02.150Z"
   },
   {
    "duration": 13,
    "start_time": "2022-04-22T12:55:02.396Z"
   },
   {
    "duration": 318,
    "start_time": "2022-04-22T12:55:02.410Z"
   },
   {
    "duration": 3,
    "start_time": "2022-04-22T12:55:02.730Z"
   },
   {
    "duration": 229,
    "start_time": "2022-04-22T12:55:02.735Z"
   },
   {
    "duration": 6,
    "start_time": "2022-04-22T12:55:02.966Z"
   },
   {
    "duration": 769,
    "start_time": "2022-04-22T12:55:02.974Z"
   },
   {
    "duration": 112,
    "start_time": "2022-04-22T12:55:08.776Z"
   },
   {
    "duration": 2012,
    "start_time": "2022-04-22T12:55:25.001Z"
   },
   {
    "duration": 27,
    "start_time": "2022-04-22T12:57:12.743Z"
   },
   {
    "duration": 12,
    "start_time": "2022-04-22T12:57:19.594Z"
   },
   {
    "duration": 3,
    "start_time": "2022-04-22T12:57:51.144Z"
   },
   {
    "duration": 12,
    "start_time": "2022-04-22T12:57:55.654Z"
   },
   {
    "duration": 11,
    "start_time": "2022-04-22T12:58:04.726Z"
   },
   {
    "duration": 4,
    "start_time": "2022-04-22T12:58:07.799Z"
   },
   {
    "duration": 1257,
    "start_time": "2022-04-22T14:03:26.659Z"
   },
   {
    "duration": 38,
    "start_time": "2022-04-22T14:03:27.918Z"
   },
   {
    "duration": 10,
    "start_time": "2022-04-22T14:03:27.957Z"
   },
   {
    "duration": 10,
    "start_time": "2022-04-22T14:03:27.968Z"
   },
   {
    "duration": 617,
    "start_time": "2022-04-22T14:03:27.980Z"
   },
   {
    "duration": 13,
    "start_time": "2022-04-22T14:03:28.607Z"
   },
   {
    "duration": 70,
    "start_time": "2022-04-22T14:03:28.622Z"
   },
   {
    "duration": 240,
    "start_time": "2022-04-22T14:03:28.706Z"
   },
   {
    "duration": 6,
    "start_time": "2022-04-22T14:03:28.948Z"
   },
   {
    "duration": 323,
    "start_time": "2022-04-22T14:03:28.956Z"
   },
   {
    "duration": 219,
    "start_time": "2022-04-22T14:03:29.281Z"
   },
   {
    "duration": 8,
    "start_time": "2022-04-22T14:03:29.502Z"
   },
   {
    "duration": 757,
    "start_time": "2022-04-22T14:03:29.512Z"
   },
   {
    "duration": 2236,
    "start_time": "2022-04-22T14:03:30.272Z"
   },
   {
    "duration": 8,
    "start_time": "2022-04-22T14:03:45.823Z"
   },
   {
    "duration": 4,
    "start_time": "2022-04-22T14:04:56.926Z"
   },
   {
    "duration": 5,
    "start_time": "2022-04-22T14:05:15.421Z"
   },
   {
    "duration": 4,
    "start_time": "2022-04-22T14:05:58.301Z"
   },
   {
    "duration": 1965,
    "start_time": "2022-04-22T14:06:15.951Z"
   },
   {
    "duration": 14,
    "start_time": "2022-04-22T14:06:33.038Z"
   },
   {
    "duration": 16,
    "start_time": "2022-04-22T14:06:48.910Z"
   },
   {
    "duration": 4,
    "start_time": "2022-04-22T14:07:41.629Z"
   },
   {
    "duration": 5,
    "start_time": "2022-04-22T14:08:00.157Z"
   },
   {
    "duration": 39,
    "start_time": "2022-04-22T14:14:21.388Z"
   },
   {
    "duration": 5,
    "start_time": "2022-04-22T14:14:25.947Z"
   },
   {
    "duration": 4,
    "start_time": "2022-04-22T14:14:26.123Z"
   },
   {
    "duration": 9,
    "start_time": "2022-04-22T14:14:30.859Z"
   },
   {
    "duration": 21,
    "start_time": "2022-04-22T14:14:55.724Z"
   },
   {
    "duration": 121,
    "start_time": "2022-04-22T14:14:59.643Z"
   },
   {
    "duration": 3,
    "start_time": "2022-04-22T14:15:32.348Z"
   },
   {
    "duration": 124,
    "start_time": "2022-04-22T14:15:37.228Z"
   },
   {
    "duration": 1481,
    "start_time": "2022-04-22T14:16:20.019Z"
   },
   {
    "duration": 45,
    "start_time": "2022-04-22T14:16:21.502Z"
   },
   {
    "duration": 12,
    "start_time": "2022-04-22T14:16:21.548Z"
   },
   {
    "duration": 10,
    "start_time": "2022-04-22T14:16:21.562Z"
   },
   {
    "duration": 699,
    "start_time": "2022-04-22T14:16:21.574Z"
   },
   {
    "duration": 16,
    "start_time": "2022-04-22T14:16:22.275Z"
   },
   {
    "duration": 91,
    "start_time": "2022-04-22T14:16:22.292Z"
   },
   {
    "duration": 262,
    "start_time": "2022-04-22T14:16:22.384Z"
   },
   {
    "duration": 7,
    "start_time": "2022-04-22T14:16:22.648Z"
   },
   {
    "duration": 339,
    "start_time": "2022-04-22T14:16:22.656Z"
   },
   {
    "duration": 293,
    "start_time": "2022-04-22T14:16:22.997Z"
   },
   {
    "duration": 7,
    "start_time": "2022-04-22T14:16:23.291Z"
   },
   {
    "duration": 816,
    "start_time": "2022-04-22T14:16:23.306Z"
   },
   {
    "duration": 1992,
    "start_time": "2022-04-22T14:16:24.125Z"
   },
   {
    "duration": 102,
    "start_time": "2022-04-22T14:16:26.209Z"
   },
   {
    "duration": 4,
    "start_time": "2022-04-22T14:16:26.312Z"
   },
   {
    "duration": 6,
    "start_time": "2022-04-22T14:16:26.318Z"
   },
   {
    "duration": 42,
    "start_time": "2022-04-22T14:16:26.326Z"
   },
   {
    "duration": 4,
    "start_time": "2022-04-22T14:16:26.370Z"
   },
   {
    "duration": 34,
    "start_time": "2022-04-22T14:16:26.376Z"
   },
   {
    "duration": 3,
    "start_time": "2022-04-22T14:16:31.658Z"
   },
   {
    "duration": 219,
    "start_time": "2022-04-22T14:16:46.202Z"
   },
   {
    "duration": 6,
    "start_time": "2022-04-22T14:17:17.803Z"
   },
   {
    "duration": 5,
    "start_time": "2022-04-22T14:17:23.306Z"
   },
   {
    "duration": 1423,
    "start_time": "2022-04-22T14:20:05.999Z"
   },
   {
    "duration": 43,
    "start_time": "2022-04-22T14:20:07.424Z"
   },
   {
    "duration": 10,
    "start_time": "2022-04-22T14:20:07.469Z"
   },
   {
    "duration": 12,
    "start_time": "2022-04-22T14:20:07.480Z"
   },
   {
    "duration": 646,
    "start_time": "2022-04-22T14:20:07.494Z"
   },
   {
    "duration": 14,
    "start_time": "2022-04-22T14:20:08.142Z"
   },
   {
    "duration": 94,
    "start_time": "2022-04-22T14:20:08.158Z"
   },
   {
    "duration": 256,
    "start_time": "2022-04-22T14:20:08.254Z"
   },
   {
    "duration": 6,
    "start_time": "2022-04-22T14:20:08.512Z"
   },
   {
    "duration": 332,
    "start_time": "2022-04-22T14:20:08.520Z"
   },
   {
    "duration": 246,
    "start_time": "2022-04-22T14:20:08.853Z"
   },
   {
    "duration": 8,
    "start_time": "2022-04-22T14:20:09.100Z"
   },
   {
    "duration": 796,
    "start_time": "2022-04-22T14:20:09.110Z"
   },
   {
    "duration": 1806,
    "start_time": "2022-04-22T14:20:09.908Z"
   },
   {
    "duration": 192,
    "start_time": "2022-04-22T14:20:11.716Z"
   },
   {
    "duration": 40,
    "start_time": "2022-04-22T14:20:11.909Z"
   },
   {
    "duration": 5,
    "start_time": "2022-04-22T14:20:11.951Z"
   },
   {
    "duration": 4,
    "start_time": "2022-04-22T14:20:11.957Z"
   },
   {
    "duration": 6,
    "start_time": "2022-04-22T14:20:11.963Z"
   },
   {
    "duration": 37,
    "start_time": "2022-04-22T14:20:11.970Z"
   },
   {
    "duration": 3,
    "start_time": "2022-04-22T14:20:18.251Z"
   },
   {
    "duration": 18,
    "start_time": "2022-04-22T14:20:18.939Z"
   },
   {
    "duration": 8,
    "start_time": "2022-04-22T14:21:12.027Z"
   },
   {
    "duration": 5,
    "start_time": "2022-04-22T14:23:32.058Z"
   },
   {
    "duration": 5,
    "start_time": "2022-04-22T14:24:10.219Z"
   },
   {
    "duration": 111,
    "start_time": "2022-04-22T14:25:19.626Z"
   },
   {
    "duration": 9,
    "start_time": "2022-04-22T14:25:29.721Z"
   },
   {
    "duration": 1418,
    "start_time": "2022-04-22T14:28:03.736Z"
   },
   {
    "duration": 43,
    "start_time": "2022-04-22T14:28:05.156Z"
   },
   {
    "duration": 12,
    "start_time": "2022-04-22T14:28:05.201Z"
   },
   {
    "duration": 9,
    "start_time": "2022-04-22T14:28:05.215Z"
   },
   {
    "duration": 665,
    "start_time": "2022-04-22T14:28:05.227Z"
   },
   {
    "duration": 19,
    "start_time": "2022-04-22T14:28:05.894Z"
   },
   {
    "duration": 78,
    "start_time": "2022-04-22T14:28:05.915Z"
   },
   {
    "duration": 243,
    "start_time": "2022-04-22T14:28:06.008Z"
   },
   {
    "duration": 7,
    "start_time": "2022-04-22T14:28:06.252Z"
   },
   {
    "duration": 335,
    "start_time": "2022-04-22T14:28:06.261Z"
   },
   {
    "duration": 242,
    "start_time": "2022-04-22T14:28:06.597Z"
   },
   {
    "duration": 7,
    "start_time": "2022-04-22T14:28:06.841Z"
   },
   {
    "duration": 767,
    "start_time": "2022-04-22T14:28:06.850Z"
   },
   {
    "duration": 2194,
    "start_time": "2022-04-22T14:28:07.619Z"
   },
   {
    "duration": 194,
    "start_time": "2022-04-22T14:28:09.815Z"
   },
   {
    "duration": 18,
    "start_time": "2022-04-22T14:28:11.637Z"
   },
   {
    "duration": 4,
    "start_time": "2022-04-22T14:28:16.037Z"
   },
   {
    "duration": 5,
    "start_time": "2022-04-22T14:28:17.413Z"
   },
   {
    "duration": 5,
    "start_time": "2022-04-22T14:28:19.734Z"
   },
   {
    "duration": 5,
    "start_time": "2022-04-22T14:28:20.869Z"
   },
   {
    "duration": 3,
    "start_time": "2022-04-22T14:28:21.989Z"
   },
   {
    "duration": 10,
    "start_time": "2022-04-22T14:28:23.246Z"
   },
   {
    "duration": 10,
    "start_time": "2022-04-22T14:28:24.068Z"
   },
   {
    "duration": 5,
    "start_time": "2022-04-22T14:28:25.877Z"
   },
   {
    "duration": 7,
    "start_time": "2022-04-22T14:28:29.669Z"
   },
   {
    "duration": 1420,
    "start_time": "2022-04-22T14:50:39.625Z"
   },
   {
    "duration": 41,
    "start_time": "2022-04-22T14:50:41.047Z"
   },
   {
    "duration": 9,
    "start_time": "2022-04-22T14:50:41.090Z"
   },
   {
    "duration": 14,
    "start_time": "2022-04-22T14:50:41.101Z"
   },
   {
    "duration": 617,
    "start_time": "2022-04-22T14:50:41.116Z"
   },
   {
    "duration": 14,
    "start_time": "2022-04-22T14:50:41.735Z"
   },
   {
    "duration": 85,
    "start_time": "2022-04-22T14:50:41.751Z"
   },
   {
    "duration": 236,
    "start_time": "2022-04-22T14:50:41.837Z"
   },
   {
    "duration": 8,
    "start_time": "2022-04-22T14:50:42.075Z"
   },
   {
    "duration": 311,
    "start_time": "2022-04-22T14:50:42.085Z"
   },
   {
    "duration": 230,
    "start_time": "2022-04-22T14:50:42.398Z"
   },
   {
    "duration": 7,
    "start_time": "2022-04-22T14:50:42.630Z"
   },
   {
    "duration": 769,
    "start_time": "2022-04-22T14:50:42.638Z"
   },
   {
    "duration": 2199,
    "start_time": "2022-04-22T14:50:43.408Z"
   },
   {
    "duration": 99,
    "start_time": "2022-04-22T14:50:45.610Z"
   },
   {
    "duration": 40,
    "start_time": "2022-04-22T14:50:50.107Z"
   },
   {
    "duration": 6,
    "start_time": "2022-04-22T14:50:57.610Z"
   },
   {
    "duration": 5,
    "start_time": "2022-04-22T14:51:00.042Z"
   },
   {
    "duration": 6,
    "start_time": "2022-04-22T14:51:01.418Z"
   },
   {
    "duration": 5,
    "start_time": "2022-04-22T14:51:01.834Z"
   },
   {
    "duration": 22,
    "start_time": "2022-04-22T14:52:10.234Z"
   },
   {
    "duration": 5,
    "start_time": "2022-04-22T14:52:25.099Z"
   },
   {
    "duration": 6,
    "start_time": "2022-04-22T14:52:27.033Z"
   },
   {
    "duration": 8,
    "start_time": "2022-04-22T15:16:47.074Z"
   },
   {
    "duration": 1368,
    "start_time": "2022-04-22T15:16:47.619Z"
   },
   {
    "duration": 1329,
    "start_time": "2022-04-22T15:16:57.498Z"
   },
   {
    "duration": 45,
    "start_time": "2022-04-22T15:16:58.829Z"
   },
   {
    "duration": 9,
    "start_time": "2022-04-22T15:16:58.876Z"
   },
   {
    "duration": 8,
    "start_time": "2022-04-22T15:16:58.886Z"
   },
   {
    "duration": 611,
    "start_time": "2022-04-22T15:16:58.896Z"
   },
   {
    "duration": 13,
    "start_time": "2022-04-22T15:16:59.509Z"
   },
   {
    "duration": 84,
    "start_time": "2022-04-22T15:16:59.524Z"
   },
   {
    "duration": 254,
    "start_time": "2022-04-22T15:16:59.610Z"
   },
   {
    "duration": 7,
    "start_time": "2022-04-22T15:16:59.866Z"
   },
   {
    "duration": 314,
    "start_time": "2022-04-22T15:16:59.874Z"
   },
   {
    "duration": 237,
    "start_time": "2022-04-22T15:17:14.084Z"
   },
   {
    "duration": 6,
    "start_time": "2022-04-22T15:17:25.492Z"
   },
   {
    "duration": 776,
    "start_time": "2022-04-22T15:17:27.095Z"
   },
   {
    "duration": 1867,
    "start_time": "2022-04-22T15:17:33.349Z"
   },
   {
    "duration": 9,
    "start_time": "2022-04-22T15:17:38.804Z"
   },
   {
    "duration": 38,
    "start_time": "2022-04-22T15:17:56.725Z"
   },
   {
    "duration": 4,
    "start_time": "2022-04-22T15:25:18.547Z"
   },
   {
    "duration": 1333,
    "start_time": "2022-04-22T15:37:43.710Z"
   },
   {
    "duration": 65,
    "start_time": "2022-04-22T15:37:46.413Z"
   },
   {
    "duration": 11,
    "start_time": "2022-04-22T15:37:48.700Z"
   },
   {
    "duration": 10,
    "start_time": "2022-04-22T15:37:49.228Z"
   },
   {
    "duration": 598,
    "start_time": "2022-04-22T15:37:50.589Z"
   },
   {
    "duration": 22,
    "start_time": "2022-04-22T15:37:51.189Z"
   },
   {
    "duration": 9,
    "start_time": "2022-04-22T15:37:52.253Z"
   },
   {
    "duration": 300,
    "start_time": "2022-04-22T15:37:54.956Z"
   },
   {
    "duration": 8,
    "start_time": "2022-04-22T15:37:57.501Z"
   },
   {
    "duration": 287,
    "start_time": "2022-04-22T15:37:57.676Z"
   },
   {
    "duration": 222,
    "start_time": "2022-04-22T15:37:59.244Z"
   },
   {
    "duration": 6,
    "start_time": "2022-04-22T15:38:00.605Z"
   },
   {
    "duration": 733,
    "start_time": "2022-04-22T15:38:01.149Z"
   },
   {
    "duration": 2019,
    "start_time": "2022-04-22T15:38:04.989Z"
   },
   {
    "duration": 9,
    "start_time": "2022-04-22T15:38:14.253Z"
   },
   {
    "duration": 41,
    "start_time": "2022-04-22T15:39:04.477Z"
   },
   {
    "duration": 3,
    "start_time": "2022-04-22T15:50:44.938Z"
   },
   {
    "duration": 3,
    "start_time": "2022-04-22T15:51:09.273Z"
   },
   {
    "duration": 112,
    "start_time": "2022-04-22T15:51:29.689Z"
   },
   {
    "duration": 27,
    "start_time": "2022-04-22T15:51:49.081Z"
   },
   {
    "duration": 2,
    "start_time": "2022-04-22T15:51:53.097Z"
   },
   {
    "duration": 15,
    "start_time": "2022-04-22T15:53:01.241Z"
   },
   {
    "duration": 4,
    "start_time": "2022-04-22T15:53:11.065Z"
   },
   {
    "duration": 4,
    "start_time": "2022-04-22T15:53:18.184Z"
   },
   {
    "duration": 9,
    "start_time": "2022-04-22T15:53:19.896Z"
   },
   {
    "duration": 3,
    "start_time": "2022-04-22T15:53:41.160Z"
   },
   {
    "duration": 2,
    "start_time": "2022-04-22T15:53:45.721Z"
   },
   {
    "duration": 7,
    "start_time": "2022-04-22T15:56:18.023Z"
   },
   {
    "duration": 5,
    "start_time": "2022-04-22T15:56:32.950Z"
   },
   {
    "duration": 6,
    "start_time": "2022-04-22T15:56:48.870Z"
   },
   {
    "duration": 5,
    "start_time": "2022-04-22T15:57:10.856Z"
   },
   {
    "duration": 12,
    "start_time": "2022-04-22T15:58:49.207Z"
   },
   {
    "duration": 5,
    "start_time": "2022-04-22T15:59:12.374Z"
   },
   {
    "duration": 5,
    "start_time": "2022-04-22T15:59:31.318Z"
   },
   {
    "duration": 5,
    "start_time": "2022-04-22T16:00:01.911Z"
   },
   {
    "duration": 5,
    "start_time": "2022-04-22T16:00:10.726Z"
   },
   {
    "duration": 5,
    "start_time": "2022-04-22T16:00:42.405Z"
   },
   {
    "duration": 8,
    "start_time": "2022-04-22T16:00:59.206Z"
   },
   {
    "duration": 4,
    "start_time": "2022-04-22T16:01:00.438Z"
   },
   {
    "duration": 7,
    "start_time": "2022-04-22T16:02:13.302Z"
   },
   {
    "duration": 3,
    "start_time": "2022-04-22T16:02:36.228Z"
   },
   {
    "duration": 3,
    "start_time": "2022-04-22T16:02:37.847Z"
   },
   {
    "duration": 4,
    "start_time": "2022-04-22T16:02:40.726Z"
   },
   {
    "duration": 3,
    "start_time": "2022-04-22T16:02:43.877Z"
   },
   {
    "duration": 17,
    "start_time": "2022-04-22T16:03:08.341Z"
   },
   {
    "duration": 13,
    "start_time": "2022-04-22T16:03:24.996Z"
   },
   {
    "duration": 1357,
    "start_time": "2022-04-22T16:03:34.808Z"
   },
   {
    "duration": 43,
    "start_time": "2022-04-22T16:03:36.167Z"
   },
   {
    "duration": 10,
    "start_time": "2022-04-22T16:03:36.212Z"
   },
   {
    "duration": 10,
    "start_time": "2022-04-22T16:03:36.223Z"
   },
   {
    "duration": 669,
    "start_time": "2022-04-22T16:03:36.235Z"
   },
   {
    "duration": 15,
    "start_time": "2022-04-22T16:03:36.905Z"
   },
   {
    "duration": 9,
    "start_time": "2022-04-22T16:03:36.921Z"
   },
   {
    "duration": 242,
    "start_time": "2022-04-22T16:03:36.931Z"
   },
   {
    "duration": 7,
    "start_time": "2022-04-22T16:03:37.174Z"
   },
   {
    "duration": 276,
    "start_time": "2022-04-22T16:03:37.183Z"
   },
   {
    "duration": 237,
    "start_time": "2022-04-22T16:03:37.462Z"
   },
   {
    "duration": 11,
    "start_time": "2022-04-22T16:03:37.701Z"
   },
   {
    "duration": 810,
    "start_time": "2022-04-22T16:03:37.713Z"
   },
   {
    "duration": 1984,
    "start_time": "2022-04-22T16:03:38.525Z"
   },
   {
    "duration": 100,
    "start_time": "2022-04-22T16:03:40.511Z"
   },
   {
    "duration": 44,
    "start_time": "2022-04-22T16:03:40.613Z"
   },
   {
    "duration": 150,
    "start_time": "2022-04-22T16:03:40.659Z"
   },
   {
    "duration": 0,
    "start_time": "2022-04-22T16:03:40.811Z"
   },
   {
    "duration": 0,
    "start_time": "2022-04-22T16:03:40.813Z"
   },
   {
    "duration": 0,
    "start_time": "2022-04-22T16:03:40.814Z"
   },
   {
    "duration": 0,
    "start_time": "2022-04-22T16:03:40.816Z"
   },
   {
    "duration": 0,
    "start_time": "2022-04-22T16:03:40.818Z"
   },
   {
    "duration": 0,
    "start_time": "2022-04-22T16:03:40.819Z"
   },
   {
    "duration": 0,
    "start_time": "2022-04-22T16:03:40.821Z"
   },
   {
    "duration": 4,
    "start_time": "2022-04-22T16:03:58.805Z"
   },
   {
    "duration": 6,
    "start_time": "2022-04-22T16:04:06.070Z"
   },
   {
    "duration": 4,
    "start_time": "2022-04-22T16:04:07.269Z"
   },
   {
    "duration": 6,
    "start_time": "2022-04-22T16:04:07.957Z"
   },
   {
    "duration": 5,
    "start_time": "2022-04-22T16:04:08.613Z"
   },
   {
    "duration": 14,
    "start_time": "2022-04-22T16:04:10.453Z"
   },
   {
    "duration": 5,
    "start_time": "2022-04-22T16:04:11.496Z"
   },
   {
    "duration": 4,
    "start_time": "2022-04-22T16:04:12.742Z"
   },
   {
    "duration": 8,
    "start_time": "2022-04-22T16:04:13.605Z"
   },
   {
    "duration": 8,
    "start_time": "2022-04-22T16:04:15.861Z"
   },
   {
    "duration": 2,
    "start_time": "2022-04-22T16:04:17.653Z"
   },
   {
    "duration": 3,
    "start_time": "2022-04-22T16:04:18.741Z"
   },
   {
    "duration": 4,
    "start_time": "2022-04-22T16:04:19.748Z"
   },
   {
    "duration": 3,
    "start_time": "2022-04-22T16:04:20.549Z"
   },
   {
    "duration": 17,
    "start_time": "2022-04-22T16:04:21.254Z"
   },
   {
    "duration": 9,
    "start_time": "2022-04-22T16:07:34.996Z"
   },
   {
    "duration": 8,
    "start_time": "2022-04-22T16:12:56.515Z"
   },
   {
    "duration": 9,
    "start_time": "2022-04-22T16:13:00.307Z"
   },
   {
    "duration": 3,
    "start_time": "2022-04-22T16:13:11.315Z"
   },
   {
    "duration": 3,
    "start_time": "2022-04-22T16:13:20.995Z"
   },
   {
    "duration": 2,
    "start_time": "2022-04-22T16:13:28.659Z"
   },
   {
    "duration": 3,
    "start_time": "2022-04-22T16:13:29.154Z"
   },
   {
    "duration": 4,
    "start_time": "2022-04-22T16:13:29.522Z"
   },
   {
    "duration": 3,
    "start_time": "2022-04-22T16:13:29.954Z"
   },
   {
    "duration": 5208,
    "start_time": "2022-04-22T16:13:31.442Z"
   },
   {
    "duration": 16,
    "start_time": "2022-04-22T16:15:24.722Z"
   },
   {
    "duration": 5,
    "start_time": "2022-04-22T16:15:52.082Z"
   },
   {
    "duration": 4,
    "start_time": "2022-04-22T16:15:57.793Z"
   },
   {
    "duration": 7,
    "start_time": "2022-04-22T16:17:58.322Z"
   },
   {
    "duration": 5,
    "start_time": "2022-04-22T16:18:25.441Z"
   },
   {
    "duration": 165,
    "start_time": "2022-04-22T16:26:18.351Z"
   },
   {
    "duration": 144,
    "start_time": "2022-04-22T16:26:51.887Z"
   },
   {
    "duration": 194,
    "start_time": "2022-04-22T16:27:30.046Z"
   },
   {
    "duration": 5,
    "start_time": "2022-04-22T16:28:16.687Z"
   },
   {
    "duration": 6,
    "start_time": "2022-04-22T16:28:21.998Z"
   },
   {
    "duration": 7,
    "start_time": "2022-04-22T16:29:10.845Z"
   },
   {
    "duration": 8,
    "start_time": "2022-04-22T16:30:00.910Z"
   },
   {
    "duration": 6,
    "start_time": "2022-04-22T16:30:01.517Z"
   },
   {
    "duration": 7,
    "start_time": "2022-04-22T16:30:17.166Z"
   },
   {
    "duration": 241,
    "start_time": "2022-04-22T16:30:20.606Z"
   },
   {
    "duration": 19,
    "start_time": "2022-04-22T16:31:07.950Z"
   },
   {
    "duration": 12,
    "start_time": "2022-04-22T16:31:24.045Z"
   },
   {
    "duration": 5,
    "start_time": "2022-04-22T16:31:24.493Z"
   },
   {
    "duration": 6,
    "start_time": "2022-04-22T16:32:02.892Z"
   },
   {
    "duration": 6,
    "start_time": "2022-04-22T16:32:03.565Z"
   },
   {
    "duration": 147,
    "start_time": "2022-04-22T16:32:11.885Z"
   },
   {
    "duration": 136,
    "start_time": "2022-04-22T16:32:45.484Z"
   },
   {
    "duration": 131,
    "start_time": "2022-04-22T16:32:54.653Z"
   },
   {
    "duration": 163,
    "start_time": "2022-04-22T16:32:59.356Z"
   },
   {
    "duration": 179,
    "start_time": "2022-04-22T16:33:22.588Z"
   },
   {
    "duration": 160,
    "start_time": "2022-04-22T16:33:37.276Z"
   },
   {
    "duration": 3,
    "start_time": "2022-04-22T16:33:45.276Z"
   },
   {
    "duration": 160,
    "start_time": "2022-04-22T16:33:45.692Z"
   },
   {
    "duration": 165,
    "start_time": "2022-04-22T16:33:58.396Z"
   },
   {
    "duration": 162,
    "start_time": "2022-04-22T16:34:15.771Z"
   },
   {
    "duration": 137,
    "start_time": "2022-04-22T16:34:21.356Z"
   },
   {
    "duration": 160,
    "start_time": "2022-04-22T16:34:29.069Z"
   },
   {
    "duration": 282,
    "start_time": "2022-04-22T16:34:54.331Z"
   },
   {
    "duration": 93,
    "start_time": "2022-04-22T16:35:03.916Z"
   },
   {
    "duration": 222,
    "start_time": "2022-04-22T16:35:06.892Z"
   },
   {
    "duration": 228,
    "start_time": "2022-04-22T16:35:25.436Z"
   },
   {
    "duration": 16,
    "start_time": "2022-04-22T16:36:01.996Z"
   },
   {
    "duration": 9,
    "start_time": "2022-04-22T16:36:18.315Z"
   },
   {
    "duration": 257,
    "start_time": "2022-04-22T16:36:28.956Z"
   },
   {
    "duration": 65,
    "start_time": "2022-04-22T16:44:04.546Z"
   },
   {
    "duration": 3,
    "start_time": "2022-04-22T16:44:55.641Z"
   },
   {
    "duration": 6,
    "start_time": "2022-04-22T16:49:52.742Z"
   },
   {
    "duration": 12,
    "start_time": "2022-04-22T16:50:39.366Z"
   },
   {
    "duration": 5,
    "start_time": "2022-04-22T16:50:44.261Z"
   },
   {
    "duration": 3,
    "start_time": "2022-04-22T16:50:44.838Z"
   },
   {
    "duration": 12,
    "start_time": "2022-04-22T16:50:50.167Z"
   },
   {
    "duration": 7082,
    "start_time": "2022-04-22T16:51:07.383Z"
   },
   {
    "duration": 118,
    "start_time": "2022-04-22T16:53:36.182Z"
   },
   {
    "duration": 4,
    "start_time": "2022-04-22T16:53:38.325Z"
   },
   {
    "duration": 112,
    "start_time": "2022-04-22T16:53:38.886Z"
   },
   {
    "duration": 4,
    "start_time": "2022-04-22T16:53:48.902Z"
   },
   {
    "duration": 3,
    "start_time": "2022-04-22T16:53:49.924Z"
   },
   {
    "duration": 5488,
    "start_time": "2022-04-22T16:53:51.236Z"
   },
   {
    "duration": 4,
    "start_time": "2022-04-22T16:54:10.037Z"
   },
   {
    "duration": 3,
    "start_time": "2022-04-22T16:54:10.469Z"
   },
   {
    "duration": 14,
    "start_time": "2022-04-22T16:54:10.917Z"
   },
   {
    "duration": 13,
    "start_time": "2022-04-22T16:54:13.589Z"
   },
   {
    "duration": 3,
    "start_time": "2022-04-22T16:54:35.909Z"
   },
   {
    "duration": 4,
    "start_time": "2022-04-22T16:54:36.564Z"
   },
   {
    "duration": 2,
    "start_time": "2022-04-22T16:54:37.221Z"
   },
   {
    "duration": 67541,
    "start_time": "2022-04-22T16:54:38.069Z"
   },
   {
    "duration": 12,
    "start_time": "2022-04-22T16:55:49.252Z"
   },
   {
    "duration": 13,
    "start_time": "2022-04-22T16:55:57.060Z"
   },
   {
    "duration": 11,
    "start_time": "2022-04-22T16:56:29.365Z"
   },
   {
    "duration": 5,
    "start_time": "2022-04-22T16:56:38.580Z"
   },
   {
    "duration": 6,
    "start_time": "2022-04-22T16:57:21.188Z"
   },
   {
    "duration": 5,
    "start_time": "2022-04-22T16:57:27.555Z"
   },
   {
    "duration": 4,
    "start_time": "2022-04-22T16:57:30.516Z"
   },
   {
    "duration": 5,
    "start_time": "2022-04-22T16:58:09.300Z"
   },
   {
    "duration": 4,
    "start_time": "2022-04-22T16:58:20.612Z"
   },
   {
    "duration": 242,
    "start_time": "2022-04-22T16:58:30.756Z"
   },
   {
    "duration": 1538,
    "start_time": "2022-04-22T17:28:56.793Z"
   },
   {
    "duration": 143,
    "start_time": "2022-04-22T17:29:08.007Z"
   },
   {
    "duration": 11,
    "start_time": "2022-04-22T17:30:00.423Z"
   },
   {
    "duration": 12,
    "start_time": "2022-04-22T17:33:09.832Z"
   },
   {
    "duration": 4,
    "start_time": "2022-04-22T17:33:16.200Z"
   },
   {
    "duration": 683,
    "start_time": "2022-04-22T17:33:32.294Z"
   },
   {
    "duration": 17,
    "start_time": "2022-04-22T17:34:18.933Z"
   },
   {
    "duration": 11,
    "start_time": "2022-04-22T17:34:22.293Z"
   },
   {
    "duration": 13,
    "start_time": "2022-04-22T17:34:51.493Z"
   },
   {
    "duration": 13,
    "start_time": "2022-04-22T17:34:56.198Z"
   },
   {
    "duration": 242,
    "start_time": "2022-04-22T17:35:13.957Z"
   },
   {
    "duration": 6,
    "start_time": "2022-04-22T17:36:07.653Z"
   },
   {
    "duration": 5,
    "start_time": "2022-04-22T17:36:49.236Z"
   },
   {
    "duration": 298,
    "start_time": "2022-04-22T17:36:50.100Z"
   },
   {
    "duration": 286,
    "start_time": "2022-04-22T17:36:55.189Z"
   },
   {
    "duration": 251,
    "start_time": "2022-04-22T17:37:10.692Z"
   },
   {
    "duration": 7,
    "start_time": "2022-04-22T17:39:40.676Z"
   },
   {
    "duration": 850,
    "start_time": "2022-04-22T17:39:59.508Z"
   },
   {
    "duration": 4221,
    "start_time": "2022-04-22T17:45:43.698Z"
   },
   {
    "duration": 1417,
    "start_time": "2022-04-22T17:45:52.802Z"
   },
   {
    "duration": 10,
    "start_time": "2022-04-22T17:46:15.223Z"
   },
   {
    "duration": 42,
    "start_time": "2022-04-22T17:46:39.025Z"
   },
   {
    "duration": 40,
    "start_time": "2022-04-22T17:49:22.098Z"
   },
   {
    "duration": 31,
    "start_time": "2022-04-22T17:49:33.457Z"
   },
   {
    "duration": 8,
    "start_time": "2022-04-22T17:53:06.143Z"
   },
   {
    "duration": 7,
    "start_time": "2022-04-22T17:53:09.279Z"
   },
   {
    "duration": 9,
    "start_time": "2022-04-22T17:53:40.544Z"
   },
   {
    "duration": 6,
    "start_time": "2022-04-22T17:54:05.791Z"
   },
   {
    "duration": 3,
    "start_time": "2022-04-22T17:54:14.767Z"
   },
   {
    "duration": 16,
    "start_time": "2022-04-22T17:54:34.672Z"
   },
   {
    "duration": 17,
    "start_time": "2022-04-22T17:55:09.086Z"
   },
   {
    "duration": 5,
    "start_time": "2022-04-22T17:55:26.079Z"
   },
   {
    "duration": 12,
    "start_time": "2022-04-22T17:56:32.030Z"
   },
   {
    "duration": 3,
    "start_time": "2022-04-22T18:00:24.796Z"
   },
   {
    "duration": 3,
    "start_time": "2022-04-22T18:00:54.172Z"
   },
   {
    "duration": 4,
    "start_time": "2022-04-22T18:00:59.645Z"
   },
   {
    "duration": 3,
    "start_time": "2022-04-22T18:01:05.261Z"
   },
   {
    "duration": 4883,
    "start_time": "2022-04-22T18:01:07.260Z"
   },
   {
    "duration": 22,
    "start_time": "2022-04-22T18:01:24.766Z"
   },
   {
    "duration": 4,
    "start_time": "2022-04-22T18:01:32.141Z"
   },
   {
    "duration": 4,
    "start_time": "2022-04-22T18:01:36.780Z"
   },
   {
    "duration": 3,
    "start_time": "2022-04-22T18:03:42.795Z"
   },
   {
    "duration": 4,
    "start_time": "2022-04-22T18:04:06.843Z"
   },
   {
    "duration": 4,
    "start_time": "2022-04-22T18:04:12.235Z"
   },
   {
    "duration": 65434,
    "start_time": "2022-04-22T18:05:10.891Z"
   },
   {
    "duration": 5,
    "start_time": "2022-04-22T18:06:33.515Z"
   },
   {
    "duration": 4,
    "start_time": "2022-04-22T18:06:37.259Z"
   },
   {
    "duration": 7,
    "start_time": "2022-04-22T18:08:29.355Z"
   },
   {
    "duration": 241,
    "start_time": "2022-04-22T18:08:55.322Z"
   },
   {
    "duration": 264,
    "start_time": "2022-04-22T18:09:00.170Z"
   },
   {
    "duration": 349,
    "start_time": "2022-04-22T18:10:19.050Z"
   },
   {
    "duration": 402,
    "start_time": "2022-04-22T18:12:48.649Z"
   },
   {
    "duration": 372,
    "start_time": "2022-04-22T18:12:58.569Z"
   },
   {
    "duration": 397,
    "start_time": "2022-04-22T18:13:28.249Z"
   },
   {
    "duration": 232,
    "start_time": "2022-04-22T18:13:57.032Z"
   },
   {
    "duration": 165,
    "start_time": "2022-04-22T18:14:33.496Z"
   },
   {
    "duration": 166,
    "start_time": "2022-04-22T18:14:39.944Z"
   },
   {
    "duration": 168,
    "start_time": "2022-04-22T18:14:58.872Z"
   },
   {
    "duration": 205,
    "start_time": "2022-04-22T18:15:52.376Z"
   },
   {
    "duration": 245,
    "start_time": "2022-04-22T18:16:02.120Z"
   },
   {
    "duration": 221,
    "start_time": "2022-04-22T18:17:02.504Z"
   },
   {
    "duration": 208,
    "start_time": "2022-04-22T18:17:11.576Z"
   },
   {
    "duration": 11,
    "start_time": "2022-04-22T18:17:52.295Z"
   },
   {
    "duration": 213,
    "start_time": "2022-04-22T18:18:15.367Z"
   },
   {
    "duration": 7,
    "start_time": "2022-04-22T18:18:52.662Z"
   },
   {
    "duration": 214,
    "start_time": "2022-04-22T18:19:06.886Z"
   },
   {
    "duration": 1370,
    "start_time": "2022-04-22T18:23:25.450Z"
   },
   {
    "duration": 82,
    "start_time": "2022-04-22T18:23:26.822Z"
   },
   {
    "duration": 12,
    "start_time": "2022-04-22T18:23:26.906Z"
   },
   {
    "duration": 3,
    "start_time": "2022-04-22T18:23:26.920Z"
   },
   {
    "duration": 719,
    "start_time": "2022-04-22T18:23:26.925Z"
   },
   {
    "duration": 14,
    "start_time": "2022-04-22T18:23:27.646Z"
   },
   {
    "duration": 241,
    "start_time": "2022-04-22T18:23:27.662Z"
   },
   {
    "duration": 285,
    "start_time": "2022-04-22T18:23:27.907Z"
   },
   {
    "duration": 231,
    "start_time": "2022-04-22T18:23:28.194Z"
   },
   {
    "duration": 6,
    "start_time": "2022-04-22T18:23:28.427Z"
   },
   {
    "duration": 850,
    "start_time": "2022-04-22T18:23:28.435Z"
   },
   {
    "duration": 2021,
    "start_time": "2022-04-22T18:23:29.287Z"
   },
   {
    "duration": 99,
    "start_time": "2022-04-22T18:23:31.310Z"
   },
   {
    "duration": 40,
    "start_time": "2022-04-22T18:23:31.412Z"
   },
   {
    "duration": 5,
    "start_time": "2022-04-22T18:23:31.453Z"
   },
   {
    "duration": 9,
    "start_time": "2022-04-22T18:23:31.460Z"
   },
   {
    "duration": 8,
    "start_time": "2022-04-22T18:23:31.470Z"
   },
   {
    "duration": 5,
    "start_time": "2022-04-22T18:23:31.507Z"
   },
   {
    "duration": 5,
    "start_time": "2022-04-22T18:23:31.513Z"
   },
   {
    "duration": 4,
    "start_time": "2022-04-22T18:23:31.520Z"
   },
   {
    "duration": 85,
    "start_time": "2022-04-22T18:23:31.525Z"
   },
   {
    "duration": 99,
    "start_time": "2022-04-22T18:23:31.612Z"
   },
   {
    "duration": 99,
    "start_time": "2022-04-22T18:23:31.714Z"
   },
   {
    "duration": 94,
    "start_time": "2022-04-22T18:23:31.817Z"
   },
   {
    "duration": 7,
    "start_time": "2022-04-22T18:23:31.912Z"
   },
   {
    "duration": 5,
    "start_time": "2022-04-22T18:23:31.920Z"
   },
   {
    "duration": 5,
    "start_time": "2022-04-22T18:23:31.926Z"
   },
   {
    "duration": 4638,
    "start_time": "2022-04-22T18:23:31.932Z"
   },
   {
    "duration": 24,
    "start_time": "2022-04-22T18:23:36.572Z"
   },
   {
    "duration": 5,
    "start_time": "2022-04-22T18:23:36.607Z"
   },
   {
    "duration": 6,
    "start_time": "2022-04-22T18:23:36.613Z"
   },
   {
    "duration": 9,
    "start_time": "2022-04-22T18:23:36.620Z"
   },
   {
    "duration": 7,
    "start_time": "2022-04-22T18:23:36.630Z"
   },
   {
    "duration": 68916,
    "start_time": "2022-04-22T18:23:36.638Z"
   },
   {
    "duration": 5,
    "start_time": "2022-04-22T18:24:45.556Z"
   },
   {
    "duration": 5,
    "start_time": "2022-04-22T18:24:45.563Z"
   },
   {
    "duration": 11,
    "start_time": "2022-04-22T18:24:45.570Z"
   },
   {
    "duration": 300,
    "start_time": "2022-04-22T18:24:45.614Z"
   },
   {
    "duration": 12,
    "start_time": "2022-04-22T18:24:45.916Z"
   },
   {
    "duration": 214,
    "start_time": "2022-04-22T18:24:45.930Z"
   },
   {
    "duration": 6,
    "start_time": "2022-04-22T18:24:46.147Z"
   },
   {
    "duration": 214,
    "start_time": "2022-04-22T18:24:46.155Z"
   },
   {
    "duration": 1680,
    "start_time": "2022-04-23T16:01:10.182Z"
   },
   {
    "duration": 178,
    "start_time": "2022-04-23T16:01:11.864Z"
   },
   {
    "duration": 11,
    "start_time": "2022-04-23T16:01:12.043Z"
   },
   {
    "duration": 3,
    "start_time": "2022-04-23T16:01:12.057Z"
   },
   {
    "duration": 778,
    "start_time": "2022-04-23T16:01:12.062Z"
   },
   {
    "duration": 13,
    "start_time": "2022-04-23T16:01:12.842Z"
   },
   {
    "duration": 283,
    "start_time": "2022-04-23T16:01:12.857Z"
   },
   {
    "duration": 346,
    "start_time": "2022-04-23T16:01:13.142Z"
   },
   {
    "duration": 268,
    "start_time": "2022-04-23T16:01:13.489Z"
   },
   {
    "duration": 254,
    "start_time": "2022-04-23T16:01:36.378Z"
   },
   {
    "duration": 102,
    "start_time": "2022-04-23T16:01:43.737Z"
   },
   {
    "duration": 326,
    "start_time": "2022-04-23T16:02:21.546Z"
   },
   {
    "duration": 6,
    "start_time": "2022-04-23T16:02:25.737Z"
   },
   {
    "duration": 108,
    "start_time": "2022-04-23T16:02:30.188Z"
   },
   {
    "duration": 760,
    "start_time": "2022-04-23T16:02:38.874Z"
   },
   {
    "duration": 666,
    "start_time": "2022-04-23T16:02:46.953Z"
   },
   {
    "duration": 820,
    "start_time": "2022-04-23T16:03:06.618Z"
   },
   {
    "duration": 2301,
    "start_time": "2022-04-23T16:07:20.746Z"
   },
   {
    "duration": 84,
    "start_time": "2022-04-23T16:07:23.049Z"
   },
   {
    "duration": 13,
    "start_time": "2022-04-23T16:07:23.135Z"
   },
   {
    "duration": 3,
    "start_time": "2022-04-23T16:07:23.151Z"
   },
   {
    "duration": 762,
    "start_time": "2022-04-23T16:07:23.156Z"
   },
   {
    "duration": 17,
    "start_time": "2022-04-23T16:07:23.920Z"
   },
   {
    "duration": 262,
    "start_time": "2022-04-23T16:07:23.938Z"
   },
   {
    "duration": 338,
    "start_time": "2022-04-23T16:07:24.202Z"
   },
   {
    "duration": 245,
    "start_time": "2022-04-23T16:07:24.541Z"
   },
   {
    "duration": 22,
    "start_time": "2022-04-23T16:07:24.789Z"
   },
   {
    "duration": 781,
    "start_time": "2022-04-23T16:07:24.813Z"
   },
   {
    "duration": 5538,
    "start_time": "2022-04-23T16:07:25.596Z"
   },
   {
    "duration": 91,
    "start_time": "2022-04-23T16:07:31.218Z"
   },
   {
    "duration": 58,
    "start_time": "2022-04-23T16:07:31.311Z"
   },
   {
    "duration": 5,
    "start_time": "2022-04-23T16:07:31.370Z"
   },
   {
    "duration": 34,
    "start_time": "2022-04-23T16:07:31.377Z"
   },
   {
    "duration": 7,
    "start_time": "2022-04-23T16:07:31.418Z"
   },
   {
    "duration": 14,
    "start_time": "2022-04-23T16:07:31.426Z"
   },
   {
    "duration": 13,
    "start_time": "2022-04-23T16:07:31.441Z"
   },
   {
    "duration": 10,
    "start_time": "2022-04-23T16:07:31.456Z"
   },
   {
    "duration": 60,
    "start_time": "2022-04-23T16:07:31.468Z"
   },
   {
    "duration": 93,
    "start_time": "2022-04-23T16:07:31.531Z"
   },
   {
    "duration": 80,
    "start_time": "2022-04-23T16:07:31.627Z"
   },
   {
    "duration": 4,
    "start_time": "2022-04-23T16:07:31.710Z"
   },
   {
    "duration": 5,
    "start_time": "2022-04-23T16:07:31.717Z"
   },
   {
    "duration": 89,
    "start_time": "2022-04-23T16:07:31.725Z"
   },
   {
    "duration": 4,
    "start_time": "2022-04-23T16:07:31.817Z"
   },
   {
    "duration": 4655,
    "start_time": "2022-04-23T16:07:31.827Z"
   },
   {
    "duration": 32,
    "start_time": "2022-04-23T16:07:36.484Z"
   },
   {
    "duration": 5,
    "start_time": "2022-04-23T16:07:36.519Z"
   },
   {
    "duration": 5,
    "start_time": "2022-04-23T16:07:36.525Z"
   },
   {
    "duration": 6,
    "start_time": "2022-04-23T16:07:36.531Z"
   },
   {
    "duration": 12,
    "start_time": "2022-04-23T16:07:36.539Z"
   },
   {
    "duration": 62120,
    "start_time": "2022-04-23T16:07:36.553Z"
   },
   {
    "duration": 5,
    "start_time": "2022-04-23T16:08:38.674Z"
   },
   {
    "duration": 4,
    "start_time": "2022-04-23T16:08:38.681Z"
   },
   {
    "duration": 17,
    "start_time": "2022-04-23T16:08:38.687Z"
   },
   {
    "duration": 372,
    "start_time": "2022-04-23T16:08:38.712Z"
   },
   {
    "duration": 12,
    "start_time": "2022-04-23T16:08:39.085Z"
   },
   {
    "duration": 226,
    "start_time": "2022-04-23T16:08:39.109Z"
   },
   {
    "duration": 8,
    "start_time": "2022-04-23T16:08:39.336Z"
   },
   {
    "duration": 224,
    "start_time": "2022-04-23T16:08:39.345Z"
   },
   {
    "duration": 31,
    "start_time": "2022-04-23T16:14:43.280Z"
   },
   {
    "duration": 1470,
    "start_time": "2022-04-23T16:14:58.340Z"
   },
   {
    "duration": 79,
    "start_time": "2022-04-23T16:14:59.812Z"
   },
   {
    "duration": 11,
    "start_time": "2022-04-23T16:14:59.893Z"
   },
   {
    "duration": 4,
    "start_time": "2022-04-23T16:14:59.906Z"
   },
   {
    "duration": 754,
    "start_time": "2022-04-23T16:14:59.912Z"
   },
   {
    "duration": 15,
    "start_time": "2022-04-23T16:15:00.667Z"
   },
   {
    "duration": 258,
    "start_time": "2022-04-23T16:15:00.684Z"
   },
   {
    "duration": 325,
    "start_time": "2022-04-23T16:15:00.943Z"
   },
   {
    "duration": 268,
    "start_time": "2022-04-23T16:15:01.269Z"
   },
   {
    "duration": 7,
    "start_time": "2022-04-23T16:15:01.539Z"
   },
   {
    "duration": 778,
    "start_time": "2022-04-23T16:15:01.547Z"
   },
   {
    "duration": 6089,
    "start_time": "2022-04-23T16:15:02.327Z"
   },
   {
    "duration": 88,
    "start_time": "2022-04-23T16:15:08.431Z"
   },
   {
    "duration": 43,
    "start_time": "2022-04-23T16:15:24.637Z"
   },
   {
    "duration": 23,
    "start_time": "2022-04-23T16:15:39.279Z"
   },
   {
    "duration": 1709,
    "start_time": "2022-04-23T16:21:31.906Z"
   },
   {
    "duration": 133,
    "start_time": "2022-04-23T16:21:33.618Z"
   },
   {
    "duration": 12,
    "start_time": "2022-04-23T16:21:33.752Z"
   },
   {
    "duration": 4,
    "start_time": "2022-04-23T16:21:33.766Z"
   },
   {
    "duration": 811,
    "start_time": "2022-04-23T16:21:33.772Z"
   },
   {
    "duration": 16,
    "start_time": "2022-04-23T16:21:34.585Z"
   },
   {
    "duration": 277,
    "start_time": "2022-04-23T16:21:34.603Z"
   },
   {
    "duration": 378,
    "start_time": "2022-04-23T16:21:34.882Z"
   },
   {
    "duration": 286,
    "start_time": "2022-04-23T16:21:35.261Z"
   },
   {
    "duration": 8,
    "start_time": "2022-04-23T16:21:35.551Z"
   },
   {
    "duration": 871,
    "start_time": "2022-04-23T16:21:35.560Z"
   },
   {
    "duration": 3286,
    "start_time": "2022-04-23T16:21:36.432Z"
   },
   {
    "duration": 102,
    "start_time": "2022-04-23T16:21:39.725Z"
   },
   {
    "duration": 164,
    "start_time": "2022-04-23T16:21:43.692Z"
   },
   {
    "duration": 41,
    "start_time": "2022-04-23T16:21:55.436Z"
   },
   {
    "duration": 7,
    "start_time": "2022-04-23T16:21:58.891Z"
   },
   {
    "duration": 4,
    "start_time": "2022-04-23T16:23:37.661Z"
   },
   {
    "duration": 5,
    "start_time": "2022-04-23T16:23:39.227Z"
   },
   {
    "duration": 6,
    "start_time": "2022-04-23T16:24:01.756Z"
   },
   {
    "duration": 5,
    "start_time": "2022-04-23T16:24:03.388Z"
   },
   {
    "duration": 6,
    "start_time": "2022-04-23T16:24:05.148Z"
   },
   {
    "duration": 6,
    "start_time": "2022-04-23T16:24:07.131Z"
   },
   {
    "duration": 3,
    "start_time": "2022-04-23T16:24:07.628Z"
   },
   {
    "duration": 3,
    "start_time": "2022-04-23T16:24:10.475Z"
   },
   {
    "duration": 21,
    "start_time": "2022-04-23T16:24:10.717Z"
   },
   {
    "duration": 8,
    "start_time": "2022-04-23T16:24:11.771Z"
   },
   {
    "duration": 5,
    "start_time": "2022-04-23T16:24:13.004Z"
   },
   {
    "duration": 3,
    "start_time": "2022-04-23T16:24:14.556Z"
   },
   {
    "duration": 3,
    "start_time": "2022-04-23T16:24:14.876Z"
   },
   {
    "duration": 6,
    "start_time": "2022-04-23T16:24:15.021Z"
   },
   {
    "duration": 1547,
    "start_time": "2022-04-23T16:24:30.611Z"
   },
   {
    "duration": 106,
    "start_time": "2022-04-23T16:24:32.160Z"
   },
   {
    "duration": 12,
    "start_time": "2022-04-23T16:24:32.268Z"
   },
   {
    "duration": 5,
    "start_time": "2022-04-23T16:24:32.282Z"
   },
   {
    "duration": 759,
    "start_time": "2022-04-23T16:24:32.288Z"
   },
   {
    "duration": 13,
    "start_time": "2022-04-23T16:24:33.049Z"
   },
   {
    "duration": 261,
    "start_time": "2022-04-23T16:24:33.063Z"
   },
   {
    "duration": 362,
    "start_time": "2022-04-23T16:24:33.326Z"
   },
   {
    "duration": 266,
    "start_time": "2022-04-23T16:24:33.689Z"
   },
   {
    "duration": 6,
    "start_time": "2022-04-23T16:24:33.958Z"
   },
   {
    "duration": 783,
    "start_time": "2022-04-23T16:24:33.965Z"
   },
   {
    "duration": 6173,
    "start_time": "2022-04-23T16:24:34.750Z"
   },
   {
    "duration": 95,
    "start_time": "2022-04-23T16:24:40.926Z"
   },
   {
    "duration": 40,
    "start_time": "2022-04-23T16:24:41.026Z"
   },
   {
    "duration": 7,
    "start_time": "2022-04-23T16:24:41.067Z"
   },
   {
    "duration": 33,
    "start_time": "2022-04-23T16:24:41.075Z"
   },
   {
    "duration": 10,
    "start_time": "2022-04-23T16:24:41.111Z"
   },
   {
    "duration": 7,
    "start_time": "2022-04-23T16:24:41.123Z"
   },
   {
    "duration": 5,
    "start_time": "2022-04-23T16:24:41.131Z"
   },
   {
    "duration": 5,
    "start_time": "2022-04-23T16:24:41.138Z"
   },
   {
    "duration": 5,
    "start_time": "2022-04-23T16:24:41.144Z"
   },
   {
    "duration": 78,
    "start_time": "2022-04-23T16:24:41.150Z"
   },
   {
    "duration": 182,
    "start_time": "2022-04-23T16:24:41.230Z"
   },
   {
    "duration": 8,
    "start_time": "2022-04-23T16:24:41.422Z"
   },
   {
    "duration": 77,
    "start_time": "2022-04-23T16:24:41.432Z"
   },
   {
    "duration": 9,
    "start_time": "2022-04-23T16:24:41.512Z"
   },
   {
    "duration": 12,
    "start_time": "2022-04-23T16:24:41.525Z"
   },
   {
    "duration": 3,
    "start_time": "2022-04-23T16:24:41.543Z"
   },
   {
    "duration": 4871,
    "start_time": "2022-04-23T16:24:41.548Z"
   },
   {
    "duration": 18,
    "start_time": "2022-04-23T16:24:46.423Z"
   },
   {
    "duration": 5,
    "start_time": "2022-04-23T16:24:46.443Z"
   },
   {
    "duration": 4,
    "start_time": "2022-04-23T16:24:46.450Z"
   },
   {
    "duration": 4,
    "start_time": "2022-04-23T16:24:46.456Z"
   },
   {
    "duration": 6,
    "start_time": "2022-04-23T16:24:46.461Z"
   },
   {
    "duration": 66138,
    "start_time": "2022-04-23T16:24:46.469Z"
   },
   {
    "duration": 12,
    "start_time": "2022-04-23T16:25:52.610Z"
   },
   {
    "duration": 5,
    "start_time": "2022-04-23T16:25:52.625Z"
   },
   {
    "duration": 13,
    "start_time": "2022-04-23T16:25:52.632Z"
   },
   {
    "duration": 313,
    "start_time": "2022-04-23T16:25:52.721Z"
   },
   {
    "duration": 11,
    "start_time": "2022-04-23T16:25:53.035Z"
   },
   {
    "duration": 232,
    "start_time": "2022-04-23T16:25:53.047Z"
   },
   {
    "duration": 7,
    "start_time": "2022-04-23T16:25:53.281Z"
   },
   {
    "duration": 234,
    "start_time": "2022-04-23T16:25:53.289Z"
   }
  ],
  "kernelspec": {
   "display_name": "Python 3",
   "language": "python",
   "name": "python3"
  },
  "language_info": {
   "codemirror_mode": {
    "name": "ipython",
    "version": 3
   },
   "file_extension": ".py",
   "mimetype": "text/x-python",
   "name": "python",
   "nbconvert_exporter": "python",
   "pygments_lexer": "ipython3",
   "version": "3.8.3"
  },
  "latex_envs": {
   "LaTeX_envs_menu_present": true,
   "autoclose": false,
   "autocomplete": true,
   "bibliofile": "biblio.bib",
   "cite_by": "apalike",
   "current_citInitial": 1,
   "eqLabelWithNumbers": true,
   "eqNumInitial": 1,
   "hotkeys": {
    "equation": "Ctrl-E",
    "itemize": "Ctrl-I"
   },
   "labels_anchors": false,
   "latex_user_defs": false,
   "report_style_numbering": false,
   "user_envs_cfg": false
  },
  "toc": {
   "base_numbering": 1,
   "nav_menu": {},
   "number_sections": true,
   "sideBar": true,
   "skip_h1_title": true,
   "title_cell": "Содержание",
   "title_sidebar": "Contents",
   "toc_cell": false,
   "toc_position": {
    "height": "calc(100% - 180px)",
    "left": "10px",
    "top": "150px",
    "width": "236.378px"
   },
   "toc_section_display": true,
   "toc_window_display": true
  }
 },
 "nbformat": 4,
 "nbformat_minor": 2
}
