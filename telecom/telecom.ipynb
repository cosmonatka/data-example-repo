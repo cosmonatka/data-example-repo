{
 "cells": [
  {
   "cell_type": "markdown",
   "metadata": {},
   "source": [
    "# Определение выгодного тарифа для телеком-компании"
   ]
  },
  {
   "cell_type": "markdown",
   "metadata": {},
   "source": [
    "**Описание данных**, с которыми проводится работа:\n",
    "- **таблица `users`** (информация о пользователях):\n",
    "\n",
    "`user_id` — уникальный идентификатор пользователя\n",
    "\n",
    "`first_name` — имя пользователя\n",
    "\n",
    "`last_name` — фамилия пользователя\n",
    "\n",
    "`age` — возраст пользователя (годы)\n",
    "\n",
    "`reg_date` — дата подключения тарифа (день, месяц, год)\n",
    "\n",
    "`churn_date` — дата прекращения пользования тарифом\n",
    "\n",
    "`city` — город проживания пользователя\n",
    "\n",
    "`tarif` — название тарифного плана\n",
    "\n",
    "- **Таблица `calls`** (информация о звонках):\n",
    "\n",
    "`id` — уникальный номер звонка\n",
    "\n",
    "`call_date` — дата звонка\n",
    "\n",
    "`duration` — длительность звонка в минутах\n",
    "\n",
    "`user_id` — идентификатор пользователя, сделавшего звонок\n",
    "\n",
    "- **Таблица `messages`** (информация о сообщениях):\n",
    "\n",
    "`id` — уникальный номер звонка\n",
    "\n",
    "`message_date` — дата сообщения\n",
    "\n",
    "`user_id` — идентификатор пользователя, отправившего сообщение\n",
    "\n",
    "- **Таблица `internet`** (информация об интернет-сессиях):\n",
    "\n",
    "`id` — уникальный номер сессии\n",
    "\n",
    "`mb_used` — объём потраченного за сессию интернет-трафика (MB)\n",
    "\n",
    "`session_date` — дата интернет-сессии\n",
    "\n",
    "`user_id` — идентификатор пользователя\n",
    "\n",
    "- **Таблица `tariffs`** (информация о тарифах):\n",
    "\n",
    "`tariff_name` — название тарифа\n",
    "\n",
    "`rub_monthly_fee` — ежемесячная абонентская плата в рублях\n",
    "\n",
    "`minutes_included` — количество минут разговора в месяц, включённых в абонентскую плату\n",
    "\n",
    "`messages_included` — количество сообщений в месяц, включённых в абонентскую плату\n",
    "\n",
    "`mb_per_month_included` — объём интернет-трафика, включённого в абонентскую плату (MB)\n",
    "\n",
    "`rub_per_minute` — стоимость минуты разговора сверх тарифного пакета\n",
    "\n",
    "`rub_per_message` — стоимость отправки сообщения сверх тарифного пакета\n",
    "\n",
    "`rub_per_gb` — стоимость дополнительного гигабайта интернет-трафика сверх тарифного пакета (1 гигабайт = 1024 мегабайта)"
   ]
  },
  {
   "cell_type": "markdown",
   "metadata": {},
   "source": [
    "<a id=\"step1\"></a>\n",
    "## Общая информация о данных"
   ]
  },
  {
   "cell_type": "markdown",
   "metadata": {},
   "source": [
    "Импортируем библиотеки:"
   ]
  },
  {
   "cell_type": "code",
   "execution_count": 1,
   "metadata": {},
   "outputs": [],
   "source": [
    "import pandas as pd\n",
    "import numpy as np\n",
    "import matplotlib.pyplot as plt\n",
    "import seaborn as sns\n",
    "from scipy import stats as st"
   ]
  },
  {
   "cell_type": "markdown",
   "metadata": {},
   "source": [
    "Считываем данные из 5 предоставленных файлов и изучаем информацию об этих датафреймах."
   ]
  },
  {
   "cell_type": "markdown",
   "metadata": {},
   "source": [
    "### Звонки"
   ]
  },
  {
   "cell_type": "code",
   "execution_count": 2,
   "metadata": {},
   "outputs": [
    {
     "data": {
      "text/html": [
       "<div>\n",
       "<style scoped>\n",
       "    .dataframe tbody tr th:only-of-type {\n",
       "        vertical-align: middle;\n",
       "    }\n",
       "\n",
       "    .dataframe tbody tr th {\n",
       "        vertical-align: top;\n",
       "    }\n",
       "\n",
       "    .dataframe thead th {\n",
       "        text-align: right;\n",
       "    }\n",
       "</style>\n",
       "<table border=\"1\" class=\"dataframe\">\n",
       "  <thead>\n",
       "    <tr style=\"text-align: right;\">\n",
       "      <th></th>\n",
       "      <th>id</th>\n",
       "      <th>call_date</th>\n",
       "      <th>duration</th>\n",
       "      <th>user_id</th>\n",
       "    </tr>\n",
       "  </thead>\n",
       "  <tbody>\n",
       "    <tr>\n",
       "      <td>0</td>\n",
       "      <td>1000_0</td>\n",
       "      <td>2018-07-25</td>\n",
       "      <td>0.00</td>\n",
       "      <td>1000</td>\n",
       "    </tr>\n",
       "    <tr>\n",
       "      <td>1</td>\n",
       "      <td>1000_1</td>\n",
       "      <td>2018-08-17</td>\n",
       "      <td>0.00</td>\n",
       "      <td>1000</td>\n",
       "    </tr>\n",
       "    <tr>\n",
       "      <td>2</td>\n",
       "      <td>1000_2</td>\n",
       "      <td>2018-06-11</td>\n",
       "      <td>2.85</td>\n",
       "      <td>1000</td>\n",
       "    </tr>\n",
       "    <tr>\n",
       "      <td>3</td>\n",
       "      <td>1000_3</td>\n",
       "      <td>2018-09-21</td>\n",
       "      <td>13.80</td>\n",
       "      <td>1000</td>\n",
       "    </tr>\n",
       "    <tr>\n",
       "      <td>4</td>\n",
       "      <td>1000_4</td>\n",
       "      <td>2018-12-15</td>\n",
       "      <td>5.18</td>\n",
       "      <td>1000</td>\n",
       "    </tr>\n",
       "  </tbody>\n",
       "</table>\n",
       "</div>"
      ],
      "text/plain": [
       "       id   call_date  duration  user_id\n",
       "0  1000_0  2018-07-25      0.00     1000\n",
       "1  1000_1  2018-08-17      0.00     1000\n",
       "2  1000_2  2018-06-11      2.85     1000\n",
       "3  1000_3  2018-09-21     13.80     1000\n",
       "4  1000_4  2018-12-15      5.18     1000"
      ]
     },
     "execution_count": 2,
     "metadata": {},
     "output_type": "execute_result"
    }
   ],
   "source": [
    "calls = pd.read_csv('/datasets/calls.csv')\n",
    "calls.head()"
   ]
  },
  {
   "cell_type": "code",
   "execution_count": 3,
   "metadata": {},
   "outputs": [
    {
     "name": "stdout",
     "output_type": "stream",
     "text": [
      "<class 'pandas.core.frame.DataFrame'>\n",
      "RangeIndex: 202607 entries, 0 to 202606\n",
      "Data columns (total 4 columns):\n",
      "id           202607 non-null object\n",
      "call_date    202607 non-null object\n",
      "duration     202607 non-null float64\n",
      "user_id      202607 non-null int64\n",
      "dtypes: float64(1), int64(1), object(2)\n",
      "memory usage: 6.2+ MB\n"
     ]
    }
   ],
   "source": [
    "calls.info()"
   ]
  },
  {
   "cell_type": "markdown",
   "metadata": {},
   "source": [
    "- Пропущенных значений нет.\n",
    "- Необходимо преобразовать данные в столбце `call_date` в тип *datetime* вместо *object*.\n",
    "- Необходимо добавить столбец `month`, поскольку эти данные понадобятся для дальнейшего анализа.\n",
    "- Добавим также столбец `duration_round`, поскольку известно, что \"Мегалайн\" всегда округляет секунды до минуты. А значит, в столбце должны быть округленные в б*о*льшую сторону числа.\n",
    "- Столбец `id` содержит уникальный номер для звонка, но является по сути комбинацией номера звонка для строки с конкретным идентификатором пользователя `user_id`. Для упрощения последующей обработки данных создадим новый столбец с порядковым номером звонка и удалим прежний столбец.\n",
    "- Присутствующая длительность звонков, равная 0 (значения в столбце `duration`), говорит о том, что звонок был, но разговор не состоялся, т.е. это был пропущенный звонок. То есть эти данные не являются ошибочными."
   ]
  },
  {
   "cell_type": "markdown",
   "metadata": {},
   "source": [
    "### Интернет-сессии"
   ]
  },
  {
   "cell_type": "code",
   "execution_count": 4,
   "metadata": {},
   "outputs": [
    {
     "data": {
      "text/html": [
       "<div>\n",
       "<style scoped>\n",
       "    .dataframe tbody tr th:only-of-type {\n",
       "        vertical-align: middle;\n",
       "    }\n",
       "\n",
       "    .dataframe tbody tr th {\n",
       "        vertical-align: top;\n",
       "    }\n",
       "\n",
       "    .dataframe thead th {\n",
       "        text-align: right;\n",
       "    }\n",
       "</style>\n",
       "<table border=\"1\" class=\"dataframe\">\n",
       "  <thead>\n",
       "    <tr style=\"text-align: right;\">\n",
       "      <th></th>\n",
       "      <th>Unnamed: 0</th>\n",
       "      <th>id</th>\n",
       "      <th>mb_used</th>\n",
       "      <th>session_date</th>\n",
       "      <th>user_id</th>\n",
       "    </tr>\n",
       "  </thead>\n",
       "  <tbody>\n",
       "    <tr>\n",
       "      <td>0</td>\n",
       "      <td>0</td>\n",
       "      <td>1000_0</td>\n",
       "      <td>112.95</td>\n",
       "      <td>2018-11-25</td>\n",
       "      <td>1000</td>\n",
       "    </tr>\n",
       "    <tr>\n",
       "      <td>1</td>\n",
       "      <td>1</td>\n",
       "      <td>1000_1</td>\n",
       "      <td>1052.81</td>\n",
       "      <td>2018-09-07</td>\n",
       "      <td>1000</td>\n",
       "    </tr>\n",
       "    <tr>\n",
       "      <td>2</td>\n",
       "      <td>2</td>\n",
       "      <td>1000_2</td>\n",
       "      <td>1197.26</td>\n",
       "      <td>2018-06-25</td>\n",
       "      <td>1000</td>\n",
       "    </tr>\n",
       "    <tr>\n",
       "      <td>3</td>\n",
       "      <td>3</td>\n",
       "      <td>1000_3</td>\n",
       "      <td>550.27</td>\n",
       "      <td>2018-08-22</td>\n",
       "      <td>1000</td>\n",
       "    </tr>\n",
       "    <tr>\n",
       "      <td>4</td>\n",
       "      <td>4</td>\n",
       "      <td>1000_4</td>\n",
       "      <td>302.56</td>\n",
       "      <td>2018-09-24</td>\n",
       "      <td>1000</td>\n",
       "    </tr>\n",
       "  </tbody>\n",
       "</table>\n",
       "</div>"
      ],
      "text/plain": [
       "   Unnamed: 0      id  mb_used session_date  user_id\n",
       "0           0  1000_0   112.95   2018-11-25     1000\n",
       "1           1  1000_1  1052.81   2018-09-07     1000\n",
       "2           2  1000_2  1197.26   2018-06-25     1000\n",
       "3           3  1000_3   550.27   2018-08-22     1000\n",
       "4           4  1000_4   302.56   2018-09-24     1000"
      ]
     },
     "execution_count": 4,
     "metadata": {},
     "output_type": "execute_result"
    }
   ],
   "source": [
    "internet = pd.read_csv('/datasets/internet.csv')\n",
    "internet.head()"
   ]
  },
  {
   "cell_type": "code",
   "execution_count": 5,
   "metadata": {},
   "outputs": [
    {
     "name": "stdout",
     "output_type": "stream",
     "text": [
      "<class 'pandas.core.frame.DataFrame'>\n",
      "RangeIndex: 149396 entries, 0 to 149395\n",
      "Data columns (total 5 columns):\n",
      "Unnamed: 0      149396 non-null int64\n",
      "id              149396 non-null object\n",
      "mb_used         149396 non-null float64\n",
      "session_date    149396 non-null object\n",
      "user_id         149396 non-null int64\n",
      "dtypes: float64(1), int64(2), object(2)\n",
      "memory usage: 5.7+ MB\n"
     ]
    }
   ],
   "source": [
    "internet.info()"
   ]
  },
  {
   "cell_type": "markdown",
   "metadata": {},
   "source": [
    "- Пропущенных значений нет.\n",
    "- Необходимо преобразовать данные в столбце `session_date` в тип *datetime* вместо *object*.\n",
    "- Необходимо добавить столбец `month`, поскольку эти данные понадобятся для дальнейшего анализа.\n",
    "- Столбец `Unnamed: 0` явно лишний, его можно удалить.\n",
    "- Столбец `id` содержит уникальный номер для интернет-сессии, но является по сути комбинацией интернет-сессии для строки с конкретным идентификатором пользователя `user_id`. Для упрощения последующей обработки данных создадим новый столбец с порядковым номером интернет-сессии и удалим прежний столбец.\n",
    "- Присутствующий нулевой трафик (значения в столбце `mb_used`) говорит о том, что при включенном интернете трафика по какой-то причине не было. То есть эти данные не являются ошибочными."
   ]
  },
  {
   "cell_type": "markdown",
   "metadata": {},
   "source": [
    "### Сообщения"
   ]
  },
  {
   "cell_type": "code",
   "execution_count": 6,
   "metadata": {},
   "outputs": [
    {
     "data": {
      "text/html": [
       "<div>\n",
       "<style scoped>\n",
       "    .dataframe tbody tr th:only-of-type {\n",
       "        vertical-align: middle;\n",
       "    }\n",
       "\n",
       "    .dataframe tbody tr th {\n",
       "        vertical-align: top;\n",
       "    }\n",
       "\n",
       "    .dataframe thead th {\n",
       "        text-align: right;\n",
       "    }\n",
       "</style>\n",
       "<table border=\"1\" class=\"dataframe\">\n",
       "  <thead>\n",
       "    <tr style=\"text-align: right;\">\n",
       "      <th></th>\n",
       "      <th>id</th>\n",
       "      <th>message_date</th>\n",
       "      <th>user_id</th>\n",
       "    </tr>\n",
       "  </thead>\n",
       "  <tbody>\n",
       "    <tr>\n",
       "      <td>0</td>\n",
       "      <td>1000_0</td>\n",
       "      <td>2018-06-27</td>\n",
       "      <td>1000</td>\n",
       "    </tr>\n",
       "    <tr>\n",
       "      <td>1</td>\n",
       "      <td>1000_1</td>\n",
       "      <td>2018-10-08</td>\n",
       "      <td>1000</td>\n",
       "    </tr>\n",
       "    <tr>\n",
       "      <td>2</td>\n",
       "      <td>1000_2</td>\n",
       "      <td>2018-08-04</td>\n",
       "      <td>1000</td>\n",
       "    </tr>\n",
       "    <tr>\n",
       "      <td>3</td>\n",
       "      <td>1000_3</td>\n",
       "      <td>2018-06-16</td>\n",
       "      <td>1000</td>\n",
       "    </tr>\n",
       "    <tr>\n",
       "      <td>4</td>\n",
       "      <td>1000_4</td>\n",
       "      <td>2018-12-05</td>\n",
       "      <td>1000</td>\n",
       "    </tr>\n",
       "  </tbody>\n",
       "</table>\n",
       "</div>"
      ],
      "text/plain": [
       "       id message_date  user_id\n",
       "0  1000_0   2018-06-27     1000\n",
       "1  1000_1   2018-10-08     1000\n",
       "2  1000_2   2018-08-04     1000\n",
       "3  1000_3   2018-06-16     1000\n",
       "4  1000_4   2018-12-05     1000"
      ]
     },
     "execution_count": 6,
     "metadata": {},
     "output_type": "execute_result"
    }
   ],
   "source": [
    "messages = pd.read_csv('/datasets/messages.csv')\n",
    "messages.head()"
   ]
  },
  {
   "cell_type": "code",
   "execution_count": 7,
   "metadata": {},
   "outputs": [
    {
     "name": "stdout",
     "output_type": "stream",
     "text": [
      "<class 'pandas.core.frame.DataFrame'>\n",
      "RangeIndex: 123036 entries, 0 to 123035\n",
      "Data columns (total 3 columns):\n",
      "id              123036 non-null object\n",
      "message_date    123036 non-null object\n",
      "user_id         123036 non-null int64\n",
      "dtypes: int64(1), object(2)\n",
      "memory usage: 2.8+ MB\n"
     ]
    }
   ],
   "source": [
    "messages.info()"
   ]
  },
  {
   "cell_type": "markdown",
   "metadata": {},
   "source": [
    "- Пропущенных значений нет.\n",
    "- Необходимо преобразовать данные в столбце `message_date` в тип *datetime* вместо *object*.\n",
    "- Необходимо добавить столбец `month`, поскольку эти данные понадобятся для дальнейшего анализа.\n",
    "- Столбец `id` содержит уникальный номер для сообщения, но является по сути комбинацией сообщения для строки с конкретным идентификатором пользователя `user_id`. Для упрощения последующей обработки данных создадим новый столбец с порядковым номером сообщения и удалим прежний столбец."
   ]
  },
  {
   "cell_type": "markdown",
   "metadata": {},
   "source": [
    "### Тарифы"
   ]
  },
  {
   "cell_type": "code",
   "execution_count": 8,
   "metadata": {
    "scrolled": true
   },
   "outputs": [
    {
     "data": {
      "text/html": [
       "<div>\n",
       "<style scoped>\n",
       "    .dataframe tbody tr th:only-of-type {\n",
       "        vertical-align: middle;\n",
       "    }\n",
       "\n",
       "    .dataframe tbody tr th {\n",
       "        vertical-align: top;\n",
       "    }\n",
       "\n",
       "    .dataframe thead th {\n",
       "        text-align: right;\n",
       "    }\n",
       "</style>\n",
       "<table border=\"1\" class=\"dataframe\">\n",
       "  <thead>\n",
       "    <tr style=\"text-align: right;\">\n",
       "      <th></th>\n",
       "      <th>messages_included</th>\n",
       "      <th>mb_per_month_included</th>\n",
       "      <th>minutes_included</th>\n",
       "      <th>rub_monthly_fee</th>\n",
       "      <th>rub_per_gb</th>\n",
       "      <th>rub_per_message</th>\n",
       "      <th>rub_per_minute</th>\n",
       "      <th>tariff_name</th>\n",
       "    </tr>\n",
       "  </thead>\n",
       "  <tbody>\n",
       "    <tr>\n",
       "      <td>0</td>\n",
       "      <td>50</td>\n",
       "      <td>15360</td>\n",
       "      <td>500</td>\n",
       "      <td>550</td>\n",
       "      <td>200</td>\n",
       "      <td>3</td>\n",
       "      <td>3</td>\n",
       "      <td>smart</td>\n",
       "    </tr>\n",
       "    <tr>\n",
       "      <td>1</td>\n",
       "      <td>1000</td>\n",
       "      <td>30720</td>\n",
       "      <td>3000</td>\n",
       "      <td>1950</td>\n",
       "      <td>150</td>\n",
       "      <td>1</td>\n",
       "      <td>1</td>\n",
       "      <td>ultra</td>\n",
       "    </tr>\n",
       "  </tbody>\n",
       "</table>\n",
       "</div>"
      ],
      "text/plain": [
       "   messages_included  mb_per_month_included  minutes_included  \\\n",
       "0                 50                  15360               500   \n",
       "1               1000                  30720              3000   \n",
       "\n",
       "   rub_monthly_fee  rub_per_gb  rub_per_message  rub_per_minute tariff_name  \n",
       "0              550         200                3               3       smart  \n",
       "1             1950         150                1               1       ultra  "
      ]
     },
     "execution_count": 8,
     "metadata": {},
     "output_type": "execute_result"
    }
   ],
   "source": [
    "tariffs = pd.read_csv('/datasets/tariffs.csv')\n",
    "tariffs.head()"
   ]
  },
  {
   "cell_type": "code",
   "execution_count": 9,
   "metadata": {},
   "outputs": [
    {
     "name": "stdout",
     "output_type": "stream",
     "text": [
      "<class 'pandas.core.frame.DataFrame'>\n",
      "RangeIndex: 2 entries, 0 to 1\n",
      "Data columns (total 8 columns):\n",
      "messages_included        2 non-null int64\n",
      "mb_per_month_included    2 non-null int64\n",
      "minutes_included         2 non-null int64\n",
      "rub_monthly_fee          2 non-null int64\n",
      "rub_per_gb               2 non-null int64\n",
      "rub_per_message          2 non-null int64\n",
      "rub_per_minute           2 non-null int64\n",
      "tariff_name              2 non-null object\n",
      "dtypes: int64(7), object(1)\n",
      "memory usage: 256.0+ bytes\n"
     ]
    }
   ],
   "source": [
    "tariffs.info()"
   ]
  },
  {
   "cell_type": "markdown",
   "metadata": {},
   "source": [
    "- Пропущенных значений нет.\n",
    "- Добавим столбец `gb_per_month_included` для дальнейшего анализа данных."
   ]
  },
  {
   "cell_type": "markdown",
   "metadata": {},
   "source": [
    "### Пользователи"
   ]
  },
  {
   "cell_type": "code",
   "execution_count": 10,
   "metadata": {},
   "outputs": [
    {
     "data": {
      "text/html": [
       "<div>\n",
       "<style scoped>\n",
       "    .dataframe tbody tr th:only-of-type {\n",
       "        vertical-align: middle;\n",
       "    }\n",
       "\n",
       "    .dataframe tbody tr th {\n",
       "        vertical-align: top;\n",
       "    }\n",
       "\n",
       "    .dataframe thead th {\n",
       "        text-align: right;\n",
       "    }\n",
       "</style>\n",
       "<table border=\"1\" class=\"dataframe\">\n",
       "  <thead>\n",
       "    <tr style=\"text-align: right;\">\n",
       "      <th></th>\n",
       "      <th>user_id</th>\n",
       "      <th>age</th>\n",
       "      <th>churn_date</th>\n",
       "      <th>city</th>\n",
       "      <th>first_name</th>\n",
       "      <th>last_name</th>\n",
       "      <th>reg_date</th>\n",
       "      <th>tariff</th>\n",
       "    </tr>\n",
       "  </thead>\n",
       "  <tbody>\n",
       "    <tr>\n",
       "      <td>0</td>\n",
       "      <td>1000</td>\n",
       "      <td>52</td>\n",
       "      <td>NaN</td>\n",
       "      <td>Краснодар</td>\n",
       "      <td>Рафаил</td>\n",
       "      <td>Верещагин</td>\n",
       "      <td>2018-05-25</td>\n",
       "      <td>ultra</td>\n",
       "    </tr>\n",
       "    <tr>\n",
       "      <td>1</td>\n",
       "      <td>1001</td>\n",
       "      <td>41</td>\n",
       "      <td>NaN</td>\n",
       "      <td>Москва</td>\n",
       "      <td>Иван</td>\n",
       "      <td>Ежов</td>\n",
       "      <td>2018-11-01</td>\n",
       "      <td>smart</td>\n",
       "    </tr>\n",
       "    <tr>\n",
       "      <td>2</td>\n",
       "      <td>1002</td>\n",
       "      <td>59</td>\n",
       "      <td>NaN</td>\n",
       "      <td>Стерлитамак</td>\n",
       "      <td>Евгений</td>\n",
       "      <td>Абрамович</td>\n",
       "      <td>2018-06-17</td>\n",
       "      <td>smart</td>\n",
       "    </tr>\n",
       "    <tr>\n",
       "      <td>3</td>\n",
       "      <td>1003</td>\n",
       "      <td>23</td>\n",
       "      <td>NaN</td>\n",
       "      <td>Москва</td>\n",
       "      <td>Белла</td>\n",
       "      <td>Белякова</td>\n",
       "      <td>2018-08-17</td>\n",
       "      <td>ultra</td>\n",
       "    </tr>\n",
       "    <tr>\n",
       "      <td>4</td>\n",
       "      <td>1004</td>\n",
       "      <td>68</td>\n",
       "      <td>NaN</td>\n",
       "      <td>Новокузнецк</td>\n",
       "      <td>Татьяна</td>\n",
       "      <td>Авдеенко</td>\n",
       "      <td>2018-05-14</td>\n",
       "      <td>ultra</td>\n",
       "    </tr>\n",
       "  </tbody>\n",
       "</table>\n",
       "</div>"
      ],
      "text/plain": [
       "   user_id  age churn_date         city first_name  last_name    reg_date  \\\n",
       "0     1000   52        NaN    Краснодар     Рафаил  Верещагин  2018-05-25   \n",
       "1     1001   41        NaN       Москва       Иван       Ежов  2018-11-01   \n",
       "2     1002   59        NaN  Стерлитамак    Евгений  Абрамович  2018-06-17   \n",
       "3     1003   23        NaN       Москва      Белла   Белякова  2018-08-17   \n",
       "4     1004   68        NaN  Новокузнецк    Татьяна   Авдеенко  2018-05-14   \n",
       "\n",
       "  tariff  \n",
       "0  ultra  \n",
       "1  smart  \n",
       "2  smart  \n",
       "3  ultra  \n",
       "4  ultra  "
      ]
     },
     "execution_count": 10,
     "metadata": {},
     "output_type": "execute_result"
    }
   ],
   "source": [
    "users = pd.read_csv('/datasets/users.csv')\n",
    "users.head()"
   ]
  },
  {
   "cell_type": "code",
   "execution_count": 11,
   "metadata": {
    "scrolled": true
   },
   "outputs": [
    {
     "name": "stdout",
     "output_type": "stream",
     "text": [
      "<class 'pandas.core.frame.DataFrame'>\n",
      "RangeIndex: 500 entries, 0 to 499\n",
      "Data columns (total 8 columns):\n",
      "user_id       500 non-null int64\n",
      "age           500 non-null int64\n",
      "churn_date    38 non-null object\n",
      "city          500 non-null object\n",
      "first_name    500 non-null object\n",
      "last_name     500 non-null object\n",
      "reg_date      500 non-null object\n",
      "tariff        500 non-null object\n",
      "dtypes: int64(2), object(6)\n",
      "memory usage: 31.4+ KB\n"
     ]
    }
   ],
   "source": [
    "users.info(5)"
   ]
  },
  {
   "cell_type": "markdown",
   "metadata": {},
   "source": [
    "- Пропущенные значения есть в столбце `churn_date`, что означает, что тариф ещё действовал на момент выгрузки данных. Заполнять пропуски не будем.\n",
    "- Необходимо преобразовать данные в столбцах `churn_date` и `reg_date` в тип *datetime* вместо *object*.\n",
    "- Необходимо добавить столбец `month`, поскольку эти данные понадобятся для дальнейшего анализа.\n",
    "- Изменим регистр городов и фамилии-имени на нижний."
   ]
  },
  {
   "cell_type": "markdown",
   "metadata": {},
   "source": [
    "### Вывод"
   ]
  },
  {
   "cell_type": "markdown",
   "metadata": {},
   "source": [
    "- Считаны таблицы исходных данных. Проведен их первичный анализ.\n",
    "- Выявлены пропущенные значения. Определены дальнейшие действия по их предобработке.\n",
    "- Получена информация о размерах таблиц и типах данных."
   ]
  },
  {
   "cell_type": "markdown",
   "metadata": {},
   "source": [
    "<a id = 'step2'></a>\n",
    "## Подготовка данных"
   ]
  },
  {
   "cell_type": "markdown",
   "metadata": {},
   "source": [
    "### Предобработка и исправление ошибок в данных"
   ]
  },
  {
   "cell_type": "markdown",
   "metadata": {},
   "source": [
    "Исправим типы данных там, где это необходимо. Для этого создадим функцию, которая будет изменять тип на *datetime* с учетом того, что формат даты во всех датафреймах одинаковый. И сразу же добавим столбец `month` в нужные датафреймы также с помощью созданной функции:"
   ]
  },
  {
   "cell_type": "code",
   "execution_count": 12,
   "metadata": {},
   "outputs": [],
   "source": [
    "def date_change(df, row, new_row):\n",
    "    df[row] = pd.to_datetime(df[row], format='%Y-%m-%d')\n",
    "    df[new_row] = pd.DatetimeIndex(df[row]).month"
   ]
  },
  {
   "cell_type": "code",
   "execution_count": 13,
   "metadata": {},
   "outputs": [],
   "source": [
    "date_change(calls, 'call_date', 'month')\n",
    "date_change(internet, 'session_date', 'month')\n",
    "date_change(messages, 'message_date', 'month')\n",
    "date_change(users, 'churn_date', 'churn_month')\n",
    "date_change(users, 'reg_date', 'reg_month')"
   ]
  },
  {
   "cell_type": "markdown",
   "metadata": {},
   "source": [
    "Создадим новый столбец вместо `id` с порядковым номером звонка, сообщения и интернет-сессии и удалим прежний столбец. Также для этого напишем собственную функцию:"
   ]
  },
  {
   "cell_type": "code",
   "execution_count": 14,
   "metadata": {},
   "outputs": [],
   "source": [
    "def id_int(df, column_name):\n",
    "    df[column_name] = df['id'].str.split('_', n=1, expand=True)[1].astype('int')\n",
    "    df.drop('id', axis=1, inplace=True)"
   ]
  },
  {
   "cell_type": "code",
   "execution_count": 15,
   "metadata": {},
   "outputs": [],
   "source": [
    "id_int(calls, 'call_id')\n",
    "id_int(internet, 'session_id')\n",
    "id_int(messages, 'message_id')"
   ]
  },
  {
   "cell_type": "markdown",
   "metadata": {},
   "source": [
    "Добавим столбец `duration_round` в датафрейм `calls`:"
   ]
  },
  {
   "cell_type": "code",
   "execution_count": 16,
   "metadata": {},
   "outputs": [],
   "source": [
    "calls['duration_round'] = np.ceil(calls['duration']).astype(int)"
   ]
  },
  {
   "cell_type": "markdown",
   "metadata": {},
   "source": [
    "Добавим столбец `gb_per_month_included` в датафрейм `tariffs`:"
   ]
  },
  {
   "cell_type": "code",
   "execution_count": 17,
   "metadata": {},
   "outputs": [],
   "source": [
    "tariffs['gb_per_month_included'] = tariffs['mb_per_month_included'] / 1024"
   ]
  },
  {
   "cell_type": "markdown",
   "metadata": {},
   "source": [
    "\n",
    "\n",
    "Изменим регистр городов и фамилии-имени на нижний тоже с помощью собственной функции:"
   ]
  },
  {
   "cell_type": "code",
   "execution_count": 18,
   "metadata": {},
   "outputs": [],
   "source": [
    "def str_lower(df, row):\n",
    "    df[row] = df[row].str.lower()"
   ]
  },
  {
   "cell_type": "code",
   "execution_count": 19,
   "metadata": {},
   "outputs": [],
   "source": [
    "str_lower(users, 'city')\n",
    "str_lower(users, 'first_name')\n",
    "str_lower(users, 'last_name')"
   ]
  },
  {
   "cell_type": "markdown",
   "metadata": {},
   "source": [
    "Проверим после всех правок датафреймы на дубликаты:"
   ]
  },
  {
   "cell_type": "code",
   "execution_count": 20,
   "metadata": {},
   "outputs": [
    {
     "name": "stdout",
     "output_type": "stream",
     "text": [
      "Дубликатов в звонках: 0\n",
      "Дубликатов в интернет-сессиях: 0\n",
      "Дубликатов в сообщениях: 0\n",
      "Дубликатов в пользователях: 0\n"
     ]
    }
   ],
   "source": [
    "print('Дубликатов в звонках:', calls.duplicated().sum())\n",
    "print('Дубликатов в интернет-сессиях:', internet.duplicated().sum())\n",
    "print('Дубликатов в сообщениях:', messages.duplicated().sum())\n",
    "print('Дубликатов в пользователях:', users.duplicated().sum())"
   ]
  },
  {
   "cell_type": "code",
   "execution_count": 21,
   "metadata": {},
   "outputs": [],
   "source": [
    "internet.drop('Unnamed: 0', axis=1, inplace=True)"
   ]
  },
  {
   "cell_type": "markdown",
   "metadata": {},
   "source": [
    "Посмотрим, что получилось по результатам предобработки данных:"
   ]
  },
  {
   "cell_type": "code",
   "execution_count": 22,
   "metadata": {},
   "outputs": [
    {
     "data": {
      "text/html": [
       "<div>\n",
       "<style scoped>\n",
       "    .dataframe tbody tr th:only-of-type {\n",
       "        vertical-align: middle;\n",
       "    }\n",
       "\n",
       "    .dataframe tbody tr th {\n",
       "        vertical-align: top;\n",
       "    }\n",
       "\n",
       "    .dataframe thead th {\n",
       "        text-align: right;\n",
       "    }\n",
       "</style>\n",
       "<table border=\"1\" class=\"dataframe\">\n",
       "  <thead>\n",
       "    <tr style=\"text-align: right;\">\n",
       "      <th></th>\n",
       "      <th>call_date</th>\n",
       "      <th>duration</th>\n",
       "      <th>user_id</th>\n",
       "      <th>month</th>\n",
       "      <th>call_id</th>\n",
       "      <th>duration_round</th>\n",
       "    </tr>\n",
       "  </thead>\n",
       "  <tbody>\n",
       "    <tr>\n",
       "      <td>0</td>\n",
       "      <td>2018-07-25</td>\n",
       "      <td>0.00</td>\n",
       "      <td>1000</td>\n",
       "      <td>7</td>\n",
       "      <td>0</td>\n",
       "      <td>0</td>\n",
       "    </tr>\n",
       "    <tr>\n",
       "      <td>1</td>\n",
       "      <td>2018-08-17</td>\n",
       "      <td>0.00</td>\n",
       "      <td>1000</td>\n",
       "      <td>8</td>\n",
       "      <td>1</td>\n",
       "      <td>0</td>\n",
       "    </tr>\n",
       "    <tr>\n",
       "      <td>2</td>\n",
       "      <td>2018-06-11</td>\n",
       "      <td>2.85</td>\n",
       "      <td>1000</td>\n",
       "      <td>6</td>\n",
       "      <td>2</td>\n",
       "      <td>3</td>\n",
       "    </tr>\n",
       "    <tr>\n",
       "      <td>3</td>\n",
       "      <td>2018-09-21</td>\n",
       "      <td>13.80</td>\n",
       "      <td>1000</td>\n",
       "      <td>9</td>\n",
       "      <td>3</td>\n",
       "      <td>14</td>\n",
       "    </tr>\n",
       "    <tr>\n",
       "      <td>4</td>\n",
       "      <td>2018-12-15</td>\n",
       "      <td>5.18</td>\n",
       "      <td>1000</td>\n",
       "      <td>12</td>\n",
       "      <td>4</td>\n",
       "      <td>6</td>\n",
       "    </tr>\n",
       "  </tbody>\n",
       "</table>\n",
       "</div>"
      ],
      "text/plain": [
       "   call_date  duration  user_id  month  call_id  duration_round\n",
       "0 2018-07-25      0.00     1000      7        0               0\n",
       "1 2018-08-17      0.00     1000      8        1               0\n",
       "2 2018-06-11      2.85     1000      6        2               3\n",
       "3 2018-09-21     13.80     1000      9        3              14\n",
       "4 2018-12-15      5.18     1000     12        4               6"
      ]
     },
     "execution_count": 22,
     "metadata": {},
     "output_type": "execute_result"
    }
   ],
   "source": [
    "calls.head(5)"
   ]
  },
  {
   "cell_type": "markdown",
   "metadata": {},
   "source": [
    "Рассмотрим информацию о параметрах данных, содержащихся в столбце `duration_round`:"
   ]
  },
  {
   "cell_type": "code",
   "execution_count": 23,
   "metadata": {},
   "outputs": [
    {
     "data": {
      "text/plain": [
       "count    202607.000000\n",
       "mean          7.158198\n",
       "std           5.959173\n",
       "min           0.000000\n",
       "25%           2.000000\n",
       "50%           6.000000\n",
       "75%          11.000000\n",
       "max          38.000000\n",
       "Name: duration_round, dtype: float64"
      ]
     },
     "execution_count": 23,
     "metadata": {},
     "output_type": "execute_result"
    }
   ],
   "source": [
    "calls['duration_round'].describe()"
   ]
  },
  {
   "cell_type": "markdown",
   "metadata": {},
   "source": [
    "Построим гистограмму по этому столбцу:"
   ]
  },
  {
   "cell_type": "code",
   "execution_count": 24,
   "metadata": {},
   "outputs": [
    {
     "data": {
      "text/plain": [
       "Text(0.5, 0, 'Duration')"
      ]
     },
     "execution_count": 24,
     "metadata": {},
     "output_type": "execute_result"
    },
    {
     "data": {
      "image/png": "[encoded data removed]",
      "text/plain": [
       "<Figure size 432x288 with 1 Axes>"
      ]
     },
     "metadata": {
      "needs_background": "light"
     },
     "output_type": "display_data"
    }
   ],
   "source": [
    "calls['duration_round'].hist(bins=40, range=(0,40))\n",
    "plt.ylabel('Frequancy')\n",
    "plt.xlabel('Duration')"
   ]
  },
  {
   "cell_type": "code",
   "execution_count": 25,
   "metadata": {},
   "outputs": [
    {
     "data": {
      "text/plain": [
       "39613"
      ]
     },
     "execution_count": 25,
     "metadata": {},
     "output_type": "execute_result"
    }
   ],
   "source": [
    "len(calls.query('duration_round == 0'))"
   ]
  },
  {
   "cell_type": "markdown",
   "metadata": {},
   "source": [
    "Нулевая длительность звонков соответствует пропущенным звонкам. Доля таких звонков в наборе данных - почти 20%.\n",
    "\n",
    "При этом эти нулевые длительности не являются ошибочными, которые нужно удалить или отправить по ним баг-репорт, и не являются пропущенными значениями, которые нужно чем-то заполнить.\n",
    "\n",
    "Однако в дальнейших расчетах средних значений они внесут существенные искажения, сильно занизив результаты расчетов.\n",
    "\n",
    "Чтобы этого избежать, отфильтруем нулевые значения."
   ]
  },
  {
   "cell_type": "code",
   "execution_count": 26,
   "metadata": {},
   "outputs": [],
   "source": [
    "calls_without_missed = calls.query('duration_round != 0')"
   ]
  },
  {
   "cell_type": "code",
   "execution_count": 27,
   "metadata": {},
   "outputs": [
    {
     "data": {
      "text/plain": [
       "Text(0.5, 0, 'Duration')"
      ]
     },
     "execution_count": 27,
     "metadata": {},
     "output_type": "execute_result"
    },
    {
     "data": {
      "image/png": "[encoded data removed]",
      "text/plain": [
       "<Figure size 432x288 with 1 Axes>"
      ]
     },
     "metadata": {
      "needs_background": "light"
     },
     "output_type": "display_data"
    }
   ],
   "source": [
    "calls_without_missed['duration_round'].hist(bins=40, range=(0,40))\n",
    "plt.ylabel('Frequancy')\n",
    "plt.xlabel('Duration')"
   ]
  },
  {
   "cell_type": "code",
   "execution_count": 28,
   "metadata": {
    "scrolled": true
   },
   "outputs": [
    {
     "data": {
      "text/plain": [
       "count    162994.000000\n",
       "mean          8.897880\n",
       "std           5.353761\n",
       "min           1.000000\n",
       "25%           5.000000\n",
       "50%           8.000000\n",
       "75%          12.000000\n",
       "max          38.000000\n",
       "Name: duration_round, dtype: float64"
      ]
     },
     "execution_count": 28,
     "metadata": {},
     "output_type": "execute_result"
    }
   ],
   "source": [
    "calls_without_missed['duration_round'].describe()"
   ]
  },
  {
   "cell_type": "code",
   "execution_count": 29,
   "metadata": {},
   "outputs": [
    {
     "data": {
      "text/html": [
       "<div>\n",
       "<style scoped>\n",
       "    .dataframe tbody tr th:only-of-type {\n",
       "        vertical-align: middle;\n",
       "    }\n",
       "\n",
       "    .dataframe tbody tr th {\n",
       "        vertical-align: top;\n",
       "    }\n",
       "\n",
       "    .dataframe thead th {\n",
       "        text-align: right;\n",
       "    }\n",
       "</style>\n",
       "<table border=\"1\" class=\"dataframe\">\n",
       "  <thead>\n",
       "    <tr style=\"text-align: right;\">\n",
       "      <th></th>\n",
       "      <th>mb_used</th>\n",
       "      <th>session_date</th>\n",
       "      <th>user_id</th>\n",
       "      <th>month</th>\n",
       "      <th>session_id</th>\n",
       "    </tr>\n",
       "  </thead>\n",
       "  <tbody>\n",
       "    <tr>\n",
       "      <td>44103</td>\n",
       "      <td>71.31</td>\n",
       "      <td>2018-03-10</td>\n",
       "      <td>1152</td>\n",
       "      <td>3</td>\n",
       "      <td>321</td>\n",
       "    </tr>\n",
       "    <tr>\n",
       "      <td>112908</td>\n",
       "      <td>859.09</td>\n",
       "      <td>2018-06-24</td>\n",
       "      <td>1381</td>\n",
       "      <td>6</td>\n",
       "      <td>497</td>\n",
       "    </tr>\n",
       "    <tr>\n",
       "      <td>45804</td>\n",
       "      <td>0.00</td>\n",
       "      <td>2018-10-02</td>\n",
       "      <td>1157</td>\n",
       "      <td>10</td>\n",
       "      <td>316</td>\n",
       "    </tr>\n",
       "    <tr>\n",
       "      <td>12442</td>\n",
       "      <td>0.00</td>\n",
       "      <td>2018-07-19</td>\n",
       "      <td>1044</td>\n",
       "      <td>7</td>\n",
       "      <td>79</td>\n",
       "    </tr>\n",
       "    <tr>\n",
       "      <td>134596</td>\n",
       "      <td>211.84</td>\n",
       "      <td>2018-08-06</td>\n",
       "      <td>1452</td>\n",
       "      <td>8</td>\n",
       "      <td>134</td>\n",
       "    </tr>\n",
       "  </tbody>\n",
       "</table>\n",
       "</div>"
      ],
      "text/plain": [
       "        mb_used session_date  user_id  month  session_id\n",
       "44103     71.31   2018-03-10     1152      3         321\n",
       "112908   859.09   2018-06-24     1381      6         497\n",
       "45804      0.00   2018-10-02     1157     10         316\n",
       "12442      0.00   2018-07-19     1044      7          79\n",
       "134596   211.84   2018-08-06     1452      8         134"
      ]
     },
     "execution_count": 29,
     "metadata": {},
     "output_type": "execute_result"
    }
   ],
   "source": [
    "internet.sample(5)"
   ]
  },
  {
   "cell_type": "markdown",
   "metadata": {},
   "source": [
    "Рассмотрим информацию о параметрах данных, содержащихся в столбце `duration_round`:"
   ]
  },
  {
   "cell_type": "code",
   "execution_count": 30,
   "metadata": {},
   "outputs": [
    {
     "data": {
      "text/plain": [
       "count    149396.000000\n",
       "mean        370.192426\n",
       "std         278.300951\n",
       "min           0.000000\n",
       "25%         138.187500\n",
       "50%         348.015000\n",
       "75%         559.552500\n",
       "max        1724.830000\n",
       "Name: mb_used, dtype: float64"
      ]
     },
     "execution_count": 30,
     "metadata": {},
     "output_type": "execute_result"
    }
   ],
   "source": [
    "internet['mb_used'].describe()"
   ]
  },
  {
   "cell_type": "markdown",
   "metadata": {},
   "source": [
    "Построим гистограмму по этому столбцу:"
   ]
  },
  {
   "cell_type": "code",
   "execution_count": 31,
   "metadata": {},
   "outputs": [
    {
     "data": {
      "text/plain": [
       "Text(0.5, 0, 'MB used')"
      ]
     },
     "execution_count": 31,
     "metadata": {},
     "output_type": "execute_result"
    },
    {
     "data": {
      "image/png": "[encoded data removed]",
      "text/plain": [
       "<Figure size 432x288 with 1 Axes>"
      ]
     },
     "metadata": {
      "needs_background": "light"
     },
     "output_type": "display_data"
    }
   ],
   "source": [
    "internet['mb_used'].hist(bins=100, range=(0, 1500))\n",
    "plt.ylabel('Frequancy')\n",
    "plt.xlabel('MB used')"
   ]
  },
  {
   "cell_type": "code",
   "execution_count": 32,
   "metadata": {},
   "outputs": [
    {
     "data": {
      "text/plain": [
       "19598"
      ]
     },
     "execution_count": 32,
     "metadata": {},
     "output_type": "execute_result"
    }
   ],
   "source": [
    "len(internet.query('mb_used == 0'))"
   ]
  },
  {
   "cell_type": "markdown",
   "metadata": {},
   "source": [
    "Нулевой объем трафика интернет-сессий в наборе данных составляет почти 13%.\n",
    "\n",
    "Вероятно, это интернет-сессии, при которых интернет был подключен, но трафика по нему не шло, т.е. онлайн активности пользователя не было.\n",
    "\n",
    "*Эту догадку следует уточнить у тех, кто готовит данные.* \n",
    "\n",
    "А на данном этапе анализа отфильтруем нулевые значения интернет-трафика, чтобы они тоже не вносили искажения в дальнейшие исследования:"
   ]
  },
  {
   "cell_type": "code",
   "execution_count": 33,
   "metadata": {},
   "outputs": [],
   "source": [
    "internet_success = internet.query('mb_used != 0')"
   ]
  },
  {
   "cell_type": "code",
   "execution_count": 34,
   "metadata": {},
   "outputs": [
    {
     "data": {
      "text/plain": [
       "Text(0.5, 0, 'MB used')"
      ]
     },
     "execution_count": 34,
     "metadata": {},
     "output_type": "execute_result"
    },
    {
     "data": {
      "image/png": "[encoded data removed]",
      "text/plain": [
       "<Figure size 432x288 with 1 Axes>"
      ]
     },
     "metadata": {
      "needs_background": "light"
     },
     "output_type": "display_data"
    }
   ],
   "source": [
    "internet_success['mb_used'].hist(bins=100, range=(0, 1500))\n",
    "plt.ylabel('Frequancy')\n",
    "plt.xlabel('MB used')"
   ]
  },
  {
   "cell_type": "code",
   "execution_count": 35,
   "metadata": {},
   "outputs": [
    {
     "data": {
      "text/plain": [
       "count    129798.000000\n",
       "mean        426.087210\n",
       "std         255.596447\n",
       "min           0.030000\n",
       "25%         227.460000\n",
       "50%         400.540000\n",
       "75%         592.947500\n",
       "max        1724.830000\n",
       "Name: mb_used, dtype: float64"
      ]
     },
     "execution_count": 35,
     "metadata": {},
     "output_type": "execute_result"
    }
   ],
   "source": [
    "internet_success['mb_used'].describe()"
   ]
  },
  {
   "cell_type": "code",
   "execution_count": 36,
   "metadata": {},
   "outputs": [
    {
     "data": {
      "text/html": [
       "<div>\n",
       "<style scoped>\n",
       "    .dataframe tbody tr th:only-of-type {\n",
       "        vertical-align: middle;\n",
       "    }\n",
       "\n",
       "    .dataframe tbody tr th {\n",
       "        vertical-align: top;\n",
       "    }\n",
       "\n",
       "    .dataframe thead th {\n",
       "        text-align: right;\n",
       "    }\n",
       "</style>\n",
       "<table border=\"1\" class=\"dataframe\">\n",
       "  <thead>\n",
       "    <tr style=\"text-align: right;\">\n",
       "      <th></th>\n",
       "      <th>message_date</th>\n",
       "      <th>user_id</th>\n",
       "      <th>month</th>\n",
       "      <th>message_id</th>\n",
       "    </tr>\n",
       "  </thead>\n",
       "  <tbody>\n",
       "    <tr>\n",
       "      <td>114096</td>\n",
       "      <td>2018-11-29</td>\n",
       "      <td>1464</td>\n",
       "      <td>11</td>\n",
       "      <td>230</td>\n",
       "    </tr>\n",
       "    <tr>\n",
       "      <td>81705</td>\n",
       "      <td>2018-12-28</td>\n",
       "      <td>1342</td>\n",
       "      <td>12</td>\n",
       "      <td>160</td>\n",
       "    </tr>\n",
       "    <tr>\n",
       "      <td>99160</td>\n",
       "      <td>2018-12-10</td>\n",
       "      <td>1404</td>\n",
       "      <td>12</td>\n",
       "      <td>300</td>\n",
       "    </tr>\n",
       "    <tr>\n",
       "      <td>75318</td>\n",
       "      <td>2018-10-17</td>\n",
       "      <td>1318</td>\n",
       "      <td>10</td>\n",
       "      <td>347</td>\n",
       "    </tr>\n",
       "    <tr>\n",
       "      <td>18255</td>\n",
       "      <td>2018-12-19</td>\n",
       "      <td>1080</td>\n",
       "      <td>12</td>\n",
       "      <td>201</td>\n",
       "    </tr>\n",
       "  </tbody>\n",
       "</table>\n",
       "</div>"
      ],
      "text/plain": [
       "       message_date  user_id  month  message_id\n",
       "114096   2018-11-29     1464     11         230\n",
       "81705    2018-12-28     1342     12         160\n",
       "99160    2018-12-10     1404     12         300\n",
       "75318    2018-10-17     1318     10         347\n",
       "18255    2018-12-19     1080     12         201"
      ]
     },
     "execution_count": 36,
     "metadata": {},
     "output_type": "execute_result"
    }
   ],
   "source": [
    "messages.sample(5)"
   ]
  },
  {
   "cell_type": "code",
   "execution_count": 37,
   "metadata": {},
   "outputs": [
    {
     "data": {
      "text/html": [
       "<div>\n",
       "<style scoped>\n",
       "    .dataframe tbody tr th:only-of-type {\n",
       "        vertical-align: middle;\n",
       "    }\n",
       "\n",
       "    .dataframe tbody tr th {\n",
       "        vertical-align: top;\n",
       "    }\n",
       "\n",
       "    .dataframe thead th {\n",
       "        text-align: right;\n",
       "    }\n",
       "</style>\n",
       "<table border=\"1\" class=\"dataframe\">\n",
       "  <thead>\n",
       "    <tr style=\"text-align: right;\">\n",
       "      <th></th>\n",
       "      <th>messages_included</th>\n",
       "      <th>mb_per_month_included</th>\n",
       "      <th>minutes_included</th>\n",
       "      <th>rub_monthly_fee</th>\n",
       "      <th>rub_per_gb</th>\n",
       "      <th>rub_per_message</th>\n",
       "      <th>rub_per_minute</th>\n",
       "      <th>tariff_name</th>\n",
       "      <th>gb_per_month_included</th>\n",
       "    </tr>\n",
       "  </thead>\n",
       "  <tbody>\n",
       "    <tr>\n",
       "      <td>0</td>\n",
       "      <td>50</td>\n",
       "      <td>15360</td>\n",
       "      <td>500</td>\n",
       "      <td>550</td>\n",
       "      <td>200</td>\n",
       "      <td>3</td>\n",
       "      <td>3</td>\n",
       "      <td>smart</td>\n",
       "      <td>15.0</td>\n",
       "    </tr>\n",
       "    <tr>\n",
       "      <td>1</td>\n",
       "      <td>1000</td>\n",
       "      <td>30720</td>\n",
       "      <td>3000</td>\n",
       "      <td>1950</td>\n",
       "      <td>150</td>\n",
       "      <td>1</td>\n",
       "      <td>1</td>\n",
       "      <td>ultra</td>\n",
       "      <td>30.0</td>\n",
       "    </tr>\n",
       "  </tbody>\n",
       "</table>\n",
       "</div>"
      ],
      "text/plain": [
       "   messages_included  mb_per_month_included  minutes_included  \\\n",
       "0                 50                  15360               500   \n",
       "1               1000                  30720              3000   \n",
       "\n",
       "   rub_monthly_fee  rub_per_gb  rub_per_message  rub_per_minute tariff_name  \\\n",
       "0              550         200                3               3       smart   \n",
       "1             1950         150                1               1       ultra   \n",
       "\n",
       "   gb_per_month_included  \n",
       "0                   15.0  \n",
       "1                   30.0  "
      ]
     },
     "execution_count": 37,
     "metadata": {},
     "output_type": "execute_result"
    }
   ],
   "source": [
    "tariffs"
   ]
  },
  {
   "cell_type": "code",
   "execution_count": 38,
   "metadata": {},
   "outputs": [
    {
     "data": {
      "text/html": [
       "<div>\n",
       "<style scoped>\n",
       "    .dataframe tbody tr th:only-of-type {\n",
       "        vertical-align: middle;\n",
       "    }\n",
       "\n",
       "    .dataframe tbody tr th {\n",
       "        vertical-align: top;\n",
       "    }\n",
       "\n",
       "    .dataframe thead th {\n",
       "        text-align: right;\n",
       "    }\n",
       "</style>\n",
       "<table border=\"1\" class=\"dataframe\">\n",
       "  <thead>\n",
       "    <tr style=\"text-align: right;\">\n",
       "      <th></th>\n",
       "      <th>user_id</th>\n",
       "      <th>age</th>\n",
       "      <th>churn_date</th>\n",
       "      <th>city</th>\n",
       "      <th>first_name</th>\n",
       "      <th>last_name</th>\n",
       "      <th>reg_date</th>\n",
       "      <th>tariff</th>\n",
       "      <th>churn_month</th>\n",
       "      <th>reg_month</th>\n",
       "    </tr>\n",
       "  </thead>\n",
       "  <tbody>\n",
       "    <tr>\n",
       "      <td>0</td>\n",
       "      <td>1000</td>\n",
       "      <td>52</td>\n",
       "      <td>NaT</td>\n",
       "      <td>краснодар</td>\n",
       "      <td>рафаил</td>\n",
       "      <td>верещагин</td>\n",
       "      <td>2018-05-25</td>\n",
       "      <td>ultra</td>\n",
       "      <td>NaN</td>\n",
       "      <td>5</td>\n",
       "    </tr>\n",
       "    <tr>\n",
       "      <td>1</td>\n",
       "      <td>1001</td>\n",
       "      <td>41</td>\n",
       "      <td>NaT</td>\n",
       "      <td>москва</td>\n",
       "      <td>иван</td>\n",
       "      <td>ежов</td>\n",
       "      <td>2018-11-01</td>\n",
       "      <td>smart</td>\n",
       "      <td>NaN</td>\n",
       "      <td>11</td>\n",
       "    </tr>\n",
       "    <tr>\n",
       "      <td>2</td>\n",
       "      <td>1002</td>\n",
       "      <td>59</td>\n",
       "      <td>NaT</td>\n",
       "      <td>стерлитамак</td>\n",
       "      <td>евгений</td>\n",
       "      <td>абрамович</td>\n",
       "      <td>2018-06-17</td>\n",
       "      <td>smart</td>\n",
       "      <td>NaN</td>\n",
       "      <td>6</td>\n",
       "    </tr>\n",
       "    <tr>\n",
       "      <td>3</td>\n",
       "      <td>1003</td>\n",
       "      <td>23</td>\n",
       "      <td>NaT</td>\n",
       "      <td>москва</td>\n",
       "      <td>белла</td>\n",
       "      <td>белякова</td>\n",
       "      <td>2018-08-17</td>\n",
       "      <td>ultra</td>\n",
       "      <td>NaN</td>\n",
       "      <td>8</td>\n",
       "    </tr>\n",
       "    <tr>\n",
       "      <td>4</td>\n",
       "      <td>1004</td>\n",
       "      <td>68</td>\n",
       "      <td>NaT</td>\n",
       "      <td>новокузнецк</td>\n",
       "      <td>татьяна</td>\n",
       "      <td>авдеенко</td>\n",
       "      <td>2018-05-14</td>\n",
       "      <td>ultra</td>\n",
       "      <td>NaN</td>\n",
       "      <td>5</td>\n",
       "    </tr>\n",
       "  </tbody>\n",
       "</table>\n",
       "</div>"
      ],
      "text/plain": [
       "   user_id  age churn_date         city first_name  last_name   reg_date  \\\n",
       "0     1000   52        NaT    краснодар     рафаил  верещагин 2018-05-25   \n",
       "1     1001   41        NaT       москва       иван       ежов 2018-11-01   \n",
       "2     1002   59        NaT  стерлитамак    евгений  абрамович 2018-06-17   \n",
       "3     1003   23        NaT       москва      белла   белякова 2018-08-17   \n",
       "4     1004   68        NaT  новокузнецк    татьяна   авдеенко 2018-05-14   \n",
       "\n",
       "  tariff  churn_month  reg_month  \n",
       "0  ultra          NaN          5  \n",
       "1  smart          NaN         11  \n",
       "2  smart          NaN          6  \n",
       "3  ultra          NaN          8  \n",
       "4  ultra          NaN          5  "
      ]
     },
     "execution_count": 38,
     "metadata": {},
     "output_type": "execute_result"
    }
   ],
   "source": [
    "users.head(5)"
   ]
  },
  {
   "cell_type": "markdown",
   "metadata": {},
   "source": [
    "Оценим, сколько в выборке пользователей по каждому тарифу:"
   ]
  },
  {
   "cell_type": "code",
   "execution_count": 39,
   "metadata": {},
   "outputs": [
    {
     "data": {
      "text/plain": [
       "351"
      ]
     },
     "execution_count": 39,
     "metadata": {},
     "output_type": "execute_result"
    }
   ],
   "source": [
    "len(users.query('tariff == \"smart\"'))"
   ]
  },
  {
   "cell_type": "code",
   "execution_count": 40,
   "metadata": {},
   "outputs": [
    {
     "data": {
      "text/plain": [
       "149"
      ]
     },
     "execution_count": 40,
     "metadata": {},
     "output_type": "execute_result"
    }
   ],
   "source": [
    "len(users.query('tariff == \"ultra\"'))"
   ]
  },
  {
   "cell_type": "markdown",
   "metadata": {},
   "source": [
    "### Расчеты и добавление данных"
   ]
  },
  {
   "cell_type": "markdown",
   "metadata": {},
   "source": [
    "Для каждого пользователя произведем дополнительные расчеты:"
   ]
  },
  {
   "cell_type": "markdown",
   "metadata": {},
   "source": [
    "**2.2.1.** Посчитаем количество сделанных звонков по месяцам, включая пропущенные. Для этого нужно сгруппировать данные по `user_id` и `month` (категория и субкатегория) и найти количество значений по `call_id`. Сделаем это с помощью сводных таблиц и избавимся от мультииндекса:"
   ]
  },
  {
   "cell_type": "code",
   "execution_count": 41,
   "metadata": {},
   "outputs": [],
   "source": [
    "calls_pivot = calls_without_missed.pivot_table(index=['user_id', 'month'], values='call_id', aggfunc='count')\n",
    "calls_pivot_with_reset_index = calls_pivot.reset_index()"
   ]
  },
  {
   "cell_type": "markdown",
   "metadata": {},
   "source": [
    "**2.2.2.** Подобным образом подсчитаем количество (сумму) израсходованных минут разговора по месяцам:"
   ]
  },
  {
   "cell_type": "code",
   "execution_count": 42,
   "metadata": {},
   "outputs": [],
   "source": [
    "minutes_pivot = calls_without_missed.pivot_table(index=['user_id', 'month'], values='duration_round', aggfunc='sum')\n",
    "minutes_pivot_with_reset_index = minutes_pivot.reset_index()"
   ]
  },
  {
   "cell_type": "markdown",
   "metadata": {},
   "source": [
    "**2.2.3.** Посчитаем количество отправленных сообщений по месяцам:"
   ]
  },
  {
   "cell_type": "code",
   "execution_count": 43,
   "metadata": {
    "scrolled": true
   },
   "outputs": [],
   "source": [
    "messages_pivot = messages.pivot_table(index=['user_id', 'month'], values='message_id', aggfunc='count')\n",
    "messages_pivot_with_reset_index = messages_pivot.reset_index()"
   ]
  },
  {
   "cell_type": "markdown",
   "metadata": {},
   "source": [
    "**2.2.4.** Посчитаем объем израсходованного интернет-трафика по месяцам:"
   ]
  },
  {
   "cell_type": "code",
   "execution_count": 44,
   "metadata": {},
   "outputs": [],
   "source": [
    "internet_pivot = internet_success.pivot_table(index=['user_id', 'month'], values='mb_used', aggfunc ='sum')\n",
    "internet_pivot_with_reset_index = internet_pivot.reset_index()"
   ]
  },
  {
   "cell_type": "code",
   "execution_count": 45,
   "metadata": {},
   "outputs": [],
   "source": [
    "internet_pivot_with_reset_index['gb_month_round'] = np.ceil(internet_pivot_with_reset_index['mb_used'] / 1024).astype(int)"
   ]
  },
  {
   "cell_type": "markdown",
   "metadata": {},
   "source": [
    "**2.2.5.** Посчитаем помесячную выручку с каждого пользователя. При этом вычтем бесплатный лимит из суммарного количества звонков, сообщений и интернет-трафика, остаток умножим на значение из тарифного плана и прибавим абонентскую плату, соответствующую тарифному плану."
   ]
  },
  {
   "cell_type": "markdown",
   "metadata": {},
   "source": [
    "Но для начала составим таблицу, которая будет содержать информацию о пользователях, тарифах и объемах расходов минут, сообщений и трафика:"
   ]
  },
  {
   "cell_type": "code",
   "execution_count": 46,
   "metadata": {},
   "outputs": [],
   "source": [
    "data_analysis = calls_pivot_with_reset_index.merge(minutes_pivot_with_reset_index, on=['user_id', 'month'], how='outer')"
   ]
  },
  {
   "cell_type": "code",
   "execution_count": 47,
   "metadata": {},
   "outputs": [],
   "source": [
    "data_analysis = data_analysis.merge(messages_pivot_with_reset_index, on=['user_id', 'month'], how='outer')"
   ]
  },
  {
   "cell_type": "code",
   "execution_count": 48,
   "metadata": {},
   "outputs": [],
   "source": [
    "data_analysis = data_analysis.merge(internet_pivot_with_reset_index, on=['user_id', 'month'], how='outer')"
   ]
  },
  {
   "cell_type": "markdown",
   "metadata": {},
   "source": [
    "Добавим столбец с тарифом из датафрейма `users` для каждого пользователя по значению `user_id`:"
   ]
  },
  {
   "cell_type": "code",
   "execution_count": 49,
   "metadata": {},
   "outputs": [],
   "source": [
    "data_analysis = data_analysis.merge(users[['user_id','tariff','city']], on='user_id', how='outer')"
   ]
  },
  {
   "cell_type": "markdown",
   "metadata": {},
   "source": [
    "Таблица для анализа данных без лишней информации приобрела вид:"
   ]
  },
  {
   "cell_type": "code",
   "execution_count": 50,
   "metadata": {},
   "outputs": [
    {
     "data": {
      "text/html": [
       "<div>\n",
       "<style scoped>\n",
       "    .dataframe tbody tr th:only-of-type {\n",
       "        vertical-align: middle;\n",
       "    }\n",
       "\n",
       "    .dataframe tbody tr th {\n",
       "        vertical-align: top;\n",
       "    }\n",
       "\n",
       "    .dataframe thead th {\n",
       "        text-align: right;\n",
       "    }\n",
       "</style>\n",
       "<table border=\"1\" class=\"dataframe\">\n",
       "  <thead>\n",
       "    <tr style=\"text-align: right;\">\n",
       "      <th></th>\n",
       "      <th>user_id</th>\n",
       "      <th>month</th>\n",
       "      <th>call_id</th>\n",
       "      <th>duration_round</th>\n",
       "      <th>message_id</th>\n",
       "      <th>mb_used</th>\n",
       "      <th>gb_month_round</th>\n",
       "      <th>tariff</th>\n",
       "      <th>city</th>\n",
       "    </tr>\n",
       "  </thead>\n",
       "  <tbody>\n",
       "    <tr>\n",
       "      <td>0</td>\n",
       "      <td>1000</td>\n",
       "      <td>5.0</td>\n",
       "      <td>17.0</td>\n",
       "      <td>159.0</td>\n",
       "      <td>22.0</td>\n",
       "      <td>2253.49</td>\n",
       "      <td>3.0</td>\n",
       "      <td>ultra</td>\n",
       "      <td>краснодар</td>\n",
       "    </tr>\n",
       "    <tr>\n",
       "      <td>1</td>\n",
       "      <td>1000</td>\n",
       "      <td>6.0</td>\n",
       "      <td>28.0</td>\n",
       "      <td>172.0</td>\n",
       "      <td>60.0</td>\n",
       "      <td>23233.77</td>\n",
       "      <td>23.0</td>\n",
       "      <td>ultra</td>\n",
       "      <td>краснодар</td>\n",
       "    </tr>\n",
       "    <tr>\n",
       "      <td>2</td>\n",
       "      <td>1000</td>\n",
       "      <td>7.0</td>\n",
       "      <td>41.0</td>\n",
       "      <td>340.0</td>\n",
       "      <td>75.0</td>\n",
       "      <td>14003.64</td>\n",
       "      <td>14.0</td>\n",
       "      <td>ultra</td>\n",
       "      <td>краснодар</td>\n",
       "    </tr>\n",
       "    <tr>\n",
       "      <td>3</td>\n",
       "      <td>1000</td>\n",
       "      <td>8.0</td>\n",
       "      <td>42.0</td>\n",
       "      <td>408.0</td>\n",
       "      <td>81.0</td>\n",
       "      <td>14055.93</td>\n",
       "      <td>14.0</td>\n",
       "      <td>ultra</td>\n",
       "      <td>краснодар</td>\n",
       "    </tr>\n",
       "    <tr>\n",
       "      <td>4</td>\n",
       "      <td>1000</td>\n",
       "      <td>9.0</td>\n",
       "      <td>46.0</td>\n",
       "      <td>466.0</td>\n",
       "      <td>57.0</td>\n",
       "      <td>14568.91</td>\n",
       "      <td>15.0</td>\n",
       "      <td>ultra</td>\n",
       "      <td>краснодар</td>\n",
       "    </tr>\n",
       "  </tbody>\n",
       "</table>\n",
       "</div>"
      ],
      "text/plain": [
       "   user_id  month  call_id  duration_round  message_id   mb_used  \\\n",
       "0     1000    5.0     17.0           159.0        22.0   2253.49   \n",
       "1     1000    6.0     28.0           172.0        60.0  23233.77   \n",
       "2     1000    7.0     41.0           340.0        75.0  14003.64   \n",
       "3     1000    8.0     42.0           408.0        81.0  14055.93   \n",
       "4     1000    9.0     46.0           466.0        57.0  14568.91   \n",
       "\n",
       "   gb_month_round tariff       city  \n",
       "0             3.0  ultra  краснодар  \n",
       "1            23.0  ultra  краснодар  \n",
       "2            14.0  ultra  краснодар  \n",
       "3            14.0  ultra  краснодар  \n",
       "4            15.0  ultra  краснодар  "
      ]
     },
     "execution_count": 50,
     "metadata": {},
     "output_type": "execute_result"
    }
   ],
   "source": [
    "data_analysis.head(5)"
   ]
  },
  {
   "cell_type": "code",
   "execution_count": 51,
   "metadata": {},
   "outputs": [
    {
     "data": {
      "text/html": [
       "<div>\n",
       "<style scoped>\n",
       "    .dataframe tbody tr th:only-of-type {\n",
       "        vertical-align: middle;\n",
       "    }\n",
       "\n",
       "    .dataframe tbody tr th {\n",
       "        vertical-align: top;\n",
       "    }\n",
       "\n",
       "    .dataframe thead th {\n",
       "        text-align: right;\n",
       "    }\n",
       "</style>\n",
       "<table border=\"1\" class=\"dataframe\">\n",
       "  <thead>\n",
       "    <tr style=\"text-align: right;\">\n",
       "      <th></th>\n",
       "      <th>user_id</th>\n",
       "      <th>month</th>\n",
       "      <th>call_id</th>\n",
       "      <th>duration_round</th>\n",
       "      <th>message_id</th>\n",
       "      <th>mb_used</th>\n",
       "      <th>gb_month_round</th>\n",
       "    </tr>\n",
       "  </thead>\n",
       "  <tbody>\n",
       "    <tr>\n",
       "      <td>count</td>\n",
       "      <td>3216.000000</td>\n",
       "      <td>3214.000000</td>\n",
       "      <td>3168.000000</td>\n",
       "      <td>3168.000000</td>\n",
       "      <td>2717.000000</td>\n",
       "      <td>3201.000000</td>\n",
       "      <td>3201.000000</td>\n",
       "    </tr>\n",
       "    <tr>\n",
       "      <td>mean</td>\n",
       "      <td>1251.588930</td>\n",
       "      <td>8.317362</td>\n",
       "      <td>51.450126</td>\n",
       "      <td>457.797033</td>\n",
       "      <td>45.283769</td>\n",
       "      <td>17277.496948</td>\n",
       "      <td>17.369260</td>\n",
       "    </tr>\n",
       "    <tr>\n",
       "      <td>std</td>\n",
       "      <td>144.645928</td>\n",
       "      <td>2.905413</td>\n",
       "      <td>26.439188</td>\n",
       "      <td>237.423514</td>\n",
       "      <td>35.051363</td>\n",
       "      <td>7506.295851</td>\n",
       "      <td>7.332836</td>\n",
       "    </tr>\n",
       "    <tr>\n",
       "      <td>min</td>\n",
       "      <td>1000.000000</td>\n",
       "      <td>1.000000</td>\n",
       "      <td>1.000000</td>\n",
       "      <td>1.000000</td>\n",
       "      <td>1.000000</td>\n",
       "      <td>201.070000</td>\n",
       "      <td>1.000000</td>\n",
       "    </tr>\n",
       "    <tr>\n",
       "      <td>25%</td>\n",
       "      <td>1125.000000</td>\n",
       "      <td>6.000000</td>\n",
       "      <td>33.000000</td>\n",
       "      <td>290.750000</td>\n",
       "      <td>19.000000</td>\n",
       "      <td>12550.910000</td>\n",
       "      <td>13.000000</td>\n",
       "    </tr>\n",
       "    <tr>\n",
       "      <td>50%</td>\n",
       "      <td>1253.000000</td>\n",
       "      <td>9.000000</td>\n",
       "      <td>50.000000</td>\n",
       "      <td>447.500000</td>\n",
       "      <td>38.000000</td>\n",
       "      <td>16963.980000</td>\n",
       "      <td>17.000000</td>\n",
       "    </tr>\n",
       "    <tr>\n",
       "      <td>75%</td>\n",
       "      <td>1378.250000</td>\n",
       "      <td>11.000000</td>\n",
       "      <td>67.000000</td>\n",
       "      <td>592.250000</td>\n",
       "      <td>63.000000</td>\n",
       "      <td>21436.370000</td>\n",
       "      <td>21.000000</td>\n",
       "    </tr>\n",
       "    <tr>\n",
       "      <td>max</td>\n",
       "      <td>1499.000000</td>\n",
       "      <td>12.000000</td>\n",
       "      <td>190.000000</td>\n",
       "      <td>1673.000000</td>\n",
       "      <td>224.000000</td>\n",
       "      <td>49745.690000</td>\n",
       "      <td>49.000000</td>\n",
       "    </tr>\n",
       "  </tbody>\n",
       "</table>\n",
       "</div>"
      ],
      "text/plain": [
       "           user_id        month      call_id  duration_round   message_id  \\\n",
       "count  3216.000000  3214.000000  3168.000000     3168.000000  2717.000000   \n",
       "mean   1251.588930     8.317362    51.450126      457.797033    45.283769   \n",
       "std     144.645928     2.905413    26.439188      237.423514    35.051363   \n",
       "min    1000.000000     1.000000     1.000000        1.000000     1.000000   \n",
       "25%    1125.000000     6.000000    33.000000      290.750000    19.000000   \n",
       "50%    1253.000000     9.000000    50.000000      447.500000    38.000000   \n",
       "75%    1378.250000    11.000000    67.000000      592.250000    63.000000   \n",
       "max    1499.000000    12.000000   190.000000     1673.000000   224.000000   \n",
       "\n",
       "            mb_used  gb_month_round  \n",
       "count   3201.000000     3201.000000  \n",
       "mean   17277.496948       17.369260  \n",
       "std     7506.295851        7.332836  \n",
       "min      201.070000        1.000000  \n",
       "25%    12550.910000       13.000000  \n",
       "50%    16963.980000       17.000000  \n",
       "75%    21436.370000       21.000000  \n",
       "max    49745.690000       49.000000  "
      ]
     },
     "execution_count": 51,
     "metadata": {},
     "output_type": "execute_result"
    }
   ],
   "source": [
    "data_analysis.describe()"
   ]
  },
  {
   "cell_type": "markdown",
   "metadata": {},
   "source": [
    "**Анализ параметров таблицы говорит о том, что данные хорошо отфильтрованы: в них отсутствуют выбросы (т.к. средние значения и медианы достаточно близки по величине) и нулевые значения.**"
   ]
  },
  {
   "cell_type": "markdown",
   "metadata": {},
   "source": [
    "Создадим собственные функции для подсчета выручки за каждый пакет услуг:"
   ]
  },
  {
   "cell_type": "code",
   "execution_count": 52,
   "metadata": {},
   "outputs": [],
   "source": [
    "def minutes_income(row):\n",
    "    minutes = row['duration_round']\n",
    "    tariff = row['tariff']\n",
    "    if (tariff == 'smart'):\n",
    "        tariff_index = 0\n",
    "    else:\n",
    "        tariff_index = 1\n",
    "    minutes_remainder = tariffs['minutes_included'][tariff_index] - minutes\n",
    "    if minutes_remainder < 0:\n",
    "        minutes_money = abs(minutes_remainder) * tariffs['rub_per_minute'][tariff_index]\n",
    "    else:\n",
    "        minutes_money = 0\n",
    "    return minutes_money"
   ]
  },
  {
   "cell_type": "code",
   "execution_count": 53,
   "metadata": {},
   "outputs": [],
   "source": [
    "data_analysis['calls_income'] = data_analysis.apply(minutes_income, axis=1)"
   ]
  },
  {
   "cell_type": "code",
   "execution_count": 54,
   "metadata": {},
   "outputs": [],
   "source": [
    "def messages_income(row):\n",
    "    messages = row['message_id']\n",
    "    tariff = row['tariff']\n",
    "    if (tariff == 'smart'):\n",
    "        tariff_index = 0\n",
    "    else:\n",
    "        tariff_index = 1\n",
    "    messages_remainder = tariffs['messages_included'][tariff_index] - messages\n",
    "    if messages_remainder < 0:\n",
    "        messages_money = abs(messages_remainder) * tariffs['rub_per_message'][tariff_index]\n",
    "    else:\n",
    "        messages_money = 0\n",
    "    return messages_money"
   ]
  },
  {
   "cell_type": "code",
   "execution_count": 55,
   "metadata": {},
   "outputs": [],
   "source": [
    "data_analysis['messages_income'] = data_analysis.apply(messages_income, axis=1)"
   ]
  },
  {
   "cell_type": "code",
   "execution_count": 56,
   "metadata": {},
   "outputs": [],
   "source": [
    "def internet_income(row):\n",
    "    internet = row['gb_month_round']\n",
    "    tariff = row['tariff']\n",
    "    if (tariff == 'smart'):\n",
    "        tariff_index = 0\n",
    "    else:\n",
    "        tariff_index = 1\n",
    "    internet_remainder = tariffs['gb_per_month_included'][tariff_index] - internet\n",
    "    if internet_remainder < 0:\n",
    "        internet_money = abs(internet_remainder) * tariffs['rub_per_gb'][tariff_index]\n",
    "    else:\n",
    "        internet_money = 0\n",
    "    return internet_money"
   ]
  },
  {
   "cell_type": "code",
   "execution_count": 57,
   "metadata": {},
   "outputs": [],
   "source": [
    "data_analysis['internet_income'] = data_analysis.apply(internet_income, axis=1)"
   ]
  },
  {
   "cell_type": "markdown",
   "metadata": {},
   "source": [
    "Теперь учтем абонентскую плату согласно тарифу и просуммируем ее со стоимостью фактически потраченных пакетов услуг. Сделаем это также с помощью пользовательской функции:"
   ]
  },
  {
   "cell_type": "code",
   "execution_count": 58,
   "metadata": {},
   "outputs": [],
   "source": [
    "def total_income(row):\n",
    "    calls = row['calls_income']\n",
    "    messages = row['messages_income']\n",
    "    internet = row['internet_income']\n",
    "    tariff = row['tariff']\n",
    "    if (tariff == 'smart'):\n",
    "        tariff_index = 0\n",
    "    else:\n",
    "        tariff_index = 1\n",
    "    total = tariffs['rub_monthly_fee'][tariff_index] + calls + messages + internet\n",
    "    return total"
   ]
  },
  {
   "cell_type": "code",
   "execution_count": 59,
   "metadata": {},
   "outputs": [],
   "source": [
    "data_analysis['total_income'] = data_analysis.apply(total_income, axis=1)"
   ]
  },
  {
   "cell_type": "code",
   "execution_count": 60,
   "metadata": {
    "scrolled": true
   },
   "outputs": [
    {
     "data": {
      "text/html": [
       "<div>\n",
       "<style scoped>\n",
       "    .dataframe tbody tr th:only-of-type {\n",
       "        vertical-align: middle;\n",
       "    }\n",
       "\n",
       "    .dataframe tbody tr th {\n",
       "        vertical-align: top;\n",
       "    }\n",
       "\n",
       "    .dataframe thead th {\n",
       "        text-align: right;\n",
       "    }\n",
       "</style>\n",
       "<table border=\"1\" class=\"dataframe\">\n",
       "  <thead>\n",
       "    <tr style=\"text-align: right;\">\n",
       "      <th></th>\n",
       "      <th>user_id</th>\n",
       "      <th>month</th>\n",
       "      <th>call_id</th>\n",
       "      <th>duration_round</th>\n",
       "      <th>message_id</th>\n",
       "      <th>mb_used</th>\n",
       "      <th>gb_month_round</th>\n",
       "      <th>tariff</th>\n",
       "      <th>city</th>\n",
       "      <th>calls_income</th>\n",
       "      <th>messages_income</th>\n",
       "      <th>internet_income</th>\n",
       "      <th>total_income</th>\n",
       "    </tr>\n",
       "  </thead>\n",
       "  <tbody>\n",
       "    <tr>\n",
       "      <td>1761</td>\n",
       "      <td>1282</td>\n",
       "      <td>7.0</td>\n",
       "      <td>82.0</td>\n",
       "      <td>748.0</td>\n",
       "      <td>64.0</td>\n",
       "      <td>13229.40</td>\n",
       "      <td>13.0</td>\n",
       "      <td>smart</td>\n",
       "      <td>ульяновск</td>\n",
       "      <td>744.0</td>\n",
       "      <td>42.0</td>\n",
       "      <td>0.0</td>\n",
       "      <td>1336.0</td>\n",
       "    </tr>\n",
       "    <tr>\n",
       "      <td>387</td>\n",
       "      <td>1061</td>\n",
       "      <td>10.0</td>\n",
       "      <td>64.0</td>\n",
       "      <td>588.0</td>\n",
       "      <td>9.0</td>\n",
       "      <td>16601.99</td>\n",
       "      <td>17.0</td>\n",
       "      <td>smart</td>\n",
       "      <td>санкт-петербург</td>\n",
       "      <td>264.0</td>\n",
       "      <td>0.0</td>\n",
       "      <td>400.0</td>\n",
       "      <td>1214.0</td>\n",
       "    </tr>\n",
       "    <tr>\n",
       "      <td>1396</td>\n",
       "      <td>1221</td>\n",
       "      <td>11.0</td>\n",
       "      <td>38.0</td>\n",
       "      <td>348.0</td>\n",
       "      <td>26.0</td>\n",
       "      <td>8376.60</td>\n",
       "      <td>9.0</td>\n",
       "      <td>smart</td>\n",
       "      <td>белгород</td>\n",
       "      <td>0.0</td>\n",
       "      <td>0.0</td>\n",
       "      <td>0.0</td>\n",
       "      <td>550.0</td>\n",
       "    </tr>\n",
       "    <tr>\n",
       "      <td>2181</td>\n",
       "      <td>1350</td>\n",
       "      <td>9.0</td>\n",
       "      <td>40.0</td>\n",
       "      <td>303.0</td>\n",
       "      <td>42.0</td>\n",
       "      <td>18679.34</td>\n",
       "      <td>19.0</td>\n",
       "      <td>ultra</td>\n",
       "      <td>омск</td>\n",
       "      <td>0.0</td>\n",
       "      <td>0.0</td>\n",
       "      <td>0.0</td>\n",
       "      <td>1950.0</td>\n",
       "    </tr>\n",
       "    <tr>\n",
       "      <td>2633</td>\n",
       "      <td>1415</td>\n",
       "      <td>6.0</td>\n",
       "      <td>5.0</td>\n",
       "      <td>43.0</td>\n",
       "      <td>3.0</td>\n",
       "      <td>2538.67</td>\n",
       "      <td>3.0</td>\n",
       "      <td>ultra</td>\n",
       "      <td>москва</td>\n",
       "      <td>0.0</td>\n",
       "      <td>0.0</td>\n",
       "      <td>0.0</td>\n",
       "      <td>1950.0</td>\n",
       "    </tr>\n",
       "    <tr>\n",
       "      <td>1589</td>\n",
       "      <td>1254</td>\n",
       "      <td>6.0</td>\n",
       "      <td>61.0</td>\n",
       "      <td>562.0</td>\n",
       "      <td>NaN</td>\n",
       "      <td>22924.77</td>\n",
       "      <td>23.0</td>\n",
       "      <td>ultra</td>\n",
       "      <td>москва</td>\n",
       "      <td>0.0</td>\n",
       "      <td>0.0</td>\n",
       "      <td>0.0</td>\n",
       "      <td>1950.0</td>\n",
       "    </tr>\n",
       "    <tr>\n",
       "      <td>2288</td>\n",
       "      <td>1367</td>\n",
       "      <td>9.0</td>\n",
       "      <td>35.0</td>\n",
       "      <td>318.0</td>\n",
       "      <td>NaN</td>\n",
       "      <td>11486.65</td>\n",
       "      <td>12.0</td>\n",
       "      <td>ultra</td>\n",
       "      <td>москва</td>\n",
       "      <td>0.0</td>\n",
       "      <td>0.0</td>\n",
       "      <td>0.0</td>\n",
       "      <td>1950.0</td>\n",
       "    </tr>\n",
       "    <tr>\n",
       "      <td>2119</td>\n",
       "      <td>1338</td>\n",
       "      <td>10.0</td>\n",
       "      <td>20.0</td>\n",
       "      <td>186.0</td>\n",
       "      <td>34.0</td>\n",
       "      <td>17166.42</td>\n",
       "      <td>17.0</td>\n",
       "      <td>smart</td>\n",
       "      <td>москва</td>\n",
       "      <td>0.0</td>\n",
       "      <td>0.0</td>\n",
       "      <td>400.0</td>\n",
       "      <td>950.0</td>\n",
       "    </tr>\n",
       "    <tr>\n",
       "      <td>2303</td>\n",
       "      <td>1370</td>\n",
       "      <td>8.0</td>\n",
       "      <td>14.0</td>\n",
       "      <td>123.0</td>\n",
       "      <td>NaN</td>\n",
       "      <td>18743.46</td>\n",
       "      <td>19.0</td>\n",
       "      <td>smart</td>\n",
       "      <td>новороссийск</td>\n",
       "      <td>0.0</td>\n",
       "      <td>0.0</td>\n",
       "      <td>800.0</td>\n",
       "      <td>1350.0</td>\n",
       "    </tr>\n",
       "    <tr>\n",
       "      <td>2749</td>\n",
       "      <td>1431</td>\n",
       "      <td>4.0</td>\n",
       "      <td>29.0</td>\n",
       "      <td>266.0</td>\n",
       "      <td>72.0</td>\n",
       "      <td>19921.77</td>\n",
       "      <td>20.0</td>\n",
       "      <td>smart</td>\n",
       "      <td>уфа</td>\n",
       "      <td>0.0</td>\n",
       "      <td>66.0</td>\n",
       "      <td>1000.0</td>\n",
       "      <td>1616.0</td>\n",
       "    </tr>\n",
       "  </tbody>\n",
       "</table>\n",
       "</div>"
      ],
      "text/plain": [
       "      user_id  month  call_id  duration_round  message_id   mb_used  \\\n",
       "1761     1282    7.0     82.0           748.0        64.0  13229.40   \n",
       "387      1061   10.0     64.0           588.0         9.0  16601.99   \n",
       "1396     1221   11.0     38.0           348.0        26.0   8376.60   \n",
       "2181     1350    9.0     40.0           303.0        42.0  18679.34   \n",
       "2633     1415    6.0      5.0            43.0         3.0   2538.67   \n",
       "1589     1254    6.0     61.0           562.0         NaN  22924.77   \n",
       "2288     1367    9.0     35.0           318.0         NaN  11486.65   \n",
       "2119     1338   10.0     20.0           186.0        34.0  17166.42   \n",
       "2303     1370    8.0     14.0           123.0         NaN  18743.46   \n",
       "2749     1431    4.0     29.0           266.0        72.0  19921.77   \n",
       "\n",
       "      gb_month_round tariff             city  calls_income  messages_income  \\\n",
       "1761            13.0  smart        ульяновск         744.0             42.0   \n",
       "387             17.0  smart  санкт-петербург         264.0              0.0   \n",
       "1396             9.0  smart         белгород           0.0              0.0   \n",
       "2181            19.0  ultra             омск           0.0              0.0   \n",
       "2633             3.0  ultra           москва           0.0              0.0   \n",
       "1589            23.0  ultra           москва           0.0              0.0   \n",
       "2288            12.0  ultra           москва           0.0              0.0   \n",
       "2119            17.0  smart           москва           0.0              0.0   \n",
       "2303            19.0  smart     новороссийск           0.0              0.0   \n",
       "2749            20.0  smart              уфа           0.0             66.0   \n",
       "\n",
       "      internet_income  total_income  \n",
       "1761              0.0        1336.0  \n",
       "387             400.0        1214.0  \n",
       "1396              0.0         550.0  \n",
       "2181              0.0        1950.0  \n",
       "2633              0.0        1950.0  \n",
       "1589              0.0        1950.0  \n",
       "2288              0.0        1950.0  \n",
       "2119            400.0         950.0  \n",
       "2303            800.0        1350.0  \n",
       "2749           1000.0        1616.0  "
      ]
     },
     "execution_count": 60,
     "metadata": {},
     "output_type": "execute_result"
    }
   ],
   "source": [
    "data_analysis.sample(10)"
   ]
  },
  {
   "cell_type": "code",
   "execution_count": 61,
   "metadata": {
    "scrolled": true
   },
   "outputs": [
    {
     "name": "stdout",
     "output_type": "stream",
     "text": [
      "<class 'pandas.core.frame.DataFrame'>\n",
      "Int64Index: 3216 entries, 0 to 3215\n",
      "Data columns (total 13 columns):\n",
      "user_id            3216 non-null int64\n",
      "month              3214 non-null float64\n",
      "call_id            3168 non-null float64\n",
      "duration_round     3168 non-null float64\n",
      "message_id         2717 non-null float64\n",
      "mb_used            3201 non-null float64\n",
      "gb_month_round     3201 non-null float64\n",
      "tariff             3216 non-null object\n",
      "city               3216 non-null object\n",
      "calls_income       3216 non-null float64\n",
      "messages_income    3216 non-null float64\n",
      "internet_income    3216 non-null float64\n",
      "total_income       3216 non-null float64\n",
      "dtypes: float64(10), int64(1), object(2)\n",
      "memory usage: 351.8+ KB\n"
     ]
    }
   ],
   "source": [
    "data_analysis.info()"
   ]
  },
  {
   "cell_type": "markdown",
   "metadata": {},
   "source": [
    "### Вывод"
   ]
  },
  {
   "cell_type": "markdown",
   "metadata": {},
   "source": [
    "- Проведена предобработка данных: удалены лишние столбцы; изменены типы данных; изменен регистр в данных типа `object`; отфильтрованы нулевые значения.\n",
    "- Проведен расчет и добавлены новые столбцы, которые содержат информацию, необходимую для дальнейшего исследования.\n",
    "- Создана таблица `data_analisys`, содержащая \"интегрирующие\" данные для исследовательского анализа."
   ]
  },
  {
   "cell_type": "markdown",
   "metadata": {},
   "source": [
    "<a id='step3'></a>\n",
    "## Анализ данных по тарифам"
   ]
  },
  {
   "cell_type": "markdown",
   "metadata": {},
   "source": [
    "Определим среднее количество минут разговора, сообщений и объем интернет-трафика пользователей каждого тарифа в месяц. Построим гистограммы. Опишем распределения.\n",
    "\n",
    "При этом следует помнить, что:\n",
    "- *дисперсия* характеризует меру разброса величины около ее среднего значения, то есть это мера рассеивания данных;\n",
    "- *среднеквадратическое отклонение (СКО)* определяет, на сколько каждое значение выборки в среднем отличается от среднего значения выборки."
   ]
  },
  {
   "cell_type": "markdown",
   "metadata": {},
   "source": [
    "### Количество минут разговора по тарифам"
   ]
  },
  {
   "cell_type": "markdown",
   "metadata": {},
   "source": [
    "Создадим сводную таблицу, которая будет отображать среднее количество минут разговора по каждому тарифу в месяц по всем пользователям:"
   ]
  },
  {
   "cell_type": "code",
   "execution_count": 62,
   "metadata": {},
   "outputs": [],
   "source": [
    "mean_calls_per_month = data_analysis.pivot_table(\n",
    "    index='month',\n",
    "    columns='tariff',\n",
    "    values='duration_round',\n",
    "    aggfunc='mean'\n",
    ").reset_index().round(0).astype(int)"
   ]
  },
  {
   "cell_type": "code",
   "execution_count": 63,
   "metadata": {},
   "outputs": [
    {
     "data": {
      "text/html": [
       "<div>\n",
       "<style scoped>\n",
       "    .dataframe tbody tr th:only-of-type {\n",
       "        vertical-align: middle;\n",
       "    }\n",
       "\n",
       "    .dataframe tbody tr th {\n",
       "        vertical-align: top;\n",
       "    }\n",
       "\n",
       "    .dataframe thead th {\n",
       "        text-align: right;\n",
       "    }\n",
       "</style>\n",
       "<table border=\"1\" class=\"dataframe\">\n",
       "  <thead>\n",
       "    <tr style=\"text-align: right;\">\n",
       "      <th>tariff</th>\n",
       "      <th>month</th>\n",
       "      <th>smart</th>\n",
       "      <th>ultra</th>\n",
       "    </tr>\n",
       "  </thead>\n",
       "  <tbody>\n",
       "    <tr>\n",
       "      <td>0</td>\n",
       "      <td>1</td>\n",
       "      <td>210</td>\n",
       "      <td>428</td>\n",
       "    </tr>\n",
       "    <tr>\n",
       "      <td>1</td>\n",
       "      <td>2</td>\n",
       "      <td>299</td>\n",
       "      <td>310</td>\n",
       "    </tr>\n",
       "    <tr>\n",
       "      <td>2</td>\n",
       "      <td>3</td>\n",
       "      <td>390</td>\n",
       "      <td>490</td>\n",
       "    </tr>\n",
       "    <tr>\n",
       "      <td>3</td>\n",
       "      <td>4</td>\n",
       "      <td>370</td>\n",
       "      <td>475</td>\n",
       "    </tr>\n",
       "    <tr>\n",
       "      <td>4</td>\n",
       "      <td>5</td>\n",
       "      <td>387</td>\n",
       "      <td>534</td>\n",
       "    </tr>\n",
       "    <tr>\n",
       "      <td>5</td>\n",
       "      <td>6</td>\n",
       "      <td>398</td>\n",
       "      <td>497</td>\n",
       "    </tr>\n",
       "    <tr>\n",
       "      <td>6</td>\n",
       "      <td>7</td>\n",
       "      <td>408</td>\n",
       "      <td>571</td>\n",
       "    </tr>\n",
       "    <tr>\n",
       "      <td>7</td>\n",
       "      <td>8</td>\n",
       "      <td>423</td>\n",
       "      <td>536</td>\n",
       "    </tr>\n",
       "    <tr>\n",
       "      <td>8</td>\n",
       "      <td>9</td>\n",
       "      <td>430</td>\n",
       "      <td>564</td>\n",
       "    </tr>\n",
       "    <tr>\n",
       "      <td>9</td>\n",
       "      <td>10</td>\n",
       "      <td>428</td>\n",
       "      <td>582</td>\n",
       "    </tr>\n",
       "    <tr>\n",
       "      <td>10</td>\n",
       "      <td>11</td>\n",
       "      <td>437</td>\n",
       "      <td>562</td>\n",
       "    </tr>\n",
       "    <tr>\n",
       "      <td>11</td>\n",
       "      <td>12</td>\n",
       "      <td>480</td>\n",
       "      <td>615</td>\n",
       "    </tr>\n",
       "  </tbody>\n",
       "</table>\n",
       "</div>"
      ],
      "text/plain": [
       "tariff  month  smart  ultra\n",
       "0           1    210    428\n",
       "1           2    299    310\n",
       "2           3    390    490\n",
       "3           4    370    475\n",
       "4           5    387    534\n",
       "5           6    398    497\n",
       "6           7    408    571\n",
       "7           8    423    536\n",
       "8           9    430    564\n",
       "9          10    428    582\n",
       "10         11    437    562\n",
       "11         12    480    615"
      ]
     },
     "execution_count": 63,
     "metadata": {},
     "output_type": "execute_result"
    }
   ],
   "source": [
    "mean_calls_per_month"
   ]
  },
  {
   "cell_type": "markdown",
   "metadata": {},
   "source": [
    "Построитм столбчатую диаграмму, визуализирующую полученные результаты:"
   ]
  },
  {
   "cell_type": "code",
   "execution_count": 64,
   "metadata": {
    "scrolled": false
   },
   "outputs": [
    {
     "data": {
      "text/plain": [
       "Text(0.5, 1.0, 'Среднее количество минут разговоров по тарифам')"
      ]
     },
     "execution_count": 64,
     "metadata": {},
     "output_type": "execute_result"
    },
    {
     "data": {
      "image/png": "[encoded data removed]",
      "text/plain": [
       "<Figure size 720x288 with 1 Axes>"
      ]
     },
     "metadata": {
      "needs_background": "light"
     },
     "output_type": "display_data"
    }
   ],
   "source": [
    "mean_calls_per_month.plot.bar(x='month', figsize=(10,4), grid=True)\n",
    "plt.xlabel('Месяц')\n",
    "plt.ylabel('Минуты')\n",
    "plt.title('Среднее количество минут разговоров по тарифам')"
   ]
  },
  {
   "cell_type": "markdown",
   "metadata": {},
   "source": [
    "Рассчитаем центральную метрику (среднее значение) данных по звонкам для двух тарифов и метрики оценки вариативности данных (дисперсию и СКО), которые количественно определяют разброс данных:"
   ]
  },
  {
   "cell_type": "code",
   "execution_count": 65,
   "metadata": {
    "scrolled": true
   },
   "outputs": [
    {
     "name": "stdout",
     "output_type": "stream",
     "text": [
      "Средняя длительность звонков в выборке для тарифа Smart: 419.44\n",
      "Средняя длительность звонков в выборке для тарифа Ultra: 547.76\n"
     ]
    }
   ],
   "source": [
    "mean_calls_smart = np.mean(data_analysis.query('tariff == \"smart\"')['duration_round']).round(2)\n",
    "mean_calls_ultra = np.mean(data_analysis.query('tariff == \"ultra\"')['duration_round']).round(2)\n",
    "print('Средняя длительность звонков в выборке для тарифа Smart:', mean_calls_smart)\n",
    "print('Средняя длительность звонков в выборке для тарифа Ultra:', mean_calls_ultra)"
   ]
  },
  {
   "cell_type": "code",
   "execution_count": 66,
   "metadata": {},
   "outputs": [
    {
     "name": "stdout",
     "output_type": "stream",
     "text": [
      "Дисперсия длительности звонков в выборке для тарифа Smart: 35718.13\n",
      "Дисперсия длительности звонков в выборке для тарифа Ultra: 93338.43\n"
     ]
    }
   ],
   "source": [
    "variance_calls_smart = np.var(data_analysis.query('tariff == \"smart\"')['duration_round'], ddof=1).round(2)\n",
    "variance_calls_ultra = np.var(data_analysis.query('tariff == \"ultra\"')['duration_round'], ddof=1).round(2)\n",
    "print('Дисперсия длительности звонков в выборке для тарифа Smart:', variance_calls_smart)\n",
    "print('Дисперсия длительности звонков в выборке для тарифа Ultra:', variance_calls_ultra)"
   ]
  },
  {
   "cell_type": "code",
   "execution_count": 67,
   "metadata": {},
   "outputs": [
    {
     "name": "stdout",
     "output_type": "stream",
     "text": [
      "СКО длительности звонков в выборке для тарифа Smart: 188.99\n",
      "СКО длительности звонков в выборке для тарифа Ultra: 305.51\n"
     ]
    }
   ],
   "source": [
    "st_dev_calls_smart = np.std(data_analysis.query('tariff == \"smart\"')['duration_round'], ddof=1).round(2)\n",
    "st_dev_calls_ultra = np.std(data_analysis.query('tariff == \"ultra\"')['duration_round'], ddof=1).round(2)\n",
    "print('СКО длительности звонков в выборке для тарифа Smart:', st_dev_calls_smart)\n",
    "print('СКО длительности звонков в выборке для тарифа Ultra:', st_dev_calls_ultra)"
   ]
  },
  {
   "cell_type": "code",
   "execution_count": 68,
   "metadata": {
    "scrolled": true
   },
   "outputs": [
    {
     "data": {
      "text/plain": [
       "<matplotlib.axes._subplots.AxesSubplot at 0x7f444fc27f10>"
      ]
     },
     "execution_count": 68,
     "metadata": {},
     "output_type": "execute_result"
    },
    {
     "data": {
      "image/png": "[encoded data removed]",
      "text/plain": [
       "<Figure size 432x288 with 1 Axes>"
      ]
     },
     "metadata": {
      "needs_background": "light"
     },
     "output_type": "display_data"
    }
   ],
   "source": [
    "sns.boxplot(y='duration_round', x='tariff', data=data_analysis)"
   ]
  },
  {
   "cell_type": "markdown",
   "metadata": {},
   "source": [
    "### Количество сообщений по тарифам"
   ]
  },
  {
   "cell_type": "markdown",
   "metadata": {},
   "source": [
    "Аналогичным образом обработаем данные по сообщениям:"
   ]
  },
  {
   "cell_type": "code",
   "execution_count": 69,
   "metadata": {},
   "outputs": [],
   "source": [
    "mean_messages_per_month = data_analysis.pivot_table(\n",
    "    index='month',\n",
    "    columns='tariff',\n",
    "    values='message_id',\n",
    "    aggfunc='mean'\n",
    ").reset_index().round(0).astype(int)"
   ]
  },
  {
   "cell_type": "code",
   "execution_count": 70,
   "metadata": {},
   "outputs": [
    {
     "data": {
      "text/html": [
       "<div>\n",
       "<style scoped>\n",
       "    .dataframe tbody tr th:only-of-type {\n",
       "        vertical-align: middle;\n",
       "    }\n",
       "\n",
       "    .dataframe tbody tr th {\n",
       "        vertical-align: top;\n",
       "    }\n",
       "\n",
       "    .dataframe thead th {\n",
       "        text-align: right;\n",
       "    }\n",
       "</style>\n",
       "<table border=\"1\" class=\"dataframe\">\n",
       "  <thead>\n",
       "    <tr style=\"text-align: right;\">\n",
       "      <th>tariff</th>\n",
       "      <th>month</th>\n",
       "      <th>smart</th>\n",
       "      <th>ultra</th>\n",
       "    </tr>\n",
       "  </thead>\n",
       "  <tbody>\n",
       "    <tr>\n",
       "      <td>0</td>\n",
       "      <td>1</td>\n",
       "      <td>20</td>\n",
       "      <td>43</td>\n",
       "    </tr>\n",
       "    <tr>\n",
       "      <td>1</td>\n",
       "      <td>2</td>\n",
       "      <td>28</td>\n",
       "      <td>33</td>\n",
       "    </tr>\n",
       "    <tr>\n",
       "      <td>2</td>\n",
       "      <td>3</td>\n",
       "      <td>36</td>\n",
       "      <td>48</td>\n",
       "    </tr>\n",
       "    <tr>\n",
       "      <td>3</td>\n",
       "      <td>4</td>\n",
       "      <td>36</td>\n",
       "      <td>45</td>\n",
       "    </tr>\n",
       "    <tr>\n",
       "      <td>4</td>\n",
       "      <td>5</td>\n",
       "      <td>39</td>\n",
       "      <td>49</td>\n",
       "    </tr>\n",
       "    <tr>\n",
       "      <td>5</td>\n",
       "      <td>6</td>\n",
       "      <td>39</td>\n",
       "      <td>52</td>\n",
       "    </tr>\n",
       "    <tr>\n",
       "      <td>6</td>\n",
       "      <td>7</td>\n",
       "      <td>39</td>\n",
       "      <td>62</td>\n",
       "    </tr>\n",
       "    <tr>\n",
       "      <td>7</td>\n",
       "      <td>8</td>\n",
       "      <td>39</td>\n",
       "      <td>59</td>\n",
       "    </tr>\n",
       "    <tr>\n",
       "      <td>8</td>\n",
       "      <td>9</td>\n",
       "      <td>39</td>\n",
       "      <td>63</td>\n",
       "    </tr>\n",
       "    <tr>\n",
       "      <td>9</td>\n",
       "      <td>10</td>\n",
       "      <td>39</td>\n",
       "      <td>70</td>\n",
       "    </tr>\n",
       "    <tr>\n",
       "      <td>10</td>\n",
       "      <td>11</td>\n",
       "      <td>40</td>\n",
       "      <td>66</td>\n",
       "    </tr>\n",
       "    <tr>\n",
       "      <td>11</td>\n",
       "      <td>12</td>\n",
       "      <td>42</td>\n",
       "      <td>72</td>\n",
       "    </tr>\n",
       "  </tbody>\n",
       "</table>\n",
       "</div>"
      ],
      "text/plain": [
       "tariff  month  smart  ultra\n",
       "0           1     20     43\n",
       "1           2     28     33\n",
       "2           3     36     48\n",
       "3           4     36     45\n",
       "4           5     39     49\n",
       "5           6     39     52\n",
       "6           7     39     62\n",
       "7           8     39     59\n",
       "8           9     39     63\n",
       "9          10     39     70\n",
       "10         11     40     66\n",
       "11         12     42     72"
      ]
     },
     "execution_count": 70,
     "metadata": {},
     "output_type": "execute_result"
    }
   ],
   "source": [
    "mean_messages_per_month"
   ]
  },
  {
   "cell_type": "code",
   "execution_count": 71,
   "metadata": {},
   "outputs": [
    {
     "data": {
      "text/plain": [
       "Text(0.5, 1.0, 'Среднее количество сообщений по тарифам')"
      ]
     },
     "execution_count": 71,
     "metadata": {},
     "output_type": "execute_result"
    },
    {
     "data": {
      "image/png": "[encoded data removed]",
      "text/plain": [
       "<Figure size 720x288 with 1 Axes>"
      ]
     },
     "metadata": {
      "needs_background": "light"
     },
     "output_type": "display_data"
    }
   ],
   "source": [
    "mean_messages_per_month.plot.bar(x='month', figsize=(10,4), grid=True)\n",
    "plt.xlabel('Месяц')\n",
    "plt.ylabel('Количество сообщений')\n",
    "plt.title('Среднее количество сообщений по тарифам')"
   ]
  },
  {
   "cell_type": "markdown",
   "metadata": {},
   "source": [
    "Рассчитаем центральную метрику (среднее значение) данных по сообщениям для двух тарифов и метрики оценки вариативности данных (дисперсию и СКО), которые количественно определяют разброс точек данных:"
   ]
  },
  {
   "cell_type": "code",
   "execution_count": 72,
   "metadata": {
    "scrolled": true
   },
   "outputs": [
    {
     "name": "stdout",
     "output_type": "stream",
     "text": [
      "Среднее количество сообщений в выборке для тарифа Smart: 38.72\n",
      "Среднее количество сообщений в выборке для тарифа Ultra: 61.16\n"
     ]
    }
   ],
   "source": [
    "mean_messages_smart = np.mean(data_analysis.query('tariff == \"smart\"')['message_id']).round(2)\n",
    "mean_messages_ultra = np.mean(data_analysis.query('tariff == \"ultra\"')['message_id']).round(2)\n",
    "print('Среднее количество сообщений в выборке для тарифа Smart:', mean_messages_smart)\n",
    "print('Среднее количество сообщений в выборке для тарифа Ultra:', mean_messages_ultra)"
   ]
  },
  {
   "cell_type": "code",
   "execution_count": 73,
   "metadata": {},
   "outputs": [
    {
     "name": "stdout",
     "output_type": "stream",
     "text": [
      "Дисперсия количества сообщений в выборке для тарифа Smart: 717.59\n",
      "Дисперсия количества сообщений в выборке для тарифа Ultra: 2109.66\n"
     ]
    }
   ],
   "source": [
    "variance_messages_smart = np.var(data_analysis.query('tariff == \"smart\"')['message_id'], ddof=1).round(2)\n",
    "variance_messages_ultra = np.var(data_analysis.query('tariff == \"ultra\"')['message_id'], ddof=1).round(2)\n",
    "print('Дисперсия количества сообщений в выборке для тарифа Smart:', variance_messages_smart)\n",
    "print('Дисперсия количества сообщений в выборке для тарифа Ultra:', variance_messages_ultra)"
   ]
  },
  {
   "cell_type": "code",
   "execution_count": 74,
   "metadata": {},
   "outputs": [
    {
     "name": "stdout",
     "output_type": "stream",
     "text": [
      "СКО количества сообщений в выборке для тарифа Smart: 26.79\n",
      "СКО количества сообщений в выборке для тарифа Ultra: 45.93\n"
     ]
    }
   ],
   "source": [
    "st_dev_messages_smart = np.std(data_analysis.query('tariff == \"smart\"')['message_id'], ddof=1).round(2)\n",
    "st_dev_messages_ultra = np.std(data_analysis.query('tariff == \"ultra\"')['message_id'], ddof=1).round(2)\n",
    "print('СКО количества сообщений в выборке для тарифа Smart:', st_dev_messages_smart)\n",
    "print('СКО количества сообщений в выборке для тарифа Ultra:', st_dev_messages_ultra)"
   ]
  },
  {
   "cell_type": "code",
   "execution_count": 75,
   "metadata": {
    "scrolled": true
   },
   "outputs": [
    {
     "data": {
      "text/plain": [
       "<matplotlib.axes._subplots.AxesSubplot at 0x7f4451e2ce10>"
      ]
     },
     "execution_count": 75,
     "metadata": {},
     "output_type": "execute_result"
    },
    {
     "data": {
      "image/png": "[encoded data removed]",
      "text/plain": [
       "<Figure size 432x288 with 1 Axes>"
      ]
     },
     "metadata": {
      "needs_background": "light"
     },
     "output_type": "display_data"
    }
   ],
   "source": [
    "sns.boxplot(y='message_id', x='tariff', data=data_analysis)"
   ]
  },
  {
   "cell_type": "markdown",
   "metadata": {},
   "source": [
    "### Объем интернет-трафика по тарифам"
   ]
  },
  {
   "cell_type": "markdown",
   "metadata": {},
   "source": [
    "Аналогичным образом обработаем данные по интернет-трафику:"
   ]
  },
  {
   "cell_type": "code",
   "execution_count": 76,
   "metadata": {},
   "outputs": [],
   "source": [
    "mean_internet_per_month = data_analysis.pivot_table(\n",
    "    index='month',\n",
    "    columns='tariff',\n",
    "    values='gb_month_round',\n",
    "    aggfunc='mean'\n",
    ").reset_index().round(0).astype(int)"
   ]
  },
  {
   "cell_type": "code",
   "execution_count": 77,
   "metadata": {},
   "outputs": [
    {
     "data": {
      "text/html": [
       "<div>\n",
       "<style scoped>\n",
       "    .dataframe tbody tr th:only-of-type {\n",
       "        vertical-align: middle;\n",
       "    }\n",
       "\n",
       "    .dataframe tbody tr th {\n",
       "        vertical-align: top;\n",
       "    }\n",
       "\n",
       "    .dataframe thead th {\n",
       "        text-align: right;\n",
       "    }\n",
       "</style>\n",
       "<table border=\"1\" class=\"dataframe\">\n",
       "  <thead>\n",
       "    <tr style=\"text-align: right;\">\n",
       "      <th>tariff</th>\n",
       "      <th>month</th>\n",
       "      <th>smart</th>\n",
       "      <th>ultra</th>\n",
       "    </tr>\n",
       "  </thead>\n",
       "  <tbody>\n",
       "    <tr>\n",
       "      <td>0</td>\n",
       "      <td>1</td>\n",
       "      <td>9</td>\n",
       "      <td>13</td>\n",
       "    </tr>\n",
       "    <tr>\n",
       "      <td>1</td>\n",
       "      <td>2</td>\n",
       "      <td>12</td>\n",
       "      <td>13</td>\n",
       "    </tr>\n",
       "    <tr>\n",
       "      <td>2</td>\n",
       "      <td>3</td>\n",
       "      <td>15</td>\n",
       "      <td>18</td>\n",
       "    </tr>\n",
       "    <tr>\n",
       "      <td>3</td>\n",
       "      <td>4</td>\n",
       "      <td>14</td>\n",
       "      <td>17</td>\n",
       "    </tr>\n",
       "    <tr>\n",
       "      <td>4</td>\n",
       "      <td>5</td>\n",
       "      <td>16</td>\n",
       "      <td>20</td>\n",
       "    </tr>\n",
       "    <tr>\n",
       "      <td>5</td>\n",
       "      <td>6</td>\n",
       "      <td>16</td>\n",
       "      <td>19</td>\n",
       "    </tr>\n",
       "    <tr>\n",
       "      <td>6</td>\n",
       "      <td>7</td>\n",
       "      <td>16</td>\n",
       "      <td>21</td>\n",
       "    </tr>\n",
       "    <tr>\n",
       "      <td>7</td>\n",
       "      <td>8</td>\n",
       "      <td>17</td>\n",
       "      <td>20</td>\n",
       "    </tr>\n",
       "    <tr>\n",
       "      <td>8</td>\n",
       "      <td>9</td>\n",
       "      <td>16</td>\n",
       "      <td>19</td>\n",
       "    </tr>\n",
       "    <tr>\n",
       "      <td>9</td>\n",
       "      <td>10</td>\n",
       "      <td>17</td>\n",
       "      <td>20</td>\n",
       "    </tr>\n",
       "    <tr>\n",
       "      <td>10</td>\n",
       "      <td>11</td>\n",
       "      <td>17</td>\n",
       "      <td>20</td>\n",
       "    </tr>\n",
       "    <tr>\n",
       "      <td>11</td>\n",
       "      <td>12</td>\n",
       "      <td>18</td>\n",
       "      <td>22</td>\n",
       "    </tr>\n",
       "  </tbody>\n",
       "</table>\n",
       "</div>"
      ],
      "text/plain": [
       "tariff  month  smart  ultra\n",
       "0           1      9     13\n",
       "1           2     12     13\n",
       "2           3     15     18\n",
       "3           4     14     17\n",
       "4           5     16     20\n",
       "5           6     16     19\n",
       "6           7     16     21\n",
       "7           8     17     20\n",
       "8           9     16     19\n",
       "9          10     17     20\n",
       "10         11     17     20\n",
       "11         12     18     22"
      ]
     },
     "execution_count": 77,
     "metadata": {},
     "output_type": "execute_result"
    }
   ],
   "source": [
    "mean_internet_per_month"
   ]
  },
  {
   "cell_type": "code",
   "execution_count": 78,
   "metadata": {},
   "outputs": [
    {
     "data": {
      "text/plain": [
       "Text(0.5, 1.0, 'Средний объем трафика по тарифам')"
      ]
     },
     "execution_count": 78,
     "metadata": {},
     "output_type": "execute_result"
    },
    {
     "data": {
      "image/png": "[encoded data removed]",
      "text/plain": [
       "<Figure size 720x288 with 1 Axes>"
      ]
     },
     "metadata": {
      "needs_background": "light"
     },
     "output_type": "display_data"
    }
   ],
   "source": [
    "mean_internet_per_month.plot.bar(x='month', figsize=(10,4), grid=True)\n",
    "plt.xlabel('Месяц')\n",
    "plt.ylabel('Гигабайты')\n",
    "plt.title('Средний объем трафика по тарифам')"
   ]
  },
  {
   "cell_type": "markdown",
   "metadata": {},
   "source": [
    "Рассчитаем центральную метрику (среднее значение) данных по интернет-трафику для двух тарифов и метрики оценки вариативности данных (дисперсию и СКО), которые количественно определяют разброс точек данных:"
   ]
  },
  {
   "cell_type": "code",
   "execution_count": 79,
   "metadata": {
    "scrolled": true
   },
   "outputs": [
    {
     "name": "stdout",
     "output_type": "stream",
     "text": [
      "Средний объем трафика в выборке для тарифа Smart: 16.34\n",
      "Средний объем трафика в выборке для тарифа Ultra: 19.71\n"
     ]
    }
   ],
   "source": [
    "mean_internet_smart = np.mean(data_analysis.query('tariff == \"smart\"')['gb_month_round']).round(2)\n",
    "mean_internet_ultra = np.mean(data_analysis.query('tariff == \"ultra\"')['gb_month_round']).round(2)\n",
    "print('Средний объем трафика в выборке для тарифа Smart:', mean_internet_smart)\n",
    "print('Средний объем трафика в выборке для тарифа Ultra:', mean_internet_ultra)"
   ]
  },
  {
   "cell_type": "code",
   "execution_count": 80,
   "metadata": {},
   "outputs": [
    {
     "name": "stdout",
     "output_type": "stream",
     "text": [
      "Дисперсия интернет-трафика в выборке для тарифа Smart: 32.82\n",
      "Дисперсия интернет-трафика в выборке для тарифа Ultra: 93.84\n"
     ]
    }
   ],
   "source": [
    "variance_internet_smart = np.var(data_analysis.query('tariff == \"smart\"')['gb_month_round'], ddof=1).round(2)\n",
    "variance_internet_ultra = np.var(data_analysis.query('tariff == \"ultra\"')['gb_month_round'], ddof=1).round(2)\n",
    "print('Дисперсия интернет-трафика в выборке для тарифа Smart:', variance_internet_smart)\n",
    "print('Дисперсия интернет-трафика в выборке для тарифа Ultra:', variance_internet_ultra)"
   ]
  },
  {
   "cell_type": "code",
   "execution_count": 81,
   "metadata": {},
   "outputs": [
    {
     "name": "stdout",
     "output_type": "stream",
     "text": [
      "СКО интернет-трафика в выборке для тарифа Smart: 5.73\n",
      "СКО интернет-трафика в выборке для тарифа Ultra: 9.69\n"
     ]
    }
   ],
   "source": [
    "st_dev_internet_smart = np.std(data_analysis.query('tariff == \"smart\"')['gb_month_round'], ddof=1).round(2)\n",
    "st_dev_internet_ultra = np.std(data_analysis.query('tariff == \"ultra\"')['gb_month_round'], ddof=1).round(2)\n",
    "print('СКО интернет-трафика в выборке для тарифа Smart:', st_dev_internet_smart)\n",
    "print('СКО интернет-трафика в выборке для тарифа Ultra:', st_dev_internet_ultra)"
   ]
  },
  {
   "cell_type": "code",
   "execution_count": 82,
   "metadata": {
    "scrolled": true
   },
   "outputs": [
    {
     "data": {
      "text/plain": [
       "<matplotlib.axes._subplots.AxesSubplot at 0x7f4451c4ef90>"
      ]
     },
     "execution_count": 82,
     "metadata": {},
     "output_type": "execute_result"
    },
    {
     "data": {
      "image/png": "[encoded data removed]",
      "text/plain": [
       "<Figure size 432x288 with 1 Axes>"
      ]
     },
     "metadata": {
      "needs_background": "light"
     },
     "output_type": "display_data"
    }
   ],
   "source": [
    "sns.boxplot(y='gb_month_round', x='tariff', data=data_analysis)"
   ]
  },
  {
   "cell_type": "markdown",
   "metadata": {},
   "source": [
    "### Помесячная выручка по тарифам"
   ]
  },
  {
   "cell_type": "markdown",
   "metadata": {},
   "source": [
    "Аналогичным образом посчитаем помесячную выручку по двум тарифам."
   ]
  },
  {
   "cell_type": "code",
   "execution_count": 83,
   "metadata": {},
   "outputs": [],
   "source": [
    "mean_income_per_month = data_analysis.pivot_table(\n",
    "    index='month',\n",
    "    columns='tariff',\n",
    "    values='total_income',\n",
    "    aggfunc='mean'\n",
    ").reset_index().round(0).astype(int)"
   ]
  },
  {
   "cell_type": "code",
   "execution_count": 84,
   "metadata": {},
   "outputs": [
    {
     "data": {
      "text/html": [
       "<div>\n",
       "<style scoped>\n",
       "    .dataframe tbody tr th:only-of-type {\n",
       "        vertical-align: middle;\n",
       "    }\n",
       "\n",
       "    .dataframe tbody tr th {\n",
       "        vertical-align: top;\n",
       "    }\n",
       "\n",
       "    .dataframe thead th {\n",
       "        text-align: right;\n",
       "    }\n",
       "</style>\n",
       "<table border=\"1\" class=\"dataframe\">\n",
       "  <thead>\n",
       "    <tr style=\"text-align: right;\">\n",
       "      <th>tariff</th>\n",
       "      <th>month</th>\n",
       "      <th>smart</th>\n",
       "      <th>ultra</th>\n",
       "    </tr>\n",
       "  </thead>\n",
       "  <tbody>\n",
       "    <tr>\n",
       "      <td>0</td>\n",
       "      <td>1</td>\n",
       "      <td>721</td>\n",
       "      <td>1950</td>\n",
       "    </tr>\n",
       "    <tr>\n",
       "      <td>1</td>\n",
       "      <td>2</td>\n",
       "      <td>828</td>\n",
       "      <td>1975</td>\n",
       "    </tr>\n",
       "    <tr>\n",
       "      <td>2</td>\n",
       "      <td>3</td>\n",
       "      <td>1165</td>\n",
       "      <td>2015</td>\n",
       "    </tr>\n",
       "    <tr>\n",
       "      <td>3</td>\n",
       "      <td>4</td>\n",
       "      <td>963</td>\n",
       "      <td>2002</td>\n",
       "    </tr>\n",
       "    <tr>\n",
       "      <td>4</td>\n",
       "      <td>5</td>\n",
       "      <td>1198</td>\n",
       "      <td>2060</td>\n",
       "    </tr>\n",
       "    <tr>\n",
       "      <td>5</td>\n",
       "      <td>6</td>\n",
       "      <td>1204</td>\n",
       "      <td>2039</td>\n",
       "    </tr>\n",
       "    <tr>\n",
       "      <td>6</td>\n",
       "      <td>7</td>\n",
       "      <td>1224</td>\n",
       "      <td>2118</td>\n",
       "    </tr>\n",
       "    <tr>\n",
       "      <td>7</td>\n",
       "      <td>8</td>\n",
       "      <td>1321</td>\n",
       "      <td>2083</td>\n",
       "    </tr>\n",
       "    <tr>\n",
       "      <td>8</td>\n",
       "      <td>9</td>\n",
       "      <td>1250</td>\n",
       "      <td>2024</td>\n",
       "    </tr>\n",
       "    <tr>\n",
       "      <td>9</td>\n",
       "      <td>10</td>\n",
       "      <td>1365</td>\n",
       "      <td>2066</td>\n",
       "    </tr>\n",
       "    <tr>\n",
       "      <td>10</td>\n",
       "      <td>11</td>\n",
       "      <td>1343</td>\n",
       "      <td>2092</td>\n",
       "    </tr>\n",
       "    <tr>\n",
       "      <td>11</td>\n",
       "      <td>12</td>\n",
       "      <td>1579</td>\n",
       "      <td>2139</td>\n",
       "    </tr>\n",
       "  </tbody>\n",
       "</table>\n",
       "</div>"
      ],
      "text/plain": [
       "tariff  month  smart  ultra\n",
       "0           1    721   1950\n",
       "1           2    828   1975\n",
       "2           3   1165   2015\n",
       "3           4    963   2002\n",
       "4           5   1198   2060\n",
       "5           6   1204   2039\n",
       "6           7   1224   2118\n",
       "7           8   1321   2083\n",
       "8           9   1250   2024\n",
       "9          10   1365   2066\n",
       "10         11   1343   2092\n",
       "11         12   1579   2139"
      ]
     },
     "execution_count": 84,
     "metadata": {},
     "output_type": "execute_result"
    }
   ],
   "source": [
    "mean_income_per_month"
   ]
  },
  {
   "cell_type": "code",
   "execution_count": 85,
   "metadata": {},
   "outputs": [
    {
     "data": {
      "text/plain": [
       "Text(0.5, 1.0, 'Средняя выручка по тарифам')"
      ]
     },
     "execution_count": 85,
     "metadata": {},
     "output_type": "execute_result"
    },
    {
     "data": {
      "image/png": "[encoded data removed]",
      "text/plain": [
       "<Figure size 720x288 with 1 Axes>"
      ]
     },
     "metadata": {
      "needs_background": "light"
     },
     "output_type": "display_data"
    }
   ],
   "source": [
    "mean_income_per_month.plot.bar(x='month', figsize=(10,4), grid=True)\n",
    "plt.xlabel('Месяц')\n",
    "plt.ylabel('Рубли')\n",
    "plt.title('Средняя выручка по тарифам')"
   ]
  },
  {
   "cell_type": "markdown",
   "metadata": {},
   "source": [
    "### Вывод"
   ]
  },
  {
   "cell_type": "markdown",
   "metadata": {},
   "source": [
    "- В среднем пользователи тарифа **\"Ультра\" разговаривают больше**, чем пользователи тарифа \"Смарт\". При этом и те, и другие укладываются в оплаченный по абонентской плате тарифов пакет минут. Также следует отметить, что разброс данных у пользователей тарифом \"Ультра\" больше.\n",
    "- **Сообщениями** обмениваются пользователи тарифа **\"Ультра\" также в среднем больше**, чем пользователи тарифа \"Смарт\". Однако так же им хватает своих предоплаченных пакетов сообщений. Разброс данных у пользователей тарифом \"Ультра\" снова больше.\n",
    "- **Интернетом** пользователи тарифа **\"Ультра\" тоже пользуются больше**, чем пользователи тарифа \"Смарт\". При этом последние не укладываются в пакет и оплачивает его ежемесячно сверх абонентской платы. Средние значения близки, но дисперсия для тарифа \"Ультра\" больше, хотя и незначительно.\n",
    "- В среднем **выручка по тарифу \"Ультра\" больше**, чем по тарифу \"Смарт\". Однако ее величина не сильно отличается от абоненсткой платы. А по тарифу \"Смарт\" превышение абонентской платы в среднем гораздо существеннее в каждом месяце, иногда более чем в 3 раза. При этом по тарифу \"Смарт\" выручка по месяцам растет к концу года: в основном за счет увеличения длительности разгоров, а у пользователей тарифа \"Ультра\" она меняется не существенно в течение года."
   ]
  },
  {
   "cell_type": "markdown",
   "metadata": {},
   "source": [
    "<a id='step4'></a>\n",
    "## Проверка статистических гипотез"
   ]
  },
  {
   "cell_type": "markdown",
   "metadata": {},
   "source": [
    "### Различие выручки по тарифам"
   ]
  },
  {
   "cell_type": "markdown",
   "metadata": {},
   "source": [
    "Проверим гипотезу о том, что средняя выручка пользователей тарифов \"Ультра\" и \"Смарт\" различается.\n",
    "\n",
    "Для этого сформулируем нулевую гипотезу H0: средние выручки пользователей тарифов \"Ультра\" и \"Смарт\" равны.\n",
    "\n",
    "Тогда альтернативная гипотеза H1 будет звучать так: средние выручки пользователей тарифов \"Ультра\" и \"Смарт\" не равны."
   ]
  },
  {
   "cell_type": "markdown",
   "metadata": {},
   "source": [
    "Создадим два объекта `series`, содержащих данные о выручке по каждому тарифу. Это и будут исходные выборки:"
   ]
  },
  {
   "cell_type": "code",
   "execution_count": 86,
   "metadata": {},
   "outputs": [],
   "source": [
    "sample_smart = data_analysis.query('tariff == \"smart\"')['total_income']"
   ]
  },
  {
   "cell_type": "code",
   "execution_count": 87,
   "metadata": {},
   "outputs": [],
   "source": [
    "sample_ultra = data_analysis.query('tariff == \"ultra\"')['total_income']"
   ]
  },
  {
   "cell_type": "markdown",
   "metadata": {},
   "source": [
    "Оценим дисперсии двух выборок. Если дисперсии будет отличаться более чем на 5%, то будем считать, что генеральные совокупности, из которых взяты эти выборки, отличаются по параметрам и тогда будем задавать в функции `st.ttest_ind` параметр `equal_var=False`."
   ]
  },
  {
   "cell_type": "code",
   "execution_count": 88,
   "metadata": {},
   "outputs": [
    {
     "name": "stdout",
     "output_type": "stream",
     "text": [
      "Дисперсия выборки sample_smart: 669730.76\n",
      "Дисперсия выборки sample_ultra: 141387.71\n",
      "Дисперсии двух выборок отличаются на 78.89%\n"
     ]
    }
   ],
   "source": [
    "variance_sample_smart = np.var(sample_smart, ddof=1).round(2)\n",
    "variance_sample_ultra = np.var(sample_ultra, ddof=1).round(2)\n",
    "print('Дисперсия выборки sample_smart:', variance_sample_smart)\n",
    "print('Дисперсия выборки sample_ultra:', variance_sample_ultra)\n",
    "diff = (variance_sample_smart - variance_sample_ultra) * 100 / variance_sample_smart\n",
    "print(f'Дисперсии двух выборок отличаются на {abs(diff):.2f}%')"
   ]
  },
  {
   "cell_type": "markdown",
   "metadata": {},
   "source": [
    "Зададим пороговое значение *alpha* равным 0.01. Это означает, что будем проверять гипотезу о равенстве средних значений этих выборок на 99% уровне доверия:"
   ]
  },
  {
   "cell_type": "code",
   "execution_count": 89,
   "metadata": {},
   "outputs": [],
   "source": [
    "alpha = 0.01"
   ]
  },
  {
   "cell_type": "markdown",
   "metadata": {},
   "source": [
    "Воспользуемся встроенными в *Python* функциями для проверки статистических гипотез:"
   ]
  },
  {
   "cell_type": "code",
   "execution_count": 90,
   "metadata": {},
   "outputs": [],
   "source": [
    "results = st.ttest_ind (sample_smart, sample_ultra, equal_var=False)"
   ]
  },
  {
   "cell_type": "code",
   "execution_count": 91,
   "metadata": {},
   "outputs": [
    {
     "name": "stdout",
     "output_type": "stream",
     "text": [
      "p-значение: 1.927011394420941e-250\n"
     ]
    }
   ],
   "source": [
    "print('p-значение:', results.pvalue)"
   ]
  },
  {
   "cell_type": "code",
   "execution_count": 92,
   "metadata": {
    "scrolled": true
   },
   "outputs": [
    {
     "name": "stdout",
     "output_type": "stream",
     "text": [
      "Отвергаем нулевую гипотезу\n"
     ]
    }
   ],
   "source": [
    "if results.pvalue < alpha:\n",
    "    print('Отвергаем нулевую гипотезу')\n",
    "else:\n",
    "    print('Не получилось отвергнуть нулевую гипотезу') "
   ]
  },
  {
   "cell_type": "markdown",
   "metadata": {},
   "source": [
    "**Вывод**\n",
    "\n",
    "Результаты статистического анализа показали, что при 1% уровне значимости нулевая гипотеза о равенстве средней выручки по двум тарифам отвергается. Это означает, что *средние значения выручки по тарифам существенно отличаются*."
   ]
  },
  {
   "cell_type": "markdown",
   "metadata": {},
   "source": [
    "### Различие выручки по Москве и регионам"
   ]
  },
  {
   "cell_type": "markdown",
   "metadata": {},
   "source": [
    "Проверим гипотезу о том, что средняя выручка пользователей из Москвы отличается от выручки пользователей из других регионов.\n",
    "\n",
    "Для этого сформулируем нулевую гипотезу H0: средние выручки пользователей из Москвы и регионов равны.\n",
    "\n",
    "Тогда альтернативная гипотеза H1 будет звучать так: средние выручки пользователей из Москвы и регионов не равны."
   ]
  },
  {
   "cell_type": "markdown",
   "metadata": {},
   "source": [
    "Создадим два объекта `series`, содержащих данные о выручке по Москве и остальным городам. Это и будут исходные выборки:"
   ]
  },
  {
   "cell_type": "code",
   "execution_count": 93,
   "metadata": {},
   "outputs": [],
   "source": [
    "sample_moscow = data_analysis.query('city == \"москва\"')['total_income']"
   ]
  },
  {
   "cell_type": "code",
   "execution_count": 94,
   "metadata": {},
   "outputs": [],
   "source": [
    "sample_city = data_analysis.query('city != \"москва\"')['total_income']"
   ]
  },
  {
   "cell_type": "markdown",
   "metadata": {},
   "source": [
    "Оценим дисперсии двух выборок. Если дисперсии будет отличаться более чем на 5%, то будем считать, что генеральные совокупности, из которых взяты эти выборки, отличаются по параметрам."
   ]
  },
  {
   "cell_type": "code",
   "execution_count": 95,
   "metadata": {},
   "outputs": [
    {
     "name": "stdout",
     "output_type": "stream",
     "text": [
      "Дисперсия выборки sample_moscow: 565636.47\n",
      "Дисперсия выборки sample_city: 654069.57\n",
      "Дисперсии двух выборок отличаются на 15.63%\n"
     ]
    }
   ],
   "source": [
    "variance_sample_moscow = np.var(sample_moscow, ddof=1).round(2)\n",
    "variance_sample_city = np.var(sample_city, ddof=1).round(2)\n",
    "print('Дисперсия выборки sample_moscow:', variance_sample_moscow)\n",
    "print('Дисперсия выборки sample_city:', variance_sample_city)\n",
    "diff = (variance_sample_moscow - variance_sample_city) * 100 / variance_sample_moscow\n",
    "print(f'Дисперсии двух выборок отличаются на {abs(diff):.2f}%')"
   ]
  },
  {
   "cell_type": "markdown",
   "metadata": {},
   "source": [
    "\n",
    "\n",
    "Зададим пороговое значение *alpha* равным 0.01. Это означает, что будем проверять гипотезу о равенстве средних значений этих выборок на 99% уровне доверия:"
   ]
  },
  {
   "cell_type": "code",
   "execution_count": 96,
   "metadata": {},
   "outputs": [],
   "source": [
    "alpha = 0.01"
   ]
  },
  {
   "cell_type": "code",
   "execution_count": 97,
   "metadata": {},
   "outputs": [],
   "source": [
    "results = st.ttest_ind (sample_moscow, sample_city, equal_var=False)"
   ]
  },
  {
   "cell_type": "code",
   "execution_count": 98,
   "metadata": {},
   "outputs": [
    {
     "name": "stdout",
     "output_type": "stream",
     "text": [
      "p-значение: 0.5216952110000279\n"
     ]
    }
   ],
   "source": [
    "print('p-значение:', results.pvalue)"
   ]
  },
  {
   "cell_type": "code",
   "execution_count": 99,
   "metadata": {
    "scrolled": true
   },
   "outputs": [
    {
     "name": "stdout",
     "output_type": "stream",
     "text": [
      "Не получилось отвергнуть нулевую гипотезу\n"
     ]
    }
   ],
   "source": [
    "if results.pvalue < alpha:\n",
    "    print('Отвергаем нулевую гипотезу')\n",
    "else:\n",
    "    print('Не получилось отвергнуть нулевую гипотезу') "
   ]
  },
  {
   "cell_type": "markdown",
   "metadata": {},
   "source": [
    "**Вывод**\n",
    "\n",
    "Результаты статистического анализа показали, что при 1% уровне значимости нулевая гипотеза о равенстве средней выручки по Москве и другим городам не отвергается. Это означает, что *средние значения выручки по Москве и регионам с высокой вероятностью равны*."
   ]
  },
  {
   "cell_type": "markdown",
   "metadata": {},
   "source": [
    "<a id='step5'></a>\n",
    "## Общий вывод"
   ]
  },
  {
   "cell_type": "markdown",
   "metadata": {},
   "source": [
    "Проведен исследовательский и статистический анализ данных о пользовании услугами связи по двум тарифам на выборке из 500 клиентов. Анализ показал, что:\n",
    "- в среднем пользователи тарифа **\"Ультра\" разговаривают и обмениваются сообщениями больше**, чем пользователи тарифа \"Смарт\". Однако пользователи обоих тарифов по данным услугам *укладываются в оплаченные по абонентской плате пакеты* услуг.\n",
    "- **Интернет-трафик** пользователей тарифа **\"Ультра\" больше**, чем пользователей тарифа \"Смарт\". Однако на *тарифе \"Смарт\" в среднем ежемесячно трафик превышает оплаченный пакет*.\n",
    "- В среднем ежемесячная **выручка по тарифу \"Ультра\" больше**, чем по тарифу \"Смарт\", однако ее величина не сильно отличается от абоненсткой платы. А по тарифу \"Смарт\" превышение абонентской платы в среднем гораздо существеннее в каждом месяце, иногда более чем в 3 раза.\n",
    "- **По географическому признаку средние значения выручки не отличаются** существенно.\n",
    "\n",
    "Всё это позволяет сделать вывод о том, что **тариф \"Ультра\" приносит компании \"Мегалайн\" больше денег** по сравнению с тарифом \"Смарт\" независимо от региона пользователя и несмотря на то, что по тарифу \"Смарт\" чаще оплачиваются услуги сверх входящих в тариф предоплаченных пакетов."
   ]
  }
 ],
 "metadata": {
  "ExecuteTimeLog": [
   {
    "duration": 785,
    "start_time": "2021-12-20T17:27:13.490Z"
   },
   {
    "duration": 198,
    "start_time": "2021-12-20T17:27:18.102Z"
   },
   {
    "duration": 4,
    "start_time": "2021-12-20T17:27:20.411Z"
   },
   {
    "duration": 160,
    "start_time": "2021-12-20T17:27:48.236Z"
   },
   {
    "duration": 158,
    "start_time": "2021-12-20T17:27:52.044Z"
   },
   {
    "duration": 127,
    "start_time": "2021-12-20T17:28:27.452Z"
   },
   {
    "duration": 3,
    "start_time": "2021-12-20T17:33:26.728Z"
   },
   {
    "duration": 3,
    "start_time": "2021-12-20T17:33:27.133Z"
   },
   {
    "duration": 4,
    "start_time": "2021-12-20T17:33:33.619Z"
   },
   {
    "duration": 2,
    "start_time": "2021-12-20T17:33:38.316Z"
   },
   {
    "duration": 4,
    "start_time": "2021-12-20T17:33:43.455Z"
   },
   {
    "duration": 3,
    "start_time": "2021-12-20T17:35:26.876Z"
   },
   {
    "duration": 4,
    "start_time": "2021-12-20T17:35:27.228Z"
   },
   {
    "duration": 3,
    "start_time": "2021-12-20T17:35:32.124Z"
   },
   {
    "duration": 3,
    "start_time": "2021-12-20T17:35:32.493Z"
   },
   {
    "duration": 3,
    "start_time": "2021-12-20T17:35:35.900Z"
   },
   {
    "duration": 3,
    "start_time": "2021-12-20T17:35:36.428Z"
   },
   {
    "duration": 175,
    "start_time": "2021-12-20T17:36:17.789Z"
   },
   {
    "duration": 3,
    "start_time": "2021-12-20T17:37:02.212Z"
   },
   {
    "duration": 200,
    "start_time": "2021-12-20T17:37:02.669Z"
   },
   {
    "duration": 151,
    "start_time": "2021-12-20T17:37:09.213Z"
   },
   {
    "duration": 4,
    "start_time": "2021-12-20T17:37:20.604Z"
   },
   {
    "duration": 151,
    "start_time": "2021-12-20T17:37:21.005Z"
   },
   {
    "duration": 3,
    "start_time": "2021-12-20T17:37:26.174Z"
   },
   {
    "duration": 155,
    "start_time": "2021-12-20T17:37:26.972Z"
   },
   {
    "duration": 8,
    "start_time": "2021-12-20T17:37:46.221Z"
   },
   {
    "duration": 631,
    "start_time": "2021-12-20T17:37:56.478Z"
   },
   {
    "duration": 6,
    "start_time": "2021-12-20T17:37:57.112Z"
   },
   {
    "duration": 249,
    "start_time": "2021-12-20T17:37:57.120Z"
   },
   {
    "duration": 252,
    "start_time": "2021-12-20T17:37:57.371Z"
   },
   {
    "duration": 3,
    "start_time": "2021-12-20T17:38:16.420Z"
   },
   {
    "duration": 160,
    "start_time": "2021-12-20T17:38:17.140Z"
   },
   {
    "duration": 203,
    "start_time": "2021-12-20T17:38:25.220Z"
   },
   {
    "duration": 3,
    "start_time": "2021-12-20T17:41:54.486Z"
   },
   {
    "duration": 181,
    "start_time": "2021-12-20T17:41:55.236Z"
   },
   {
    "duration": 189,
    "start_time": "2021-12-20T17:41:58.004Z"
   },
   {
    "duration": 3,
    "start_time": "2021-12-20T17:42:56.613Z"
   },
   {
    "duration": 167,
    "start_time": "2021-12-20T17:42:57.252Z"
   },
   {
    "duration": 207,
    "start_time": "2021-12-20T17:42:58.132Z"
   },
   {
    "duration": 210,
    "start_time": "2021-12-20T17:43:08.852Z"
   },
   {
    "duration": 4,
    "start_time": "2021-12-20T17:45:06.149Z"
   },
   {
    "duration": 158,
    "start_time": "2021-12-20T17:45:06.837Z"
   },
   {
    "duration": 224,
    "start_time": "2021-12-20T17:45:07.765Z"
   },
   {
    "duration": 198,
    "start_time": "2021-12-20T17:45:15.509Z"
   },
   {
    "duration": 5,
    "start_time": "2021-12-20T17:45:36.021Z"
   },
   {
    "duration": 73,
    "start_time": "2021-12-20T17:45:36.533Z"
   },
   {
    "duration": 190,
    "start_time": "2021-12-20T17:45:40.117Z"
   },
   {
    "duration": 204,
    "start_time": "2021-12-20T17:45:41.174Z"
   },
   {
    "duration": 157,
    "start_time": "2021-12-20T17:50:08.870Z"
   },
   {
    "duration": 138,
    "start_time": "2021-12-20T17:50:34.822Z"
   },
   {
    "duration": 102,
    "start_time": "2021-12-20T17:50:48.902Z"
   },
   {
    "duration": 805,
    "start_time": "2021-12-20T17:51:04.166Z"
   },
   {
    "duration": 22,
    "start_time": "2021-12-20T17:51:18.997Z"
   },
   {
    "duration": 35,
    "start_time": "2021-12-20T17:51:37.173Z"
   },
   {
    "duration": 171,
    "start_time": "2021-12-20T17:53:44.150Z"
   },
   {
    "duration": 181,
    "start_time": "2021-12-20T17:53:47.479Z"
   },
   {
    "duration": 159,
    "start_time": "2021-12-20T17:53:54.326Z"
   },
   {
    "duration": 22,
    "start_time": "2021-12-20T17:53:58.022Z"
   },
   {
    "duration": 19,
    "start_time": "2021-12-20T17:54:08.038Z"
   },
   {
    "duration": 16,
    "start_time": "2021-12-20T17:54:16.534Z"
   },
   {
    "duration": 6,
    "start_time": "2021-12-20T17:54:26.055Z"
   },
   {
    "duration": 7,
    "start_time": "2021-12-20T17:54:35.030Z"
   },
   {
    "duration": 158,
    "start_time": "2021-12-20T17:56:12.104Z"
   },
   {
    "duration": 133,
    "start_time": "2021-12-20T17:56:15.688Z"
   },
   {
    "duration": 130,
    "start_time": "2021-12-20T17:56:20.360Z"
   },
   {
    "duration": 22,
    "start_time": "2021-12-20T17:56:24.534Z"
   },
   {
    "duration": 32,
    "start_time": "2021-12-20T17:56:27.495Z"
   },
   {
    "duration": 561,
    "start_time": "2021-12-20T18:48:12.224Z"
   },
   {
    "duration": 3,
    "start_time": "2021-12-20T18:55:48.930Z"
   },
   {
    "duration": 26,
    "start_time": "2021-12-20T18:56:13.120Z"
   },
   {
    "duration": 8,
    "start_time": "2021-12-20T18:56:18.577Z"
   },
   {
    "duration": 14,
    "start_time": "2021-12-20T18:56:25.441Z"
   },
   {
    "duration": 7,
    "start_time": "2021-12-20T18:56:32.721Z"
   },
   {
    "duration": 41,
    "start_time": "2021-12-20T18:57:57.537Z"
   },
   {
    "duration": 17,
    "start_time": "2021-12-20T18:57:59.168Z"
   },
   {
    "duration": 292,
    "start_time": "2021-12-20T19:12:13.923Z"
   },
   {
    "duration": 3,
    "start_time": "2021-12-20T19:12:15.715Z"
   },
   {
    "duration": 5167,
    "start_time": "2021-12-20T19:12:16.372Z"
   },
   {
    "duration": 5,
    "start_time": "2021-12-20T19:12:36.467Z"
   },
   {
    "duration": 208,
    "start_time": "2021-12-20T19:12:40.598Z"
   },
   {
    "duration": 270,
    "start_time": "2021-12-20T19:12:45.202Z"
   },
   {
    "duration": 9,
    "start_time": "2021-12-20T19:12:49.074Z"
   },
   {
    "duration": 10,
    "start_time": "2021-12-20T19:13:05.987Z"
   },
   {
    "duration": 346,
    "start_time": "2021-12-20T19:14:31.747Z"
   },
   {
    "duration": 225,
    "start_time": "2021-12-20T19:16:54.483Z"
   },
   {
    "duration": 1135,
    "start_time": "2021-12-20T19:17:17.082Z"
   },
   {
    "duration": 165,
    "start_time": "2021-12-20T19:17:18.219Z"
   },
   {
    "duration": 23,
    "start_time": "2021-12-20T19:17:18.386Z"
   },
   {
    "duration": 136,
    "start_time": "2021-12-20T19:17:18.411Z"
   },
   {
    "duration": 26,
    "start_time": "2021-12-20T19:17:18.548Z"
   },
   {
    "duration": 97,
    "start_time": "2021-12-20T19:17:18.575Z"
   },
   {
    "duration": 14,
    "start_time": "2021-12-20T19:17:18.674Z"
   },
   {
    "duration": 20,
    "start_time": "2021-12-20T19:17:18.690Z"
   },
   {
    "duration": 6,
    "start_time": "2021-12-20T19:17:18.712Z"
   },
   {
    "duration": 34,
    "start_time": "2021-12-20T19:17:18.720Z"
   },
   {
    "duration": 7,
    "start_time": "2021-12-20T19:17:18.756Z"
   },
   {
    "duration": 4,
    "start_time": "2021-12-20T19:17:18.765Z"
   },
   {
    "duration": 63,
    "start_time": "2021-12-20T19:17:18.771Z"
   },
   {
    "duration": 3,
    "start_time": "2021-12-20T19:17:18.836Z"
   },
   {
    "duration": 4,
    "start_time": "2021-12-20T19:17:18.860Z"
   },
   {
    "duration": 366,
    "start_time": "2021-12-20T19:17:21.554Z"
   },
   {
    "duration": 5,
    "start_time": "2021-12-20T19:17:43.491Z"
   },
   {
    "duration": 4,
    "start_time": "2021-12-20T19:17:56.339Z"
   },
   {
    "duration": 3,
    "start_time": "2021-12-20T19:18:55.652Z"
   },
   {
    "duration": 6,
    "start_time": "2021-12-20T19:19:44.052Z"
   },
   {
    "duration": 104,
    "start_time": "2021-12-20T19:20:29.877Z"
   },
   {
    "duration": 65,
    "start_time": "2021-12-20T19:20:48.724Z"
   },
   {
    "duration": 48,
    "start_time": "2021-12-20T19:21:04.022Z"
   },
   {
    "duration": 9,
    "start_time": "2021-12-20T19:21:11.188Z"
   },
   {
    "duration": 197,
    "start_time": "2021-12-20T19:22:34.996Z"
   },
   {
    "duration": 69,
    "start_time": "2021-12-20T19:24:25.109Z"
   },
   {
    "duration": 11,
    "start_time": "2021-12-20T19:24:46.580Z"
   },
   {
    "duration": 3,
    "start_time": "2021-12-20T19:25:04.084Z"
   },
   {
    "duration": 11,
    "start_time": "2021-12-20T19:25:07.220Z"
   },
   {
    "duration": 3,
    "start_time": "2021-12-20T19:25:10.660Z"
   },
   {
    "duration": 9,
    "start_time": "2021-12-20T19:25:30.436Z"
   },
   {
    "duration": 11,
    "start_time": "2021-12-20T19:26:23.061Z"
   },
   {
    "duration": 11,
    "start_time": "2021-12-20T19:29:27.942Z"
   },
   {
    "duration": 14,
    "start_time": "2021-12-20T19:29:38.932Z"
   },
   {
    "duration": 9,
    "start_time": "2021-12-20T19:29:56.728Z"
   },
   {
    "duration": 67,
    "start_time": "2021-12-20T19:30:22.229Z"
   },
   {
    "duration": 206,
    "start_time": "2021-12-20T19:33:04.757Z"
   },
   {
    "duration": 201,
    "start_time": "2021-12-20T19:46:32.439Z"
   },
   {
    "duration": 74,
    "start_time": "2021-12-20T19:46:46.983Z"
   },
   {
    "duration": 486,
    "start_time": "2021-12-20T19:46:51.959Z"
   },
   {
    "duration": 5946,
    "start_time": "2021-12-20T19:48:59.015Z"
   },
   {
    "duration": 522,
    "start_time": "2021-12-20T19:49:16.713Z"
   },
   {
    "duration": 4,
    "start_time": "2021-12-20T19:52:01.368Z"
   },
   {
    "duration": 634,
    "start_time": "2021-12-20T19:52:13.017Z"
   },
   {
    "duration": 5663,
    "start_time": "2021-12-20T19:52:19.400Z"
   },
   {
    "duration": 1147,
    "start_time": "2021-12-20T19:52:54.198Z"
   },
   {
    "duration": 172,
    "start_time": "2021-12-20T19:52:55.347Z"
   },
   {
    "duration": 22,
    "start_time": "2021-12-20T19:52:55.521Z"
   },
   {
    "duration": 140,
    "start_time": "2021-12-20T19:52:55.545Z"
   },
   {
    "duration": 16,
    "start_time": "2021-12-20T19:52:55.687Z"
   },
   {
    "duration": 100,
    "start_time": "2021-12-20T19:52:55.705Z"
   },
   {
    "duration": 14,
    "start_time": "2021-12-20T19:52:55.807Z"
   },
   {
    "duration": 22,
    "start_time": "2021-12-20T19:52:55.823Z"
   },
   {
    "duration": 14,
    "start_time": "2021-12-20T19:52:55.847Z"
   },
   {
    "duration": 51,
    "start_time": "2021-12-20T19:52:55.863Z"
   },
   {
    "duration": 6,
    "start_time": "2021-12-20T19:52:55.916Z"
   },
   {
    "duration": 6,
    "start_time": "2021-12-20T19:52:55.924Z"
   },
   {
    "duration": 70,
    "start_time": "2021-12-20T19:52:55.932Z"
   },
   {
    "duration": 2,
    "start_time": "2021-12-20T19:52:56.005Z"
   },
   {
    "duration": 9,
    "start_time": "2021-12-20T19:52:56.009Z"
   },
   {
    "duration": 8,
    "start_time": "2021-12-20T19:52:56.019Z"
   },
   {
    "duration": 4,
    "start_time": "2021-12-20T19:52:57.686Z"
   },
   {
    "duration": 507,
    "start_time": "2021-12-20T19:52:59.094Z"
   },
   {
    "duration": 5675,
    "start_time": "2021-12-20T19:53:22.919Z"
   },
   {
    "duration": 5295,
    "start_time": "2021-12-20T19:54:01.080Z"
   },
   {
    "duration": 268,
    "start_time": "2021-12-20T19:54:18.151Z"
   },
   {
    "duration": 373,
    "start_time": "2021-12-20T19:54:21.098Z"
   },
   {
    "duration": 1123,
    "start_time": "2021-12-20T19:55:39.402Z"
   },
   {
    "duration": 171,
    "start_time": "2021-12-20T19:55:40.527Z"
   },
   {
    "duration": 22,
    "start_time": "2021-12-20T19:55:40.699Z"
   },
   {
    "duration": 151,
    "start_time": "2021-12-20T19:55:40.723Z"
   },
   {
    "duration": 17,
    "start_time": "2021-12-20T19:55:40.876Z"
   },
   {
    "duration": 104,
    "start_time": "2021-12-20T19:55:40.895Z"
   },
   {
    "duration": 16,
    "start_time": "2021-12-20T19:55:41.001Z"
   },
   {
    "duration": 22,
    "start_time": "2021-12-20T19:55:41.020Z"
   },
   {
    "duration": 18,
    "start_time": "2021-12-20T19:55:41.044Z"
   },
   {
    "duration": 39,
    "start_time": "2021-12-20T19:55:41.063Z"
   },
   {
    "duration": 6,
    "start_time": "2021-12-20T19:55:41.104Z"
   },
   {
    "duration": 12,
    "start_time": "2021-12-20T19:55:41.112Z"
   },
   {
    "duration": 78,
    "start_time": "2021-12-20T19:55:41.125Z"
   },
   {
    "duration": 3,
    "start_time": "2021-12-20T19:55:41.205Z"
   },
   {
    "duration": 11,
    "start_time": "2021-12-20T19:55:41.210Z"
   },
   {
    "duration": 11,
    "start_time": "2021-12-20T19:55:41.223Z"
   },
   {
    "duration": 1164,
    "start_time": "2021-12-20T19:55:41.236Z"
   },
   {
    "duration": 3,
    "start_time": "2021-12-20T19:55:42.401Z"
   },
   {
    "duration": 9,
    "start_time": "2021-12-20T19:55:42.406Z"
   },
   {
    "duration": 99,
    "start_time": "2021-12-20T19:55:42.417Z"
   },
   {
    "duration": 5,
    "start_time": "2021-12-20T19:55:42.518Z"
   },
   {
    "duration": 1109,
    "start_time": "2021-12-20T20:19:06.796Z"
   },
   {
    "duration": 156,
    "start_time": "2021-12-20T20:19:07.907Z"
   },
   {
    "duration": 21,
    "start_time": "2021-12-20T20:19:08.065Z"
   },
   {
    "duration": 130,
    "start_time": "2021-12-20T20:19:08.088Z"
   },
   {
    "duration": 17,
    "start_time": "2021-12-20T20:19:08.219Z"
   },
   {
    "duration": 94,
    "start_time": "2021-12-20T20:19:08.238Z"
   },
   {
    "duration": 14,
    "start_time": "2021-12-20T20:19:08.334Z"
   },
   {
    "duration": 29,
    "start_time": "2021-12-20T20:19:08.350Z"
   },
   {
    "duration": 5,
    "start_time": "2021-12-20T20:19:08.381Z"
   },
   {
    "duration": 34,
    "start_time": "2021-12-20T20:19:08.387Z"
   },
   {
    "duration": 5,
    "start_time": "2021-12-20T20:19:08.422Z"
   },
   {
    "duration": 6,
    "start_time": "2021-12-20T20:19:08.429Z"
   },
   {
    "duration": 65,
    "start_time": "2021-12-20T20:19:08.436Z"
   },
   {
    "duration": 644,
    "start_time": "2021-12-20T20:19:07.859Z"
   },
   {
    "duration": 643,
    "start_time": "2021-12-20T20:19:07.861Z"
   },
   {
    "duration": 633,
    "start_time": "2021-12-20T20:19:07.872Z"
   },
   {
    "duration": 633,
    "start_time": "2021-12-20T20:19:07.873Z"
   },
   {
    "duration": 631,
    "start_time": "2021-12-20T20:19:07.876Z"
   },
   {
    "duration": 626,
    "start_time": "2021-12-20T20:19:07.881Z"
   },
   {
    "duration": 626,
    "start_time": "2021-12-20T20:19:07.883Z"
   },
   {
    "duration": 624,
    "start_time": "2021-12-20T20:19:07.885Z"
   },
   {
    "duration": 114,
    "start_time": "2021-12-20T20:19:28.230Z"
   },
   {
    "duration": 3,
    "start_time": "2021-12-20T20:19:32.865Z"
   },
   {
    "duration": 8,
    "start_time": "2021-12-20T20:19:32.870Z"
   },
   {
    "duration": 4,
    "start_time": "2021-12-20T20:19:32.880Z"
   },
   {
    "duration": 1074,
    "start_time": "2021-12-20T20:19:32.885Z"
   },
   {
    "duration": 2,
    "start_time": "2021-12-20T20:19:33.961Z"
   },
   {
    "duration": 8,
    "start_time": "2021-12-20T20:19:33.965Z"
   },
   {
    "duration": 89,
    "start_time": "2021-12-20T20:19:33.974Z"
   },
   {
    "duration": 5,
    "start_time": "2021-12-20T20:19:34.065Z"
   },
   {
    "duration": 9,
    "start_time": "2021-12-20T20:19:47.014Z"
   },
   {
    "duration": 13,
    "start_time": "2021-12-20T20:20:00.666Z"
   },
   {
    "duration": 14,
    "start_time": "2021-12-20T20:21:57.319Z"
   },
   {
    "duration": 16,
    "start_time": "2021-12-20T20:22:07.016Z"
   },
   {
    "duration": 10,
    "start_time": "2021-12-20T20:22:15.847Z"
   },
   {
    "duration": 890,
    "start_time": "2021-12-20T20:22:29.272Z"
   },
   {
    "duration": 9,
    "start_time": "2021-12-20T20:22:37.446Z"
   },
   {
    "duration": 14,
    "start_time": "2021-12-20T20:23:02.647Z"
   },
   {
    "duration": 200,
    "start_time": "2021-12-20T20:27:07.832Z"
   },
   {
    "duration": 1091,
    "start_time": "2021-12-20T20:27:27.119Z"
   },
   {
    "duration": 157,
    "start_time": "2021-12-20T20:27:28.212Z"
   },
   {
    "duration": 20,
    "start_time": "2021-12-20T20:27:28.372Z"
   },
   {
    "duration": 135,
    "start_time": "2021-12-20T20:27:28.395Z"
   },
   {
    "duration": 28,
    "start_time": "2021-12-20T20:27:28.532Z"
   },
   {
    "duration": 90,
    "start_time": "2021-12-20T20:27:28.562Z"
   },
   {
    "duration": 14,
    "start_time": "2021-12-20T20:27:28.654Z"
   },
   {
    "duration": 30,
    "start_time": "2021-12-20T20:27:28.670Z"
   },
   {
    "duration": 14,
    "start_time": "2021-12-20T20:27:28.702Z"
   },
   {
    "duration": 48,
    "start_time": "2021-12-20T20:27:28.718Z"
   },
   {
    "duration": 14,
    "start_time": "2021-12-20T20:27:28.769Z"
   },
   {
    "duration": 19,
    "start_time": "2021-12-20T20:27:28.784Z"
   },
   {
    "duration": 121,
    "start_time": "2021-12-20T20:27:28.805Z"
   },
   {
    "duration": 3,
    "start_time": "2021-12-20T20:27:28.928Z"
   },
   {
    "duration": 28,
    "start_time": "2021-12-20T20:27:28.933Z"
   },
   {
    "duration": 16,
    "start_time": "2021-12-20T20:27:28.963Z"
   },
   {
    "duration": 1081,
    "start_time": "2021-12-20T20:27:28.980Z"
   },
   {
    "duration": 3,
    "start_time": "2021-12-20T20:27:30.062Z"
   },
   {
    "duration": 15,
    "start_time": "2021-12-20T20:27:30.067Z"
   },
   {
    "duration": 91,
    "start_time": "2021-12-20T20:27:30.083Z"
   },
   {
    "duration": 5,
    "start_time": "2021-12-20T20:27:30.176Z"
   },
   {
    "duration": 20,
    "start_time": "2021-12-20T20:27:30.183Z"
   },
   {
    "duration": 15,
    "start_time": "2021-12-20T20:27:30.207Z"
   },
   {
    "duration": 18,
    "start_time": "2021-12-20T20:27:30.224Z"
   },
   {
    "duration": 18,
    "start_time": "2021-12-20T20:27:30.244Z"
   },
   {
    "duration": 14,
    "start_time": "2021-12-20T20:27:30.264Z"
   },
   {
    "duration": 9,
    "start_time": "2021-12-20T20:29:18.297Z"
   },
   {
    "duration": 6,
    "start_time": "2021-12-20T20:29:27.368Z"
   },
   {
    "duration": 286,
    "start_time": "2021-12-20T20:32:23.625Z"
   },
   {
    "duration": 15,
    "start_time": "2021-12-20T20:32:34.393Z"
   },
   {
    "duration": 8,
    "start_time": "2021-12-20T20:32:36.057Z"
   },
   {
    "duration": 13,
    "start_time": "2021-12-20T20:33:54.665Z"
   },
   {
    "duration": 9,
    "start_time": "2021-12-20T20:33:55.369Z"
   },
   {
    "duration": 327,
    "start_time": "2021-12-20T20:34:25.772Z"
   },
   {
    "duration": 13,
    "start_time": "2021-12-20T20:34:37.321Z"
   },
   {
    "duration": 12,
    "start_time": "2021-12-20T20:34:46.009Z"
   },
   {
    "duration": 18,
    "start_time": "2021-12-20T20:34:59.145Z"
   },
   {
    "duration": 18,
    "start_time": "2021-12-20T20:35:00.329Z"
   },
   {
    "duration": 15,
    "start_time": "2021-12-20T20:40:15.547Z"
   },
   {
    "duration": 236,
    "start_time": "2021-12-21T06:41:35.658Z"
   },
   {
    "duration": 1104,
    "start_time": "2021-12-21T06:41:46.853Z"
   },
   {
    "duration": 147,
    "start_time": "2021-12-21T06:41:47.959Z"
   },
   {
    "duration": 19,
    "start_time": "2021-12-21T06:41:48.108Z"
   },
   {
    "duration": 124,
    "start_time": "2021-12-21T06:41:48.129Z"
   },
   {
    "duration": 17,
    "start_time": "2021-12-21T06:41:48.259Z"
   },
   {
    "duration": 92,
    "start_time": "2021-12-21T06:41:48.278Z"
   },
   {
    "duration": 14,
    "start_time": "2021-12-21T06:41:48.372Z"
   },
   {
    "duration": 20,
    "start_time": "2021-12-21T06:41:48.389Z"
   },
   {
    "duration": 7,
    "start_time": "2021-12-21T06:41:48.410Z"
   },
   {
    "duration": 34,
    "start_time": "2021-12-21T06:41:48.418Z"
   },
   {
    "duration": 5,
    "start_time": "2021-12-21T06:41:48.454Z"
   },
   {
    "duration": 4,
    "start_time": "2021-12-21T06:41:48.461Z"
   },
   {
    "duration": 118,
    "start_time": "2021-12-21T06:41:48.466Z"
   },
   {
    "duration": 2,
    "start_time": "2021-12-21T06:41:48.586Z"
   },
   {
    "duration": 8,
    "start_time": "2021-12-21T06:41:48.590Z"
   },
   {
    "duration": 5,
    "start_time": "2021-12-21T06:41:48.600Z"
   },
   {
    "duration": 1106,
    "start_time": "2021-12-21T06:41:48.606Z"
   },
   {
    "duration": 5,
    "start_time": "2021-12-21T06:41:49.713Z"
   },
   {
    "duration": 3,
    "start_time": "2021-12-21T06:42:09.293Z"
   },
   {
    "duration": 5,
    "start_time": "2021-12-21T06:42:20.270Z"
   },
   {
    "duration": 102,
    "start_time": "2021-12-21T06:42:22.045Z"
   },
   {
    "duration": 9,
    "start_time": "2021-12-21T06:42:24.334Z"
   },
   {
    "duration": 21,
    "start_time": "2021-12-21T06:42:25.757Z"
   },
   {
    "duration": 13,
    "start_time": "2021-12-21T06:42:30.620Z"
   },
   {
    "duration": 11,
    "start_time": "2021-12-21T06:42:31.133Z"
   },
   {
    "duration": 9,
    "start_time": "2021-12-21T06:42:32.205Z"
   },
   {
    "duration": 15,
    "start_time": "2021-12-21T06:42:32.621Z"
   },
   {
    "duration": 17,
    "start_time": "2021-12-21T06:42:38.029Z"
   },
   {
    "duration": 73,
    "start_time": "2021-12-21T06:43:38.990Z"
   },
   {
    "duration": 20,
    "start_time": "2021-12-21T06:43:44.285Z"
   },
   {
    "duration": 14,
    "start_time": "2021-12-21T06:45:28.141Z"
   },
   {
    "duration": 9,
    "start_time": "2021-12-21T06:46:46.054Z"
   },
   {
    "duration": 18,
    "start_time": "2021-12-21T06:47:17.539Z"
   },
   {
    "duration": 14,
    "start_time": "2021-12-21T06:47:42.127Z"
   },
   {
    "duration": 16,
    "start_time": "2021-12-21T06:51:15.295Z"
   },
   {
    "duration": 66,
    "start_time": "2021-12-21T06:51:29.615Z"
   },
   {
    "duration": 294,
    "start_time": "2021-12-21T06:51:48.079Z"
   },
   {
    "duration": 20,
    "start_time": "2021-12-21T06:52:16.752Z"
   },
   {
    "duration": 6483,
    "start_time": "2021-12-21T06:53:29.712Z"
   },
   {
    "duration": 5127,
    "start_time": "2021-12-21T06:53:58.736Z"
   },
   {
    "duration": 6581,
    "start_time": "2021-12-21T06:54:12.608Z"
   },
   {
    "duration": 5222,
    "start_time": "2021-12-21T06:54:40.304Z"
   },
   {
    "duration": 1154,
    "start_time": "2021-12-21T06:57:10.183Z"
   },
   {
    "duration": 172,
    "start_time": "2021-12-21T06:57:11.339Z"
   },
   {
    "duration": 22,
    "start_time": "2021-12-21T06:57:11.513Z"
   },
   {
    "duration": 162,
    "start_time": "2021-12-21T06:57:11.537Z"
   },
   {
    "duration": 19,
    "start_time": "2021-12-21T06:57:11.701Z"
   },
   {
    "duration": 94,
    "start_time": "2021-12-21T06:57:11.723Z"
   },
   {
    "duration": 15,
    "start_time": "2021-12-21T06:57:11.819Z"
   },
   {
    "duration": 25,
    "start_time": "2021-12-21T06:57:11.836Z"
   },
   {
    "duration": 8,
    "start_time": "2021-12-21T06:57:11.864Z"
   },
   {
    "duration": 47,
    "start_time": "2021-12-21T06:57:11.874Z"
   },
   {
    "duration": 22,
    "start_time": "2021-12-21T06:57:11.924Z"
   },
   {
    "duration": 11,
    "start_time": "2021-12-21T06:57:11.948Z"
   },
   {
    "duration": 138,
    "start_time": "2021-12-21T06:57:11.961Z"
   },
   {
    "duration": 3,
    "start_time": "2021-12-21T06:57:12.101Z"
   },
   {
    "duration": 24,
    "start_time": "2021-12-21T06:57:12.106Z"
   },
   {
    "duration": 15,
    "start_time": "2021-12-21T06:57:12.132Z"
   },
   {
    "duration": 1135,
    "start_time": "2021-12-21T06:57:12.149Z"
   },
   {
    "duration": 5,
    "start_time": "2021-12-21T06:57:13.286Z"
   },
   {
    "duration": 7,
    "start_time": "2021-12-21T06:57:13.292Z"
   },
   {
    "duration": 11,
    "start_time": "2021-12-21T06:57:13.300Z"
   },
   {
    "duration": 106,
    "start_time": "2021-12-21T06:57:13.312Z"
   },
   {
    "duration": 5,
    "start_time": "2021-12-21T06:57:13.420Z"
   },
   {
    "duration": 15,
    "start_time": "2021-12-21T06:57:13.428Z"
   },
   {
    "duration": 26,
    "start_time": "2021-12-21T06:57:13.445Z"
   },
   {
    "duration": 10,
    "start_time": "2021-12-21T06:57:13.473Z"
   },
   {
    "duration": 12,
    "start_time": "2021-12-21T06:57:13.485Z"
   },
   {
    "duration": 13,
    "start_time": "2021-12-21T06:57:13.499Z"
   },
   {
    "duration": 48,
    "start_time": "2021-12-21T06:57:13.514Z"
   },
   {
    "duration": 18,
    "start_time": "2021-12-21T06:57:13.564Z"
   },
   {
    "duration": 13,
    "start_time": "2021-12-21T06:57:13.584Z"
   },
   {
    "duration": 5867,
    "start_time": "2021-12-21T06:57:17.313Z"
   },
   {
    "duration": 16,
    "start_time": "2021-12-21T06:57:36.337Z"
   },
   {
    "duration": 13,
    "start_time": "2021-12-21T07:02:31.698Z"
   },
   {
    "duration": 9,
    "start_time": "2021-12-21T07:04:59.202Z"
   },
   {
    "duration": 8,
    "start_time": "2021-12-21T07:05:07.313Z"
   },
   {
    "duration": 15,
    "start_time": "2021-12-21T07:05:30.737Z"
   },
   {
    "duration": 22,
    "start_time": "2021-12-21T07:05:46.193Z"
   },
   {
    "duration": 20,
    "start_time": "2021-12-21T07:05:47.937Z"
   },
   {
    "duration": 18,
    "start_time": "2021-12-21T07:05:49.472Z"
   },
   {
    "duration": 13,
    "start_time": "2021-12-21T07:05:52.513Z"
   },
   {
    "duration": 4,
    "start_time": "2021-12-21T07:05:52.528Z"
   },
   {
    "duration": 15,
    "start_time": "2021-12-21T07:05:52.535Z"
   },
   {
    "duration": 4,
    "start_time": "2021-12-21T07:09:15.681Z"
   },
   {
    "duration": 1152,
    "start_time": "2021-12-21T07:09:23.880Z"
   },
   {
    "duration": 162,
    "start_time": "2021-12-21T07:09:25.034Z"
   },
   {
    "duration": 20,
    "start_time": "2021-12-21T07:09:25.198Z"
   },
   {
    "duration": 137,
    "start_time": "2021-12-21T07:09:25.220Z"
   },
   {
    "duration": 19,
    "start_time": "2021-12-21T07:09:25.360Z"
   },
   {
    "duration": 105,
    "start_time": "2021-12-21T07:09:25.381Z"
   },
   {
    "duration": 16,
    "start_time": "2021-12-21T07:09:25.488Z"
   },
   {
    "duration": 22,
    "start_time": "2021-12-21T07:09:25.507Z"
   },
   {
    "duration": 6,
    "start_time": "2021-12-21T07:09:25.532Z"
   },
   {
    "duration": 33,
    "start_time": "2021-12-21T07:09:25.560Z"
   },
   {
    "duration": 15,
    "start_time": "2021-12-21T07:09:25.595Z"
   },
   {
    "duration": 18,
    "start_time": "2021-12-21T07:09:25.612Z"
   },
   {
    "duration": 120,
    "start_time": "2021-12-21T07:09:25.632Z"
   },
   {
    "duration": 7,
    "start_time": "2021-12-21T07:09:25.754Z"
   },
   {
    "duration": 20,
    "start_time": "2021-12-21T07:09:25.763Z"
   },
   {
    "duration": 15,
    "start_time": "2021-12-21T07:09:25.785Z"
   },
   {
    "duration": 1128,
    "start_time": "2021-12-21T07:09:25.801Z"
   },
   {
    "duration": 6,
    "start_time": "2021-12-21T07:09:26.930Z"
   },
   {
    "duration": 12,
    "start_time": "2021-12-21T07:09:26.937Z"
   },
   {
    "duration": 3,
    "start_time": "2021-12-21T07:09:28.816Z"
   },
   {
    "duration": 5,
    "start_time": "2021-12-21T07:09:28.993Z"
   },
   {
    "duration": 96,
    "start_time": "2021-12-21T07:09:29.424Z"
   },
   {
    "duration": 6,
    "start_time": "2021-12-21T07:09:30.930Z"
   },
   {
    "duration": 9,
    "start_time": "2021-12-21T07:09:31.408Z"
   },
   {
    "duration": 17,
    "start_time": "2021-12-21T07:09:31.633Z"
   },
   {
    "duration": 11,
    "start_time": "2021-12-21T07:09:31.872Z"
   },
   {
    "duration": 11,
    "start_time": "2021-12-21T07:09:33.216Z"
   },
   {
    "duration": 13,
    "start_time": "2021-12-21T07:09:33.504Z"
   },
   {
    "duration": 30,
    "start_time": "2021-12-21T07:09:44.720Z"
   },
   {
    "duration": 22,
    "start_time": "2021-12-21T07:09:45.904Z"
   },
   {
    "duration": 19,
    "start_time": "2021-12-21T07:09:46.304Z"
   },
   {
    "duration": 12,
    "start_time": "2021-12-21T07:09:47.440Z"
   },
   {
    "duration": 4,
    "start_time": "2021-12-21T07:09:47.648Z"
   },
   {
    "duration": 14,
    "start_time": "2021-12-21T07:09:47.872Z"
   },
   {
    "duration": 278,
    "start_time": "2021-12-21T07:25:48.130Z"
   },
   {
    "duration": 25,
    "start_time": "2021-12-21T07:25:55.842Z"
   },
   {
    "duration": 28,
    "start_time": "2021-12-21T07:26:52.466Z"
   },
   {
    "duration": 1307,
    "start_time": "2021-12-21T07:27:01.004Z"
   },
   {
    "duration": 169,
    "start_time": "2021-12-21T07:27:02.313Z"
   },
   {
    "duration": 22,
    "start_time": "2021-12-21T07:27:02.484Z"
   },
   {
    "duration": 140,
    "start_time": "2021-12-21T07:27:02.508Z"
   },
   {
    "duration": 22,
    "start_time": "2021-12-21T07:27:02.649Z"
   },
   {
    "duration": 101,
    "start_time": "2021-12-21T07:27:02.673Z"
   },
   {
    "duration": 14,
    "start_time": "2021-12-21T07:27:02.776Z"
   },
   {
    "duration": 36,
    "start_time": "2021-12-21T07:27:02.793Z"
   },
   {
    "duration": 36,
    "start_time": "2021-12-21T07:27:02.831Z"
   },
   {
    "duration": 44,
    "start_time": "2021-12-21T07:27:02.869Z"
   },
   {
    "duration": 7,
    "start_time": "2021-12-21T07:27:02.915Z"
   },
   {
    "duration": 30,
    "start_time": "2021-12-21T07:27:02.924Z"
   },
   {
    "duration": 129,
    "start_time": "2021-12-21T07:27:02.957Z"
   },
   {
    "duration": 3,
    "start_time": "2021-12-21T07:27:03.088Z"
   },
   {
    "duration": 29,
    "start_time": "2021-12-21T07:27:03.092Z"
   },
   {
    "duration": 23,
    "start_time": "2021-12-21T07:27:03.123Z"
   },
   {
    "duration": 1182,
    "start_time": "2021-12-21T07:27:03.147Z"
   },
   {
    "duration": 5,
    "start_time": "2021-12-21T07:27:04.331Z"
   },
   {
    "duration": 9,
    "start_time": "2021-12-21T07:27:04.338Z"
   },
   {
    "duration": 3,
    "start_time": "2021-12-21T07:27:04.360Z"
   },
   {
    "duration": 8,
    "start_time": "2021-12-21T07:27:04.366Z"
   },
   {
    "duration": 113,
    "start_time": "2021-12-21T07:27:04.376Z"
   },
   {
    "duration": 5,
    "start_time": "2021-12-21T07:27:04.493Z"
   },
   {
    "duration": 14,
    "start_time": "2021-12-21T07:27:04.501Z"
   },
   {
    "duration": 14,
    "start_time": "2021-12-21T07:27:04.518Z"
   },
   {
    "duration": 30,
    "start_time": "2021-12-21T07:27:04.534Z"
   },
   {
    "duration": 11,
    "start_time": "2021-12-21T07:27:04.567Z"
   },
   {
    "duration": 14,
    "start_time": "2021-12-21T07:27:04.580Z"
   },
   {
    "duration": 28,
    "start_time": "2021-12-21T07:27:04.596Z"
   },
   {
    "duration": 52,
    "start_time": "2021-12-21T07:27:04.626Z"
   },
   {
    "duration": 19,
    "start_time": "2021-12-21T07:27:04.680Z"
   },
   {
    "duration": 12,
    "start_time": "2021-12-21T07:27:04.701Z"
   },
   {
    "duration": 5,
    "start_time": "2021-12-21T07:27:04.715Z"
   },
   {
    "duration": 43,
    "start_time": "2021-12-21T07:27:04.722Z"
   },
   {
    "duration": 28,
    "start_time": "2021-12-21T07:27:06.307Z"
   },
   {
    "duration": 27,
    "start_time": "2021-12-21T07:28:09.428Z"
   },
   {
    "duration": 19,
    "start_time": "2021-12-21T07:31:06.148Z"
   },
   {
    "duration": 1058,
    "start_time": "2021-12-21T07:33:37.408Z"
   },
   {
    "duration": 155,
    "start_time": "2021-12-21T07:33:38.468Z"
   },
   {
    "duration": 20,
    "start_time": "2021-12-21T07:33:38.624Z"
   },
   {
    "duration": 127,
    "start_time": "2021-12-21T07:33:38.646Z"
   },
   {
    "duration": 17,
    "start_time": "2021-12-21T07:33:38.774Z"
   },
   {
    "duration": 92,
    "start_time": "2021-12-21T07:33:38.792Z"
   },
   {
    "duration": 14,
    "start_time": "2021-12-21T07:33:38.885Z"
   },
   {
    "duration": 20,
    "start_time": "2021-12-21T07:33:38.901Z"
   },
   {
    "duration": 10,
    "start_time": "2021-12-21T07:33:38.923Z"
   },
   {
    "duration": 34,
    "start_time": "2021-12-21T07:33:38.934Z"
   },
   {
    "duration": 6,
    "start_time": "2021-12-21T07:33:38.969Z"
   },
   {
    "duration": 8,
    "start_time": "2021-12-21T07:33:38.976Z"
   },
   {
    "duration": 124,
    "start_time": "2021-12-21T07:33:38.985Z"
   },
   {
    "duration": 2,
    "start_time": "2021-12-21T07:33:39.111Z"
   },
   {
    "duration": 9,
    "start_time": "2021-12-21T07:33:39.115Z"
   },
   {
    "duration": 8,
    "start_time": "2021-12-21T07:33:39.126Z"
   },
   {
    "duration": 1100,
    "start_time": "2021-12-21T07:33:39.135Z"
   },
   {
    "duration": 4,
    "start_time": "2021-12-21T07:33:40.237Z"
   },
   {
    "duration": 13,
    "start_time": "2021-12-21T07:33:40.242Z"
   },
   {
    "duration": 3,
    "start_time": "2021-12-21T07:33:40.257Z"
   },
   {
    "duration": 8,
    "start_time": "2021-12-21T07:33:40.262Z"
   },
   {
    "duration": 109,
    "start_time": "2021-12-21T07:33:40.271Z"
   },
   {
    "duration": 7,
    "start_time": "2021-12-21T07:33:40.383Z"
   },
   {
    "duration": 12,
    "start_time": "2021-12-21T07:33:40.392Z"
   },
   {
    "duration": 14,
    "start_time": "2021-12-21T07:33:40.405Z"
   },
   {
    "duration": 10,
    "start_time": "2021-12-21T07:33:40.421Z"
   },
   {
    "duration": 35,
    "start_time": "2021-12-21T07:33:40.432Z"
   },
   {
    "duration": 12,
    "start_time": "2021-12-21T07:33:40.469Z"
   },
   {
    "duration": 27,
    "start_time": "2021-12-21T07:33:40.482Z"
   },
   {
    "duration": 19,
    "start_time": "2021-12-21T07:33:40.510Z"
   },
   {
    "duration": 41,
    "start_time": "2021-12-21T07:33:40.530Z"
   },
   {
    "duration": 10,
    "start_time": "2021-12-21T07:33:40.572Z"
   },
   {
    "duration": 33,
    "start_time": "2021-12-21T07:33:40.584Z"
   },
   {
    "duration": 26,
    "start_time": "2021-12-21T07:33:40.619Z"
   },
   {
    "duration": 69,
    "start_time": "2021-12-21T07:33:44.145Z"
   },
   {
    "duration": 1201,
    "start_time": "2021-12-21T07:38:34.881Z"
   },
   {
    "duration": 150,
    "start_time": "2021-12-21T07:38:36.084Z"
   },
   {
    "duration": 24,
    "start_time": "2021-12-21T07:38:36.236Z"
   },
   {
    "duration": 124,
    "start_time": "2021-12-21T07:38:36.262Z"
   },
   {
    "duration": 16,
    "start_time": "2021-12-21T07:38:36.388Z"
   },
   {
    "duration": 87,
    "start_time": "2021-12-21T07:38:36.406Z"
   },
   {
    "duration": 14,
    "start_time": "2021-12-21T07:38:36.495Z"
   },
   {
    "duration": 45,
    "start_time": "2021-12-21T07:38:36.511Z"
   },
   {
    "duration": 25,
    "start_time": "2021-12-21T07:38:36.559Z"
   },
   {
    "duration": 57,
    "start_time": "2021-12-21T07:38:36.585Z"
   },
   {
    "duration": 14,
    "start_time": "2021-12-21T07:38:36.643Z"
   },
   {
    "duration": 31,
    "start_time": "2021-12-21T07:38:36.658Z"
   },
   {
    "duration": 120,
    "start_time": "2021-12-21T07:38:36.690Z"
   },
   {
    "duration": 3,
    "start_time": "2021-12-21T07:38:36.812Z"
   },
   {
    "duration": 48,
    "start_time": "2021-12-21T07:38:36.816Z"
   },
   {
    "duration": 17,
    "start_time": "2021-12-21T07:38:36.866Z"
   },
   {
    "duration": 1076,
    "start_time": "2021-12-21T07:38:36.884Z"
   },
   {
    "duration": 5,
    "start_time": "2021-12-21T07:38:37.962Z"
   },
   {
    "duration": 8,
    "start_time": "2021-12-21T07:38:37.968Z"
   },
   {
    "duration": 2,
    "start_time": "2021-12-21T07:38:37.978Z"
   },
   {
    "duration": 11,
    "start_time": "2021-12-21T07:38:37.982Z"
   },
   {
    "duration": 99,
    "start_time": "2021-12-21T07:38:37.994Z"
   },
   {
    "duration": 5,
    "start_time": "2021-12-21T07:38:38.096Z"
   },
   {
    "duration": 12,
    "start_time": "2021-12-21T07:38:38.102Z"
   },
   {
    "duration": 11,
    "start_time": "2021-12-21T07:38:38.115Z"
   },
   {
    "duration": 13,
    "start_time": "2021-12-21T07:38:38.127Z"
   },
   {
    "duration": 26,
    "start_time": "2021-12-21T07:38:38.142Z"
   },
   {
    "duration": 14,
    "start_time": "2021-12-21T07:38:38.170Z"
   },
   {
    "duration": 62,
    "start_time": "2021-12-21T07:38:40.662Z"
   },
   {
    "duration": 36,
    "start_time": "2021-12-21T07:38:43.431Z"
   },
   {
    "duration": 46,
    "start_time": "2021-12-21T07:38:44.103Z"
   },
   {
    "duration": 58,
    "start_time": "2021-12-21T07:38:54.744Z"
   },
   {
    "duration": 19,
    "start_time": "2021-12-21T07:39:06.712Z"
   },
   {
    "duration": 13,
    "start_time": "2021-12-21T07:39:17.703Z"
   },
   {
    "duration": 42,
    "start_time": "2021-12-21T07:39:32.583Z"
   },
   {
    "duration": 55,
    "start_time": "2021-12-21T07:39:44.744Z"
   },
   {
    "duration": 21,
    "start_time": "2021-12-21T07:40:09.176Z"
   },
   {
    "duration": 11,
    "start_time": "2021-12-21T07:40:14.583Z"
   },
   {
    "duration": 31,
    "start_time": "2021-12-21T07:40:29.800Z"
   },
   {
    "duration": 38,
    "start_time": "2021-12-21T07:40:30.536Z"
   },
   {
    "duration": 28,
    "start_time": "2021-12-21T07:40:31.975Z"
   },
   {
    "duration": 21,
    "start_time": "2021-12-21T07:40:33.352Z"
   },
   {
    "duration": 12,
    "start_time": "2021-12-21T07:40:34.538Z"
   },
   {
    "duration": 13,
    "start_time": "2021-12-21T07:40:48.856Z"
   },
   {
    "duration": 14,
    "start_time": "2021-12-21T07:41:36.728Z"
   },
   {
    "duration": 179,
    "start_time": "2021-12-21T07:43:01.178Z"
   },
   {
    "duration": 27,
    "start_time": "2021-12-21T07:43:10.600Z"
   },
   {
    "duration": 8,
    "start_time": "2021-12-21T07:43:26.138Z"
   },
   {
    "duration": 28,
    "start_time": "2021-12-21T07:44:11.832Z"
   },
   {
    "duration": 13,
    "start_time": "2021-12-21T07:44:13.820Z"
   },
   {
    "duration": 44,
    "start_time": "2021-12-21T07:44:21.640Z"
   },
   {
    "duration": 44,
    "start_time": "2021-12-21T07:44:27.080Z"
   },
   {
    "duration": 19,
    "start_time": "2021-12-21T07:44:28.200Z"
   },
   {
    "duration": 23,
    "start_time": "2021-12-21T07:44:30.343Z"
   },
   {
    "duration": 28,
    "start_time": "2021-12-21T07:44:32.249Z"
   },
   {
    "duration": 27,
    "start_time": "2021-12-21T07:44:41.608Z"
   },
   {
    "duration": 5,
    "start_time": "2021-12-21T07:44:46.296Z"
   },
   {
    "duration": 15,
    "start_time": "2021-12-21T07:44:47.303Z"
   },
   {
    "duration": 13,
    "start_time": "2021-12-21T07:49:18.776Z"
   },
   {
    "duration": 11,
    "start_time": "2021-12-21T08:27:56.382Z"
   },
   {
    "duration": 3,
    "start_time": "2021-12-21T08:34:03.133Z"
   },
   {
    "duration": 6525,
    "start_time": "2021-12-21T08:34:03.981Z"
   },
   {
    "duration": 19,
    "start_time": "2021-12-21T08:35:04.014Z"
   },
   {
    "duration": 27,
    "start_time": "2021-12-21T08:35:11.424Z"
   },
   {
    "duration": 27,
    "start_time": "2021-12-21T08:36:23.694Z"
   },
   {
    "duration": 26,
    "start_time": "2021-12-21T08:36:36.942Z"
   },
   {
    "duration": 4,
    "start_time": "2021-12-21T08:37:26.351Z"
   },
   {
    "duration": 4,
    "start_time": "2021-12-21T08:37:36.896Z"
   },
   {
    "duration": 3,
    "start_time": "2021-12-21T08:38:17.230Z"
   },
   {
    "duration": 1180,
    "start_time": "2021-12-21T08:38:24.960Z"
   },
   {
    "duration": 163,
    "start_time": "2021-12-21T08:38:26.142Z"
   },
   {
    "duration": 24,
    "start_time": "2021-12-21T08:38:26.308Z"
   },
   {
    "duration": 172,
    "start_time": "2021-12-21T08:38:26.335Z"
   },
   {
    "duration": 18,
    "start_time": "2021-12-21T08:38:26.509Z"
   },
   {
    "duration": 114,
    "start_time": "2021-12-21T08:38:26.529Z"
   },
   {
    "duration": 21,
    "start_time": "2021-12-21T08:38:26.645Z"
   },
   {
    "duration": 39,
    "start_time": "2021-12-21T08:38:26.668Z"
   },
   {
    "duration": 64,
    "start_time": "2021-12-21T08:38:26.711Z"
   },
   {
    "duration": 68,
    "start_time": "2021-12-21T08:38:26.777Z"
   },
   {
    "duration": 30,
    "start_time": "2021-12-21T08:38:26.848Z"
   },
   {
    "duration": 51,
    "start_time": "2021-12-21T08:38:26.880Z"
   },
   {
    "duration": 136,
    "start_time": "2021-12-21T08:38:26.934Z"
   },
   {
    "duration": 4,
    "start_time": "2021-12-21T08:38:27.073Z"
   },
   {
    "duration": 54,
    "start_time": "2021-12-21T08:38:27.079Z"
   },
   {
    "duration": 40,
    "start_time": "2021-12-21T08:38:27.135Z"
   },
   {
    "duration": 1210,
    "start_time": "2021-12-21T08:38:27.177Z"
   },
   {
    "duration": 5,
    "start_time": "2021-12-21T08:38:28.389Z"
   },
   {
    "duration": 45,
    "start_time": "2021-12-21T08:38:28.395Z"
   },
   {
    "duration": 33,
    "start_time": "2021-12-21T08:38:28.441Z"
   },
   {
    "duration": 40,
    "start_time": "2021-12-21T08:38:28.476Z"
   },
   {
    "duration": 183,
    "start_time": "2021-12-21T08:38:28.518Z"
   },
   {
    "duration": 7,
    "start_time": "2021-12-21T08:38:28.703Z"
   },
   {
    "duration": 41,
    "start_time": "2021-12-21T08:38:28.712Z"
   },
   {
    "duration": 29,
    "start_time": "2021-12-21T08:38:28.755Z"
   },
   {
    "duration": 37,
    "start_time": "2021-12-21T08:38:28.786Z"
   },
   {
    "duration": 34,
    "start_time": "2021-12-21T08:38:28.828Z"
   },
   {
    "duration": 40,
    "start_time": "2021-12-21T08:38:28.865Z"
   },
   {
    "duration": 92,
    "start_time": "2021-12-21T08:38:28.907Z"
   },
   {
    "duration": 37,
    "start_time": "2021-12-21T08:38:29.002Z"
   },
   {
    "duration": 67,
    "start_time": "2021-12-21T08:38:29.041Z"
   },
   {
    "duration": 80,
    "start_time": "2021-12-21T08:38:29.110Z"
   },
   {
    "duration": 30,
    "start_time": "2021-12-21T08:38:29.192Z"
   },
   {
    "duration": 52,
    "start_time": "2021-12-21T08:38:29.224Z"
   },
   {
    "duration": 28,
    "start_time": "2021-12-21T08:38:29.278Z"
   },
   {
    "duration": 11,
    "start_time": "2021-12-21T08:38:29.308Z"
   },
   {
    "duration": 61,
    "start_time": "2021-12-21T08:38:29.321Z"
   },
   {
    "duration": 70,
    "start_time": "2021-12-21T08:38:29.383Z"
   },
   {
    "duration": 50,
    "start_time": "2021-12-21T08:38:29.454Z"
   },
   {
    "duration": 3,
    "start_time": "2021-12-21T08:38:35.112Z"
   },
   {
    "duration": 6249,
    "start_time": "2021-12-21T08:38:36.600Z"
   },
   {
    "duration": 6187,
    "start_time": "2021-12-21T08:41:01.161Z"
   },
   {
    "duration": 6573,
    "start_time": "2021-12-21T08:41:13.785Z"
   },
   {
    "duration": 6269,
    "start_time": "2021-12-21T08:41:47.241Z"
   },
   {
    "duration": 3,
    "start_time": "2021-12-21T08:43:42.841Z"
   },
   {
    "duration": 6110,
    "start_time": "2021-12-21T08:43:43.737Z"
   },
   {
    "duration": 70,
    "start_time": "2021-12-21T08:46:29.129Z"
   },
   {
    "duration": 71,
    "start_time": "2021-12-21T08:46:32.009Z"
   },
   {
    "duration": 87,
    "start_time": "2021-12-21T08:46:33.545Z"
   },
   {
    "duration": 78,
    "start_time": "2021-12-21T08:46:35.769Z"
   },
   {
    "duration": 30,
    "start_time": "2021-12-21T08:55:00.443Z"
   },
   {
    "duration": 5382,
    "start_time": "2021-12-21T09:07:46.028Z"
   },
   {
    "duration": 5341,
    "start_time": "2021-12-21T09:08:54.844Z"
   },
   {
    "duration": 5243,
    "start_time": "2021-12-21T09:19:40.237Z"
   },
   {
    "duration": 6709,
    "start_time": "2021-12-21T09:20:09.021Z"
   },
   {
    "duration": 9679,
    "start_time": "2021-12-21T09:20:27.554Z"
   },
   {
    "duration": 1167,
    "start_time": "2021-12-21T09:27:37.653Z"
   },
   {
    "duration": 163,
    "start_time": "2021-12-21T09:27:38.822Z"
   },
   {
    "duration": 22,
    "start_time": "2021-12-21T09:27:38.987Z"
   },
   {
    "duration": 147,
    "start_time": "2021-12-21T09:27:39.011Z"
   },
   {
    "duration": 25,
    "start_time": "2021-12-21T09:27:39.161Z"
   },
   {
    "duration": 99,
    "start_time": "2021-12-21T09:27:39.188Z"
   },
   {
    "duration": 14,
    "start_time": "2021-12-21T09:27:39.289Z"
   },
   {
    "duration": 22,
    "start_time": "2021-12-21T09:27:39.305Z"
   },
   {
    "duration": 7,
    "start_time": "2021-12-21T09:27:39.331Z"
   },
   {
    "duration": 55,
    "start_time": "2021-12-21T09:27:39.340Z"
   },
   {
    "duration": 8,
    "start_time": "2021-12-21T09:27:39.397Z"
   },
   {
    "duration": 10,
    "start_time": "2021-12-21T09:27:39.406Z"
   },
   {
    "duration": 128,
    "start_time": "2021-12-21T09:27:39.418Z"
   },
   {
    "duration": 2,
    "start_time": "2021-12-21T09:27:39.548Z"
   },
   {
    "duration": 8,
    "start_time": "2021-12-21T09:27:39.552Z"
   },
   {
    "duration": 5,
    "start_time": "2021-12-21T09:27:39.562Z"
   },
   {
    "duration": 1162,
    "start_time": "2021-12-21T09:27:39.568Z"
   },
   {
    "duration": 5,
    "start_time": "2021-12-21T09:27:40.732Z"
   },
   {
    "duration": 15,
    "start_time": "2021-12-21T09:27:40.738Z"
   },
   {
    "duration": 7,
    "start_time": "2021-12-21T09:27:40.754Z"
   },
   {
    "duration": 9,
    "start_time": "2021-12-21T09:27:40.763Z"
   },
   {
    "duration": 105,
    "start_time": "2021-12-21T09:27:40.774Z"
   },
   {
    "duration": 5,
    "start_time": "2021-12-21T09:27:40.881Z"
   },
   {
    "duration": 15,
    "start_time": "2021-12-21T09:27:40.888Z"
   },
   {
    "duration": 15,
    "start_time": "2021-12-21T09:27:40.904Z"
   },
   {
    "duration": 14,
    "start_time": "2021-12-21T09:27:40.921Z"
   },
   {
    "duration": 32,
    "start_time": "2021-12-21T09:27:40.937Z"
   },
   {
    "duration": 14,
    "start_time": "2021-12-21T09:27:40.971Z"
   },
   {
    "duration": 81,
    "start_time": "2021-12-21T09:27:40.987Z"
   },
   {
    "duration": 37,
    "start_time": "2021-12-21T09:27:41.070Z"
   },
   {
    "duration": 67,
    "start_time": "2021-12-21T09:27:41.109Z"
   },
   {
    "duration": 53,
    "start_time": "2021-12-21T09:28:56.717Z"
   },
   {
    "duration": 14,
    "start_time": "2021-12-21T09:29:08.285Z"
   },
   {
    "duration": 11,
    "start_time": "2021-12-21T09:29:30.639Z"
   },
   {
    "duration": 2005,
    "start_time": "2021-12-21T09:31:01.717Z"
   },
   {
    "duration": 164,
    "start_time": "2021-12-21T09:31:03.724Z"
   },
   {
    "duration": 20,
    "start_time": "2021-12-21T09:31:03.890Z"
   },
   {
    "duration": 141,
    "start_time": "2021-12-21T09:31:03.912Z"
   },
   {
    "duration": 23,
    "start_time": "2021-12-21T09:31:04.055Z"
   },
   {
    "duration": 112,
    "start_time": "2021-12-21T09:31:04.080Z"
   },
   {
    "duration": 15,
    "start_time": "2021-12-21T09:31:04.193Z"
   },
   {
    "duration": 42,
    "start_time": "2021-12-21T09:31:04.211Z"
   },
   {
    "duration": 32,
    "start_time": "2021-12-21T09:31:04.255Z"
   },
   {
    "duration": 50,
    "start_time": "2021-12-21T09:31:04.289Z"
   },
   {
    "duration": 33,
    "start_time": "2021-12-21T09:31:04.341Z"
   },
   {
    "duration": 7,
    "start_time": "2021-12-21T09:31:04.376Z"
   },
   {
    "duration": 133,
    "start_time": "2021-12-21T09:31:04.385Z"
   },
   {
    "duration": 3,
    "start_time": "2021-12-21T09:31:04.520Z"
   },
   {
    "duration": 32,
    "start_time": "2021-12-21T09:31:04.524Z"
   },
   {
    "duration": 23,
    "start_time": "2021-12-21T09:31:04.557Z"
   },
   {
    "duration": 1219,
    "start_time": "2021-12-21T09:31:04.582Z"
   },
   {
    "duration": 5,
    "start_time": "2021-12-21T09:31:05.803Z"
   },
   {
    "duration": 13,
    "start_time": "2021-12-21T09:31:05.809Z"
   },
   {
    "duration": 13,
    "start_time": "2021-12-21T09:31:05.824Z"
   },
   {
    "duration": 11,
    "start_time": "2021-12-21T09:31:05.838Z"
   },
   {
    "duration": 100,
    "start_time": "2021-12-21T09:31:05.851Z"
   },
   {
    "duration": 12,
    "start_time": "2021-12-21T09:31:05.955Z"
   },
   {
    "duration": 12,
    "start_time": "2021-12-21T09:31:05.969Z"
   },
   {
    "duration": 18,
    "start_time": "2021-12-21T09:31:05.983Z"
   },
   {
    "duration": 10,
    "start_time": "2021-12-21T09:31:06.002Z"
   },
   {
    "duration": 11,
    "start_time": "2021-12-21T09:31:06.014Z"
   },
   {
    "duration": 35,
    "start_time": "2021-12-21T09:31:06.027Z"
   },
   {
    "duration": 62,
    "start_time": "2021-12-21T09:31:06.064Z"
   },
   {
    "duration": 47,
    "start_time": "2021-12-21T09:31:06.128Z"
   },
   {
    "duration": 43,
    "start_time": "2021-12-21T09:31:06.176Z"
   },
   {
    "duration": 52,
    "start_time": "2021-12-21T09:31:09.085Z"
   },
   {
    "duration": 21,
    "start_time": "2021-12-21T09:32:15.790Z"
   },
   {
    "duration": 25,
    "start_time": "2021-12-21T09:32:56.894Z"
   },
   {
    "duration": 30,
    "start_time": "2021-12-21T09:33:57.711Z"
   },
   {
    "duration": 26,
    "start_time": "2021-12-21T09:34:13.198Z"
   },
   {
    "duration": 4,
    "start_time": "2021-12-21T09:34:26.207Z"
   },
   {
    "duration": 379,
    "start_time": "2021-12-21T09:34:26.687Z"
   },
   {
    "duration": 13,
    "start_time": "2021-12-21T09:34:40.175Z"
   },
   {
    "duration": 20,
    "start_time": "2021-12-21T09:34:45.743Z"
   },
   {
    "duration": 6,
    "start_time": "2021-12-21T09:34:49.199Z"
   },
   {
    "duration": 8,
    "start_time": "2021-12-21T09:35:19.006Z"
   },
   {
    "duration": 8,
    "start_time": "2021-12-21T09:35:44.558Z"
   },
   {
    "duration": 1156,
    "start_time": "2021-12-21T09:38:53.169Z"
   },
   {
    "duration": 156,
    "start_time": "2021-12-21T09:38:54.327Z"
   },
   {
    "duration": 22,
    "start_time": "2021-12-21T09:38:54.486Z"
   },
   {
    "duration": 135,
    "start_time": "2021-12-21T09:38:54.510Z"
   },
   {
    "duration": 27,
    "start_time": "2021-12-21T09:38:54.647Z"
   },
   {
    "duration": 90,
    "start_time": "2021-12-21T09:38:54.676Z"
   },
   {
    "duration": 15,
    "start_time": "2021-12-21T09:38:54.768Z"
   },
   {
    "duration": 23,
    "start_time": "2021-12-21T09:38:54.785Z"
   },
   {
    "duration": 10,
    "start_time": "2021-12-21T09:38:54.810Z"
   },
   {
    "duration": 37,
    "start_time": "2021-12-21T09:38:54.821Z"
   },
   {
    "duration": 6,
    "start_time": "2021-12-21T09:38:54.860Z"
   },
   {
    "duration": 8,
    "start_time": "2021-12-21T09:38:54.867Z"
   },
   {
    "duration": 127,
    "start_time": "2021-12-21T09:38:54.877Z"
   },
   {
    "duration": 3,
    "start_time": "2021-12-21T09:38:55.006Z"
   },
   {
    "duration": 15,
    "start_time": "2021-12-21T09:38:55.011Z"
   },
   {
    "duration": 12,
    "start_time": "2021-12-21T09:38:55.028Z"
   },
   {
    "duration": 1154,
    "start_time": "2021-12-21T09:38:55.042Z"
   },
   {
    "duration": 5,
    "start_time": "2021-12-21T09:38:56.198Z"
   },
   {
    "duration": 10,
    "start_time": "2021-12-21T09:38:56.204Z"
   },
   {
    "duration": 5,
    "start_time": "2021-12-21T09:38:56.215Z"
   },
   {
    "duration": 23,
    "start_time": "2021-12-21T09:38:56.221Z"
   },
   {
    "duration": 96,
    "start_time": "2021-12-21T09:38:56.246Z"
   },
   {
    "duration": 6,
    "start_time": "2021-12-21T09:38:56.345Z"
   },
   {
    "duration": 9,
    "start_time": "2021-12-21T09:38:56.360Z"
   },
   {
    "duration": 15,
    "start_time": "2021-12-21T09:38:56.371Z"
   },
   {
    "duration": 14,
    "start_time": "2021-12-21T09:38:56.387Z"
   },
   {
    "duration": 11,
    "start_time": "2021-12-21T09:38:56.402Z"
   },
   {
    "duration": 14,
    "start_time": "2021-12-21T09:38:56.414Z"
   },
   {
    "duration": 54,
    "start_time": "2021-12-21T09:38:56.430Z"
   },
   {
    "duration": 20,
    "start_time": "2021-12-21T09:38:56.486Z"
   },
   {
    "duration": 19,
    "start_time": "2021-12-21T09:38:56.508Z"
   },
   {
    "duration": 31,
    "start_time": "2021-12-21T09:38:56.529Z"
   },
   {
    "duration": 4,
    "start_time": "2021-12-21T09:38:56.562Z"
   },
   {
    "duration": 12,
    "start_time": "2021-12-21T09:38:56.567Z"
   },
   {
    "duration": 7,
    "start_time": "2021-12-21T09:38:56.581Z"
   },
   {
    "duration": 9,
    "start_time": "2021-12-21T09:38:56.590Z"
   },
   {
    "duration": 9,
    "start_time": "2021-12-21T09:39:01.951Z"
   },
   {
    "duration": 15,
    "start_time": "2021-12-21T09:39:55.711Z"
   },
   {
    "duration": 8,
    "start_time": "2021-12-21T09:40:28.207Z"
   },
   {
    "duration": 14,
    "start_time": "2021-12-21T09:40:46.896Z"
   },
   {
    "duration": 14,
    "start_time": "2021-12-21T09:41:36.896Z"
   },
   {
    "duration": 23,
    "start_time": "2021-12-21T09:43:42.753Z"
   },
   {
    "duration": 29,
    "start_time": "2021-12-21T09:44:07.344Z"
   },
   {
    "duration": 21,
    "start_time": "2021-12-21T09:44:13.185Z"
   },
   {
    "duration": 3,
    "start_time": "2021-12-21T09:45:17.200Z"
   },
   {
    "duration": 115,
    "start_time": "2021-12-21T09:45:18.688Z"
   },
   {
    "duration": 14,
    "start_time": "2021-12-21T09:45:29.712Z"
   },
   {
    "duration": 14,
    "start_time": "2021-12-21T09:45:42.768Z"
   },
   {
    "duration": 22,
    "start_time": "2021-12-21T09:47:02.385Z"
   },
   {
    "duration": 22,
    "start_time": "2021-12-21T09:47:56.368Z"
   },
   {
    "duration": 24,
    "start_time": "2021-12-21T09:50:03.061Z"
   },
   {
    "duration": 16,
    "start_time": "2021-12-21T09:50:14.161Z"
   },
   {
    "duration": 1552,
    "start_time": "2021-12-21T09:53:23.018Z"
   },
   {
    "duration": 174,
    "start_time": "2021-12-21T09:53:24.573Z"
   },
   {
    "duration": 28,
    "start_time": "2021-12-21T09:53:24.749Z"
   },
   {
    "duration": 157,
    "start_time": "2021-12-21T09:53:24.780Z"
   },
   {
    "duration": 18,
    "start_time": "2021-12-21T09:53:24.939Z"
   },
   {
    "duration": 126,
    "start_time": "2021-12-21T09:53:24.961Z"
   },
   {
    "duration": 16,
    "start_time": "2021-12-21T09:53:25.090Z"
   },
   {
    "duration": 69,
    "start_time": "2021-12-21T09:53:25.108Z"
   },
   {
    "duration": 36,
    "start_time": "2021-12-21T09:53:25.181Z"
   },
   {
    "duration": 46,
    "start_time": "2021-12-21T09:53:25.220Z"
   },
   {
    "duration": 8,
    "start_time": "2021-12-21T09:53:25.267Z"
   },
   {
    "duration": 5,
    "start_time": "2021-12-21T09:53:25.277Z"
   },
   {
    "duration": 135,
    "start_time": "2021-12-21T09:53:25.284Z"
   },
   {
    "duration": 2,
    "start_time": "2021-12-21T09:53:25.421Z"
   },
   {
    "duration": 16,
    "start_time": "2021-12-21T09:53:25.425Z"
   },
   {
    "duration": 10,
    "start_time": "2021-12-21T09:53:25.442Z"
   },
   {
    "duration": 1175,
    "start_time": "2021-12-21T09:53:25.454Z"
   },
   {
    "duration": 6,
    "start_time": "2021-12-21T09:53:26.631Z"
   },
   {
    "duration": 29,
    "start_time": "2021-12-21T09:53:26.639Z"
   },
   {
    "duration": 6,
    "start_time": "2021-12-21T09:53:26.671Z"
   },
   {
    "duration": 11,
    "start_time": "2021-12-21T09:53:26.679Z"
   },
   {
    "duration": 138,
    "start_time": "2021-12-21T09:53:26.692Z"
   },
   {
    "duration": 8,
    "start_time": "2021-12-21T09:53:26.833Z"
   },
   {
    "duration": 18,
    "start_time": "2021-12-21T09:53:26.844Z"
   },
   {
    "duration": 21,
    "start_time": "2021-12-21T09:53:26.865Z"
   },
   {
    "duration": 17,
    "start_time": "2021-12-21T09:53:26.889Z"
   },
   {
    "duration": 14,
    "start_time": "2021-12-21T09:53:26.910Z"
   },
   {
    "duration": 46,
    "start_time": "2021-12-21T09:53:26.926Z"
   },
   {
    "duration": 28,
    "start_time": "2021-12-21T09:53:26.974Z"
   },
   {
    "duration": 21,
    "start_time": "2021-12-21T09:53:27.003Z"
   },
   {
    "duration": 44,
    "start_time": "2021-12-21T09:53:27.026Z"
   },
   {
    "duration": 31,
    "start_time": "2021-12-21T09:53:27.072Z"
   },
   {
    "duration": 16,
    "start_time": "2021-12-21T09:53:27.105Z"
   },
   {
    "duration": 34,
    "start_time": "2021-12-21T09:53:27.122Z"
   },
   {
    "duration": 20,
    "start_time": "2021-12-21T09:53:27.158Z"
   },
   {
    "duration": 24,
    "start_time": "2021-12-21T09:53:27.180Z"
   },
   {
    "duration": 13,
    "start_time": "2021-12-21T09:53:27.206Z"
   },
   {
    "duration": 28,
    "start_time": "2021-12-21T09:53:27.221Z"
   },
   {
    "duration": 136,
    "start_time": "2021-12-21T09:53:27.251Z"
   },
   {
    "duration": 4,
    "start_time": "2021-12-21T09:53:27.389Z"
   },
   {
    "duration": 131,
    "start_time": "2021-12-21T09:53:27.395Z"
   },
   {
    "duration": 5,
    "start_time": "2021-12-21T09:53:27.528Z"
   },
   {
    "duration": 148,
    "start_time": "2021-12-21T09:53:27.535Z"
   },
   {
    "duration": 121,
    "start_time": "2021-12-21T09:53:29.217Z"
   },
   {
    "duration": 17,
    "start_time": "2021-12-21T09:53:29.986Z"
   },
   {
    "duration": 15,
    "start_time": "2021-12-21T09:53:39.234Z"
   },
   {
    "duration": 15,
    "start_time": "2021-12-21T09:53:46.818Z"
   },
   {
    "duration": 14,
    "start_time": "2021-12-21T09:55:15.347Z"
   },
   {
    "duration": 14,
    "start_time": "2021-12-21T09:55:30.963Z"
   },
   {
    "duration": 13,
    "start_time": "2021-12-21T09:55:34.146Z"
   },
   {
    "duration": 17,
    "start_time": "2021-12-21T09:55:59.264Z"
   },
   {
    "duration": 10,
    "start_time": "2021-12-21T09:56:58.900Z"
   },
   {
    "duration": 15,
    "start_time": "2021-12-21T09:57:33.138Z"
   },
   {
    "duration": 15,
    "start_time": "2021-12-21T09:57:52.963Z"
   },
   {
    "duration": 5,
    "start_time": "2021-12-21T09:58:13.011Z"
   },
   {
    "duration": 9,
    "start_time": "2021-12-21T09:58:15.266Z"
   },
   {
    "duration": 9,
    "start_time": "2021-12-21T09:58:15.411Z"
   },
   {
    "duration": 9,
    "start_time": "2021-12-21T09:58:15.554Z"
   },
   {
    "duration": 9,
    "start_time": "2021-12-21T09:58:15.698Z"
   },
   {
    "duration": 5,
    "start_time": "2021-12-21T09:58:16.593Z"
   },
   {
    "duration": 124,
    "start_time": "2021-12-21T09:58:17.650Z"
   },
   {
    "duration": 4,
    "start_time": "2021-12-21T09:58:17.779Z"
   },
   {
    "duration": 99,
    "start_time": "2021-12-21T09:58:17.922Z"
   },
   {
    "duration": 4,
    "start_time": "2021-12-21T09:58:18.067Z"
   },
   {
    "duration": 122,
    "start_time": "2021-12-21T09:58:18.930Z"
   },
   {
    "duration": 18,
    "start_time": "2021-12-21T09:58:19.282Z"
   },
   {
    "duration": 1197,
    "start_time": "2021-12-21T09:58:56.537Z"
   },
   {
    "duration": 160,
    "start_time": "2021-12-21T09:58:57.736Z"
   },
   {
    "duration": 21,
    "start_time": "2021-12-21T09:58:57.898Z"
   },
   {
    "duration": 131,
    "start_time": "2021-12-21T09:58:57.921Z"
   },
   {
    "duration": 21,
    "start_time": "2021-12-21T09:58:58.054Z"
   },
   {
    "duration": 91,
    "start_time": "2021-12-21T09:58:58.077Z"
   },
   {
    "duration": 14,
    "start_time": "2021-12-21T09:58:58.170Z"
   },
   {
    "duration": 22,
    "start_time": "2021-12-21T09:58:58.186Z"
   },
   {
    "duration": 6,
    "start_time": "2021-12-21T09:58:58.211Z"
   },
   {
    "duration": 35,
    "start_time": "2021-12-21T09:58:58.219Z"
   },
   {
    "duration": 7,
    "start_time": "2021-12-21T09:58:58.260Z"
   },
   {
    "duration": 5,
    "start_time": "2021-12-21T09:58:58.269Z"
   },
   {
    "duration": 135,
    "start_time": "2021-12-21T09:58:58.276Z"
   },
   {
    "duration": 3,
    "start_time": "2021-12-21T09:58:58.412Z"
   },
   {
    "duration": 9,
    "start_time": "2021-12-21T09:58:58.416Z"
   },
   {
    "duration": 7,
    "start_time": "2021-12-21T09:58:58.426Z"
   },
   {
    "duration": 1156,
    "start_time": "2021-12-21T09:58:58.435Z"
   },
   {
    "duration": 6,
    "start_time": "2021-12-21T09:58:59.593Z"
   },
   {
    "duration": 9,
    "start_time": "2021-12-21T09:58:59.601Z"
   },
   {
    "duration": 5,
    "start_time": "2021-12-21T09:58:59.612Z"
   },
   {
    "duration": 8,
    "start_time": "2021-12-21T09:58:59.619Z"
   },
   {
    "duration": 120,
    "start_time": "2021-12-21T09:58:59.629Z"
   },
   {
    "duration": 15,
    "start_time": "2021-12-21T09:58:59.750Z"
   },
   {
    "duration": 19,
    "start_time": "2021-12-21T09:58:59.767Z"
   },
   {
    "duration": 19,
    "start_time": "2021-12-21T09:58:59.787Z"
   },
   {
    "duration": 14,
    "start_time": "2021-12-21T09:58:59.808Z"
   },
   {
    "duration": 9,
    "start_time": "2021-12-21T09:58:59.826Z"
   },
   {
    "duration": 27,
    "start_time": "2021-12-21T09:58:59.837Z"
   },
   {
    "duration": 27,
    "start_time": "2021-12-21T09:58:59.865Z"
   },
   {
    "duration": 21,
    "start_time": "2021-12-21T09:58:59.894Z"
   },
   {
    "duration": 16,
    "start_time": "2021-12-21T09:58:59.916Z"
   },
   {
    "duration": 41,
    "start_time": "2021-12-21T09:58:59.934Z"
   },
   {
    "duration": 5,
    "start_time": "2021-12-21T09:58:59.977Z"
   },
   {
    "duration": 14,
    "start_time": "2021-12-21T09:58:59.984Z"
   },
   {
    "duration": 11,
    "start_time": "2021-12-21T09:59:00.000Z"
   },
   {
    "duration": 12,
    "start_time": "2021-12-21T09:59:00.013Z"
   },
   {
    "duration": 35,
    "start_time": "2021-12-21T09:59:00.026Z"
   },
   {
    "duration": 4,
    "start_time": "2021-12-21T09:59:00.063Z"
   },
   {
    "duration": 123,
    "start_time": "2021-12-21T09:59:00.068Z"
   },
   {
    "duration": 4,
    "start_time": "2021-12-21T09:59:00.193Z"
   },
   {
    "duration": 116,
    "start_time": "2021-12-21T09:59:00.199Z"
   },
   {
    "duration": 4,
    "start_time": "2021-12-21T09:59:00.317Z"
   },
   {
    "duration": 8490,
    "start_time": "2021-12-21T09:59:01.969Z"
   },
   {
    "duration": 4,
    "start_time": "2021-12-21T09:59:24.593Z"
   },
   {
    "duration": 127,
    "start_time": "2021-12-21T09:59:25.237Z"
   },
   {
    "duration": 8,
    "start_time": "2021-12-21T10:02:54.946Z"
   },
   {
    "duration": 66,
    "start_time": "2021-12-21T10:04:05.490Z"
   },
   {
    "duration": 3,
    "start_time": "2021-12-21T10:04:25.265Z"
   },
   {
    "duration": 1230,
    "start_time": "2021-12-21T10:06:20.306Z"
   },
   {
    "duration": 223,
    "start_time": "2021-12-21T10:06:21.538Z"
   },
   {
    "duration": 30,
    "start_time": "2021-12-21T10:06:21.764Z"
   },
   {
    "duration": 196,
    "start_time": "2021-12-21T10:06:21.797Z"
   },
   {
    "duration": 19,
    "start_time": "2021-12-21T10:06:21.996Z"
   },
   {
    "duration": 104,
    "start_time": "2021-12-21T10:06:22.017Z"
   },
   {
    "duration": 15,
    "start_time": "2021-12-21T10:06:22.123Z"
   },
   {
    "duration": 27,
    "start_time": "2021-12-21T10:06:22.140Z"
   },
   {
    "duration": 8,
    "start_time": "2021-12-21T10:06:22.169Z"
   },
   {
    "duration": 41,
    "start_time": "2021-12-21T10:06:22.179Z"
   },
   {
    "duration": 7,
    "start_time": "2021-12-21T10:06:22.222Z"
   },
   {
    "duration": 12,
    "start_time": "2021-12-21T10:06:22.231Z"
   },
   {
    "duration": 133,
    "start_time": "2021-12-21T10:06:22.245Z"
   },
   {
    "duration": 3,
    "start_time": "2021-12-21T10:06:22.379Z"
   },
   {
    "duration": 1118,
    "start_time": "2021-12-21T10:06:22.385Z"
   },
   {
    "duration": 6,
    "start_time": "2021-12-21T10:06:23.505Z"
   },
   {
    "duration": 13,
    "start_time": "2021-12-21T10:06:23.513Z"
   },
   {
    "duration": 5,
    "start_time": "2021-12-21T10:06:23.528Z"
   },
   {
    "duration": 9,
    "start_time": "2021-12-21T10:06:23.535Z"
   },
   {
    "duration": 120,
    "start_time": "2021-12-21T10:06:23.546Z"
   },
   {
    "duration": 7,
    "start_time": "2021-12-21T10:06:23.668Z"
   },
   {
    "duration": 24,
    "start_time": "2021-12-21T10:06:23.677Z"
   },
   {
    "duration": 17,
    "start_time": "2021-12-21T10:06:23.704Z"
   },
   {
    "duration": 19,
    "start_time": "2021-12-21T10:06:23.724Z"
   },
   {
    "duration": 19,
    "start_time": "2021-12-21T10:06:23.745Z"
   },
   {
    "duration": 17,
    "start_time": "2021-12-21T10:06:23.766Z"
   },
   {
    "duration": 26,
    "start_time": "2021-12-21T10:07:53.457Z"
   },
   {
    "duration": 7,
    "start_time": "2021-12-21T10:08:03.313Z"
   },
   {
    "duration": 5,
    "start_time": "2021-12-21T10:08:30.627Z"
   },
   {
    "duration": 293,
    "start_time": "2021-12-21T10:08:44.081Z"
   },
   {
    "duration": 25,
    "start_time": "2021-12-21T10:08:49.953Z"
   },
   {
    "duration": 4,
    "start_time": "2021-12-21T10:08:51.809Z"
   },
   {
    "duration": 26,
    "start_time": "2021-12-21T10:08:59.731Z"
   },
   {
    "duration": 1182,
    "start_time": "2021-12-21T10:11:38.740Z"
   },
   {
    "duration": 167,
    "start_time": "2021-12-21T10:11:39.924Z"
   },
   {
    "duration": 22,
    "start_time": "2021-12-21T10:11:40.093Z"
   },
   {
    "duration": 144,
    "start_time": "2021-12-21T10:11:40.117Z"
   },
   {
    "duration": 18,
    "start_time": "2021-12-21T10:11:40.263Z"
   },
   {
    "duration": 99,
    "start_time": "2021-12-21T10:11:40.283Z"
   },
   {
    "duration": 15,
    "start_time": "2021-12-21T10:11:40.383Z"
   },
   {
    "duration": 25,
    "start_time": "2021-12-21T10:11:40.400Z"
   },
   {
    "duration": 9,
    "start_time": "2021-12-21T10:11:40.427Z"
   },
   {
    "duration": 38,
    "start_time": "2021-12-21T10:11:40.438Z"
   },
   {
    "duration": 6,
    "start_time": "2021-12-21T10:11:40.478Z"
   },
   {
    "duration": 5,
    "start_time": "2021-12-21T10:11:40.487Z"
   },
   {
    "duration": 131,
    "start_time": "2021-12-21T10:11:40.493Z"
   },
   {
    "duration": 3,
    "start_time": "2021-12-21T10:11:40.626Z"
   },
   {
    "duration": 1169,
    "start_time": "2021-12-21T10:11:40.631Z"
   },
   {
    "duration": 5,
    "start_time": "2021-12-21T10:11:41.802Z"
   },
   {
    "duration": 14,
    "start_time": "2021-12-21T10:11:41.809Z"
   },
   {
    "duration": 3,
    "start_time": "2021-12-21T10:11:41.825Z"
   },
   {
    "duration": 13,
    "start_time": "2021-12-21T10:11:41.830Z"
   },
   {
    "duration": 100,
    "start_time": "2021-12-21T10:11:41.845Z"
   },
   {
    "duration": 5,
    "start_time": "2021-12-21T10:11:41.947Z"
   },
   {
    "duration": 9,
    "start_time": "2021-12-21T10:11:41.960Z"
   },
   {
    "duration": 12,
    "start_time": "2021-12-21T10:11:41.972Z"
   },
   {
    "duration": 10,
    "start_time": "2021-12-21T10:11:41.986Z"
   },
   {
    "duration": 8,
    "start_time": "2021-12-21T10:11:41.998Z"
   },
   {
    "duration": 15,
    "start_time": "2021-12-21T10:11:42.008Z"
   },
   {
    "duration": 63,
    "start_time": "2021-12-21T10:11:42.025Z"
   },
   {
    "duration": 4,
    "start_time": "2021-12-21T10:11:42.089Z"
   },
   {
    "duration": 57,
    "start_time": "2021-12-21T10:11:42.095Z"
   },
   {
    "duration": 35,
    "start_time": "2021-12-21T10:11:42.154Z"
   },
   {
    "duration": 40,
    "start_time": "2021-12-21T10:11:42.191Z"
   },
   {
    "duration": 352,
    "start_time": "2021-12-21T10:11:42.233Z"
   },
   {
    "duration": 323,
    "start_time": "2021-12-21T10:11:42.263Z"
   },
   {
    "duration": 20,
    "start_time": "2021-12-21T10:12:11.847Z"
   },
   {
    "duration": 6,
    "start_time": "2021-12-21T10:12:14.262Z"
   },
   {
    "duration": 8,
    "start_time": "2021-12-21T10:12:17.042Z"
   },
   {
    "duration": 7,
    "start_time": "2021-12-21T10:12:32.052Z"
   },
   {
    "duration": 8,
    "start_time": "2021-12-21T10:12:38.036Z"
   },
   {
    "duration": 8,
    "start_time": "2021-12-21T10:12:46.787Z"
   },
   {
    "duration": 9,
    "start_time": "2021-12-21T10:16:57.241Z"
   },
   {
    "duration": 9,
    "start_time": "2021-12-21T10:17:12.932Z"
   },
   {
    "duration": 9,
    "start_time": "2021-12-21T10:18:15.972Z"
   },
   {
    "duration": 8,
    "start_time": "2021-12-21T10:18:16.404Z"
   },
   {
    "duration": 8,
    "start_time": "2021-12-21T10:19:14.741Z"
   },
   {
    "duration": 9,
    "start_time": "2021-12-21T10:19:26.324Z"
   },
   {
    "duration": 8,
    "start_time": "2021-12-21T10:20:13.765Z"
   },
   {
    "duration": 8,
    "start_time": "2021-12-21T10:20:37.989Z"
   },
   {
    "duration": 9,
    "start_time": "2021-12-21T10:21:03.525Z"
   },
   {
    "duration": 8,
    "start_time": "2021-12-21T10:22:23.573Z"
   },
   {
    "duration": 10,
    "start_time": "2021-12-21T10:22:24.517Z"
   },
   {
    "duration": 12,
    "start_time": "2021-12-21T10:26:09.765Z"
   },
   {
    "duration": 259,
    "start_time": "2021-12-21T10:29:34.182Z"
   },
   {
    "duration": 726,
    "start_time": "2021-12-21T10:30:56.838Z"
   },
   {
    "duration": 212,
    "start_time": "2021-12-21T10:31:47.509Z"
   },
   {
    "duration": 1206,
    "start_time": "2021-12-21T10:32:01.273Z"
   },
   {
    "duration": 169,
    "start_time": "2021-12-21T10:32:02.481Z"
   },
   {
    "duration": 21,
    "start_time": "2021-12-21T10:32:02.653Z"
   },
   {
    "duration": 178,
    "start_time": "2021-12-21T10:32:02.676Z"
   },
   {
    "duration": 18,
    "start_time": "2021-12-21T10:32:02.856Z"
   },
   {
    "duration": 139,
    "start_time": "2021-12-21T10:32:02.875Z"
   },
   {
    "duration": 16,
    "start_time": "2021-12-21T10:32:03.016Z"
   },
   {
    "duration": 23,
    "start_time": "2021-12-21T10:32:03.034Z"
   },
   {
    "duration": 6,
    "start_time": "2021-12-21T10:32:03.061Z"
   },
   {
    "duration": 37,
    "start_time": "2021-12-21T10:32:03.069Z"
   },
   {
    "duration": 6,
    "start_time": "2021-12-21T10:32:03.108Z"
   },
   {
    "duration": 12,
    "start_time": "2021-12-21T10:32:03.116Z"
   },
   {
    "duration": 128,
    "start_time": "2021-12-21T10:32:03.130Z"
   },
   {
    "duration": 3,
    "start_time": "2021-12-21T10:32:03.260Z"
   },
   {
    "duration": 1216,
    "start_time": "2021-12-21T10:32:03.265Z"
   },
   {
    "duration": 6,
    "start_time": "2021-12-21T10:32:04.483Z"
   },
   {
    "duration": 10,
    "start_time": "2021-12-21T10:32:04.490Z"
   },
   {
    "duration": 3,
    "start_time": "2021-12-21T10:32:04.502Z"
   },
   {
    "duration": 10,
    "start_time": "2021-12-21T10:32:04.507Z"
   },
   {
    "duration": 123,
    "start_time": "2021-12-21T10:32:04.518Z"
   },
   {
    "duration": 6,
    "start_time": "2021-12-21T10:32:04.643Z"
   },
   {
    "duration": 14,
    "start_time": "2021-12-21T10:32:04.661Z"
   },
   {
    "duration": 17,
    "start_time": "2021-12-21T10:32:04.677Z"
   },
   {
    "duration": 12,
    "start_time": "2021-12-21T10:32:04.696Z"
   },
   {
    "duration": 9,
    "start_time": "2021-12-21T10:32:04.710Z"
   },
   {
    "duration": 42,
    "start_time": "2021-12-21T10:32:04.721Z"
   },
   {
    "duration": 28,
    "start_time": "2021-12-21T10:32:04.768Z"
   },
   {
    "duration": 25,
    "start_time": "2021-12-21T10:32:04.799Z"
   },
   {
    "duration": 48,
    "start_time": "2021-12-21T10:32:04.826Z"
   },
   {
    "duration": 46,
    "start_time": "2021-12-21T10:32:04.877Z"
   },
   {
    "duration": 24,
    "start_time": "2021-12-21T10:32:04.925Z"
   },
   {
    "duration": 41,
    "start_time": "2021-12-21T10:32:04.952Z"
   },
   {
    "duration": 34,
    "start_time": "2021-12-21T10:32:04.995Z"
   },
   {
    "duration": 23,
    "start_time": "2021-12-21T10:32:05.031Z"
   },
   {
    "duration": 35,
    "start_time": "2021-12-21T10:32:05.056Z"
   },
   {
    "duration": 317,
    "start_time": "2021-12-21T10:32:12.360Z"
   },
   {
    "duration": 10,
    "start_time": "2021-12-21T10:34:31.482Z"
   },
   {
    "duration": 11,
    "start_time": "2021-12-21T10:34:36.649Z"
   },
   {
    "duration": 11,
    "start_time": "2021-12-21T10:34:44.330Z"
   },
   {
    "duration": 9,
    "start_time": "2021-12-21T10:35:06.041Z"
   },
   {
    "duration": 12,
    "start_time": "2021-12-21T10:35:27.608Z"
   },
   {
    "duration": 1165,
    "start_time": "2021-12-21T10:35:41.722Z"
   },
   {
    "duration": 166,
    "start_time": "2021-12-21T10:35:42.889Z"
   },
   {
    "duration": 23,
    "start_time": "2021-12-21T10:35:43.057Z"
   },
   {
    "duration": 152,
    "start_time": "2021-12-21T10:35:43.082Z"
   },
   {
    "duration": 26,
    "start_time": "2021-12-21T10:35:43.236Z"
   },
   {
    "duration": 108,
    "start_time": "2021-12-21T10:35:43.264Z"
   },
   {
    "duration": 15,
    "start_time": "2021-12-21T10:35:43.374Z"
   },
   {
    "duration": 22,
    "start_time": "2021-12-21T10:35:43.390Z"
   },
   {
    "duration": 6,
    "start_time": "2021-12-21T10:35:43.414Z"
   },
   {
    "duration": 35,
    "start_time": "2021-12-21T10:35:43.422Z"
   },
   {
    "duration": 7,
    "start_time": "2021-12-21T10:35:43.458Z"
   },
   {
    "duration": 5,
    "start_time": "2021-12-21T10:35:43.466Z"
   },
   {
    "duration": 125,
    "start_time": "2021-12-21T10:35:43.473Z"
   },
   {
    "duration": 3,
    "start_time": "2021-12-21T10:35:43.600Z"
   },
   {
    "duration": 1162,
    "start_time": "2021-12-21T10:35:43.604Z"
   },
   {
    "duration": 4,
    "start_time": "2021-12-21T10:35:44.768Z"
   },
   {
    "duration": 16,
    "start_time": "2021-12-21T10:35:44.774Z"
   },
   {
    "duration": 23,
    "start_time": "2021-12-21T10:35:44.792Z"
   },
   {
    "duration": 9,
    "start_time": "2021-12-21T10:35:44.817Z"
   },
   {
    "duration": 114,
    "start_time": "2021-12-21T10:35:44.828Z"
   },
   {
    "duration": 5,
    "start_time": "2021-12-21T10:35:44.944Z"
   },
   {
    "duration": 12,
    "start_time": "2021-12-21T10:35:44.951Z"
   },
   {
    "duration": 12,
    "start_time": "2021-12-21T10:35:44.965Z"
   },
   {
    "duration": 18,
    "start_time": "2021-12-21T10:35:44.978Z"
   },
   {
    "duration": 13,
    "start_time": "2021-12-21T10:35:44.997Z"
   },
   {
    "duration": 23,
    "start_time": "2021-12-21T10:35:45.012Z"
   },
   {
    "duration": 45,
    "start_time": "2021-12-21T10:35:45.039Z"
   },
   {
    "duration": 20,
    "start_time": "2021-12-21T10:35:45.086Z"
   },
   {
    "duration": 32,
    "start_time": "2021-12-21T10:35:45.108Z"
   },
   {
    "duration": 28,
    "start_time": "2021-12-21T10:35:45.142Z"
   },
   {
    "duration": 5,
    "start_time": "2021-12-21T10:35:45.172Z"
   },
   {
    "duration": 20,
    "start_time": "2021-12-21T10:35:45.179Z"
   },
   {
    "duration": 9,
    "start_time": "2021-12-21T10:35:45.201Z"
   },
   {
    "duration": 18,
    "start_time": "2021-12-21T10:35:45.212Z"
   },
   {
    "duration": 14,
    "start_time": "2021-12-21T10:35:45.232Z"
   },
   {
    "duration": 26,
    "start_time": "2021-12-21T10:35:45.248Z"
   },
   {
    "duration": 4,
    "start_time": "2021-12-21T10:36:12.104Z"
   },
   {
    "duration": 96,
    "start_time": "2021-12-21T10:36:12.871Z"
   },
   {
    "duration": 4,
    "start_time": "2021-12-21T10:36:13.712Z"
   },
   {
    "duration": 322,
    "start_time": "2021-12-21T10:36:14.887Z"
   },
   {
    "duration": 4,
    "start_time": "2021-12-21T10:36:15.512Z"
   },
   {
    "duration": 4,
    "start_time": "2021-12-21T10:37:12.744Z"
   },
   {
    "duration": 108,
    "start_time": "2021-12-21T10:37:15.864Z"
   },
   {
    "duration": 4,
    "start_time": "2021-12-21T10:37:27.193Z"
   },
   {
    "duration": 99,
    "start_time": "2021-12-21T10:37:27.912Z"
   },
   {
    "duration": 18,
    "start_time": "2021-12-21T10:37:37.559Z"
   },
   {
    "duration": 4,
    "start_time": "2021-12-21T10:42:22.185Z"
   },
   {
    "duration": 168,
    "start_time": "2021-12-21T10:42:45.897Z"
   },
   {
    "duration": 13,
    "start_time": "2021-12-21T10:42:52.408Z"
   },
   {
    "duration": 352,
    "start_time": "2021-12-21T10:47:23.832Z"
   },
   {
    "duration": 1502,
    "start_time": "2021-12-21T10:47:36.139Z"
   },
   {
    "duration": 184,
    "start_time": "2021-12-21T10:47:37.644Z"
   },
   {
    "duration": 22,
    "start_time": "2021-12-21T10:47:37.831Z"
   },
   {
    "duration": 156,
    "start_time": "2021-12-21T10:47:37.855Z"
   },
   {
    "duration": 19,
    "start_time": "2021-12-21T10:47:38.013Z"
   },
   {
    "duration": 127,
    "start_time": "2021-12-21T10:47:38.034Z"
   },
   {
    "duration": 15,
    "start_time": "2021-12-21T10:47:38.163Z"
   },
   {
    "duration": 24,
    "start_time": "2021-12-21T10:47:38.180Z"
   },
   {
    "duration": 8,
    "start_time": "2021-12-21T10:47:38.206Z"
   },
   {
    "duration": 36,
    "start_time": "2021-12-21T10:47:38.216Z"
   },
   {
    "duration": 6,
    "start_time": "2021-12-21T10:47:38.254Z"
   },
   {
    "duration": 6,
    "start_time": "2021-12-21T10:47:38.262Z"
   },
   {
    "duration": 149,
    "start_time": "2021-12-21T10:47:38.269Z"
   },
   {
    "duration": 4,
    "start_time": "2021-12-21T10:47:38.421Z"
   },
   {
    "duration": 1281,
    "start_time": "2021-12-21T10:47:38.427Z"
   },
   {
    "duration": 5,
    "start_time": "2021-12-21T10:47:39.710Z"
   },
   {
    "duration": 11,
    "start_time": "2021-12-21T10:47:39.716Z"
   },
   {
    "duration": 2,
    "start_time": "2021-12-21T10:47:39.729Z"
   },
   {
    "duration": 11,
    "start_time": "2021-12-21T10:47:39.733Z"
   },
   {
    "duration": 134,
    "start_time": "2021-12-21T10:47:39.761Z"
   },
   {
    "duration": 7,
    "start_time": "2021-12-21T10:47:39.898Z"
   },
   {
    "duration": 16,
    "start_time": "2021-12-21T10:47:39.906Z"
   },
   {
    "duration": 13,
    "start_time": "2021-12-21T10:47:39.925Z"
   },
   {
    "duration": 30,
    "start_time": "2021-12-21T10:47:39.940Z"
   },
   {
    "duration": 13,
    "start_time": "2021-12-21T10:47:39.971Z"
   },
   {
    "duration": 16,
    "start_time": "2021-12-21T10:47:39.985Z"
   },
   {
    "duration": 34,
    "start_time": "2021-12-21T10:47:40.003Z"
   },
   {
    "duration": 43,
    "start_time": "2021-12-21T10:47:40.039Z"
   },
   {
    "duration": 21,
    "start_time": "2021-12-21T10:47:40.085Z"
   },
   {
    "duration": 21,
    "start_time": "2021-12-21T10:47:40.108Z"
   },
   {
    "duration": 31,
    "start_time": "2021-12-21T10:47:40.131Z"
   },
   {
    "duration": 862,
    "start_time": "2021-12-21T10:47:41.434Z"
   },
   {
    "duration": 9,
    "start_time": "2021-12-21T10:50:06.475Z"
   },
   {
    "duration": 8,
    "start_time": "2021-12-21T10:50:12.699Z"
   },
   {
    "duration": 9,
    "start_time": "2021-12-21T10:50:13.099Z"
   },
   {
    "duration": 12,
    "start_time": "2021-12-21T10:50:15.133Z"
   },
   {
    "duration": 16,
    "start_time": "2021-12-21T10:50:16.362Z"
   },
   {
    "duration": 4,
    "start_time": "2021-12-21T10:50:28.442Z"
   },
   {
    "duration": 129,
    "start_time": "2021-12-21T10:50:28.955Z"
   },
   {
    "duration": 4,
    "start_time": "2021-12-21T10:50:29.309Z"
   },
   {
    "duration": 160,
    "start_time": "2021-12-21T10:50:30.442Z"
   },
   {
    "duration": 4,
    "start_time": "2021-12-21T10:50:30.651Z"
   },
   {
    "duration": 130,
    "start_time": "2021-12-21T10:50:30.845Z"
   },
   {
    "duration": 5,
    "start_time": "2021-12-21T10:50:32.346Z"
   },
   {
    "duration": 167,
    "start_time": "2021-12-21T10:50:32.538Z"
   },
   {
    "duration": 16,
    "start_time": "2021-12-21T10:50:33.258Z"
   },
   {
    "duration": 4,
    "start_time": "2021-12-21T10:51:02.492Z"
   },
   {
    "duration": 10,
    "start_time": "2021-12-21T10:51:12.923Z"
   },
   {
    "duration": 4,
    "start_time": "2021-12-21T11:37:08.352Z"
   },
   {
    "duration": 4,
    "start_time": "2021-12-21T11:37:20.272Z"
   },
   {
    "duration": 203,
    "start_time": "2021-12-21T11:37:26.992Z"
   },
   {
    "duration": 4,
    "start_time": "2021-12-21T11:37:40.656Z"
   },
   {
    "duration": 5,
    "start_time": "2021-12-21T11:37:41.135Z"
   },
   {
    "duration": 5,
    "start_time": "2021-12-21T11:37:41.663Z"
   },
   {
    "duration": 5,
    "start_time": "2021-12-21T11:38:31.716Z"
   },
   {
    "duration": 8,
    "start_time": "2021-12-21T11:38:34.049Z"
   },
   {
    "duration": 71,
    "start_time": "2021-12-21T11:39:05.728Z"
   },
   {
    "duration": 7,
    "start_time": "2021-12-21T11:39:14.016Z"
   },
   {
    "duration": 9,
    "start_time": "2021-12-21T11:39:15.377Z"
   },
   {
    "duration": 391,
    "start_time": "2021-12-21T11:39:19.696Z"
   },
   {
    "duration": 302,
    "start_time": "2021-12-21T11:44:30.011Z"
   },
   {
    "duration": 22,
    "start_time": "2021-12-21T11:44:46.130Z"
   },
   {
    "duration": 9,
    "start_time": "2021-12-21T11:44:56.850Z"
   },
   {
    "duration": 8,
    "start_time": "2021-12-21T11:45:08.481Z"
   },
   {
    "duration": 9,
    "start_time": "2021-12-21T11:45:14.065Z"
   },
   {
    "duration": 1426,
    "start_time": "2021-12-21T11:46:27.093Z"
   },
   {
    "duration": 213,
    "start_time": "2021-12-21T11:46:28.522Z"
   },
   {
    "duration": 33,
    "start_time": "2021-12-21T11:46:28.737Z"
   },
   {
    "duration": 161,
    "start_time": "2021-12-21T11:46:28.772Z"
   },
   {
    "duration": 26,
    "start_time": "2021-12-21T11:46:28.935Z"
   },
   {
    "duration": 105,
    "start_time": "2021-12-21T11:46:28.963Z"
   },
   {
    "duration": 15,
    "start_time": "2021-12-21T11:46:29.070Z"
   },
   {
    "duration": 37,
    "start_time": "2021-12-21T11:46:29.087Z"
   },
   {
    "duration": 11,
    "start_time": "2021-12-21T11:46:29.128Z"
   },
   {
    "duration": 54,
    "start_time": "2021-12-21T11:46:29.142Z"
   },
   {
    "duration": 8,
    "start_time": "2021-12-21T11:46:29.198Z"
   },
   {
    "duration": 17,
    "start_time": "2021-12-21T11:46:29.208Z"
   },
   {
    "duration": 210,
    "start_time": "2021-12-21T11:46:29.227Z"
   },
   {
    "duration": 4,
    "start_time": "2021-12-21T11:46:29.439Z"
   },
   {
    "duration": 1306,
    "start_time": "2021-12-21T11:46:29.446Z"
   },
   {
    "duration": 9,
    "start_time": "2021-12-21T11:46:30.754Z"
   },
   {
    "duration": 13,
    "start_time": "2021-12-21T11:46:30.765Z"
   },
   {
    "duration": 39,
    "start_time": "2021-12-21T11:46:30.780Z"
   },
   {
    "duration": 11,
    "start_time": "2021-12-21T11:46:30.822Z"
   },
   {
    "duration": 127,
    "start_time": "2021-12-21T11:46:30.835Z"
   },
   {
    "duration": 8,
    "start_time": "2021-12-21T11:46:30.964Z"
   },
   {
    "duration": 38,
    "start_time": "2021-12-21T11:46:30.974Z"
   },
   {
    "duration": 26,
    "start_time": "2021-12-21T11:46:31.014Z"
   },
   {
    "duration": 32,
    "start_time": "2021-12-21T11:46:31.042Z"
   },
   {
    "duration": 29,
    "start_time": "2021-12-21T11:46:31.076Z"
   },
   {
    "duration": 28,
    "start_time": "2021-12-21T11:46:31.107Z"
   },
   {
    "duration": 29,
    "start_time": "2021-12-21T11:46:31.140Z"
   },
   {
    "duration": 23,
    "start_time": "2021-12-21T11:46:31.171Z"
   },
   {
    "duration": 25,
    "start_time": "2021-12-21T11:46:31.197Z"
   },
   {
    "duration": 45,
    "start_time": "2021-12-21T11:46:31.224Z"
   },
   {
    "duration": 6,
    "start_time": "2021-12-21T11:46:31.272Z"
   },
   {
    "duration": 26,
    "start_time": "2021-12-21T11:46:31.280Z"
   },
   {
    "duration": 15,
    "start_time": "2021-12-21T11:46:31.308Z"
   },
   {
    "duration": 16,
    "start_time": "2021-12-21T11:46:31.326Z"
   },
   {
    "duration": 22,
    "start_time": "2021-12-21T11:46:31.344Z"
   },
   {
    "duration": 17,
    "start_time": "2021-12-21T11:46:31.368Z"
   },
   {
    "duration": 13,
    "start_time": "2021-12-21T11:46:31.388Z"
   },
   {
    "duration": 133,
    "start_time": "2021-12-21T11:46:31.403Z"
   },
   {
    "duration": 4,
    "start_time": "2021-12-21T11:46:31.538Z"
   },
   {
    "duration": 150,
    "start_time": "2021-12-21T11:46:31.544Z"
   },
   {
    "duration": 5,
    "start_time": "2021-12-21T11:46:31.696Z"
   },
   {
    "duration": 119,
    "start_time": "2021-12-21T11:46:31.703Z"
   },
   {
    "duration": 5,
    "start_time": "2021-12-21T11:46:31.825Z"
   },
   {
    "duration": 280,
    "start_time": "2021-12-21T11:46:31.832Z"
   },
   {
    "duration": 15,
    "start_time": "2021-12-21T11:46:32.115Z"
   },
   {
    "duration": 13,
    "start_time": "2021-12-21T11:46:32.133Z"
   },
   {
    "duration": 61,
    "start_time": "2021-12-21T11:46:32.147Z"
   },
   {
    "duration": 9,
    "start_time": "2021-12-21T11:46:34.539Z"
   },
   {
    "duration": 23,
    "start_time": "2021-12-21T11:47:25.580Z"
   },
   {
    "duration": 13,
    "start_time": "2021-12-21T11:47:54.892Z"
   },
   {
    "duration": 17,
    "start_time": "2021-12-21T11:48:19.343Z"
   },
   {
    "duration": 9,
    "start_time": "2021-12-21T11:48:20.204Z"
   },
   {
    "duration": 331,
    "start_time": "2021-12-21T11:52:11.101Z"
   },
   {
    "duration": 17,
    "start_time": "2021-12-21T11:52:12.396Z"
   },
   {
    "duration": 295,
    "start_time": "2021-12-21T11:52:12.844Z"
   },
   {
    "duration": 12,
    "start_time": "2021-12-21T11:52:18.764Z"
   },
   {
    "duration": 16,
    "start_time": "2021-12-21T11:52:57.965Z"
   },
   {
    "duration": 9,
    "start_time": "2021-12-21T11:53:04.668Z"
   },
   {
    "duration": 25,
    "start_time": "2021-12-21T11:53:11.885Z"
   },
   {
    "duration": 11,
    "start_time": "2021-12-21T11:53:12.988Z"
   },
   {
    "duration": 21,
    "start_time": "2021-12-21T11:53:17.916Z"
   },
   {
    "duration": 9,
    "start_time": "2021-12-21T11:53:19.180Z"
   },
   {
    "duration": 24,
    "start_time": "2021-12-21T11:53:40.620Z"
   },
   {
    "duration": 11,
    "start_time": "2021-12-21T11:53:41.053Z"
   },
   {
    "duration": 24,
    "start_time": "2021-12-21T11:53:44.493Z"
   },
   {
    "duration": 9,
    "start_time": "2021-12-21T11:53:44.812Z"
   },
   {
    "duration": 19,
    "start_time": "2021-12-21T11:53:57.212Z"
   },
   {
    "duration": 10,
    "start_time": "2021-12-21T11:53:58.317Z"
   },
   {
    "duration": 18,
    "start_time": "2021-12-21T11:54:03.724Z"
   },
   {
    "duration": 9,
    "start_time": "2021-12-21T11:54:04.125Z"
   },
   {
    "duration": 20,
    "start_time": "2021-12-21T11:54:14.413Z"
   },
   {
    "duration": 8,
    "start_time": "2021-12-21T11:54:14.780Z"
   },
   {
    "duration": 17,
    "start_time": "2021-12-21T11:54:24.620Z"
   },
   {
    "duration": 9,
    "start_time": "2021-12-21T11:54:25.310Z"
   },
   {
    "duration": 17,
    "start_time": "2021-12-21T11:55:29.469Z"
   },
   {
    "duration": 8,
    "start_time": "2021-12-21T11:55:36.716Z"
   },
   {
    "duration": 8,
    "start_time": "2021-12-21T11:55:53.084Z"
   },
   {
    "duration": 8,
    "start_time": "2021-12-21T11:56:04.557Z"
   },
   {
    "duration": 7,
    "start_time": "2021-12-21T11:56:07.709Z"
   },
   {
    "duration": 8,
    "start_time": "2021-12-21T11:56:10.732Z"
   },
   {
    "duration": 276,
    "start_time": "2021-12-21T12:00:10.621Z"
   },
   {
    "duration": 223,
    "start_time": "2021-12-21T12:01:37.037Z"
   },
   {
    "duration": 231,
    "start_time": "2021-12-21T12:01:50.189Z"
   },
   {
    "duration": 301,
    "start_time": "2021-12-21T12:02:52.574Z"
   },
   {
    "duration": 312,
    "start_time": "2021-12-21T12:03:06.157Z"
   },
   {
    "duration": 316,
    "start_time": "2021-12-21T12:03:11.053Z"
   },
   {
    "duration": 200,
    "start_time": "2021-12-21T12:04:12.157Z"
   },
   {
    "duration": 351,
    "start_time": "2021-12-21T12:04:24.508Z"
   },
   {
    "duration": 355,
    "start_time": "2021-12-21T12:05:35.742Z"
   },
   {
    "duration": 94,
    "start_time": "2021-12-21T12:05:40.797Z"
   },
   {
    "duration": 365,
    "start_time": "2021-12-21T12:05:43.388Z"
   },
   {
    "duration": 331,
    "start_time": "2021-12-21T12:06:25.949Z"
   },
   {
    "duration": 283,
    "start_time": "2021-12-21T12:07:15.518Z"
   },
   {
    "duration": 379,
    "start_time": "2021-12-21T12:07:24.974Z"
   },
   {
    "duration": 256,
    "start_time": "2021-12-21T12:07:38.333Z"
   },
   {
    "duration": 237,
    "start_time": "2021-12-21T12:07:53.502Z"
   },
   {
    "duration": 234,
    "start_time": "2021-12-21T12:08:07.693Z"
   },
   {
    "duration": 247,
    "start_time": "2021-12-21T12:08:15.213Z"
   },
   {
    "duration": 301,
    "start_time": "2021-12-21T12:08:23.101Z"
   },
   {
    "duration": 234,
    "start_time": "2021-12-21T12:08:26.685Z"
   },
   {
    "duration": 1530,
    "start_time": "2021-12-21T12:12:16.731Z"
   },
   {
    "duration": 191,
    "start_time": "2021-12-21T12:12:18.264Z"
   },
   {
    "duration": 32,
    "start_time": "2021-12-21T12:12:18.461Z"
   },
   {
    "duration": 159,
    "start_time": "2021-12-21T12:12:18.495Z"
   },
   {
    "duration": 19,
    "start_time": "2021-12-21T12:12:18.656Z"
   },
   {
    "duration": 123,
    "start_time": "2021-12-21T12:12:18.677Z"
   },
   {
    "duration": 22,
    "start_time": "2021-12-21T12:12:18.803Z"
   },
   {
    "duration": 33,
    "start_time": "2021-12-21T12:12:18.828Z"
   },
   {
    "duration": 7,
    "start_time": "2021-12-21T12:12:18.864Z"
   },
   {
    "duration": 33,
    "start_time": "2021-12-21T12:12:18.873Z"
   },
   {
    "duration": 6,
    "start_time": "2021-12-21T12:12:18.907Z"
   },
   {
    "duration": 4,
    "start_time": "2021-12-21T12:12:18.915Z"
   },
   {
    "duration": 164,
    "start_time": "2021-12-21T12:12:18.921Z"
   },
   {
    "duration": 4,
    "start_time": "2021-12-21T12:12:19.087Z"
   },
   {
    "duration": 1451,
    "start_time": "2021-12-21T12:12:19.093Z"
   },
   {
    "duration": 14,
    "start_time": "2021-12-21T12:12:20.547Z"
   },
   {
    "duration": 9,
    "start_time": "2021-12-21T12:12:20.563Z"
   },
   {
    "duration": 8,
    "start_time": "2021-12-21T12:12:20.574Z"
   },
   {
    "duration": 9,
    "start_time": "2021-12-21T12:12:20.584Z"
   },
   {
    "duration": 104,
    "start_time": "2021-12-21T12:12:20.595Z"
   },
   {
    "duration": 5,
    "start_time": "2021-12-21T12:12:20.702Z"
   },
   {
    "duration": 12,
    "start_time": "2021-12-21T12:12:20.709Z"
   },
   {
    "duration": 14,
    "start_time": "2021-12-21T12:12:20.724Z"
   },
   {
    "duration": 29,
    "start_time": "2021-12-21T12:12:20.740Z"
   },
   {
    "duration": 8,
    "start_time": "2021-12-21T12:12:20.771Z"
   },
   {
    "duration": 15,
    "start_time": "2021-12-21T12:12:20.781Z"
   },
   {
    "duration": 62,
    "start_time": "2021-12-21T12:12:20.798Z"
   },
   {
    "duration": 22,
    "start_time": "2021-12-21T12:12:20.863Z"
   },
   {
    "duration": 20,
    "start_time": "2021-12-21T12:12:20.888Z"
   },
   {
    "duration": 22,
    "start_time": "2021-12-21T12:12:20.910Z"
   },
   {
    "duration": 28,
    "start_time": "2021-12-21T12:12:20.935Z"
   },
   {
    "duration": 16,
    "start_time": "2021-12-21T12:12:20.965Z"
   },
   {
    "duration": 9,
    "start_time": "2021-12-21T12:12:20.983Z"
   },
   {
    "duration": 16,
    "start_time": "2021-12-21T12:12:20.994Z"
   },
   {
    "duration": 15,
    "start_time": "2021-12-21T12:12:21.013Z"
   },
   {
    "duration": 32,
    "start_time": "2021-12-21T12:12:21.032Z"
   },
   {
    "duration": 5,
    "start_time": "2021-12-21T12:12:21.066Z"
   },
   {
    "duration": 118,
    "start_time": "2021-12-21T12:12:21.073Z"
   },
   {
    "duration": 6,
    "start_time": "2021-12-21T12:12:21.194Z"
   },
   {
    "duration": 126,
    "start_time": "2021-12-21T12:12:21.202Z"
   },
   {
    "duration": 4,
    "start_time": "2021-12-21T12:12:21.330Z"
   },
   {
    "duration": 140,
    "start_time": "2021-12-21T12:12:21.336Z"
   },
   {
    "duration": 4,
    "start_time": "2021-12-21T12:12:21.478Z"
   },
   {
    "duration": 203,
    "start_time": "2021-12-21T12:12:21.483Z"
   },
   {
    "duration": 12,
    "start_time": "2021-12-21T12:12:21.688Z"
   },
   {
    "duration": 19,
    "start_time": "2021-12-21T12:12:21.702Z"
   },
   {
    "duration": 23,
    "start_time": "2021-12-21T12:12:21.724Z"
   },
   {
    "duration": 12,
    "start_time": "2021-12-21T12:12:21.749Z"
   },
   {
    "duration": 243,
    "start_time": "2021-12-21T12:14:17.996Z"
   },
   {
    "duration": 185,
    "start_time": "2021-12-21T12:14:54.108Z"
   },
   {
    "duration": 246,
    "start_time": "2021-12-21T12:15:22.620Z"
   },
   {
    "duration": 382,
    "start_time": "2021-12-21T12:16:44.908Z"
   },
   {
    "duration": 408,
    "start_time": "2021-12-21T12:16:55.372Z"
   },
   {
    "duration": 413,
    "start_time": "2021-12-21T12:17:22.271Z"
   },
   {
    "duration": 355,
    "start_time": "2021-12-21T12:17:28.716Z"
   },
   {
    "duration": 335,
    "start_time": "2021-12-21T12:25:49.741Z"
   },
   {
    "duration": 257,
    "start_time": "2021-12-21T12:27:40.941Z"
   },
   {
    "duration": 207,
    "start_time": "2021-12-21T12:27:47.789Z"
   },
   {
    "duration": 232,
    "start_time": "2021-12-21T12:27:51.481Z"
   },
   {
    "duration": 368,
    "start_time": "2021-12-21T12:28:31.293Z"
   },
   {
    "duration": 8,
    "start_time": "2021-12-21T12:28:50.396Z"
   },
   {
    "duration": 265,
    "start_time": "2021-12-21T12:28:51.196Z"
   },
   {
    "duration": 354,
    "start_time": "2021-12-21T12:29:11.853Z"
   },
   {
    "duration": 272,
    "start_time": "2021-12-21T12:29:16.109Z"
   },
   {
    "duration": 300,
    "start_time": "2021-12-21T12:29:20.044Z"
   },
   {
    "duration": 339,
    "start_time": "2021-12-21T12:29:22.908Z"
   },
   {
    "duration": 281,
    "start_time": "2021-12-21T12:29:29.852Z"
   },
   {
    "duration": 276,
    "start_time": "2021-12-21T12:29:47.837Z"
   },
   {
    "duration": 299,
    "start_time": "2021-12-21T12:30:12.957Z"
   },
   {
    "duration": 331,
    "start_time": "2021-12-21T12:30:37.789Z"
   },
   {
    "duration": 18,
    "start_time": "2021-12-21T12:31:12.909Z"
   },
   {
    "duration": 8,
    "start_time": "2021-12-21T12:31:14.316Z"
   },
   {
    "duration": 1337,
    "start_time": "2021-12-21T12:31:28.156Z"
   },
   {
    "duration": 195,
    "start_time": "2021-12-21T12:31:29.496Z"
   },
   {
    "duration": 30,
    "start_time": "2021-12-21T12:31:29.694Z"
   },
   {
    "duration": 177,
    "start_time": "2021-12-21T12:31:29.726Z"
   },
   {
    "duration": 17,
    "start_time": "2021-12-21T12:31:29.905Z"
   },
   {
    "duration": 129,
    "start_time": "2021-12-21T12:31:29.924Z"
   },
   {
    "duration": 28,
    "start_time": "2021-12-21T12:31:30.055Z"
   },
   {
    "duration": 46,
    "start_time": "2021-12-21T12:31:30.085Z"
   },
   {
    "duration": 21,
    "start_time": "2021-12-21T12:31:30.135Z"
   },
   {
    "duration": 54,
    "start_time": "2021-12-21T12:31:30.158Z"
   },
   {
    "duration": 7,
    "start_time": "2021-12-21T12:31:30.214Z"
   },
   {
    "duration": 22,
    "start_time": "2021-12-21T12:31:30.223Z"
   },
   {
    "duration": 195,
    "start_time": "2021-12-21T12:31:30.247Z"
   },
   {
    "duration": 4,
    "start_time": "2021-12-21T12:31:30.445Z"
   },
   {
    "duration": 1440,
    "start_time": "2021-12-21T12:31:30.451Z"
   },
   {
    "duration": 6,
    "start_time": "2021-12-21T12:31:31.894Z"
   },
   {
    "duration": 14,
    "start_time": "2021-12-21T12:31:31.902Z"
   },
   {
    "duration": 3,
    "start_time": "2021-12-21T12:31:31.918Z"
   },
   {
    "duration": 12,
    "start_time": "2021-12-21T12:31:31.923Z"
   },
   {
    "duration": 143,
    "start_time": "2021-12-21T12:31:31.937Z"
   },
   {
    "duration": 6,
    "start_time": "2021-12-21T12:31:32.083Z"
   },
   {
    "duration": 15,
    "start_time": "2021-12-21T12:31:32.091Z"
   },
   {
    "duration": 14,
    "start_time": "2021-12-21T12:31:32.108Z"
   },
   {
    "duration": 36,
    "start_time": "2021-12-21T12:31:32.124Z"
   },
   {
    "duration": 27,
    "start_time": "2021-12-21T12:31:32.163Z"
   },
   {
    "duration": 16,
    "start_time": "2021-12-21T12:31:32.192Z"
   },
   {
    "duration": 35,
    "start_time": "2021-12-21T12:31:32.213Z"
   },
   {
    "duration": 34,
    "start_time": "2021-12-21T12:31:32.250Z"
   },
   {
    "duration": 21,
    "start_time": "2021-12-21T12:31:32.287Z"
   },
   {
    "duration": 20,
    "start_time": "2021-12-21T12:31:32.311Z"
   },
   {
    "duration": 30,
    "start_time": "2021-12-21T12:31:32.333Z"
   },
   {
    "duration": 22,
    "start_time": "2021-12-21T12:31:32.365Z"
   },
   {
    "duration": 8,
    "start_time": "2021-12-21T12:31:32.389Z"
   },
   {
    "duration": 10,
    "start_time": "2021-12-21T12:31:32.398Z"
   },
   {
    "duration": 11,
    "start_time": "2021-12-21T12:31:32.409Z"
   },
   {
    "duration": 12,
    "start_time": "2021-12-21T12:31:32.421Z"
   },
   {
    "duration": 30,
    "start_time": "2021-12-21T12:31:32.435Z"
   },
   {
    "duration": 127,
    "start_time": "2021-12-21T12:31:32.468Z"
   },
   {
    "duration": 5,
    "start_time": "2021-12-21T12:31:32.598Z"
   },
   {
    "duration": 150,
    "start_time": "2021-12-21T12:31:32.604Z"
   },
   {
    "duration": 4,
    "start_time": "2021-12-21T12:31:32.756Z"
   },
   {
    "duration": 152,
    "start_time": "2021-12-21T12:31:32.763Z"
   },
   {
    "duration": 5,
    "start_time": "2021-12-21T12:31:32.917Z"
   },
   {
    "duration": 192,
    "start_time": "2021-12-21T12:31:32.923Z"
   },
   {
    "duration": 19,
    "start_time": "2021-12-21T12:31:33.120Z"
   },
   {
    "duration": 25,
    "start_time": "2021-12-21T12:31:33.141Z"
   },
   {
    "duration": 21,
    "start_time": "2021-12-21T12:31:33.168Z"
   },
   {
    "duration": 8,
    "start_time": "2021-12-21T12:31:35.024Z"
   },
   {
    "duration": 306,
    "start_time": "2021-12-21T12:31:43.184Z"
   },
   {
    "duration": 20,
    "start_time": "2021-12-21T12:33:13.281Z"
   },
   {
    "duration": 8,
    "start_time": "2021-12-21T12:33:22.400Z"
   },
   {
    "duration": 353,
    "start_time": "2021-12-21T12:33:58.465Z"
   },
   {
    "duration": 16,
    "start_time": "2021-12-21T12:36:00.497Z"
   },
   {
    "duration": 7,
    "start_time": "2021-12-21T12:36:03.873Z"
   },
   {
    "duration": 283,
    "start_time": "2021-12-21T12:37:27.825Z"
   },
   {
    "duration": 273,
    "start_time": "2021-12-21T12:41:29.682Z"
   },
   {
    "duration": 306,
    "start_time": "2021-12-21T12:41:35.142Z"
   },
   {
    "duration": 329,
    "start_time": "2021-12-21T12:41:40.595Z"
   },
   {
    "duration": 4,
    "start_time": "2021-12-21T12:47:32.643Z"
   },
   {
    "duration": 4,
    "start_time": "2021-12-21T12:47:42.179Z"
   },
   {
    "duration": 6,
    "start_time": "2021-12-21T12:47:50.114Z"
   },
   {
    "duration": 4,
    "start_time": "2021-12-21T12:47:56.039Z"
   },
   {
    "duration": 5,
    "start_time": "2021-12-21T12:48:13.266Z"
   },
   {
    "duration": 4,
    "start_time": "2021-12-21T12:49:11.090Z"
   },
   {
    "duration": 4,
    "start_time": "2021-12-21T12:49:11.602Z"
   },
   {
    "duration": 5,
    "start_time": "2021-12-21T12:50:21.843Z"
   },
   {
    "duration": 4,
    "start_time": "2021-12-21T12:50:22.338Z"
   },
   {
    "duration": 4,
    "start_time": "2021-12-21T12:50:24.178Z"
   },
   {
    "duration": 4,
    "start_time": "2021-12-21T12:50:24.595Z"
   },
   {
    "duration": 4,
    "start_time": "2021-12-21T12:50:28.211Z"
   },
   {
    "duration": 4,
    "start_time": "2021-12-21T12:50:28.562Z"
   },
   {
    "duration": 1331,
    "start_time": "2021-12-21T13:00:00.385Z"
   },
   {
    "duration": 216,
    "start_time": "2021-12-21T13:00:01.718Z"
   },
   {
    "duration": 40,
    "start_time": "2021-12-21T13:00:01.937Z"
   },
   {
    "duration": 279,
    "start_time": "2021-12-21T13:00:01.980Z"
   },
   {
    "duration": 26,
    "start_time": "2021-12-21T13:00:02.261Z"
   },
   {
    "duration": 142,
    "start_time": "2021-12-21T13:00:02.290Z"
   },
   {
    "duration": 33,
    "start_time": "2021-12-21T13:00:02.435Z"
   },
   {
    "duration": 32,
    "start_time": "2021-12-21T13:00:02.470Z"
   },
   {
    "duration": 17,
    "start_time": "2021-12-21T13:00:02.506Z"
   },
   {
    "duration": 60,
    "start_time": "2021-12-21T13:00:02.525Z"
   },
   {
    "duration": 14,
    "start_time": "2021-12-21T13:00:02.587Z"
   },
   {
    "duration": 15,
    "start_time": "2021-12-21T13:00:02.603Z"
   },
   {
    "duration": 156,
    "start_time": "2021-12-21T13:00:02.620Z"
   },
   {
    "duration": 5,
    "start_time": "2021-12-21T13:00:02.778Z"
   },
   {
    "duration": 1571,
    "start_time": "2021-12-21T13:00:02.786Z"
   },
   {
    "duration": 5,
    "start_time": "2021-12-21T13:00:04.361Z"
   },
   {
    "duration": 21,
    "start_time": "2021-12-21T13:00:04.367Z"
   },
   {
    "duration": 2,
    "start_time": "2021-12-21T13:00:04.391Z"
   },
   {
    "duration": 13,
    "start_time": "2021-12-21T13:00:04.395Z"
   },
   {
    "duration": 112,
    "start_time": "2021-12-21T13:00:04.410Z"
   },
   {
    "duration": 7,
    "start_time": "2021-12-21T13:00:04.524Z"
   },
   {
    "duration": 29,
    "start_time": "2021-12-21T13:00:04.533Z"
   },
   {
    "duration": 22,
    "start_time": "2021-12-21T13:00:04.565Z"
   },
   {
    "duration": 17,
    "start_time": "2021-12-21T13:00:04.589Z"
   },
   {
    "duration": 16,
    "start_time": "2021-12-21T13:00:04.609Z"
   },
   {
    "duration": 36,
    "start_time": "2021-12-21T13:00:04.627Z"
   },
   {
    "duration": 36,
    "start_time": "2021-12-21T13:00:04.668Z"
   },
   {
    "duration": 22,
    "start_time": "2021-12-21T13:00:04.706Z"
   },
   {
    "duration": 38,
    "start_time": "2021-12-21T13:00:04.730Z"
   },
   {
    "duration": 24,
    "start_time": "2021-12-21T13:00:04.771Z"
   },
   {
    "duration": 6,
    "start_time": "2021-12-21T13:00:04.797Z"
   },
   {
    "duration": 22,
    "start_time": "2021-12-21T13:00:04.805Z"
   },
   {
    "duration": 15,
    "start_time": "2021-12-21T13:00:04.829Z"
   },
   {
    "duration": 17,
    "start_time": "2021-12-21T13:00:04.845Z"
   },
   {
    "duration": 21,
    "start_time": "2021-12-21T13:00:04.864Z"
   },
   {
    "duration": 11,
    "start_time": "2021-12-21T13:00:04.887Z"
   },
   {
    "duration": 6,
    "start_time": "2021-12-21T13:00:04.900Z"
   },
   {
    "duration": 139,
    "start_time": "2021-12-21T13:00:04.908Z"
   },
   {
    "duration": 4,
    "start_time": "2021-12-21T13:00:05.049Z"
   },
   {
    "duration": 162,
    "start_time": "2021-12-21T13:00:05.060Z"
   },
   {
    "duration": 5,
    "start_time": "2021-12-21T13:00:05.224Z"
   },
   {
    "duration": 118,
    "start_time": "2021-12-21T13:00:05.231Z"
   },
   {
    "duration": 4,
    "start_time": "2021-12-21T13:00:05.351Z"
   },
   {
    "duration": 215,
    "start_time": "2021-12-21T13:00:05.357Z"
   },
   {
    "duration": 13,
    "start_time": "2021-12-21T13:00:05.574Z"
   },
   {
    "duration": 13,
    "start_time": "2021-12-21T13:00:05.589Z"
   },
   {
    "duration": 19,
    "start_time": "2021-12-21T13:00:05.604Z"
   },
   {
    "duration": 7,
    "start_time": "2021-12-21T13:00:05.625Z"
   },
   {
    "duration": 313,
    "start_time": "2021-12-21T13:00:33.734Z"
   },
   {
    "duration": 4,
    "start_time": "2021-12-21T13:00:53.703Z"
   },
   {
    "duration": 445,
    "start_time": "2021-12-21T13:03:17.895Z"
   },
   {
    "duration": 4,
    "start_time": "2021-12-21T13:03:23.687Z"
   },
   {
    "duration": 138,
    "start_time": "2021-12-21T13:04:04.822Z"
   },
   {
    "duration": 5,
    "start_time": "2021-12-21T13:04:06.390Z"
   },
   {
    "duration": 5,
    "start_time": "2021-12-21T13:04:13.782Z"
   },
   {
    "duration": 4,
    "start_time": "2021-12-21T13:05:31.191Z"
   },
   {
    "duration": 5,
    "start_time": "2021-12-21T13:10:18.952Z"
   },
   {
    "duration": 5,
    "start_time": "2021-12-21T13:10:43.527Z"
   },
   {
    "duration": 6,
    "start_time": "2021-12-21T13:11:43.289Z"
   },
   {
    "duration": 5,
    "start_time": "2021-12-21T13:11:49.928Z"
   },
   {
    "duration": 5,
    "start_time": "2021-12-21T13:12:39.480Z"
   },
   {
    "duration": 214,
    "start_time": "2021-12-21T13:13:17.768Z"
   },
   {
    "duration": 16,
    "start_time": "2021-12-21T13:14:17.256Z"
   },
   {
    "duration": 206,
    "start_time": "2021-12-21T13:14:36.456Z"
   },
   {
    "duration": 440,
    "start_time": "2021-12-21T13:14:41.207Z"
   },
   {
    "duration": 41,
    "start_time": "2021-12-21T13:14:45.768Z"
   },
   {
    "duration": 37,
    "start_time": "2021-12-21T13:15:18.185Z"
   },
   {
    "duration": 56,
    "start_time": "2021-12-21T13:16:49.609Z"
   },
   {
    "duration": 299,
    "start_time": "2021-12-21T13:21:38.746Z"
   },
   {
    "duration": 892,
    "start_time": "2021-12-21T13:24:36.553Z"
   },
   {
    "duration": 124,
    "start_time": "2021-12-21T13:24:44.809Z"
   },
   {
    "duration": 365,
    "start_time": "2021-12-21T13:25:02.425Z"
   },
   {
    "duration": 140,
    "start_time": "2021-12-21T13:25:30.122Z"
   },
   {
    "duration": 232,
    "start_time": "2021-12-21T13:25:37.657Z"
   },
   {
    "duration": 209,
    "start_time": "2021-12-21T13:25:41.018Z"
   },
   {
    "duration": 132,
    "start_time": "2021-12-21T13:26:30.378Z"
   },
   {
    "duration": 131,
    "start_time": "2021-12-21T13:27:15.978Z"
   },
   {
    "duration": 309,
    "start_time": "2021-12-21T13:29:03.753Z"
   },
   {
    "duration": 155,
    "start_time": "2021-12-21T13:36:14.491Z"
   },
   {
    "duration": 1204,
    "start_time": "2021-12-21T13:36:25.662Z"
   },
   {
    "duration": 167,
    "start_time": "2021-12-21T13:36:26.868Z"
   },
   {
    "duration": 29,
    "start_time": "2021-12-21T13:36:27.037Z"
   },
   {
    "duration": 146,
    "start_time": "2021-12-21T13:36:27.069Z"
   },
   {
    "duration": 19,
    "start_time": "2021-12-21T13:36:27.217Z"
   },
   {
    "duration": 98,
    "start_time": "2021-12-21T13:36:27.238Z"
   },
   {
    "duration": 25,
    "start_time": "2021-12-21T13:36:27.338Z"
   },
   {
    "duration": 29,
    "start_time": "2021-12-21T13:36:27.366Z"
   },
   {
    "duration": 33,
    "start_time": "2021-12-21T13:36:27.397Z"
   },
   {
    "duration": 44,
    "start_time": "2021-12-21T13:36:27.433Z"
   },
   {
    "duration": 7,
    "start_time": "2021-12-21T13:36:27.479Z"
   },
   {
    "duration": 10,
    "start_time": "2021-12-21T13:36:27.487Z"
   },
   {
    "duration": 151,
    "start_time": "2021-12-21T13:36:27.498Z"
   },
   {
    "duration": 3,
    "start_time": "2021-12-21T13:36:27.651Z"
   },
   {
    "duration": 1197,
    "start_time": "2021-12-21T13:36:27.656Z"
   },
   {
    "duration": 5,
    "start_time": "2021-12-21T13:36:28.855Z"
   },
   {
    "duration": 10,
    "start_time": "2021-12-21T13:36:28.862Z"
   },
   {
    "duration": 3,
    "start_time": "2021-12-21T13:36:28.874Z"
   },
   {
    "duration": 11,
    "start_time": "2021-12-21T13:36:28.879Z"
   },
   {
    "duration": 136,
    "start_time": "2021-12-21T13:36:28.892Z"
   },
   {
    "duration": 6,
    "start_time": "2021-12-21T13:36:29.030Z"
   },
   {
    "duration": 30,
    "start_time": "2021-12-21T13:36:29.038Z"
   },
   {
    "duration": 13,
    "start_time": "2021-12-21T13:36:29.074Z"
   },
   {
    "duration": 14,
    "start_time": "2021-12-21T13:36:29.089Z"
   },
   {
    "duration": 11,
    "start_time": "2021-12-21T13:36:29.104Z"
   },
   {
    "duration": 19,
    "start_time": "2021-12-21T13:36:29.117Z"
   },
   {
    "duration": 26,
    "start_time": "2021-12-21T13:36:29.162Z"
   },
   {
    "duration": 22,
    "start_time": "2021-12-21T13:36:29.190Z"
   },
   {
    "duration": 16,
    "start_time": "2021-12-21T13:36:29.214Z"
   },
   {
    "duration": 43,
    "start_time": "2021-12-21T13:36:29.232Z"
   },
   {
    "duration": 5,
    "start_time": "2021-12-21T13:36:29.277Z"
   },
   {
    "duration": 12,
    "start_time": "2021-12-21T13:36:29.286Z"
   },
   {
    "duration": 9,
    "start_time": "2021-12-21T13:36:29.300Z"
   },
   {
    "duration": 9,
    "start_time": "2021-12-21T13:36:29.311Z"
   },
   {
    "duration": 14,
    "start_time": "2021-12-21T13:36:29.322Z"
   },
   {
    "duration": 33,
    "start_time": "2021-12-21T13:36:29.337Z"
   },
   {
    "duration": 6,
    "start_time": "2021-12-21T13:36:29.372Z"
   },
   {
    "duration": 158,
    "start_time": "2021-12-21T13:36:29.380Z"
   },
   {
    "duration": 3,
    "start_time": "2021-12-21T13:36:29.540Z"
   },
   {
    "duration": 122,
    "start_time": "2021-12-21T13:36:29.546Z"
   },
   {
    "duration": 5,
    "start_time": "2021-12-21T13:36:29.670Z"
   },
   {
    "duration": 114,
    "start_time": "2021-12-21T13:36:29.677Z"
   },
   {
    "duration": 5,
    "start_time": "2021-12-21T13:36:29.793Z"
   },
   {
    "duration": 184,
    "start_time": "2021-12-21T13:36:29.800Z"
   },
   {
    "duration": 11,
    "start_time": "2021-12-21T13:36:29.986Z"
   },
   {
    "duration": 12,
    "start_time": "2021-12-21T13:36:29.999Z"
   },
   {
    "duration": 38,
    "start_time": "2021-12-21T13:36:30.014Z"
   },
   {
    "duration": 8,
    "start_time": "2021-12-21T13:36:30.054Z"
   },
   {
    "duration": 312,
    "start_time": "2021-12-21T13:36:30.064Z"
   },
   {
    "duration": 6,
    "start_time": "2021-12-21T13:36:30.378Z"
   },
   {
    "duration": 13,
    "start_time": "2021-12-21T13:36:30.386Z"
   },
   {
    "duration": 9,
    "start_time": "2021-12-21T13:36:30.401Z"
   },
   {
    "duration": 163,
    "start_time": "2021-12-21T13:36:35.285Z"
   },
   {
    "duration": 184,
    "start_time": "2021-12-21T13:38:56.245Z"
   },
   {
    "duration": 214,
    "start_time": "2021-12-21T13:39:30.150Z"
   },
   {
    "duration": 576,
    "start_time": "2021-12-21T13:40:00.470Z"
   },
   {
    "duration": 296,
    "start_time": "2021-12-21T13:40:06.646Z"
   },
   {
    "duration": 158,
    "start_time": "2021-12-21T13:40:25.477Z"
   },
   {
    "duration": 16,
    "start_time": "2021-12-21T13:41:45.942Z"
   },
   {
    "duration": 8,
    "start_time": "2021-12-21T13:41:47.754Z"
   },
   {
    "duration": 308,
    "start_time": "2021-12-21T13:41:49.974Z"
   },
   {
    "duration": 6,
    "start_time": "2021-12-21T13:43:25.271Z"
   },
   {
    "duration": 6,
    "start_time": "2021-12-21T13:44:21.366Z"
   },
   {
    "duration": 6,
    "start_time": "2021-12-21T13:44:54.215Z"
   },
   {
    "duration": 6,
    "start_time": "2021-12-21T13:44:55.185Z"
   },
   {
    "duration": 6,
    "start_time": "2021-12-21T13:45:08.490Z"
   },
   {
    "duration": 192,
    "start_time": "2021-12-21T13:45:10.646Z"
   },
   {
    "duration": 6,
    "start_time": "2021-12-21T13:45:30.375Z"
   },
   {
    "duration": 6,
    "start_time": "2021-12-21T13:46:04.455Z"
   },
   {
    "duration": 7,
    "start_time": "2021-12-21T13:46:06.827Z"
   },
   {
    "duration": 5,
    "start_time": "2021-12-21T13:46:08.264Z"
   },
   {
    "duration": 161,
    "start_time": "2021-12-21T13:47:19.911Z"
   },
   {
    "duration": 18,
    "start_time": "2021-12-21T13:48:37.126Z"
   },
   {
    "duration": 8,
    "start_time": "2021-12-21T13:48:37.894Z"
   },
   {
    "duration": 341,
    "start_time": "2021-12-21T13:48:39.222Z"
   },
   {
    "duration": 5,
    "start_time": "2021-12-21T13:49:54.183Z"
   },
   {
    "duration": 5,
    "start_time": "2021-12-21T13:50:11.143Z"
   },
   {
    "duration": 7,
    "start_time": "2021-12-21T13:50:23.031Z"
   },
   {
    "duration": 178,
    "start_time": "2021-12-21T13:50:49.671Z"
   },
   {
    "duration": 1348,
    "start_time": "2021-12-21T13:52:59.313Z"
   },
   {
    "duration": 184,
    "start_time": "2021-12-21T13:53:00.663Z"
   },
   {
    "duration": 31,
    "start_time": "2021-12-21T13:53:00.850Z"
   },
   {
    "duration": 162,
    "start_time": "2021-12-21T13:53:00.883Z"
   },
   {
    "duration": 25,
    "start_time": "2021-12-21T13:53:01.047Z"
   },
   {
    "duration": 127,
    "start_time": "2021-12-21T13:53:01.074Z"
   },
   {
    "duration": 16,
    "start_time": "2021-12-21T13:53:01.203Z"
   },
   {
    "duration": 28,
    "start_time": "2021-12-21T13:53:01.223Z"
   },
   {
    "duration": 15,
    "start_time": "2021-12-21T13:53:01.253Z"
   },
   {
    "duration": 40,
    "start_time": "2021-12-21T13:53:01.271Z"
   },
   {
    "duration": 10,
    "start_time": "2021-12-21T13:53:01.313Z"
   },
   {
    "duration": 13,
    "start_time": "2021-12-21T13:53:01.325Z"
   },
   {
    "duration": 132,
    "start_time": "2021-12-21T13:53:01.340Z"
   },
   {
    "duration": 3,
    "start_time": "2021-12-21T13:53:01.474Z"
   },
   {
    "duration": 1362,
    "start_time": "2021-12-21T13:53:01.479Z"
   },
   {
    "duration": 5,
    "start_time": "2021-12-21T13:53:02.843Z"
   },
   {
    "duration": 24,
    "start_time": "2021-12-21T13:53:02.850Z"
   },
   {
    "duration": 3,
    "start_time": "2021-12-21T13:53:02.876Z"
   },
   {
    "duration": 9,
    "start_time": "2021-12-21T13:53:02.881Z"
   },
   {
    "duration": 120,
    "start_time": "2021-12-21T13:53:02.892Z"
   },
   {
    "duration": 6,
    "start_time": "2021-12-21T13:53:03.014Z"
   },
   {
    "duration": 16,
    "start_time": "2021-12-21T13:53:03.022Z"
   },
   {
    "duration": 28,
    "start_time": "2021-12-21T13:53:03.043Z"
   },
   {
    "duration": 15,
    "start_time": "2021-12-21T13:53:03.074Z"
   },
   {
    "duration": 13,
    "start_time": "2021-12-21T13:53:03.091Z"
   },
   {
    "duration": 20,
    "start_time": "2021-12-21T13:53:03.106Z"
   },
   {
    "duration": 56,
    "start_time": "2021-12-21T13:53:03.129Z"
   },
   {
    "duration": 28,
    "start_time": "2021-12-21T13:53:03.187Z"
   },
   {
    "duration": 23,
    "start_time": "2021-12-21T13:53:03.217Z"
   },
   {
    "duration": 33,
    "start_time": "2021-12-21T13:53:03.243Z"
   },
   {
    "duration": 4,
    "start_time": "2021-12-21T13:53:03.278Z"
   },
   {
    "duration": 14,
    "start_time": "2021-12-21T13:53:03.285Z"
   },
   {
    "duration": 8,
    "start_time": "2021-12-21T13:53:03.301Z"
   },
   {
    "duration": 17,
    "start_time": "2021-12-21T13:53:03.310Z"
   },
   {
    "duration": 37,
    "start_time": "2021-12-21T13:53:03.329Z"
   },
   {
    "duration": 11,
    "start_time": "2021-12-21T13:53:03.368Z"
   },
   {
    "duration": 4,
    "start_time": "2021-12-21T13:53:03.381Z"
   },
   {
    "duration": 119,
    "start_time": "2021-12-21T13:53:03.386Z"
   },
   {
    "duration": 4,
    "start_time": "2021-12-21T13:53:03.507Z"
   },
   {
    "duration": 159,
    "start_time": "2021-12-21T13:53:03.513Z"
   },
   {
    "duration": 4,
    "start_time": "2021-12-21T13:53:03.674Z"
   },
   {
    "duration": 144,
    "start_time": "2021-12-21T13:53:03.680Z"
   },
   {
    "duration": 5,
    "start_time": "2021-12-21T13:53:03.826Z"
   },
   {
    "duration": 178,
    "start_time": "2021-12-21T13:53:03.833Z"
   },
   {
    "duration": 13,
    "start_time": "2021-12-21T13:53:04.013Z"
   },
   {
    "duration": 15,
    "start_time": "2021-12-21T13:53:04.028Z"
   },
   {
    "duration": 31,
    "start_time": "2021-12-21T13:53:04.046Z"
   },
   {
    "duration": 7,
    "start_time": "2021-12-21T13:53:04.079Z"
   },
   {
    "duration": 322,
    "start_time": "2021-12-21T13:53:04.088Z"
   },
   {
    "duration": 5,
    "start_time": "2021-12-21T13:53:04.412Z"
   },
   {
    "duration": 12,
    "start_time": "2021-12-21T13:53:04.419Z"
   },
   {
    "duration": 30,
    "start_time": "2021-12-21T13:53:04.433Z"
   },
   {
    "duration": 204,
    "start_time": "2021-12-21T13:53:04.465Z"
   },
   {
    "duration": 17,
    "start_time": "2021-12-21T13:53:04.671Z"
   },
   {
    "duration": 20,
    "start_time": "2021-12-21T13:53:04.690Z"
   },
   {
    "duration": 382,
    "start_time": "2021-12-21T13:53:04.713Z"
   },
   {
    "duration": 5,
    "start_time": "2021-12-21T13:53:05.097Z"
   },
   {
    "duration": 20,
    "start_time": "2021-12-21T13:53:05.104Z"
   },
   {
    "duration": 17,
    "start_time": "2021-12-21T13:53:05.126Z"
   },
   {
    "duration": 181,
    "start_time": "2021-12-21T13:53:05.145Z"
   },
   {
    "duration": 18,
    "start_time": "2021-12-21T13:53:05.328Z"
   },
   {
    "duration": 24,
    "start_time": "2021-12-21T13:53:05.347Z"
   },
   {
    "duration": 312,
    "start_time": "2021-12-21T13:53:05.374Z"
   },
   {
    "duration": 5,
    "start_time": "2021-12-21T13:53:05.688Z"
   },
   {
    "duration": 21,
    "start_time": "2021-12-21T13:53:05.695Z"
   },
   {
    "duration": 22,
    "start_time": "2021-12-21T13:53:05.718Z"
   },
   {
    "duration": 245,
    "start_time": "2021-12-21T13:53:05.742Z"
   },
   {
    "duration": 4,
    "start_time": "2021-12-21T18:57:00.804Z"
   },
   {
    "duration": 2,
    "start_time": "2021-12-21T19:02:23.244Z"
   },
   {
    "duration": 307,
    "start_time": "2021-12-21T19:02:39.948Z"
   },
   {
    "duration": 8,
    "start_time": "2021-12-21T19:02:50.435Z"
   },
   {
    "duration": 15,
    "start_time": "2021-12-21T19:03:06.610Z"
   },
   {
    "duration": 13,
    "start_time": "2021-12-21T19:03:11.970Z"
   },
   {
    "duration": 15,
    "start_time": "2021-12-21T19:03:26.914Z"
   },
   {
    "duration": 5,
    "start_time": "2021-12-21T19:03:39.857Z"
   },
   {
    "duration": 5,
    "start_time": "2021-12-21T19:03:51.090Z"
   },
   {
    "duration": 3,
    "start_time": "2021-12-21T19:03:52.563Z"
   },
   {
    "duration": 4,
    "start_time": "2021-12-21T19:03:54.120Z"
   },
   {
    "duration": 3,
    "start_time": "2021-12-21T19:03:54.977Z"
   },
   {
    "duration": 4,
    "start_time": "2021-12-21T19:03:56.593Z"
   },
   {
    "duration": 4,
    "start_time": "2021-12-21T19:04:12.770Z"
   },
   {
    "duration": 4,
    "start_time": "2021-12-21T19:04:13.298Z"
   },
   {
    "duration": 4,
    "start_time": "2021-12-21T19:04:14.273Z"
   },
   {
    "duration": 5,
    "start_time": "2021-12-21T19:04:18.514Z"
   },
   {
    "duration": 3,
    "start_time": "2021-12-21T19:04:19.361Z"
   },
   {
    "duration": 4,
    "start_time": "2021-12-21T19:04:19.761Z"
   },
   {
    "duration": 6,
    "start_time": "2021-12-21T19:05:59.170Z"
   },
   {
    "duration": 9,
    "start_time": "2021-12-21T19:06:22.065Z"
   },
   {
    "duration": 5,
    "start_time": "2021-12-21T19:07:22.818Z"
   },
   {
    "duration": 85,
    "start_time": "2021-12-21T19:11:28.180Z"
   },
   {
    "duration": 6,
    "start_time": "2021-12-21T19:11:33.364Z"
   },
   {
    "duration": 4,
    "start_time": "2021-12-21T19:11:51.363Z"
   },
   {
    "duration": 7,
    "start_time": "2021-12-21T19:11:56.851Z"
   },
   {
    "duration": 2,
    "start_time": "2021-12-21T19:13:09.059Z"
   },
   {
    "duration": 4,
    "start_time": "2021-12-21T19:13:09.442Z"
   },
   {
    "duration": 3,
    "start_time": "2021-12-21T19:13:09.811Z"
   },
   {
    "duration": 4,
    "start_time": "2021-12-21T19:13:11.570Z"
   },
   {
    "duration": 1264,
    "start_time": "2021-12-21T19:14:01.761Z"
   },
   {
    "duration": 162,
    "start_time": "2021-12-21T19:14:03.027Z"
   },
   {
    "duration": 22,
    "start_time": "2021-12-21T19:14:03.191Z"
   },
   {
    "duration": 139,
    "start_time": "2021-12-21T19:14:03.215Z"
   },
   {
    "duration": 18,
    "start_time": "2021-12-21T19:14:03.356Z"
   },
   {
    "duration": 98,
    "start_time": "2021-12-21T19:14:03.377Z"
   },
   {
    "duration": 15,
    "start_time": "2021-12-21T19:14:03.477Z"
   },
   {
    "duration": 25,
    "start_time": "2021-12-21T19:14:03.495Z"
   },
   {
    "duration": 7,
    "start_time": "2021-12-21T19:14:03.522Z"
   },
   {
    "duration": 42,
    "start_time": "2021-12-21T19:14:03.531Z"
   },
   {
    "duration": 9,
    "start_time": "2021-12-21T19:14:03.575Z"
   },
   {
    "duration": 6,
    "start_time": "2021-12-21T19:14:03.586Z"
   },
   {
    "duration": 131,
    "start_time": "2021-12-21T19:14:03.594Z"
   },
   {
    "duration": 4,
    "start_time": "2021-12-21T19:14:03.727Z"
   },
   {
    "duration": 1151,
    "start_time": "2021-12-21T19:14:03.733Z"
   },
   {
    "duration": 6,
    "start_time": "2021-12-21T19:14:04.886Z"
   },
   {
    "duration": 16,
    "start_time": "2021-12-21T19:14:04.894Z"
   },
   {
    "duration": 3,
    "start_time": "2021-12-21T19:14:04.912Z"
   },
   {
    "duration": 16,
    "start_time": "2021-12-21T19:14:04.917Z"
   },
   {
    "duration": 127,
    "start_time": "2021-12-21T19:14:04.935Z"
   },
   {
    "duration": 7,
    "start_time": "2021-12-21T19:14:05.064Z"
   },
   {
    "duration": 16,
    "start_time": "2021-12-21T19:14:05.073Z"
   },
   {
    "duration": 12,
    "start_time": "2021-12-21T19:14:05.093Z"
   },
   {
    "duration": 12,
    "start_time": "2021-12-21T19:14:05.107Z"
   },
   {
    "duration": 41,
    "start_time": "2021-12-21T19:14:05.121Z"
   },
   {
    "duration": 14,
    "start_time": "2021-12-21T19:14:05.164Z"
   },
   {
    "duration": 38,
    "start_time": "2021-12-21T19:14:05.179Z"
   },
   {
    "duration": 23,
    "start_time": "2021-12-21T19:14:05.219Z"
   },
   {
    "duration": 24,
    "start_time": "2021-12-21T19:14:05.243Z"
   },
   {
    "duration": 20,
    "start_time": "2021-12-21T19:14:05.269Z"
   },
   {
    "duration": 4,
    "start_time": "2021-12-21T19:14:05.291Z"
   },
   {
    "duration": 10,
    "start_time": "2021-12-21T19:14:05.297Z"
   },
   {
    "duration": 8,
    "start_time": "2021-12-21T19:14:05.309Z"
   },
   {
    "duration": 8,
    "start_time": "2021-12-21T19:14:05.319Z"
   },
   {
    "duration": 9,
    "start_time": "2021-12-21T19:14:10.734Z"
   },
   {
    "duration": 11,
    "start_time": "2021-12-21T19:14:11.798Z"
   },
   {
    "duration": 4,
    "start_time": "2021-12-21T19:14:15.615Z"
   },
   {
    "duration": 96,
    "start_time": "2021-12-21T19:14:16.993Z"
   },
   {
    "duration": 4,
    "start_time": "2021-12-21T19:14:17.366Z"
   },
   {
    "duration": 107,
    "start_time": "2021-12-21T19:14:17.743Z"
   },
   {
    "duration": 4,
    "start_time": "2021-12-21T19:14:18.782Z"
   },
   {
    "duration": 101,
    "start_time": "2021-12-21T19:14:19.102Z"
   },
   {
    "duration": 4,
    "start_time": "2021-12-21T19:14:20.222Z"
   },
   {
    "duration": 200,
    "start_time": "2021-12-21T19:14:21.351Z"
   },
   {
    "duration": 17,
    "start_time": "2021-12-21T19:14:21.727Z"
   },
   {
    "duration": 10,
    "start_time": "2021-12-21T19:14:23.630Z"
   },
   {
    "duration": 18,
    "start_time": "2021-12-21T19:14:39.359Z"
   },
   {
    "duration": 14,
    "start_time": "2021-12-21T19:14:42.703Z"
   },
   {
    "duration": 22,
    "start_time": "2021-12-21T19:19:32.127Z"
   },
   {
    "duration": 8,
    "start_time": "2021-12-21T19:19:32.351Z"
   },
   {
    "duration": 267,
    "start_time": "2021-12-21T19:19:32.623Z"
   },
   {
    "duration": 6,
    "start_time": "2021-12-21T19:19:34.623Z"
   },
   {
    "duration": 5,
    "start_time": "2021-12-21T19:19:34.863Z"
   },
   {
    "duration": 5,
    "start_time": "2021-12-21T19:19:35.087Z"
   },
   {
    "duration": 204,
    "start_time": "2021-12-21T19:19:35.311Z"
   },
   {
    "duration": 23,
    "start_time": "2021-12-21T19:19:37.136Z"
   },
   {
    "duration": 8,
    "start_time": "2021-12-21T19:19:38.196Z"
   },
   {
    "duration": 262,
    "start_time": "2021-12-21T19:19:38.400Z"
   },
   {
    "duration": 6,
    "start_time": "2021-12-21T19:19:38.830Z"
   },
   {
    "duration": 5,
    "start_time": "2021-12-21T19:19:39.903Z"
   },
   {
    "duration": 5,
    "start_time": "2021-12-21T19:19:40.113Z"
   },
   {
    "duration": 201,
    "start_time": "2021-12-21T19:19:40.320Z"
   },
   {
    "duration": 19,
    "start_time": "2021-12-21T19:19:42.128Z"
   },
   {
    "duration": 8,
    "start_time": "2021-12-21T19:19:43.103Z"
   },
   {
    "duration": 338,
    "start_time": "2021-12-21T19:19:43.327Z"
   },
   {
    "duration": 6,
    "start_time": "2021-12-21T19:19:43.733Z"
   },
   {
    "duration": 5,
    "start_time": "2021-12-21T19:19:44.273Z"
   },
   {
    "duration": 5,
    "start_time": "2021-12-21T19:19:45.220Z"
   },
   {
    "duration": 232,
    "start_time": "2021-12-21T19:19:45.456Z"
   },
   {
    "duration": 5,
    "start_time": "2021-12-21T19:19:53.849Z"
   },
   {
    "duration": 6,
    "start_time": "2021-12-21T19:19:54.479Z"
   },
   {
    "duration": 7,
    "start_time": "2021-12-21T19:19:54.991Z"
   },
   {
    "duration": 3,
    "start_time": "2021-12-21T19:19:55.263Z"
   },
   {
    "duration": 5,
    "start_time": "2021-12-21T19:19:56.159Z"
   },
   {
    "duration": 4,
    "start_time": "2021-12-21T19:19:56.399Z"
   },
   {
    "duration": 5,
    "start_time": "2021-12-21T19:19:56.655Z"
   },
   {
    "duration": 7,
    "start_time": "2021-12-21T19:22:57.135Z"
   },
   {
    "duration": 8,
    "start_time": "2021-12-21T19:22:58.038Z"
   },
   {
    "duration": 6,
    "start_time": "2021-12-21T19:23:11.745Z"
   },
   {
    "duration": 21,
    "start_time": "2021-12-21T19:23:27.728Z"
   },
   {
    "duration": 7,
    "start_time": "2021-12-21T19:25:22.912Z"
   },
   {
    "duration": 3,
    "start_time": "2021-12-21T19:25:56.212Z"
   },
   {
    "duration": 5,
    "start_time": "2021-12-21T19:25:56.705Z"
   },
   {
    "duration": 4,
    "start_time": "2021-12-21T19:26:03.344Z"
   },
   {
    "duration": 4,
    "start_time": "2021-12-21T19:26:04.386Z"
   },
   {
    "duration": 2,
    "start_time": "2021-12-21T19:30:09.365Z"
   },
   {
    "duration": 5,
    "start_time": "2021-12-21T19:30:11.216Z"
   },
   {
    "duration": 4,
    "start_time": "2021-12-21T19:30:11.810Z"
   },
   {
    "duration": 4,
    "start_time": "2021-12-21T19:30:13.393Z"
   },
   {
    "duration": 3,
    "start_time": "2021-12-21T19:30:27.456Z"
   },
   {
    "duration": 4,
    "start_time": "2021-12-21T19:30:28.208Z"
   },
   {
    "duration": 4,
    "start_time": "2021-12-21T19:30:28.656Z"
   },
   {
    "duration": 4,
    "start_time": "2021-12-21T19:30:30.112Z"
   },
   {
    "duration": 451,
    "start_time": "2021-12-23T15:29:37.538Z"
   },
   {
    "duration": 2063,
    "start_time": "2021-12-23T15:29:42.264Z"
   },
   {
    "duration": 316,
    "start_time": "2021-12-23T15:29:44.330Z"
   },
   {
    "duration": 49,
    "start_time": "2021-12-23T15:29:44.650Z"
   },
   {
    "duration": 265,
    "start_time": "2021-12-23T15:29:44.703Z"
   },
   {
    "duration": 35,
    "start_time": "2021-12-23T15:29:44.971Z"
   },
   {
    "duration": 139,
    "start_time": "2021-12-23T15:29:45.009Z"
   },
   {
    "duration": 26,
    "start_time": "2021-12-23T15:29:45.151Z"
   },
   {
    "duration": 37,
    "start_time": "2021-12-23T15:29:45.181Z"
   },
   {
    "duration": 13,
    "start_time": "2021-12-23T15:29:45.222Z"
   },
   {
    "duration": 64,
    "start_time": "2021-12-23T15:29:45.239Z"
   },
   {
    "duration": 10,
    "start_time": "2021-12-23T15:29:45.306Z"
   },
   {
    "duration": 5,
    "start_time": "2021-12-23T15:29:45.319Z"
   },
   {
    "duration": 200,
    "start_time": "2021-12-23T15:29:45.327Z"
   },
   {
    "duration": 6,
    "start_time": "2021-12-23T15:29:45.530Z"
   },
   {
    "duration": 2543,
    "start_time": "2021-12-23T15:29:45.539Z"
   },
   {
    "duration": 8,
    "start_time": "2021-12-23T15:29:48.085Z"
   },
   {
    "duration": 14,
    "start_time": "2021-12-23T15:29:48.096Z"
   },
   {
    "duration": 5,
    "start_time": "2021-12-23T15:29:48.113Z"
   },
   {
    "duration": 11,
    "start_time": "2021-12-23T15:29:48.121Z"
   },
   {
    "duration": 191,
    "start_time": "2021-12-23T15:29:48.135Z"
   },
   {
    "duration": 7,
    "start_time": "2021-12-23T15:29:48.329Z"
   },
   {
    "duration": 31,
    "start_time": "2021-12-23T15:29:48.339Z"
   },
   {
    "duration": 17,
    "start_time": "2021-12-23T15:29:48.377Z"
   },
   {
    "duration": 15,
    "start_time": "2021-12-23T15:29:48.398Z"
   },
   {
    "duration": 54,
    "start_time": "2021-12-23T15:29:48.416Z"
   },
   {
    "duration": 19,
    "start_time": "2021-12-23T15:29:48.473Z"
   },
   {
    "duration": 35,
    "start_time": "2021-12-23T15:29:48.495Z"
   },
   {
    "duration": 58,
    "start_time": "2021-12-23T15:29:48.532Z"
   },
   {
    "duration": 22,
    "start_time": "2021-12-23T15:29:48.592Z"
   },
   {
    "duration": 61,
    "start_time": "2021-12-23T15:29:48.616Z"
   },
   {
    "duration": 7,
    "start_time": "2021-12-23T15:29:48.680Z"
   },
   {
    "duration": 16,
    "start_time": "2021-12-23T15:29:48.690Z"
   },
   {
    "duration": 13,
    "start_time": "2021-12-23T15:29:48.708Z"
   },
   {
    "duration": 44,
    "start_time": "2021-12-23T15:29:48.723Z"
   },
   {
    "duration": 16,
    "start_time": "2021-12-23T15:29:48.770Z"
   },
   {
    "duration": 19,
    "start_time": "2021-12-23T15:29:48.788Z"
   },
   {
    "duration": 7,
    "start_time": "2021-12-23T15:29:48.810Z"
   },
   {
    "duration": 361,
    "start_time": "2021-12-23T15:29:48.820Z"
   },
   {
    "duration": 6,
    "start_time": "2021-12-23T15:29:49.185Z"
   },
   {
    "duration": 373,
    "start_time": "2021-12-23T15:29:49.194Z"
   },
   {
    "duration": 7,
    "start_time": "2021-12-23T15:29:49.570Z"
   },
   {
    "duration": 197,
    "start_time": "2021-12-23T15:29:49.579Z"
   },
   {
    "duration": 5,
    "start_time": "2021-12-23T15:29:49.778Z"
   },
   {
    "duration": 275,
    "start_time": "2021-12-23T15:29:49.785Z"
   },
   {
    "duration": 24,
    "start_time": "2021-12-23T15:29:50.063Z"
   },
   {
    "duration": 16,
    "start_time": "2021-12-23T15:29:50.089Z"
   },
   {
    "duration": 24,
    "start_time": "2021-12-23T15:29:50.107Z"
   },
   {
    "duration": 40,
    "start_time": "2021-12-23T15:29:50.134Z"
   },
   {
    "duration": 462,
    "start_time": "2021-12-23T15:29:50.177Z"
   },
   {
    "duration": 8,
    "start_time": "2021-12-23T15:29:50.642Z"
   },
   {
    "duration": 22,
    "start_time": "2021-12-23T15:29:50.653Z"
   },
   {
    "duration": 12,
    "start_time": "2021-12-23T15:29:50.678Z"
   },
   {
    "duration": 299,
    "start_time": "2021-12-23T15:29:50.692Z"
   },
   {
    "duration": 22,
    "start_time": "2021-12-23T15:29:50.994Z"
   },
   {
    "duration": 8,
    "start_time": "2021-12-23T15:29:51.019Z"
   },
   {
    "duration": 698,
    "start_time": "2021-12-23T15:29:51.030Z"
   },
   {
    "duration": 9,
    "start_time": "2021-12-23T15:29:51.731Z"
   },
   {
    "duration": 29,
    "start_time": "2021-12-23T15:29:51.744Z"
   },
   {
    "duration": 9,
    "start_time": "2021-12-23T15:29:51.776Z"
   },
   {
    "duration": 398,
    "start_time": "2021-12-23T15:29:51.789Z"
   },
   {
    "duration": 35,
    "start_time": "2021-12-23T15:29:52.190Z"
   },
   {
    "duration": 39,
    "start_time": "2021-12-23T15:29:52.228Z"
   },
   {
    "duration": 437,
    "start_time": "2021-12-23T15:29:52.270Z"
   },
   {
    "duration": 6,
    "start_time": "2021-12-23T15:29:52.709Z"
   },
   {
    "duration": 15,
    "start_time": "2021-12-23T15:29:52.718Z"
   },
   {
    "duration": 32,
    "start_time": "2021-12-23T15:29:52.735Z"
   },
   {
    "duration": 334,
    "start_time": "2021-12-23T15:29:52.769Z"
   },
   {
    "duration": 27,
    "start_time": "2021-12-23T15:29:53.112Z"
   },
   {
    "duration": 23,
    "start_time": "2021-12-23T15:29:59.329Z"
   },
   {
    "duration": 10,
    "start_time": "2021-12-23T15:30:10.546Z"
   },
   {
    "duration": 477,
    "start_time": "2021-12-23T15:30:42.481Z"
   },
   {
    "duration": 531,
    "start_time": "2021-12-23T15:55:27.161Z"
   },
   {
    "duration": 11,
    "start_time": "2021-12-23T15:55:31.976Z"
   },
   {
    "duration": 10,
    "start_time": "2021-12-23T15:55:32.345Z"
   },
   {
    "duration": 7,
    "start_time": "2021-12-23T15:55:33.327Z"
   },
   {
    "duration": 331,
    "start_time": "2021-12-23T15:55:39.800Z"
   },
   {
    "duration": 8,
    "start_time": "2021-12-23T15:55:42.168Z"
   },
   {
    "duration": 10,
    "start_time": "2021-12-23T15:55:42.360Z"
   },
   {
    "duration": 9,
    "start_time": "2021-12-23T15:55:42.679Z"
   },
   {
    "duration": 5,
    "start_time": "2021-12-23T15:56:02.344Z"
   },
   {
    "duration": 6,
    "start_time": "2021-12-23T15:56:02.856Z"
   },
   {
    "duration": 5,
    "start_time": "2021-12-23T15:56:03.369Z"
   },
   {
    "duration": 4,
    "start_time": "2021-12-23T15:56:04.216Z"
   },
   {
    "duration": 1795,
    "start_time": "2021-12-23T16:16:44.436Z"
   },
   {
    "duration": 227,
    "start_time": "2021-12-23T16:16:46.234Z"
   },
   {
    "duration": 28,
    "start_time": "2021-12-23T16:16:46.468Z"
   },
   {
    "duration": 189,
    "start_time": "2021-12-23T16:16:46.499Z"
   },
   {
    "duration": 23,
    "start_time": "2021-12-23T16:16:46.691Z"
   },
   {
    "duration": 172,
    "start_time": "2021-12-23T16:16:46.717Z"
   },
   {
    "duration": 28,
    "start_time": "2021-12-23T16:16:46.892Z"
   },
   {
    "duration": 28,
    "start_time": "2021-12-23T16:16:46.924Z"
   },
   {
    "duration": 9,
    "start_time": "2021-12-23T16:16:46.968Z"
   },
   {
    "duration": 42,
    "start_time": "2021-12-23T16:16:46.979Z"
   },
   {
    "duration": 9,
    "start_time": "2021-12-23T16:16:47.023Z"
   },
   {
    "duration": 7,
    "start_time": "2021-12-23T16:16:47.034Z"
   },
   {
    "duration": 178,
    "start_time": "2021-12-23T16:16:47.068Z"
   },
   {
    "duration": 5,
    "start_time": "2021-12-23T16:16:47.249Z"
   },
   {
    "duration": 1625,
    "start_time": "2021-12-23T16:16:47.268Z"
   },
   {
    "duration": 7,
    "start_time": "2021-12-23T16:16:48.896Z"
   },
   {
    "duration": 12,
    "start_time": "2021-12-23T16:16:48.906Z"
   },
   {
    "duration": 5,
    "start_time": "2021-12-23T16:16:48.920Z"
   },
   {
    "duration": 10,
    "start_time": "2021-12-23T16:16:48.927Z"
   },
   {
    "duration": 155,
    "start_time": "2021-12-23T16:16:48.968Z"
   },
   {
    "duration": 7,
    "start_time": "2021-12-23T16:16:49.126Z"
   },
   {
    "duration": 33,
    "start_time": "2021-12-23T16:16:49.135Z"
   },
   {
    "duration": 17,
    "start_time": "2021-12-23T16:16:49.174Z"
   },
   {
    "duration": 17,
    "start_time": "2021-12-23T16:16:49.195Z"
   },
   {
    "duration": 16,
    "start_time": "2021-12-23T16:16:49.215Z"
   },
   {
    "duration": 18,
    "start_time": "2021-12-23T16:16:49.267Z"
   },
   {
    "duration": 50,
    "start_time": "2021-12-23T16:16:49.288Z"
   },
   {
    "duration": 61,
    "start_time": "2021-12-23T16:16:49.342Z"
   },
   {
    "duration": 32,
    "start_time": "2021-12-23T16:16:49.407Z"
   },
   {
    "duration": 54,
    "start_time": "2021-12-23T16:16:49.443Z"
   },
   {
    "duration": 8,
    "start_time": "2021-12-23T16:16:49.500Z"
   },
   {
    "duration": 18,
    "start_time": "2021-12-23T16:16:49.511Z"
   },
   {
    "duration": 42,
    "start_time": "2021-12-23T16:16:49.533Z"
   },
   {
    "duration": 16,
    "start_time": "2021-12-23T16:16:49.577Z"
   },
   {
    "duration": 18,
    "start_time": "2021-12-23T16:16:49.596Z"
   },
   {
    "duration": 57,
    "start_time": "2021-12-23T16:16:49.617Z"
   },
   {
    "duration": 7,
    "start_time": "2021-12-23T16:16:49.677Z"
   },
   {
    "duration": 207,
    "start_time": "2021-12-23T16:16:49.686Z"
   },
   {
    "duration": 6,
    "start_time": "2021-12-23T16:16:49.895Z"
   },
   {
    "duration": 220,
    "start_time": "2021-12-23T16:16:49.903Z"
   },
   {
    "duration": 6,
    "start_time": "2021-12-23T16:16:50.125Z"
   },
   {
    "duration": 195,
    "start_time": "2021-12-23T16:16:50.134Z"
   },
   {
    "duration": 5,
    "start_time": "2021-12-23T16:16:50.332Z"
   },
   {
    "duration": 281,
    "start_time": "2021-12-23T16:16:50.339Z"
   },
   {
    "duration": 23,
    "start_time": "2021-12-23T16:16:50.622Z"
   },
   {
    "duration": 28,
    "start_time": "2021-12-23T16:16:50.648Z"
   },
   {
    "duration": 25,
    "start_time": "2021-12-23T16:16:50.678Z"
   },
   {
    "duration": 10,
    "start_time": "2021-12-23T16:16:50.705Z"
   },
   {
    "duration": 478,
    "start_time": "2021-12-23T16:16:50.718Z"
   },
   {
    "duration": 9,
    "start_time": "2021-12-23T16:16:51.199Z"
   },
   {
    "duration": 19,
    "start_time": "2021-12-23T16:16:51.211Z"
   },
   {
    "duration": 12,
    "start_time": "2021-12-23T16:16:51.232Z"
   },
   {
    "duration": 277,
    "start_time": "2021-12-23T16:16:51.268Z"
   },
   {
    "duration": 36,
    "start_time": "2021-12-23T16:16:51.548Z"
   },
   {
    "duration": 10,
    "start_time": "2021-12-23T16:16:51.587Z"
   },
   {
    "duration": 485,
    "start_time": "2021-12-23T16:16:51.600Z"
   },
   {
    "duration": 7,
    "start_time": "2021-12-23T16:16:52.088Z"
   },
   {
    "duration": 9,
    "start_time": "2021-12-23T16:16:52.098Z"
   },
   {
    "duration": 13,
    "start_time": "2021-12-23T16:16:52.111Z"
   },
   {
    "duration": 292,
    "start_time": "2021-12-23T16:16:52.127Z"
   },
   {
    "duration": 23,
    "start_time": "2021-12-23T16:16:52.421Z"
   },
   {
    "duration": 24,
    "start_time": "2021-12-23T16:16:52.446Z"
   },
   {
    "duration": 443,
    "start_time": "2021-12-23T16:16:52.473Z"
   },
   {
    "duration": 7,
    "start_time": "2021-12-23T16:16:52.919Z"
   },
   {
    "duration": 11,
    "start_time": "2021-12-23T16:16:52.928Z"
   },
   {
    "duration": 30,
    "start_time": "2021-12-23T16:16:52.942Z"
   },
   {
    "duration": 343,
    "start_time": "2021-12-23T16:16:52.975Z"
   },
   {
    "duration": 45,
    "start_time": "2021-12-23T16:16:53.327Z"
   },
   {
    "duration": 10,
    "start_time": "2021-12-23T16:16:53.376Z"
   },
   {
    "duration": 581,
    "start_time": "2021-12-23T16:16:53.389Z"
   },
   {
    "duration": 8,
    "start_time": "2021-12-23T16:16:53.973Z"
   },
   {
    "duration": 11,
    "start_time": "2021-12-23T16:16:53.983Z"
   },
   {
    "duration": 9,
    "start_time": "2021-12-23T16:16:53.997Z"
   },
   {
    "duration": 6,
    "start_time": "2021-12-23T16:16:54.009Z"
   },
   {
    "duration": 51,
    "start_time": "2021-12-23T16:16:54.018Z"
   },
   {
    "duration": 5,
    "start_time": "2021-12-23T16:16:54.072Z"
   },
   {
    "duration": 9,
    "start_time": "2021-12-23T16:16:54.081Z"
   },
   {
    "duration": 10,
    "start_time": "2021-12-23T16:16:54.093Z"
   },
   {
    "duration": 10,
    "start_time": "2021-12-23T16:16:54.106Z"
   },
   {
    "duration": 56,
    "start_time": "2021-12-23T16:16:54.119Z"
   },
   {
    "duration": 9,
    "start_time": "2021-12-23T16:16:54.178Z"
   },
   {
    "duration": 8,
    "start_time": "2021-12-23T16:16:54.190Z"
   },
   {
    "duration": 6,
    "start_time": "2021-12-23T16:16:54.201Z"
   },
   {
    "duration": 7,
    "start_time": "2021-12-23T16:16:54.210Z"
   },
   {
    "duration": 1487,
    "start_time": "2021-12-24T10:27:55.865Z"
   },
   {
    "duration": 235,
    "start_time": "2021-12-24T10:27:59.033Z"
   },
   {
    "duration": 29,
    "start_time": "2021-12-24T10:28:02.158Z"
   },
   {
    "duration": 183,
    "start_time": "2021-12-24T10:28:03.283Z"
   },
   {
    "duration": 26,
    "start_time": "2021-12-24T10:28:04.929Z"
   },
   {
    "duration": 131,
    "start_time": "2021-12-24T10:28:05.419Z"
   },
   {
    "duration": 21,
    "start_time": "2021-12-24T10:28:05.824Z"
   },
   {
    "duration": 27,
    "start_time": "2021-12-24T10:28:06.003Z"
   },
   {
    "duration": 11,
    "start_time": "2021-12-24T10:28:06.350Z"
   },
   {
    "duration": 43,
    "start_time": "2021-12-24T10:28:07.398Z"
   },
   {
    "duration": 10,
    "start_time": "2021-12-24T10:28:07.524Z"
   },
   {
    "duration": 4,
    "start_time": "2021-12-24T10:28:08.976Z"
   },
   {
    "duration": 175,
    "start_time": "2021-12-24T10:28:08.983Z"
   },
   {
    "duration": 4,
    "start_time": "2021-12-24T10:28:09.495Z"
   },
   {
    "duration": 1605,
    "start_time": "2021-12-24T10:28:09.609Z"
   },
   {
    "duration": 6,
    "start_time": "2021-12-24T10:28:11.216Z"
   },
   {
    "duration": 12,
    "start_time": "2021-12-24T10:28:11.225Z"
   },
   {
    "duration": 4,
    "start_time": "2021-12-24T10:28:11.607Z"
   },
   {
    "duration": 8,
    "start_time": "2021-12-24T10:28:11.808Z"
   },
   {
    "duration": 141,
    "start_time": "2021-12-24T10:28:12.640Z"
   },
   {
    "duration": 9,
    "start_time": "2021-12-24T10:28:13.165Z"
   },
   {
    "duration": 14,
    "start_time": "2021-12-24T10:28:13.306Z"
   },
   {
    "duration": 17,
    "start_time": "2021-12-24T10:28:13.689Z"
   },
   {
    "duration": 16,
    "start_time": "2021-12-24T10:28:13.740Z"
   },
   {
    "duration": 13,
    "start_time": "2021-12-24T10:28:14.246Z"
   },
   {
    "duration": 33,
    "start_time": "2021-12-24T10:28:14.262Z"
   },
   {
    "duration": 39,
    "start_time": "2021-12-24T10:28:15.413Z"
   },
   {
    "duration": 29,
    "start_time": "2021-12-24T10:28:15.800Z"
   },
   {
    "duration": 25,
    "start_time": "2021-12-24T10:28:16.354Z"
   },
   {
    "duration": 29,
    "start_time": "2021-12-24T10:28:16.836Z"
   },
   {
    "duration": 6,
    "start_time": "2021-12-24T10:28:16.872Z"
   },
   {
    "duration": 10,
    "start_time": "2021-12-24T10:28:17.884Z"
   },
   {
    "duration": 10,
    "start_time": "2021-12-24T10:28:17.897Z"
   },
   {
    "duration": 12,
    "start_time": "2021-12-24T10:28:18.411Z"
   },
   {
    "duration": 14,
    "start_time": "2021-12-24T10:28:18.935Z"
   },
   {
    "duration": 17,
    "start_time": "2021-12-24T10:28:19.103Z"
   },
   {
    "duration": 6,
    "start_time": "2021-12-24T10:28:19.482Z"
   },
   {
    "duration": 168,
    "start_time": "2021-12-24T10:28:20.084Z"
   },
   {
    "duration": 5,
    "start_time": "2021-12-24T10:28:20.508Z"
   },
   {
    "duration": 197,
    "start_time": "2021-12-24T10:28:20.515Z"
   },
   {
    "duration": 5,
    "start_time": "2021-12-24T10:28:20.714Z"
   },
   {
    "duration": 175,
    "start_time": "2021-12-24T10:28:21.029Z"
   },
   {
    "duration": 5,
    "start_time": "2021-12-24T10:28:21.222Z"
   },
   {
    "duration": 270,
    "start_time": "2021-12-24T10:28:21.557Z"
   },
   {
    "duration": 34,
    "start_time": "2021-12-24T10:28:21.830Z"
   },
   {
    "duration": 11,
    "start_time": "2021-12-24T10:28:21.867Z"
   },
   {
    "duration": 25,
    "start_time": "2021-12-24T10:28:23.688Z"
   },
   {
    "duration": 11,
    "start_time": "2021-12-24T10:28:24.174Z"
   },
   {
    "duration": 445,
    "start_time": "2021-12-24T10:28:27.411Z"
   },
   {
    "duration": 9,
    "start_time": "2021-12-24T10:28:29.560Z"
   },
   {
    "duration": 1130,
    "start_time": "2021-12-24T12:01:48.598Z"
   },
   {
    "duration": 168,
    "start_time": "2021-12-24T12:01:49.730Z"
   },
   {
    "duration": 31,
    "start_time": "2021-12-24T12:01:49.900Z"
   },
   {
    "duration": 172,
    "start_time": "2021-12-24T12:01:49.934Z"
   },
   {
    "duration": 16,
    "start_time": "2021-12-24T12:01:50.107Z"
   },
   {
    "duration": 97,
    "start_time": "2021-12-24T12:01:50.125Z"
   },
   {
    "duration": 16,
    "start_time": "2021-12-24T12:01:50.224Z"
   },
   {
    "duration": 27,
    "start_time": "2021-12-24T12:01:50.243Z"
   },
   {
    "duration": 9,
    "start_time": "2021-12-24T12:01:50.273Z"
   },
   {
    "duration": 35,
    "start_time": "2021-12-24T12:01:50.284Z"
   },
   {
    "duration": 7,
    "start_time": "2021-12-24T12:01:50.320Z"
   },
   {
    "duration": 7,
    "start_time": "2021-12-24T12:01:50.328Z"
   },
   {
    "duration": 125,
    "start_time": "2021-12-24T12:01:50.337Z"
   },
   {
    "duration": 3,
    "start_time": "2021-12-24T12:01:50.464Z"
   },
   {
    "duration": 1138,
    "start_time": "2021-12-24T12:01:50.469Z"
   },
   {
    "duration": 5,
    "start_time": "2021-12-24T12:01:51.609Z"
   },
   {
    "duration": 10,
    "start_time": "2021-12-24T12:01:51.616Z"
   },
   {
    "duration": 6,
    "start_time": "2021-12-24T12:01:51.627Z"
   },
   {
    "duration": 11,
    "start_time": "2021-12-24T12:01:51.634Z"
   },
   {
    "duration": 100,
    "start_time": "2021-12-24T12:01:51.647Z"
   },
   {
    "duration": 12,
    "start_time": "2021-12-24T12:01:51.749Z"
   },
   {
    "duration": 11,
    "start_time": "2021-12-24T12:01:51.763Z"
   },
   {
    "duration": 13,
    "start_time": "2021-12-24T12:01:51.778Z"
   },
   {
    "duration": 11,
    "start_time": "2021-12-24T12:01:51.793Z"
   },
   {
    "duration": 14,
    "start_time": "2021-12-24T12:01:51.806Z"
   },
   {
    "duration": 46,
    "start_time": "2021-12-24T12:01:51.822Z"
   },
   {
    "duration": 36,
    "start_time": "2021-12-24T12:01:51.870Z"
   },
   {
    "duration": 25,
    "start_time": "2021-12-24T12:01:51.908Z"
   },
   {
    "duration": 15,
    "start_time": "2021-12-24T12:01:51.934Z"
   },
   {
    "duration": 24,
    "start_time": "2021-12-24T12:01:51.951Z"
   },
   {
    "duration": 4,
    "start_time": "2021-12-24T12:01:51.977Z"
   },
   {
    "duration": 13,
    "start_time": "2021-12-24T12:01:51.982Z"
   },
   {
    "duration": 11,
    "start_time": "2021-12-24T12:01:51.997Z"
   },
   {
    "duration": 7,
    "start_time": "2021-12-24T12:02:34.371Z"
   },
   {
    "duration": 9,
    "start_time": "2021-12-24T12:02:41.139Z"
   },
   {
    "duration": 11,
    "start_time": "2021-12-24T12:02:50.882Z"
   },
   {
    "duration": 12,
    "start_time": "2021-12-24T12:03:00.658Z"
   },
   {
    "duration": 14,
    "start_time": "2021-12-24T12:03:02.130Z"
   },
   {
    "duration": 8,
    "start_time": "2021-12-24T12:03:15.171Z"
   },
   {
    "duration": 1936,
    "start_time": "2021-12-24T12:03:48.402Z"
   },
   {
    "duration": 6,
    "start_time": "2021-12-24T12:03:59.458Z"
   },
   {
    "duration": 5,
    "start_time": "2021-12-24T12:04:11.682Z"
   },
   {
    "duration": 7,
    "start_time": "2021-12-24T12:04:53.714Z"
   },
   {
    "duration": 9,
    "start_time": "2021-12-24T12:04:54.097Z"
   },
   {
    "duration": 9,
    "start_time": "2021-12-24T12:04:54.449Z"
   },
   {
    "duration": 9,
    "start_time": "2021-12-24T12:05:00.417Z"
   },
   {
    "duration": 17,
    "start_time": "2021-12-24T12:05:01.265Z"
   },
   {
    "duration": 8,
    "start_time": "2021-12-24T12:05:01.985Z"
   },
   {
    "duration": 89,
    "start_time": "2021-12-24T12:05:03.617Z"
   },
   {
    "duration": 5,
    "start_time": "2021-12-24T12:05:09.137Z"
   },
   {
    "duration": 8,
    "start_time": "2021-12-24T12:07:38.819Z"
   },
   {
    "duration": 9,
    "start_time": "2021-12-24T12:07:39.136Z"
   },
   {
    "duration": 9,
    "start_time": "2021-12-24T12:07:39.408Z"
   },
   {
    "duration": 12,
    "start_time": "2021-12-24T12:07:48.497Z"
   },
   {
    "duration": 14,
    "start_time": "2021-12-24T12:07:49.824Z"
   },
   {
    "duration": 4,
    "start_time": "2021-12-24T12:13:30.382Z"
   },
   {
    "duration": 108,
    "start_time": "2021-12-24T12:13:30.782Z"
   },
   {
    "duration": 4,
    "start_time": "2021-12-24T12:13:31.181Z"
   },
   {
    "duration": 105,
    "start_time": "2021-12-24T12:13:31.613Z"
   },
   {
    "duration": 4,
    "start_time": "2021-12-24T12:13:31.950Z"
   },
   {
    "duration": 108,
    "start_time": "2021-12-24T12:13:32.270Z"
   },
   {
    "duration": 3,
    "start_time": "2021-12-24T12:13:33.677Z"
   },
   {
    "duration": 137,
    "start_time": "2021-12-24T12:13:33.918Z"
   },
   {
    "duration": 15,
    "start_time": "2021-12-24T12:13:34.111Z"
   },
   {
    "duration": 8,
    "start_time": "2021-12-24T12:13:35.854Z"
   },
   {
    "duration": 17,
    "start_time": "2021-12-24T12:13:48.525Z"
   },
   {
    "duration": 7,
    "start_time": "2021-12-24T12:13:49.442Z"
   },
   {
    "duration": 261,
    "start_time": "2021-12-24T12:13:51.950Z"
   },
   {
    "duration": 5265,
    "start_time": "2021-12-24T12:16:01.999Z"
   },
   {
    "duration": 4,
    "start_time": "2021-12-24T12:17:04.319Z"
   },
   {
    "duration": 5,
    "start_time": "2021-12-24T12:17:14.220Z"
   },
   {
    "duration": 216,
    "start_time": "2021-12-24T12:17:32.876Z"
   },
   {
    "duration": 3,
    "start_time": "2021-12-24T12:17:41.212Z"
   },
   {
    "duration": 234,
    "start_time": "2021-12-24T12:17:42.444Z"
   },
   {
    "duration": 8,
    "start_time": "2021-12-24T12:18:06.380Z"
   },
   {
    "duration": 15,
    "start_time": "2021-12-24T12:18:06.924Z"
   },
   {
    "duration": 8,
    "start_time": "2021-12-24T12:18:14.844Z"
   },
   {
    "duration": 5,
    "start_time": "2021-12-24T12:18:37.468Z"
   },
   {
    "duration": 6,
    "start_time": "2021-12-24T12:18:45.260Z"
   },
   {
    "duration": 6,
    "start_time": "2021-12-24T12:18:50.860Z"
   },
   {
    "duration": 6,
    "start_time": "2021-12-24T12:18:53.468Z"
   },
   {
    "duration": 6,
    "start_time": "2021-12-24T12:18:54.348Z"
   },
   {
    "duration": 1180,
    "start_time": "2021-12-24T12:19:21.521Z"
   },
   {
    "duration": 166,
    "start_time": "2021-12-24T12:19:22.704Z"
   },
   {
    "duration": 20,
    "start_time": "2021-12-24T12:19:22.871Z"
   },
   {
    "duration": 145,
    "start_time": "2021-12-24T12:19:22.893Z"
   },
   {
    "duration": 27,
    "start_time": "2021-12-24T12:19:23.039Z"
   },
   {
    "duration": 93,
    "start_time": "2021-12-24T12:19:23.067Z"
   },
   {
    "duration": 14,
    "start_time": "2021-12-24T12:19:23.162Z"
   },
   {
    "duration": 27,
    "start_time": "2021-12-24T12:19:23.178Z"
   },
   {
    "duration": 9,
    "start_time": "2021-12-24T12:19:23.207Z"
   },
   {
    "duration": 39,
    "start_time": "2021-12-24T12:19:23.217Z"
   },
   {
    "duration": 6,
    "start_time": "2021-12-24T12:19:23.258Z"
   },
   {
    "duration": 5,
    "start_time": "2021-12-24T12:19:23.266Z"
   },
   {
    "duration": 124,
    "start_time": "2021-12-24T12:19:23.273Z"
   },
   {
    "duration": 3,
    "start_time": "2021-12-24T12:19:23.399Z"
   },
   {
    "duration": 1168,
    "start_time": "2021-12-24T12:19:23.404Z"
   },
   {
    "duration": 5,
    "start_time": "2021-12-24T12:19:24.574Z"
   },
   {
    "duration": 11,
    "start_time": "2021-12-24T12:19:24.581Z"
   },
   {
    "duration": 5,
    "start_time": "2021-12-24T12:19:24.594Z"
   },
   {
    "duration": 9,
    "start_time": "2021-12-24T12:19:24.600Z"
   },
   {
    "duration": 107,
    "start_time": "2021-12-24T12:19:24.611Z"
   },
   {
    "duration": 6,
    "start_time": "2021-12-24T12:19:24.719Z"
   },
   {
    "duration": 10,
    "start_time": "2021-12-24T12:19:24.727Z"
   },
   {
    "duration": 25,
    "start_time": "2021-12-24T12:19:24.741Z"
   },
   {
    "duration": 12,
    "start_time": "2021-12-24T12:19:24.769Z"
   },
   {
    "duration": 9,
    "start_time": "2021-12-24T12:19:24.782Z"
   },
   {
    "duration": 12,
    "start_time": "2021-12-24T12:19:24.793Z"
   },
   {
    "duration": 27,
    "start_time": "2021-12-24T12:19:24.807Z"
   },
   {
    "duration": 44,
    "start_time": "2021-12-24T12:19:24.836Z"
   },
   {
    "duration": 15,
    "start_time": "2021-12-24T12:19:24.882Z"
   },
   {
    "duration": 20,
    "start_time": "2021-12-24T12:19:24.899Z"
   },
   {
    "duration": 4,
    "start_time": "2021-12-24T12:19:24.921Z"
   },
   {
    "duration": 36,
    "start_time": "2021-12-24T12:19:24.927Z"
   },
   {
    "duration": 15,
    "start_time": "2021-12-24T12:19:24.964Z"
   },
   {
    "duration": 9,
    "start_time": "2021-12-24T12:19:24.980Z"
   },
   {
    "duration": 13,
    "start_time": "2021-12-24T12:19:24.991Z"
   },
   {
    "duration": 11,
    "start_time": "2021-12-24T12:19:25.006Z"
   },
   {
    "duration": 6,
    "start_time": "2021-12-24T12:19:25.019Z"
   },
   {
    "duration": 128,
    "start_time": "2021-12-24T12:19:25.026Z"
   },
   {
    "duration": 3,
    "start_time": "2021-12-24T12:19:25.160Z"
   },
   {
    "duration": 107,
    "start_time": "2021-12-24T12:19:25.165Z"
   },
   {
    "duration": 4,
    "start_time": "2021-12-24T12:19:25.273Z"
   },
   {
    "duration": 114,
    "start_time": "2021-12-24T12:19:25.279Z"
   },
   {
    "duration": 4,
    "start_time": "2021-12-24T12:19:25.395Z"
   },
   {
    "duration": 145,
    "start_time": "2021-12-24T12:19:25.400Z"
   },
   {
    "duration": 18,
    "start_time": "2021-12-24T12:19:25.547Z"
   },
   {
    "duration": 17,
    "start_time": "2021-12-24T12:19:25.567Z"
   },
   {
    "duration": 15,
    "start_time": "2021-12-24T12:19:25.585Z"
   },
   {
    "duration": 6,
    "start_time": "2021-12-24T12:19:25.602Z"
   },
   {
    "duration": 265,
    "start_time": "2021-12-24T12:19:25.609Z"
   },
   {
    "duration": 6,
    "start_time": "2021-12-24T12:19:25.875Z"
   },
   {
    "duration": 10,
    "start_time": "2021-12-24T12:19:25.883Z"
   },
   {
    "duration": 5,
    "start_time": "2021-12-24T12:19:27.667Z"
   },
   {
    "duration": 9,
    "start_time": "2021-12-24T12:19:28.147Z"
   },
   {
    "duration": 7,
    "start_time": "2021-12-24T12:20:24.057Z"
   },
   {
    "duration": 7,
    "start_time": "2021-12-24T12:20:32.179Z"
   },
   {
    "duration": 10,
    "start_time": "2021-12-24T12:23:05.171Z"
   },
   {
    "duration": 12,
    "start_time": "2021-12-24T12:24:11.362Z"
   },
   {
    "duration": 12,
    "start_time": "2021-12-24T12:24:11.937Z"
   },
   {
    "duration": 11,
    "start_time": "2021-12-24T12:24:13.169Z"
   },
   {
    "duration": 235,
    "start_time": "2021-12-24T12:24:20.368Z"
   },
   {
    "duration": 12,
    "start_time": "2021-12-24T12:26:36.946Z"
   },
   {
    "duration": 13,
    "start_time": "2021-12-24T12:26:37.697Z"
   },
   {
    "duration": 13,
    "start_time": "2021-12-24T12:26:38.241Z"
   },
   {
    "duration": 220,
    "start_time": "2021-12-24T12:26:42.656Z"
   },
   {
    "duration": 5,
    "start_time": "2021-12-24T12:28:02.289Z"
   },
   {
    "duration": 4,
    "start_time": "2021-12-24T12:28:19.745Z"
   },
   {
    "duration": 11,
    "start_time": "2021-12-24T12:29:53.041Z"
   },
   {
    "duration": 574,
    "start_time": "2021-12-24T12:29:54.128Z"
   },
   {
    "duration": -1742,
    "start_time": "2021-12-24T12:29:56.446Z"
   },
   {
    "duration": 16,
    "start_time": "2021-12-24T12:30:01.207Z"
   },
   {
    "duration": 8,
    "start_time": "2021-12-24T12:30:01.455Z"
   },
   {
    "duration": 260,
    "start_time": "2021-12-24T12:30:01.703Z"
   },
   {
    "duration": 11,
    "start_time": "2021-12-24T12:30:03.439Z"
   },
   {
    "duration": 5,
    "start_time": "2021-12-24T12:30:04.400Z"
   },
   {
    "duration": 5,
    "start_time": "2021-12-24T12:30:04.607Z"
   },
   {
    "duration": 10,
    "start_time": "2021-12-24T12:30:19.264Z"
   },
   {
    "duration": 11,
    "start_time": "2021-12-24T12:30:33.952Z"
   },
   {
    "duration": 10,
    "start_time": "2021-12-24T13:34:32.231Z"
   },
   {
    "duration": 10,
    "start_time": "2021-12-24T13:34:32.482Z"
   },
   {
    "duration": 142,
    "start_time": "2021-12-24T13:34:36.881Z"
   },
   {
    "duration": 16,
    "start_time": "2021-12-24T13:34:40.402Z"
   },
   {
    "duration": 259,
    "start_time": "2021-12-24T13:35:44.242Z"
   },
   {
    "duration": 197,
    "start_time": "2021-12-24T13:35:52.050Z"
   },
   {
    "duration": 272,
    "start_time": "2021-12-24T13:36:03.890Z"
   },
   {
    "duration": 258,
    "start_time": "2021-12-24T13:36:08.146Z"
   },
   {
    "duration": 248,
    "start_time": "2021-12-24T13:39:05.857Z"
   },
   {
    "duration": 244,
    "start_time": "2021-12-24T13:54:23.098Z"
   },
   {
    "duration": 241,
    "start_time": "2021-12-24T13:54:28.537Z"
   },
   {
    "duration": 237,
    "start_time": "2021-12-24T13:54:39.226Z"
   },
   {
    "duration": 242,
    "start_time": "2021-12-24T13:57:30.617Z"
   },
   {
    "duration": 54,
    "start_time": "2021-12-24T13:58:15.289Z"
   },
   {
    "duration": 14,
    "start_time": "2021-12-24T13:58:25.416Z"
   },
   {
    "duration": 14,
    "start_time": "2021-12-24T13:58:54.265Z"
   },
   {
    "duration": 11,
    "start_time": "2021-12-24T14:02:07.547Z"
   },
   {
    "duration": 10,
    "start_time": "2021-12-24T14:02:15.991Z"
   },
   {
    "duration": 13,
    "start_time": "2021-12-24T14:02:25.958Z"
   },
   {
    "duration": 9,
    "start_time": "2021-12-24T14:02:29.448Z"
   },
   {
    "duration": 246,
    "start_time": "2021-12-24T14:03:02.102Z"
   },
   {
    "duration": 13,
    "start_time": "2021-12-24T14:05:55.096Z"
   },
   {
    "duration": 10,
    "start_time": "2021-12-24T14:06:04.629Z"
   },
   {
    "duration": 11,
    "start_time": "2021-12-24T14:06:07.710Z"
   },
   {
    "duration": 4,
    "start_time": "2021-12-24T14:07:28.805Z"
   },
   {
    "duration": 9,
    "start_time": "2021-12-24T14:07:40.693Z"
   },
   {
    "duration": 1189,
    "start_time": "2021-12-24T14:08:08.642Z"
   },
   {
    "duration": 166,
    "start_time": "2021-12-24T14:08:09.833Z"
   },
   {
    "duration": 23,
    "start_time": "2021-12-24T14:08:10.001Z"
   },
   {
    "duration": 147,
    "start_time": "2021-12-24T14:08:10.026Z"
   },
   {
    "duration": 16,
    "start_time": "2021-12-24T14:08:10.175Z"
   },
   {
    "duration": 118,
    "start_time": "2021-12-24T14:08:10.193Z"
   },
   {
    "duration": 16,
    "start_time": "2021-12-24T14:08:10.312Z"
   },
   {
    "duration": 31,
    "start_time": "2021-12-24T14:08:10.331Z"
   },
   {
    "duration": 47,
    "start_time": "2021-12-24T14:08:10.365Z"
   },
   {
    "duration": 35,
    "start_time": "2021-12-24T14:08:10.415Z"
   },
   {
    "duration": 22,
    "start_time": "2021-12-24T14:08:10.452Z"
   },
   {
    "duration": 14,
    "start_time": "2021-12-24T14:08:10.476Z"
   },
   {
    "duration": 133,
    "start_time": "2021-12-24T14:08:10.492Z"
   },
   {
    "duration": 3,
    "start_time": "2021-12-24T14:08:10.627Z"
   },
   {
    "duration": 1219,
    "start_time": "2021-12-24T14:08:10.632Z"
   },
   {
    "duration": 10,
    "start_time": "2021-12-24T14:08:11.853Z"
   },
   {
    "duration": 9,
    "start_time": "2021-12-24T14:08:11.864Z"
   },
   {
    "duration": 4,
    "start_time": "2021-12-24T14:08:11.874Z"
   },
   {
    "duration": 7,
    "start_time": "2021-12-24T14:08:11.880Z"
   },
   {
    "duration": 109,
    "start_time": "2021-12-24T14:08:11.889Z"
   },
   {
    "duration": 5,
    "start_time": "2021-12-24T14:08:12.000Z"
   },
   {
    "duration": 12,
    "start_time": "2021-12-24T14:08:12.007Z"
   },
   {
    "duration": 15,
    "start_time": "2021-12-24T14:08:12.021Z"
   },
   {
    "duration": 293,
    "start_time": "2021-12-24T14:08:12.038Z"
   },
   {
    "duration": 17,
    "start_time": "2021-12-24T14:08:12.333Z"
   },
   {
    "duration": 11,
    "start_time": "2021-12-24T14:08:13.831Z"
   },
   {
    "duration": 5,
    "start_time": "2021-12-24T14:08:14.311Z"
   },
   {
    "duration": 563,
    "start_time": "2021-12-24T14:08:24.680Z"
   },
   {
    "duration": 868,
    "start_time": "2021-12-24T14:08:56.231Z"
   },
   {
    "duration": 395,
    "start_time": "2021-12-24T14:08:57.101Z"
   },
   {
    "duration": 1208,
    "start_time": "2021-12-24T14:09:36.570Z"
   },
   {
    "duration": 172,
    "start_time": "2021-12-24T14:09:37.781Z"
   },
   {
    "duration": 25,
    "start_time": "2021-12-24T14:09:37.955Z"
   },
   {
    "duration": 206,
    "start_time": "2021-12-24T14:09:37.982Z"
   },
   {
    "duration": 28,
    "start_time": "2021-12-24T14:09:38.190Z"
   },
   {
    "duration": 140,
    "start_time": "2021-12-24T14:09:38.220Z"
   },
   {
    "duration": 24,
    "start_time": "2021-12-24T14:09:38.362Z"
   },
   {
    "duration": 27,
    "start_time": "2021-12-24T14:09:38.389Z"
   },
   {
    "duration": 8,
    "start_time": "2021-12-24T14:09:38.418Z"
   },
   {
    "duration": 41,
    "start_time": "2021-12-24T14:09:38.428Z"
   },
   {
    "duration": 8,
    "start_time": "2021-12-24T14:09:38.471Z"
   },
   {
    "duration": 5,
    "start_time": "2021-12-24T14:09:38.481Z"
   },
   {
    "duration": 157,
    "start_time": "2021-12-24T14:09:38.488Z"
   },
   {
    "duration": 3,
    "start_time": "2021-12-24T14:09:38.647Z"
   },
   {
    "duration": 1333,
    "start_time": "2021-12-24T14:09:38.651Z"
   },
   {
    "duration": 7,
    "start_time": "2021-12-24T14:09:39.986Z"
   },
   {
    "duration": 10,
    "start_time": "2021-12-24T14:09:39.995Z"
   },
   {
    "duration": 4,
    "start_time": "2021-12-24T14:09:40.008Z"
   },
   {
    "duration": 9,
    "start_time": "2021-12-24T14:09:40.014Z"
   },
   {
    "duration": 119,
    "start_time": "2021-12-24T14:09:40.025Z"
   },
   {
    "duration": 6,
    "start_time": "2021-12-24T14:09:40.146Z"
   },
   {
    "duration": 9,
    "start_time": "2021-12-24T14:09:40.161Z"
   },
   {
    "duration": 23,
    "start_time": "2021-12-24T14:09:40.172Z"
   },
   {
    "duration": 271,
    "start_time": "2021-12-24T14:09:40.197Z"
   },
   {
    "duration": 17,
    "start_time": "2021-12-24T14:09:40.469Z"
   },
   {
    "duration": 11,
    "start_time": "2021-12-24T14:09:42.185Z"
   },
   {
    "duration": 300,
    "start_time": "2021-12-24T14:09:42.922Z"
   },
   {
    "duration": 12,
    "start_time": "2021-12-24T14:10:13.737Z"
   },
   {
    "duration": 265,
    "start_time": "2021-12-24T14:10:23.161Z"
   },
   {
    "duration": 13,
    "start_time": "2021-12-24T14:10:38.041Z"
   },
   {
    "duration": 13,
    "start_time": "2021-12-24T14:11:51.944Z"
   },
   {
    "duration": 17,
    "start_time": "2021-12-24T14:11:53.528Z"
   },
   {
    "duration": 249,
    "start_time": "2021-12-24T14:11:54.904Z"
   },
   {
    "duration": 11,
    "start_time": "2021-12-24T14:12:33.384Z"
   },
   {
    "duration": 252,
    "start_time": "2021-12-24T14:12:48.697Z"
   },
   {
    "duration": 15,
    "start_time": "2021-12-24T14:13:04.024Z"
   },
   {
    "duration": 295,
    "start_time": "2021-12-24T14:14:36.810Z"
   },
   {
    "duration": 228,
    "start_time": "2021-12-24T14:14:40.487Z"
   },
   {
    "duration": 398,
    "start_time": "2021-12-24T14:14:45.944Z"
   },
   {
    "duration": 260,
    "start_time": "2021-12-24T14:14:55.767Z"
   },
   {
    "duration": 213,
    "start_time": "2021-12-24T14:14:58.855Z"
   },
   {
    "duration": 334,
    "start_time": "2021-12-24T14:15:02.999Z"
   },
   {
    "duration": 231,
    "start_time": "2021-12-24T14:15:06.232Z"
   },
   {
    "duration": 207,
    "start_time": "2021-12-24T14:15:16.072Z"
   },
   {
    "duration": 245,
    "start_time": "2021-12-24T14:15:30.839Z"
   },
   {
    "duration": 191,
    "start_time": "2021-12-24T14:15:36.423Z"
   },
   {
    "duration": 348,
    "start_time": "2021-12-24T14:15:43.751Z"
   },
   {
    "duration": 206,
    "start_time": "2021-12-24T14:15:46.934Z"
   },
   {
    "duration": 219,
    "start_time": "2021-12-24T14:15:57.063Z"
   },
   {
    "duration": 349,
    "start_time": "2021-12-24T14:16:01.607Z"
   },
   {
    "duration": 239,
    "start_time": "2021-12-24T14:16:04.983Z"
   },
   {
    "duration": 232,
    "start_time": "2021-12-24T14:16:08.822Z"
   },
   {
    "duration": 5,
    "start_time": "2021-12-24T14:16:51.238Z"
   },
   {
    "duration": 242,
    "start_time": "2021-12-24T14:16:57.414Z"
   },
   {
    "duration": 5,
    "start_time": "2021-12-24T14:16:58.214Z"
   },
   {
    "duration": 563,
    "start_time": "2021-12-24T14:17:01.158Z"
   },
   {
    "duration": 233,
    "start_time": "2021-12-24T14:17:15.526Z"
   },
   {
    "duration": 5,
    "start_time": "2021-12-24T14:17:23.238Z"
   },
   {
    "duration": 5,
    "start_time": "2021-12-24T14:17:29.893Z"
   },
   {
    "duration": 7,
    "start_time": "2021-12-24T14:17:57.814Z"
   },
   {
    "duration": 7,
    "start_time": "2021-12-24T14:18:05.766Z"
   },
   {
    "duration": 6,
    "start_time": "2021-12-24T14:18:09.879Z"
   },
   {
    "duration": 1257,
    "start_time": "2021-12-24T14:18:20.191Z"
   },
   {
    "duration": 235,
    "start_time": "2021-12-24T14:18:21.451Z"
   },
   {
    "duration": 36,
    "start_time": "2021-12-24T14:18:21.689Z"
   },
   {
    "duration": 192,
    "start_time": "2021-12-24T14:18:21.728Z"
   },
   {
    "duration": 17,
    "start_time": "2021-12-24T14:18:21.922Z"
   },
   {
    "duration": 112,
    "start_time": "2021-12-24T14:18:21.941Z"
   },
   {
    "duration": 15,
    "start_time": "2021-12-24T14:18:22.055Z"
   },
   {
    "duration": 24,
    "start_time": "2021-12-24T14:18:22.073Z"
   },
   {
    "duration": 20,
    "start_time": "2021-12-24T14:18:22.099Z"
   },
   {
    "duration": 41,
    "start_time": "2021-12-24T14:18:22.121Z"
   },
   {
    "duration": 6,
    "start_time": "2021-12-24T14:18:22.164Z"
   },
   {
    "duration": 22,
    "start_time": "2021-12-24T14:18:22.171Z"
   },
   {
    "duration": 130,
    "start_time": "2021-12-24T14:18:22.195Z"
   },
   {
    "duration": 4,
    "start_time": "2021-12-24T14:18:22.327Z"
   },
   {
    "duration": 1228,
    "start_time": "2021-12-24T14:18:22.332Z"
   },
   {
    "duration": 6,
    "start_time": "2021-12-24T14:18:23.562Z"
   },
   {
    "duration": 12,
    "start_time": "2021-12-24T14:18:23.569Z"
   },
   {
    "duration": 3,
    "start_time": "2021-12-24T14:18:23.583Z"
   },
   {
    "duration": 10,
    "start_time": "2021-12-24T14:18:23.588Z"
   },
   {
    "duration": 101,
    "start_time": "2021-12-24T14:18:23.600Z"
   },
   {
    "duration": 6,
    "start_time": "2021-12-24T14:18:23.703Z"
   },
   {
    "duration": 14,
    "start_time": "2021-12-24T14:18:23.710Z"
   },
   {
    "duration": 14,
    "start_time": "2021-12-24T14:18:23.727Z"
   },
   {
    "duration": 289,
    "start_time": "2021-12-24T14:18:23.743Z"
   },
   {
    "duration": 7,
    "start_time": "2021-12-24T14:18:26.882Z"
   },
   {
    "duration": 286,
    "start_time": "2021-12-24T14:18:40.431Z"
   },
   {
    "duration": 308,
    "start_time": "2021-12-24T14:19:06.736Z"
   },
   {
    "duration": 303,
    "start_time": "2021-12-24T14:19:09.904Z"
   },
   {
    "duration": 17,
    "start_time": "2021-12-24T14:19:19.295Z"
   },
   {
    "duration": 11,
    "start_time": "2021-12-24T14:19:20.383Z"
   },
   {
    "duration": 224,
    "start_time": "2021-12-24T14:19:25.166Z"
   },
   {
    "duration": 13,
    "start_time": "2021-12-24T14:19:31.470Z"
   },
   {
    "duration": 7,
    "start_time": "2021-12-24T14:21:10.351Z"
   },
   {
    "duration": 4,
    "start_time": "2021-12-24T14:21:17.502Z"
   },
   {
    "duration": 519,
    "start_time": "2021-12-24T14:21:50.542Z"
   },
   {
    "duration": 68,
    "start_time": "2021-12-24T14:21:55.087Z"
   },
   {
    "duration": 62,
    "start_time": "2021-12-24T14:23:55.134Z"
   },
   {
    "duration": 63,
    "start_time": "2021-12-24T14:24:08.765Z"
   },
   {
    "duration": 66,
    "start_time": "2021-12-24T14:25:26.430Z"
   },
   {
    "duration": 67,
    "start_time": "2021-12-24T14:25:44.397Z"
   },
   {
    "duration": 75,
    "start_time": "2021-12-24T14:26:01.005Z"
   },
   {
    "duration": 3,
    "start_time": "2021-12-24T14:26:08.957Z"
   },
   {
    "duration": 4,
    "start_time": "2021-12-24T14:26:18.860Z"
   },
   {
    "duration": 3,
    "start_time": "2021-12-24T14:26:23.644Z"
   },
   {
    "duration": 3,
    "start_time": "2021-12-24T14:26:43.996Z"
   },
   {
    "duration": 3,
    "start_time": "2021-12-24T14:26:45.133Z"
   },
   {
    "duration": 84,
    "start_time": "2021-12-24T14:26:58.700Z"
   },
   {
    "duration": 3,
    "start_time": "2021-12-24T14:27:09.885Z"
   },
   {
    "duration": 1246,
    "start_time": "2021-12-24T14:35:53.834Z"
   },
   {
    "duration": 195,
    "start_time": "2021-12-24T14:35:55.082Z"
   },
   {
    "duration": 25,
    "start_time": "2021-12-24T14:35:55.285Z"
   },
   {
    "duration": 165,
    "start_time": "2021-12-24T14:35:55.312Z"
   },
   {
    "duration": 26,
    "start_time": "2021-12-24T14:35:55.479Z"
   },
   {
    "duration": 108,
    "start_time": "2021-12-24T14:35:55.507Z"
   },
   {
    "duration": 14,
    "start_time": "2021-12-24T14:35:55.618Z"
   },
   {
    "duration": 28,
    "start_time": "2021-12-24T14:35:55.635Z"
   },
   {
    "duration": 9,
    "start_time": "2021-12-24T14:35:55.666Z"
   },
   {
    "duration": 43,
    "start_time": "2021-12-24T14:35:55.677Z"
   },
   {
    "duration": 8,
    "start_time": "2021-12-24T14:35:55.722Z"
   },
   {
    "duration": 12,
    "start_time": "2021-12-24T14:35:55.732Z"
   },
   {
    "duration": 146,
    "start_time": "2021-12-24T14:35:55.746Z"
   },
   {
    "duration": 3,
    "start_time": "2021-12-24T14:35:55.895Z"
   },
   {
    "duration": 1230,
    "start_time": "2021-12-24T14:35:55.900Z"
   },
   {
    "duration": 5,
    "start_time": "2021-12-24T14:35:57.132Z"
   },
   {
    "duration": 14,
    "start_time": "2021-12-24T14:35:57.138Z"
   },
   {
    "duration": 7,
    "start_time": "2021-12-24T14:35:57.154Z"
   },
   {
    "duration": 5,
    "start_time": "2021-12-24T14:35:57.162Z"
   },
   {
    "duration": 109,
    "start_time": "2021-12-24T14:35:57.168Z"
   },
   {
    "duration": 6,
    "start_time": "2021-12-24T14:35:57.279Z"
   },
   {
    "duration": 10,
    "start_time": "2021-12-24T14:35:57.289Z"
   },
   {
    "duration": 16,
    "start_time": "2021-12-24T14:35:57.302Z"
   },
   {
    "duration": 270,
    "start_time": "2021-12-24T14:35:57.320Z"
   },
   {
    "duration": 17,
    "start_time": "2021-12-24T14:35:57.592Z"
   },
   {
    "duration": 10,
    "start_time": "2021-12-24T14:35:57.611Z"
   },
   {
    "duration": 257,
    "start_time": "2021-12-24T14:35:57.623Z"
   },
   {
    "duration": 12,
    "start_time": "2021-12-24T14:35:57.881Z"
   },
   {
    "duration": 10,
    "start_time": "2021-12-24T14:35:57.895Z"
   },
   {
    "duration": 17,
    "start_time": "2021-12-24T14:35:57.907Z"
   },
   {
    "duration": 269,
    "start_time": "2021-12-24T14:35:57.926Z"
   },
   {
    "duration": 10,
    "start_time": "2021-12-24T14:35:58.196Z"
   },
   {
    "duration": 264,
    "start_time": "2021-12-24T14:35:58.208Z"
   },
   {
    "duration": 12,
    "start_time": "2021-12-24T14:35:58.474Z"
   },
   {
    "duration": 10,
    "start_time": "2021-12-24T14:35:58.488Z"
   },
   {
    "duration": 8,
    "start_time": "2021-12-24T14:35:58.500Z"
   },
   {
    "duration": 14,
    "start_time": "2021-12-24T14:35:58.510Z"
   },
   {
    "duration": 35,
    "start_time": "2021-12-24T14:35:58.526Z"
   },
   {
    "duration": 6,
    "start_time": "2021-12-24T14:35:58.563Z"
   },
   {
    "duration": 108,
    "start_time": "2021-12-24T14:35:58.570Z"
   },
   {
    "duration": 31,
    "start_time": "2021-12-24T14:35:58.679Z"
   },
   {
    "duration": 21,
    "start_time": "2021-12-24T14:35:58.712Z"
   },
   {
    "duration": 45,
    "start_time": "2021-12-24T14:35:58.735Z"
   },
   {
    "duration": 4,
    "start_time": "2021-12-24T14:35:58.782Z"
   },
   {
    "duration": 12,
    "start_time": "2021-12-24T14:35:58.787Z"
   },
   {
    "duration": 11,
    "start_time": "2021-12-24T14:35:58.800Z"
   },
   {
    "duration": 9,
    "start_time": "2021-12-24T14:35:58.812Z"
   },
   {
    "duration": 8,
    "start_time": "2021-12-24T14:35:58.823Z"
   },
   {
    "duration": 35,
    "start_time": "2021-12-24T14:35:58.833Z"
   },
   {
    "duration": 4,
    "start_time": "2021-12-24T14:35:58.870Z"
   },
   {
    "duration": 120,
    "start_time": "2021-12-24T14:35:58.876Z"
   },
   {
    "duration": 4,
    "start_time": "2021-12-24T14:35:58.998Z"
   },
   {
    "duration": 118,
    "start_time": "2021-12-24T14:35:59.004Z"
   },
   {
    "duration": 3,
    "start_time": "2021-12-24T14:35:59.124Z"
   },
   {
    "duration": 107,
    "start_time": "2021-12-24T14:35:59.129Z"
   },
   {
    "duration": 3,
    "start_time": "2021-12-24T14:35:59.238Z"
   },
   {
    "duration": 145,
    "start_time": "2021-12-24T14:35:59.243Z"
   },
   {
    "duration": 16,
    "start_time": "2021-12-24T14:35:59.390Z"
   },
   {
    "duration": 12,
    "start_time": "2021-12-24T14:35:59.407Z"
   },
   {
    "duration": 14,
    "start_time": "2021-12-24T14:35:59.421Z"
   },
   {
    "duration": 27,
    "start_time": "2021-12-24T14:35:59.437Z"
   },
   {
    "duration": 268,
    "start_time": "2021-12-24T14:35:59.465Z"
   },
   {
    "duration": 10,
    "start_time": "2021-12-24T14:35:59.735Z"
   },
   {
    "duration": 24,
    "start_time": "2021-12-24T14:35:59.747Z"
   },
   {
    "duration": 21,
    "start_time": "2021-12-24T14:35:59.773Z"
   },
   {
    "duration": 184,
    "start_time": "2021-12-24T14:35:59.796Z"
   },
   {
    "duration": 16,
    "start_time": "2021-12-24T14:35:59.985Z"
   },
   {
    "duration": 9,
    "start_time": "2021-12-24T14:36:00.003Z"
   },
   {
    "duration": 292,
    "start_time": "2021-12-24T14:36:00.013Z"
   },
   {
    "duration": 10,
    "start_time": "2021-12-24T14:36:00.308Z"
   },
   {
    "duration": 11,
    "start_time": "2021-12-24T14:36:00.320Z"
   },
   {
    "duration": 29,
    "start_time": "2021-12-24T14:36:00.332Z"
   },
   {
    "duration": 151,
    "start_time": "2021-12-24T14:36:00.363Z"
   },
   {
    "duration": 17,
    "start_time": "2021-12-24T14:36:00.516Z"
   },
   {
    "duration": 7,
    "start_time": "2021-12-24T14:36:00.534Z"
   },
   {
    "duration": 276,
    "start_time": "2021-12-24T14:36:00.543Z"
   },
   {
    "duration": 10,
    "start_time": "2021-12-24T14:36:00.822Z"
   },
   {
    "duration": 28,
    "start_time": "2021-12-24T14:36:00.834Z"
   },
   {
    "duration": 10,
    "start_time": "2021-12-24T14:36:00.864Z"
   },
   {
    "duration": 176,
    "start_time": "2021-12-24T14:36:00.876Z"
   },
   {
    "duration": 21,
    "start_time": "2021-12-24T14:36:01.054Z"
   },
   {
    "duration": 7,
    "start_time": "2021-12-24T14:36:01.077Z"
   },
   {
    "duration": 306,
    "start_time": "2021-12-24T14:36:01.086Z"
   },
   {
    "duration": 8,
    "start_time": "2021-12-24T14:36:01.394Z"
   },
   {
    "duration": 13,
    "start_time": "2021-12-24T14:36:01.404Z"
   },
   {
    "duration": 17,
    "start_time": "2021-12-24T14:36:01.419Z"
   },
   {
    "duration": 21,
    "start_time": "2021-12-24T14:36:01.439Z"
   },
   {
    "duration": 17,
    "start_time": "2021-12-24T14:36:01.462Z"
   },
   {
    "duration": 10,
    "start_time": "2021-12-24T14:36:01.481Z"
   },
   {
    "duration": 18,
    "start_time": "2021-12-24T14:36:01.492Z"
   },
   {
    "duration": 18,
    "start_time": "2021-12-24T14:36:01.513Z"
   },
   {
    "duration": 15,
    "start_time": "2021-12-24T14:36:01.533Z"
   },
   {
    "duration": 24,
    "start_time": "2021-12-24T14:36:01.552Z"
   },
   {
    "duration": 9,
    "start_time": "2021-12-24T14:36:01.578Z"
   },
   {
    "duration": 17,
    "start_time": "2021-12-24T14:36:01.590Z"
   },
   {
    "duration": 16,
    "start_time": "2021-12-24T14:36:01.610Z"
   },
   {
    "duration": 31,
    "start_time": "2021-12-24T14:36:01.629Z"
   },
   {
    "duration": 16,
    "start_time": "2021-12-24T14:38:40.760Z"
   },
   {
    "duration": 271,
    "start_time": "2021-12-24T14:39:00.520Z"
   },
   {
    "duration": 252,
    "start_time": "2021-12-24T14:39:40.841Z"
   },
   {
    "duration": 243,
    "start_time": "2021-12-24T14:39:48.936Z"
   },
   {
    "duration": 10,
    "start_time": "2021-12-24T14:40:30.795Z"
   },
   {
    "duration": 14,
    "start_time": "2021-12-24T14:42:58.727Z"
   },
   {
    "duration": 342,
    "start_time": "2021-12-24T14:42:59.559Z"
   },
   {
    "duration": 249,
    "start_time": "2021-12-24T14:43:09.431Z"
   },
   {
    "duration": 16,
    "start_time": "2021-12-24T14:43:10.791Z"
   },
   {
    "duration": 17,
    "start_time": "2021-12-24T14:43:12.263Z"
   },
   {
    "duration": 13,
    "start_time": "2021-12-24T14:43:22.631Z"
   },
   {
    "duration": 15,
    "start_time": "2021-12-24T14:43:23.064Z"
   },
   {
    "duration": 297,
    "start_time": "2021-12-24T14:44:12.951Z"
   },
   {
    "duration": 11,
    "start_time": "2021-12-24T14:44:18.983Z"
   },
   {
    "duration": 8,
    "start_time": "2021-12-24T14:44:40.903Z"
   },
   {
    "duration": 11,
    "start_time": "2021-12-24T14:48:40.757Z"
   },
   {
    "duration": 261,
    "start_time": "2021-12-24T14:48:41.189Z"
   },
   {
    "duration": 253,
    "start_time": "2021-12-24T14:49:00.198Z"
   },
   {
    "duration": 967,
    "start_time": "2021-12-24T14:49:14.790Z"
   },
   {
    "duration": 577,
    "start_time": "2021-12-24T14:49:23.845Z"
   },
   {
    "duration": 9,
    "start_time": "2021-12-24T14:49:35.252Z"
   },
   {
    "duration": 12,
    "start_time": "2021-12-24T14:49:36.500Z"
   },
   {
    "duration": 330,
    "start_time": "2021-12-24T14:49:36.869Z"
   },
   {
    "duration": 13,
    "start_time": "2021-12-24T14:49:41.397Z"
   },
   {
    "duration": 11,
    "start_time": "2021-12-24T14:49:43.508Z"
   },
   {
    "duration": 9,
    "start_time": "2021-12-24T14:49:43.844Z"
   },
   {
    "duration": 12,
    "start_time": "2021-12-24T14:49:44.693Z"
   },
   {
    "duration": 6,
    "start_time": "2021-12-24T14:50:15.556Z"
   },
   {
    "duration": 6,
    "start_time": "2021-12-24T14:50:16.075Z"
   },
   {
    "duration": 25,
    "start_time": "2021-12-24T14:51:05.221Z"
   },
   {
    "duration": 20,
    "start_time": "2021-12-24T14:51:11.060Z"
   },
   {
    "duration": 17,
    "start_time": "2021-12-24T14:51:15.828Z"
   },
   {
    "duration": 19,
    "start_time": "2021-12-24T14:51:24.820Z"
   },
   {
    "duration": 5,
    "start_time": "2021-12-24T14:51:29.092Z"
   },
   {
    "duration": 7,
    "start_time": "2021-12-24T14:51:37.379Z"
   },
   {
    "duration": 10,
    "start_time": "2021-12-24T14:51:37.827Z"
   },
   {
    "duration": 12,
    "start_time": "2021-12-24T14:51:38.243Z"
   },
   {
    "duration": 10,
    "start_time": "2021-12-24T14:51:41.270Z"
   },
   {
    "duration": 30,
    "start_time": "2021-12-24T14:52:00.916Z"
   },
   {
    "duration": 5,
    "start_time": "2021-12-24T14:53:42.052Z"
   },
   {
    "duration": 107,
    "start_time": "2021-12-24T14:53:42.243Z"
   },
   {
    "duration": 4,
    "start_time": "2021-12-24T14:53:42.387Z"
   },
   {
    "duration": 109,
    "start_time": "2021-12-24T14:53:43.587Z"
   },
   {
    "duration": 4,
    "start_time": "2021-12-24T14:53:43.763Z"
   },
   {
    "duration": 107,
    "start_time": "2021-12-24T14:53:45.203Z"
   },
   {
    "duration": 4,
    "start_time": "2021-12-24T14:53:45.970Z"
   },
   {
    "duration": 141,
    "start_time": "2021-12-24T14:53:46.371Z"
   },
   {
    "duration": 16,
    "start_time": "2021-12-24T14:53:47.730Z"
   },
   {
    "duration": 16,
    "start_time": "2021-12-24T14:54:10.211Z"
   },
   {
    "duration": 11,
    "start_time": "2021-12-24T14:54:19.683Z"
   },
   {
    "duration": 16,
    "start_time": "2021-12-24T14:54:44.037Z"
   },
   {
    "duration": 7,
    "start_time": "2021-12-24T14:54:44.514Z"
   },
   {
    "duration": 250,
    "start_time": "2021-12-24T14:54:47.473Z"
   },
   {
    "duration": 10,
    "start_time": "2021-12-24T14:54:49.233Z"
   },
   {
    "duration": 10,
    "start_time": "2021-12-24T14:54:50.530Z"
   },
   {
    "duration": 10,
    "start_time": "2021-12-24T14:54:52.802Z"
   },
   {
    "duration": 150,
    "start_time": "2021-12-24T14:54:54.449Z"
   },
   {
    "duration": 15,
    "start_time": "2021-12-24T14:55:00.482Z"
   },
   {
    "duration": 8,
    "start_time": "2021-12-24T14:55:00.611Z"
   },
   {
    "duration": 263,
    "start_time": "2021-12-24T14:55:00.738Z"
   },
   {
    "duration": 11,
    "start_time": "2021-12-24T14:55:01.906Z"
   },
   {
    "duration": 12,
    "start_time": "2021-12-24T14:55:02.050Z"
   },
   {
    "duration": 11,
    "start_time": "2021-12-24T14:55:02.162Z"
   },
   {
    "duration": 147,
    "start_time": "2021-12-24T14:55:04.322Z"
   },
   {
    "duration": 16,
    "start_time": "2021-12-24T14:55:05.905Z"
   },
   {
    "duration": 7,
    "start_time": "2021-12-24T14:55:06.034Z"
   },
   {
    "duration": 242,
    "start_time": "2021-12-24T14:55:06.162Z"
   },
   {
    "duration": 10,
    "start_time": "2021-12-24T14:55:06.754Z"
   },
   {
    "duration": 11,
    "start_time": "2021-12-24T14:55:06.898Z"
   },
   {
    "duration": 12,
    "start_time": "2021-12-24T14:55:07.794Z"
   },
   {
    "duration": 139,
    "start_time": "2021-12-24T14:55:08.209Z"
   },
   {
    "duration": 14,
    "start_time": "2021-12-24T14:58:41.137Z"
   },
   {
    "duration": 6,
    "start_time": "2021-12-24T14:58:41.713Z"
   },
   {
    "duration": 254,
    "start_time": "2021-12-24T14:58:44.018Z"
   },
   {
    "duration": 1230,
    "start_time": "2021-12-24T15:00:04.911Z"
   },
   {
    "duration": 182,
    "start_time": "2021-12-24T15:00:06.144Z"
   },
   {
    "duration": 22,
    "start_time": "2021-12-24T15:00:06.328Z"
   },
   {
    "duration": 154,
    "start_time": "2021-12-24T15:00:06.360Z"
   },
   {
    "duration": 18,
    "start_time": "2021-12-24T15:00:06.516Z"
   },
   {
    "duration": 125,
    "start_time": "2021-12-24T15:00:06.535Z"
   },
   {
    "duration": 16,
    "start_time": "2021-12-24T15:00:06.661Z"
   },
   {
    "duration": 41,
    "start_time": "2021-12-24T15:00:06.680Z"
   },
   {
    "duration": 31,
    "start_time": "2021-12-24T15:00:06.723Z"
   },
   {
    "duration": 60,
    "start_time": "2021-12-24T15:00:06.756Z"
   },
   {
    "duration": 6,
    "start_time": "2021-12-24T15:00:06.818Z"
   },
   {
    "duration": 38,
    "start_time": "2021-12-24T15:00:06.825Z"
   },
   {
    "duration": 167,
    "start_time": "2021-12-24T15:00:06.865Z"
   },
   {
    "duration": 5,
    "start_time": "2021-12-24T15:00:07.034Z"
   },
   {
    "duration": 1280,
    "start_time": "2021-12-24T15:00:07.041Z"
   },
   {
    "duration": 6,
    "start_time": "2021-12-24T15:00:08.323Z"
   },
   {
    "duration": 24,
    "start_time": "2021-12-24T15:00:08.331Z"
   },
   {
    "duration": 25,
    "start_time": "2021-12-24T15:00:08.357Z"
   },
   {
    "duration": 24,
    "start_time": "2021-12-24T15:00:08.383Z"
   },
   {
    "duration": 121,
    "start_time": "2021-12-24T15:00:08.409Z"
   },
   {
    "duration": 6,
    "start_time": "2021-12-24T15:00:08.531Z"
   },
   {
    "duration": 31,
    "start_time": "2021-12-24T15:00:08.539Z"
   },
   {
    "duration": 24,
    "start_time": "2021-12-24T15:00:08.574Z"
   },
   {
    "duration": 268,
    "start_time": "2021-12-24T15:00:08.601Z"
   },
   {
    "duration": 17,
    "start_time": "2021-12-24T15:00:08.871Z"
   },
   {
    "duration": 17,
    "start_time": "2021-12-24T15:00:08.890Z"
   },
   {
    "duration": 266,
    "start_time": "2021-12-24T15:00:08.909Z"
   },
   {
    "duration": 12,
    "start_time": "2021-12-24T15:00:09.177Z"
   },
   {
    "duration": 41,
    "start_time": "2021-12-24T15:00:09.191Z"
   },
   {
    "duration": 37,
    "start_time": "2021-12-24T15:00:09.235Z"
   },
   {
    "duration": 348,
    "start_time": "2021-12-24T15:00:09.275Z"
   },
   {
    "duration": 10,
    "start_time": "2021-12-24T15:00:09.626Z"
   },
   {
    "duration": 31,
    "start_time": "2021-12-24T15:00:09.638Z"
   },
   {
    "duration": 431,
    "start_time": "2021-12-24T15:00:09.671Z"
   },
   {
    "duration": 15,
    "start_time": "2021-12-24T15:00:10.105Z"
   },
   {
    "duration": 24,
    "start_time": "2021-12-24T15:00:10.121Z"
   },
   {
    "duration": 40,
    "start_time": "2021-12-24T15:00:10.147Z"
   },
   {
    "duration": 13,
    "start_time": "2021-12-24T15:00:10.189Z"
   },
   {
    "duration": 10,
    "start_time": "2021-12-24T15:00:10.204Z"
   },
   {
    "duration": 8,
    "start_time": "2021-12-24T15:00:10.215Z"
   },
   {
    "duration": 31,
    "start_time": "2021-12-24T15:00:10.224Z"
   },
   {
    "duration": 29,
    "start_time": "2021-12-24T15:00:10.257Z"
   },
   {
    "duration": 22,
    "start_time": "2021-12-24T15:00:10.288Z"
   },
   {
    "duration": 19,
    "start_time": "2021-12-24T15:00:10.312Z"
   },
   {
    "duration": 4,
    "start_time": "2021-12-24T15:00:10.332Z"
   },
   {
    "duration": 8,
    "start_time": "2021-12-24T15:00:10.360Z"
   },
   {
    "duration": 20,
    "start_time": "2021-12-24T15:00:10.370Z"
   },
   {
    "duration": 14,
    "start_time": "2021-12-24T15:00:10.391Z"
   },
   {
    "duration": 13,
    "start_time": "2021-12-24T15:00:10.407Z"
   },
   {
    "duration": 14,
    "start_time": "2021-12-24T15:00:10.422Z"
   },
   {
    "duration": 36,
    "start_time": "2021-12-24T15:00:10.438Z"
   },
   {
    "duration": 3,
    "start_time": "2021-12-24T15:00:10.476Z"
   },
   {
    "duration": 127,
    "start_time": "2021-12-24T15:00:10.481Z"
   },
   {
    "duration": 4,
    "start_time": "2021-12-24T15:00:10.609Z"
   },
   {
    "duration": 115,
    "start_time": "2021-12-24T15:00:10.615Z"
   },
   {
    "duration": 4,
    "start_time": "2021-12-24T15:00:10.731Z"
   },
   {
    "duration": 114,
    "start_time": "2021-12-24T15:00:10.737Z"
   },
   {
    "duration": 8,
    "start_time": "2021-12-24T15:00:10.853Z"
   },
   {
    "duration": 148,
    "start_time": "2021-12-24T15:00:10.862Z"
   },
   {
    "duration": 17,
    "start_time": "2021-12-24T15:00:11.012Z"
   },
   {
    "duration": 11,
    "start_time": "2021-12-24T15:00:11.030Z"
   },
   {
    "duration": 28,
    "start_time": "2021-12-24T15:00:11.043Z"
   },
   {
    "duration": 7,
    "start_time": "2021-12-24T15:00:11.073Z"
   },
   {
    "duration": 281,
    "start_time": "2021-12-24T15:00:11.082Z"
   },
   {
    "duration": 11,
    "start_time": "2021-12-24T15:00:11.365Z"
   },
   {
    "duration": 10,
    "start_time": "2021-12-24T15:00:11.378Z"
   },
   {
    "duration": 13,
    "start_time": "2021-12-24T15:00:11.390Z"
   },
   {
    "duration": 202,
    "start_time": "2021-12-24T15:00:11.409Z"
   },
   {
    "duration": 16,
    "start_time": "2021-12-24T15:00:11.614Z"
   },
   {
    "duration": 7,
    "start_time": "2021-12-24T15:00:11.632Z"
   },
   {
    "duration": 283,
    "start_time": "2021-12-24T15:00:11.641Z"
   },
   {
    "duration": 10,
    "start_time": "2021-12-24T15:00:11.925Z"
   },
   {
    "duration": 25,
    "start_time": "2021-12-24T15:00:11.937Z"
   },
   {
    "duration": 10,
    "start_time": "2021-12-24T15:00:11.964Z"
   },
   {
    "duration": 175,
    "start_time": "2021-12-24T15:00:11.975Z"
   },
   {
    "duration": 21,
    "start_time": "2021-12-24T15:00:12.152Z"
   },
   {
    "duration": 23,
    "start_time": "2021-12-24T15:00:12.175Z"
   },
   {
    "duration": 259,
    "start_time": "2021-12-24T15:00:12.200Z"
   },
   {
    "duration": 10,
    "start_time": "2021-12-24T15:00:12.461Z"
   },
   {
    "duration": 23,
    "start_time": "2021-12-24T15:00:12.472Z"
   },
   {
    "duration": 22,
    "start_time": "2021-12-24T15:00:12.497Z"
   },
   {
    "duration": 158,
    "start_time": "2021-12-24T15:00:12.521Z"
   },
   {
    "duration": 16,
    "start_time": "2021-12-24T15:00:12.681Z"
   },
   {
    "duration": 7,
    "start_time": "2021-12-24T15:00:12.699Z"
   },
   {
    "duration": 287,
    "start_time": "2021-12-24T15:00:12.707Z"
   },
   {
    "duration": 6,
    "start_time": "2021-12-24T15:00:12.996Z"
   },
   {
    "duration": 14,
    "start_time": "2021-12-24T15:00:13.004Z"
   },
   {
    "duration": 8,
    "start_time": "2021-12-24T15:00:13.019Z"
   },
   {
    "duration": 8,
    "start_time": "2021-12-24T15:00:13.028Z"
   },
   {
    "duration": 9,
    "start_time": "2021-12-24T15:00:13.038Z"
   },
   {
    "duration": 11,
    "start_time": "2021-12-24T15:00:13.049Z"
   },
   {
    "duration": 11,
    "start_time": "2021-12-24T15:00:13.062Z"
   },
   {
    "duration": 11,
    "start_time": "2021-12-24T15:00:13.075Z"
   },
   {
    "duration": 14,
    "start_time": "2021-12-24T15:00:13.088Z"
   },
   {
    "duration": 9,
    "start_time": "2021-12-24T15:00:13.104Z"
   },
   {
    "duration": 4,
    "start_time": "2021-12-24T15:00:13.115Z"
   },
   {
    "duration": 6,
    "start_time": "2021-12-24T15:00:13.121Z"
   },
   {
    "duration": 7,
    "start_time": "2021-12-24T15:00:13.128Z"
   },
   {
    "duration": 6,
    "start_time": "2021-12-24T15:00:13.137Z"
   }
  ],
  "kernelspec": {
   "display_name": "Python 3",
   "language": "python",
   "name": "python3"
  },
  "language_info": {
   "codemirror_mode": {
    "name": "ipython",
    "version": 3
   },
   "file_extension": ".py",
   "mimetype": "text/x-python",
   "name": "python",
   "nbconvert_exporter": "python",
   "pygments_lexer": "ipython3",
   "version": "3.8.3"
  },
  "latex_envs": {
   "LaTeX_envs_menu_present": true,
   "autoclose": false,
   "autocomplete": true,
   "bibliofile": "biblio.bib",
   "cite_by": "apalike",
   "current_citInitial": 1,
   "eqLabelWithNumbers": true,
   "eqNumInitial": 1,
   "hotkeys": {
    "equation": "Ctrl-E",
    "itemize": "Ctrl-I"
   },
   "labels_anchors": false,
   "latex_user_defs": false,
   "report_style_numbering": false,
   "user_envs_cfg": false
  },
  "toc": {
   "base_numbering": 1,
   "nav_menu": {},
   "number_sections": true,
   "sideBar": true,
   "skip_h1_title": true,
   "title_cell": "Table of Contents",
   "title_sidebar": "Contents",
   "toc_cell": false,
   "toc_position": {
    "height": "calc(100% - 180px)",
    "left": "10px",
    "top": "150px",
    "width": "293.438px"
   },
   "toc_section_display": true,
   "toc_window_display": true
  }
 },
 "nbformat": 4,
 "nbformat_minor": 2
}
