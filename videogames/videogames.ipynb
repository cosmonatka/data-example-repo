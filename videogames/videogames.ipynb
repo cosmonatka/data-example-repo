{
 "cells": [
  {
   "cell_type": "markdown",
   "metadata": {},
   "source": [
    "# Исследование успешности видеоигр"
   ]
  },
  {
   "cell_type": "markdown",
   "metadata": {},
   "source": [
    "**Описание проекта**\n",
    "\n",
    "Для исследования предоставлены данные интернет-магазина, который продает компьютерные игры по всему миру. Из открытых источников собраны исторические данные о продажах игр, оценки пользователей и экспертов, жанры и платформы."
   ]
  },
  {
   "cell_type": "markdown",
   "metadata": {},
   "source": [
    "**Цель проекта** - необходимо выявить определяющие успешность игры закономерности. Это позволит сделать ставку на потенциально популярный продукт и спланировать рекламные кампании."
   ]
  },
  {
   "cell_type": "markdown",
   "metadata": {},
   "source": [
    "**Исходные данные** - датасет `/datasets/games.csv`.\n",
    "\n",
    "Описание данных:\n",
    "* `Name` — название игры;\n",
    "* `Platform` — платформа;\n",
    "* `Year_of_Release` — год выпуска;\n",
    "* `Genre` — жанр игры;\n",
    "* `NA_sales` — продажи в Северной Америке (миллионы проданных копий);\n",
    "* `EU_sales` — продажи в Европе (миллионы проданных копий);\n",
    "* `JP_sales` — продажи в Японии (миллионы проданных копий);\n",
    "* `Other_sales` — продажи в других странах (миллионы проданных копий);\n",
    "* `Critic_Score` — оценка критиков (максимум 100);\n",
    "* `User_Score` — оценка пользователей (максимум 10);\n",
    "* `Rating` — рейтинг от организации *ESRB*.\n",
    "\n",
    "Данные за 2016 год могут быть неполными."
   ]
  },
  {
   "cell_type": "markdown",
   "metadata": {},
   "source": [
    "**Краткий план проекта**:\n",
    "1. Изучить общую информацию о файле; извлечь полезную информацию из датасета; выявить проблемы, требущие обработки данных.\n",
    "2. Провести предобработку данных, выявленных на предыдущем шаге; добавить необходимую расчетную информацию.\n",
    "3. Изучить распределение релизов игр по годам и объем продаж в зависимости от платформы; определить актуальный период платформы и выявитиь актуальный период для исследования; отфильтровать исходные данные на основе полученных результатов.\n",
    "4. Выявить наличие зависимостей между оценками критиков и пользователей и продажами игр.\n",
    "5. Определить наиболее продаваемые, а значит, популярные жанры игр.\n",
    "6. Составить портреты пользователей регионов Северная Америка, Европа и Японий. Определить для каждого региона топ-5 платформ, топ-5 жанров и оценить влияние рейтинга *ESRB* на продажи в каждом регионе.\n",
    "7. Провести статистический анализ и проверить две гипотезы:\n",
    "- о равенстве средних пользовательских рейтингов платформ *Xbox One* и *PC;\n",
    "- о равенстве средних пользовательских рейтингов жанров *Action* и *Sports*.\n",
    "8. Сделать общий вывод по проекту."
   ]
  },
  {
   "cell_type": "markdown",
   "metadata": {},
   "source": [
    "## Общая информация о данных"
   ]
  },
  {
   "cell_type": "markdown",
   "metadata": {},
   "source": [
    "Импортируем библиотеки:"
   ]
  },
  {
   "cell_type": "code",
   "execution_count": 1,
   "metadata": {},
   "outputs": [],
   "source": [
    "import pandas as pd\n",
    "import numpy as np\n",
    "import matplotlib.pyplot as plt\n",
    "import seaborn as sns\n",
    "from scipy import stats as st"
   ]
  },
  {
   "cell_type": "markdown",
   "metadata": {},
   "source": [
    "Считываем данные из файла и изучаем информацию о датафрейме:"
   ]
  },
  {
   "cell_type": "code",
   "execution_count": 2,
   "metadata": {},
   "outputs": [],
   "source": [
    "data = pd.read_csv('/datasets/games.csv')"
   ]
  },
  {
   "cell_type": "code",
   "execution_count": 3,
   "metadata": {
    "scrolled": true
   },
   "outputs": [
    {
     "data": {
      "text/html": [
       "<div>\n",
       "<style scoped>\n",
       "    .dataframe tbody tr th:only-of-type {\n",
       "        vertical-align: middle;\n",
       "    }\n",
       "\n",
       "    .dataframe tbody tr th {\n",
       "        vertical-align: top;\n",
       "    }\n",
       "\n",
       "    .dataframe thead th {\n",
       "        text-align: right;\n",
       "    }\n",
       "</style>\n",
       "<table border=\"1\" class=\"dataframe\">\n",
       "  <thead>\n",
       "    <tr style=\"text-align: right;\">\n",
       "      <th></th>\n",
       "      <th>Name</th>\n",
       "      <th>Platform</th>\n",
       "      <th>Year_of_Release</th>\n",
       "      <th>Genre</th>\n",
       "      <th>NA_sales</th>\n",
       "      <th>EU_sales</th>\n",
       "      <th>JP_sales</th>\n",
       "      <th>Other_sales</th>\n",
       "      <th>Critic_Score</th>\n",
       "      <th>User_Score</th>\n",
       "      <th>Rating</th>\n",
       "    </tr>\n",
       "  </thead>\n",
       "  <tbody>\n",
       "    <tr>\n",
       "      <td>0</td>\n",
       "      <td>Wii Sports</td>\n",
       "      <td>Wii</td>\n",
       "      <td>2006.0</td>\n",
       "      <td>Sports</td>\n",
       "      <td>41.36</td>\n",
       "      <td>28.96</td>\n",
       "      <td>3.77</td>\n",
       "      <td>8.45</td>\n",
       "      <td>76.0</td>\n",
       "      <td>8</td>\n",
       "      <td>E</td>\n",
       "    </tr>\n",
       "    <tr>\n",
       "      <td>1</td>\n",
       "      <td>Super Mario Bros.</td>\n",
       "      <td>NES</td>\n",
       "      <td>1985.0</td>\n",
       "      <td>Platform</td>\n",
       "      <td>29.08</td>\n",
       "      <td>3.58</td>\n",
       "      <td>6.81</td>\n",
       "      <td>0.77</td>\n",
       "      <td>NaN</td>\n",
       "      <td>NaN</td>\n",
       "      <td>NaN</td>\n",
       "    </tr>\n",
       "    <tr>\n",
       "      <td>2</td>\n",
       "      <td>Mario Kart Wii</td>\n",
       "      <td>Wii</td>\n",
       "      <td>2008.0</td>\n",
       "      <td>Racing</td>\n",
       "      <td>15.68</td>\n",
       "      <td>12.76</td>\n",
       "      <td>3.79</td>\n",
       "      <td>3.29</td>\n",
       "      <td>82.0</td>\n",
       "      <td>8.3</td>\n",
       "      <td>E</td>\n",
       "    </tr>\n",
       "    <tr>\n",
       "      <td>3</td>\n",
       "      <td>Wii Sports Resort</td>\n",
       "      <td>Wii</td>\n",
       "      <td>2009.0</td>\n",
       "      <td>Sports</td>\n",
       "      <td>15.61</td>\n",
       "      <td>10.93</td>\n",
       "      <td>3.28</td>\n",
       "      <td>2.95</td>\n",
       "      <td>80.0</td>\n",
       "      <td>8</td>\n",
       "      <td>E</td>\n",
       "    </tr>\n",
       "    <tr>\n",
       "      <td>4</td>\n",
       "      <td>Pokemon Red/Pokemon Blue</td>\n",
       "      <td>GB</td>\n",
       "      <td>1996.0</td>\n",
       "      <td>Role-Playing</td>\n",
       "      <td>11.27</td>\n",
       "      <td>8.89</td>\n",
       "      <td>10.22</td>\n",
       "      <td>1.00</td>\n",
       "      <td>NaN</td>\n",
       "      <td>NaN</td>\n",
       "      <td>NaN</td>\n",
       "    </tr>\n",
       "  </tbody>\n",
       "</table>\n",
       "</div>"
      ],
      "text/plain": [
       "                       Name Platform  Year_of_Release         Genre  NA_sales  \\\n",
       "0                Wii Sports      Wii           2006.0        Sports     41.36   \n",
       "1         Super Mario Bros.      NES           1985.0      Platform     29.08   \n",
       "2            Mario Kart Wii      Wii           2008.0        Racing     15.68   \n",
       "3         Wii Sports Resort      Wii           2009.0        Sports     15.61   \n",
       "4  Pokemon Red/Pokemon Blue       GB           1996.0  Role-Playing     11.27   \n",
       "\n",
       "   EU_sales  JP_sales  Other_sales  Critic_Score User_Score Rating  \n",
       "0     28.96      3.77         8.45          76.0          8      E  \n",
       "1      3.58      6.81         0.77           NaN        NaN    NaN  \n",
       "2     12.76      3.79         3.29          82.0        8.3      E  \n",
       "3     10.93      3.28         2.95          80.0          8      E  \n",
       "4      8.89     10.22         1.00           NaN        NaN    NaN  "
      ]
     },
     "execution_count": 3,
     "metadata": {},
     "output_type": "execute_result"
    }
   ],
   "source": [
    "data.head()"
   ]
  },
  {
   "cell_type": "code",
   "execution_count": 4,
   "metadata": {
    "scrolled": true
   },
   "outputs": [
    {
     "name": "stdout",
     "output_type": "stream",
     "text": [
      "<class 'pandas.core.frame.DataFrame'>\n",
      "RangeIndex: 16715 entries, 0 to 16714\n",
      "Data columns (total 11 columns):\n",
      "Name               16713 non-null object\n",
      "Platform           16715 non-null object\n",
      "Year_of_Release    16446 non-null float64\n",
      "Genre              16713 non-null object\n",
      "NA_sales           16715 non-null float64\n",
      "EU_sales           16715 non-null float64\n",
      "JP_sales           16715 non-null float64\n",
      "Other_sales        16715 non-null float64\n",
      "Critic_Score       8137 non-null float64\n",
      "User_Score         10014 non-null object\n",
      "Rating             9949 non-null object\n",
      "dtypes: float64(6), object(5)\n",
      "memory usage: 1.4+ MB\n"
     ]
    }
   ],
   "source": [
    "data.info()"
   ]
  },
  {
   "cell_type": "code",
   "execution_count": 5,
   "metadata": {},
   "outputs": [
    {
     "data": {
      "text/plain": [
       "Name                  2\n",
       "Platform              0\n",
       "Year_of_Release     269\n",
       "Genre                 2\n",
       "NA_sales              0\n",
       "EU_sales              0\n",
       "JP_sales              0\n",
       "Other_sales           0\n",
       "Critic_Score       8578\n",
       "User_Score         6701\n",
       "Rating             6766\n",
       "dtype: int64"
      ]
     },
     "execution_count": 5,
     "metadata": {},
     "output_type": "execute_result"
    }
   ],
   "source": [
    "data.isna().sum()"
   ]
  },
  {
   "cell_type": "markdown",
   "metadata": {},
   "source": [
    "### Выводы"
   ]
  },
  {
   "cell_type": "markdown",
   "metadata": {},
   "source": [
    "Первичный осмотр исходных данных показал, что:\n",
    "- таблица содержит 16 715 строк и 11 столбцов;\n",
    "- данные в строках частично отсутствуют;\n",
    "- колонки (их название и содержимое, где есть текст) необходимо привести к нижнему регистру;\n",
    "- необходимо преобразовать тип данных: сразу бросается в глаза столбец `year_of_release`, `user_score`;\n",
    "- нужно рассмотреть 2 пропущенных значения в `name` и `genre` и, возможно, удалить две строки;\n",
    "- необходимо разобраться с рейтингом *ESRB*;\n",
    "- следует добавить новый столбец, содержащий данные о глобальных продажах."
   ]
  },
  {
   "cell_type": "markdown",
   "metadata": {},
   "source": [
    "## Подготовка данных"
   ]
  },
  {
   "cell_type": "markdown",
   "metadata": {},
   "source": [
    "### Замена названий столбцов"
   ]
  },
  {
   "cell_type": "markdown",
   "metadata": {},
   "source": [
    "Заменим названия столбцов, приведя их к нижнему регистру:"
   ]
  },
  {
   "cell_type": "code",
   "execution_count": 6,
   "metadata": {},
   "outputs": [],
   "source": [
    "data.columns = data.columns.str.lower()"
   ]
  },
  {
   "cell_type": "markdown",
   "metadata": {},
   "source": [
    "### Изменение регистра данных"
   ]
  },
  {
   "cell_type": "markdown",
   "metadata": {},
   "source": [
    "Изменим регистр на нижний в тех столбцах, где необходимо: `name`, `platfrom`, `genre`. Для этого воспользуемся простенькой самописной функцией:"
   ]
  },
  {
   "cell_type": "code",
   "execution_count": 7,
   "metadata": {},
   "outputs": [],
   "source": [
    "def data_lower(row):\n",
    "    data[row] = data[row].str.lower()"
   ]
  },
  {
   "cell_type": "code",
   "execution_count": 8,
   "metadata": {},
   "outputs": [],
   "source": [
    "data_lower('name')\n",
    "data_lower('platform')\n",
    "data_lower('genre')\n",
    "data_lower('rating')"
   ]
  },
  {
   "cell_type": "markdown",
   "metadata": {},
   "source": [
    "### Обработка дубликатов"
   ]
  },
  {
   "cell_type": "markdown",
   "metadata": {},
   "source": [
    "Проверим, присутствуют ли дубликаты в \"полусырых\" данных:"
   ]
  },
  {
   "cell_type": "code",
   "execution_count": 9,
   "metadata": {},
   "outputs": [
    {
     "name": "stdout",
     "output_type": "stream",
     "text": [
      "0\n"
     ]
    }
   ],
   "source": [
    "print(data.duplicated().sum())"
   ]
  },
  {
   "cell_type": "markdown",
   "metadata": {},
   "source": [
    "### Обработка года выпуска"
   ]
  },
  {
   "cell_type": "markdown",
   "metadata": {},
   "source": [
    "Обработаем данные в столбце `year_of_release`: удалим пропущенные значения (269 строк из набора 16 000+ не повлияют на результат существенно), преобразуем тип данных с `float64` на `date`:"
   ]
  },
  {
   "cell_type": "code",
   "execution_count": 10,
   "metadata": {},
   "outputs": [],
   "source": [
    "data.dropna(subset = ['year_of_release'], inplace = True)"
   ]
  },
  {
   "cell_type": "code",
   "execution_count": 11,
   "metadata": {},
   "outputs": [],
   "source": [
    "data['year_of_release'] = pd.to_datetime(data['year_of_release'], format='%Y').dt.year"
   ]
  },
  {
   "cell_type": "markdown",
   "metadata": {},
   "source": [
    "### Пропуски жанров и названий"
   ]
  },
  {
   "cell_type": "markdown",
   "metadata": {},
   "source": [
    "Обработаем пропущенные значения в столбцах `name` и `genre`. Для начала выведем строки с этими пропущенными значениями:"
   ]
  },
  {
   "cell_type": "code",
   "execution_count": 12,
   "metadata": {
    "scrolled": true
   },
   "outputs": [
    {
     "data": {
      "text/html": [
       "<div>\n",
       "<style scoped>\n",
       "    .dataframe tbody tr th:only-of-type {\n",
       "        vertical-align: middle;\n",
       "    }\n",
       "\n",
       "    .dataframe tbody tr th {\n",
       "        vertical-align: top;\n",
       "    }\n",
       "\n",
       "    .dataframe thead th {\n",
       "        text-align: right;\n",
       "    }\n",
       "</style>\n",
       "<table border=\"1\" class=\"dataframe\">\n",
       "  <thead>\n",
       "    <tr style=\"text-align: right;\">\n",
       "      <th></th>\n",
       "      <th>name</th>\n",
       "      <th>platform</th>\n",
       "      <th>year_of_release</th>\n",
       "      <th>genre</th>\n",
       "      <th>na_sales</th>\n",
       "      <th>eu_sales</th>\n",
       "      <th>jp_sales</th>\n",
       "      <th>other_sales</th>\n",
       "      <th>critic_score</th>\n",
       "      <th>user_score</th>\n",
       "      <th>rating</th>\n",
       "    </tr>\n",
       "  </thead>\n",
       "  <tbody>\n",
       "    <tr>\n",
       "      <td>659</td>\n",
       "      <td>NaN</td>\n",
       "      <td>gen</td>\n",
       "      <td>1993</td>\n",
       "      <td>NaN</td>\n",
       "      <td>1.78</td>\n",
       "      <td>0.53</td>\n",
       "      <td>0.00</td>\n",
       "      <td>0.08</td>\n",
       "      <td>NaN</td>\n",
       "      <td>NaN</td>\n",
       "      <td>NaN</td>\n",
       "    </tr>\n",
       "    <tr>\n",
       "      <td>14244</td>\n",
       "      <td>NaN</td>\n",
       "      <td>gen</td>\n",
       "      <td>1993</td>\n",
       "      <td>NaN</td>\n",
       "      <td>0.00</td>\n",
       "      <td>0.00</td>\n",
       "      <td>0.03</td>\n",
       "      <td>0.00</td>\n",
       "      <td>NaN</td>\n",
       "      <td>NaN</td>\n",
       "      <td>NaN</td>\n",
       "    </tr>\n",
       "  </tbody>\n",
       "</table>\n",
       "</div>"
      ],
      "text/plain": [
       "      name platform  year_of_release genre  na_sales  eu_sales  jp_sales  \\\n",
       "659    NaN      gen             1993   NaN      1.78      0.53      0.00   \n",
       "14244  NaN      gen             1993   NaN      0.00      0.00      0.03   \n",
       "\n",
       "       other_sales  critic_score user_score rating  \n",
       "659           0.08           NaN        NaN    NaN  \n",
       "14244         0.00           NaN        NaN    NaN  "
      ]
     },
     "execution_count": 12,
     "metadata": {},
     "output_type": "execute_result"
    }
   ],
   "source": [
    "data[data['genre'].isnull()]"
   ]
  },
  {
   "cell_type": "markdown",
   "metadata": {},
   "source": [
    "Видно, что эти две строки совершенно не информативны для дальнейшего анализа, поэтому без зазрения совести удалим их тоже:"
   ]
  },
  {
   "cell_type": "code",
   "execution_count": 13,
   "metadata": {},
   "outputs": [],
   "source": [
    "data.dropna(subset = ['genre'], inplace = True)"
   ]
  },
  {
   "cell_type": "markdown",
   "metadata": {},
   "source": [
    "### Обработка оценок критиков"
   ]
  },
  {
   "cell_type": "markdown",
   "metadata": {},
   "source": [
    "В столбце `critic_score` содержатся числовые данные с пропущенными значениями. Таких пропусков много - почти 50% от общего числа строк в датафрейме. Данные были получены из открытых источников, возможно, путем парсинга (автоматизированного сбора общедоступной информации из интернета). Тогда возможная причина возникновения пропусков - отсутствие данных либо неидеальная работа парсера."
   ]
  },
  {
   "cell_type": "markdown",
   "metadata": {},
   "source": [
    "Поскольку оценки критиков - это субъективные величины, то их заполнение с каким-либо предположением не будет достоверным. Поэтому обработаем их так: заполним пропуски числовыми значениями, но такими, которые однозначно будут выбиваться из общего ряда. При этом нулями заполнять нельзя, так как нули тоже несут в себе полезную информацию. Поэтому заполним пропуски значением -1:"
   ]
  },
  {
   "cell_type": "code",
   "execution_count": 14,
   "metadata": {},
   "outputs": [],
   "source": [
    "data['critic_score'] = data['critic_score'].fillna(-1)"
   ]
  },
  {
   "cell_type": "code",
   "execution_count": 15,
   "metadata": {},
   "outputs": [
    {
     "name": "stdout",
     "output_type": "stream",
     "text": [
      "Количество пропусков после заполнения: 0\n"
     ]
    }
   ],
   "source": [
    "print('Количество пропусков после заполнения:', data['critic_score'].isnull().sum())"
   ]
  },
  {
   "cell_type": "markdown",
   "metadata": {},
   "source": [
    "### Обработка оценок пользователей"
   ]
  },
  {
   "cell_type": "code",
   "execution_count": 16,
   "metadata": {},
   "outputs": [
    {
     "data": {
      "text/plain": [
       "array(['8', nan, '8.3', '8.5', '6.6', '8.4', '8.6', '7.7', '6.3', '7.4',\n",
       "       '8.2', '9', '7.9', '8.1', '8.7', '7.1', '3.4', '5.3', '4.8', '3.2',\n",
       "       '8.9', '6.4', '7.8', '7.5', '2.6', '7.2', '9.2', '7', '7.3', '4.3',\n",
       "       '7.6', '5.7', '5', '9.1', '6.5', 'tbd', '8.8', '6.9', '9.4', '6.8',\n",
       "       '6.1', '6.7', '5.4', '4', '4.9', '4.5', '9.3', '6.2', '4.2', '6',\n",
       "       '3.7', '4.1', '5.8', '5.6', '5.5', '4.4', '4.6', '5.9', '3.9',\n",
       "       '3.1', '2.9', '5.2', '3.3', '4.7', '5.1', '3.5', '2.5', '1.9', '3',\n",
       "       '2.7', '2.2', '2', '9.5', '2.1', '3.6', '2.8', '1.8', '3.8', '0',\n",
       "       '1.6', '9.6', '2.4', '1.7', '1.1', '0.3', '1.5', '0.7', '1.2',\n",
       "       '2.3', '0.5', '1.3', '0.2', '0.6', '1.4', '0.9', '1', '9.7'],\n",
       "      dtype=object)"
      ]
     },
     "execution_count": 16,
     "metadata": {},
     "output_type": "execute_result"
    }
   ],
   "source": [
    "data['user_score'].unique()"
   ]
  },
  {
   "cell_type": "markdown",
   "metadata": {},
   "source": [
    "В столбце `user_score` содержатся числовые данные с пропущенными (нулевыми) значениями, а также данные со значением `tbd`. "
   ]
  },
  {
   "cell_type": "markdown",
   "metadata": {},
   "source": [
    "Пропусков много - почти 40% от общего числа строк в датафрейме. Возможная причина их возникновения аналогична пропущенным значениям в оценке критиков."
   ]
  },
  {
   "cell_type": "code",
   "execution_count": 17,
   "metadata": {},
   "outputs": [
    {
     "name": "stdout",
     "output_type": "stream",
     "text": [
      "Количество значений tbd: 2376\n"
     ]
    }
   ],
   "source": [
    "print('Количество значений tbd:', len(data.query('user_score == \"tbd\"')))"
   ]
  },
  {
   "cell_type": "markdown",
   "metadata": {},
   "source": [
    "Строковых данных в этом столбце датафрейма около 12% от общего числа строк. В сфере компьютерных игр сокращение `tbd` означает *to be determined*, то есть *будет определено*. Обычно это касается даты релиза или рейтингов."
   ]
  },
  {
   "cell_type": "markdown",
   "metadata": {},
   "source": [
    "В данном случае значения `tbd`, как и значения `NaN`, по сути есть неизвестные значения. Поэтому приведем строковые значения к `NaN`, принудительно преобразовав ошибки в `NaN`:"
   ]
  },
  {
   "cell_type": "code",
   "execution_count": 18,
   "metadata": {},
   "outputs": [],
   "source": [
    "data['user_score'] = pd.to_numeric(data['user_score'], errors='coerce')"
   ]
  },
  {
   "cell_type": "markdown",
   "metadata": {},
   "source": [
    "Теперь все пропущенные значения обработаем по аналогии с обработкой оценок критиков:"
   ]
  },
  {
   "cell_type": "code",
   "execution_count": 19,
   "metadata": {},
   "outputs": [],
   "source": [
    "data['user_score'] = data['user_score'].fillna(-1)"
   ]
  },
  {
   "cell_type": "code",
   "execution_count": 20,
   "metadata": {},
   "outputs": [
    {
     "name": "stdout",
     "output_type": "stream",
     "text": [
      "Количество пропусков после заполнения: 0\n"
     ]
    }
   ],
   "source": [
    "print('Количество пропусков после заполнения:', data['user_score'].isnull().sum())"
   ]
  },
  {
   "cell_type": "markdown",
   "metadata": {},
   "source": [
    "### Обработка рейтинга"
   ]
  },
  {
   "cell_type": "code",
   "execution_count": 21,
   "metadata": {},
   "outputs": [
    {
     "data": {
      "text/plain": [
       "array(['e', nan, 'm', 't', 'e10+', 'k-a', 'ao', 'ec', 'rp'], dtype=object)"
      ]
     },
     "execution_count": 21,
     "metadata": {},
     "output_type": "execute_result"
    }
   ],
   "source": [
    "data['rating'].unique()"
   ]
  },
  {
   "cell_type": "code",
   "execution_count": 22,
   "metadata": {},
   "outputs": [
    {
     "data": {
      "text/plain": [
       "6676"
      ]
     },
     "execution_count": 22,
     "metadata": {},
     "output_type": "execute_result"
    }
   ],
   "source": [
    "data['rating'].isnull().sum()"
   ]
  },
  {
   "cell_type": "markdown",
   "metadata": {},
   "source": [
    "В этом столбце содержатся текстовые данные о рейтинге по системе *Entertainment Software Rating Board (ESRB)*, а также пропущенные значения. Пропущенных значений около 40%, поэтому их нужно будет как-то заполнить. Причина их возникновения скорее всего аналогична изложенной выше."
   ]
  },
  {
   "cell_type": "markdown",
   "metadata": {},
   "source": [
    "Рейтинг *ESRB* определяет возрастную категории видеоигры:\n",
    "- **E** - для всех, то есть для всех от 6 лет и старше;\n",
    "- **M** - для взрослых, то есть от 17 лет и старше;\n",
    "- **T** - для подростков, то есть от 13 лет и старше;\n",
    "- **E10+** - для всех от 10 лет и старше;\n",
    "- **K-A** - для всех, аналогичен рейтингу **E**, устаревшее обозначение;\n",
    "- **AO** - только для взрослых, то есть от 18 лет и старше;\n",
    "- **EC** - для детей младшего возраста, то есть для детей старше 3 лет;\n",
    "- **RP** - рейтинг ожидается."
   ]
  },
  {
   "cell_type": "code",
   "execution_count": 23,
   "metadata": {},
   "outputs": [
    {
     "data": {
      "text/plain": [
       "e       3921\n",
       "t       2905\n",
       "m       1536\n",
       "e10+    1393\n",
       "ec         8\n",
       "k-a        3\n",
       "rp         1\n",
       "ao         1\n",
       "Name: rating, dtype: int64"
      ]
     },
     "execution_count": 23,
     "metadata": {},
     "output_type": "execute_result"
    }
   ],
   "source": [
    "data['rating'].value_counts()"
   ]
  },
  {
   "cell_type": "markdown",
   "metadata": {},
   "source": [
    "Заменим **K-A** на **E** как устаревшее обозначение, а **RP** и пропущенным значениям присвоим текстовое обозначение *unknown*:"
   ]
  },
  {
   "cell_type": "code",
   "execution_count": 24,
   "metadata": {},
   "outputs": [
    {
     "data": {
      "text/plain": [
       "unknown    6677\n",
       "e          3924\n",
       "t          2905\n",
       "m          1536\n",
       "e10+       1393\n",
       "ec            8\n",
       "ao            1\n",
       "Name: rating, dtype: int64"
      ]
     },
     "execution_count": 24,
     "metadata": {},
     "output_type": "execute_result"
    }
   ],
   "source": [
    "data.loc[data['rating'] == 'k-a', 'rating'] = \"e\"\n",
    "data.loc[data['rating'] == 'rp', 'rating'] = \"unknown\"\n",
    "data['rating'] = data['rating'].fillna('unknown')\n",
    "data['rating'].value_counts()"
   ]
  },
  {
   "cell_type": "markdown",
   "metadata": {},
   "source": [
    "### Добавление суммарных продаж"
   ]
  },
  {
   "cell_type": "markdown",
   "metadata": {},
   "source": [
    "Добавим суммарные продажи в таблице:"
   ]
  },
  {
   "cell_type": "code",
   "execution_count": 25,
   "metadata": {},
   "outputs": [],
   "source": [
    "data['total_sales'] = data['na_sales'] + data['eu_sales'] + data['jp_sales'] + data['other_sales']"
   ]
  },
  {
   "cell_type": "markdown",
   "metadata": {},
   "source": [
    "### Обработанный датафрейм"
   ]
  },
  {
   "cell_type": "markdown",
   "metadata": {},
   "source": [
    "Рассмотрим датафрейм после всех преобразований:"
   ]
  },
  {
   "cell_type": "code",
   "execution_count": 26,
   "metadata": {},
   "outputs": [
    {
     "data": {
      "text/html": [
       "<div>\n",
       "<style scoped>\n",
       "    .dataframe tbody tr th:only-of-type {\n",
       "        vertical-align: middle;\n",
       "    }\n",
       "\n",
       "    .dataframe tbody tr th {\n",
       "        vertical-align: top;\n",
       "    }\n",
       "\n",
       "    .dataframe thead th {\n",
       "        text-align: right;\n",
       "    }\n",
       "</style>\n",
       "<table border=\"1\" class=\"dataframe\">\n",
       "  <thead>\n",
       "    <tr style=\"text-align: right;\">\n",
       "      <th></th>\n",
       "      <th>name</th>\n",
       "      <th>platform</th>\n",
       "      <th>year_of_release</th>\n",
       "      <th>genre</th>\n",
       "      <th>na_sales</th>\n",
       "      <th>eu_sales</th>\n",
       "      <th>jp_sales</th>\n",
       "      <th>other_sales</th>\n",
       "      <th>critic_score</th>\n",
       "      <th>user_score</th>\n",
       "      <th>rating</th>\n",
       "      <th>total_sales</th>\n",
       "    </tr>\n",
       "  </thead>\n",
       "  <tbody>\n",
       "    <tr>\n",
       "      <td>0</td>\n",
       "      <td>wii sports</td>\n",
       "      <td>wii</td>\n",
       "      <td>2006</td>\n",
       "      <td>sports</td>\n",
       "      <td>41.36</td>\n",
       "      <td>28.96</td>\n",
       "      <td>3.77</td>\n",
       "      <td>8.45</td>\n",
       "      <td>76.0</td>\n",
       "      <td>8.0</td>\n",
       "      <td>e</td>\n",
       "      <td>82.54</td>\n",
       "    </tr>\n",
       "    <tr>\n",
       "      <td>1</td>\n",
       "      <td>super mario bros.</td>\n",
       "      <td>nes</td>\n",
       "      <td>1985</td>\n",
       "      <td>platform</td>\n",
       "      <td>29.08</td>\n",
       "      <td>3.58</td>\n",
       "      <td>6.81</td>\n",
       "      <td>0.77</td>\n",
       "      <td>-1.0</td>\n",
       "      <td>-1.0</td>\n",
       "      <td>unknown</td>\n",
       "      <td>40.24</td>\n",
       "    </tr>\n",
       "    <tr>\n",
       "      <td>2</td>\n",
       "      <td>mario kart wii</td>\n",
       "      <td>wii</td>\n",
       "      <td>2008</td>\n",
       "      <td>racing</td>\n",
       "      <td>15.68</td>\n",
       "      <td>12.76</td>\n",
       "      <td>3.79</td>\n",
       "      <td>3.29</td>\n",
       "      <td>82.0</td>\n",
       "      <td>8.3</td>\n",
       "      <td>e</td>\n",
       "      <td>35.52</td>\n",
       "    </tr>\n",
       "    <tr>\n",
       "      <td>3</td>\n",
       "      <td>wii sports resort</td>\n",
       "      <td>wii</td>\n",
       "      <td>2009</td>\n",
       "      <td>sports</td>\n",
       "      <td>15.61</td>\n",
       "      <td>10.93</td>\n",
       "      <td>3.28</td>\n",
       "      <td>2.95</td>\n",
       "      <td>80.0</td>\n",
       "      <td>8.0</td>\n",
       "      <td>e</td>\n",
       "      <td>32.77</td>\n",
       "    </tr>\n",
       "    <tr>\n",
       "      <td>4</td>\n",
       "      <td>pokemon red/pokemon blue</td>\n",
       "      <td>gb</td>\n",
       "      <td>1996</td>\n",
       "      <td>role-playing</td>\n",
       "      <td>11.27</td>\n",
       "      <td>8.89</td>\n",
       "      <td>10.22</td>\n",
       "      <td>1.00</td>\n",
       "      <td>-1.0</td>\n",
       "      <td>-1.0</td>\n",
       "      <td>unknown</td>\n",
       "      <td>31.38</td>\n",
       "    </tr>\n",
       "  </tbody>\n",
       "</table>\n",
       "</div>"
      ],
      "text/plain": [
       "                       name platform  year_of_release         genre  na_sales  \\\n",
       "0                wii sports      wii             2006        sports     41.36   \n",
       "1         super mario bros.      nes             1985      platform     29.08   \n",
       "2            mario kart wii      wii             2008        racing     15.68   \n",
       "3         wii sports resort      wii             2009        sports     15.61   \n",
       "4  pokemon red/pokemon blue       gb             1996  role-playing     11.27   \n",
       "\n",
       "   eu_sales  jp_sales  other_sales  critic_score  user_score   rating  \\\n",
       "0     28.96      3.77         8.45          76.0         8.0        e   \n",
       "1      3.58      6.81         0.77          -1.0        -1.0  unknown   \n",
       "2     12.76      3.79         3.29          82.0         8.3        e   \n",
       "3     10.93      3.28         2.95          80.0         8.0        e   \n",
       "4      8.89     10.22         1.00          -1.0        -1.0  unknown   \n",
       "\n",
       "   total_sales  \n",
       "0        82.54  \n",
       "1        40.24  \n",
       "2        35.52  \n",
       "3        32.77  \n",
       "4        31.38  "
      ]
     },
     "execution_count": 26,
     "metadata": {},
     "output_type": "execute_result"
    }
   ],
   "source": [
    "data.head()"
   ]
  },
  {
   "cell_type": "code",
   "execution_count": 27,
   "metadata": {},
   "outputs": [
    {
     "data": {
      "text/plain": [
       "name               0\n",
       "platform           0\n",
       "year_of_release    0\n",
       "genre              0\n",
       "na_sales           0\n",
       "eu_sales           0\n",
       "jp_sales           0\n",
       "other_sales        0\n",
       "critic_score       0\n",
       "user_score         0\n",
       "rating             0\n",
       "total_sales        0\n",
       "dtype: int64"
      ]
     },
     "execution_count": 27,
     "metadata": {},
     "output_type": "execute_result"
    }
   ],
   "source": [
    "data.isnull().sum()"
   ]
  },
  {
   "cell_type": "code",
   "execution_count": 28,
   "metadata": {},
   "outputs": [
    {
     "name": "stdout",
     "output_type": "stream",
     "text": [
      "<class 'pandas.core.frame.DataFrame'>\n",
      "Int64Index: 16444 entries, 0 to 16714\n",
      "Data columns (total 12 columns):\n",
      "name               16444 non-null object\n",
      "platform           16444 non-null object\n",
      "year_of_release    16444 non-null int64\n",
      "genre              16444 non-null object\n",
      "na_sales           16444 non-null float64\n",
      "eu_sales           16444 non-null float64\n",
      "jp_sales           16444 non-null float64\n",
      "other_sales        16444 non-null float64\n",
      "critic_score       16444 non-null float64\n",
      "user_score         16444 non-null float64\n",
      "rating             16444 non-null object\n",
      "total_sales        16444 non-null float64\n",
      "dtypes: float64(7), int64(1), object(4)\n",
      "memory usage: 1.6+ MB\n"
     ]
    }
   ],
   "source": [
    "data.info()"
   ]
  },
  {
   "cell_type": "markdown",
   "metadata": {},
   "source": [
    "### Выводы"
   ]
  },
  {
   "cell_type": "markdown",
   "metadata": {},
   "source": [
    "Проведена обработка данных, необходимых для дальнейшего исследовательского анализа:\n",
    "* заменены названия столбцов.\n",
    "* Изменен регистр текстовых данных, содержащихся в таблице.\n",
    "* Проведена проверка на дубликаты.\n",
    "* Удалены некоторые значения, которые невозможно заполнить и которые будут искажать результаты анализа.\n",
    "* Изменены типы данных там, где было необходимо.\n",
    "* Обработаны пропущенные значения.\n",
    "* Добавлен столбец глобальных продаж."
   ]
  },
  {
   "cell_type": "markdown",
   "metadata": {},
   "source": [
    "## Исследовательский анализ данных"
   ]
  },
  {
   "cell_type": "markdown",
   "metadata": {},
   "source": [
    "### Количество релизов игр"
   ]
  },
  {
   "cell_type": "markdown",
   "metadata": {},
   "source": [
    "Оценим, сколько игр выпускалось в разные годы. Для этого создадим сводную таблицу, в которой сгруппируем данные по году выпуска и посчитаем количество игр для каждого года:"
   ]
  },
  {
   "cell_type": "code",
   "execution_count": 29,
   "metadata": {},
   "outputs": [],
   "source": [
    "releases_per_year = data.pivot_table(\n",
    "    index = 'year_of_release',\n",
    "    values='name',\n",
    "    aggfunc='count'\n",
    ").reset_index()"
   ]
  },
  {
   "cell_type": "code",
   "execution_count": 30,
   "metadata": {},
   "outputs": [
    {
     "data": {
      "text/plain": [
       "Text(0.5, 1.0, 'Количество выпущенных видеоигр за 1980-2016 годы')"
      ]
     },
     "execution_count": 30,
     "metadata": {},
     "output_type": "execute_result"
    },
    {
     "data": {
      "image/png": "[encoded data removed]",
      "text/plain": [
       "<Figure size 864x576 with 1 Axes>"
      ]
     },
     "metadata": {
      "needs_background": "light"
     },
     "output_type": "display_data"
    }
   ],
   "source": [
    "releases_per_year.plot.bar(x='year_of_release', figsize=(12,8), grid=True)\n",
    "plt.xlabel('Год выпуска видеоигры', fontsize=12)\n",
    "plt.ylabel('Количество игр', fontsize=12)\n",
    "plt.title('Количество выпущенных видеоигр за 1980-2016 годы', fontsize=14)"
   ]
  },
  {
   "cell_type": "markdown",
   "metadata": {},
   "source": [
    "По графику видно, что в 80-е годы выпуск видеоигр только набирал обороты и лишь с середины 90-х годов количество релизов значительно возросло. Пик выпущенных видеоигр, согласно представленным данным, пришелся на 2008-2009 годы. Для дальнейшего анализа набор данных за весь период нам не нужен и можно отфильтровать данные по году релиза, оставив диапазон 1995-2016 годы:"
   ]
  },
  {
   "cell_type": "code",
   "execution_count": 31,
   "metadata": {},
   "outputs": [],
   "source": [
    "data_95 = data.query('year_of_release > 1994')"
   ]
  },
  {
   "cell_type": "markdown",
   "metadata": {},
   "source": [
    "### Продажи игр в зависимости от платформы"
   ]
  },
  {
   "cell_type": "markdown",
   "metadata": {},
   "source": [
    "Посмотрим, как менялись продажи по платформам за интересующий нас период, начиная с 1995 года. Для начала оценим топ-10 платформ с наибольшими продажами за весь период, начиная с 1995 года:"
   ]
  },
  {
   "cell_type": "code",
   "execution_count": 32,
   "metadata": {},
   "outputs": [],
   "source": [
    "platform_sales = data_95.pivot_table(index = 'platform', values='total_sales', aggfunc='sum')"
   ]
  },
  {
   "cell_type": "code",
   "execution_count": 33,
   "metadata": {},
   "outputs": [],
   "source": [
    "top_platform = platform_sales.sort_values(by = 'total_sales', ascending = False)[:10]"
   ]
  },
  {
   "cell_type": "code",
   "execution_count": 34,
   "metadata": {},
   "outputs": [
    {
     "data": {
      "text/html": [
       "<div>\n",
       "<style scoped>\n",
       "    .dataframe tbody tr th:only-of-type {\n",
       "        vertical-align: middle;\n",
       "    }\n",
       "\n",
       "    .dataframe tbody tr th {\n",
       "        vertical-align: top;\n",
       "    }\n",
       "\n",
       "    .dataframe thead th {\n",
       "        text-align: right;\n",
       "    }\n",
       "</style>\n",
       "<table border=\"1\" class=\"dataframe\">\n",
       "  <thead>\n",
       "    <tr style=\"text-align: right;\">\n",
       "      <th></th>\n",
       "      <th>total_sales</th>\n",
       "    </tr>\n",
       "    <tr>\n",
       "      <th>platform</th>\n",
       "      <th></th>\n",
       "    </tr>\n",
       "  </thead>\n",
       "  <tbody>\n",
       "    <tr>\n",
       "      <td>ps2</td>\n",
       "      <td>1233.56</td>\n",
       "    </tr>\n",
       "    <tr>\n",
       "      <td>x360</td>\n",
       "      <td>961.24</td>\n",
       "    </tr>\n",
       "    <tr>\n",
       "      <td>ps3</td>\n",
       "      <td>931.34</td>\n",
       "    </tr>\n",
       "    <tr>\n",
       "      <td>wii</td>\n",
       "      <td>891.18</td>\n",
       "    </tr>\n",
       "    <tr>\n",
       "      <td>ds</td>\n",
       "      <td>802.76</td>\n",
       "    </tr>\n",
       "    <tr>\n",
       "      <td>ps</td>\n",
       "      <td>721.55</td>\n",
       "    </tr>\n",
       "    <tr>\n",
       "      <td>ps4</td>\n",
       "      <td>314.14</td>\n",
       "    </tr>\n",
       "    <tr>\n",
       "      <td>gba</td>\n",
       "      <td>312.88</td>\n",
       "    </tr>\n",
       "    <tr>\n",
       "      <td>psp</td>\n",
       "      <td>289.53</td>\n",
       "    </tr>\n",
       "    <tr>\n",
       "      <td>3ds</td>\n",
       "      <td>257.81</td>\n",
       "    </tr>\n",
       "  </tbody>\n",
       "</table>\n",
       "</div>"
      ],
      "text/plain": [
       "          total_sales\n",
       "platform             \n",
       "ps2           1233.56\n",
       "x360           961.24\n",
       "ps3            931.34\n",
       "wii            891.18\n",
       "ds             802.76\n",
       "ps             721.55\n",
       "ps4            314.14\n",
       "gba            312.88\n",
       "psp            289.53\n",
       "3ds            257.81"
      ]
     },
     "execution_count": 34,
     "metadata": {},
     "output_type": "execute_result"
    }
   ],
   "source": [
    "top_platform"
   ]
  },
  {
   "cell_type": "markdown",
   "metadata": {},
   "source": [
    "Теперь посмотрим, как эти продажи распределялись по годам. Для этого создадим сводную таблицу:"
   ]
  },
  {
   "cell_type": "code",
   "execution_count": 35,
   "metadata": {},
   "outputs": [],
   "source": [
    "platform_sales_per_year = data_95.pivot_table(\n",
    "    index='year_of_release', columns='platform', values='total_sales', aggfunc='sum'\n",
    ").reset_index()"
   ]
  },
  {
   "cell_type": "code",
   "execution_count": 36,
   "metadata": {},
   "outputs": [
    {
     "data": {
      "text/html": [
       "<div>\n",
       "<style scoped>\n",
       "    .dataframe tbody tr th:only-of-type {\n",
       "        vertical-align: middle;\n",
       "    }\n",
       "\n",
       "    .dataframe tbody tr th {\n",
       "        vertical-align: top;\n",
       "    }\n",
       "\n",
       "    .dataframe thead th {\n",
       "        text-align: right;\n",
       "    }\n",
       "</style>\n",
       "<table border=\"1\" class=\"dataframe\">\n",
       "  <thead>\n",
       "    <tr style=\"text-align: right;\">\n",
       "      <th>platform</th>\n",
       "      <th>year_of_release</th>\n",
       "      <th>3do</th>\n",
       "      <th>3ds</th>\n",
       "      <th>dc</th>\n",
       "      <th>ds</th>\n",
       "      <th>gb</th>\n",
       "      <th>gba</th>\n",
       "      <th>gc</th>\n",
       "      <th>n64</th>\n",
       "      <th>ng</th>\n",
       "      <th>...</th>\n",
       "      <th>psv</th>\n",
       "      <th>sat</th>\n",
       "      <th>snes</th>\n",
       "      <th>tg16</th>\n",
       "      <th>wii</th>\n",
       "      <th>wiiu</th>\n",
       "      <th>ws</th>\n",
       "      <th>x360</th>\n",
       "      <th>xb</th>\n",
       "      <th>xone</th>\n",
       "    </tr>\n",
       "  </thead>\n",
       "  <tbody>\n",
       "    <tr>\n",
       "      <td>0</td>\n",
       "      <td>1995</td>\n",
       "      <td>0.08</td>\n",
       "      <td>NaN</td>\n",
       "      <td>NaN</td>\n",
       "      <td>NaN</td>\n",
       "      <td>3.60</td>\n",
       "      <td>NaN</td>\n",
       "      <td>NaN</td>\n",
       "      <td>NaN</td>\n",
       "      <td>0.33</td>\n",
       "      <td>...</td>\n",
       "      <td>NaN</td>\n",
       "      <td>11.57</td>\n",
       "      <td>32.20</td>\n",
       "      <td>0.16</td>\n",
       "      <td>NaN</td>\n",
       "      <td>NaN</td>\n",
       "      <td>NaN</td>\n",
       "      <td>NaN</td>\n",
       "      <td>NaN</td>\n",
       "      <td>NaN</td>\n",
       "    </tr>\n",
       "    <tr>\n",
       "      <td>1</td>\n",
       "      <td>1996</td>\n",
       "      <td>NaN</td>\n",
       "      <td>NaN</td>\n",
       "      <td>NaN</td>\n",
       "      <td>NaN</td>\n",
       "      <td>36.03</td>\n",
       "      <td>NaN</td>\n",
       "      <td>NaN</td>\n",
       "      <td>34.10</td>\n",
       "      <td>0.10</td>\n",
       "      <td>...</td>\n",
       "      <td>NaN</td>\n",
       "      <td>7.69</td>\n",
       "      <td>15.92</td>\n",
       "      <td>NaN</td>\n",
       "      <td>NaN</td>\n",
       "      <td>NaN</td>\n",
       "      <td>NaN</td>\n",
       "      <td>NaN</td>\n",
       "      <td>NaN</td>\n",
       "      <td>NaN</td>\n",
       "    </tr>\n",
       "    <tr>\n",
       "      <td>2</td>\n",
       "      <td>1997</td>\n",
       "      <td>NaN</td>\n",
       "      <td>NaN</td>\n",
       "      <td>NaN</td>\n",
       "      <td>NaN</td>\n",
       "      <td>6.37</td>\n",
       "      <td>NaN</td>\n",
       "      <td>NaN</td>\n",
       "      <td>39.50</td>\n",
       "      <td>NaN</td>\n",
       "      <td>...</td>\n",
       "      <td>NaN</td>\n",
       "      <td>6.77</td>\n",
       "      <td>0.99</td>\n",
       "      <td>NaN</td>\n",
       "      <td>NaN</td>\n",
       "      <td>NaN</td>\n",
       "      <td>NaN</td>\n",
       "      <td>NaN</td>\n",
       "      <td>NaN</td>\n",
       "      <td>NaN</td>\n",
       "    </tr>\n",
       "    <tr>\n",
       "      <td>3</td>\n",
       "      <td>1998</td>\n",
       "      <td>NaN</td>\n",
       "      <td>NaN</td>\n",
       "      <td>3.38</td>\n",
       "      <td>NaN</td>\n",
       "      <td>26.90</td>\n",
       "      <td>NaN</td>\n",
       "      <td>NaN</td>\n",
       "      <td>49.24</td>\n",
       "      <td>NaN</td>\n",
       "      <td>...</td>\n",
       "      <td>NaN</td>\n",
       "      <td>3.82</td>\n",
       "      <td>0.22</td>\n",
       "      <td>NaN</td>\n",
       "      <td>NaN</td>\n",
       "      <td>NaN</td>\n",
       "      <td>NaN</td>\n",
       "      <td>NaN</td>\n",
       "      <td>NaN</td>\n",
       "      <td>NaN</td>\n",
       "    </tr>\n",
       "    <tr>\n",
       "      <td>4</td>\n",
       "      <td>1999</td>\n",
       "      <td>NaN</td>\n",
       "      <td>NaN</td>\n",
       "      <td>5.16</td>\n",
       "      <td>NaN</td>\n",
       "      <td>38.00</td>\n",
       "      <td>NaN</td>\n",
       "      <td>NaN</td>\n",
       "      <td>57.87</td>\n",
       "      <td>NaN</td>\n",
       "      <td>...</td>\n",
       "      <td>NaN</td>\n",
       "      <td>0.09</td>\n",
       "      <td>0.26</td>\n",
       "      <td>NaN</td>\n",
       "      <td>NaN</td>\n",
       "      <td>NaN</td>\n",
       "      <td>0.46</td>\n",
       "      <td>NaN</td>\n",
       "      <td>NaN</td>\n",
       "      <td>NaN</td>\n",
       "    </tr>\n",
       "  </tbody>\n",
       "</table>\n",
       "<p>5 rows × 27 columns</p>\n",
       "</div>"
      ],
      "text/plain": [
       "platform  year_of_release   3do  3ds    dc  ds     gb  gba  gc    n64    ng  \\\n",
       "0                    1995  0.08  NaN   NaN NaN   3.60  NaN NaN    NaN  0.33   \n",
       "1                    1996   NaN  NaN   NaN NaN  36.03  NaN NaN  34.10  0.10   \n",
       "2                    1997   NaN  NaN   NaN NaN   6.37  NaN NaN  39.50   NaN   \n",
       "3                    1998   NaN  NaN  3.38 NaN  26.90  NaN NaN  49.24   NaN   \n",
       "4                    1999   NaN  NaN  5.16 NaN  38.00  NaN NaN  57.87   NaN   \n",
       "\n",
       "platform  ...  psv    sat   snes  tg16  wii  wiiu    ws  x360  xb  xone  \n",
       "0         ...  NaN  11.57  32.20  0.16  NaN   NaN   NaN   NaN NaN   NaN  \n",
       "1         ...  NaN   7.69  15.92   NaN  NaN   NaN   NaN   NaN NaN   NaN  \n",
       "2         ...  NaN   6.77   0.99   NaN  NaN   NaN   NaN   NaN NaN   NaN  \n",
       "3         ...  NaN   3.82   0.22   NaN  NaN   NaN   NaN   NaN NaN   NaN  \n",
       "4         ...  NaN   0.09   0.26   NaN  NaN   NaN  0.46   NaN NaN   NaN  \n",
       "\n",
       "[5 rows x 27 columns]"
      ]
     },
     "execution_count": 36,
     "metadata": {},
     "output_type": "execute_result"
    }
   ],
   "source": [
    "platform_sales_per_year.head()"
   ]
  },
  {
   "cell_type": "markdown",
   "metadata": {},
   "source": [
    "Отсутствующие значения - это нулевые продажи. Поэтому заменим их нулями:"
   ]
  },
  {
   "cell_type": "code",
   "execution_count": 37,
   "metadata": {},
   "outputs": [],
   "source": [
    "platform_sales_per_year.fillna(0, inplace = True)"
   ]
  },
  {
   "cell_type": "markdown",
   "metadata": {},
   "source": [
    "Построим распределение продаж по годам для топ-10 платформ с наибольшими суммарными продажами, которые определены в таблице `top_platform`. Тип распределения - диаграмма с накоплением:"
   ]
  },
  {
   "cell_type": "code",
   "execution_count": 38,
   "metadata": {
    "scrolled": false
   },
   "outputs": [
    {
     "data": {
      "image/png": "[encoded data removed]",
      "text/plain": [
       "<Figure size 864x432 with 1 Axes>"
      ]
     },
     "metadata": {
      "needs_background": "light"
     },
     "output_type": "display_data"
    }
   ],
   "source": [
    "platform_sales_per_year.plot.bar(x='year_of_release', y=top_platform.index, stacked=True, figsize=(12,6), grid=True)\n",
    "plt.xlabel(\"Год\", fontsize=12)\n",
    "plt.ylabel(\"Суммарный объем продаж, млн. копий \", fontsize=12)\n",
    "plt.legend(top_platform.index)\n",
    "plt.title(\"Распределение объемов продаж по годам для топ-10 платформ\", fontsize=14)\n",
    "plt.show()"
   ]
  },
  {
   "cell_type": "markdown",
   "metadata": {},
   "source": [
    "Из распределения видно, что у платформ есть свой жизненный цикл: платформа появляется, количество проданных копий игр для нее растет, затем идет на спад и исчезает. Определим этот характерный срок: добавим к сводной таблице по объемам продаж столбец `actual`, в котором будет находиться количество ненулевых лет для каждой платформы, и столбец `last_year`, означающий год последнего релиза игры для платформы:"
   ]
  },
  {
   "cell_type": "code",
   "execution_count": 39,
   "metadata": {},
   "outputs": [
    {
     "data": {
      "text/html": [
       "<div>\n",
       "<style scoped>\n",
       "    .dataframe tbody tr th:only-of-type {\n",
       "        vertical-align: middle;\n",
       "    }\n",
       "\n",
       "    .dataframe tbody tr th {\n",
       "        vertical-align: top;\n",
       "    }\n",
       "\n",
       "    .dataframe thead th {\n",
       "        text-align: right;\n",
       "    }\n",
       "</style>\n",
       "<table border=\"1\" class=\"dataframe\">\n",
       "  <thead>\n",
       "    <tr style=\"text-align: right;\">\n",
       "      <th></th>\n",
       "      <th>total_sales</th>\n",
       "    </tr>\n",
       "    <tr>\n",
       "      <th>platform</th>\n",
       "      <th></th>\n",
       "    </tr>\n",
       "  </thead>\n",
       "  <tbody>\n",
       "    <tr>\n",
       "      <td>3do</td>\n",
       "      <td>0.08</td>\n",
       "    </tr>\n",
       "    <tr>\n",
       "      <td>3ds</td>\n",
       "      <td>257.81</td>\n",
       "    </tr>\n",
       "    <tr>\n",
       "      <td>dc</td>\n",
       "      <td>15.95</td>\n",
       "    </tr>\n",
       "    <tr>\n",
       "      <td>ds</td>\n",
       "      <td>802.76</td>\n",
       "    </tr>\n",
       "    <tr>\n",
       "      <td>gb</td>\n",
       "      <td>139.90</td>\n",
       "    </tr>\n",
       "  </tbody>\n",
       "</table>\n",
       "</div>"
      ],
      "text/plain": [
       "          total_sales\n",
       "platform             \n",
       "3do              0.08\n",
       "3ds            257.81\n",
       "dc              15.95\n",
       "ds             802.76\n",
       "gb             139.90"
      ]
     },
     "execution_count": 39,
     "metadata": {},
     "output_type": "execute_result"
    }
   ],
   "source": [
    "platform_sales.head()"
   ]
  },
  {
   "cell_type": "code",
   "execution_count": 40,
   "metadata": {},
   "outputs": [],
   "source": [
    "for platform in platform_sales_per_year.columns:\n",
    "    platform_sales.loc[platform_sales.index == platform, 'actual'] = \\\n",
    "    platform_sales_per_year.loc[platform_sales_per_year.loc[:, platform] != 0].count()\n",
    "    platform_sales.loc[platform_sales.index == platform, 'last_year'] = \\\n",
    "    data_95.loc[data_95.loc[:, 'platform'] == platform, 'year_of_release'].max()"
   ]
  },
  {
   "cell_type": "code",
   "execution_count": 41,
   "metadata": {},
   "outputs": [
    {
     "data": {
      "text/html": [
       "<div>\n",
       "<style scoped>\n",
       "    .dataframe tbody tr th:only-of-type {\n",
       "        vertical-align: middle;\n",
       "    }\n",
       "\n",
       "    .dataframe tbody tr th {\n",
       "        vertical-align: top;\n",
       "    }\n",
       "\n",
       "    .dataframe thead th {\n",
       "        text-align: right;\n",
       "    }\n",
       "</style>\n",
       "<table border=\"1\" class=\"dataframe\">\n",
       "  <thead>\n",
       "    <tr style=\"text-align: right;\">\n",
       "      <th></th>\n",
       "      <th>total_sales</th>\n",
       "      <th>actual</th>\n",
       "      <th>last_year</th>\n",
       "    </tr>\n",
       "    <tr>\n",
       "      <th>platform</th>\n",
       "      <th></th>\n",
       "      <th></th>\n",
       "      <th></th>\n",
       "    </tr>\n",
       "  </thead>\n",
       "  <tbody>\n",
       "    <tr>\n",
       "      <td>3do</td>\n",
       "      <td>0.08</td>\n",
       "      <td>1.0</td>\n",
       "      <td>1995.0</td>\n",
       "    </tr>\n",
       "    <tr>\n",
       "      <td>3ds</td>\n",
       "      <td>257.81</td>\n",
       "      <td>6.0</td>\n",
       "      <td>2016.0</td>\n",
       "    </tr>\n",
       "    <tr>\n",
       "      <td>dc</td>\n",
       "      <td>15.95</td>\n",
       "      <td>7.0</td>\n",
       "      <td>2008.0</td>\n",
       "    </tr>\n",
       "    <tr>\n",
       "      <td>ds</td>\n",
       "      <td>802.76</td>\n",
       "      <td>10.0</td>\n",
       "      <td>2013.0</td>\n",
       "    </tr>\n",
       "    <tr>\n",
       "      <td>gb</td>\n",
       "      <td>139.90</td>\n",
       "      <td>7.0</td>\n",
       "      <td>2001.0</td>\n",
       "    </tr>\n",
       "  </tbody>\n",
       "</table>\n",
       "</div>"
      ],
      "text/plain": [
       "          total_sales  actual  last_year\n",
       "platform                                \n",
       "3do              0.08     1.0     1995.0\n",
       "3ds            257.81     6.0     2016.0\n",
       "dc              15.95     7.0     2008.0\n",
       "ds             802.76    10.0     2013.0\n",
       "gb             139.90     7.0     2001.0"
      ]
     },
     "execution_count": 41,
     "metadata": {},
     "output_type": "execute_result"
    }
   ],
   "source": [
    "platform_sales.head()"
   ]
  },
  {
   "cell_type": "markdown",
   "metadata": {},
   "source": [
    "Для полученной таблицы оценим параметры:"
   ]
  },
  {
   "cell_type": "code",
   "execution_count": 42,
   "metadata": {},
   "outputs": [
    {
     "data": {
      "text/html": [
       "<div>\n",
       "<style scoped>\n",
       "    .dataframe tbody tr th:only-of-type {\n",
       "        vertical-align: middle;\n",
       "    }\n",
       "\n",
       "    .dataframe tbody tr th {\n",
       "        vertical-align: top;\n",
       "    }\n",
       "\n",
       "    .dataframe thead th {\n",
       "        text-align: right;\n",
       "    }\n",
       "</style>\n",
       "<table border=\"1\" class=\"dataframe\">\n",
       "  <thead>\n",
       "    <tr style=\"text-align: right;\">\n",
       "      <th></th>\n",
       "      <th>total_sales</th>\n",
       "      <th>actual</th>\n",
       "      <th>last_year</th>\n",
       "    </tr>\n",
       "  </thead>\n",
       "  <tbody>\n",
       "    <tr>\n",
       "      <td>count</td>\n",
       "      <td>26.000000</td>\n",
       "      <td>26.000000</td>\n",
       "      <td>26.000000</td>\n",
       "    </tr>\n",
       "    <tr>\n",
       "      <td>mean</td>\n",
       "      <td>313.650385</td>\n",
       "      <td>7.192308</td>\n",
       "      <td>2007.692308</td>\n",
       "    </tr>\n",
       "    <tr>\n",
       "      <td>std</td>\n",
       "      <td>364.780645</td>\n",
       "      <td>4.604513</td>\n",
       "      <td>8.013834</td>\n",
       "    </tr>\n",
       "    <tr>\n",
       "      <td>min</td>\n",
       "      <td>0.030000</td>\n",
       "      <td>1.000000</td>\n",
       "      <td>1995.000000</td>\n",
       "    </tr>\n",
       "    <tr>\n",
       "      <td>25%</td>\n",
       "      <td>34.852500</td>\n",
       "      <td>4.250000</td>\n",
       "      <td>2001.000000</td>\n",
       "    </tr>\n",
       "    <tr>\n",
       "      <td>50%</td>\n",
       "      <td>207.370000</td>\n",
       "      <td>7.000000</td>\n",
       "      <td>2008.000000</td>\n",
       "    </tr>\n",
       "    <tr>\n",
       "      <td>75%</td>\n",
       "      <td>313.825000</td>\n",
       "      <td>9.750000</td>\n",
       "      <td>2016.000000</td>\n",
       "    </tr>\n",
       "    <tr>\n",
       "      <td>max</td>\n",
       "      <td>1233.560000</td>\n",
       "      <td>22.000000</td>\n",
       "      <td>2016.000000</td>\n",
       "    </tr>\n",
       "  </tbody>\n",
       "</table>\n",
       "</div>"
      ],
      "text/plain": [
       "       total_sales     actual    last_year\n",
       "count    26.000000  26.000000    26.000000\n",
       "mean    313.650385   7.192308  2007.692308\n",
       "std     364.780645   4.604513     8.013834\n",
       "min       0.030000   1.000000  1995.000000\n",
       "25%      34.852500   4.250000  2001.000000\n",
       "50%     207.370000   7.000000  2008.000000\n",
       "75%     313.825000   9.750000  2016.000000\n",
       "max    1233.560000  22.000000  2016.000000"
      ]
     },
     "execution_count": 42,
     "metadata": {},
     "output_type": "execute_result"
    }
   ],
   "source": [
    "platform_sales.describe()"
   ]
  },
  {
   "cell_type": "markdown",
   "metadata": {},
   "source": [
    "Видно, что **характерный (медианный) срок жизни платформы составляет 7 лет** для выбранного временного периода 1995-2016 гг.\n",
    "\n",
    "Однако для дальнейшего анализа и прогнозов будем рассматривать не весь этот период, а половину - полупериод жизни - в качестве актуального. Из графика выше видно, что пик продаж наступает примерно через 3-4 года от появления платформы и такой временной отрезок позволит выявить платформы, которые находятся на пике или имеют растущие продажи, а также платформы с падающими продажами.\n",
    "\n",
    "Итого: примем за **актуальный период 4 года** (3,5 года с округлением в большую сторону) и соответственно **период с 2012 по 2016 год** для текущего набора данных, поскольку набор данных за 2016 год может быть не полным."
   ]
  },
  {
   "cell_type": "markdown",
   "metadata": {},
   "source": [
    "### Расчеты для актуального периода"
   ]
  },
  {
   "cell_type": "markdown",
   "metadata": {},
   "source": [
    "Определим платформы, которые лидируют по продажам, растут или падают за актуальный период. Для этого сначала найдем платформы, которые актуальны на дату последнего релиза во всем наборе данных:"
   ]
  },
  {
   "cell_type": "code",
   "execution_count": 43,
   "metadata": {},
   "outputs": [],
   "source": [
    "platform_lifetime = platform_sales['actual'].median()\n",
    "max_year = data_95['year_of_release'].max()"
   ]
  },
  {
   "cell_type": "code",
   "execution_count": 44,
   "metadata": {},
   "outputs": [
    {
     "data": {
      "text/html": [
       "<div>\n",
       "<style scoped>\n",
       "    .dataframe tbody tr th:only-of-type {\n",
       "        vertical-align: middle;\n",
       "    }\n",
       "\n",
       "    .dataframe tbody tr th {\n",
       "        vertical-align: top;\n",
       "    }\n",
       "\n",
       "    .dataframe thead th {\n",
       "        text-align: right;\n",
       "    }\n",
       "</style>\n",
       "<table border=\"1\" class=\"dataframe\">\n",
       "  <thead>\n",
       "    <tr style=\"text-align: right;\">\n",
       "      <th></th>\n",
       "      <th>total_sales</th>\n",
       "      <th>actual</th>\n",
       "      <th>last_year</th>\n",
       "    </tr>\n",
       "    <tr>\n",
       "      <th>platform</th>\n",
       "      <th></th>\n",
       "      <th></th>\n",
       "      <th></th>\n",
       "    </tr>\n",
       "  </thead>\n",
       "  <tbody>\n",
       "    <tr>\n",
       "      <td>x360</td>\n",
       "      <td>961.24</td>\n",
       "      <td>12.0</td>\n",
       "      <td>2016.0</td>\n",
       "    </tr>\n",
       "    <tr>\n",
       "      <td>ps3</td>\n",
       "      <td>931.34</td>\n",
       "      <td>11.0</td>\n",
       "      <td>2016.0</td>\n",
       "    </tr>\n",
       "    <tr>\n",
       "      <td>wii</td>\n",
       "      <td>891.18</td>\n",
       "      <td>11.0</td>\n",
       "      <td>2016.0</td>\n",
       "    </tr>\n",
       "    <tr>\n",
       "      <td>ps4</td>\n",
       "      <td>314.14</td>\n",
       "      <td>4.0</td>\n",
       "      <td>2016.0</td>\n",
       "    </tr>\n",
       "    <tr>\n",
       "      <td>3ds</td>\n",
       "      <td>257.81</td>\n",
       "      <td>6.0</td>\n",
       "      <td>2016.0</td>\n",
       "    </tr>\n",
       "    <tr>\n",
       "      <td>pc</td>\n",
       "      <td>239.79</td>\n",
       "      <td>22.0</td>\n",
       "      <td>2016.0</td>\n",
       "    </tr>\n",
       "    <tr>\n",
       "      <td>xone</td>\n",
       "      <td>159.32</td>\n",
       "      <td>4.0</td>\n",
       "      <td>2016.0</td>\n",
       "    </tr>\n",
       "    <tr>\n",
       "      <td>wiiu</td>\n",
       "      <td>82.19</td>\n",
       "      <td>5.0</td>\n",
       "      <td>2016.0</td>\n",
       "    </tr>\n",
       "    <tr>\n",
       "      <td>psv</td>\n",
       "      <td>53.81</td>\n",
       "      <td>6.0</td>\n",
       "      <td>2016.0</td>\n",
       "    </tr>\n",
       "  </tbody>\n",
       "</table>\n",
       "</div>"
      ],
      "text/plain": [
       "          total_sales  actual  last_year\n",
       "platform                                \n",
       "x360           961.24    12.0     2016.0\n",
       "ps3            931.34    11.0     2016.0\n",
       "wii            891.18    11.0     2016.0\n",
       "ps4            314.14     4.0     2016.0\n",
       "3ds            257.81     6.0     2016.0\n",
       "pc             239.79    22.0     2016.0\n",
       "xone           159.32     4.0     2016.0\n",
       "wiiu            82.19     5.0     2016.0\n",
       "psv             53.81     6.0     2016.0"
      ]
     },
     "execution_count": 44,
     "metadata": {},
     "output_type": "execute_result"
    }
   ],
   "source": [
    "platform_sales_actual = platform_sales.query('last_year == @max_year').sort_values(by = 'total_sales', ascending=False)\n",
    "platform_sales_actual"
   ]
  },
  {
   "cell_type": "markdown",
   "metadata": {},
   "source": [
    "Извлечем список платформ:"
   ]
  },
  {
   "cell_type": "code",
   "execution_count": 45,
   "metadata": {},
   "outputs": [
    {
     "name": "stdout",
     "output_type": "stream",
     "text": [
      "Список актуальных платформ: ['x360', 'ps3', 'wii', 'ps4', '3ds', 'pc', 'xone', 'wiiu', 'psv']\n"
     ]
    }
   ],
   "source": [
    "print('Список актуальных платформ:', platform_sales_actual.index.tolist())"
   ]
  },
  {
   "cell_type": "markdown",
   "metadata": {},
   "source": [
    "Отфильтруем сводную таблицу продаж для платформ по годам `platform_sales_per_year` для созданного списка действующих на последний (самый свежий) год в соответствии с актуальным периодом:"
   ]
  },
  {
   "cell_type": "code",
   "execution_count": 46,
   "metadata": {},
   "outputs": [],
   "source": [
    "platform_sales_per_year = platform_sales_per_year[\n",
    "    platform_sales_per_year['year_of_release'] >= (max_year - np.ceil(platform_lifetime / 2))\n",
    "].reset_index(drop=True)"
   ]
  },
  {
   "cell_type": "code",
   "execution_count": 47,
   "metadata": {},
   "outputs": [
    {
     "data": {
      "image/png": "[encoded data removed]",
      "text/plain": [
       "<Figure size 1152x432 with 1 Axes>"
      ]
     },
     "metadata": {
      "needs_background": "light"
     },
     "output_type": "display_data"
    }
   ],
   "source": [
    "platform_sales_per_year.plot.bar(x='year_of_release', y=platform_sales_actual.index, figsize=(16,6), grid=True)\n",
    "plt.xlabel(\"Год\", fontsize=12)\n",
    "plt.ylabel(\"Суммарный объем продаж, млн. копий \", fontsize=12)\n",
    "plt.legend(platform_sales_actual.index)\n",
    "plt.title(\"Распределение объемов продаж по годам для актуальных платформ\", fontsize=14)\n",
    "plt.show()"
   ]
  },
  {
   "cell_type": "markdown",
   "metadata": {},
   "source": [
    "Из графика видно, какие платформы лидируют по продажам, растут или падают:\n",
    "- в конце своего жизненного цикла находятся `x360`, `ps3`, `wii`;\n",
    "- падают `pc`, `psv`, `3ds`, `wiiu`;\n",
    "- на пике продаж находится `ps4` и `xone`.\n",
    "\n",
    "Полученное распределение позволяет сделать вывод, что на смену платформам `x360`, `ps3`, `wii`, `pc`, `psv`, `wiiu` пришли `ps4` и `xone`. А на последний год наиболее популярными являются платформы `3ds`, `ps4` и `xone`.\n",
    "\n",
    "Именно их определим как **наиболее перспективные: `ps4`, `xone` и `3ds`.** И добавим к ним медленно падающие платформы `wiiu`, `pc`."
   ]
  },
  {
   "cell_type": "markdown",
   "metadata": {},
   "source": [
    "### Ящик с усами и актуальный датасет"
   ]
  },
  {
   "cell_type": "markdown",
   "metadata": {},
   "source": [
    "Создадим датафрейм `data_analysis` с учетом актуального периода:"
   ]
  },
  {
   "cell_type": "code",
   "execution_count": 48,
   "metadata": {},
   "outputs": [],
   "source": [
    "perspective_platform = ['ps4', 'xone', '3ds', 'pc', 'wiiu']\n",
    "actual_year = max_year - np.ceil(platform_lifetime / 2)"
   ]
  },
  {
   "cell_type": "code",
   "execution_count": 49,
   "metadata": {},
   "outputs": [],
   "source": [
    "data_analysis = data.query('(year_of_release >= @actual_year)').reset_index(drop=True)"
   ]
  },
  {
   "cell_type": "code",
   "execution_count": 50,
   "metadata": {},
   "outputs": [
    {
     "data": {
      "image/png": "[encoded data removed]",
      "text/plain": [
       "<Figure size 720x432 with 1 Axes>"
      ]
     },
     "metadata": {
      "needs_background": "light"
     },
     "output_type": "display_data"
    }
   ],
   "source": [
    "plt.figure(figsize=(10, 6))\n",
    "sns.boxplot(x='platform', y='total_sales', data=data_analysis)\n",
    "plt.grid()\n",
    "plt.xlabel('')\n",
    "plt.ylabel('Суммарный объем продаж на платформе')\n",
    "plt.title('')\n",
    "plt.show()"
   ]
  },
  {
   "cell_type": "markdown",
   "metadata": {},
   "source": [
    "На графике выше хорошо видны выбросы для платформ в отфильтрованном для актуального периода датафрейма. Чтобы лучше рассмотреть сами ящики, укоротим вертикальную ось:"
   ]
  },
  {
   "cell_type": "code",
   "execution_count": 51,
   "metadata": {},
   "outputs": [
    {
     "data": {
      "image/png": "[encoded data removed]",
      "text/plain": [
       "<Figure size 720x432 with 1 Axes>"
      ]
     },
     "metadata": {
      "needs_background": "light"
     },
     "output_type": "display_data"
    }
   ],
   "source": [
    "plt.figure(figsize=(10, 6))\n",
    "sns.boxplot(x='platform', y='total_sales', data=data_analysis)\n",
    "plt.ylim([0, 2.5])\n",
    "plt.grid()\n",
    "plt.xlabel('')\n",
    "plt.ylabel('Суммарный объем продаж на платформе')\n",
    "plt.title('')\n",
    "plt.show()"
   ]
  },
  {
   "cell_type": "markdown",
   "metadata": {},
   "source": [
    "По распределениям для всех платформ, живущих в актуальном периоде, можно сказать, что:\n",
    "- плафтормы, которые мы определили как перспективные, показывают наилучшие результаты по объему продаж;\n",
    "- наибольшую медиану имеет платформа `x360` и наибольший ус;\n",
    "- медианы и межквартильный размах для платформ `ps4`, `wii` и `xone` сопоставимы; это означает, что 50% игр приносит для них обоих почти одинаковую прибыль и чуть меньше приносит `wiiu`;\n",
    "- платформа `3ds`, несмотря на довольно узкий \"ящик\", имеет много выбросов, как и `ps4`, `ps3`; это говорит о том, что у этих платформ значительное число игр-бестселлеров (\"выбросов\"), сильно выбивающихся по продажам по сравнению с большинством игр;\n",
    "- платформы `psp` и `ds` наиболее мелкие по объемам продаж среди платформ и почти не имеют игр-бестселлеров."
   ]
  },
  {
   "cell_type": "markdown",
   "metadata": {},
   "source": [
    "### Зависимость продаж и отзывов"
   ]
  },
  {
   "cell_type": "markdown",
   "metadata": {},
   "source": [
    "Изучим, как влияют на продажи внутри одной популярной платформы отзывы пользователей и критиков. Рассмотрим в качестве популярной платформы `ps4`. Для вычисления коэффициента корреляции и построения диаграмм рассеяния напишем собственную функцию:"
   ]
  },
  {
   "cell_type": "code",
   "execution_count": 52,
   "metadata": {},
   "outputs": [],
   "source": [
    "def corr_score_sales(pl_type, scores1, scores2=None):\n",
    "    print('Платформа ' + str(pl_type) + ':')\n",
    "    for column in [scores1, scores2]:\n",
    "        sample = data_analysis.query('(platform == @pl_type) and (user_score != -1) and (critic_score != -1)')\n",
    "        coef = sample['total_sales'].corr(sample[column])\n",
    "        print(f'Коэффициент корреляции для столбца {column} равен {coef:.2f}.')\n",
    "        if column == 'user_score':\n",
    "            sample.plot(x=column, y='total_sales', kind='scatter', alpha=0.5, figsize=(10,3), color='indigo')\n",
    "            plt.xlabel('Оценка пользователей', fontsize=10)\n",
    "            plt.title('Диаграмма рассеяния оценок пользователей', fontsize=12)\n",
    "        if column == 'critic_score':\n",
    "            sample.plot(x=column, y='total_sales', kind='scatter', alpha=0.5, figsize=(10,3), color='tomato')\n",
    "            plt.xlabel('Оценка критиков', fontsize=10)\n",
    "            plt.title('Диаграмма рассеяния оценок критиков', fontsize=12)\n",
    "        plt.ylabel('Суммарный объем продаж на платформе', fontsize=10)\n",
    "        plt.grid()\n",
    "        plt.show()"
   ]
  },
  {
   "cell_type": "code",
   "execution_count": 53,
   "metadata": {},
   "outputs": [
    {
     "name": "stdout",
     "output_type": "stream",
     "text": [
      "Платформа ps4:\n",
      "Коэффициент корреляции для столбца critic_score равен 0.41.\n"
     ]
    },
    {
     "data": {
      "image/png": "[encoded data removed]",
      "text/plain": [
       "<Figure size 720x216 with 1 Axes>"
      ]
     },
     "metadata": {
      "needs_background": "light"
     },
     "output_type": "display_data"
    },
    {
     "name": "stdout",
     "output_type": "stream",
     "text": [
      "Коэффициент корреляции для столбца user_score равен -0.03.\n"
     ]
    },
    {
     "data": {
      "image/png": "[encoded data removed]",
      "text/plain": [
       "<Figure size 720x216 with 1 Axes>"
      ]
     },
     "metadata": {
      "needs_background": "light"
     },
     "output_type": "display_data"
    }
   ],
   "source": [
    "corr_score_sales('ps4', 'critic_score', 'user_score')"
   ]
  },
  {
   "cell_type": "markdown",
   "metadata": {},
   "source": [
    "Коэффициент корреляции между продажами и отзывами критиков равен 0.41, что говорит о несильной положительной линейной связи. Это означает, что чем выше оценка критиков, тем выше продажи, но так происходит далеко не всегда. А вот между оценкой пользователей и продажами вообще нет никакой связи."
   ]
  },
  {
   "cell_type": "markdown",
   "metadata": {},
   "source": [
    "Оценим взаимосвязь между продажами и отзывами для других популярных платформ:"
   ]
  },
  {
   "cell_type": "code",
   "execution_count": 54,
   "metadata": {
    "scrolled": false
   },
   "outputs": [
    {
     "name": "stdout",
     "output_type": "stream",
     "text": [
      "Платформа 3ds:\n",
      "Коэффициент корреляции для столбца critic_score равен 0.31.\n"
     ]
    },
    {
     "data": {
      "image/png": "[encoded data removed]",
      "text/plain": [
       "<Figure size 720x216 with 1 Axes>"
      ]
     },
     "metadata": {
      "needs_background": "light"
     },
     "output_type": "display_data"
    },
    {
     "name": "stdout",
     "output_type": "stream",
     "text": [
      "Коэффициент корреляции для столбца user_score равен 0.20.\n"
     ]
    },
    {
     "data": {
      "image/png": "[encoded data removed]",
      "text/plain": [
       "<Figure size 720x216 with 1 Axes>"
      ]
     },
     "metadata": {
      "needs_background": "light"
     },
     "output_type": "display_data"
    },
    {
     "name": "stdout",
     "output_type": "stream",
     "text": [
      "Платформа xone:\n",
      "Коэффициент корреляции для столбца critic_score равен 0.41.\n"
     ]
    },
    {
     "data": {
      "image/png": "[encoded data removed]",
      "text/plain": [
       "<Figure size 720x216 with 1 Axes>"
      ]
     },
     "metadata": {
      "needs_background": "light"
     },
     "output_type": "display_data"
    },
    {
     "name": "stdout",
     "output_type": "stream",
     "text": [
      "Коэффициент корреляции для столбца user_score равен -0.09.\n"
     ]
    },
    {
     "data": {
      "image/png": "[encoded data removed]",
      "text/plain": [
       "<Figure size 720x216 with 1 Axes>"
      ]
     },
     "metadata": {
      "needs_background": "light"
     },
     "output_type": "display_data"
    },
    {
     "name": "stdout",
     "output_type": "stream",
     "text": [
      "Платформа wiiu:\n",
      "Коэффициент корреляции для столбца critic_score равен 0.35.\n"
     ]
    },
    {
     "data": {
      "image/png": "[encoded data removed]",
      "text/plain": [
       "<Figure size 720x216 with 1 Axes>"
      ]
     },
     "metadata": {
      "needs_background": "light"
     },
     "output_type": "display_data"
    },
    {
     "name": "stdout",
     "output_type": "stream",
     "text": [
      "Коэффициент корреляции для столбца user_score равен 0.39.\n"
     ]
    },
    {
     "data": {
      "image/png": "[encoded data removed]",
      "text/plain": [
       "<Figure size 720x216 with 1 Axes>"
      ]
     },
     "metadata": {
      "needs_background": "light"
     },
     "output_type": "display_data"
    },
    {
     "name": "stdout",
     "output_type": "stream",
     "text": [
      "Платформа pc:\n",
      "Коэффициент корреляции для столбца critic_score равен 0.24.\n"
     ]
    },
    {
     "data": {
      "image/png": "[encoded data removed]",
      "text/plain": [
       "<Figure size 720x216 with 1 Axes>"
      ]
     },
     "metadata": {
      "needs_background": "light"
     },
     "output_type": "display_data"
    },
    {
     "name": "stdout",
     "output_type": "stream",
     "text": [
      "Коэффициент корреляции для столбца user_score равен -0.14.\n"
     ]
    },
    {
     "data": {
      "image/png": "[encoded data removed]",
      "text/plain": [
       "<Figure size 720x216 with 1 Axes>"
      ]
     },
     "metadata": {
      "needs_background": "light"
     },
     "output_type": "display_data"
    }
   ],
   "source": [
    "corr_score_sales('3ds', 'critic_score', 'user_score')\n",
    "corr_score_sales('xone', 'critic_score', 'user_score')\n",
    "corr_score_sales('wiiu', 'critic_score', 'user_score')\n",
    "corr_score_sales('pc', 'critic_score', 'user_score')"
   ]
  },
  {
   "cell_type": "markdown",
   "metadata": {},
   "source": [
    "Для четырех других популярных платформ выводы о линейной взаимосвязи между отзывами критиков и пользователей и продажами остаются также верными."
   ]
  },
  {
   "cell_type": "markdown",
   "metadata": {},
   "source": [
    "Обобщая, можно сказать, что для платформ `xone`, `ps4`, `pc` не будет лишним ориентироваться на отзывы критиков, для платформ `wiiu` и `3ds` - и на отзывы критиков, и на отзывы пользователей, при этом для платформы `wiiu` чуть большее значение приобретают отзывы пользователей, а не критиков."
   ]
  },
  {
   "cell_type": "markdown",
   "metadata": {},
   "source": [
    "### Распределение игр по жанрам"
   ]
  },
  {
   "cell_type": "markdown",
   "metadata": {},
   "source": [
    "Сгруппируем данные за актуальный период по жанрам и построим диаграмму распределения:"
   ]
  },
  {
   "cell_type": "code",
   "execution_count": 55,
   "metadata": {},
   "outputs": [
    {
     "data": {
      "text/plain": [
       "Text(0.5, 1.0, 'Количество проданных игр по жанрам за актуальный период')"
      ]
     },
     "execution_count": 55,
     "metadata": {},
     "output_type": "execute_result"
    },
    {
     "data": {
      "image/png": "[encoded data removed]",
      "text/plain": [
       "<Figure size 720x288 with 1 Axes>"
      ]
     },
     "metadata": {
      "needs_background": "light"
     },
     "output_type": "display_data"
    }
   ],
   "source": [
    "data_analysis.pivot_table(index='genre', values='total_sales', aggfunc='sum').plot.bar(figsize=(10,4), grid=True)\n",
    "plt.xlabel('Жанр видеоигры')\n",
    "plt.ylabel('Количество проданных игр, млн. копий')\n",
    "plt.title('Количество проданных игр по жанрам за актуальный период')"
   ]
  },
  {
   "cell_type": "markdown",
   "metadata": {},
   "source": [
    "Всего в датафрейме за актуальный период для перспективных платформ содержатся игры 12 жанров, среди которых наиболее прибыльными являются игры жанров топ-5: *action*, *shooter*, *role-playing*, *sports* и *misc*."
   ]
  },
  {
   "cell_type": "markdown",
   "metadata": {},
   "source": [
    "Чтобы сравнить наиболее популярные жанры с остальными по объему продаж, построим их распределения в виде \"ящиков с усами\":"
   ]
  },
  {
   "cell_type": "code",
   "execution_count": 56,
   "metadata": {},
   "outputs": [
    {
     "data": {
      "image/png": "[encoded data removed]",
      "text/plain": [
       "<Figure size 1152x720 with 1 Axes>"
      ]
     },
     "metadata": {
      "needs_background": "light"
     },
     "output_type": "display_data"
    }
   ],
   "source": [
    "plt.figure(figsize=(16, 10))\n",
    "sns.boxplot(x='genre', y='total_sales', data=data_analysis)\n",
    "plt.grid()\n",
    "plt.xlabel('')\n",
    "plt.ylabel('Суммарный объем продаж по жанрам')\n",
    "plt.title('')\n",
    "plt.show()"
   ]
  },
  {
   "cell_type": "markdown",
   "metadata": {},
   "source": [
    "Добавим второй такой же график, чтобы поближе рассмотреть сами ящики:"
   ]
  },
  {
   "cell_type": "code",
   "execution_count": 57,
   "metadata": {},
   "outputs": [
    {
     "data": {
      "image/png": "[encoded data removed]",
      "text/plain": [
       "<Figure size 1152x720 with 1 Axes>"
      ]
     },
     "metadata": {
      "needs_background": "light"
     },
     "output_type": "display_data"
    }
   ],
   "source": [
    "plt.figure(figsize=(16, 10))\n",
    "sns.boxplot(x='genre', y='total_sales', data=data_analysis)\n",
    "plt.ylim([0, 4])\n",
    "plt.grid()\n",
    "plt.xlabel('')\n",
    "plt.ylabel('Суммарный объем продаж по жанрам')\n",
    "plt.title('')\n",
    "plt.show()"
   ]
  },
  {
   "cell_type": "markdown",
   "metadata": {},
   "source": [
    "По полученным распределениям для разных жанров можно сказать, что:\n",
    "- наиболее продаваемыми являются игры жанров топ-5, как и показала диаграмма выше;\n",
    "- среди них безусловный лидер - *shooter*, который имеет наибольшую дисперсию;\n",
    "- у игр жанров *action* и *role-playing* большой объем продаж составляют игры-бестселлеры (\"выбросы\");\n",
    "- хуже всего в актуальном периоде продаются игры *puzzle* и *adventure*."
   ]
  },
  {
   "cell_type": "markdown",
   "metadata": {},
   "source": [
    "### Выводы"
   ]
  },
  {
   "cell_type": "markdown",
   "metadata": {},
   "source": [
    "* Исследовательский анализ данных показал, что датасет содержит данные о видеоиграх с 1980 по 2016 год. Однако весь набор данных не интересен для анализа, поскольку до середины 90-х рынок компьютерных игр только набирал обороты. Был отфильтрован временной период 1995-2016 гг.\n",
    "* Распределение количества релизов игр по годам показало, что у платформ есть свой жизненный цикл. Характерный (медианный) срок жизни платформы составляет 7 лет для выбранного временного периода 1995-2016 гг.\n",
    "* Для дальнейшего анализа и прогнозов был принят именно этот срок в качестве актуального (7 лет) и период с 2010 по 2016 год для текущего набора данных соответственно.\n",
    "* Был выделен топ-10 самых популярных платформ, в тройке лидеров: `ps2`\tс 1,2 млрд проданных копий игр, затем с небольшой разницей `x360` с 0,96 млрд и `ps3` с 0,93 млрд проданных копий за период 1995-2016 гг.\n",
    "* Анализ объемов продаж по платформам показал, что наиболее перспективными платформами можно назвать `ps4`, `xone`, `3ds`, `wiiu`, `pc`.\n",
    "* По распределениям суммарных объемов продаж для перспективных платформ было выявлено, что у этих платформ имеется значительное число игр-бестселлеров.\n",
    "* Изучение влияния отзывов критиков и пользователей на продажи показало, что для платформ `xone`, `ps4`, `pc` не будет лишним ориентироваться на отзывы критиков, для платформ `wiiu` и `3ds` - и на отзывы критиков, и на отзывы пользователей, при этом для платформы `wiiu` чуть большее значение приобретают отзывы пользователей, а не критиков.\n",
    "* Был определен топ-5 наиболее популярных жанров: `action`, `shooter`, `role-playing`, `sports` и `misc`. Хуже всего в актуальном периоде продаются игры жанров `puzzle` и `adventure`."
   ]
  },
  {
   "cell_type": "markdown",
   "metadata": {},
   "source": [
    "## Портрет пользователя каждого региона"
   ]
  },
  {
   "cell_type": "markdown",
   "metadata": {},
   "source": [
    "### Популярные платформы по регионам"
   ]
  },
  {
   "cell_type": "markdown",
   "metadata": {},
   "source": [
    "Проанализируем, как меняются доли платформ в зависимости от региона, выделив топ-5 платформ. Для этого напишем собственную функцию, которая будет создавать сводные таблицы и строить по ним круговые диаграммы:"
   ]
  },
  {
   "cell_type": "code",
   "execution_count": 58,
   "metadata": {},
   "outputs": [],
   "source": [
    "def platform_for_region(region_sales, platform):\n",
    "    fig, axs = plt.subplots(1, len(region_sales), figsize=(20, 6))\n",
    "    i = 0\n",
    "    for region in region_sales:\n",
    "        df = data_analysis.pivot_table(index = platform, values = region, aggfunc = 'sum')\n",
    "        df = df[df[region] > 0].sort_values(by=region, ascending=False)[:5]\n",
    "        pie = df.plot(ax=axs[i], y=region, autopct='%1.1f%%', pctdistance=0.8, radius=1.2, kind='pie', startangle = 180)\n",
    "        pie.legend().remove()\n",
    "        pie.set_title(region)\n",
    "        i += 1\n",
    "        pie.set_ylabel(None)\n",
    "    plt.suptitle('Доля объема продаж по платформам', fontsize=16)\n",
    "    plt.show()"
   ]
  },
  {
   "cell_type": "code",
   "execution_count": 59,
   "metadata": {},
   "outputs": [
    {
     "data": {
      "image/png": "[encoded data removed]",
      "text/plain": [
       "<Figure size 1440x432 with 3 Axes>"
      ]
     },
     "metadata": {},
     "output_type": "display_data"
    }
   ],
   "source": [
    "region_sales = ['na_sales', 'eu_sales', 'jp_sales']\n",
    "platform_for_region(region_sales, 'platform')"
   ]
  },
  {
   "cell_type": "markdown",
   "metadata": {},
   "source": [
    "Распределение продаж по платформам различается по регионам:\n",
    "- в Северной Америке наиболее популярна платформа `x360` (28%), затем `ps4` (22%) и `ps3` (21%);\n",
    "- в Европе наибольшие продажи обеспечивает платформа `ps4` (34%), затем `ps3` (26%), следом `x360` (18%);\n",
    "- в Японии лидирующую позицию занимает платформа `3ds` (51%), следом  `ps3` (21%).\n"
   ]
  },
  {
   "cell_type": "markdown",
   "metadata": {},
   "source": [
    "### Популярные жанры по регионам"
   ]
  },
  {
   "cell_type": "markdown",
   "metadata": {},
   "source": [
    "Проанализируем, как меняются доли популярных жанров видеоигр (топ-5) в зависимости от региона. Для этого напишем собственную функцию, которая будет создавать сводные таблицы и строить по ним круговые диаграммы:"
   ]
  },
  {
   "cell_type": "code",
   "execution_count": 60,
   "metadata": {},
   "outputs": [],
   "source": [
    "def genre_for_region(region_sales):\n",
    "    fig, axs = plt.subplots(1, len(region_sales), figsize=(20, 6))\n",
    "    i = 0\n",
    "    for region in region_sales:\n",
    "        df = data_analysis.pivot_table(index = 'genre', values = region, aggfunc = 'sum')\n",
    "        df = df[df[region] > 0].sort_values(by = region, ascending = False)[:5]\n",
    "        pie = df.plot(ax=axs[i], y=region, autopct='%1.1f%%', pctdistance=0.8, radius=1.2, kind='pie', startangle = 180)\n",
    "        pie.legend().remove()\n",
    "        pie.set_title(region)\n",
    "        i += 1\n",
    "        pie.set_ylabel(None)\n",
    "    plt.suptitle('Доля объема продаж по жанрам', fontsize=16)\n",
    "    plt.show()"
   ]
  },
  {
   "cell_type": "code",
   "execution_count": 61,
   "metadata": {},
   "outputs": [
    {
     "data": {
      "image/png": "[encoded data removed]",
      "text/plain": [
       "<Figure size 1440x432 with 3 Axes>"
      ]
     },
     "metadata": {},
     "output_type": "display_data"
    }
   ],
   "source": [
    "genre_for_region(region_sales)"
   ]
  },
  {
   "cell_type": "markdown",
   "metadata": {},
   "source": [
    "По популярности жанров Северная Америка и Европа очень похожи. Отдельные жанры занимают следующие доли:\n",
    "- `action` около 35-38%;\n",
    "- `shooter` около 27-28%;\n",
    "- `sports` около 16%;\n",
    "- `role-playing` около 12-13%;\n",
    "- остальные 7-8% делятся между `misc` (NA) и `racing` (EU).\n",
    "\n",
    "В Японии ситуация, как и в случае с платформами, иная: есть один самый популярный жанр `role-playing` (44%), затем второй по популярности жанр `action` (35%), а остальные 20% делятся между `fighting`, `simulation`, `misc`."
   ]
  },
  {
   "cell_type": "markdown",
   "metadata": {},
   "source": [
    "### Рейтинг ESRB по регионам"
   ]
  },
  {
   "cell_type": "markdown",
   "metadata": {},
   "source": [
    "По аналогии оценим влияние рейтинга по регионам с помощью пользовательской функции:"
   ]
  },
  {
   "cell_type": "code",
   "execution_count": 62,
   "metadata": {},
   "outputs": [],
   "source": [
    "def rating_for_region(region_sales):\n",
    "    fig, axs = plt.subplots(1, len(region_sales), figsize=(20, 6))\n",
    "    i = 0\n",
    "    for region in region_sales:\n",
    "        df = data_analysis.pivot_table(index = 'rating', values = region, aggfunc = 'sum')\n",
    "        df = df[df[region] > 0].sort_values(by = region, ascending = False)[:5]\n",
    "        pie = df.plot(ax=axs[i], y=region, autopct='%1.1f%%', pctdistance=0.8, radius=1.2, kind='pie', startangle = 180)\n",
    "        pie.legend().remove()\n",
    "        pie.set_title(region)\n",
    "        i += 1\n",
    "        pie.set_ylabel(None)\n",
    "    plt.suptitle('Доля объема продаж по рейтингу ESRB', fontsize=16)\n",
    "    plt.show()"
   ]
  },
  {
   "cell_type": "code",
   "execution_count": 63,
   "metadata": {},
   "outputs": [
    {
     "data": {
      "image/png": "[encoded data removed]",
      "text/plain": [
       "<Figure size 1440x432 with 3 Axes>"
      ]
     },
     "metadata": {},
     "output_type": "display_data"
    }
   ],
   "source": [
    "rating_for_region(region_sales)"
   ]
  },
  {
   "cell_type": "markdown",
   "metadata": {},
   "source": [
    "Снова наблюдаем похожие распределения для Северной Америки и Европы и резкое отличие для Японии.\n",
    "* В первом случае наиболее популярны игры с рейтингом **M** (возраст 17+) (38-39%), затем **E** (для всех возрастных категорий) (19-22%), затем игры неизвестного жанра (17-18%), после **E10+** (возраст 10+) (11-12%) и в конце **T** (возраст 13+) (10-11%).\n",
    "* В Японии же на первом месте находятся игры неизвестного рейтинга (57%), затем **E** (для всех возрастных категорий) (15%),  **T** (возраст 13+) (14%), **M** (возраст 17+) (11%) и **E10+** (возраст 10+) (5%).\n",
    "\n",
    "Вопрос о 57% данных с неизвестным рейтингом по Японии следует выяснить."
   ]
  },
  {
   "cell_type": "markdown",
   "metadata": {},
   "source": [
    "### Выводы"
   ]
  },
  {
   "cell_type": "markdown",
   "metadata": {},
   "source": [
    "* Был составлен портрет пользователей трех регионов: Северная Америка, Европа и Азия.\n",
    "* В Северной Америке и Европе наиболее популярны платформы `x360`, `ps4` и `ps3`, отличаются только их распределение по местам в этом топ-3. В Японии лидирующую позицию занимает платформа `3ds`, обеспечивая половину объема продаж.\n",
    "* По популярности жанров Северная Америка и Европа очень похожи: больше всего продается игр `action` и `shooter`. В Японии же самый популярный жанр `role-playing`, второй по популярности жанр `action`.\n",
    "* По возрастному рейтингу распределения для Северной Америки и Европы схожи, а для Японии снова резкое отличие: в Европе и Америке наиболее популярны игры для возраста 17+, а затем для всех возрастных категорий; в Японии же на первом месте находятся игры неизвестного рейтинга (58%), затем для всех возрастных категорий. Вопрос с неизвестным рейтингом следует дополнительно прояснить."
   ]
  },
  {
   "cell_type": "markdown",
   "metadata": {},
   "source": [
    "## Проверка гипотез"
   ]
  },
  {
   "cell_type": "markdown",
   "metadata": {},
   "source": [
    "### Рейтинги Xbox One и PC одинаковые"
   ]
  },
  {
   "cell_type": "markdown",
   "metadata": {},
   "source": [
    "Проверим гипотезу о том, что средние пользовательские рейтинги платформ *Xbox One* и *PC* одинаковые.\n",
    "\n",
    "Для этого сформулируем нулевую гипотезу H0: средние пользовательские рейтинги платформ *Xbox One* и *PC* равны.\n",
    "\n",
    "Тогда альтернативная гипотеза H1 будет звучать так: средние пользовательские рейтинги платформ *Xbox One* и *PC* отличаются."
   ]
  },
  {
   "cell_type": "markdown",
   "metadata": {},
   "source": [
    "Создадим два объекта `series`, содержащих данные о средних пользовательских рейтингах двух платформ:"
   ]
  },
  {
   "cell_type": "code",
   "execution_count": 64,
   "metadata": {},
   "outputs": [],
   "source": [
    "sample_xbox = data_analysis.query('(platform == \"xone\") and (user_score != -1) and (critic_score != -1)')['user_score']"
   ]
  },
  {
   "cell_type": "code",
   "execution_count": 65,
   "metadata": {},
   "outputs": [],
   "source": [
    "sample_pc = data_analysis.query('platform == \"pc\"and (user_score != -1) and (critic_score != -1)')['user_score']"
   ]
  },
  {
   "cell_type": "markdown",
   "metadata": {},
   "source": [
    "Оценим дисперсии двух выборок. Если дисперсии будет отличаться более чем на 5%, то будем считать, что генеральные совокупности, из которых взяты эти выборки, отличаются по параметрам и тогда будем задавать в функции `st.ttest_ind` параметр `equal_var=False`."
   ]
  },
  {
   "cell_type": "code",
   "execution_count": 66,
   "metadata": {},
   "outputs": [
    {
     "name": "stdout",
     "output_type": "stream",
     "text": [
      "Дисперсия выборки sample_xbox: 1.8\n",
      "Дисперсия выборки sample_pc: 2.69\n",
      "Дисперсии двух выборок отличаются на 49.44%\n"
     ]
    }
   ],
   "source": [
    "variance_sample_xbox = np.var(sample_xbox, ddof=1).round(2)\n",
    "variance_sample_pc = np.var(sample_pc, ddof=1).round(2)\n",
    "print('Дисперсия выборки sample_xbox:', variance_sample_xbox)\n",
    "print('Дисперсия выборки sample_pc:', variance_sample_pc)\n",
    "diff = (variance_sample_xbox - variance_sample_pc) * 100 / variance_sample_xbox\n",
    "print(f'Дисперсии двух выборок отличаются на {abs(diff):.2f}%')"
   ]
  },
  {
   "cell_type": "markdown",
   "metadata": {},
   "source": [
    "Зададим пороговое значение *alpha* равным 0.05. Это означает, что будем проверять гипотезу о равенстве средних значений этих выборок на 95% уровне доверия:"
   ]
  },
  {
   "cell_type": "code",
   "execution_count": 67,
   "metadata": {},
   "outputs": [],
   "source": [
    "alpha = 0.05"
   ]
  },
  {
   "cell_type": "markdown",
   "metadata": {},
   "source": [
    "Воспользуемся встроенными в *Python* функциями для проверки статистических гипотез:"
   ]
  },
  {
   "cell_type": "code",
   "execution_count": 68,
   "metadata": {},
   "outputs": [],
   "source": [
    "results = st.ttest_ind (sample_xbox, sample_pc, equal_var=False)"
   ]
  },
  {
   "cell_type": "code",
   "execution_count": 69,
   "metadata": {},
   "outputs": [
    {
     "name": "stdout",
     "output_type": "stream",
     "text": [
      "p-значение: 0.5926561176517491\n"
     ]
    }
   ],
   "source": [
    "print('p-значение:', results.pvalue)"
   ]
  },
  {
   "cell_type": "code",
   "execution_count": 70,
   "metadata": {
    "scrolled": true
   },
   "outputs": [
    {
     "name": "stdout",
     "output_type": "stream",
     "text": [
      "Не получилось отвергнуть нулевую гипотезу\n"
     ]
    }
   ],
   "source": [
    "if results.pvalue < alpha:\n",
    "    print('Отвергаем нулевую гипотезу')\n",
    "else:\n",
    "    print('Не получилось отвергнуть нулевую гипотезу') "
   ]
  },
  {
   "cell_type": "markdown",
   "metadata": {},
   "source": [
    "Результаты статистического анализа показали, что при 5% уровне значимости нулевая гипотеза о равенстве средних пользовательских рейтингов платформ Xbox One и PC не отвергается. Это означает, что *средние пользовательские рейтинги по двум платформам с вероятностью 60% будут иметь схожие значения*."
   ]
  },
  {
   "cell_type": "markdown",
   "metadata": {},
   "source": [
    "### Рейтинги жанров Actions и Sports разные"
   ]
  },
  {
   "cell_type": "markdown",
   "metadata": {},
   "source": [
    "Проверим гипотезу о том, что средние пользовательские рейтинги жанров *Action* и *Sports* разные.\n",
    "\n",
    "Для этого сформулируем нулевую гипотезу H0: средние пользовательские рейтинги жанров *Action* и *Sports* равны.\n",
    "\n",
    "Тогда альтернативная гипотеза H1 будет звучать так: средние пользовательские рейтинги жанров *Action* и *Sports* отличаются."
   ]
  },
  {
   "cell_type": "markdown",
   "metadata": {},
   "source": [
    "Создадим два объекта `series`, содержащих данные о средних пользовательских рейтингах двух платформ:"
   ]
  },
  {
   "cell_type": "code",
   "execution_count": 71,
   "metadata": {},
   "outputs": [],
   "source": [
    "sample_action = data_analysis.query('genre == \"action\" and (user_score != -1) and (critic_score != -1)')['user_score']"
   ]
  },
  {
   "cell_type": "code",
   "execution_count": 72,
   "metadata": {},
   "outputs": [],
   "source": [
    "sample_sports = data_analysis.query('genre == \"sports\" and (user_score != -1) and (critic_score != -1)')['user_score']"
   ]
  },
  {
   "cell_type": "markdown",
   "metadata": {},
   "source": [
    "Оценим дисперсии двух выборок. Если дисперсии будет отличаться более чем на 5%, то будем считать, что генеральные совокупности, из которых взяты эти выборки, отличаются по параметрам и тогда будем задавать в функции `st.ttest_ind` параметр `equal_var=False`."
   ]
  },
  {
   "cell_type": "code",
   "execution_count": 73,
   "metadata": {},
   "outputs": [
    {
     "name": "stdout",
     "output_type": "stream",
     "text": [
      "Дисперсия выборки sample_action: 1.75\n",
      "Дисперсия выборки sample_sports: 1.99\n",
      "Дисперсии двух выборок отличаются на 13.71%\n"
     ]
    }
   ],
   "source": [
    "variance_sample_action = np.var(sample_action, ddof=1).round(2)\n",
    "variance_sample_sports = np.var(sample_sports, ddof=1).round(2)\n",
    "print('Дисперсия выборки sample_action:', variance_sample_action)\n",
    "print('Дисперсия выборки sample_sports:', variance_sample_sports)\n",
    "diff = (variance_sample_action - variance_sample_sports) * 100 / variance_sample_action\n",
    "print(f'Дисперсии двух выборок отличаются на {abs(diff):.2f}%')"
   ]
  },
  {
   "cell_type": "markdown",
   "metadata": {},
   "source": [
    "Зададим пороговое значение *alpha* равным 0.05. Это означает, что будем проверять гипотезу о равенстве средних значений этих выборок на 95% уровне доверия:"
   ]
  },
  {
   "cell_type": "code",
   "execution_count": 74,
   "metadata": {},
   "outputs": [],
   "source": [
    "alpha = 0.05"
   ]
  },
  {
   "cell_type": "markdown",
   "metadata": {},
   "source": [
    "Воспользуемся встроенными в *Python* функциями для проверки статистических гипотез:"
   ]
  },
  {
   "cell_type": "code",
   "execution_count": 75,
   "metadata": {},
   "outputs": [],
   "source": [
    "results = st.ttest_ind (sample_action, sample_sports, equal_var=False)"
   ]
  },
  {
   "cell_type": "code",
   "execution_count": 76,
   "metadata": {},
   "outputs": [
    {
     "name": "stdout",
     "output_type": "stream",
     "text": [
      "p-значение: 5.858072645452818e-14\n"
     ]
    }
   ],
   "source": [
    "print('p-значение:', results.pvalue)"
   ]
  },
  {
   "cell_type": "code",
   "execution_count": 77,
   "metadata": {
    "scrolled": true
   },
   "outputs": [
    {
     "name": "stdout",
     "output_type": "stream",
     "text": [
      "Отвергаем нулевую гипотезу\n"
     ]
    }
   ],
   "source": [
    "if results.pvalue < alpha:\n",
    "    print('Отвергаем нулевую гипотезу')\n",
    "else:\n",
    "    print('Не получилось отвергнуть нулевую гипотезу') "
   ]
  },
  {
   "cell_type": "markdown",
   "metadata": {},
   "source": [
    "Результаты статистического анализа показали, что при 5% уровне значимости нулевая гипотеза о равенстве средних пользовательских рейтингов жанров *Action* и *Sports* отвергается. Это означает, что *средние пользовательские рейтинги по двум жанрам существенно отличаются* и, если бы мы утверждали, что средние рейтинги равны, то ошибались бы в 95% случаев."
   ]
  },
  {
   "cell_type": "markdown",
   "metadata": {},
   "source": [
    "### Выводы"
   ]
  },
  {
   "cell_type": "markdown",
   "metadata": {},
   "source": [
    "* С помощью статистического анализа были проверены две гипотезы с уровнем значимости *alpha* = 5%.\n",
    "* Первая нулевая гипотеза состояла в том, что средние пользовательские рейтинги платформ *Xbox One* и *PC* равны. По результатам исследования эта нулевая гипотеза не была отвергнута. Это означает, что средние пользовательские рейтинги по двум платформам с вероятностью 99% будут иметь схожие значения.\n",
    "* Вторая нулевая гипотеза состояла в том, что средние пользовательские рейтинги жанров *Action* и *Sports* равны. По результатам исследования эта нулаевая гипотеза была отвергнута. Это означает, что средние пользовательские рейтинги по двум жанрам существенно отличаются и, если бы мы утверждали, что средние рейтинги равны, то ошибались бы в 95% случаев."
   ]
  },
  {
   "cell_type": "markdown",
   "metadata": {},
   "source": [
    "## Общий вывод"
   ]
  },
  {
   "cell_type": "markdown",
   "metadata": {},
   "source": [
    "1. Целью проекта было выявить закономерности, определяющие успешность компьютерных игр, с тем, чтобы для любого года можно было сделать ставку на потенциально популярный продукт, основываясь на исторических данных за некоторый актуальный период.\n",
    "2. Было обнаружено, что платформы имеют свой жизненный цикл, в среднем длящийся 7 лет. Половина этой длительности была выбрана в качестве актуального периода и может использоваться для дальнейших прогнозов.\n",
    "3. Анализ данных показал, что успех компьютерных игр зависит от многих параметров и нет одного или двух однозначно определяющих параметров.\n",
    "\n",
    "**При составлении прогноза и определении потенциально популярных продуктов на 2017 год следует принять во внимание следующее**:\n",
    "- игра должна находиться в списке популярных платформ: *ps4*, *xone*, *3ds*, *wiiu*, *pc*;\n",
    "- желательно в одном из популярных жанров: *action*, *shooter*, *role-playing*, *sports* и *misc*;\n",
    "- иметь отличные рейтинги от критиков;\n",
    "- иметь возрастной рейтинг *E* или *M*.\n",
    "\n",
    "**Обязательно нужно учитывать географическую специфику рынка:**\n",
    "- в Северной Америке и Европе наиболее популярны платформы *x360*, *ps4* и *ps3*, в Японии лидирующую позицию занимает платформа *3ds*;\n",
    "- в Северной Америке и Европе наиболее популярны игры жанров *action* и *shooter*, в Японии - *role-playing* и *action*;\n",
    "- в Северной Америке и Европе по возрастному рейтингу наиболее популярны игры для возраста 17+, в Японии - для всех возрастных категорий."
   ]
  }
 ],
 "metadata": {
  "ExecuteTimeLog": [
   {
    "duration": 629,
    "start_time": "2021-12-25T18:36:02.750Z"
   },
   {
    "duration": 40,
    "start_time": "2021-12-25T18:36:04.373Z"
   },
   {
    "duration": 17,
    "start_time": "2021-12-25T18:36:11.042Z"
   },
   {
    "duration": 10,
    "start_time": "2021-12-25T18:36:26.834Z"
   },
   {
    "duration": 1157,
    "start_time": "2021-12-26T12:01:37.046Z"
   },
   {
    "duration": 2,
    "start_time": "2021-12-26T12:01:49.019Z"
   },
   {
    "duration": 37,
    "start_time": "2021-12-26T12:02:18.992Z"
   },
   {
    "duration": 15,
    "start_time": "2021-12-26T12:02:20.560Z"
   },
   {
    "duration": 404,
    "start_time": "2021-12-26T12:18:11.962Z"
   },
   {
    "duration": 4,
    "start_time": "2021-12-26T12:18:19.897Z"
   },
   {
    "duration": 4,
    "start_time": "2021-12-26T12:18:28.723Z"
   },
   {
    "duration": 12,
    "start_time": "2021-12-26T12:18:38.786Z"
   },
   {
    "duration": 3,
    "start_time": "2021-12-26T12:18:43.443Z"
   },
   {
    "duration": 303,
    "start_time": "2021-12-26T12:18:44.905Z"
   },
   {
    "duration": 276,
    "start_time": "2021-12-26T12:18:51.939Z"
   },
   {
    "duration": 1264,
    "start_time": "2021-12-26T12:20:03.434Z"
   },
   {
    "duration": 48,
    "start_time": "2021-12-26T12:20:04.701Z"
   },
   {
    "duration": 19,
    "start_time": "2021-12-26T12:20:04.751Z"
   },
   {
    "duration": 9,
    "start_time": "2021-12-26T12:20:04.771Z"
   },
   {
    "duration": 2,
    "start_time": "2021-12-26T12:20:04.782Z"
   },
   {
    "duration": 4,
    "start_time": "2021-12-26T12:20:06.291Z"
   },
   {
    "duration": 11,
    "start_time": "2021-12-26T12:20:07.076Z"
   },
   {
    "duration": 7,
    "start_time": "2021-12-26T12:22:04.804Z"
   },
   {
    "duration": 363,
    "start_time": "2021-12-26T12:22:19.495Z"
   },
   {
    "duration": 12,
    "start_time": "2021-12-26T12:22:22.724Z"
   },
   {
    "duration": 9,
    "start_time": "2021-12-26T12:23:10.372Z"
   },
   {
    "duration": 7,
    "start_time": "2021-12-26T12:23:26.164Z"
   },
   {
    "duration": 3,
    "start_time": "2021-12-26T12:29:39.205Z"
   },
   {
    "duration": 589,
    "start_time": "2021-12-26T12:30:07.125Z"
   },
   {
    "duration": 3,
    "start_time": "2021-12-26T12:30:30.149Z"
   },
   {
    "duration": 18,
    "start_time": "2021-12-26T12:30:31.526Z"
   },
   {
    "duration": 14,
    "start_time": "2021-12-26T12:34:23.287Z"
   },
   {
    "duration": 305,
    "start_time": "2021-12-26T12:37:11.718Z"
   },
   {
    "duration": 1989,
    "start_time": "2021-12-26T12:37:48.182Z"
   },
   {
    "duration": 6,
    "start_time": "2021-12-26T12:38:48.503Z"
   },
   {
    "duration": 8,
    "start_time": "2021-12-26T12:39:03.191Z"
   },
   {
    "duration": 8,
    "start_time": "2021-12-26T12:39:18.038Z"
   },
   {
    "duration": 6,
    "start_time": "2021-12-26T12:39:39.686Z"
   },
   {
    "duration": 7,
    "start_time": "2021-12-26T12:39:48.806Z"
   },
   {
    "duration": 6,
    "start_time": "2021-12-26T12:39:59.543Z"
   },
   {
    "duration": 7275,
    "start_time": "2021-12-26T12:40:08.246Z"
   },
   {
    "duration": 6,
    "start_time": "2021-12-26T12:40:16.551Z"
   },
   {
    "duration": 7,
    "start_time": "2021-12-26T12:40:33.078Z"
   },
   {
    "duration": 8,
    "start_time": "2021-12-26T12:41:01.687Z"
   },
   {
    "duration": 5,
    "start_time": "2021-12-26T12:41:42.358Z"
   },
   {
    "duration": 1036,
    "start_time": "2021-12-26T12:42:11.628Z"
   },
   {
    "duration": 37,
    "start_time": "2021-12-26T12:42:12.666Z"
   },
   {
    "duration": 14,
    "start_time": "2021-12-26T12:42:12.705Z"
   },
   {
    "duration": 10,
    "start_time": "2021-12-26T12:42:12.721Z"
   },
   {
    "duration": 4,
    "start_time": "2021-12-26T12:42:12.732Z"
   },
   {
    "duration": 15,
    "start_time": "2021-12-26T12:42:12.737Z"
   },
   {
    "duration": 6,
    "start_time": "2021-12-26T12:42:12.753Z"
   },
   {
    "duration": 4,
    "start_time": "2021-12-26T12:42:12.761Z"
   },
   {
    "duration": 22,
    "start_time": "2021-12-26T12:42:12.767Z"
   },
   {
    "duration": 11,
    "start_time": "2021-12-26T12:42:12.791Z"
   },
   {
    "duration": 28,
    "start_time": "2021-12-26T12:42:12.803Z"
   },
   {
    "duration": -26,
    "start_time": "2021-12-26T12:42:14.832Z"
   },
   {
    "duration": -31,
    "start_time": "2021-12-26T12:42:14.838Z"
   },
   {
    "duration": -36,
    "start_time": "2021-12-26T12:42:14.843Z"
   },
   {
    "duration": -39,
    "start_time": "2021-12-26T12:42:14.847Z"
   },
   {
    "duration": -46,
    "start_time": "2021-12-26T12:42:14.855Z"
   },
   {
    "duration": -47,
    "start_time": "2021-12-26T12:42:14.857Z"
   },
   {
    "duration": -48,
    "start_time": "2021-12-26T12:42:14.859Z"
   },
   {
    "duration": -50,
    "start_time": "2021-12-26T12:42:14.861Z"
   },
   {
    "duration": -51,
    "start_time": "2021-12-26T12:42:14.863Z"
   },
   {
    "duration": -53,
    "start_time": "2021-12-26T12:42:14.866Z"
   },
   {
    "duration": -55,
    "start_time": "2021-12-26T12:42:14.869Z"
   },
   {
    "duration": -56,
    "start_time": "2021-12-26T12:42:14.871Z"
   },
   {
    "duration": -58,
    "start_time": "2021-12-26T12:42:14.874Z"
   },
   {
    "duration": 3,
    "start_time": "2021-12-26T12:42:23.889Z"
   },
   {
    "duration": 37,
    "start_time": "2021-12-26T12:42:23.894Z"
   },
   {
    "duration": 11,
    "start_time": "2021-12-26T12:42:23.933Z"
   },
   {
    "duration": 10,
    "start_time": "2021-12-26T12:42:23.945Z"
   },
   {
    "duration": 2,
    "start_time": "2021-12-26T12:42:23.957Z"
   },
   {
    "duration": 12,
    "start_time": "2021-12-26T12:42:23.961Z"
   },
   {
    "duration": 7,
    "start_time": "2021-12-26T12:42:32.182Z"
   },
   {
    "duration": 3,
    "start_time": "2021-12-26T12:42:34.390Z"
   },
   {
    "duration": 18,
    "start_time": "2021-12-26T12:42:34.938Z"
   },
   {
    "duration": 11,
    "start_time": "2021-12-26T12:42:35.141Z"
   },
   {
    "duration": 4,
    "start_time": "2021-12-26T12:42:36.857Z"
   },
   {
    "duration": 5,
    "start_time": "2021-12-26T12:43:25.479Z"
   },
   {
    "duration": 5,
    "start_time": "2021-12-26T12:43:40.696Z"
   },
   {
    "duration": 11,
    "start_time": "2021-12-26T12:50:43.672Z"
   },
   {
    "duration": 13,
    "start_time": "2021-12-26T12:50:49.724Z"
   },
   {
    "duration": 373,
    "start_time": "2021-12-26T12:51:06.440Z"
   },
   {
    "duration": 1331,
    "start_time": "2021-12-26T12:51:10.663Z"
   },
   {
    "duration": -53,
    "start_time": "2021-12-26T12:51:12.050Z"
   },
   {
    "duration": 1339,
    "start_time": "2021-12-26T12:51:52.952Z"
   },
   {
    "duration": 38,
    "start_time": "2021-12-26T12:51:54.293Z"
   },
   {
    "duration": 14,
    "start_time": "2021-12-26T12:51:54.333Z"
   },
   {
    "duration": 10,
    "start_time": "2021-12-26T12:51:54.349Z"
   },
   {
    "duration": 2,
    "start_time": "2021-12-26T12:51:54.361Z"
   },
   {
    "duration": 12,
    "start_time": "2021-12-26T12:51:54.364Z"
   },
   {
    "duration": 6,
    "start_time": "2021-12-26T12:51:54.378Z"
   },
   {
    "duration": 5,
    "start_time": "2021-12-26T12:51:54.385Z"
   },
   {
    "duration": 50,
    "start_time": "2021-12-26T12:51:54.392Z"
   },
   {
    "duration": 16,
    "start_time": "2021-12-26T12:51:54.444Z"
   },
   {
    "duration": 391,
    "start_time": "2021-12-26T12:52:10.312Z"
   },
   {
    "duration": 4,
    "start_time": "2021-12-26T12:52:27.707Z"
   },
   {
    "duration": 5,
    "start_time": "2021-12-26T12:54:51.320Z"
   },
   {
    "duration": 5,
    "start_time": "2021-12-26T12:55:10.201Z"
   },
   {
    "duration": 7,
    "start_time": "2021-12-26T12:55:24.026Z"
   },
   {
    "duration": 9,
    "start_time": "2021-12-26T12:57:00.202Z"
   },
   {
    "duration": 8,
    "start_time": "2021-12-26T13:07:03.514Z"
   },
   {
    "duration": 11,
    "start_time": "2021-12-26T13:07:18.265Z"
   },
   {
    "duration": 12,
    "start_time": "2021-12-26T13:07:23.658Z"
   },
   {
    "duration": 2303,
    "start_time": "2021-12-26T13:08:43.739Z"
   },
   {
    "duration": 1176,
    "start_time": "2021-12-26T13:08:57.297Z"
   },
   {
    "duration": 39,
    "start_time": "2021-12-26T13:08:58.475Z"
   },
   {
    "duration": 16,
    "start_time": "2021-12-26T13:08:58.517Z"
   },
   {
    "duration": 11,
    "start_time": "2021-12-26T13:08:58.535Z"
   },
   {
    "duration": 10,
    "start_time": "2021-12-26T13:08:58.548Z"
   },
   {
    "duration": 4,
    "start_time": "2021-12-26T13:08:58.559Z"
   },
   {
    "duration": 5,
    "start_time": "2021-12-26T13:08:58.564Z"
   },
   {
    "duration": 22,
    "start_time": "2021-12-26T13:08:58.571Z"
   },
   {
    "duration": 38,
    "start_time": "2021-12-26T13:08:58.595Z"
   },
   {
    "duration": 8,
    "start_time": "2021-12-26T13:08:58.635Z"
   },
   {
    "duration": 12,
    "start_time": "2021-12-26T13:08:58.645Z"
   },
   {
    "duration": 13,
    "start_time": "2021-12-26T13:09:01.976Z"
   },
   {
    "duration": 2900,
    "start_time": "2021-12-26T13:09:32.761Z"
   },
   {
    "duration": 1087,
    "start_time": "2021-12-26T13:09:41.089Z"
   },
   {
    "duration": 37,
    "start_time": "2021-12-26T13:09:42.178Z"
   },
   {
    "duration": 14,
    "start_time": "2021-12-26T13:09:42.217Z"
   },
   {
    "duration": 8,
    "start_time": "2021-12-26T13:09:42.233Z"
   },
   {
    "duration": 12,
    "start_time": "2021-12-26T13:09:42.243Z"
   },
   {
    "duration": 3,
    "start_time": "2021-12-26T13:09:42.256Z"
   },
   {
    "duration": 7,
    "start_time": "2021-12-26T13:09:42.260Z"
   },
   {
    "duration": 20,
    "start_time": "2021-12-26T13:09:42.269Z"
   },
   {
    "duration": 10,
    "start_time": "2021-12-26T13:09:42.290Z"
   },
   {
    "duration": 25,
    "start_time": "2021-12-26T13:09:42.302Z"
   },
   {
    "duration": 8,
    "start_time": "2021-12-26T13:09:42.328Z"
   },
   {
    "duration": 12,
    "start_time": "2021-12-26T13:09:44.570Z"
   },
   {
    "duration": 10,
    "start_time": "2021-12-26T13:10:12.459Z"
   },
   {
    "duration": 13,
    "start_time": "2021-12-26T13:12:13.404Z"
   },
   {
    "duration": 14,
    "start_time": "2021-12-26T13:12:18.635Z"
   },
   {
    "duration": 9,
    "start_time": "2021-12-26T13:12:40.395Z"
   },
   {
    "duration": 10,
    "start_time": "2021-12-26T13:12:47.195Z"
   },
   {
    "duration": 11,
    "start_time": "2021-12-26T13:12:49.787Z"
   },
   {
    "duration": 6,
    "start_time": "2021-12-26T13:14:11.947Z"
   },
   {
    "duration": 6,
    "start_time": "2021-12-26T13:15:18.090Z"
   },
   {
    "duration": 5,
    "start_time": "2021-12-26T13:15:22.731Z"
   },
   {
    "duration": 5,
    "start_time": "2021-12-26T13:15:26.299Z"
   },
   {
    "duration": 18,
    "start_time": "2021-12-26T13:15:38.571Z"
   },
   {
    "duration": 10,
    "start_time": "2021-12-26T13:16:52.923Z"
   },
   {
    "duration": 12,
    "start_time": "2021-12-26T13:16:54.555Z"
   },
   {
    "duration": 10,
    "start_time": "2021-12-26T13:17:05.403Z"
   },
   {
    "duration": 12,
    "start_time": "2021-12-26T13:34:11.517Z"
   },
   {
    "duration": 6,
    "start_time": "2021-12-26T13:34:55.613Z"
   },
   {
    "duration": 4,
    "start_time": "2021-12-26T13:41:40.749Z"
   },
   {
    "duration": 376,
    "start_time": "2021-12-26T13:43:54.287Z"
   },
   {
    "duration": 10,
    "start_time": "2021-12-26T13:43:59.966Z"
   },
   {
    "duration": 619,
    "start_time": "2021-12-26T13:45:16.527Z"
   },
   {
    "duration": 367,
    "start_time": "2021-12-26T13:45:30.317Z"
   },
   {
    "duration": 1132,
    "start_time": "2021-12-26T13:47:32.106Z"
   },
   {
    "duration": 37,
    "start_time": "2021-12-26T13:47:33.240Z"
   },
   {
    "duration": 13,
    "start_time": "2021-12-26T13:47:33.279Z"
   },
   {
    "duration": 10,
    "start_time": "2021-12-26T13:47:33.294Z"
   },
   {
    "duration": 7,
    "start_time": "2021-12-26T13:47:33.306Z"
   },
   {
    "duration": 14,
    "start_time": "2021-12-26T13:47:33.314Z"
   },
   {
    "duration": 4,
    "start_time": "2021-12-26T13:47:33.329Z"
   },
   {
    "duration": 20,
    "start_time": "2021-12-26T13:47:33.335Z"
   },
   {
    "duration": 6,
    "start_time": "2021-12-26T13:47:33.357Z"
   },
   {
    "duration": 8,
    "start_time": "2021-12-26T13:47:33.364Z"
   },
   {
    "duration": 11,
    "start_time": "2021-12-26T13:47:33.373Z"
   },
   {
    "duration": 6,
    "start_time": "2021-12-26T13:47:33.386Z"
   },
   {
    "duration": 39,
    "start_time": "2021-12-26T13:47:33.394Z"
   },
   {
    "duration": 400,
    "start_time": "2021-12-26T13:49:14.076Z"
   },
   {
    "duration": 11,
    "start_time": "2021-12-26T13:51:11.612Z"
   },
   {
    "duration": 10,
    "start_time": "2021-12-26T13:51:48.044Z"
   },
   {
    "duration": 6,
    "start_time": "2021-12-26T13:51:51.963Z"
   },
   {
    "duration": 11,
    "start_time": "2021-12-26T13:51:59.868Z"
   },
   {
    "duration": 309,
    "start_time": "2021-12-26T13:52:37.629Z"
   },
   {
    "duration": 22,
    "start_time": "2021-12-26T13:52:53.932Z"
   },
   {
    "duration": 1082,
    "start_time": "2021-12-26T13:53:25.166Z"
   },
   {
    "duration": 39,
    "start_time": "2021-12-26T13:53:26.249Z"
   },
   {
    "duration": 14,
    "start_time": "2021-12-26T13:53:26.290Z"
   },
   {
    "duration": 11,
    "start_time": "2021-12-26T13:53:26.305Z"
   },
   {
    "duration": 14,
    "start_time": "2021-12-26T13:53:26.318Z"
   },
   {
    "duration": 13,
    "start_time": "2021-12-26T13:53:26.334Z"
   },
   {
    "duration": 6,
    "start_time": "2021-12-26T13:53:26.349Z"
   },
   {
    "duration": 20,
    "start_time": "2021-12-26T13:53:26.357Z"
   },
   {
    "duration": 8,
    "start_time": "2021-12-26T13:53:26.380Z"
   },
   {
    "duration": 11,
    "start_time": "2021-12-26T13:53:26.390Z"
   },
   {
    "duration": 40,
    "start_time": "2021-12-26T13:53:26.403Z"
   },
   {
    "duration": 18,
    "start_time": "2021-12-26T13:53:26.445Z"
   },
   {
    "duration": 2,
    "start_time": "2021-12-26T13:53:26.465Z"
   },
   {
    "duration": 6,
    "start_time": "2021-12-26T13:53:27.535Z"
   },
   {
    "duration": 30,
    "start_time": "2021-12-26T13:53:28.302Z"
   },
   {
    "duration": 17,
    "start_time": "2021-12-26T13:53:55.006Z"
   },
   {
    "duration": 23,
    "start_time": "2021-12-26T13:54:00.926Z"
   },
   {
    "duration": 10,
    "start_time": "2021-12-26T13:55:42.126Z"
   },
   {
    "duration": 7,
    "start_time": "2021-12-26T13:56:38.606Z"
   },
   {
    "duration": 10,
    "start_time": "2021-12-26T13:56:52.189Z"
   },
   {
    "duration": 6,
    "start_time": "2021-12-26T13:57:03.726Z"
   },
   {
    "duration": 11,
    "start_time": "2021-12-26T13:58:25.310Z"
   },
   {
    "duration": 92,
    "start_time": "2021-12-26T13:58:46.862Z"
   },
   {
    "duration": 7,
    "start_time": "2021-12-26T13:58:52.846Z"
   },
   {
    "duration": 5,
    "start_time": "2021-12-26T14:01:27.054Z"
   },
   {
    "duration": 367,
    "start_time": "2021-12-26T14:02:48.687Z"
   },
   {
    "duration": 1128,
    "start_time": "2021-12-26T14:03:08.236Z"
   },
   {
    "duration": 42,
    "start_time": "2021-12-26T14:03:09.365Z"
   },
   {
    "duration": 14,
    "start_time": "2021-12-26T14:03:09.409Z"
   },
   {
    "duration": 12,
    "start_time": "2021-12-26T14:03:09.425Z"
   },
   {
    "duration": 14,
    "start_time": "2021-12-26T14:03:09.438Z"
   },
   {
    "duration": 3,
    "start_time": "2021-12-26T14:03:09.453Z"
   },
   {
    "duration": 8,
    "start_time": "2021-12-26T14:03:09.458Z"
   },
   {
    "duration": 24,
    "start_time": "2021-12-26T14:03:09.468Z"
   },
   {
    "duration": 6,
    "start_time": "2021-12-26T14:03:09.493Z"
   },
   {
    "duration": 8,
    "start_time": "2021-12-26T14:03:09.501Z"
   },
   {
    "duration": 19,
    "start_time": "2021-12-26T14:03:09.510Z"
   },
   {
    "duration": 8,
    "start_time": "2021-12-26T14:03:09.531Z"
   },
   {
    "duration": 8,
    "start_time": "2021-12-26T14:03:09.540Z"
   },
   {
    "duration": 5,
    "start_time": "2021-12-26T14:03:12.638Z"
   },
   {
    "duration": 308,
    "start_time": "2021-12-26T14:04:05.538Z"
   },
   {
    "duration": 1137,
    "start_time": "2021-12-26T14:04:23.629Z"
   },
   {
    "duration": 35,
    "start_time": "2021-12-26T14:04:24.768Z"
   },
   {
    "duration": 15,
    "start_time": "2021-12-26T14:04:24.806Z"
   },
   {
    "duration": 10,
    "start_time": "2021-12-26T14:04:24.823Z"
   },
   {
    "duration": 9,
    "start_time": "2021-12-26T14:04:24.835Z"
   },
   {
    "duration": 3,
    "start_time": "2021-12-26T14:04:24.846Z"
   },
   {
    "duration": 4,
    "start_time": "2021-12-26T14:04:24.851Z"
   },
   {
    "duration": 19,
    "start_time": "2021-12-26T14:04:24.857Z"
   },
   {
    "duration": 7,
    "start_time": "2021-12-26T14:04:24.879Z"
   },
   {
    "duration": 42,
    "start_time": "2021-12-26T14:04:24.888Z"
   },
   {
    "duration": 13,
    "start_time": "2021-12-26T14:04:24.931Z"
   },
   {
    "duration": 9,
    "start_time": "2021-12-26T14:04:24.946Z"
   },
   {
    "duration": 10,
    "start_time": "2021-12-26T14:04:26.796Z"
   },
   {
    "duration": 5,
    "start_time": "2021-12-26T14:04:28.604Z"
   },
   {
    "duration": 88,
    "start_time": "2021-12-26T14:04:55.182Z"
   },
   {
    "duration": 8,
    "start_time": "2021-12-26T14:05:01.917Z"
   },
   {
    "duration": 4,
    "start_time": "2021-12-26T14:05:12.572Z"
   },
   {
    "duration": 9,
    "start_time": "2021-12-26T14:05:29.836Z"
   },
   {
    "duration": 4,
    "start_time": "2021-12-26T14:05:37.212Z"
   },
   {
    "duration": 12,
    "start_time": "2021-12-26T14:05:47.996Z"
   },
   {
    "duration": 4,
    "start_time": "2021-12-26T14:05:48.525Z"
   },
   {
    "duration": 8,
    "start_time": "2021-12-26T14:06:17.789Z"
   },
   {
    "duration": 4,
    "start_time": "2021-12-26T14:06:18.318Z"
   },
   {
    "duration": 5,
    "start_time": "2021-12-26T14:07:52.300Z"
   },
   {
    "duration": 12,
    "start_time": "2021-12-26T14:08:05.341Z"
   },
   {
    "duration": 7,
    "start_time": "2021-12-26T14:11:43.612Z"
   },
   {
    "duration": 8,
    "start_time": "2021-12-26T14:18:01.471Z"
   },
   {
    "duration": 13,
    "start_time": "2021-12-26T14:18:08.174Z"
   },
   {
    "duration": 5,
    "start_time": "2021-12-26T14:18:26.782Z"
   },
   {
    "duration": 9,
    "start_time": "2021-12-26T14:20:07.506Z"
   },
   {
    "duration": 5,
    "start_time": "2021-12-26T14:20:25.071Z"
   },
   {
    "duration": 1116,
    "start_time": "2021-12-26T14:20:42.957Z"
   },
   {
    "duration": 41,
    "start_time": "2021-12-26T14:20:44.075Z"
   },
   {
    "duration": 16,
    "start_time": "2021-12-26T14:20:44.119Z"
   },
   {
    "duration": 11,
    "start_time": "2021-12-26T14:20:44.137Z"
   },
   {
    "duration": 10,
    "start_time": "2021-12-26T14:20:44.150Z"
   },
   {
    "duration": 8,
    "start_time": "2021-12-26T14:20:44.162Z"
   },
   {
    "duration": 5,
    "start_time": "2021-12-26T14:20:44.172Z"
   },
   {
    "duration": 65,
    "start_time": "2021-12-26T14:20:44.180Z"
   },
   {
    "duration": 7,
    "start_time": "2021-12-26T14:20:44.247Z"
   },
   {
    "duration": 8,
    "start_time": "2021-12-26T14:20:44.256Z"
   },
   {
    "duration": 12,
    "start_time": "2021-12-26T14:20:44.265Z"
   },
   {
    "duration": 8,
    "start_time": "2021-12-26T14:20:44.279Z"
   },
   {
    "duration": 10,
    "start_time": "2021-12-26T14:20:44.289Z"
   },
   {
    "duration": 26,
    "start_time": "2021-12-26T14:20:44.301Z"
   },
   {
    "duration": 8,
    "start_time": "2021-12-26T14:20:44.329Z"
   },
   {
    "duration": 8,
    "start_time": "2021-12-26T14:20:44.338Z"
   },
   {
    "duration": 6,
    "start_time": "2021-12-26T14:20:44.348Z"
   },
   {
    "duration": 6,
    "start_time": "2021-12-26T14:20:44.356Z"
   },
   {
    "duration": 9,
    "start_time": "2021-12-26T14:20:44.363Z"
   },
   {
    "duration": 8,
    "start_time": "2021-12-26T14:20:50.270Z"
   },
   {
    "duration": 10,
    "start_time": "2021-12-26T14:20:51.389Z"
   },
   {
    "duration": 6,
    "start_time": "2021-12-26T14:20:51.997Z"
   },
   {
    "duration": 9,
    "start_time": "2021-12-26T14:21:06.702Z"
   },
   {
    "duration": 6,
    "start_time": "2021-12-26T14:21:17.757Z"
   },
   {
    "duration": 9,
    "start_time": "2021-12-26T14:21:29.677Z"
   },
   {
    "duration": 5,
    "start_time": "2021-12-26T14:21:33.661Z"
   },
   {
    "duration": 10,
    "start_time": "2021-12-26T14:21:49.821Z"
   },
   {
    "duration": 5,
    "start_time": "2021-12-26T14:21:53.613Z"
   },
   {
    "duration": 7,
    "start_time": "2021-12-26T14:22:13.229Z"
   },
   {
    "duration": 5,
    "start_time": "2021-12-26T14:22:13.710Z"
   },
   {
    "duration": 5,
    "start_time": "2021-12-26T14:22:45.454Z"
   },
   {
    "duration": 6,
    "start_time": "2021-12-26T14:23:14.381Z"
   },
   {
    "duration": 5,
    "start_time": "2021-12-26T14:23:16.365Z"
   },
   {
    "duration": 5,
    "start_time": "2021-12-26T14:23:19.933Z"
   },
   {
    "duration": 5,
    "start_time": "2021-12-26T14:23:22.061Z"
   },
   {
    "duration": 357,
    "start_time": "2021-12-26T14:24:56.543Z"
   },
   {
    "duration": 304,
    "start_time": "2021-12-26T14:24:58.814Z"
   },
   {
    "duration": 318,
    "start_time": "2021-12-26T14:25:04.782Z"
   },
   {
    "duration": 317,
    "start_time": "2021-12-26T14:25:08.510Z"
   },
   {
    "duration": 282,
    "start_time": "2021-12-26T14:25:10.926Z"
   },
   {
    "duration": 20,
    "start_time": "2021-12-26T14:25:22.286Z"
   },
   {
    "duration": 4,
    "start_time": "2021-12-26T14:28:52.910Z"
   },
   {
    "duration": 23,
    "start_time": "2021-12-26T14:28:53.341Z"
   },
   {
    "duration": -46,
    "start_time": "2021-12-26T14:29:16.166Z"
   },
   {
    "duration": 25,
    "start_time": "2021-12-26T14:29:17.950Z"
   },
   {
    "duration": 1068,
    "start_time": "2021-12-26T14:29:26.490Z"
   },
   {
    "duration": 37,
    "start_time": "2021-12-26T14:29:27.560Z"
   },
   {
    "duration": 14,
    "start_time": "2021-12-26T14:29:27.599Z"
   },
   {
    "duration": 9,
    "start_time": "2021-12-26T14:29:27.614Z"
   },
   {
    "duration": 8,
    "start_time": "2021-12-26T14:29:27.626Z"
   },
   {
    "duration": 3,
    "start_time": "2021-12-26T14:29:27.635Z"
   },
   {
    "duration": 4,
    "start_time": "2021-12-26T14:29:27.640Z"
   },
   {
    "duration": 22,
    "start_time": "2021-12-26T14:29:27.645Z"
   },
   {
    "duration": 6,
    "start_time": "2021-12-26T14:29:27.669Z"
   },
   {
    "duration": 7,
    "start_time": "2021-12-26T14:29:27.677Z"
   },
   {
    "duration": 12,
    "start_time": "2021-12-26T14:29:27.685Z"
   },
   {
    "duration": 33,
    "start_time": "2021-12-26T14:29:27.698Z"
   },
   {
    "duration": 4,
    "start_time": "2021-12-26T14:29:27.733Z"
   },
   {
    "duration": 28,
    "start_time": "2021-12-26T14:29:27.738Z"
   },
   {
    "duration": 5,
    "start_time": "2021-12-26T14:29:27.767Z"
   },
   {
    "duration": 11,
    "start_time": "2021-12-26T14:29:27.773Z"
   },
   {
    "duration": 9,
    "start_time": "2021-12-26T14:29:27.785Z"
   },
   {
    "duration": 48,
    "start_time": "2021-12-26T14:29:27.796Z"
   },
   {
    "duration": 12,
    "start_time": "2021-12-26T14:29:37.777Z"
   },
   {
    "duration": 9,
    "start_time": "2021-12-26T14:29:54.497Z"
   },
   {
    "duration": 5,
    "start_time": "2021-12-26T14:30:08.753Z"
   },
   {
    "duration": 5,
    "start_time": "2021-12-26T14:30:10.178Z"
   },
   {
    "duration": 324,
    "start_time": "2021-12-26T14:44:04.997Z"
   },
   {
    "duration": 1079,
    "start_time": "2021-12-26T14:44:19.694Z"
   },
   {
    "duration": 36,
    "start_time": "2021-12-26T14:44:20.775Z"
   },
   {
    "duration": 15,
    "start_time": "2021-12-26T14:44:20.813Z"
   },
   {
    "duration": 10,
    "start_time": "2021-12-26T14:44:20.830Z"
   },
   {
    "duration": 9,
    "start_time": "2021-12-26T14:44:20.841Z"
   },
   {
    "duration": 3,
    "start_time": "2021-12-26T14:44:20.851Z"
   },
   {
    "duration": 4,
    "start_time": "2021-12-26T14:44:20.856Z"
   },
   {
    "duration": 19,
    "start_time": "2021-12-26T14:44:20.862Z"
   },
   {
    "duration": 6,
    "start_time": "2021-12-26T14:44:20.882Z"
   },
   {
    "duration": 8,
    "start_time": "2021-12-26T14:44:20.890Z"
   },
   {
    "duration": 39,
    "start_time": "2021-12-26T14:44:20.899Z"
   },
   {
    "duration": 8,
    "start_time": "2021-12-26T14:44:20.940Z"
   },
   {
    "duration": 948,
    "start_time": "2021-12-26T14:44:22.674Z"
   },
   {
    "duration": 5,
    "start_time": "2021-12-26T14:44:36.706Z"
   },
   {
    "duration": 4,
    "start_time": "2021-12-26T14:47:01.363Z"
   },
   {
    "duration": 15,
    "start_time": "2021-12-26T14:47:03.298Z"
   },
   {
    "duration": 5,
    "start_time": "2021-12-26T14:47:21.250Z"
   },
   {
    "duration": 4,
    "start_time": "2021-12-26T14:47:42.915Z"
   },
   {
    "duration": 4,
    "start_time": "2021-12-26T14:47:49.010Z"
   },
   {
    "duration": 5,
    "start_time": "2021-12-26T14:48:00.323Z"
   },
   {
    "duration": 11,
    "start_time": "2021-12-26T14:48:01.970Z"
   },
   {
    "duration": 9,
    "start_time": "2021-12-26T14:48:03.201Z"
   },
   {
    "duration": 17,
    "start_time": "2021-12-26T14:48:03.938Z"
   },
   {
    "duration": 5,
    "start_time": "2021-12-26T14:48:21.091Z"
   },
   {
    "duration": 15,
    "start_time": "2021-12-26T14:51:08.643Z"
   },
   {
    "duration": 14,
    "start_time": "2021-12-26T14:51:40.514Z"
   },
   {
    "duration": 5,
    "start_time": "2021-12-26T14:54:18.194Z"
   },
   {
    "duration": 4,
    "start_time": "2021-12-26T14:54:18.795Z"
   },
   {
    "duration": 23,
    "start_time": "2021-12-26T14:54:41.523Z"
   },
   {
    "duration": 5,
    "start_time": "2021-12-26T14:54:46.419Z"
   },
   {
    "duration": 5,
    "start_time": "2021-12-26T14:54:48.681Z"
   },
   {
    "duration": 371,
    "start_time": "2021-12-26T14:55:15.332Z"
   },
   {
    "duration": 6,
    "start_time": "2021-12-26T14:55:33.283Z"
   },
   {
    "duration": 11,
    "start_time": "2021-12-26T14:55:42.115Z"
   },
   {
    "duration": 15,
    "start_time": "2021-12-26T14:56:04.051Z"
   },
   {
    "duration": 12,
    "start_time": "2021-12-26T14:56:16.626Z"
   },
   {
    "duration": 1131,
    "start_time": "2021-12-26T14:56:24.909Z"
   },
   {
    "duration": 37,
    "start_time": "2021-12-26T14:56:26.042Z"
   },
   {
    "duration": 13,
    "start_time": "2021-12-26T14:56:26.081Z"
   },
   {
    "duration": 10,
    "start_time": "2021-12-26T14:56:26.096Z"
   },
   {
    "duration": 7,
    "start_time": "2021-12-26T14:56:26.108Z"
   },
   {
    "duration": 11,
    "start_time": "2021-12-26T14:56:26.116Z"
   },
   {
    "duration": 6,
    "start_time": "2021-12-26T14:56:26.128Z"
   },
   {
    "duration": 24,
    "start_time": "2021-12-26T14:56:26.135Z"
   },
   {
    "duration": 15,
    "start_time": "2021-12-26T14:56:26.162Z"
   },
   {
    "duration": 6,
    "start_time": "2021-12-26T14:56:26.179Z"
   },
   {
    "duration": 7,
    "start_time": "2021-12-26T14:56:26.186Z"
   },
   {
    "duration": 35,
    "start_time": "2021-12-26T14:56:26.195Z"
   },
   {
    "duration": 8,
    "start_time": "2021-12-26T14:56:26.232Z"
   },
   {
    "duration": 4,
    "start_time": "2021-12-26T14:56:26.241Z"
   },
   {
    "duration": 16,
    "start_time": "2021-12-26T14:56:26.246Z"
   },
   {
    "duration": 3,
    "start_time": "2021-12-26T14:56:26.264Z"
   },
   {
    "duration": 9,
    "start_time": "2021-12-26T14:56:26.269Z"
   },
   {
    "duration": 8,
    "start_time": "2021-12-26T14:56:26.280Z"
   },
   {
    "duration": 37,
    "start_time": "2021-12-26T14:56:26.290Z"
   },
   {
    "duration": 20,
    "start_time": "2021-12-26T14:56:26.328Z"
   },
   {
    "duration": 3,
    "start_time": "2021-12-26T14:56:26.350Z"
   },
   {
    "duration": 6,
    "start_time": "2021-12-26T14:56:26.354Z"
   },
   {
    "duration": 5,
    "start_time": "2021-12-26T14:56:26.362Z"
   },
   {
    "duration": 13,
    "start_time": "2021-12-26T14:56:29.283Z"
   },
   {
    "duration": 15,
    "start_time": "2021-12-26T14:56:38.645Z"
   },
   {
    "duration": 14,
    "start_time": "2021-12-26T14:56:55.348Z"
   },
   {
    "duration": 7,
    "start_time": "2021-12-26T14:57:02.356Z"
   },
   {
    "duration": 6,
    "start_time": "2021-12-26T14:57:38.308Z"
   },
   {
    "duration": 5,
    "start_time": "2021-12-26T14:57:44.660Z"
   },
   {
    "duration": 4,
    "start_time": "2021-12-26T14:57:49.748Z"
   },
   {
    "duration": 10,
    "start_time": "2021-12-26T14:58:06.644Z"
   },
   {
    "duration": 12,
    "start_time": "2021-12-26T14:58:11.094Z"
   },
   {
    "duration": 7,
    "start_time": "2021-12-26T14:58:40.548Z"
   },
   {
    "duration": 9,
    "start_time": "2021-12-26T14:59:44.228Z"
   },
   {
    "duration": 7844,
    "start_time": "2021-12-26T14:59:47.715Z"
   },
   {
    "duration": 1158,
    "start_time": "2021-12-26T15:00:19.816Z"
   },
   {
    "duration": 37,
    "start_time": "2021-12-26T15:00:20.975Z"
   },
   {
    "duration": 14,
    "start_time": "2021-12-26T15:00:21.014Z"
   },
   {
    "duration": 10,
    "start_time": "2021-12-26T15:00:21.030Z"
   },
   {
    "duration": 9,
    "start_time": "2021-12-26T15:00:21.041Z"
   },
   {
    "duration": 3,
    "start_time": "2021-12-26T15:00:21.052Z"
   },
   {
    "duration": 4,
    "start_time": "2021-12-26T15:00:21.057Z"
   },
   {
    "duration": 27,
    "start_time": "2021-12-26T15:00:21.062Z"
   },
   {
    "duration": 42,
    "start_time": "2021-12-26T15:00:21.092Z"
   },
   {
    "duration": 7,
    "start_time": "2021-12-26T15:00:21.136Z"
   },
   {
    "duration": 9,
    "start_time": "2021-12-26T15:00:21.144Z"
   },
   {
    "duration": 11,
    "start_time": "2021-12-26T15:00:21.155Z"
   },
   {
    "duration": 8,
    "start_time": "2021-12-26T15:00:21.167Z"
   },
   {
    "duration": 4,
    "start_time": "2021-12-26T15:00:21.176Z"
   },
   {
    "duration": 46,
    "start_time": "2021-12-26T15:00:21.181Z"
   },
   {
    "duration": 4,
    "start_time": "2021-12-26T15:00:21.229Z"
   },
   {
    "duration": 6,
    "start_time": "2021-12-26T15:00:21.234Z"
   },
   {
    "duration": 7,
    "start_time": "2021-12-26T15:00:21.242Z"
   },
   {
    "duration": 7,
    "start_time": "2021-12-26T15:00:21.251Z"
   },
   {
    "duration": 20,
    "start_time": "2021-12-26T15:00:21.259Z"
   },
   {
    "duration": 3,
    "start_time": "2021-12-26T15:00:21.281Z"
   },
   {
    "duration": 6,
    "start_time": "2021-12-26T15:00:21.286Z"
   },
   {
    "duration": 35,
    "start_time": "2021-12-26T15:00:21.293Z"
   },
   {
    "duration": 8,
    "start_time": "2021-12-26T15:00:21.330Z"
   },
   {
    "duration": 10,
    "start_time": "2021-12-26T15:00:21.339Z"
   },
   {
    "duration": 7,
    "start_time": "2021-12-26T15:00:21.350Z"
   },
   {
    "duration": -34,
    "start_time": "2021-12-26T15:00:28.437Z"
   },
   {
    "duration": 6996,
    "start_time": "2021-12-26T15:00:30.743Z"
   },
   {
    "duration": 11,
    "start_time": "2021-12-26T15:01:13.704Z"
   },
   {
    "duration": 13,
    "start_time": "2021-12-26T15:01:24.729Z"
   },
   {
    "duration": 5,
    "start_time": "2021-12-26T15:01:45.770Z"
   },
   {
    "duration": 4,
    "start_time": "2021-12-26T15:02:28.537Z"
   },
   {
    "duration": 7,
    "start_time": "2021-12-26T15:03:01.880Z"
   },
   {
    "duration": 8,
    "start_time": "2021-12-26T15:04:27.288Z"
   },
   {
    "duration": 15,
    "start_time": "2021-12-26T15:05:04.730Z"
   },
   {
    "duration": 3,
    "start_time": "2021-12-26T15:12:57.706Z"
   },
   {
    "duration": 7,
    "start_time": "2021-12-26T15:13:22.858Z"
   },
   {
    "duration": 12,
    "start_time": "2021-12-26T15:13:27.595Z"
   },
   {
    "duration": 4,
    "start_time": "2021-12-26T15:14:00.905Z"
   },
   {
    "duration": 7,
    "start_time": "2021-12-26T15:14:02.025Z"
   },
   {
    "duration": 13,
    "start_time": "2021-12-26T15:14:02.409Z"
   },
   {
    "duration": 12,
    "start_time": "2021-12-26T15:14:26.681Z"
   },
   {
    "duration": 12,
    "start_time": "2021-12-26T15:16:49.739Z"
   },
   {
    "duration": 13,
    "start_time": "2021-12-26T15:20:00.603Z"
   },
   {
    "duration": 9,
    "start_time": "2021-12-26T15:20:17.785Z"
   },
   {
    "duration": 30,
    "start_time": "2021-12-26T15:20:29.321Z"
   },
   {
    "duration": 13,
    "start_time": "2021-12-26T15:22:05.339Z"
   },
   {
    "duration": 135,
    "start_time": "2021-12-26T15:22:55.838Z"
   },
   {
    "duration": 8420,
    "start_time": "2021-12-26T15:23:56.778Z"
   },
   {
    "duration": 7330,
    "start_time": "2021-12-26T15:24:39.339Z"
   },
   {
    "duration": 14,
    "start_time": "2021-12-26T15:25:12.187Z"
   },
   {
    "duration": 15,
    "start_time": "2021-12-26T15:25:25.514Z"
   },
   {
    "duration": 347,
    "start_time": "2021-12-26T15:25:36.442Z"
   },
   {
    "duration": 404,
    "start_time": "2021-12-26T15:25:51.402Z"
   },
   {
    "duration": 393,
    "start_time": "2021-12-26T15:26:20.413Z"
   },
   {
    "duration": 454,
    "start_time": "2021-12-26T15:26:28.605Z"
   },
   {
    "duration": 401,
    "start_time": "2021-12-26T15:27:08.635Z"
   },
   {
    "duration": 5,
    "start_time": "2021-12-26T15:28:17.291Z"
   },
   {
    "duration": 6,
    "start_time": "2021-12-26T15:31:49.082Z"
   },
   {
    "duration": 15,
    "start_time": "2021-12-26T15:46:20.956Z"
   },
   {
    "duration": 15,
    "start_time": "2021-12-26T15:48:25.692Z"
   },
   {
    "duration": 1147,
    "start_time": "2021-12-26T15:48:48.623Z"
   },
   {
    "duration": 43,
    "start_time": "2021-12-26T15:48:49.772Z"
   },
   {
    "duration": 13,
    "start_time": "2021-12-26T15:48:49.817Z"
   },
   {
    "duration": 9,
    "start_time": "2021-12-26T15:48:49.833Z"
   },
   {
    "duration": 8,
    "start_time": "2021-12-26T15:48:49.844Z"
   },
   {
    "duration": 4,
    "start_time": "2021-12-26T15:48:49.853Z"
   },
   {
    "duration": 4,
    "start_time": "2021-12-26T15:48:49.859Z"
   },
   {
    "duration": 24,
    "start_time": "2021-12-26T15:48:49.864Z"
   },
   {
    "duration": 47,
    "start_time": "2021-12-26T15:48:49.892Z"
   },
   {
    "duration": 7,
    "start_time": "2021-12-26T15:48:49.941Z"
   },
   {
    "duration": 21,
    "start_time": "2021-12-26T15:48:49.950Z"
   },
   {
    "duration": 21,
    "start_time": "2021-12-26T15:48:49.973Z"
   },
   {
    "duration": 8,
    "start_time": "2021-12-26T15:48:49.996Z"
   },
   {
    "duration": 16,
    "start_time": "2021-12-26T15:48:50.006Z"
   },
   {
    "duration": 33,
    "start_time": "2021-12-26T15:48:50.024Z"
   },
   {
    "duration": 29,
    "start_time": "2021-12-26T15:48:50.059Z"
   },
   {
    "duration": 31,
    "start_time": "2021-12-26T15:48:50.090Z"
   },
   {
    "duration": 29,
    "start_time": "2021-12-26T15:48:50.122Z"
   },
   {
    "duration": 17,
    "start_time": "2021-12-26T15:48:50.153Z"
   },
   {
    "duration": 40,
    "start_time": "2021-12-26T15:48:50.172Z"
   },
   {
    "duration": 8,
    "start_time": "2021-12-26T15:48:50.213Z"
   },
   {
    "duration": 25,
    "start_time": "2021-12-26T15:48:50.222Z"
   },
   {
    "duration": 22,
    "start_time": "2021-12-26T15:48:50.248Z"
   },
   {
    "duration": 17,
    "start_time": "2021-12-26T15:48:50.272Z"
   },
   {
    "duration": 25,
    "start_time": "2021-12-26T15:48:50.290Z"
   },
   {
    "duration": 6,
    "start_time": "2021-12-26T15:48:50.316Z"
   },
   {
    "duration": 24,
    "start_time": "2021-12-26T15:48:50.324Z"
   },
   {
    "duration": 25,
    "start_time": "2021-12-26T15:48:50.350Z"
   },
   {
    "duration": 13,
    "start_time": "2021-12-26T15:48:50.377Z"
   },
   {
    "duration": 11,
    "start_time": "2021-12-26T15:48:50.392Z"
   },
   {
    "duration": 36,
    "start_time": "2021-12-26T15:48:50.404Z"
   },
   {
    "duration": 10,
    "start_time": "2021-12-26T15:49:23.689Z"
   },
   {
    "duration": 401,
    "start_time": "2021-12-26T15:49:32.150Z"
   },
   {
    "duration": 11,
    "start_time": "2021-12-26T15:50:11.701Z"
   },
   {
    "duration": 5,
    "start_time": "2021-12-26T15:55:56.615Z"
   },
   {
    "duration": 18,
    "start_time": "2021-12-26T15:55:59.463Z"
   },
   {
    "duration": 8,
    "start_time": "2021-12-26T15:57:35.655Z"
   },
   {
    "duration": 23,
    "start_time": "2021-12-26T15:58:53.543Z"
   },
   {
    "duration": 11,
    "start_time": "2021-12-26T16:00:00.616Z"
   },
   {
    "duration": 9,
    "start_time": "2021-12-26T16:00:12.424Z"
   },
   {
    "duration": 11,
    "start_time": "2021-12-26T16:00:55.064Z"
   },
   {
    "duration": 9,
    "start_time": "2021-12-26T16:00:55.495Z"
   },
   {
    "duration": 8,
    "start_time": "2021-12-26T16:01:03.160Z"
   },
   {
    "duration": 10,
    "start_time": "2021-12-26T16:01:12.550Z"
   },
   {
    "duration": 8,
    "start_time": "2021-12-26T16:01:13.144Z"
   },
   {
    "duration": 15,
    "start_time": "2021-12-26T16:01:54.312Z"
   },
   {
    "duration": 7,
    "start_time": "2021-12-26T16:01:58.469Z"
   },
   {
    "duration": 11,
    "start_time": "2021-12-26T16:04:06.279Z"
   },
   {
    "duration": 7,
    "start_time": "2021-12-26T16:04:06.775Z"
   },
   {
    "duration": 10,
    "start_time": "2021-12-26T16:05:40.057Z"
   },
   {
    "duration": 6,
    "start_time": "2021-12-26T16:05:40.249Z"
   },
   {
    "duration": 10,
    "start_time": "2021-12-26T16:05:44.248Z"
   },
   {
    "duration": 6,
    "start_time": "2021-12-26T16:05:44.904Z"
   },
   {
    "duration": 390,
    "start_time": "2021-12-26T16:06:41.544Z"
   },
   {
    "duration": 297,
    "start_time": "2021-12-26T16:07:11.768Z"
   },
   {
    "duration": 455,
    "start_time": "2021-12-26T16:07:30.937Z"
   },
   {
    "duration": 1124,
    "start_time": "2021-12-26T16:07:42.552Z"
   },
   {
    "duration": 40,
    "start_time": "2021-12-26T16:07:43.678Z"
   },
   {
    "duration": 15,
    "start_time": "2021-12-26T16:07:43.720Z"
   },
   {
    "duration": 17,
    "start_time": "2021-12-26T16:07:43.737Z"
   },
   {
    "duration": 8,
    "start_time": "2021-12-26T16:07:43.756Z"
   },
   {
    "duration": 3,
    "start_time": "2021-12-26T16:07:43.765Z"
   },
   {
    "duration": 6,
    "start_time": "2021-12-26T16:07:43.769Z"
   },
   {
    "duration": 24,
    "start_time": "2021-12-26T16:07:43.777Z"
   },
   {
    "duration": 38,
    "start_time": "2021-12-26T16:07:43.803Z"
   },
   {
    "duration": 7,
    "start_time": "2021-12-26T16:07:43.844Z"
   },
   {
    "duration": 9,
    "start_time": "2021-12-26T16:07:43.853Z"
   },
   {
    "duration": 18,
    "start_time": "2021-12-26T16:07:43.863Z"
   },
   {
    "duration": 8,
    "start_time": "2021-12-26T16:07:43.883Z"
   },
   {
    "duration": 4,
    "start_time": "2021-12-26T16:07:43.892Z"
   },
   {
    "duration": 50,
    "start_time": "2021-12-26T16:07:43.897Z"
   },
   {
    "duration": 4,
    "start_time": "2021-12-26T16:07:43.948Z"
   },
   {
    "duration": 6,
    "start_time": "2021-12-26T16:07:43.954Z"
   },
   {
    "duration": 12,
    "start_time": "2021-12-26T16:07:43.962Z"
   },
   {
    "duration": 7,
    "start_time": "2021-12-26T16:07:43.976Z"
   },
   {
    "duration": 19,
    "start_time": "2021-12-26T16:07:43.984Z"
   },
   {
    "duration": 25,
    "start_time": "2021-12-26T16:07:44.005Z"
   },
   {
    "duration": 14,
    "start_time": "2021-12-26T16:07:44.032Z"
   },
   {
    "duration": 13,
    "start_time": "2021-12-26T16:07:44.048Z"
   },
   {
    "duration": 8,
    "start_time": "2021-12-26T16:07:44.062Z"
   },
   {
    "duration": 15,
    "start_time": "2021-12-26T16:07:44.072Z"
   },
   {
    "duration": 3,
    "start_time": "2021-12-26T16:07:44.089Z"
   },
   {
    "duration": 36,
    "start_time": "2021-12-26T16:07:44.093Z"
   },
   {
    "duration": 7,
    "start_time": "2021-12-26T16:07:44.131Z"
   },
   {
    "duration": 25,
    "start_time": "2021-12-26T16:07:44.140Z"
   },
   {
    "duration": 16,
    "start_time": "2021-12-26T16:07:44.166Z"
   },
   {
    "duration": 13,
    "start_time": "2021-12-26T16:07:44.184Z"
   },
   {
    "duration": 62,
    "start_time": "2021-12-26T16:07:44.199Z"
   },
   {
    "duration": 14,
    "start_time": "2021-12-26T16:07:44.263Z"
   },
   {
    "duration": 450,
    "start_time": "2021-12-26T16:07:44.279Z"
   },
   {
    "duration": 6,
    "start_time": "2021-12-26T16:07:44.731Z"
   },
   {
    "duration": 11,
    "start_time": "2021-12-26T16:07:47.350Z"
   },
   {
    "duration": 8,
    "start_time": "2021-12-26T16:07:48.422Z"
   },
   {
    "duration": 548,
    "start_time": "2021-12-26T16:07:50.614Z"
   },
   {
    "duration": 15,
    "start_time": "2021-12-26T16:08:01.750Z"
   },
   {
    "duration": 28,
    "start_time": "2021-12-26T16:08:07.063Z"
   },
   {
    "duration": 16,
    "start_time": "2021-12-26T16:08:18.342Z"
   },
   {
    "duration": 23,
    "start_time": "2021-12-26T16:08:19.655Z"
   },
   {
    "duration": 4,
    "start_time": "2021-12-26T16:09:04.279Z"
   },
   {
    "duration": 516,
    "start_time": "2021-12-26T16:16:29.690Z"
   },
   {
    "duration": 399,
    "start_time": "2021-12-26T16:19:38.313Z"
   },
   {
    "duration": 435,
    "start_time": "2021-12-26T16:20:12.515Z"
   },
   {
    "duration": 427,
    "start_time": "2021-12-26T16:20:22.457Z"
   },
   {
    "duration": 102,
    "start_time": "2021-12-26T16:27:19.144Z"
   },
   {
    "duration": 541,
    "start_time": "2021-12-26T16:27:26.030Z"
   },
   {
    "duration": 626,
    "start_time": "2021-12-26T16:28:32.522Z"
   },
   {
    "duration": 621,
    "start_time": "2021-12-26T16:28:49.721Z"
   },
   {
    "duration": 717,
    "start_time": "2021-12-26T16:29:25.096Z"
   },
   {
    "duration": 805,
    "start_time": "2021-12-26T16:30:30.425Z"
   },
   {
    "duration": 691,
    "start_time": "2021-12-26T16:30:45.610Z"
   },
   {
    "duration": 704,
    "start_time": "2021-12-26T16:30:49.033Z"
   },
   {
    "duration": 551,
    "start_time": "2021-12-26T16:32:10.697Z"
   },
   {
    "duration": 548,
    "start_time": "2021-12-26T16:32:19.818Z"
   },
   {
    "duration": 1457,
    "start_time": "2021-12-26T16:32:31.017Z"
   },
   {
    "duration": 92,
    "start_time": "2021-12-26T16:35:46.256Z"
   },
   {
    "duration": 782,
    "start_time": "2021-12-26T16:35:55.510Z"
   },
   {
    "duration": 520,
    "start_time": "2021-12-26T16:36:03.994Z"
   },
   {
    "duration": 308,
    "start_time": "2021-12-26T16:36:07.610Z"
   },
   {
    "duration": 2197,
    "start_time": "2021-12-26T16:37:26.153Z"
   },
   {
    "duration": 742,
    "start_time": "2021-12-26T16:37:53.003Z"
   },
   {
    "duration": 718,
    "start_time": "2021-12-26T16:38:11.273Z"
   },
   {
    "duration": 103,
    "start_time": "2021-12-26T16:38:26.058Z"
   },
   {
    "duration": 993,
    "start_time": "2021-12-26T16:38:31.560Z"
   },
   {
    "duration": 120,
    "start_time": "2021-12-26T16:39:59.611Z"
   },
   {
    "duration": 1251,
    "start_time": "2021-12-26T16:40:02.378Z"
   },
   {
    "duration": 961,
    "start_time": "2021-12-26T16:40:28.122Z"
   },
   {
    "duration": 746,
    "start_time": "2021-12-26T16:40:43.497Z"
   },
   {
    "duration": 831,
    "start_time": "2021-12-26T16:40:53.098Z"
   },
   {
    "duration": 96,
    "start_time": "2021-12-26T16:41:03.577Z"
   },
   {
    "duration": 834,
    "start_time": "2021-12-26T16:41:07.926Z"
   },
   {
    "duration": 279,
    "start_time": "2021-12-26T16:45:07.562Z"
   },
   {
    "duration": 532,
    "start_time": "2021-12-26T16:45:18.410Z"
   },
   {
    "duration": 291,
    "start_time": "2021-12-26T16:45:41.866Z"
   },
   {
    "duration": 529,
    "start_time": "2021-12-26T16:46:07.340Z"
   },
   {
    "duration": 844,
    "start_time": "2021-12-26T16:47:30.171Z"
   },
   {
    "duration": 15,
    "start_time": "2021-12-26T16:51:37.116Z"
   },
   {
    "duration": 24,
    "start_time": "2021-12-26T16:51:37.714Z"
   },
   {
    "duration": 285,
    "start_time": "2021-12-26T16:51:49.419Z"
   },
   {
    "duration": 15,
    "start_time": "2021-12-26T16:52:16.427Z"
   },
   {
    "duration": 25,
    "start_time": "2021-12-26T16:52:17.147Z"
   },
   {
    "duration": 747,
    "start_time": "2021-12-26T16:52:29.083Z"
   },
   {
    "duration": 725,
    "start_time": "2021-12-26T16:53:35.019Z"
   },
   {
    "duration": 826,
    "start_time": "2021-12-26T16:53:58.260Z"
   },
   {
    "duration": 749,
    "start_time": "2021-12-26T16:54:28.827Z"
   },
   {
    "duration": 813,
    "start_time": "2021-12-26T16:54:49.287Z"
   },
   {
    "duration": 19,
    "start_time": "2021-12-26T17:24:58.526Z"
   },
   {
    "duration": 29,
    "start_time": "2021-12-26T17:30:04.862Z"
   },
   {
    "duration": 19,
    "start_time": "2021-12-26T17:32:27.871Z"
   },
   {
    "duration": 24,
    "start_time": "2021-12-26T17:32:36.366Z"
   },
   {
    "duration": 11,
    "start_time": "2021-12-26T17:32:52.861Z"
   },
   {
    "duration": 8,
    "start_time": "2021-12-26T17:32:54.670Z"
   },
   {
    "duration": 6,
    "start_time": "2021-12-26T17:33:03.166Z"
   },
   {
    "duration": 12,
    "start_time": "2021-12-26T17:33:39.950Z"
   },
   {
    "duration": 6,
    "start_time": "2021-12-26T17:33:40.462Z"
   },
   {
    "duration": 10,
    "start_time": "2021-12-26T17:35:00.302Z"
   },
   {
    "duration": 4,
    "start_time": "2021-12-26T17:35:18.285Z"
   },
   {
    "duration": 6,
    "start_time": "2021-12-26T17:35:18.894Z"
   },
   {
    "duration": 11,
    "start_time": "2021-12-26T17:37:18.524Z"
   },
   {
    "duration": 4,
    "start_time": "2021-12-26T17:37:18.537Z"
   },
   {
    "duration": 8,
    "start_time": "2021-12-26T17:37:18.814Z"
   },
   {
    "duration": 14,
    "start_time": "2021-12-26T17:37:20.152Z"
   },
   {
    "duration": 19,
    "start_time": "2021-12-26T17:37:23.166Z"
   },
   {
    "duration": 18,
    "start_time": "2021-12-26T17:37:26.895Z"
   },
   {
    "duration": 4,
    "start_time": "2021-12-26T17:37:30.127Z"
   },
   {
    "duration": 749,
    "start_time": "2021-12-26T17:37:32.174Z"
   },
   {
    "duration": 706,
    "start_time": "2021-12-26T17:37:41.358Z"
   },
   {
    "duration": 18,
    "start_time": "2021-12-26T17:39:14.689Z"
   },
   {
    "duration": 7,
    "start_time": "2021-12-26T17:39:19.555Z"
   },
   {
    "duration": 327,
    "start_time": "2021-12-26T17:40:40.879Z"
   },
   {
    "duration": 308,
    "start_time": "2021-12-26T17:41:18.978Z"
   },
   {
    "duration": 15,
    "start_time": "2021-12-26T17:41:58.926Z"
   },
   {
    "duration": 17,
    "start_time": "2021-12-26T17:41:59.726Z"
   },
   {
    "duration": 3,
    "start_time": "2021-12-26T17:42:01.809Z"
   },
   {
    "duration": 286,
    "start_time": "2021-12-26T17:42:15.646Z"
   },
   {
    "duration": 365,
    "start_time": "2021-12-26T17:42:22.830Z"
   },
   {
    "duration": 7519,
    "start_time": "2021-12-26T17:42:43.344Z"
   },
   {
    "duration": 15,
    "start_time": "2021-12-26T17:43:08.369Z"
   },
   {
    "duration": 17,
    "start_time": "2021-12-26T17:43:09.470Z"
   },
   {
    "duration": 3,
    "start_time": "2021-12-26T17:43:11.646Z"
   },
   {
    "duration": 777,
    "start_time": "2021-12-26T17:43:12.898Z"
   },
   {
    "duration": 7,
    "start_time": "2021-12-26T17:43:17.725Z"
   },
   {
    "duration": 7685,
    "start_time": "2021-12-26T17:43:58.669Z"
   },
   {
    "duration": 288,
    "start_time": "2021-12-26T17:44:35.889Z"
   },
   {
    "duration": 287,
    "start_time": "2021-12-26T17:45:00.383Z"
   },
   {
    "duration": 7,
    "start_time": "2021-12-26T17:45:07.246Z"
   },
   {
    "duration": 299,
    "start_time": "2021-12-26T17:45:07.854Z"
   },
   {
    "duration": 542,
    "start_time": "2021-12-26T17:45:14.942Z"
   },
   {
    "duration": 60,
    "start_time": "2021-12-26T17:45:23.023Z"
   },
   {
    "duration": 60,
    "start_time": "2021-12-26T17:45:58.487Z"
   },
   {
    "duration": 101,
    "start_time": "2021-12-26T17:48:57.552Z"
   },
   {
    "duration": 7,
    "start_time": "2021-12-26T17:50:28.511Z"
   },
   {
    "duration": 103,
    "start_time": "2021-12-26T17:50:31.327Z"
   },
   {
    "duration": 8,
    "start_time": "2021-12-26T17:50:42.927Z"
   },
   {
    "duration": 17,
    "start_time": "2021-12-26T17:51:26.752Z"
   },
   {
    "duration": 407,
    "start_time": "2021-12-26T17:56:00.465Z"
   },
   {
    "duration": 686,
    "start_time": "2021-12-26T17:57:31.904Z"
   },
   {
    "duration": 8,
    "start_time": "2021-12-26T17:58:05.344Z"
   },
   {
    "duration": 97,
    "start_time": "2021-12-26T17:58:06.403Z"
   },
   {
    "duration": 8,
    "start_time": "2021-12-26T17:58:06.688Z"
   },
   {
    "duration": 15,
    "start_time": "2021-12-26T17:58:11.455Z"
   },
   {
    "duration": 4,
    "start_time": "2021-12-26T18:23:36.786Z"
   },
   {
    "duration": 4,
    "start_time": "2021-12-26T18:24:00.913Z"
   },
   {
    "duration": 4,
    "start_time": "2021-12-26T18:24:08.481Z"
   },
   {
    "duration": 4,
    "start_time": "2021-12-26T18:24:14.899Z"
   },
   {
    "duration": 326,
    "start_time": "2021-12-26T18:26:05.013Z"
   },
   {
    "duration": 4,
    "start_time": "2021-12-26T18:26:08.754Z"
   },
   {
    "duration": 11,
    "start_time": "2021-12-26T18:26:09.234Z"
   },
   {
    "duration": 3,
    "start_time": "2021-12-26T18:28:13.934Z"
   },
   {
    "duration": 4,
    "start_time": "2021-12-26T18:28:19.714Z"
   },
   {
    "duration": 5,
    "start_time": "2021-12-26T18:29:09.043Z"
   },
   {
    "duration": 4,
    "start_time": "2021-12-26T18:32:24.434Z"
   },
   {
    "duration": 368,
    "start_time": "2021-12-26T18:32:45.971Z"
   },
   {
    "duration": 468,
    "start_time": "2021-12-26T18:33:22.962Z"
   },
   {
    "duration": 475,
    "start_time": "2021-12-26T18:33:29.028Z"
   },
   {
    "duration": 422,
    "start_time": "2021-12-26T18:33:32.946Z"
   },
   {
    "duration": 4,
    "start_time": "2021-12-26T18:34:17.026Z"
   },
   {
    "duration": 399,
    "start_time": "2021-12-26T18:34:17.506Z"
   },
   {
    "duration": 4,
    "start_time": "2021-12-26T18:34:35.474Z"
   },
   {
    "duration": 389,
    "start_time": "2021-12-26T18:34:36.002Z"
   },
   {
    "duration": 406,
    "start_time": "2021-12-26T18:34:57.411Z"
   },
   {
    "duration": 3,
    "start_time": "2021-12-26T18:38:33.619Z"
   },
   {
    "duration": 5,
    "start_time": "2021-12-26T18:38:34.658Z"
   },
   {
    "duration": 527,
    "start_time": "2021-12-26T18:38:35.254Z"
   },
   {
    "duration": 4,
    "start_time": "2021-12-26T18:39:53.058Z"
   },
   {
    "duration": 4,
    "start_time": "2021-12-26T18:39:56.130Z"
   },
   {
    "duration": 419,
    "start_time": "2021-12-26T18:39:57.010Z"
   },
   {
    "duration": 5,
    "start_time": "2021-12-26T18:40:32.040Z"
   },
   {
    "duration": 416,
    "start_time": "2021-12-26T18:40:32.723Z"
   },
   {
    "duration": 1127,
    "start_time": "2021-12-26T18:40:44.776Z"
   },
   {
    "duration": 38,
    "start_time": "2021-12-26T18:40:45.904Z"
   },
   {
    "duration": 16,
    "start_time": "2021-12-26T18:40:45.944Z"
   },
   {
    "duration": 8,
    "start_time": "2021-12-26T18:40:45.962Z"
   },
   {
    "duration": 9,
    "start_time": "2021-12-26T18:40:45.972Z"
   },
   {
    "duration": 4,
    "start_time": "2021-12-26T18:40:45.983Z"
   },
   {
    "duration": 4,
    "start_time": "2021-12-26T18:40:45.989Z"
   },
   {
    "duration": 44,
    "start_time": "2021-12-26T18:40:45.995Z"
   },
   {
    "duration": 15,
    "start_time": "2021-12-26T18:40:46.042Z"
   },
   {
    "duration": 6,
    "start_time": "2021-12-26T18:40:46.059Z"
   },
   {
    "duration": 6,
    "start_time": "2021-12-26T18:40:46.067Z"
   },
   {
    "duration": 10,
    "start_time": "2021-12-26T18:40:46.075Z"
   },
   {
    "duration": 8,
    "start_time": "2021-12-26T18:40:46.087Z"
   },
   {
    "duration": 4,
    "start_time": "2021-12-26T18:40:46.126Z"
   },
   {
    "duration": 22,
    "start_time": "2021-12-26T18:40:46.132Z"
   },
   {
    "duration": 4,
    "start_time": "2021-12-26T18:40:46.155Z"
   },
   {
    "duration": 7,
    "start_time": "2021-12-26T18:40:46.160Z"
   },
   {
    "duration": 8,
    "start_time": "2021-12-26T18:40:46.168Z"
   },
   {
    "duration": 8,
    "start_time": "2021-12-26T18:40:46.177Z"
   },
   {
    "duration": 42,
    "start_time": "2021-12-26T18:40:46.187Z"
   },
   {
    "duration": 4,
    "start_time": "2021-12-26T18:40:46.230Z"
   },
   {
    "duration": 8,
    "start_time": "2021-12-26T18:40:46.235Z"
   },
   {
    "duration": 8,
    "start_time": "2021-12-26T18:40:46.244Z"
   },
   {
    "duration": 9,
    "start_time": "2021-12-26T18:40:46.254Z"
   },
   {
    "duration": 16,
    "start_time": "2021-12-26T18:40:46.264Z"
   },
   {
    "duration": 3,
    "start_time": "2021-12-26T18:40:46.281Z"
   },
   {
    "duration": 7,
    "start_time": "2021-12-26T18:40:46.287Z"
   },
   {
    "duration": 31,
    "start_time": "2021-12-26T18:40:46.296Z"
   },
   {
    "duration": 11,
    "start_time": "2021-12-26T18:40:46.329Z"
   },
   {
    "duration": 11,
    "start_time": "2021-12-26T18:40:46.342Z"
   },
   {
    "duration": 9,
    "start_time": "2021-12-26T18:40:46.354Z"
   },
   {
    "duration": 29,
    "start_time": "2021-12-26T18:40:46.364Z"
   },
   {
    "duration": 34,
    "start_time": "2021-12-26T18:40:46.395Z"
   },
   {
    "duration": 421,
    "start_time": "2021-12-26T18:40:46.430Z"
   },
   {
    "duration": 7,
    "start_time": "2021-12-26T18:40:46.853Z"
   },
   {
    "duration": 12,
    "start_time": "2021-12-26T18:40:46.862Z"
   },
   {
    "duration": 3,
    "start_time": "2021-12-26T18:40:46.875Z"
   },
   {
    "duration": 8,
    "start_time": "2021-12-26T18:40:46.880Z"
   },
   {
    "duration": 37,
    "start_time": "2021-12-26T18:40:46.890Z"
   },
   {
    "duration": 15,
    "start_time": "2021-12-26T18:40:46.929Z"
   },
   {
    "duration": 4,
    "start_time": "2021-12-26T18:40:46.946Z"
   },
   {
    "duration": 683,
    "start_time": "2021-12-26T18:40:46.951Z"
   },
   {
    "duration": 6,
    "start_time": "2021-12-26T18:40:47.635Z"
   },
   {
    "duration": 115,
    "start_time": "2021-12-26T18:40:47.642Z"
   },
   {
    "duration": 7,
    "start_time": "2021-12-26T18:40:47.759Z"
   },
   {
    "duration": 15,
    "start_time": "2021-12-26T18:40:47.768Z"
   },
   {
    "duration": 3,
    "start_time": "2021-12-26T18:40:47.785Z"
   },
   {
    "duration": 12,
    "start_time": "2021-12-26T18:40:47.789Z"
   },
   {
    "duration": 26,
    "start_time": "2021-12-26T18:40:47.802Z"
   },
   {
    "duration": 3,
    "start_time": "2021-12-26T18:40:47.830Z"
   },
   {
    "duration": 482,
    "start_time": "2021-12-26T18:40:47.835Z"
   },
   {
    "duration": 19,
    "start_time": "2021-12-26T18:42:36.328Z"
   },
   {
    "duration": 20,
    "start_time": "2021-12-26T18:42:44.665Z"
   },
   {
    "duration": 485,
    "start_time": "2021-12-26T18:43:45.239Z"
   },
   {
    "duration": 3,
    "start_time": "2021-12-26T18:44:36.136Z"
   },
   {
    "duration": 5,
    "start_time": "2021-12-26T18:44:57.640Z"
   },
   {
    "duration": 21,
    "start_time": "2021-12-26T18:44:58.712Z"
   },
   {
    "duration": 6,
    "start_time": "2021-12-26T18:45:35.544Z"
   },
   {
    "duration": 3,
    "start_time": "2021-12-26T18:45:35.976Z"
   },
   {
    "duration": 3,
    "start_time": "2021-12-26T18:45:40.647Z"
   },
   {
    "duration": 275,
    "start_time": "2021-12-26T18:46:07.592Z"
   },
   {
    "duration": 3,
    "start_time": "2021-12-26T18:46:08.119Z"
   },
   {
    "duration": 1087,
    "start_time": "2021-12-26T18:46:38.475Z"
   },
   {
    "duration": 36,
    "start_time": "2021-12-26T18:46:39.564Z"
   },
   {
    "duration": 14,
    "start_time": "2021-12-26T18:46:39.602Z"
   },
   {
    "duration": 13,
    "start_time": "2021-12-26T18:46:39.618Z"
   },
   {
    "duration": 7,
    "start_time": "2021-12-26T18:46:39.632Z"
   },
   {
    "duration": 2,
    "start_time": "2021-12-26T18:46:39.641Z"
   },
   {
    "duration": 5,
    "start_time": "2021-12-26T18:46:39.645Z"
   },
   {
    "duration": 28,
    "start_time": "2021-12-26T18:46:39.651Z"
   },
   {
    "duration": 16,
    "start_time": "2021-12-26T18:46:39.681Z"
   },
   {
    "duration": 5,
    "start_time": "2021-12-26T18:46:39.699Z"
   },
   {
    "duration": 28,
    "start_time": "2021-12-26T18:46:39.705Z"
   },
   {
    "duration": 11,
    "start_time": "2021-12-26T18:46:39.735Z"
   },
   {
    "duration": 9,
    "start_time": "2021-12-26T18:46:39.748Z"
   },
   {
    "duration": 3,
    "start_time": "2021-12-26T18:46:39.759Z"
   },
   {
    "duration": 19,
    "start_time": "2021-12-26T18:46:39.764Z"
   },
   {
    "duration": 4,
    "start_time": "2021-12-26T18:46:39.784Z"
   },
   {
    "duration": 7,
    "start_time": "2021-12-26T18:46:39.789Z"
   },
   {
    "duration": 32,
    "start_time": "2021-12-26T18:46:39.797Z"
   },
   {
    "duration": 9,
    "start_time": "2021-12-26T18:46:39.830Z"
   },
   {
    "duration": 19,
    "start_time": "2021-12-26T18:46:39.840Z"
   },
   {
    "duration": 4,
    "start_time": "2021-12-26T18:46:39.861Z"
   },
   {
    "duration": 7,
    "start_time": "2021-12-26T18:46:39.866Z"
   },
   {
    "duration": 5,
    "start_time": "2021-12-26T18:46:39.875Z"
   },
   {
    "duration": 8,
    "start_time": "2021-12-26T18:46:39.882Z"
   },
   {
    "duration": 48,
    "start_time": "2021-12-26T18:46:39.891Z"
   },
   {
    "duration": 3,
    "start_time": "2021-12-26T18:46:39.941Z"
   },
   {
    "duration": 7,
    "start_time": "2021-12-26T18:46:39.947Z"
   },
   {
    "duration": 4,
    "start_time": "2021-12-26T18:46:39.956Z"
   },
   {
    "duration": 14,
    "start_time": "2021-12-26T18:46:39.961Z"
   },
   {
    "duration": 12,
    "start_time": "2021-12-26T18:46:39.976Z"
   },
   {
    "duration": 38,
    "start_time": "2021-12-26T18:46:39.989Z"
   },
   {
    "duration": 33,
    "start_time": "2021-12-26T18:46:40.029Z"
   },
   {
    "duration": 10,
    "start_time": "2021-12-26T18:46:40.064Z"
   },
   {
    "duration": 427,
    "start_time": "2021-12-26T18:46:40.076Z"
   },
   {
    "duration": 6,
    "start_time": "2021-12-26T18:46:40.505Z"
   },
   {
    "duration": 21,
    "start_time": "2021-12-26T18:46:40.513Z"
   },
   {
    "duration": 3,
    "start_time": "2021-12-26T18:46:40.536Z"
   },
   {
    "duration": 7,
    "start_time": "2021-12-26T18:46:40.541Z"
   },
   {
    "duration": 18,
    "start_time": "2021-12-26T18:46:40.550Z"
   },
   {
    "duration": 16,
    "start_time": "2021-12-26T18:46:40.570Z"
   },
   {
    "duration": 3,
    "start_time": "2021-12-26T18:46:40.588Z"
   },
   {
    "duration": 721,
    "start_time": "2021-12-26T18:46:40.592Z"
   },
   {
    "duration": 15,
    "start_time": "2021-12-26T18:46:41.314Z"
   },
   {
    "duration": 100,
    "start_time": "2021-12-26T18:46:41.330Z"
   },
   {
    "duration": 7,
    "start_time": "2021-12-26T18:46:41.432Z"
   },
   {
    "duration": 16,
    "start_time": "2021-12-26T18:46:41.441Z"
   },
   {
    "duration": 3,
    "start_time": "2021-12-26T18:46:41.459Z"
   },
   {
    "duration": 12,
    "start_time": "2021-12-26T18:46:41.463Z"
   },
   {
    "duration": 4,
    "start_time": "2021-12-26T18:46:41.476Z"
   },
   {
    "duration": 4,
    "start_time": "2021-12-26T18:46:44.327Z"
   },
   {
    "duration": 21,
    "start_time": "2021-12-26T18:46:45.463Z"
   },
   {
    "duration": 4,
    "start_time": "2021-12-26T18:47:07.910Z"
   },
   {
    "duration": 18,
    "start_time": "2021-12-26T18:47:08.567Z"
   },
   {
    "duration": 378,
    "start_time": "2021-12-26T18:47:39.751Z"
   },
   {
    "duration": 443,
    "start_time": "2021-12-26T18:47:51.576Z"
   },
   {
    "duration": 382,
    "start_time": "2021-12-26T18:48:16.054Z"
   },
   {
    "duration": 236,
    "start_time": "2021-12-26T18:59:50.280Z"
   },
   {
    "duration": 118,
    "start_time": "2021-12-26T19:00:50.745Z"
   },
   {
    "duration": 112,
    "start_time": "2021-12-26T19:00:55.594Z"
   },
   {
    "duration": 414,
    "start_time": "2021-12-26T19:01:45.771Z"
   },
   {
    "duration": 408,
    "start_time": "2021-12-26T19:03:03.339Z"
   },
   {
    "duration": 238,
    "start_time": "2021-12-26T19:03:07.416Z"
   },
   {
    "duration": 1100,
    "start_time": "2021-12-26T19:05:17.663Z"
   },
   {
    "duration": 36,
    "start_time": "2021-12-26T19:05:18.765Z"
   },
   {
    "duration": 15,
    "start_time": "2021-12-26T19:05:18.803Z"
   },
   {
    "duration": 11,
    "start_time": "2021-12-26T19:05:18.819Z"
   },
   {
    "duration": 7,
    "start_time": "2021-12-26T19:05:18.832Z"
   },
   {
    "duration": 3,
    "start_time": "2021-12-26T19:05:18.841Z"
   },
   {
    "duration": 5,
    "start_time": "2021-12-26T19:05:18.845Z"
   },
   {
    "duration": 23,
    "start_time": "2021-12-26T19:05:18.851Z"
   },
   {
    "duration": 16,
    "start_time": "2021-12-26T19:05:18.876Z"
   },
   {
    "duration": 33,
    "start_time": "2021-12-26T19:05:18.894Z"
   },
   {
    "duration": 9,
    "start_time": "2021-12-26T19:05:18.929Z"
   },
   {
    "duration": 12,
    "start_time": "2021-12-26T19:05:18.939Z"
   },
   {
    "duration": 8,
    "start_time": "2021-12-26T19:05:18.953Z"
   },
   {
    "duration": 4,
    "start_time": "2021-12-26T19:05:18.962Z"
   },
   {
    "duration": 17,
    "start_time": "2021-12-26T19:05:18.968Z"
   },
   {
    "duration": 39,
    "start_time": "2021-12-26T19:05:18.987Z"
   },
   {
    "duration": 6,
    "start_time": "2021-12-26T19:05:19.028Z"
   },
   {
    "duration": 8,
    "start_time": "2021-12-26T19:05:19.036Z"
   },
   {
    "duration": 9,
    "start_time": "2021-12-26T19:05:19.046Z"
   },
   {
    "duration": 18,
    "start_time": "2021-12-26T19:05:19.056Z"
   },
   {
    "duration": 4,
    "start_time": "2021-12-26T19:05:19.075Z"
   },
   {
    "duration": 6,
    "start_time": "2021-12-26T19:05:19.081Z"
   },
   {
    "duration": 41,
    "start_time": "2021-12-26T19:05:19.089Z"
   },
   {
    "duration": 8,
    "start_time": "2021-12-26T19:05:19.132Z"
   },
   {
    "duration": 20,
    "start_time": "2021-12-26T19:05:19.142Z"
   },
   {
    "duration": 4,
    "start_time": "2021-12-26T19:05:19.164Z"
   },
   {
    "duration": 9,
    "start_time": "2021-12-26T19:05:19.172Z"
   },
   {
    "duration": 6,
    "start_time": "2021-12-26T19:05:19.183Z"
   },
   {
    "duration": 53,
    "start_time": "2021-12-26T19:05:19.190Z"
   },
   {
    "duration": 12,
    "start_time": "2021-12-26T19:05:19.245Z"
   },
   {
    "duration": 9,
    "start_time": "2021-12-26T19:05:19.258Z"
   },
   {
    "duration": 31,
    "start_time": "2021-12-26T19:05:19.268Z"
   },
   {
    "duration": 34,
    "start_time": "2021-12-26T19:05:19.300Z"
   },
   {
    "duration": 412,
    "start_time": "2021-12-26T19:05:19.335Z"
   },
   {
    "duration": 6,
    "start_time": "2021-12-26T19:05:19.749Z"
   },
   {
    "duration": 10,
    "start_time": "2021-12-26T19:05:19.757Z"
   },
   {
    "duration": 3,
    "start_time": "2021-12-26T19:05:19.768Z"
   },
   {
    "duration": 7,
    "start_time": "2021-12-26T19:05:19.772Z"
   },
   {
    "duration": 17,
    "start_time": "2021-12-26T19:05:19.781Z"
   },
   {
    "duration": 41,
    "start_time": "2021-12-26T19:05:19.799Z"
   },
   {
    "duration": 4,
    "start_time": "2021-12-26T19:05:19.842Z"
   },
   {
    "duration": 691,
    "start_time": "2021-12-26T19:05:19.847Z"
   },
   {
    "duration": 6,
    "start_time": "2021-12-26T19:05:20.540Z"
   },
   {
    "duration": 114,
    "start_time": "2021-12-26T19:05:20.548Z"
   },
   {
    "duration": 7,
    "start_time": "2021-12-26T19:05:20.663Z"
   },
   {
    "duration": 17,
    "start_time": "2021-12-26T19:05:20.672Z"
   },
   {
    "duration": 8,
    "start_time": "2021-12-26T19:05:20.691Z"
   },
   {
    "duration": 14,
    "start_time": "2021-12-26T19:05:20.700Z"
   },
   {
    "duration": 14,
    "start_time": "2021-12-26T19:05:20.715Z"
   },
   {
    "duration": 4,
    "start_time": "2021-12-26T19:05:20.731Z"
   },
   {
    "duration": 20,
    "start_time": "2021-12-26T19:05:20.736Z"
   },
   {
    "duration": 448,
    "start_time": "2021-12-26T19:05:23.685Z"
   },
   {
    "duration": 3,
    "start_time": "2021-12-26T19:12:13.390Z"
   },
   {
    "duration": 3,
    "start_time": "2021-12-26T19:12:18.541Z"
   },
   {
    "duration": 376,
    "start_time": "2021-12-26T19:14:51.758Z"
   },
   {
    "duration": 2,
    "start_time": "2021-12-26T19:14:53.965Z"
   },
   {
    "duration": 9,
    "start_time": "2021-12-26T19:14:54.239Z"
   },
   {
    "duration": 13,
    "start_time": "2021-12-26T19:15:06.430Z"
   },
   {
    "duration": 159,
    "start_time": "2021-12-26T19:15:50.640Z"
   },
   {
    "duration": 277,
    "start_time": "2021-12-26T19:16:37.774Z"
   },
   {
    "duration": 202,
    "start_time": "2021-12-26T19:16:43.311Z"
   },
   {
    "duration": 187,
    "start_time": "2021-12-26T19:17:28.846Z"
   },
   {
    "duration": 284,
    "start_time": "2021-12-26T19:17:44.840Z"
   },
   {
    "duration": 272,
    "start_time": "2021-12-26T19:17:52.942Z"
   },
   {
    "duration": 545,
    "start_time": "2021-12-26T19:17:56.913Z"
   },
   {
    "duration": 191,
    "start_time": "2021-12-26T19:18:01.471Z"
   },
   {
    "duration": 201,
    "start_time": "2021-12-26T19:18:45.279Z"
   },
   {
    "duration": 13,
    "start_time": "2021-12-26T19:49:05.105Z"
   },
   {
    "duration": 92,
    "start_time": "2021-12-26T19:51:07.122Z"
   },
   {
    "duration": 10,
    "start_time": "2021-12-26T19:51:19.761Z"
   },
   {
    "duration": 260,
    "start_time": "2021-12-26T19:51:49.617Z"
   },
   {
    "duration": 10,
    "start_time": "2021-12-26T19:52:02.384Z"
   },
   {
    "duration": 12,
    "start_time": "2021-12-26T19:53:13.041Z"
   },
   {
    "duration": 6,
    "start_time": "2021-12-26T19:53:28.721Z"
   },
   {
    "duration": 12,
    "start_time": "2021-12-26T19:53:37.025Z"
   },
   {
    "duration": 3,
    "start_time": "2021-12-26T19:53:49.601Z"
   },
   {
    "duration": 8,
    "start_time": "2021-12-26T19:54:00.705Z"
   },
   {
    "duration": 8,
    "start_time": "2021-12-26T19:55:55.409Z"
   },
   {
    "duration": 11,
    "start_time": "2021-12-26T19:56:34.193Z"
   },
   {
    "duration": 117,
    "start_time": "2021-12-26T19:57:27.202Z"
   },
   {
    "duration": 98,
    "start_time": "2021-12-26T19:58:00.099Z"
   },
   {
    "duration": 8,
    "start_time": "2021-12-26T19:58:05.313Z"
   },
   {
    "duration": 8,
    "start_time": "2021-12-26T19:58:20.626Z"
   },
   {
    "duration": 8,
    "start_time": "2021-12-26T19:58:23.248Z"
   },
   {
    "duration": 14,
    "start_time": "2021-12-26T19:58:51.219Z"
   },
   {
    "duration": 3680,
    "start_time": "2021-12-26T20:00:22.801Z"
   },
   {
    "duration": 260,
    "start_time": "2021-12-26T20:01:44.274Z"
   },
   {
    "duration": 422,
    "start_time": "2021-12-26T20:01:58.799Z"
   },
   {
    "duration": 639,
    "start_time": "2021-12-26T20:02:15.747Z"
   },
   {
    "duration": 550,
    "start_time": "2021-12-26T20:02:28.978Z"
   },
   {
    "duration": 609,
    "start_time": "2021-12-26T20:02:34.225Z"
   },
   {
    "duration": 523,
    "start_time": "2021-12-26T20:05:53.090Z"
   },
   {
    "duration": 590,
    "start_time": "2021-12-26T20:06:03.525Z"
   },
   {
    "duration": 655,
    "start_time": "2021-12-26T20:06:11.138Z"
   },
   {
    "duration": 496,
    "start_time": "2021-12-26T20:06:23.394Z"
   },
   {
    "duration": 193,
    "start_time": "2021-12-26T20:10:02.387Z"
   },
   {
    "duration": 4,
    "start_time": "2021-12-26T20:10:10.514Z"
   },
   {
    "duration": 632,
    "start_time": "2021-12-26T20:10:38.418Z"
   },
   {
    "duration": 756,
    "start_time": "2021-12-26T20:12:50.610Z"
   },
   {
    "duration": 4,
    "start_time": "2021-12-26T20:12:56.098Z"
   },
   {
    "duration": 479,
    "start_time": "2021-12-26T20:12:57.699Z"
   },
   {
    "duration": 4,
    "start_time": "2021-12-26T20:13:19.490Z"
   },
   {
    "duration": 585,
    "start_time": "2021-12-26T20:13:21.187Z"
   },
   {
    "duration": 4,
    "start_time": "2021-12-26T20:13:53.956Z"
   },
   {
    "duration": 589,
    "start_time": "2021-12-26T20:13:54.771Z"
   },
   {
    "duration": 5,
    "start_time": "2021-12-26T20:14:30.964Z"
   },
   {
    "duration": 628,
    "start_time": "2021-12-26T20:14:31.458Z"
   },
   {
    "duration": 3,
    "start_time": "2021-12-26T20:20:54.467Z"
   },
   {
    "duration": 8,
    "start_time": "2021-12-26T20:21:22.888Z"
   },
   {
    "duration": 1088,
    "start_time": "2021-12-26T20:21:41.382Z"
   },
   {
    "duration": 36,
    "start_time": "2021-12-26T20:21:42.472Z"
   },
   {
    "duration": 14,
    "start_time": "2021-12-26T20:21:42.510Z"
   },
   {
    "duration": 10,
    "start_time": "2021-12-26T20:21:42.525Z"
   },
   {
    "duration": 9,
    "start_time": "2021-12-26T20:21:42.536Z"
   },
   {
    "duration": 2,
    "start_time": "2021-12-26T20:21:42.546Z"
   },
   {
    "duration": 4,
    "start_time": "2021-12-26T20:21:42.550Z"
   },
   {
    "duration": 23,
    "start_time": "2021-12-26T20:21:42.555Z"
   },
   {
    "duration": 16,
    "start_time": "2021-12-26T20:21:42.580Z"
   },
   {
    "duration": 31,
    "start_time": "2021-12-26T20:21:42.598Z"
   },
   {
    "duration": 7,
    "start_time": "2021-12-26T20:21:42.630Z"
   },
   {
    "duration": 10,
    "start_time": "2021-12-26T20:21:42.639Z"
   },
   {
    "duration": 7,
    "start_time": "2021-12-26T20:21:42.651Z"
   },
   {
    "duration": 3,
    "start_time": "2021-12-26T20:21:42.660Z"
   },
   {
    "duration": 20,
    "start_time": "2021-12-26T20:21:42.664Z"
   },
   {
    "duration": 3,
    "start_time": "2021-12-26T20:21:42.685Z"
   },
   {
    "duration": 6,
    "start_time": "2021-12-26T20:21:42.690Z"
   },
   {
    "duration": 35,
    "start_time": "2021-12-26T20:21:42.697Z"
   },
   {
    "duration": 7,
    "start_time": "2021-12-26T20:21:42.733Z"
   },
   {
    "duration": 19,
    "start_time": "2021-12-26T20:21:42.742Z"
   },
   {
    "duration": 4,
    "start_time": "2021-12-26T20:21:42.762Z"
   },
   {
    "duration": 5,
    "start_time": "2021-12-26T20:21:42.768Z"
   },
   {
    "duration": 5,
    "start_time": "2021-12-26T20:21:42.775Z"
   },
   {
    "duration": 7,
    "start_time": "2021-12-26T20:21:42.781Z"
   },
   {
    "duration": 50,
    "start_time": "2021-12-26T20:21:42.789Z"
   },
   {
    "duration": 4,
    "start_time": "2021-12-26T20:21:42.840Z"
   },
   {
    "duration": 7,
    "start_time": "2021-12-26T20:21:42.847Z"
   },
   {
    "duration": 4,
    "start_time": "2021-12-26T20:21:42.856Z"
   },
   {
    "duration": 15,
    "start_time": "2021-12-26T20:21:42.861Z"
   },
   {
    "duration": 13,
    "start_time": "2021-12-26T20:21:42.877Z"
   },
   {
    "duration": 8,
    "start_time": "2021-12-26T20:21:42.892Z"
   },
   {
    "duration": 55,
    "start_time": "2021-12-26T20:21:42.902Z"
   },
   {
    "duration": 10,
    "start_time": "2021-12-26T20:21:42.959Z"
   },
   {
    "duration": 451,
    "start_time": "2021-12-26T20:21:42.970Z"
   },
   {
    "duration": 7,
    "start_time": "2021-12-26T20:21:43.426Z"
   },
   {
    "duration": 10,
    "start_time": "2021-12-26T20:21:43.435Z"
   },
   {
    "duration": 3,
    "start_time": "2021-12-26T20:21:43.447Z"
   },
   {
    "duration": 9,
    "start_time": "2021-12-26T20:21:43.451Z"
   },
   {
    "duration": 15,
    "start_time": "2021-12-26T20:21:43.461Z"
   },
   {
    "duration": 15,
    "start_time": "2021-12-26T20:21:43.478Z"
   },
   {
    "duration": 6,
    "start_time": "2021-12-26T20:21:43.494Z"
   },
   {
    "duration": 692,
    "start_time": "2021-12-26T20:21:43.527Z"
   },
   {
    "duration": 11,
    "start_time": "2021-12-26T20:21:44.221Z"
   },
   {
    "duration": 113,
    "start_time": "2021-12-26T20:21:44.233Z"
   },
   {
    "duration": 7,
    "start_time": "2021-12-26T20:21:44.348Z"
   },
   {
    "duration": 17,
    "start_time": "2021-12-26T20:21:44.356Z"
   },
   {
    "duration": 2,
    "start_time": "2021-12-26T20:21:44.375Z"
   },
   {
    "duration": 11,
    "start_time": "2021-12-26T20:21:44.379Z"
   },
   {
    "duration": 7,
    "start_time": "2021-12-26T20:21:44.391Z"
   },
   {
    "duration": 28,
    "start_time": "2021-12-26T20:21:44.400Z"
   },
   {
    "duration": 450,
    "start_time": "2021-12-26T20:21:44.430Z"
   },
   {
    "duration": 3,
    "start_time": "2021-12-26T20:21:44.881Z"
   },
   {
    "duration": 10,
    "start_time": "2021-12-26T20:21:44.885Z"
   },
   {
    "duration": 12,
    "start_time": "2021-12-26T20:21:44.896Z"
   },
   {
    "duration": 214,
    "start_time": "2021-12-26T20:21:44.909Z"
   },
   {
    "duration": 5,
    "start_time": "2021-12-26T20:21:48.843Z"
   },
   {
    "duration": 9,
    "start_time": "2021-12-26T20:21:49.466Z"
   },
   {
    "duration": 13,
    "start_time": "2021-12-26T20:22:34.764Z"
   },
   {
    "duration": 3,
    "start_time": "2021-12-26T20:22:51.020Z"
   },
   {
    "duration": 3,
    "start_time": "2021-12-26T20:22:57.851Z"
   },
   {
    "duration": 680,
    "start_time": "2021-12-26T20:23:01.054Z"
   },
   {
    "duration": 3,
    "start_time": "2021-12-26T20:23:31.123Z"
   },
   {
    "duration": 614,
    "start_time": "2021-12-26T20:23:31.708Z"
   },
   {
    "duration": 3,
    "start_time": "2021-12-26T20:24:27.739Z"
   },
   {
    "duration": 12,
    "start_time": "2021-12-26T20:24:28.237Z"
   },
   {
    "duration": 3,
    "start_time": "2021-12-26T20:24:58.843Z"
   },
   {
    "duration": 13,
    "start_time": "2021-12-26T20:24:59.340Z"
   },
   {
    "duration": 4,
    "start_time": "2021-12-26T20:26:24.557Z"
   },
   {
    "duration": 7776,
    "start_time": "2021-12-26T20:26:26.860Z"
   },
   {
    "duration": 7,
    "start_time": "2021-12-26T20:26:45.597Z"
   },
   {
    "duration": 12,
    "start_time": "2021-12-26T20:26:48.235Z"
   },
   {
    "duration": 5,
    "start_time": "2021-12-26T20:26:59.259Z"
   },
   {
    "duration": 622,
    "start_time": "2021-12-26T20:26:59.691Z"
   },
   {
    "duration": 5,
    "start_time": "2021-12-26T20:27:09.083Z"
   },
   {
    "duration": 610,
    "start_time": "2021-12-26T20:27:09.756Z"
   },
   {
    "duration": 5,
    "start_time": "2021-12-26T20:27:27.339Z"
   },
   {
    "duration": 660,
    "start_time": "2021-12-26T20:27:27.900Z"
   },
   {
    "duration": 99,
    "start_time": "2021-12-26T20:28:41.483Z"
   },
   {
    "duration": 28,
    "start_time": "2021-12-26T20:28:46.523Z"
   },
   {
    "duration": 5,
    "start_time": "2021-12-26T20:32:23.836Z"
   },
   {
    "duration": 661,
    "start_time": "2021-12-26T20:32:34.715Z"
   },
   {
    "duration": 1341,
    "start_time": "2021-12-26T20:33:21.421Z"
   },
   {
    "duration": 13,
    "start_time": "2021-12-26T20:39:11.405Z"
   },
   {
    "duration": 7611,
    "start_time": "2021-12-26T20:41:28.449Z"
   },
   {
    "duration": 221,
    "start_time": "2021-12-26T20:42:03.342Z"
   },
   {
    "duration": 225,
    "start_time": "2021-12-26T20:42:41.213Z"
   },
   {
    "duration": 325,
    "start_time": "2021-12-26T20:45:44.989Z"
   },
   {
    "duration": 235,
    "start_time": "2021-12-26T20:46:16.639Z"
   },
   {
    "duration": 231,
    "start_time": "2021-12-26T20:46:58.431Z"
   },
   {
    "duration": 336,
    "start_time": "2021-12-26T20:53:41.918Z"
   },
   {
    "duration": 398,
    "start_time": "2021-12-26T20:53:48.960Z"
   },
   {
    "duration": 449,
    "start_time": "2021-12-26T20:53:53.647Z"
   },
   {
    "duration": 431,
    "start_time": "2021-12-26T20:53:59.286Z"
   },
   {
    "duration": 421,
    "start_time": "2021-12-26T20:55:02.606Z"
   },
   {
    "duration": 12,
    "start_time": "2021-12-26T21:07:15.520Z"
   },
   {
    "duration": 1133,
    "start_time": "2021-12-26T21:11:37.732Z"
   },
   {
    "duration": 37,
    "start_time": "2021-12-26T21:11:38.867Z"
   },
   {
    "duration": 14,
    "start_time": "2021-12-26T21:11:38.906Z"
   },
   {
    "duration": 10,
    "start_time": "2021-12-26T21:11:38.922Z"
   },
   {
    "duration": 8,
    "start_time": "2021-12-26T21:11:38.934Z"
   },
   {
    "duration": 6,
    "start_time": "2021-12-26T21:11:38.943Z"
   },
   {
    "duration": 7,
    "start_time": "2021-12-26T21:11:38.950Z"
   },
   {
    "duration": 28,
    "start_time": "2021-12-26T21:11:38.959Z"
   },
   {
    "duration": 17,
    "start_time": "2021-12-26T21:11:38.989Z"
   },
   {
    "duration": 19,
    "start_time": "2021-12-26T21:11:39.008Z"
   },
   {
    "duration": 8,
    "start_time": "2021-12-26T21:11:39.029Z"
   },
   {
    "duration": 16,
    "start_time": "2021-12-26T21:11:39.039Z"
   },
   {
    "duration": 9,
    "start_time": "2021-12-26T21:11:39.057Z"
   },
   {
    "duration": 4,
    "start_time": "2021-12-26T21:11:39.068Z"
   },
   {
    "duration": 25,
    "start_time": "2021-12-26T21:11:39.074Z"
   },
   {
    "duration": 26,
    "start_time": "2021-12-26T21:11:39.101Z"
   },
   {
    "duration": 7,
    "start_time": "2021-12-26T21:11:39.129Z"
   },
   {
    "duration": 9,
    "start_time": "2021-12-26T21:11:39.138Z"
   },
   {
    "duration": 8,
    "start_time": "2021-12-26T21:11:39.149Z"
   },
   {
    "duration": 18,
    "start_time": "2021-12-26T21:11:39.159Z"
   },
   {
    "duration": 4,
    "start_time": "2021-12-26T21:11:39.178Z"
   },
   {
    "duration": 43,
    "start_time": "2021-12-26T21:11:39.184Z"
   },
   {
    "duration": 5,
    "start_time": "2021-12-26T21:11:39.229Z"
   },
   {
    "duration": 9,
    "start_time": "2021-12-26T21:11:39.235Z"
   },
   {
    "duration": 15,
    "start_time": "2021-12-26T21:11:39.245Z"
   },
   {
    "duration": 3,
    "start_time": "2021-12-26T21:11:39.261Z"
   },
   {
    "duration": 8,
    "start_time": "2021-12-26T21:11:39.267Z"
   },
   {
    "duration": 4,
    "start_time": "2021-12-26T21:11:39.277Z"
   },
   {
    "duration": 46,
    "start_time": "2021-12-26T21:11:39.283Z"
   },
   {
    "duration": 11,
    "start_time": "2021-12-26T21:11:39.330Z"
   },
   {
    "duration": 9,
    "start_time": "2021-12-26T21:11:39.342Z"
   },
   {
    "duration": 32,
    "start_time": "2021-12-26T21:11:39.352Z"
   },
   {
    "duration": 15,
    "start_time": "2021-12-26T21:11:39.385Z"
   },
   {
    "duration": 428,
    "start_time": "2021-12-26T21:11:39.401Z"
   },
   {
    "duration": 6,
    "start_time": "2021-12-26T21:11:39.831Z"
   },
   {
    "duration": 10,
    "start_time": "2021-12-26T21:11:39.838Z"
   },
   {
    "duration": 4,
    "start_time": "2021-12-26T21:11:39.849Z"
   },
   {
    "duration": 7,
    "start_time": "2021-12-26T21:11:39.854Z"
   },
   {
    "duration": 14,
    "start_time": "2021-12-26T21:11:39.863Z"
   },
   {
    "duration": 17,
    "start_time": "2021-12-26T21:11:39.878Z"
   },
   {
    "duration": 32,
    "start_time": "2021-12-26T21:11:39.897Z"
   },
   {
    "duration": 779,
    "start_time": "2021-12-26T21:11:39.931Z"
   },
   {
    "duration": 6,
    "start_time": "2021-12-26T21:11:40.711Z"
   },
   {
    "duration": 108,
    "start_time": "2021-12-26T21:11:40.719Z"
   },
   {
    "duration": 7,
    "start_time": "2021-12-26T21:11:40.829Z"
   },
   {
    "duration": 15,
    "start_time": "2021-12-26T21:11:40.837Z"
   },
   {
    "duration": 3,
    "start_time": "2021-12-26T21:11:40.854Z"
   },
   {
    "duration": 10,
    "start_time": "2021-12-26T21:11:40.858Z"
   },
   {
    "duration": 4,
    "start_time": "2021-12-26T21:11:40.870Z"
   },
   {
    "duration": 6,
    "start_time": "2021-12-26T21:11:40.875Z"
   },
   {
    "duration": 481,
    "start_time": "2021-12-26T21:11:40.882Z"
   },
   {
    "duration": 5,
    "start_time": "2021-12-26T21:11:55.967Z"
   },
   {
    "duration": 9,
    "start_time": "2021-12-26T21:11:58.238Z"
   },
   {
    "duration": 225,
    "start_time": "2021-12-26T21:12:00.695Z"
   },
   {
    "duration": 6,
    "start_time": "2021-12-26T21:14:12.992Z"
   },
   {
    "duration": 647,
    "start_time": "2021-12-26T21:14:13.920Z"
   },
   {
    "duration": 2432,
    "start_time": "2021-12-26T21:14:29.199Z"
   },
   {
    "duration": 91,
    "start_time": "2021-12-26T21:15:03.841Z"
   },
   {
    "duration": 584,
    "start_time": "2021-12-26T21:15:04.464Z"
   },
   {
    "duration": 6,
    "start_time": "2021-12-26T21:15:13.392Z"
   },
   {
    "duration": 575,
    "start_time": "2021-12-26T21:15:14.272Z"
   },
   {
    "duration": 2411,
    "start_time": "2021-12-26T21:15:19.936Z"
   },
   {
    "duration": 296,
    "start_time": "2021-12-26T21:17:40.783Z"
   },
   {
    "duration": 463,
    "start_time": "2021-12-26T21:17:47.839Z"
   },
   {
    "duration": 13,
    "start_time": "2021-12-26T21:20:46.975Z"
   },
   {
    "duration": 14,
    "start_time": "2021-12-26T21:26:21.250Z"
   },
   {
    "duration": 92,
    "start_time": "2021-12-26T21:27:30.080Z"
   },
   {
    "duration": 95,
    "start_time": "2021-12-26T21:27:49.761Z"
   },
   {
    "duration": 93,
    "start_time": "2021-12-26T21:28:01.601Z"
   },
   {
    "duration": 89,
    "start_time": "2021-12-26T21:28:13.104Z"
   },
   {
    "duration": 399,
    "start_time": "2021-12-26T21:29:05.985Z"
   },
   {
    "duration": 84,
    "start_time": "2021-12-26T21:29:13.761Z"
   },
   {
    "duration": 86,
    "start_time": "2021-12-26T21:30:21.649Z"
   },
   {
    "duration": 239,
    "start_time": "2021-12-26T21:30:32.880Z"
   },
   {
    "duration": 287,
    "start_time": "2021-12-26T21:31:00.210Z"
   },
   {
    "duration": 95,
    "start_time": "2021-12-26T21:31:17.681Z"
   },
   {
    "duration": 166,
    "start_time": "2021-12-26T21:31:26.945Z"
   },
   {
    "duration": 96,
    "start_time": "2021-12-26T21:31:32.609Z"
   },
   {
    "duration": 374,
    "start_time": "2021-12-26T21:32:15.458Z"
   },
   {
    "duration": 98,
    "start_time": "2021-12-26T21:32:25.857Z"
   },
   {
    "duration": 97,
    "start_time": "2021-12-26T21:33:00.209Z"
   },
   {
    "duration": 401,
    "start_time": "2021-12-26T21:33:06.898Z"
   },
   {
    "duration": 377,
    "start_time": "2021-12-26T21:33:13.377Z"
   },
   {
    "duration": 374,
    "start_time": "2021-12-26T21:33:35.824Z"
   },
   {
    "duration": 98,
    "start_time": "2021-12-26T21:33:53.009Z"
   },
   {
    "duration": 101,
    "start_time": "2021-12-26T21:34:08.658Z"
   },
   {
    "duration": 93,
    "start_time": "2021-12-26T21:34:13.313Z"
   },
   {
    "duration": 97,
    "start_time": "2021-12-26T21:34:17.764Z"
   },
   {
    "duration": 93,
    "start_time": "2021-12-26T21:34:24.850Z"
   },
   {
    "duration": 179,
    "start_time": "2021-12-26T21:34:28.800Z"
   },
   {
    "duration": 96,
    "start_time": "2021-12-26T21:34:32.577Z"
   },
   {
    "duration": 96,
    "start_time": "2021-12-26T21:34:35.856Z"
   },
   {
    "duration": 98,
    "start_time": "2021-12-26T21:34:40.625Z"
   },
   {
    "duration": 94,
    "start_time": "2021-12-26T21:35:10.096Z"
   },
   {
    "duration": 93,
    "start_time": "2021-12-26T21:36:32.273Z"
   },
   {
    "duration": 97,
    "start_time": "2021-12-26T21:36:40.130Z"
   },
   {
    "duration": 100,
    "start_time": "2021-12-26T21:36:43.345Z"
   },
   {
    "duration": 88,
    "start_time": "2021-12-26T21:38:23.441Z"
   },
   {
    "duration": 93,
    "start_time": "2021-12-26T21:40:39.314Z"
   },
   {
    "duration": 74,
    "start_time": "2021-12-26T21:41:24.786Z"
   },
   {
    "duration": 93,
    "start_time": "2021-12-26T21:41:31.186Z"
   },
   {
    "duration": 79,
    "start_time": "2021-12-26T21:41:52.930Z"
   },
   {
    "duration": 467,
    "start_time": "2021-12-26T21:42:02.291Z"
   },
   {
    "duration": 89,
    "start_time": "2021-12-26T21:42:07.394Z"
   },
   {
    "duration": 405,
    "start_time": "2021-12-26T21:43:52.082Z"
   },
   {
    "duration": 78,
    "start_time": "2021-12-26T21:43:59.650Z"
   },
   {
    "duration": 80,
    "start_time": "2021-12-26T21:44:07.218Z"
   },
   {
    "duration": 78,
    "start_time": "2021-12-26T21:44:12.642Z"
   },
   {
    "duration": 82,
    "start_time": "2021-12-26T21:44:20.354Z"
   },
   {
    "duration": 2,
    "start_time": "2021-12-26T21:49:38.323Z"
   },
   {
    "duration": 89,
    "start_time": "2021-12-26T21:51:20.451Z"
   },
   {
    "duration": 4,
    "start_time": "2021-12-26T21:51:39.042Z"
   },
   {
    "duration": 130,
    "start_time": "2021-12-26T21:52:06.388Z"
   },
   {
    "duration": 5,
    "start_time": "2021-12-26T21:56:52.979Z"
   },
   {
    "duration": 193,
    "start_time": "2021-12-26T21:56:53.778Z"
   },
   {
    "duration": 4,
    "start_time": "2021-12-26T22:01:21.667Z"
   },
   {
    "duration": 389,
    "start_time": "2021-12-26T22:01:43.283Z"
   },
   {
    "duration": 4,
    "start_time": "2021-12-26T22:05:38.788Z"
   },
   {
    "duration": 819,
    "start_time": "2021-12-26T22:05:40.563Z"
   },
   {
    "duration": 6,
    "start_time": "2021-12-26T22:06:28.899Z"
   },
   {
    "duration": 360,
    "start_time": "2021-12-26T22:06:29.747Z"
   },
   {
    "duration": 4,
    "start_time": "2021-12-26T22:07:15.219Z"
   },
   {
    "duration": 452,
    "start_time": "2021-12-26T22:07:15.795Z"
   },
   {
    "duration": 3,
    "start_time": "2021-12-26T22:07:29.461Z"
   },
   {
    "duration": 349,
    "start_time": "2021-12-26T22:07:30.084Z"
   },
   {
    "duration": 4,
    "start_time": "2021-12-26T22:07:44.789Z"
   },
   {
    "duration": 1037,
    "start_time": "2021-12-26T22:07:45.427Z"
   },
   {
    "duration": 4,
    "start_time": "2021-12-26T22:07:53.619Z"
   },
   {
    "duration": 1078,
    "start_time": "2021-12-26T22:07:54.499Z"
   },
   {
    "duration": 5,
    "start_time": "2021-12-26T22:08:28.019Z"
   },
   {
    "duration": 957,
    "start_time": "2021-12-26T22:08:28.851Z"
   },
   {
    "duration": 4,
    "start_time": "2021-12-26T22:08:38.484Z"
   },
   {
    "duration": 953,
    "start_time": "2021-12-26T22:08:39.172Z"
   },
   {
    "duration": 4,
    "start_time": "2021-12-26T22:08:45.239Z"
   },
   {
    "duration": 1913,
    "start_time": "2021-12-26T22:08:46.228Z"
   },
   {
    "duration": 5,
    "start_time": "2021-12-26T22:08:57.780Z"
   },
   {
    "duration": 307,
    "start_time": "2021-12-26T22:08:58.468Z"
   },
   {
    "duration": 4,
    "start_time": "2021-12-26T22:09:21.811Z"
   },
   {
    "duration": 1000,
    "start_time": "2021-12-26T22:09:22.340Z"
   },
   {
    "duration": 4,
    "start_time": "2021-12-26T22:09:44.979Z"
   },
   {
    "duration": 949,
    "start_time": "2021-12-26T22:09:46.324Z"
   },
   {
    "duration": 4,
    "start_time": "2021-12-26T22:10:02.869Z"
   },
   {
    "duration": 1273,
    "start_time": "2021-12-26T22:10:03.685Z"
   },
   {
    "duration": 4,
    "start_time": "2021-12-26T22:10:09.796Z"
   },
   {
    "duration": 6,
    "start_time": "2021-12-26T22:11:31.412Z"
   },
   {
    "duration": 1389,
    "start_time": "2021-12-26T22:11:32.276Z"
   },
   {
    "duration": 7,
    "start_time": "2021-12-26T22:12:50.500Z"
   },
   {
    "duration": 308,
    "start_time": "2021-12-26T22:12:51.336Z"
   },
   {
    "duration": 4,
    "start_time": "2021-12-26T22:13:49.013Z"
   },
   {
    "duration": 308,
    "start_time": "2021-12-26T22:13:50.324Z"
   },
   {
    "duration": 5,
    "start_time": "2021-12-26T22:14:02.819Z"
   },
   {
    "duration": 959,
    "start_time": "2021-12-26T22:14:03.507Z"
   },
   {
    "duration": 5,
    "start_time": "2021-12-26T22:15:42.596Z"
   },
   {
    "duration": 624,
    "start_time": "2021-12-26T22:15:43.492Z"
   },
   {
    "duration": 5,
    "start_time": "2021-12-26T22:16:04.019Z"
   },
   {
    "duration": 303,
    "start_time": "2021-12-26T22:16:04.948Z"
   },
   {
    "duration": 7,
    "start_time": "2021-12-26T22:16:13.444Z"
   },
   {
    "duration": 1014,
    "start_time": "2021-12-26T22:16:14.308Z"
   },
   {
    "duration": 4,
    "start_time": "2021-12-26T22:16:21.316Z"
   },
   {
    "duration": 936,
    "start_time": "2021-12-26T22:16:21.875Z"
   },
   {
    "duration": 13,
    "start_time": "2021-12-26T22:17:30.327Z"
   },
   {
    "duration": 444,
    "start_time": "2021-12-26T22:17:31.301Z"
   },
   {
    "duration": 7,
    "start_time": "2021-12-26T22:17:46.420Z"
   },
   {
    "duration": 436,
    "start_time": "2021-12-26T22:17:46.997Z"
   },
   {
    "duration": 7,
    "start_time": "2021-12-26T22:18:21.044Z"
   },
   {
    "duration": 436,
    "start_time": "2021-12-26T22:18:21.637Z"
   },
   {
    "duration": 6,
    "start_time": "2021-12-26T22:18:28.357Z"
   },
   {
    "duration": 603,
    "start_time": "2021-12-26T22:18:28.932Z"
   },
   {
    "duration": 7,
    "start_time": "2021-12-26T22:20:35.700Z"
   },
   {
    "duration": 448,
    "start_time": "2021-12-26T22:20:36.212Z"
   },
   {
    "duration": 5,
    "start_time": "2021-12-26T22:20:46.022Z"
   },
   {
    "duration": 295,
    "start_time": "2021-12-26T22:20:46.660Z"
   },
   {
    "duration": 4,
    "start_time": "2021-12-26T22:20:55.140Z"
   },
   {
    "duration": 284,
    "start_time": "2021-12-26T22:20:55.626Z"
   },
   {
    "duration": 4,
    "start_time": "2021-12-26T22:21:42.036Z"
   },
   {
    "duration": 295,
    "start_time": "2021-12-26T22:21:46.932Z"
   },
   {
    "duration": 5,
    "start_time": "2021-12-26T22:25:56.693Z"
   },
   {
    "duration": 9,
    "start_time": "2021-12-26T22:26:55.525Z"
   },
   {
    "duration": 314,
    "start_time": "2021-12-26T22:26:56.277Z"
   },
   {
    "duration": 4,
    "start_time": "2021-12-26T22:27:25.495Z"
   },
   {
    "duration": 1250,
    "start_time": "2021-12-26T22:27:26.057Z"
   },
   {
    "duration": 7,
    "start_time": "2021-12-26T22:27:30.902Z"
   },
   {
    "duration": 407,
    "start_time": "2021-12-26T22:27:31.286Z"
   },
   {
    "duration": 4,
    "start_time": "2021-12-26T22:27:38.374Z"
   },
   {
    "duration": 302,
    "start_time": "2021-12-26T22:27:38.966Z"
   },
   {
    "duration": 5,
    "start_time": "2021-12-26T22:27:43.988Z"
   },
   {
    "duration": 309,
    "start_time": "2021-12-26T22:27:44.533Z"
   },
   {
    "duration": 5,
    "start_time": "2021-12-26T22:27:51.669Z"
   },
   {
    "duration": 282,
    "start_time": "2021-12-26T22:27:52.069Z"
   },
   {
    "duration": 4,
    "start_time": "2021-12-26T22:28:02.246Z"
   },
   {
    "duration": 306,
    "start_time": "2021-12-26T22:28:02.628Z"
   },
   {
    "duration": 4,
    "start_time": "2021-12-26T22:32:08.310Z"
   },
   {
    "duration": 376,
    "start_time": "2021-12-26T22:32:13.781Z"
   },
   {
    "duration": 14,
    "start_time": "2021-12-26T22:42:52.038Z"
   },
   {
    "duration": 6,
    "start_time": "2021-12-26T22:44:32.231Z"
   },
   {
    "duration": 4,
    "start_time": "2021-12-26T22:44:40.793Z"
   },
   {
    "duration": 5,
    "start_time": "2021-12-26T22:44:46.167Z"
   },
   {
    "duration": 5,
    "start_time": "2021-12-26T22:47:18.632Z"
   },
   {
    "duration": 5,
    "start_time": "2021-12-26T22:48:09.352Z"
   },
   {
    "duration": 5,
    "start_time": "2021-12-26T22:48:22.779Z"
   },
   {
    "duration": 3,
    "start_time": "2021-12-26T22:48:40.824Z"
   },
   {
    "duration": 4,
    "start_time": "2021-12-26T22:49:01.112Z"
   },
   {
    "duration": 4,
    "start_time": "2021-12-26T22:49:02.246Z"
   },
   {
    "duration": 4,
    "start_time": "2021-12-26T22:49:04.119Z"
   },
   {
    "duration": 1123,
    "start_time": "2021-12-26T22:52:08.534Z"
   },
   {
    "duration": 37,
    "start_time": "2021-12-26T22:52:09.659Z"
   },
   {
    "duration": 15,
    "start_time": "2021-12-26T22:52:09.698Z"
   },
   {
    "duration": 13,
    "start_time": "2021-12-26T22:52:09.714Z"
   },
   {
    "duration": 8,
    "start_time": "2021-12-26T22:52:09.728Z"
   },
   {
    "duration": 3,
    "start_time": "2021-12-26T22:52:09.738Z"
   },
   {
    "duration": 4,
    "start_time": "2021-12-26T22:52:09.743Z"
   },
   {
    "duration": 23,
    "start_time": "2021-12-26T22:52:09.749Z"
   },
   {
    "duration": 17,
    "start_time": "2021-12-26T22:52:09.775Z"
   },
   {
    "duration": 33,
    "start_time": "2021-12-26T22:52:09.794Z"
   },
   {
    "duration": 7,
    "start_time": "2021-12-26T22:52:09.829Z"
   },
   {
    "duration": 11,
    "start_time": "2021-12-26T22:52:09.838Z"
   },
   {
    "duration": 10,
    "start_time": "2021-12-26T22:52:09.851Z"
   },
   {
    "duration": 3,
    "start_time": "2021-12-26T22:52:09.863Z"
   },
   {
    "duration": 22,
    "start_time": "2021-12-26T22:52:09.867Z"
   },
   {
    "duration": 4,
    "start_time": "2021-12-26T22:52:09.890Z"
   },
   {
    "duration": 7,
    "start_time": "2021-12-26T22:52:09.895Z"
   },
   {
    "duration": 10,
    "start_time": "2021-12-26T22:52:09.927Z"
   },
   {
    "duration": 7,
    "start_time": "2021-12-26T22:52:09.939Z"
   },
   {
    "duration": 19,
    "start_time": "2021-12-26T22:52:09.947Z"
   },
   {
    "duration": 3,
    "start_time": "2021-12-26T22:52:09.967Z"
   },
   {
    "duration": 7,
    "start_time": "2021-12-26T22:52:09.972Z"
   },
   {
    "duration": 7,
    "start_time": "2021-12-26T22:52:09.981Z"
   },
   {
    "duration": 9,
    "start_time": "2021-12-26T22:52:09.989Z"
   },
   {
    "duration": 40,
    "start_time": "2021-12-26T22:52:09.999Z"
   },
   {
    "duration": 5,
    "start_time": "2021-12-26T22:52:10.041Z"
   },
   {
    "duration": 8,
    "start_time": "2021-12-26T22:52:10.050Z"
   },
   {
    "duration": 5,
    "start_time": "2021-12-26T22:52:10.060Z"
   },
   {
    "duration": 17,
    "start_time": "2021-12-26T22:52:10.066Z"
   },
   {
    "duration": 10,
    "start_time": "2021-12-26T22:52:10.084Z"
   },
   {
    "duration": 35,
    "start_time": "2021-12-26T22:52:10.096Z"
   },
   {
    "duration": 30,
    "start_time": "2021-12-26T22:52:10.133Z"
   },
   {
    "duration": 9,
    "start_time": "2021-12-26T22:52:10.165Z"
   },
   {
    "duration": 417,
    "start_time": "2021-12-26T22:52:10.176Z"
   },
   {
    "duration": 6,
    "start_time": "2021-12-26T22:52:10.595Z"
   },
   {
    "duration": 26,
    "start_time": "2021-12-26T22:52:10.602Z"
   },
   {
    "duration": 4,
    "start_time": "2021-12-26T22:52:10.630Z"
   },
   {
    "duration": 9,
    "start_time": "2021-12-26T22:52:10.636Z"
   },
   {
    "duration": 23,
    "start_time": "2021-12-26T22:52:10.647Z"
   },
   {
    "duration": 26,
    "start_time": "2021-12-26T22:52:10.671Z"
   },
   {
    "duration": 3,
    "start_time": "2021-12-26T22:52:10.699Z"
   },
   {
    "duration": 1227,
    "start_time": "2021-12-26T22:52:10.704Z"
   },
   {
    "duration": 9,
    "start_time": "2021-12-26T22:52:11.933Z"
   },
   {
    "duration": 171,
    "start_time": "2021-12-26T22:52:11.944Z"
   },
   {
    "duration": 15,
    "start_time": "2021-12-26T22:52:12.117Z"
   },
   {
    "duration": 22,
    "start_time": "2021-12-26T22:52:12.133Z"
   },
   {
    "duration": 4,
    "start_time": "2021-12-26T22:52:12.157Z"
   },
   {
    "duration": 14,
    "start_time": "2021-12-26T22:52:12.163Z"
   },
   {
    "duration": 7,
    "start_time": "2021-12-26T22:52:12.179Z"
   },
   {
    "duration": 5,
    "start_time": "2021-12-26T22:52:12.188Z"
   },
   {
    "duration": 758,
    "start_time": "2021-12-26T22:52:12.195Z"
   },
   {
    "duration": 3,
    "start_time": "2021-12-26T22:52:12.955Z"
   },
   {
    "duration": 11,
    "start_time": "2021-12-26T22:52:12.960Z"
   },
   {
    "duration": 19,
    "start_time": "2021-12-26T22:52:12.973Z"
   },
   {
    "duration": 386,
    "start_time": "2021-12-26T22:52:12.993Z"
   },
   {
    "duration": 8,
    "start_time": "2021-12-26T22:52:13.381Z"
   },
   {
    "duration": 868,
    "start_time": "2021-12-26T22:52:13.390Z"
   },
   {
    "duration": 2580,
    "start_time": "2021-12-26T22:52:14.260Z"
   },
   {
    "duration": 310,
    "start_time": "2021-12-26T22:52:16.842Z"
   },
   {
    "duration": 426,
    "start_time": "2021-12-26T22:52:17.154Z"
   },
   {
    "duration": 4,
    "start_time": "2021-12-26T22:52:17.582Z"
   },
   {
    "duration": 296,
    "start_time": "2021-12-26T22:52:17.588Z"
   },
   {
    "duration": 4,
    "start_time": "2021-12-26T22:52:17.886Z"
   },
   {
    "duration": 321,
    "start_time": "2021-12-26T22:52:17.892Z"
   },
   {
    "duration": 13,
    "start_time": "2021-12-26T22:52:18.214Z"
   },
   {
    "duration": 291,
    "start_time": "2021-12-26T22:52:18.229Z"
   },
   {
    "duration": 16,
    "start_time": "2021-12-26T22:52:18.521Z"
   },
   {
    "duration": 7,
    "start_time": "2021-12-26T22:52:18.539Z"
   },
   {
    "duration": 8,
    "start_time": "2021-12-26T22:52:18.547Z"
   },
   {
    "duration": 6,
    "start_time": "2021-12-26T22:52:18.557Z"
   },
   {
    "duration": 5,
    "start_time": "2021-12-26T22:52:18.565Z"
   },
   {
    "duration": 6,
    "start_time": "2021-12-26T22:52:18.571Z"
   },
   {
    "duration": 7,
    "start_time": "2021-12-26T22:52:18.579Z"
   },
   {
    "duration": 5,
    "start_time": "2021-12-26T22:52:18.588Z"
   },
   {
    "duration": 6,
    "start_time": "2021-12-26T22:55:15.549Z"
   },
   {
    "duration": 5,
    "start_time": "2021-12-26T22:55:15.964Z"
   },
   {
    "duration": 6,
    "start_time": "2021-12-26T22:55:57.868Z"
   },
   {
    "duration": 3,
    "start_time": "2021-12-26T22:56:04.731Z"
   },
   {
    "duration": 4,
    "start_time": "2021-12-26T22:56:13.981Z"
   },
   {
    "duration": 3,
    "start_time": "2021-12-26T22:56:14.669Z"
   },
   {
    "duration": 4,
    "start_time": "2021-12-26T22:56:16.077Z"
   },
   {
    "duration": 98,
    "start_time": "2021-12-26T22:58:08.461Z"
   },
   {
    "duration": 1111,
    "start_time": "2021-12-26T23:41:08.752Z"
   },
   {
    "duration": 37,
    "start_time": "2021-12-26T23:41:09.868Z"
   },
   {
    "duration": 14,
    "start_time": "2021-12-26T23:41:10.669Z"
   },
   {
    "duration": 10,
    "start_time": "2021-12-26T23:41:11.580Z"
   },
   {
    "duration": 8,
    "start_time": "2021-12-26T23:41:13.165Z"
   },
   {
    "duration": 3,
    "start_time": "2021-12-26T23:42:55.772Z"
   },
   {
    "duration": 3,
    "start_time": "2021-12-26T23:43:00.012Z"
   },
   {
    "duration": 23,
    "start_time": "2021-12-26T23:43:00.350Z"
   },
   {
    "duration": 17,
    "start_time": "2021-12-26T23:43:03.692Z"
   },
   {
    "duration": 7,
    "start_time": "2021-12-26T23:43:06.108Z"
   },
   {
    "duration": 8,
    "start_time": "2021-12-26T23:43:06.478Z"
   },
   {
    "duration": 12,
    "start_time": "2021-12-26T23:43:11.660Z"
   },
   {
    "duration": 8,
    "start_time": "2021-12-26T23:43:15.198Z"
   },
   {
    "duration": 3,
    "start_time": "2021-12-26T23:46:01.837Z"
   },
   {
    "duration": 16,
    "start_time": "2021-12-26T23:46:02.397Z"
   },
   {
    "duration": 5,
    "start_time": "2021-12-26T23:46:03.261Z"
   },
   {
    "duration": 5,
    "start_time": "2021-12-26T23:46:05.116Z"
   },
   {
    "duration": 10,
    "start_time": "2021-12-26T23:46:36.445Z"
   },
   {
    "duration": 9,
    "start_time": "2021-12-26T23:47:20.621Z"
   },
   {
    "duration": 17,
    "start_time": "2021-12-26T23:47:22.686Z"
   },
   {
    "duration": 4,
    "start_time": "2021-12-26T23:47:23.388Z"
   },
   {
    "duration": 5,
    "start_time": "2021-12-26T23:47:25.180Z"
   },
   {
    "duration": 5,
    "start_time": "2021-12-26T23:47:26.767Z"
   },
   {
    "duration": 21,
    "start_time": "2021-12-26T23:47:51.867Z"
   },
   {
    "duration": 15,
    "start_time": "2021-12-26T23:47:54.381Z"
   },
   {
    "duration": 4,
    "start_time": "2021-12-26T23:47:58.558Z"
   },
   {
    "duration": 11,
    "start_time": "2021-12-26T23:47:58.563Z"
   },
   {
    "duration": 5,
    "start_time": "2021-12-26T23:48:19.709Z"
   },
   {
    "duration": 14,
    "start_time": "2021-12-26T23:48:21.949Z"
   },
   {
    "duration": 11,
    "start_time": "2021-12-26T23:48:22.717Z"
   },
   {
    "duration": 10,
    "start_time": "2021-12-26T23:48:23.356Z"
   },
   {
    "duration": 33,
    "start_time": "2021-12-26T23:48:25.212Z"
   },
   {
    "duration": 10,
    "start_time": "2021-12-26T23:50:58.094Z"
   },
   {
    "duration": 403,
    "start_time": "2021-12-26T23:50:59.101Z"
   },
   {
    "duration": 6,
    "start_time": "2021-12-26T23:51:10.782Z"
   },
   {
    "duration": 10,
    "start_time": "2021-12-26T23:51:13.917Z"
   },
   {
    "duration": 4,
    "start_time": "2021-12-26T23:51:15.133Z"
   },
   {
    "duration": 6,
    "start_time": "2021-12-26T23:51:15.679Z"
   },
   {
    "duration": 15,
    "start_time": "2021-12-26T23:51:17.937Z"
   },
   {
    "duration": 17,
    "start_time": "2021-12-26T23:51:18.367Z"
   },
   {
    "duration": 3,
    "start_time": "2021-12-26T23:51:26.509Z"
   },
   {
    "duration": 671,
    "start_time": "2021-12-26T23:51:32.189Z"
   },
   {
    "duration": 6,
    "start_time": "2021-12-26T23:51:45.710Z"
   },
   {
    "duration": 97,
    "start_time": "2021-12-26T23:51:50.671Z"
   },
   {
    "duration": 8,
    "start_time": "2021-12-26T23:51:51.214Z"
   },
   {
    "duration": 17,
    "start_time": "2021-12-26T23:51:53.180Z"
   },
   {
    "duration": 4,
    "start_time": "2021-12-26T23:52:21.037Z"
   },
   {
    "duration": 9,
    "start_time": "2021-12-26T23:52:22.285Z"
   },
   {
    "duration": 3,
    "start_time": "2021-12-26T23:52:24.671Z"
   },
   {
    "duration": 4,
    "start_time": "2021-12-26T23:52:26.604Z"
   },
   {
    "duration": 445,
    "start_time": "2021-12-26T23:52:27.725Z"
   },
   {
    "duration": 3,
    "start_time": "2021-12-26T23:52:37.055Z"
   },
   {
    "duration": 8,
    "start_time": "2021-12-26T23:52:37.278Z"
   },
   {
    "duration": 13,
    "start_time": "2021-12-26T23:52:38.957Z"
   },
   {
    "duration": 224,
    "start_time": "2021-12-26T23:52:45.917Z"
   },
   {
    "duration": 6,
    "start_time": "2021-12-26T23:52:56.445Z"
   },
   {
    "duration": 593,
    "start_time": "2021-12-26T23:52:56.989Z"
   },
   {
    "duration": 2465,
    "start_time": "2021-12-26T23:53:01.997Z"
   },
   {
    "duration": 298,
    "start_time": "2021-12-26T23:53:09.949Z"
   },
   {
    "duration": 423,
    "start_time": "2021-12-26T23:53:14.365Z"
   },
   {
    "duration": 5,
    "start_time": "2021-12-27T00:08:18.718Z"
   },
   {
    "duration": 281,
    "start_time": "2021-12-27T00:08:19.774Z"
   },
   {
    "duration": 4,
    "start_time": "2021-12-27T00:11:31.953Z"
   },
   {
    "duration": 325,
    "start_time": "2021-12-27T00:11:33.023Z"
   },
   {
    "duration": 5,
    "start_time": "2021-12-27T00:19:55.040Z"
   },
   {
    "duration": 284,
    "start_time": "2021-12-27T00:19:56.096Z"
   },
   {
    "duration": 5,
    "start_time": "2021-12-27T00:31:38.273Z"
   },
   {
    "duration": 6,
    "start_time": "2021-12-27T00:31:38.673Z"
   },
   {
    "duration": 5,
    "start_time": "2021-12-27T00:31:40.263Z"
   },
   {
    "duration": 2,
    "start_time": "2021-12-27T00:31:41.107Z"
   },
   {
    "duration": 4,
    "start_time": "2021-12-27T00:31:41.985Z"
   },
   {
    "duration": 3,
    "start_time": "2021-12-27T00:31:43.377Z"
   },
   {
    "duration": 4,
    "start_time": "2021-12-27T00:31:43.650Z"
   },
   {
    "duration": 5,
    "start_time": "2021-12-27T00:31:55.586Z"
   },
   {
    "duration": 766,
    "start_time": "2021-12-27T00:31:59.081Z"
   },
   {
    "duration": -46,
    "start_time": "2021-12-27T00:31:59.895Z"
   },
   {
    "duration": 272,
    "start_time": "2021-12-27T00:32:00.097Z"
   },
   {
    "duration": -8,
    "start_time": "2021-12-27T00:32:00.378Z"
   },
   {
    "duration": 6,
    "start_time": "2021-12-27T00:32:11.202Z"
   },
   {
    "duration": 5,
    "start_time": "2021-12-27T00:32:11.586Z"
   },
   {
    "duration": 5,
    "start_time": "2021-12-27T00:32:11.891Z"
   },
   {
    "duration": 2,
    "start_time": "2021-12-27T00:32:13.185Z"
   },
   {
    "duration": 3,
    "start_time": "2021-12-27T00:32:13.477Z"
   },
   {
    "duration": 4,
    "start_time": "2021-12-27T00:32:15.986Z"
   },
   {
    "duration": 4,
    "start_time": "2021-12-27T00:32:16.161Z"
   },
   {
    "duration": 1071,
    "start_time": "2021-12-27T00:47:41.591Z"
   },
   {
    "duration": 37,
    "start_time": "2021-12-27T00:47:42.663Z"
   },
   {
    "duration": 14,
    "start_time": "2021-12-27T00:47:42.702Z"
   },
   {
    "duration": 14,
    "start_time": "2021-12-27T00:47:42.718Z"
   },
   {
    "duration": 8,
    "start_time": "2021-12-27T00:47:42.734Z"
   },
   {
    "duration": 3,
    "start_time": "2021-12-27T00:47:42.743Z"
   },
   {
    "duration": 5,
    "start_time": "2021-12-27T00:47:42.748Z"
   },
   {
    "duration": 25,
    "start_time": "2021-12-27T00:47:42.754Z"
   },
   {
    "duration": 17,
    "start_time": "2021-12-27T00:47:42.781Z"
   },
   {
    "duration": 7,
    "start_time": "2021-12-27T00:47:42.828Z"
   },
   {
    "duration": 9,
    "start_time": "2021-12-27T00:47:42.837Z"
   },
   {
    "duration": 16,
    "start_time": "2021-12-27T00:47:42.848Z"
   },
   {
    "duration": 9,
    "start_time": "2021-12-27T00:47:42.865Z"
   },
   {
    "duration": 3,
    "start_time": "2021-12-27T00:47:42.876Z"
   },
   {
    "duration": 46,
    "start_time": "2021-12-27T00:47:42.881Z"
   },
   {
    "duration": 3,
    "start_time": "2021-12-27T00:47:42.929Z"
   },
   {
    "duration": 6,
    "start_time": "2021-12-27T00:47:42.934Z"
   },
   {
    "duration": 7,
    "start_time": "2021-12-27T00:47:42.942Z"
   },
   {
    "duration": 7,
    "start_time": "2021-12-27T00:47:42.951Z"
   },
   {
    "duration": 17,
    "start_time": "2021-12-27T00:47:42.959Z"
   },
   {
    "duration": 3,
    "start_time": "2021-12-27T00:47:42.977Z"
   },
   {
    "duration": 5,
    "start_time": "2021-12-27T00:47:42.982Z"
   },
   {
    "duration": 5,
    "start_time": "2021-12-27T00:47:43.027Z"
   },
   {
    "duration": 6,
    "start_time": "2021-12-27T00:47:43.034Z"
   },
   {
    "duration": 15,
    "start_time": "2021-12-27T00:47:43.042Z"
   },
   {
    "duration": 4,
    "start_time": "2021-12-27T00:47:43.058Z"
   },
   {
    "duration": 11,
    "start_time": "2021-12-27T00:47:43.067Z"
   },
   {
    "duration": 49,
    "start_time": "2021-12-27T00:47:43.080Z"
   },
   {
    "duration": 9,
    "start_time": "2021-12-27T00:47:43.131Z"
   },
   {
    "duration": 33,
    "start_time": "2021-12-27T00:47:43.142Z"
   },
   {
    "duration": 10,
    "start_time": "2021-12-27T00:47:43.177Z"
   },
   {
    "duration": 448,
    "start_time": "2021-12-27T00:47:43.189Z"
   },
   {
    "duration": 6,
    "start_time": "2021-12-27T00:47:43.639Z"
   },
   {
    "duration": 38,
    "start_time": "2021-12-27T00:47:43.646Z"
   },
   {
    "duration": 11,
    "start_time": "2021-12-27T00:47:43.686Z"
   },
   {
    "duration": 12,
    "start_time": "2021-12-27T00:47:43.698Z"
   },
   {
    "duration": 24,
    "start_time": "2021-12-27T00:47:43.711Z"
   },
   {
    "duration": 15,
    "start_time": "2021-12-27T00:47:43.736Z"
   },
   {
    "duration": 7,
    "start_time": "2021-12-27T00:47:43.752Z"
   },
   {
    "duration": 691,
    "start_time": "2021-12-27T00:47:43.760Z"
   },
   {
    "duration": 6,
    "start_time": "2021-12-27T00:47:44.452Z"
   },
   {
    "duration": 115,
    "start_time": "2021-12-27T00:47:44.460Z"
   },
   {
    "duration": 7,
    "start_time": "2021-12-27T00:47:44.576Z"
   },
   {
    "duration": 28,
    "start_time": "2021-12-27T00:47:44.584Z"
   },
   {
    "duration": 3,
    "start_time": "2021-12-27T00:47:44.614Z"
   },
   {
    "duration": 11,
    "start_time": "2021-12-27T00:47:44.627Z"
   },
   {
    "duration": 21,
    "start_time": "2021-12-27T00:47:44.639Z"
   },
   {
    "duration": 8,
    "start_time": "2021-12-27T00:47:44.662Z"
   },
   {
    "duration": 440,
    "start_time": "2021-12-27T00:47:44.672Z"
   },
   {
    "duration": 13,
    "start_time": "2021-12-27T00:47:45.114Z"
   },
   {
    "duration": 8,
    "start_time": "2021-12-27T00:47:45.128Z"
   },
   {
    "duration": 230,
    "start_time": "2021-12-27T00:47:45.138Z"
   },
   {
    "duration": 5,
    "start_time": "2021-12-27T00:47:45.369Z"
   },
   {
    "duration": 657,
    "start_time": "2021-12-27T00:47:45.376Z"
   },
   {
    "duration": 2427,
    "start_time": "2021-12-27T00:47:46.034Z"
   },
   {
    "duration": 315,
    "start_time": "2021-12-27T00:47:48.462Z"
   },
   {
    "duration": 433,
    "start_time": "2021-12-27T00:47:48.778Z"
   },
   {
    "duration": 16,
    "start_time": "2021-12-27T00:47:49.213Z"
   },
   {
    "duration": 294,
    "start_time": "2021-12-27T00:47:49.231Z"
   },
   {
    "duration": 4,
    "start_time": "2021-12-27T00:47:49.527Z"
   },
   {
    "duration": 311,
    "start_time": "2021-12-27T00:47:49.533Z"
   },
   {
    "duration": 6,
    "start_time": "2021-12-27T00:47:49.846Z"
   },
   {
    "duration": 306,
    "start_time": "2021-12-27T00:47:49.854Z"
   },
   {
    "duration": 5,
    "start_time": "2021-12-27T00:47:50.162Z"
   },
   {
    "duration": 7,
    "start_time": "2021-12-27T00:47:50.168Z"
   },
   {
    "duration": 7,
    "start_time": "2021-12-27T00:47:50.177Z"
   },
   {
    "duration": 6,
    "start_time": "2021-12-27T00:47:50.186Z"
   },
   {
    "duration": 6,
    "start_time": "2021-12-27T00:47:50.194Z"
   },
   {
    "duration": 26,
    "start_time": "2021-12-27T00:47:50.201Z"
   },
   {
    "duration": 3,
    "start_time": "2021-12-27T00:47:50.229Z"
   },
   {
    "duration": 9,
    "start_time": "2021-12-27T00:47:50.233Z"
   },
   {
    "duration": 12,
    "start_time": "2021-12-27T00:47:50.243Z"
   },
   {
    "duration": 8,
    "start_time": "2021-12-27T00:47:50.257Z"
   },
   {
    "duration": 6,
    "start_time": "2021-12-27T00:47:50.266Z"
   },
   {
    "duration": 6,
    "start_time": "2021-12-27T00:47:50.274Z"
   },
   {
    "duration": 6,
    "start_time": "2021-12-27T00:47:50.282Z"
   },
   {
    "duration": 9,
    "start_time": "2021-12-27T00:47:50.289Z"
   },
   {
    "duration": 1082,
    "start_time": "2021-12-27T20:53:01.305Z"
   },
   {
    "duration": 36,
    "start_time": "2021-12-27T20:53:02.389Z"
   },
   {
    "duration": 15,
    "start_time": "2021-12-27T20:53:02.427Z"
   },
   {
    "duration": 32,
    "start_time": "2021-12-27T20:53:02.443Z"
   },
   {
    "duration": 54,
    "start_time": "2021-12-27T20:53:02.477Z"
   },
   {
    "duration": 4,
    "start_time": "2021-12-27T20:53:02.533Z"
   },
   {
    "duration": 6,
    "start_time": "2021-12-27T20:53:02.539Z"
   },
   {
    "duration": 22,
    "start_time": "2021-12-27T20:53:02.547Z"
   },
   {
    "duration": 17,
    "start_time": "2021-12-27T20:53:02.571Z"
   },
   {
    "duration": 7,
    "start_time": "2021-12-27T20:53:02.590Z"
   },
   {
    "duration": 9,
    "start_time": "2021-12-27T20:53:02.598Z"
   },
   {
    "duration": 13,
    "start_time": "2021-12-27T20:53:02.608Z"
   },
   {
    "duration": 22,
    "start_time": "2021-12-27T20:53:02.623Z"
   },
   {
    "duration": 4,
    "start_time": "2021-12-27T20:53:02.647Z"
   },
   {
    "duration": 24,
    "start_time": "2021-12-27T20:53:02.652Z"
   },
   {
    "duration": 4,
    "start_time": "2021-12-27T20:53:02.677Z"
   },
   {
    "duration": 19,
    "start_time": "2021-12-27T20:53:02.682Z"
   },
   {
    "duration": 20,
    "start_time": "2021-12-27T20:53:02.703Z"
   },
   {
    "duration": 16,
    "start_time": "2021-12-27T20:53:02.725Z"
   },
   {
    "duration": 59,
    "start_time": "2021-12-27T20:53:02.743Z"
   },
   {
    "duration": 4,
    "start_time": "2021-12-27T20:53:02.804Z"
   },
   {
    "duration": 15,
    "start_time": "2021-12-27T20:53:02.810Z"
   },
   {
    "duration": 6,
    "start_time": "2021-12-27T20:53:02.829Z"
   },
   {
    "duration": 10,
    "start_time": "2021-12-27T20:53:02.837Z"
   },
   {
    "duration": 24,
    "start_time": "2021-12-27T20:53:02.849Z"
   },
   {
    "duration": 5,
    "start_time": "2021-12-27T20:53:02.874Z"
   },
   {
    "duration": 21,
    "start_time": "2021-12-27T20:53:02.881Z"
   },
   {
    "duration": 18,
    "start_time": "2021-12-27T20:53:02.903Z"
   },
   {
    "duration": 15,
    "start_time": "2021-12-27T20:53:02.922Z"
   },
   {
    "duration": 45,
    "start_time": "2021-12-27T20:53:02.938Z"
   },
   {
    "duration": 9,
    "start_time": "2021-12-27T20:53:02.985Z"
   },
   {
    "duration": 430,
    "start_time": "2021-12-27T20:53:02.996Z"
   },
   {
    "duration": 13,
    "start_time": "2021-12-27T20:53:03.428Z"
   },
   {
    "duration": 15,
    "start_time": "2021-12-27T20:53:03.443Z"
   },
   {
    "duration": 3,
    "start_time": "2021-12-27T20:53:03.460Z"
   },
   {
    "duration": 11,
    "start_time": "2021-12-27T20:53:03.465Z"
   },
   {
    "duration": 19,
    "start_time": "2021-12-27T20:53:03.478Z"
   },
   {
    "duration": 17,
    "start_time": "2021-12-27T20:53:03.499Z"
   },
   {
    "duration": 24,
    "start_time": "2021-12-27T20:53:03.518Z"
   },
   {
    "duration": 716,
    "start_time": "2021-12-27T20:53:03.543Z"
   },
   {
    "duration": 7,
    "start_time": "2021-12-27T20:53:04.260Z"
   },
   {
    "duration": 117,
    "start_time": "2021-12-27T20:53:04.268Z"
   },
   {
    "duration": 8,
    "start_time": "2021-12-27T20:53:04.387Z"
   },
   {
    "duration": 18,
    "start_time": "2021-12-27T20:53:04.398Z"
   },
   {
    "duration": 24,
    "start_time": "2021-12-27T20:53:04.417Z"
   },
   {
    "duration": 8,
    "start_time": "2021-12-27T20:53:04.443Z"
   },
   {
    "duration": 5,
    "start_time": "2021-12-27T20:53:04.453Z"
   },
   {
    "duration": 6,
    "start_time": "2021-12-27T20:53:04.460Z"
   },
   {
    "duration": 498,
    "start_time": "2021-12-27T20:53:04.468Z"
   },
   {
    "duration": 3,
    "start_time": "2021-12-27T20:53:04.967Z"
   },
   {
    "duration": 25,
    "start_time": "2021-12-27T20:53:04.971Z"
   },
   {
    "duration": 254,
    "start_time": "2021-12-27T20:53:04.998Z"
   },
   {
    "duration": 5,
    "start_time": "2021-12-27T20:53:05.254Z"
   },
   {
    "duration": 608,
    "start_time": "2021-12-27T20:53:05.260Z"
   },
   {
    "duration": 2373,
    "start_time": "2021-12-27T20:53:05.870Z"
   },
   {
    "duration": 310,
    "start_time": "2021-12-27T20:53:08.244Z"
   },
   {
    "duration": 422,
    "start_time": "2021-12-27T20:53:08.555Z"
   },
   {
    "duration": 4,
    "start_time": "2021-12-27T20:53:08.979Z"
   },
   {
    "duration": 284,
    "start_time": "2021-12-27T20:53:08.984Z"
   },
   {
    "duration": 4,
    "start_time": "2021-12-27T20:53:09.270Z"
   },
   {
    "duration": 299,
    "start_time": "2021-12-27T20:53:09.275Z"
   },
   {
    "duration": 5,
    "start_time": "2021-12-27T20:53:09.575Z"
   },
   {
    "duration": 286,
    "start_time": "2021-12-27T20:53:09.581Z"
   },
   {
    "duration": 5,
    "start_time": "2021-12-27T20:53:09.869Z"
   },
   {
    "duration": 7,
    "start_time": "2021-12-27T20:53:09.875Z"
   },
   {
    "duration": 6,
    "start_time": "2021-12-27T20:53:09.883Z"
   },
   {
    "duration": 4,
    "start_time": "2021-12-27T20:53:09.891Z"
   },
   {
    "duration": 3,
    "start_time": "2021-12-27T20:53:09.899Z"
   },
   {
    "duration": 4,
    "start_time": "2021-12-27T20:53:09.904Z"
   },
   {
    "duration": 7,
    "start_time": "2021-12-27T20:53:09.909Z"
   },
   {
    "duration": 5,
    "start_time": "2021-12-27T20:53:09.941Z"
   },
   {
    "duration": 7,
    "start_time": "2021-12-27T20:53:09.947Z"
   },
   {
    "duration": 12,
    "start_time": "2021-12-27T20:53:09.955Z"
   },
   {
    "duration": 12,
    "start_time": "2021-12-27T20:53:09.968Z"
   },
   {
    "duration": 13,
    "start_time": "2021-12-27T20:53:09.981Z"
   },
   {
    "duration": 10,
    "start_time": "2021-12-27T20:53:09.995Z"
   },
   {
    "duration": 16,
    "start_time": "2021-12-27T20:53:10.007Z"
   },
   {
    "duration": 3,
    "start_time": "2021-12-27T21:22:50.862Z"
   },
   {
    "duration": 18,
    "start_time": "2021-12-27T21:28:46.830Z"
   },
   {
    "duration": 4,
    "start_time": "2021-12-27T21:28:58.755Z"
   },
   {
    "duration": 425,
    "start_time": "2021-12-28T12:44:57.863Z"
   },
   {
    "duration": 1106,
    "start_time": "2021-12-28T12:45:06.656Z"
   },
   {
    "duration": 36,
    "start_time": "2021-12-28T12:45:07.763Z"
   },
   {
    "duration": 13,
    "start_time": "2021-12-28T12:45:07.801Z"
   },
   {
    "duration": 10,
    "start_time": "2021-12-28T12:45:07.816Z"
   },
   {
    "duration": 8,
    "start_time": "2021-12-28T12:45:07.828Z"
   },
   {
    "duration": 4,
    "start_time": "2021-12-28T12:45:07.837Z"
   },
   {
    "duration": 4,
    "start_time": "2021-12-28T12:45:07.842Z"
   },
   {
    "duration": 22,
    "start_time": "2021-12-28T12:45:07.848Z"
   },
   {
    "duration": 16,
    "start_time": "2021-12-28T12:45:07.873Z"
   },
   {
    "duration": 6,
    "start_time": "2021-12-28T12:45:07.891Z"
   },
   {
    "duration": 8,
    "start_time": "2021-12-28T12:45:07.927Z"
   },
   {
    "duration": 11,
    "start_time": "2021-12-28T12:45:07.936Z"
   },
   {
    "duration": 7,
    "start_time": "2021-12-28T12:45:07.949Z"
   },
   {
    "duration": 4,
    "start_time": "2021-12-28T12:45:14.231Z"
   },
   {
    "duration": 4,
    "start_time": "2021-12-28T12:45:15.335Z"
   },
   {
    "duration": 5,
    "start_time": "2021-12-28T12:45:45.175Z"
   },
   {
    "duration": 13,
    "start_time": "2021-12-28T12:45:48.519Z"
   },
   {
    "duration": 8,
    "start_time": "2021-12-28T12:45:50.295Z"
   },
   {
    "duration": 4,
    "start_time": "2021-12-28T12:46:18.296Z"
   },
   {
    "duration": 4,
    "start_time": "2021-12-28T12:46:18.967Z"
   },
   {
    "duration": 5,
    "start_time": "2021-12-28T12:46:45.271Z"
   },
   {
    "duration": 5,
    "start_time": "2021-12-28T12:46:45.863Z"
   },
   {
    "duration": 6,
    "start_time": "2021-12-28T12:46:47.959Z"
   },
   {
    "duration": 16,
    "start_time": "2021-12-28T12:46:50.566Z"
   },
   {
    "duration": 6,
    "start_time": "2021-12-28T12:46:59.495Z"
   },
   {
    "duration": 13,
    "start_time": "2021-12-28T12:47:01.879Z"
   },
   {
    "duration": 9,
    "start_time": "2021-12-28T12:47:03.111Z"
   },
   {
    "duration": 13,
    "start_time": "2021-12-28T12:47:04.215Z"
   },
   {
    "duration": 32,
    "start_time": "2021-12-28T12:47:05.831Z"
   },
   {
    "duration": 10,
    "start_time": "2021-12-28T12:47:28.951Z"
   },
   {
    "duration": 414,
    "start_time": "2021-12-28T12:47:30.731Z"
   },
   {
    "duration": 6,
    "start_time": "2021-12-28T12:47:34.727Z"
   },
   {
    "duration": 10,
    "start_time": "2021-12-28T12:48:15.669Z"
   },
   {
    "duration": 3,
    "start_time": "2021-12-28T12:48:15.681Z"
   },
   {
    "duration": 6,
    "start_time": "2021-12-28T12:48:16.647Z"
   },
   {
    "duration": 15,
    "start_time": "2021-12-28T12:48:19.384Z"
   },
   {
    "duration": 16,
    "start_time": "2021-12-28T12:48:19.815Z"
   },
   {
    "duration": 4,
    "start_time": "2021-12-28T12:48:22.583Z"
   },
   {
    "duration": 663,
    "start_time": "2021-12-28T12:48:31.096Z"
   },
   {
    "duration": 7,
    "start_time": "2021-12-28T12:48:38.679Z"
   },
   {
    "duration": 104,
    "start_time": "2021-12-28T12:48:42.024Z"
   },
   {
    "duration": 8,
    "start_time": "2021-12-28T12:48:43.288Z"
   },
   {
    "duration": 16,
    "start_time": "2021-12-28T12:49:11.447Z"
   },
   {
    "duration": 3,
    "start_time": "2021-12-28T13:10:14.618Z"
   },
   {
    "duration": 9,
    "start_time": "2021-12-28T13:10:15.293Z"
   },
   {
    "duration": 13,
    "start_time": "2021-12-28T13:12:16.547Z"
   },
   {
    "duration": 3,
    "start_time": "2021-12-28T13:12:18.810Z"
   },
   {
    "duration": 360,
    "start_time": "2021-12-28T13:13:23.546Z"
   },
   {
    "duration": 5,
    "start_time": "2021-12-28T13:13:29.162Z"
   },
   {
    "duration": 401,
    "start_time": "2021-12-28T13:13:34.173Z"
   },
   {
    "duration": 3,
    "start_time": "2021-12-28T13:20:19.898Z"
   },
   {
    "duration": 3,
    "start_time": "2021-12-28T13:20:46.354Z"
   },
   {
    "duration": 8,
    "start_time": "2021-12-28T13:24:17.659Z"
   },
   {
    "duration": 306,
    "start_time": "2021-12-28T13:24:54.731Z"
   },
   {
    "duration": 462,
    "start_time": "2021-12-28T13:27:10.972Z"
   },
   {
    "duration": 311,
    "start_time": "2021-12-28T13:27:58.900Z"
   },
   {
    "duration": 325,
    "start_time": "2021-12-28T13:28:10.972Z"
   },
   {
    "duration": 343,
    "start_time": "2021-12-28T13:28:19.724Z"
   },
   {
    "duration": 380,
    "start_time": "2021-12-28T13:28:25.531Z"
   },
   {
    "duration": 309,
    "start_time": "2021-12-28T13:28:31.548Z"
   },
   {
    "duration": 302,
    "start_time": "2021-12-28T13:28:39.436Z"
   },
   {
    "duration": 7,
    "start_time": "2021-12-28T13:37:20.796Z"
   },
   {
    "duration": 613,
    "start_time": "2021-12-28T13:37:45.819Z"
   },
   {
    "duration": 2477,
    "start_time": "2021-12-28T13:37:54.380Z"
   },
   {
    "duration": 225,
    "start_time": "2021-12-28T13:38:03.627Z"
   },
   {
    "duration": 547,
    "start_time": "2021-12-28T13:38:07.963Z"
   },
   {
    "duration": 431,
    "start_time": "2021-12-28T13:39:01.368Z"
   },
   {
    "duration": 431,
    "start_time": "2021-12-28T13:39:06.687Z"
   },
   {
    "duration": 5,
    "start_time": "2021-12-28T13:43:01.245Z"
   },
   {
    "duration": 385,
    "start_time": "2021-12-28T13:43:02.638Z"
   },
   {
    "duration": 287,
    "start_time": "2021-12-28T13:43:27.717Z"
   },
   {
    "duration": 5,
    "start_time": "2021-12-28T13:46:21.581Z"
   },
   {
    "duration": 297,
    "start_time": "2021-12-28T13:46:22.461Z"
   },
   {
    "duration": 5,
    "start_time": "2021-12-28T13:48:27.805Z"
   },
   {
    "duration": 287,
    "start_time": "2021-12-28T13:48:29.133Z"
   },
   {
    "duration": 7,
    "start_time": "2021-12-28T13:54:07.517Z"
   },
   {
    "duration": 5,
    "start_time": "2021-12-28T13:54:08.158Z"
   },
   {
    "duration": 6,
    "start_time": "2021-12-28T13:54:09.085Z"
   },
   {
    "duration": 2,
    "start_time": "2021-12-28T13:54:14.573Z"
   },
   {
    "duration": 4,
    "start_time": "2021-12-28T13:54:16.924Z"
   },
   {
    "duration": 3,
    "start_time": "2021-12-28T13:54:17.614Z"
   },
   {
    "duration": 3,
    "start_time": "2021-12-28T13:54:19.374Z"
   },
   {
    "duration": 121,
    "start_time": "2021-12-28T13:57:51.926Z"
   },
   {
    "duration": 6,
    "start_time": "2021-12-28T13:59:03.375Z"
   },
   {
    "duration": 582,
    "start_time": "2021-12-28T13:59:04.958Z"
   },
   {
    "duration": 2448,
    "start_time": "2021-12-28T13:59:26.884Z"
   },
   {
    "duration": 219,
    "start_time": "2021-12-28T14:00:17.198Z"
   },
   {
    "duration": 407,
    "start_time": "2021-12-28T14:00:19.647Z"
   },
   {
    "duration": 420,
    "start_time": "2021-12-28T14:00:21.230Z"
   },
   {
    "duration": 5,
    "start_time": "2021-12-28T14:00:32.334Z"
   },
   {
    "duration": 366,
    "start_time": "2021-12-28T14:00:33.646Z"
   },
   {
    "duration": 5,
    "start_time": "2021-12-28T14:00:37.678Z"
   },
   {
    "duration": 303,
    "start_time": "2021-12-28T14:00:38.911Z"
   },
   {
    "duration": 5,
    "start_time": "2021-12-28T14:00:46.718Z"
   },
   {
    "duration": 291,
    "start_time": "2021-12-28T14:00:48.238Z"
   },
   {
    "duration": 7,
    "start_time": "2021-12-28T14:01:51.486Z"
   },
   {
    "duration": 8,
    "start_time": "2021-12-28T14:01:52.239Z"
   },
   {
    "duration": 6,
    "start_time": "2021-12-28T14:01:54.244Z"
   },
   {
    "duration": 3,
    "start_time": "2021-12-28T14:01:57.646Z"
   },
   {
    "duration": 3,
    "start_time": "2021-12-28T14:01:58.254Z"
   },
   {
    "duration": 3,
    "start_time": "2021-12-28T14:01:58.591Z"
   },
   {
    "duration": 2,
    "start_time": "2021-12-28T14:02:09.151Z"
   },
   {
    "duration": 8,
    "start_time": "2021-12-28T14:02:55.070Z"
   },
   {
    "duration": 7,
    "start_time": "2021-12-28T14:02:56.495Z"
   },
   {
    "duration": 6,
    "start_time": "2021-12-28T14:02:57.998Z"
   },
   {
    "duration": 3,
    "start_time": "2021-12-28T14:03:00.286Z"
   },
   {
    "duration": 4,
    "start_time": "2021-12-28T14:03:01.539Z"
   },
   {
    "duration": 3,
    "start_time": "2021-12-28T14:03:01.935Z"
   },
   {
    "duration": 3,
    "start_time": "2021-12-28T14:03:02.975Z"
   },
   {
    "duration": 1071,
    "start_time": "2021-12-28T14:16:06.056Z"
   },
   {
    "duration": 35,
    "start_time": "2021-12-28T14:16:07.129Z"
   },
   {
    "duration": 14,
    "start_time": "2021-12-28T14:16:07.166Z"
   },
   {
    "duration": 13,
    "start_time": "2021-12-28T14:16:07.182Z"
   },
   {
    "duration": 8,
    "start_time": "2021-12-28T14:16:07.197Z"
   },
   {
    "duration": 4,
    "start_time": "2021-12-28T14:16:07.206Z"
   },
   {
    "duration": 17,
    "start_time": "2021-12-28T14:16:07.211Z"
   },
   {
    "duration": 23,
    "start_time": "2021-12-28T14:16:07.229Z"
   },
   {
    "duration": 16,
    "start_time": "2021-12-28T14:16:07.254Z"
   },
   {
    "duration": 5,
    "start_time": "2021-12-28T14:16:07.272Z"
   },
   {
    "duration": 8,
    "start_time": "2021-12-28T14:16:07.279Z"
   },
   {
    "duration": 11,
    "start_time": "2021-12-28T14:16:07.289Z"
   },
   {
    "duration": 8,
    "start_time": "2021-12-28T14:16:07.327Z"
   },
   {
    "duration": 4,
    "start_time": "2021-12-28T14:16:07.336Z"
   },
   {
    "duration": 5,
    "start_time": "2021-12-28T14:16:07.341Z"
   },
   {
    "duration": 5,
    "start_time": "2021-12-28T14:16:07.348Z"
   },
   {
    "duration": 9,
    "start_time": "2021-12-28T14:16:07.355Z"
   },
   {
    "duration": 8,
    "start_time": "2021-12-28T14:16:07.365Z"
   },
   {
    "duration": 4,
    "start_time": "2021-12-28T14:16:07.375Z"
   },
   {
    "duration": 46,
    "start_time": "2021-12-28T14:16:07.381Z"
   },
   {
    "duration": 5,
    "start_time": "2021-12-28T14:16:07.429Z"
   },
   {
    "duration": 6,
    "start_time": "2021-12-28T14:16:07.435Z"
   },
   {
    "duration": 7,
    "start_time": "2021-12-28T14:16:07.443Z"
   },
   {
    "duration": 15,
    "start_time": "2021-12-28T14:16:07.451Z"
   },
   {
    "duration": 5,
    "start_time": "2021-12-28T14:16:07.467Z"
   },
   {
    "duration": 12,
    "start_time": "2021-12-28T14:16:07.473Z"
   },
   {
    "duration": 41,
    "start_time": "2021-12-28T14:16:07.490Z"
   },
   {
    "duration": 10,
    "start_time": "2021-12-28T14:16:07.534Z"
   },
   {
    "duration": 11,
    "start_time": "2021-12-28T14:16:07.545Z"
   },
   {
    "duration": 432,
    "start_time": "2021-12-28T14:16:07.558Z"
   },
   {
    "duration": 8,
    "start_time": "2021-12-28T14:16:07.992Z"
   },
   {
    "duration": 27,
    "start_time": "2021-12-28T14:16:08.001Z"
   },
   {
    "duration": 4,
    "start_time": "2021-12-28T14:16:08.029Z"
   },
   {
    "duration": 10,
    "start_time": "2021-12-28T14:16:08.035Z"
   },
   {
    "duration": 19,
    "start_time": "2021-12-28T14:16:08.047Z"
   },
   {
    "duration": 16,
    "start_time": "2021-12-28T14:16:08.067Z"
   },
   {
    "duration": 4,
    "start_time": "2021-12-28T14:16:08.085Z"
   },
   {
    "duration": 711,
    "start_time": "2021-12-28T14:16:08.091Z"
   },
   {
    "duration": 6,
    "start_time": "2021-12-28T14:16:08.804Z"
   },
   {
    "duration": 112,
    "start_time": "2021-12-28T14:16:08.811Z"
   },
   {
    "duration": 6,
    "start_time": "2021-12-28T14:16:08.925Z"
   },
   {
    "duration": 25,
    "start_time": "2021-12-28T14:16:08.933Z"
   },
   {
    "duration": 5,
    "start_time": "2021-12-28T14:16:08.959Z"
   },
   {
    "duration": 22,
    "start_time": "2021-12-28T14:16:08.965Z"
   },
   {
    "duration": 9,
    "start_time": "2021-12-28T14:16:08.989Z"
   },
   {
    "duration": 21,
    "start_time": "2021-12-28T14:16:08.999Z"
   },
   {
    "duration": 407,
    "start_time": "2021-12-28T14:16:09.021Z"
   },
   {
    "duration": 2,
    "start_time": "2021-12-28T14:16:09.430Z"
   },
   {
    "duration": 16,
    "start_time": "2021-12-28T14:16:09.434Z"
   },
   {
    "duration": 399,
    "start_time": "2021-12-28T14:16:09.452Z"
   },
   {
    "duration": 321,
    "start_time": "2021-12-28T14:16:09.853Z"
   },
   {
    "duration": 5,
    "start_time": "2021-12-28T14:16:10.175Z"
   },
   {
    "duration": 648,
    "start_time": "2021-12-28T14:16:10.181Z"
   },
   {
    "duration": 2523,
    "start_time": "2021-12-28T14:16:10.830Z"
   },
   {
    "duration": 223,
    "start_time": "2021-12-28T14:16:13.354Z"
   },
   {
    "duration": 416,
    "start_time": "2021-12-28T14:16:13.578Z"
   },
   {
    "duration": 440,
    "start_time": "2021-12-28T14:16:13.995Z"
   },
   {
    "duration": 5,
    "start_time": "2021-12-28T14:16:14.436Z"
   },
   {
    "duration": 295,
    "start_time": "2021-12-28T14:16:14.442Z"
   },
   {
    "duration": 5,
    "start_time": "2021-12-28T14:16:14.738Z"
   },
   {
    "duration": 378,
    "start_time": "2021-12-28T14:16:14.744Z"
   },
   {
    "duration": 4,
    "start_time": "2021-12-28T14:16:15.127Z"
   },
   {
    "duration": 296,
    "start_time": "2021-12-28T14:16:15.133Z"
   },
   {
    "duration": 7,
    "start_time": "2021-12-28T14:16:15.430Z"
   },
   {
    "duration": 13,
    "start_time": "2021-12-28T14:16:15.439Z"
   },
   {
    "duration": 8,
    "start_time": "2021-12-28T14:16:15.453Z"
   },
   {
    "duration": 7,
    "start_time": "2021-12-28T14:16:15.462Z"
   },
   {
    "duration": 6,
    "start_time": "2021-12-28T14:16:15.470Z"
   },
   {
    "duration": 5,
    "start_time": "2021-12-28T14:16:15.478Z"
   },
   {
    "duration": 4,
    "start_time": "2021-12-28T14:16:15.485Z"
   },
   {
    "duration": 10,
    "start_time": "2021-12-28T14:16:15.491Z"
   },
   {
    "duration": 26,
    "start_time": "2021-12-28T14:16:15.502Z"
   },
   {
    "duration": 5,
    "start_time": "2021-12-28T14:16:15.530Z"
   },
   {
    "duration": 6,
    "start_time": "2021-12-28T14:16:15.536Z"
   },
   {
    "duration": 6,
    "start_time": "2021-12-28T14:16:15.543Z"
   },
   {
    "duration": 7,
    "start_time": "2021-12-28T14:16:15.550Z"
   },
   {
    "duration": 4,
    "start_time": "2021-12-28T14:16:15.558Z"
   },
   {
    "duration": 1187,
    "start_time": "2021-12-28T20:56:28.324Z"
   },
   {
    "duration": 37,
    "start_time": "2021-12-28T20:56:29.512Z"
   },
   {
    "duration": 14,
    "start_time": "2021-12-28T20:56:29.551Z"
   },
   {
    "duration": 10,
    "start_time": "2021-12-28T20:56:29.567Z"
   },
   {
    "duration": 8,
    "start_time": "2021-12-28T20:56:29.579Z"
   },
   {
    "duration": 3,
    "start_time": "2021-12-28T20:56:29.588Z"
   },
   {
    "duration": 4,
    "start_time": "2021-12-28T20:56:29.592Z"
   },
   {
    "duration": 27,
    "start_time": "2021-12-28T20:56:29.599Z"
   },
   {
    "duration": 42,
    "start_time": "2021-12-28T20:56:29.628Z"
   },
   {
    "duration": 7,
    "start_time": "2021-12-28T20:56:29.672Z"
   },
   {
    "duration": 10,
    "start_time": "2021-12-28T20:56:29.680Z"
   },
   {
    "duration": 12,
    "start_time": "2021-12-28T20:56:29.692Z"
   },
   {
    "duration": 11,
    "start_time": "2021-12-28T20:56:29.706Z"
   },
   {
    "duration": 4,
    "start_time": "2021-12-28T20:56:29.719Z"
   },
   {
    "duration": 37,
    "start_time": "2021-12-28T20:56:29.724Z"
   },
   {
    "duration": 6,
    "start_time": "2021-12-28T20:56:29.762Z"
   },
   {
    "duration": 11,
    "start_time": "2021-12-28T20:56:29.770Z"
   },
   {
    "duration": 8,
    "start_time": "2021-12-28T20:56:29.782Z"
   },
   {
    "duration": 9,
    "start_time": "2021-12-28T20:56:29.791Z"
   },
   {
    "duration": 13,
    "start_time": "2021-12-28T20:56:29.801Z"
   },
   {
    "duration": 16,
    "start_time": "2021-12-28T20:56:29.815Z"
   },
   {
    "duration": 11,
    "start_time": "2021-12-28T20:56:29.833Z"
   },
   {
    "duration": 17,
    "start_time": "2021-12-28T20:56:29.848Z"
   },
   {
    "duration": 19,
    "start_time": "2021-12-28T20:56:29.868Z"
   },
   {
    "duration": 5,
    "start_time": "2021-12-28T20:56:29.889Z"
   },
   {
    "duration": 17,
    "start_time": "2021-12-28T20:56:29.895Z"
   },
   {
    "duration": 11,
    "start_time": "2021-12-28T20:56:29.913Z"
   },
   {
    "duration": 9,
    "start_time": "2021-12-28T20:56:29.925Z"
   },
   {
    "duration": 11,
    "start_time": "2021-12-28T20:56:29.960Z"
   },
   {
    "duration": 457,
    "start_time": "2021-12-28T20:56:29.973Z"
   },
   {
    "duration": 7,
    "start_time": "2021-12-28T20:56:30.432Z"
   },
   {
    "duration": 26,
    "start_time": "2021-12-28T20:56:30.441Z"
   },
   {
    "duration": 4,
    "start_time": "2021-12-28T20:56:30.469Z"
   },
   {
    "duration": 14,
    "start_time": "2021-12-28T20:56:30.474Z"
   },
   {
    "duration": 27,
    "start_time": "2021-12-28T20:56:30.489Z"
   },
   {
    "duration": 17,
    "start_time": "2021-12-28T20:56:30.518Z"
   },
   {
    "duration": 9,
    "start_time": "2021-12-28T20:56:30.537Z"
   },
   {
    "duration": 746,
    "start_time": "2021-12-28T20:56:30.548Z"
   },
   {
    "duration": 7,
    "start_time": "2021-12-28T20:56:31.296Z"
   },
   {
    "duration": 121,
    "start_time": "2021-12-28T20:56:31.306Z"
   },
   {
    "duration": 9,
    "start_time": "2021-12-28T20:56:31.429Z"
   },
   {
    "duration": 30,
    "start_time": "2021-12-28T20:56:31.440Z"
   },
   {
    "duration": 5,
    "start_time": "2021-12-28T20:56:31.472Z"
   },
   {
    "duration": 12,
    "start_time": "2021-12-28T20:56:31.479Z"
   },
   {
    "duration": 6,
    "start_time": "2021-12-28T20:56:31.493Z"
   },
   {
    "duration": 6,
    "start_time": "2021-12-28T20:56:31.501Z"
   },
   {
    "duration": 464,
    "start_time": "2021-12-28T20:56:31.508Z"
   },
   {
    "duration": 4,
    "start_time": "2021-12-28T20:56:31.974Z"
   },
   {
    "duration": 14,
    "start_time": "2021-12-28T20:56:31.980Z"
   },
   {
    "duration": 342,
    "start_time": "2021-12-28T20:56:31.996Z"
   },
   {
    "duration": 329,
    "start_time": "2021-12-28T20:56:32.340Z"
   },
   {
    "duration": 16,
    "start_time": "2021-12-28T20:56:32.671Z"
   },
   {
    "duration": 607,
    "start_time": "2021-12-28T20:56:32.688Z"
   },
   {
    "duration": 2504,
    "start_time": "2021-12-28T20:56:33.297Z"
   },
   {
    "duration": 248,
    "start_time": "2021-12-28T20:56:35.803Z"
   },
   {
    "duration": 447,
    "start_time": "2021-12-28T20:56:36.060Z"
   },
   {
    "duration": 568,
    "start_time": "2021-12-28T20:56:36.509Z"
   },
   {
    "duration": 6,
    "start_time": "2021-12-28T20:56:37.080Z"
   },
   {
    "duration": 323,
    "start_time": "2021-12-28T20:56:37.088Z"
   },
   {
    "duration": 5,
    "start_time": "2021-12-28T20:56:37.412Z"
   },
   {
    "duration": 443,
    "start_time": "2021-12-28T20:56:37.418Z"
   },
   {
    "duration": 6,
    "start_time": "2021-12-28T20:56:37.863Z"
   },
   {
    "duration": 313,
    "start_time": "2021-12-28T20:56:37.870Z"
   },
   {
    "duration": 7,
    "start_time": "2021-12-28T20:56:38.185Z"
   },
   {
    "duration": 10,
    "start_time": "2021-12-28T20:56:38.193Z"
   },
   {
    "duration": 7,
    "start_time": "2021-12-28T20:56:38.204Z"
   },
   {
    "duration": 5,
    "start_time": "2021-12-28T20:56:38.213Z"
   },
   {
    "duration": 3,
    "start_time": "2021-12-28T20:56:38.223Z"
   },
   {
    "duration": 7,
    "start_time": "2021-12-28T20:56:38.228Z"
   },
   {
    "duration": 3,
    "start_time": "2021-12-28T20:56:38.261Z"
   },
   {
    "duration": 9,
    "start_time": "2021-12-28T20:56:38.265Z"
   },
   {
    "duration": 12,
    "start_time": "2021-12-28T20:56:38.275Z"
   },
   {
    "duration": 8,
    "start_time": "2021-12-28T20:56:38.289Z"
   },
   {
    "duration": 6,
    "start_time": "2021-12-28T20:56:38.298Z"
   },
   {
    "duration": 6,
    "start_time": "2021-12-28T20:56:38.306Z"
   },
   {
    "duration": 8,
    "start_time": "2021-12-28T20:56:38.314Z"
   },
   {
    "duration": 9,
    "start_time": "2021-12-28T20:56:38.323Z"
   }
  ],
  "kernelspec": {
   "display_name": "Python 3",
   "language": "python",
   "name": "python3"
  },
  "language_info": {
   "codemirror_mode": {
    "name": "ipython",
    "version": 3
   },
   "file_extension": ".py",
   "mimetype": "text/x-python",
   "name": "python",
   "nbconvert_exporter": "python",
   "pygments_lexer": "ipython3",
   "version": "3.8.3"
  },
  "latex_envs": {
   "LaTeX_envs_menu_present": true,
   "autoclose": false,
   "autocomplete": true,
   "bibliofile": "biblio.bib",
   "cite_by": "apalike",
   "current_citInitial": 1,
   "eqLabelWithNumbers": true,
   "eqNumInitial": 1,
   "hotkeys": {
    "equation": "Ctrl-E",
    "itemize": "Ctrl-I"
   },
   "labels_anchors": false,
   "latex_user_defs": false,
   "report_style_numbering": false,
   "user_envs_cfg": false
  },
  "toc": {
   "base_numbering": 1,
   "nav_menu": {},
   "number_sections": true,
   "sideBar": true,
   "skip_h1_title": true,
   "title_cell": "Table of Contents",
   "title_sidebar": "Contents",
   "toc_cell": false,
   "toc_position": {
    "height": "calc(100% - 180px)",
    "left": "10px",
    "top": "150px",
    "width": "331.449px"
   },
   "toc_section_display": true,
   "toc_window_display": true
  }
 },
 "nbformat": 4,
 "nbformat_minor": 2
}
